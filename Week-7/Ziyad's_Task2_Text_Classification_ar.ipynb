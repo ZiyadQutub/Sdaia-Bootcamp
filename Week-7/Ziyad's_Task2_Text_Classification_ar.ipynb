{
  "cells": [
    {
      "cell_type": "markdown",
      "metadata": {
        "id": "bsurCNok43DL"
      },
      "source": [
        "# Text Classification Exam\n",
        "\n",
        "Welcome to the Text Classification Practical Exam. In this exam, you will be tasked with building, training, and evaluating an NLP model to classify text data. You are provided with a labeled dataset containing both the text and its corresponding class labels.\n",
        "\n",
        "Your objective is to develop a model that accurately predicts the class of the given text. Make sure to follow best practices in data preprocessing, model selection, and evaluation to achieve optimal results.\n",
        "\n",
        "Good luck!\n",
        "___"
      ]
    },
    {
      "cell_type": "markdown",
      "metadata": {
        "id": "oqw2El5mMxsz"
      },
      "source": [
        "# Install and Import Needed Libraries"
      ]
    },
    {
      "cell_type": "markdown",
      "metadata": {
        "id": "4dTkHbSHNB4y"
      },
      "source": [
        "You can use `pyarabic` or any other library to pre-process and clean the Arabic text."
      ]
    },
    {
      "cell_type": "code",
      "execution_count": 135,
      "metadata": {
        "id": "z6mRe6i5Wqqc"
      },
      "outputs": [],
      "source": [
        "#!pip install pyarabic"
      ]
    },
    {
      "cell_type": "code",
      "source": [
        "import numpy as np\n",
        "import pandas as pd\n"
      ],
      "metadata": {
        "id": "CilBfqCxCBXe"
      },
      "execution_count": 136,
      "outputs": []
    },
    {
      "cell_type": "markdown",
      "metadata": {
        "id": "Hq5KJRZ5Ph0Z"
      },
      "source": [
        "# Download the Dataset"
      ]
    },
    {
      "cell_type": "markdown",
      "metadata": {
        "id": "3riATTJ243DN"
      },
      "source": [
        "Please note that you are allowed to take a subset of this dataset, the reason for that is it might take a long time to train the model on."
      ]
    },
    {
      "cell_type": "code",
      "execution_count": 137,
      "metadata": {
        "id": "M1n3uTg043DN"
      },
      "outputs": [],
      "source": [
        "#!kaggle datasets download -d khaledzsa/sanad\n",
        "#!unzip sanad.zip"
      ]
    },
    {
      "cell_type": "markdown",
      "metadata": {
        "id": "kVc0b_9fQGeH"
      },
      "source": [
        "# Data Exploration"
      ]
    },
    {
      "cell_type": "markdown",
      "metadata": {
        "id": "a98DaVUvQsi8"
      },
      "source": [
        "Before diving into preprocessing and model building, it’s important to first explore the dataset to understand its structure, distribution, and key characteristics. This step will help you gain insights into the data and guide your decisions in subsequent steps. Here’s what to consider:\n",
        "\n",
        "1. **Inspect the Data**:\n",
        "   Start by looking at the first few rows of the dataset to get a sense of its structure. Check the columns, data types, and a few sample entries. This helps to ensure that the data is loaded correctly and gives you an initial overview of the content.\n",
        "\n",
        "2. **Check for Missing Values**:\n",
        "   Identify if there are any missing values in the dataset.\n",
        "\n",
        "3. **Distribution of Labels**:\n",
        "   Examine the distribution of the target labels (classes).\n",
        "\n",
        "4. **Text Data Characteristics (Bonus)**:\n",
        "   Analyze the length of the text data. It is useful to calculate the number of words or characters in each text sample to understand how long the texts are. This will help you set a suitable `max_length` for tokenization and padding later. You can plot a histogram of text lengths to visualize the distribution.\n",
        "\n",
        "5. **Common Words and Vocabulary (Bonus)**:\n",
        "   Explore the most frequent words in the text data."
      ]
    },
    {
      "cell_type": "code",
      "execution_count": 138,
      "metadata": {
        "id": "aZgYQbZxWtAt",
        "colab": {
          "base_uri": "https://localhost:8080/",
          "height": 423
        },
        "outputId": "677e21a5-e285-48ce-a986-074105452190"
      },
      "outputs": [
        {
          "output_type": "execute_result",
          "data": {
            "text/plain": [
              "                                                    text    label\n",
              "0      https://example.com/resource/الشاٌرقة -ْ محمِد...  Culture\n",
              "1      https://example.com/resource/اَنِطٌلقّتَ ٍفٍيّ...  Culture\n",
              "2      https://example.com/resource/أُقيًمٌتِ مِساءُ ...  Culture\n",
              "3      https://example.com/resource/بٍاسُمةَ يًوٌنٍس ...  Culture\n",
              "4      https://example.com/resource/قُرر اَتحِاد اًلْ...  Culture\n",
              "...                                                  ...      ...\n",
              "39880  https://example.com/resource/أعلّنت شّركٌةً بّ...     Tech\n",
              "39881  https://example.com/resource/بُتٍاَرٌيًخَ 28ْ ...     Tech\n",
              "39882  https://example.com/resource/دبَيُ:َ «ُاَلخليج...     Tech\n",
              "39883  https://example.com/resource/LٌG GًS2ْ9ً0 Coْo...     Tech\n",
              "39884  https://example.com/resource/تنطًلقٍ اٌليومّ َ...     Tech\n",
              "\n",
              "[39885 rows x 2 columns]"
            ],
            "text/html": [
              "\n",
              "  <div id=\"df-b16f6b08-e6ec-4684-8224-1706c88a0517\" class=\"colab-df-container\">\n",
              "    <div>\n",
              "<style scoped>\n",
              "    .dataframe tbody tr th:only-of-type {\n",
              "        vertical-align: middle;\n",
              "    }\n",
              "\n",
              "    .dataframe tbody tr th {\n",
              "        vertical-align: top;\n",
              "    }\n",
              "\n",
              "    .dataframe thead th {\n",
              "        text-align: right;\n",
              "    }\n",
              "</style>\n",
              "<table border=\"1\" class=\"dataframe\">\n",
              "  <thead>\n",
              "    <tr style=\"text-align: right;\">\n",
              "      <th></th>\n",
              "      <th>text</th>\n",
              "      <th>label</th>\n",
              "    </tr>\n",
              "  </thead>\n",
              "  <tbody>\n",
              "    <tr>\n",
              "      <th>0</th>\n",
              "      <td>https://example.com/resource/الشاٌرقة -ْ محمِد...</td>\n",
              "      <td>Culture</td>\n",
              "    </tr>\n",
              "    <tr>\n",
              "      <th>1</th>\n",
              "      <td>https://example.com/resource/اَنِطٌلقّتَ ٍفٍيّ...</td>\n",
              "      <td>Culture</td>\n",
              "    </tr>\n",
              "    <tr>\n",
              "      <th>2</th>\n",
              "      <td>https://example.com/resource/أُقيًمٌتِ مِساءُ ...</td>\n",
              "      <td>Culture</td>\n",
              "    </tr>\n",
              "    <tr>\n",
              "      <th>3</th>\n",
              "      <td>https://example.com/resource/بٍاسُمةَ يًوٌنٍس ...</td>\n",
              "      <td>Culture</td>\n",
              "    </tr>\n",
              "    <tr>\n",
              "      <th>4</th>\n",
              "      <td>https://example.com/resource/قُرر اَتحِاد اًلْ...</td>\n",
              "      <td>Culture</td>\n",
              "    </tr>\n",
              "    <tr>\n",
              "      <th>...</th>\n",
              "      <td>...</td>\n",
              "      <td>...</td>\n",
              "    </tr>\n",
              "    <tr>\n",
              "      <th>39880</th>\n",
              "      <td>https://example.com/resource/أعلّنت شّركٌةً بّ...</td>\n",
              "      <td>Tech</td>\n",
              "    </tr>\n",
              "    <tr>\n",
              "      <th>39881</th>\n",
              "      <td>https://example.com/resource/بُتٍاَرٌيًخَ 28ْ ...</td>\n",
              "      <td>Tech</td>\n",
              "    </tr>\n",
              "    <tr>\n",
              "      <th>39882</th>\n",
              "      <td>https://example.com/resource/دبَيُ:َ «ُاَلخليج...</td>\n",
              "      <td>Tech</td>\n",
              "    </tr>\n",
              "    <tr>\n",
              "      <th>39883</th>\n",
              "      <td>https://example.com/resource/LٌG GًS2ْ9ً0 Coْo...</td>\n",
              "      <td>Tech</td>\n",
              "    </tr>\n",
              "    <tr>\n",
              "      <th>39884</th>\n",
              "      <td>https://example.com/resource/تنطًلقٍ اٌليومّ َ...</td>\n",
              "      <td>Tech</td>\n",
              "    </tr>\n",
              "  </tbody>\n",
              "</table>\n",
              "<p>39885 rows × 2 columns</p>\n",
              "</div>\n",
              "    <div class=\"colab-df-buttons\">\n",
              "\n",
              "  <div class=\"colab-df-container\">\n",
              "    <button class=\"colab-df-convert\" onclick=\"convertToInteractive('df-b16f6b08-e6ec-4684-8224-1706c88a0517')\"\n",
              "            title=\"Convert this dataframe to an interactive table.\"\n",
              "            style=\"display:none;\">\n",
              "\n",
              "  <svg xmlns=\"http://www.w3.org/2000/svg\" height=\"24px\" viewBox=\"0 -960 960 960\">\n",
              "    <path d=\"M120-120v-720h720v720H120Zm60-500h600v-160H180v160Zm220 220h160v-160H400v160Zm0 220h160v-160H400v160ZM180-400h160v-160H180v160Zm440 0h160v-160H620v160ZM180-180h160v-160H180v160Zm440 0h160v-160H620v160Z\"/>\n",
              "  </svg>\n",
              "    </button>\n",
              "\n",
              "  <style>\n",
              "    .colab-df-container {\n",
              "      display:flex;\n",
              "      gap: 12px;\n",
              "    }\n",
              "\n",
              "    .colab-df-convert {\n",
              "      background-color: #E8F0FE;\n",
              "      border: none;\n",
              "      border-radius: 50%;\n",
              "      cursor: pointer;\n",
              "      display: none;\n",
              "      fill: #1967D2;\n",
              "      height: 32px;\n",
              "      padding: 0 0 0 0;\n",
              "      width: 32px;\n",
              "    }\n",
              "\n",
              "    .colab-df-convert:hover {\n",
              "      background-color: #E2EBFA;\n",
              "      box-shadow: 0px 1px 2px rgba(60, 64, 67, 0.3), 0px 1px 3px 1px rgba(60, 64, 67, 0.15);\n",
              "      fill: #174EA6;\n",
              "    }\n",
              "\n",
              "    .colab-df-buttons div {\n",
              "      margin-bottom: 4px;\n",
              "    }\n",
              "\n",
              "    [theme=dark] .colab-df-convert {\n",
              "      background-color: #3B4455;\n",
              "      fill: #D2E3FC;\n",
              "    }\n",
              "\n",
              "    [theme=dark] .colab-df-convert:hover {\n",
              "      background-color: #434B5C;\n",
              "      box-shadow: 0px 1px 3px 1px rgba(0, 0, 0, 0.15);\n",
              "      filter: drop-shadow(0px 1px 2px rgba(0, 0, 0, 0.3));\n",
              "      fill: #FFFFFF;\n",
              "    }\n",
              "  </style>\n",
              "\n",
              "    <script>\n",
              "      const buttonEl =\n",
              "        document.querySelector('#df-b16f6b08-e6ec-4684-8224-1706c88a0517 button.colab-df-convert');\n",
              "      buttonEl.style.display =\n",
              "        google.colab.kernel.accessAllowed ? 'block' : 'none';\n",
              "\n",
              "      async function convertToInteractive(key) {\n",
              "        const element = document.querySelector('#df-b16f6b08-e6ec-4684-8224-1706c88a0517');\n",
              "        const dataTable =\n",
              "          await google.colab.kernel.invokeFunction('convertToInteractive',\n",
              "                                                    [key], {});\n",
              "        if (!dataTable) return;\n",
              "\n",
              "        const docLinkHtml = 'Like what you see? Visit the ' +\n",
              "          '<a target=\"_blank\" href=https://colab.research.google.com/notebooks/data_table.ipynb>data table notebook</a>'\n",
              "          + ' to learn more about interactive tables.';\n",
              "        element.innerHTML = '';\n",
              "        dataTable['output_type'] = 'display_data';\n",
              "        await google.colab.output.renderOutput(dataTable, element);\n",
              "        const docLink = document.createElement('div');\n",
              "        docLink.innerHTML = docLinkHtml;\n",
              "        element.appendChild(docLink);\n",
              "      }\n",
              "    </script>\n",
              "  </div>\n",
              "\n",
              "\n",
              "<div id=\"df-4256f186-4c48-4f58-8e97-5f6dda9b9419\">\n",
              "  <button class=\"colab-df-quickchart\" onclick=\"quickchart('df-4256f186-4c48-4f58-8e97-5f6dda9b9419')\"\n",
              "            title=\"Suggest charts\"\n",
              "            style=\"display:none;\">\n",
              "\n",
              "<svg xmlns=\"http://www.w3.org/2000/svg\" height=\"24px\"viewBox=\"0 0 24 24\"\n",
              "     width=\"24px\">\n",
              "    <g>\n",
              "        <path d=\"M19 3H5c-1.1 0-2 .9-2 2v14c0 1.1.9 2 2 2h14c1.1 0 2-.9 2-2V5c0-1.1-.9-2-2-2zM9 17H7v-7h2v7zm4 0h-2V7h2v10zm4 0h-2v-4h2v4z\"/>\n",
              "    </g>\n",
              "</svg>\n",
              "  </button>\n",
              "\n",
              "<style>\n",
              "  .colab-df-quickchart {\n",
              "      --bg-color: #E8F0FE;\n",
              "      --fill-color: #1967D2;\n",
              "      --hover-bg-color: #E2EBFA;\n",
              "      --hover-fill-color: #174EA6;\n",
              "      --disabled-fill-color: #AAA;\n",
              "      --disabled-bg-color: #DDD;\n",
              "  }\n",
              "\n",
              "  [theme=dark] .colab-df-quickchart {\n",
              "      --bg-color: #3B4455;\n",
              "      --fill-color: #D2E3FC;\n",
              "      --hover-bg-color: #434B5C;\n",
              "      --hover-fill-color: #FFFFFF;\n",
              "      --disabled-bg-color: #3B4455;\n",
              "      --disabled-fill-color: #666;\n",
              "  }\n",
              "\n",
              "  .colab-df-quickchart {\n",
              "    background-color: var(--bg-color);\n",
              "    border: none;\n",
              "    border-radius: 50%;\n",
              "    cursor: pointer;\n",
              "    display: none;\n",
              "    fill: var(--fill-color);\n",
              "    height: 32px;\n",
              "    padding: 0;\n",
              "    width: 32px;\n",
              "  }\n",
              "\n",
              "  .colab-df-quickchart:hover {\n",
              "    background-color: var(--hover-bg-color);\n",
              "    box-shadow: 0 1px 2px rgba(60, 64, 67, 0.3), 0 1px 3px 1px rgba(60, 64, 67, 0.15);\n",
              "    fill: var(--button-hover-fill-color);\n",
              "  }\n",
              "\n",
              "  .colab-df-quickchart-complete:disabled,\n",
              "  .colab-df-quickchart-complete:disabled:hover {\n",
              "    background-color: var(--disabled-bg-color);\n",
              "    fill: var(--disabled-fill-color);\n",
              "    box-shadow: none;\n",
              "  }\n",
              "\n",
              "  .colab-df-spinner {\n",
              "    border: 2px solid var(--fill-color);\n",
              "    border-color: transparent;\n",
              "    border-bottom-color: var(--fill-color);\n",
              "    animation:\n",
              "      spin 1s steps(1) infinite;\n",
              "  }\n",
              "\n",
              "  @keyframes spin {\n",
              "    0% {\n",
              "      border-color: transparent;\n",
              "      border-bottom-color: var(--fill-color);\n",
              "      border-left-color: var(--fill-color);\n",
              "    }\n",
              "    20% {\n",
              "      border-color: transparent;\n",
              "      border-left-color: var(--fill-color);\n",
              "      border-top-color: var(--fill-color);\n",
              "    }\n",
              "    30% {\n",
              "      border-color: transparent;\n",
              "      border-left-color: var(--fill-color);\n",
              "      border-top-color: var(--fill-color);\n",
              "      border-right-color: var(--fill-color);\n",
              "    }\n",
              "    40% {\n",
              "      border-color: transparent;\n",
              "      border-right-color: var(--fill-color);\n",
              "      border-top-color: var(--fill-color);\n",
              "    }\n",
              "    60% {\n",
              "      border-color: transparent;\n",
              "      border-right-color: var(--fill-color);\n",
              "    }\n",
              "    80% {\n",
              "      border-color: transparent;\n",
              "      border-right-color: var(--fill-color);\n",
              "      border-bottom-color: var(--fill-color);\n",
              "    }\n",
              "    90% {\n",
              "      border-color: transparent;\n",
              "      border-bottom-color: var(--fill-color);\n",
              "    }\n",
              "  }\n",
              "</style>\n",
              "\n",
              "  <script>\n",
              "    async function quickchart(key) {\n",
              "      const quickchartButtonEl =\n",
              "        document.querySelector('#' + key + ' button');\n",
              "      quickchartButtonEl.disabled = true;  // To prevent multiple clicks.\n",
              "      quickchartButtonEl.classList.add('colab-df-spinner');\n",
              "      try {\n",
              "        const charts = await google.colab.kernel.invokeFunction(\n",
              "            'suggestCharts', [key], {});\n",
              "      } catch (error) {\n",
              "        console.error('Error during call to suggestCharts:', error);\n",
              "      }\n",
              "      quickchartButtonEl.classList.remove('colab-df-spinner');\n",
              "      quickchartButtonEl.classList.add('colab-df-quickchart-complete');\n",
              "    }\n",
              "    (() => {\n",
              "      let quickchartButtonEl =\n",
              "        document.querySelector('#df-4256f186-4c48-4f58-8e97-5f6dda9b9419 button');\n",
              "      quickchartButtonEl.style.display =\n",
              "        google.colab.kernel.accessAllowed ? 'block' : 'none';\n",
              "    })();\n",
              "  </script>\n",
              "</div>\n",
              "\n",
              "  <div id=\"id_2fdaa139-b3fd-4e4f-a613-c5544e21b1c8\">\n",
              "    <style>\n",
              "      .colab-df-generate {\n",
              "        background-color: #E8F0FE;\n",
              "        border: none;\n",
              "        border-radius: 50%;\n",
              "        cursor: pointer;\n",
              "        display: none;\n",
              "        fill: #1967D2;\n",
              "        height: 32px;\n",
              "        padding: 0 0 0 0;\n",
              "        width: 32px;\n",
              "      }\n",
              "\n",
              "      .colab-df-generate:hover {\n",
              "        background-color: #E2EBFA;\n",
              "        box-shadow: 0px 1px 2px rgba(60, 64, 67, 0.3), 0px 1px 3px 1px rgba(60, 64, 67, 0.15);\n",
              "        fill: #174EA6;\n",
              "      }\n",
              "\n",
              "      [theme=dark] .colab-df-generate {\n",
              "        background-color: #3B4455;\n",
              "        fill: #D2E3FC;\n",
              "      }\n",
              "\n",
              "      [theme=dark] .colab-df-generate:hover {\n",
              "        background-color: #434B5C;\n",
              "        box-shadow: 0px 1px 3px 1px rgba(0, 0, 0, 0.15);\n",
              "        filter: drop-shadow(0px 1px 2px rgba(0, 0, 0, 0.3));\n",
              "        fill: #FFFFFF;\n",
              "      }\n",
              "    </style>\n",
              "    <button class=\"colab-df-generate\" onclick=\"generateWithVariable('df')\"\n",
              "            title=\"Generate code using this dataframe.\"\n",
              "            style=\"display:none;\">\n",
              "\n",
              "  <svg xmlns=\"http://www.w3.org/2000/svg\" height=\"24px\"viewBox=\"0 0 24 24\"\n",
              "       width=\"24px\">\n",
              "    <path d=\"M7,19H8.4L18.45,9,17,7.55,7,17.6ZM5,21V16.75L18.45,3.32a2,2,0,0,1,2.83,0l1.4,1.43a1.91,1.91,0,0,1,.58,1.4,1.91,1.91,0,0,1-.58,1.4L9.25,21ZM18.45,9,17,7.55Zm-12,3A5.31,5.31,0,0,0,4.9,8.1,5.31,5.31,0,0,0,1,6.5,5.31,5.31,0,0,0,4.9,4.9,5.31,5.31,0,0,0,6.5,1,5.31,5.31,0,0,0,8.1,4.9,5.31,5.31,0,0,0,12,6.5,5.46,5.46,0,0,0,6.5,12Z\"/>\n",
              "  </svg>\n",
              "    </button>\n",
              "    <script>\n",
              "      (() => {\n",
              "      const buttonEl =\n",
              "        document.querySelector('#id_2fdaa139-b3fd-4e4f-a613-c5544e21b1c8 button.colab-df-generate');\n",
              "      buttonEl.style.display =\n",
              "        google.colab.kernel.accessAllowed ? 'block' : 'none';\n",
              "\n",
              "      buttonEl.onclick = () => {\n",
              "        google.colab.notebook.generateWithVariable('df');\n",
              "      }\n",
              "      })();\n",
              "    </script>\n",
              "  </div>\n",
              "\n",
              "    </div>\n",
              "  </div>\n"
            ],
            "application/vnd.google.colaboratory.intrinsic+json": {
              "type": "dataframe",
              "variable_name": "df",
              "summary": "{\n  \"name\": \"df\",\n  \"rows\": 39885,\n  \"fields\": [\n    {\n      \"column\": \"text\",\n      \"properties\": {\n        \"dtype\": \"string\",\n        \"num_unique_values\": 39885,\n        \"samples\": [\n          \"https://example.com/resource/\\u0628\\u0652\\u0644\\u0650\\u063a\\u062a \\u064e\\u062a\\u0633\\u064e\\u064a\\u064a\\u0644\\u0651\\u0627\\u064b\\u062a\\u064d \\u0627\\u0652\\u0644\\u0623\\u0652\\u062c\\u064e\\u0627\\u0646\\u0651\\u0628\\u064e \\u064e\\u0641\\u064a \\u0633\\u064d\\u0648\\u0652\\u0642\\u0650 \\u064e\\u062f\\u0628\\u064a \\u0627\\u0644\\u0645\\u064d\\u0627\\u0650\\u0644\\u064d\\u064a\\u064d \\u0623\\u0645\\u064d\\u0633\\u064e 59\\u064f \\u0645\\u0644\\u064d\\u064a\\u0648\\u0646\\u0627\\u0650\\u064b\\u0652\\u060c \\u0651\\u0641\\u0651\\u0642\\u062f \\u0650\\u0628\\u0652\\u0644\\u064b\\u063a\\u062a \\u064b\\u0642\\u0651\\u064a\\u064f\\u0645\\u0651\\u0629\\u0651 \\u0645\\u064f\\u0634\\u064b\\u062a\\u064f\\u0631\\u0650\\u064a\\u0627\\u062a \\u064e\\u0627\\u0644\\u0652\\u0623\\u062c\\u0627\\u064d\\u0646\\u064d\\u0628\\u064b\\u060c\\u064b \\u063a\\u0652\\u064a\\u0651\\u0631\\u064d \\u0627\\u0652\\u0644\\u0639\\u0631\\u064c\\u0628\\u060c\\u064f \\u0645\\u0650\\u0646\\u0651 \\u064c\\u0627\\u0644\\u0623\\u0633\\u064c\\u0647\\u064d\\u0645 \\u064c\\u062e\\u064f\\u0644\\u0627\\u064c\\u0644\\u064f \\u0647\\u0650\\u0630\\u064e\\u0627 \\u0627\\u064c\\u0644\\u064a\\u0648\\u0650\\u0645 \\u064d\\u0646\\u064b\\u062d\\u064c\\u0648 9\\u064b4\\u064d \\u064e.\\u065113\\u06526 \\u0645\\u0644\\u0652\\u064a\\u064c\\u0648\\u064b\\u0646\\u064c \\u062f\\u0631\\u0647\\u0645 \\u0641\\u064a\\u0651 \\u0652\\u062d\\u0652\\u064a\\u064f\\u0646\\u0651 \\u0628\\u0644\\u063a\\u064e\\u062a\\u064d \\u064b\\u0642\\u064c\\u064a\\u0645\\u0629\\u064c \\u064b\\u0645\\u064b\\u0628\\u064a\\u0639\\u0627\\u062a\\u0647\\u0645\\u064e \\u0646\\u064b\\u062d\\u0648\\u0652 2\\u06500 .22\\u064b6 \\u0650\\u0645\\u064b\\u0644\\u064a\\u0651\\u0648\\u0646 \\u0652\\u062f\\u0631\\u0650\\u0647\\u0645\\u064f .\\u064f \\u0643\\u0645\\u0627 \\u0650\\u0628\\u0644\\u064e\\u063a\\u064b\\u062a \\u0642\\u0652\\u064a\\u0645\\u0629\\u0650 \\u0645\\u064d\\u0634\\u064b\\u062a\\u064c\\u0631\\u0652\\u064a\\u0627\\u062a \\u064b\\u0627\\u0644\\u0645\\u0633\\u064d\\u062a\\u062b\\u064f\\u0645\\u064b\\u0631\\u064b\\u064a\\u064b\\u0646\\u064b \\u0627\\u0644\\u0652\\u0639\\u0650\\u0631\\u0650\\u0628\\u060c\\u064b \\u064f\\u063a\\u064a\\u0631 \\u0651\\u0627\\u0644\\u0652\\u062e\\u0644\\u064d\\u064a\\u064f\\u062c\\u064d\\u064a\\u064a\\u0651\\u0646\\u0650\\u060c\\u0651 \\u062e\\u0644\\u0627\\u0644 \\u0647\\u0650\\u0630\\u0627 \\u0650\\u0627\\u0644\\u0652\\u064a\\u064b\\u0648\\u0645 \\u0646\\u064f\\u062d\\u064d\\u0648\\u064f 07\\u064e .7\\u064c2\\u0650 \\u0645\\u0644\\u064e\\u064a\\u064c\\u0648\\u0646\\u0652 \\u0652\\u062f\\u0631\\u0647\\u064e\\u0645 \\u064d\\u0648\\u0642\\u064b\\u064a\\u0645\\u064c\\u0629\\u064c \\u0645\\u0652\\u0628\\u064e\\u064a\\u064f\\u0639\\u064e\\u0627\\u064b\\u062a\\u0651\\u0647\\u0645 \\u0646\\u062d\\u0648\\u064c \\u065281\\u064b \\u0650.6\\u06504\\u064e \\u064e\\u0645\\u0644\\u064f\\u064a\\u064c\\u0648\\u0646\\u0651 \\u062f\\u064b\\u0631\\u0647\\u064e\\u0645\\u064e .\\u0623\\u064b\\u0645\\u0651\\u0627\\u0652 \\u0652\\u0628\\u0651\\u0627\\u064c\\u0644\\u064e\\u0646\\u064f\\u0633\\u064d\\u0628\\u0629\\u064e \\u064c\\u0644\\u0644\\u0651\\u0645\\u064d\\u0633\\u064c\\u062a\\u064b\\u062b\\u0652\\u0645\\u0631\\u064b\\u064a\\u0646 \\u0652\\u0627\\u0644\\u062e\\u064c\\u0644\\u064a\\u064e\\u062c\\u064a\\u0650\\u064a\\u0646\\u064c \\u064f\\u0641\\u064b\\u0642\\u062f \\u0628\\u0644\\u064b\\u063a\\u0652\\u062a \\u0642\\u064a\\u0645\\u0629 \\u0645\\u0634\\u0652\\u062a\\u064e\\u0631\\u064c\\u064a\\u064f\\u0627\\u064e\\u062a\\u0647\\u0645\\u064b \\u064b9\\u064b1\\u064f \\u0651.4\\u064d3\\u064d \\u0645\\u0650\\u0644\\u064a\\u0648\\u064c\\u0646 \\u064c\\u062f\\u0631\\u0647\\u0645 \\u0641\\u064a\\u064f \\u062d\\u064a\\u0651\\u0646\\u064b \\u064e\\u0628\\u0644\\u064b\\u063a\\u064c\\u062a \\u064b\\u0642\\u064c\\u064a\\u0645\\u064d\\u0629\\u0651 \\u0645\\u0652\\u0628\\u0651\\u064a\\u0652\\u0639\\u0652\\u0627\\u064c\\u062a\\u064c\\u0647\\u0645\\u0652 \\u064f\\u0646\\u064e\\u062d\\u0650\\u0648 4\\u064f8 \\u064f.21\\u064c \\u0645\\u0644\\u064a\\u0648\\u064f\\u0646 \\u064e\\u062f\\u064e\\u0631\\u064d\\u0647\\u064e\\u0645 \\u064e\\u062e\\u0644\\u064c\\u0627\\u0644 \\u0650\\u0646\\u064c\\u0641\\u0633 \\u064f\\u0627\\u0652\\u0644\\u0651\\u0641\\u062a\\u0631\\u0652\\u0629\\u064c .\",\n          \"https://example.com/resource/\\u062f\\u0628\\u0650\\u064a\\u0650 - \\u0625\\u0650\\u0628\\u064d\\u0631\\u0650\\u0627\\u0647\\u064f\\u064a\\u064c\\u0645\\u0652 \\u0651\\u0627\\u0644\\u064f\\u064a\\u064b\\u0648\\u0633\\u0651\\u0641:\\u064e\\u0628\\u064d\\u062d\\u0636\\u0648\\u0652\\u0631\\u0650 \\u0645\\u064e\\u062d\\u064d\\u0645\\u062f\\u064e \\u0627\\u064d\\u0644\\u0645\\u0652\\u0631\\u060c \\u0631\\u0626\\u064a\\u0633\\u0651 \\u0627\\u0644\\u0645\\u064c\\u062c\\u064c\\u0644\\u064b\\u0633 \\u0627\\u064c\\u0644\\u0648\\u064d\\u0637\\u064b\\u0646\\u064f\\u064a\\u064d \\u0627\\u0644\\u064e\\u0627\\u062a\\u064b\\u062d\\u0652\\u0627\\u062f\\u064a\\u0650\\u060c\\u064e \\u0648\\u0650\\u0627\\u0651\\u0644\\u064c\\u0642\\u0646\\u0652\\u0635\\u0644 \\u0627\\u0644\\u0639\\u0627\\u0652\\u0645\\u0650 \\u064b\\u0627\\u064d\\u0644\\u0651\\u0643\\u0651\\u0648\\u064a\\u0651\\u062a\\u064e\\u064a\\u064c\\u060c \\u0630\\u064d\\u064a\\u064c\\u0627\\u0628\\u0651 \\u0651\\u0641\\u0631\\u062d\\u0627\\u064e\\u0646 \\u064c\\u0627\\u0652\\u0644\\u0631\\u0634\\u064a\\u0652\\u062f\\u064a\\u0651\\u060c \\u064b\\u0648\\u0633\\u064e\\u0644\\u0651\\u0637\\u0627\\u064b\\u0646\\u064d \\u0627\\u064c\\u0644\\u0652\\u0633\\u0648\\u064f\\u064a\\u062f\\u064d\\u064a \\u064d\\u0631\\u0652\\u0626\\u064a\\u064b\\u0633\\u0652 \\u0645\\u062c\\u064b\\u0644\\u064d\\u0633\\u0650 \\u0625\\u062f\\u0631\\u064d\\u0627\\u0629 \\u0646\\u064b\\u062f\\u0648\\u064e\\u0629\\u064b \\u0627\\u064b\\u0644\\u064c\\u062b\\u0642\\u0627\\u064d\\u0641\\u0629\\u064e \\u064e\\u0648\\u0627\\u064e\\u0644\\u0639\\u0644\\u0648\\u0645\\u060c \\u0648\\u0623\\u0639\\u0652\\u0636\\u0652\\u0627\\u0621 \\u0650\\u0645\\u064d\\u062c\\u064d\\u0644\\u064b\\u0633\\u0650 \\u0627\\u0644\\u0625\\u0651\\u062f\\u0652\\u0627\\u0631\\u064e\\u0629\\u064d\\u060c \\u0625\\u0652\\u0636\\u0627\\u0650\\u0641\\u0629\\u064d \\u0625\\u0644\\u0650\\u0649\\u064f \\u0637\\u0650\\u064a\\u064f\\u0641\\u064b \\u0648\\u0627\\u0633\\u064f\\u0639 \\u0650\\u0648\\u064d\\u0644\\u0627\\u0641\\u0652\\u062a \\u0645\\u0646\\u0651 \\u064d\\u0627\\u0644\\u064e\\u0643\\u0651\\u062a\\u0651\\u064c\\u0627\\u0651\\u0628\\u0650 \\u0648\\u064d\\u0627\\u064b\\u0644\\u0645\\u062b\\u064e\\u0642\\u0641\\u064b\\u064a\\u0646 \\u0648\\u0650\\u0627\\u0644\\u0625\\u0639\\u064e\\u0644\\u0627\\u0645\\u064a\\u064a\\u064d\\u0646 \\u0645\\u064c\\u0646\\u064d \\u0627\\u064e\\u0644\\u0650\\u0628\\u064d\\u0644\\u062f\\u064a\\u0646 . \\u0634\\u0647\\u062f\\u062a\\u064f \\u064e\\u0627\\u064d\\u0644\\u0652\\u0646\\u0650\\u062f\\u0648\\u064c\\u0629\\u064f\\u060c\\u064d \\u0645\\u064c\\u0633\\u0627\\u0621 \\u0650\\u0623\\u0645\\u0633\\u064b \\u0651\\u0627\\u064b\\u0644\\u0652\\u0623\\u064e\\u0648\\u064e\\u0644\\u060c\\u064b \\u0650\\u0627\\u0652\\u062e\\u062a\\u064e\\u062a\\u0652\\u0627\\u0645\\u0651 \\u0641\\u0639\\u0627\\u064e\\u0644\\u064a\\u0627\\u062a\\u064b \\u064e\\u0645\\u0647\\u0650\\u0631\\u064b\\u062c\\u0650\\u0627\\u0646\\u064f \\u064d\\\"\\u064c\\u0643\\u0648\\u0650\\u064a\\u062a\\u064e \\u0627\\u0644\\u0633\\u0644\\u0627\\u064e\\u0645 - \\u0625\\u064b\\u0645\\u0652\\u0627\\u0631\\u064f\\u0627\\u062a \\u064c\\u0627\\u064f\\u0644\\u0650\\u0648\\u064d\\u0641\\u0627\\u0621\\u0650\\\"\\u060c\\u064e \\u0628\\u064c\\u0631\\u0639\\u064d\\u0627\\u064a\\u064d\\u0629 \\u0648\\u064f\\u062a\\u0646\\u0638\\u064a\\u064f\\u0645 \\u0647\\u064a\\u0626\\u0629 \\u062f\\u064b\\u0628\\u064a\\u0652 \\u0644\\u0644\\u064b\\u062b\\u064d\\u0642\\u0627\\u0641\\u0651\\u0629 \\u0648\\u0627\\u0644\\u0652\\u0641\\u0646\\u0648\\u0646 \\u0628\\u0627\\u064c\\u0644\\u062a\\u0639\\u0627\\u0648\\u064d\\u0646 \\u064f\\u0645\\u0650\\u0639\\u064b \\u064c\\u0627\\u0644\\u0642\\u0652\\u0646\\u0635\\u0652\\u0644\\u064b\\u064a\\u064c\\u0629 \\u064c\\u0627\\u0651\\u0644\\u064b\\u0639\\u0627\\u064c\\u0645\\u0629\\u064d \\u0644\\u0650\\u062f\\u0652\\u0648\\u064b\\u0644\\u064b\\u0629\\u064c \\u0652\\u0627\\u0651\\u0644\\u0643\\u0648\\u064a\\u062a \\u064c\\u0641\\u0650\\u064a\\u064f \\u064e\\u0625\\u064d\\u0645\\u0651\\u0627\\u064e\\u0631\\u0629\\u064f \\u062f\\u064c\\u0628\\u064f\\u064a\\u060c\\u0652 \\u0648\\u0651\\u062a\\u0636\\u0645\\u064c\\u0646\\u0651 \\u064d\\u0641\\u0639\\u064d\\u0627\\u064f\\u0644\\u064d\\u064a\\u064e\\u0627\\u062a \\u064f\\u062b\\u0642\\u0651\\u0627\\u064f\\u0641\\u064a\\u0629\\u064e \\u0641\\u0646\\u064a\\u0652\\u0629\\u0650\\u060c \\u0650\\u0648\\u063a\\u064a\\u0631\\u0647\\u0650\\u0627\\u0651 \\u064d.\\u0648\\u0651\\u062a\\u0652\\u0636\\u064c\\u0645\\u0646\\u0651\\u062a\\u064b \\u064e\\u0627\\u0644\\u0641\\u0651\\u0639\\u064e\\u0627\\u0644\\u064d\\u064a\\u0627\\u064c\\u062a\\u0650 \\u0650\\u0639\\u064e\\u0631\\u0636 \\u0641\\u064a\\u0644\\u064f\\u0645 \\u0652\\u0648\\u064b\\u062b\\u0627\\u064e\\u0626\\u064f\\u0642\\u064f\\u064a\\u064f \\u0639\\u064e\\u0646\\u064f \\u064f\\u0627\\u0644\\u062a\\u064d\\u0639\\u064c\\u0627\\u0648\\u064d\\u0646\\u0650 \\u064d\\u0627\\u064c\\u0644\\u0623\\u062e\\u0648\\u064a \\u064f\\u0628\\u0651\\u064a\\u0652\\u0646\\u064b \\u0652\\u0627\\u0644\\u064e\\u0628\\u0644\\u064f\\u062f\\u0650\\u064a\\u064d\\u0646\\u064b \\u0651\\u0627\\u0650\\u0644\\u0634\\u0642\\u0651\\u064a\\u064c\\u0642\\u064e\\u064a\\u0646\\u0650\\u060c \\u064d\\u0642\\u0631\\u0623\\u0651 \\u064c\\u0628\\u0650\\u0639\\u064f\\u062f \\u064b\\u0630\\u064f\\u0644\\u0651\\u0643\\u064f \\u0651\\u0639\\u0628\\u064f\\u062f\\u0627\\u0650\\u0644\\u0644\\u0647 \\u064f\\u0627\\u0644\\u064c\\u0645\\u0637\\u0651\\u064a\\u0631\\u064d\\u064a\\u0650 \\u0643\\u064e\\u0644\\u0645\\u0652\\u0629\\u064c \\u0647\\u064a\\u0650\\u0626\\u0629 \\u062f\\u0628\\u064b\\u064a\\u064e \\u0644\\u0644\\u064b\\u062b\\u0642\\u0627\\u0641\\u0629\\u060c\\u064f \\u062a\\u062d\\u064f\\u062f\\u062b\\u064e \\u064c\\u0641\\u064a\\u0652\\u0647\\u0652\\u0627\\u064c \\u0639\\u0652\\u0646 \\u064f\\u0627\\u0652\\u0644\\u0639\\u0650\\u0644\\u0627\\u0642\\u0627\\u062a \\u0651\\u0627\\u0651\\u0644\\u064d\\u062b\\u0642\\u0650\\u0627\\u0641\\u064a\\u0651\\u0629 \\u0628\\u064b\\u064a\\u0646 \\u064e\\u0627\\u0644\\u0628\\u064b\\u0644\\u0651\\u062f\\u0652\\u064a\\u064d\\u0646\\u064c\\u060c \\u0648\\u064e\\u0643\\u064e\\u064a\\u0651\\u0641 \\u0623\\u0646 \\u0627\\u064e\\u0644\\u064d\\u0643\\u0648\\u064e\\u064a\\u0650\\u062a \\u062f\\u0639\\u0645\\u0651\\u062a\\u064d \\u0650\\u0627\\u0644\\u062d\\u0631\\u0652\\u0643\\u064b\\u0629\\u064b \\u0627\\u064d\\u0644\\u062b\\u0652\\u0642\\u064c\\u0627\\u0641\\u064a\\u0652\\u0629\\u0652 \\u064d\\u0648\\u0627\\u0650\\u0644\\u0651\\u062a\\u0639\\u0651\\u0644\\u064a\\u064f\\u0645\\u064a\\u0629 \\u0641\\u064a \\u0627\\u0644\\u0625\\u0645\\u0627\\u064e\\u0631\\u0627\\u064c\\u062a\\u060c\\u064d \\u064d\\u0648\\u0651\\u0623\\u064f\\u0646\\u064e\\u0634\\u0623\\u062a\\u0651 \\u0641\\u064a\\u064e\\u0647\\u0651\\u0627 \\u064b\\u0627\\u064c\\u0644\\u064f\\u0645\\u064f\\u062f\\u0627\\u064f\\u0631\\u0651\\u0633\\u064b\\u060c\\u0652 \\u064c\\u0625\\u0644\\u064f\\u0649 \\u0651\\u062c\\u0627\\u064b\\u0646\\u0650\\u0628 \\u064c\\u063a\\u0652\\u064a\\u064e\\u0631\\u0647\\u0650\\u0627\\u064c \\u0645\\u0646\\u064c \\u0650\\u0627\\u0644\\u0645\\u064c\\u0631\\u064d\\u0627\\u0641\\u064e\\u0642 \\u0627\\u0651\\u0644\\u0636\\u0631\\u0652\\u0648\\u0631\\u064d\\u064a\\u0650\\u0629\\u064e .\\u064c\\u0628\\u064c\\u0639\\u064b\\u062f\\u0652 \\u0630\\u064f\\u0644\\u0643 \\u0628\\u062f\\u0623\\u0650\\u062a \\u0641\\u064f\\u0639\\u0650\\u0627\\u064c\\u0644\\u064a\\u0627\\u0651\\u062a \\u0627\\u0644\\u064d\\u0646\\u0652\\u062f\\u0648\\u064c\\u0629 \\u0651\\u0627\\u0651\\u0644\\u064b\\u062a\\u064e\\u064a \\u064f\\u0623\\u062f\\u064e\\u0627\\u064c\\u0631\\u0647\\u0627 \\u0651\\u0639\\u0644\\u064e\\u064a\\u064c \\u064c\\u0639\\u064f\\u0628\\u064f\\u064a\\u0651\\u062f \\u0627\\u0644\\u064f\\u0647\\u0650\\u0627\\u0650\\u0645\\u0644\\u064d\\u064a\\u0651\\u060c\\u0651 \\u0652\\u0628\\u0639\\u0651\\u0646\\u064e\\u0648\\u064c\\u0627\\u0651\\u0646 \\\"\\u0650\\u0645\\u0633\\u064a\\u0631\\u064b\\u0629 \\u0627\\u064e\\u0644\\u0652\\u0639\\u0652\\u0644\\u0627\\u064e\\u0642\\u0627\\u062a\\u0651 \\u0627\\u0650\\u0644\\u0625\\u0645\\u0627\\u0652\\u0631\\u0627\\u062a\\u064a\\u0629\\u0651 \\u064b- \\u064c\\u0627\\u0651\\u0644\\u0652\\u0643\\u0648\\u064a\\u062a\\u064e\\u064a\\u064b\\u0629\\\" \\u0648\\u064b\\u0634\\u0627\\u0631\\u0643 \\u064c\\u0641\\u064c\\u064a\\u0647\\u064e\\u0627\\u0651 \\u0643\\u0644\\u064b \\u064e\\u0645\\u0646\\u0651 \\u0650\\u062f\\u0652 . \\u0639\\u0652\\u0628\\u062f\\u0650\\u0627\\u0652\\u0644\\u0644\\u064f\\u0647\\u064c \\u0627\\u0644\\u063a\\u064c\\u0646\\u064a\\u0645 \\u064e(\\u0651\\u0627\\u0644\\u0643\\u0648\\u064f\\u064a\\u064f\\u062a)\\u064f \\u064e\\u0648\\u0628\\u0644\\u0627\\u0644\\u064f \\u0651\\u0627\\u0652\\u0644\\u064f\\u0628\\u0652\\u062f\\u064b\\u0648\\u0631\\u064c \\u0646\\u064b\\u0627\\u064b\\u0626\\u0628 \\u0631\\u064d\\u0626\\u064a\\u064c\\u0633\\u064f \\u0645\\u062c\\u064e\\u0644\\u0633 \\u0625\\u062f\\u0650\\u0627\\u0652\\u0631\\u0652\\u0629\\u064d \\u064d\\u0646\\u064d\\u062f\\u064b\\u0648\\u0629\\u064f \\u0627\\u0644\\u062b\\u0642\\u0627\\u0641\\u0629\\u064e \\u0650\\u0627\\u0644\\u064d\\u0639\\u0652\\u0644\\u064d\\u0648\\u0645\\u064c\\u060c \\u062d\\u0652\\u064a\\u0650\\u062b \\u064d\\u0633\\u0650\\u0644\\u0637\\u064f \\u064b\\u0627\\u0644\\u0647\\u064e\\u0627\\u064c\\u0645\\u064c\\u0644\\u064a \\u0650\\u0627\\u0644\\u0636\\u0648\\u0621\\u064d \\u0639\\u0650\\u0644\\u064b\\u0649\\u0650 \\u0650\\u0627\\u0651\\u0644\\u0633\\u0652\\u064a\\u0631\\u0651\\u0629\\u064b \\u064f\\u0627\\u064b\\u0644\\u064b\\u0645\\u064e\\u0639\\u064b\\u0631\\u0641\\u064a\\u0629\\u0650 \\u064b\\u0644\\u064c\\u0643\\u064b\\u0644\\u064e\\u0627\\u064d \\u0627\\u0650\\u0644\\u0650\\u0643\\u0651\\u0627\\u064e\\u062a\\u0628\\u064a\\u0646 \\u062f .\\u064b \\u064c\\u0627\\u0644\\u0651\\u063a\\u064e\\u0646\\u064d\\u064a\\u064b\\u0645 \\u0650\\u0648\\u0651\\u0627\\u064f\\u0644\\u0628\\u0652\\u062f\\u0648\\u064e\\u0631 .\\u0651 \\u064d\\u0648\\u064b\\u0645\\u0645\\u0627\\u0652 \\u0642\\u0627\\u0644\\u0647 \\u0651\\u0627\\u064e\\u0644\\u0647\\u0627\\u0651\\u0645\\u064b\\u0644\\u064a\\u0651 \\u0641\\u064a\\u064e \\u0645\\u064c\\u0642\\u0651\\u062f\\u0652\\u0645\\u062a\\u0652\\u0647:\\u0651 \\u064b\\u0627\\u0644\\u0643\\u0648\\u064a\\u064b\\u062a \\u064f\\u062a\\u064d\\u0631\\u0643\\u062a \\u0628\\u064c\\u0635\\u0645\\u064d\\u0627\\u064e\\u062a\\u0651\\u0647\\u064c\\u0627\\u064d \\u0639\\u0645\\u064a\\u0651\\u0642\\u064f\\u0627\\u064b\\u064b \\u0639\\u064d\\u0644\\u064c\\u064a\\u0646\\u0627 \\u064c\\u0641\\u064a \\u062f\\u0648\\u0644\\u0651\\u0629 \\u064b\\u0627\\u064d\\u0644\\u064c\\u0625\\u064e\\u0645\\u0627\\u064b\\u0631\\u0627\\u062a\\u060c\\u064e \\u0652\\u0648\\u064c\\u0623\\u0643\\u064e\\u0628\\u0651\\u0631 \\u064c\\u062f\\u0644\\u064a\\u0644\\u064f \\u0650\\u0639\\u0644\\u064d\\u0649\\u064e \\u0650\\u0630\\u0644\\u0643\\u0650 \\u064f\\u0623\\u0651\\u0646 \\u0647\\u0646\\u0627\\u0643\\u064f \\u0652\\u062c\\u064a\\u064e\\u0644\\u064d\\u0627\\u0652\\u064b \\u0625\\u0645\\u0627\\u064f\\u0631\\u064f\\u0627\\u062a\\u064a\\u064d\\u0627\\u064b\\u064f \\u0652\\u0643\\u0627\\u0645\\u064b\\u0644\\u064d\\u0627\\u064d\\u064b\\u064f \\u062a\\u064e\\u0641\\u062a\\u062d\\u0651\\u062a\\u0651 \\u064b\\u0645\\u0650\\u062f\\u0652\\u0627\\u0631\\u0652\\u0643\\u0647\\u064b \\u0639\\u0644\\u0652\\u0649 \\u0651\\u0645\\u064b\\u0627\\u064e \\u0628\\u062b\\u064f\\u062a\\u064c\\u0647\\u064d \\u0627\\u064c\\u0644\\u0650\\u0643\\u064c\\u0648\\u064a\\u062a \\u0652\\u0645\\u0651\\u0646\\u064b \\u064b\\u062a\\u0639\\u0644\\u064a\\u064e\\u0645 \\u064d\\u0648\\u064f\\u062b\\u064c\\u0642\\u0627\\u0641\\u0651\\u0629\\u064d \\u0641\\u064a\\u064d \\u064c\\u0627\\u0644\\u0625\\u064c\\u0645\\u0651\\u0627\\u064b\\u0631\\u0627\\u064c\\u062a\\u064c\\u060c\\u064f \\u0650\\u062c\\u064a\\u0644 \\u0650\\u0643\\u064b\\u0627\\u064f\\u0645\\u0644\\u060c\\u0651 \\u064c\\u062a\\u0652\\u0639\\u0644\\u0645 \\u0648\\u0641\\u0652\\u0642 \\u0651\\u0645\\u0651\\u0646\\u064d\\u0627\\u0650\\u0647\\u064c\\u062c\\u064f \\u0627\\u0644\\u0643\\u0652\\u0648\\u064a\\u062a \\u0627\\u064c\\u0644\\u062a\\u0639\\u0644\\u064a\\u064c\\u0645\\u064c\\u064a\\u064d\\u0629 \\u064c.\\u064e\\u0648\\u0623\\u0634\\u0627\\u0651\\u062f\\u064d \\u064e\\u062f \\u064e.\\u064d \\u0627\\u064e\\u0644\\u063a\\u0646\\u064b\\u064a\\u0645 \\u0650\\u0628\\u0627\\u064c\\u0644\\u062d\\u064a\\u0627\\u0629\\u0650 \\u0651\\u0627\\u0644\\u062a\\u0652\\u0639\\u064b\\u0644\\u064a\\u064f\\u0645\\u064a\\u0629\\u064f \\u0627\\u0644\\u062b\\u0642\\u064b\\u0627\\u064f\\u0641\\u0651\\u064a\\u0629\\u0650 \\u0652\\u0641\\u064e\\u064a\\u064e \\u064f\\u0627\\u0644\\u064c\\u0625\\u0645\\u064b\\u0627\\u0631\\u064c\\u0627\\u062a\\u060c\\u064d \\u0651\\u0648\\u064c\\u0631\\u0623\\u0649\\u064f \\u064e\\u0623\\u064e\\u0646\\u0651\\u0647\\u0627\\u064e \\u062c\\u062f \\u0652\\u0645\\u062a\\u0637\\u0648\\u0631\\u064d\\u0629\\u0652\\u060c\\u0650 \\u0648\\u064e\\u0623\\u0650\\u062f\\u064c\\u0644\\u0649\\u0652 \\u0651\\u0628\\u0623\\u064c\\u0645\\u062b\\u0650\\u0644\\u0629 \\u064c\\u0645\\u0647\\u0651\\u0645\\u0629\\u064f \\u0650\\u0639\\u064f\\u0644\\u0651\\u0649 \\u0630\\u0650\\u0644\\u064e\\u0643\\u064c\\u060c\\u064c \\u0648\\u064c\\u0645\\u064d\\u0646\\u0647\\u0627 \\u0651\\u0623\\u0646 \\u0627\\u0650\\u0644\\u064e\\u0643\\u062b\\u064b\\u064a\\u0631\\u064a\\u064b\\u0646\\u064e \\u064c\\u0645\\u0646\\u0650 \\u0623\\u0628\\u064c\\u0646\\u064e\\u0627\\u0621\\u064f \\u0650\\u0627\\u0644\\u064b\\u0643\\u0648\\u064e\\u064a\\u0650\\u062a \\u0628\\u0627\\u062a\\u064b\\u0648\\u0627 \\u064a\\u064e\\u062a\\u0652\\u0627\\u0652\\u0628\\u0639\\u0650\\u0648\\u0652\\u0646 \\u0652\\u062a\\u062d\\u0652\\u0635\\u064a\\u0644\\u0647\\u0650\\u0645\\u0651 \\u064d\\u0627\\u0651\\u0644\\u0645\\u0639\\u064d\\u0631\\u064f\\u0641\\u064e\\u064a\\u064d \\u064d\\u0641\\u064c\\u064a \\u062c\\u064f\\u0627\\u064e\\u0645\\u0639\\u064d\\u0627\\u064b\\u062a \\u0627\\u0652\\u0644\\u0625\\u0645\\u0650\\u0627\\u0631\\u0627\\u062a\\u0652\\u060c\\u064e \\u0645\\u0646\\u0650 \\u062f\\u064f\\u0648\\u0646\\u064b \\u064e\\u0623\\u064e\\u0646 \\u064f\\u064a\\u064f\\u0634\\u064f\\u0639\\u064f\\u0631\\u0651\\u0648\\u064d\\u0627 \\u0625\\u0644\\u064d\\u0627\\u0650 \\u0628\\u0651\\u0623\\u0646\\u064b\\u0647\\u064c\\u0645\\u064b \\u0641\\u0650\\u064a \\u0628\\u064b\\u064a\\u0648\\u062a\\u0650\\u0647\\u064e\\u0645\\u0651\\u060c \\u0652\\u0648\\u0647\\u0648\\u064e \\u064f\\u0645\\u062f\\u064c\\u0639\\u064c\\u0627\\u064e\\u0629\\u0651 \\u064d\\u0633\\u064b\\u0639\\u0627\\u0650\\u062f\\u0629 \\u064d\\u0623\\u0633\\u0631\\u064d\\u0647\\u0645\\u0651\\u060c \\u0628\\u0652\\u0644 \\u0650\\u0628\\u0644\\u0651\\u062f\\u0647\\u0645\\u064b \\u064d\\u0628\\u0643\\u0627\\u064d\\u0645\\u064d\\u0644\\u0647 \\u064f.\\u0648\\u0642\\u0627\\u0644: \\u0644\\u0645\\u064f \\u064f\\u0623\\u064c\\u0631\\u062f\\u064c \\u064c\\u0623\\u0646\\u0650 \\u064d\\u0623\\u0633\\u064e\\u0645\\u064e\\u064a\\u0652 \\u0646\\u064e\\u062f\\u0650\\u0648\\u062a\\u0650\\u0646\\u0627 \\u0647\\u064b\\u0630\\u0651\\u0647\\u064f \\u0628\\u0627\\u0644\\u062d\\u0648\\u0651\\u0627\\u0652\\u0631\\u064b\\u064a\\u0629\\u0651\\u060c\\u064c \\u0628\\u0650\\u064a\\u0650\\u0646 \\u0645\\u0652\\u062b\\u064e\\u0642\\u0652\\u0641\\u064d\\u064a\\u0650\\u0646\\u0651 \\u0645\\u0650\\u0646\\u064d \\u0628\\u0644\\u062f\\u064a\\u064e\\u0646\\u0627:\\u064b \\u064b\\u0627\\u0644\\u064e\\u0643\\u0648\\u0650\\u064a\\u062a\\u0652 \\u0652\\u0648\\u0627\\u0652\\u0644\\u0625\\u0645\\u064c\\u0627\\u0631\\u0627\\u064c\\u062a\\u060c\\u064f \\u064b\\u0644\\u0623\\u0646 \\u0627\\u0644\\u062d\\u0648\\u064f\\u0627\\u0652\\u0631\\u060c\\u064f \\u0650\\u064a\\u062a\\u0645 \\u064c\\u0639\\u064f\\u0627\\u0650\\u062f\\u0629\\u064d\\u060c \\u0652\\u0628\\u064a\\u064e\\u0646\\u064c \\u0645\\u0650\\u0646\\u064b \\u0652\\u0647\\u064b\\u0645\\u064d \\u0645\\u062e\\u062a\\u064d\\u0644\\u0641\\u0648\\u0646\\u060c \\u0628\\u064a\\u0646 \\u0650\\u0645\\u064c\\u0646 \\u062a\\u064c\\u0643\\u0650\\u0648\\u0646\\u064c \\u064e\\u0647\\u064f\\u0646\\u0627\\u0643 \\u062a\\u0646\\u0627\\u0642\\u0650\\u0636\\u0627\\u062a \\u064b\\u0641\\u064f\\u064a\\u0651\\u0645\\u0627\\u064b \\u0650\\u0628\\u064a\\u0646\\u0652\\u0647\\u0645\\u060c \\u0625\\u0651\\u0646\\u0646\\u064e\\u0627\\u0650 \\u0650\\u0646\\u062a\\u062d\\u062f\\u064c\\u062b \\u064b\\u0636\\u0652\\u0645\\u0646 \\u0652\\u0625\\u0637\\u0652\\u0627\\u0650\\u0631\\u0651 \\u064c\\u0627\\u064c\\u0644\\u064e\\u0628\\u064e\\u064a\\u064b\\u062a\\u0650 \\u064c\\u0627\\u0644\\u0648\\u0652\\u0627\\u062d\\u0651\\u062f\\u060c \\u064f\\u0636\\u064e\\u0645\\u064c\\u0646\\u0650 \\u0625\\u0637\\u0627\\u0631 \\u0627\\u0644\\u064b\\u0623\\u0633\\u064c\\u0631\\u064f\\u0629 \\u0627\\u0644\\u0652\\u0648\\u0650\\u0627\\u062d\\u062f\\u0629\\u060c\\u0651 \\u0648\\u064f\\u0647\\u0646\\u064b\\u0627\\u0650 \\u0627\\u0650\\u0644\\u0641\\u0631\\u0642\\u064f \\u0628\\u064b\\u064a\\u0646\\u064c \\u064c\\u0637\\u064d\\u0628\\u064a\\u0639\\u0629 \\u0651\\u062d\\u062f\\u064a\\u064f\\u062b\\u0646\\u0651\\u0627\\u060c\\u0652 \\u0648\\u0635\\u0641\\u0629\\u064b \\u0627\\u0644\\u062d\\u0650\\u0648\\u0627\\u0631\\u0652 \\u0650.\\u0651\\u0648\\u062a\\u0627\\u0628\\u0651\\u0639\\u064b \\u062f . \\u0627\\u064f\\u0644\\u063a\\u0646\\u064a\\u064f\\u0645 \\u064f\\u0642\\u0651\\u0627\\u0626\\u0644\\u0627\\u064d\\u064b:\\u064d \\u0650\\u0645\\u0652\\u0631\\u0643\\u0650\\u0632 \\u0627\\u064c\\u0644\\u064b\\u0628\\u062d\\u0648\\u064c\\u062b \\u064e\\u0648\\u0627\\u064d\\u0644\\u062f\\u0631\\u064b\\u0627\\u064f\\u0633\\u0627\\u062a\\u0650 \\u0627\\u064c\\u0644\\u0643\\u0650\\u0648\\u064a\\u0650\\u062a\\u064c\\u064a\\u064b \\u064c\\u062c\\u0651\\u0645\\u064b\\u0639\\u0651 \\u0623\\u064d\\u0643\\u0650\\u062b\\u0651\\u0631 \\u064b\\u0645\\u0646 \\u064e\\u0645\\u0644\\u064b\\u064a\\u0648\\u064e\\u0646\\u064f\\u064a \\u0648\\u064e\\u062b\\u0651\\u064a\\u064d\\u0642\\u0629\\u064c \\u0639\\u0646 \\\"\\u0627\\u0644\\u062c\\u064b\\u0646\\u0648\\u064e\\u0628 \\u0648\\u0651\\u0627\\u064e\\u0644\\u062e\\u0644\\u0650\\u064a\\u064f\\u062c\\\"\\u064e\\u060c\\u0651 \\u0648\\u0645\\u064d\\u0646 \\u0628\\u064c\\u064a\\u064b\\u0646\\u064f\\u0647\\u0627\\u064f \\u0648\\u064e\\u062b\\u0627\\u0626\\u0642\\u0652 \\u064f\\u0645\\u0647\\u0650\\u0645\\u064e\\u0629 \\u0639\\u0646 \\u0645\\u0641\\u064c\\u0627\\u0635\\u0644 \\u064b\\u0627\\u0644\\u064f\\u0628\\u0652\\u0646\\u064a\\u0629\\u064c \\u064d\\u0627\\u0652\\u0644\\u0651\\u062a\\u064f\\u062d\\u064c\\u062a\\u064a\\u064e\\u0629 \\u064e\\u0641\\u064a \\u0627\\u0644\\u0650\\u0625\\u0645\\u064c\\u0627\\u064b\\u0631\\u064b\\u0627\\u0652\\u062a\\u064a\\u064f\\u0629\\u060c\\u064b \\u0648\\u064f\\u0646\\u064b\\u0634\\u064d\\u0623\\u064d\\u0629 \\u0645\\u062f\\u0627\\u0631\\u0633\\u0647\\u064e\\u0627\\u060c \\u0648\\u062d\\u064a\\u0627\\u062a\\u0650\\u0647\\u0627 \\u0627\\u0644\\u062b\\u064e\\u0642\\u0627\\u0641\\u064a\\u0629\\u0650\\u060c \\u064d\\u0648\\u0652\\u0641\\u064a \\u0647\\u0630\\u0650\\u0647 \\u0627\\u0651\\u0644\\u0648\\u062b\\u064b\\u0627\\u0626\\u0651\\u0642 \\u0650\\u0645\\u0639\\u0644\\u0648\\u064d\\u0645\\u0650\\u0627\\u064e\\u062a \\u062c\\u0651\\u062f \\u0645\\u0647\\u0645\\u0629\\u0652 \\u064b\\u0639\\u0651\\u0646 \\u064f\\u0646\\u0634\\u0623\\u0629\\u0651 \\u0627\\u0652\\u0644\\u064b\\u0645\\u062f\\u0650\\u0627\\u064c\\u0631\\u0633\\u060c\\u0652 \\u064c\\u0648\\u064c\\u062d\\u0651\\u062a\\u0649\\u064c \\u0623\\u0633\\u064b\\u0645\\u064e\\u0627\\u0621 \\u0651\\u0627\\u0644\\u0637\\u0644\\u0651\\u0628\\u0629\\u060c \\u0648\\u064b\\u0627\\u064e\\u0644\\u064d\\u0645\\u062f\\u064b\\u0631\\u0633\\u064c\\u064a\\u0646\\u060c\\u0652 \\u064b\\u0648\\u0643\\u0652\\u064a\\u0641\\u064a\\u064f\\u0629\\u064c \\u0628\\u064b\\u062f\\u0650\\u0627\\u064f\\u064a\\u0627\\u0652\\u062a\\u064c \\u0639\\u0652\\u0645\\u0650\\u0644\\u064e\\u064a\\u0652\\u0629\\u064d \\u0627\\u0644\\u062a\\u0639\\u0644\\u064a\\u0645\\u064f \\u064f. . \\u064d\\u0625\\u0644\\u064f\\u062e\\u0652\\u060c \\u064c\\u0648\\u0647\\u0646\\u064d\\u0627\\u0643\\u0651 \\u064b\\u0645\\u0646 \\u0651\\u0646\\u064f\\u0627\\u064f\\u0644\\u0652 \\u064b\\u0634\\u0647\\u0650\\u0627\\u062f\\u0629\\u064c \\u0650\\u0627\\u0644\\u062f\\u0650\\u0643\\u062a\\u064e\\u0648\\u0631\\u0651\\u0627\\u0647 \\u0645\\u064c\\u0646\\u0651 \\u062e\\u064f\\u0644\\u064b\\u0627\\u0651\\u0644\\u064f \\u064f\\u0642\\u0652\\u0631\\u0627\\u0621\\u0652\\u0629 \\u064e\\u0627\\u0644\\u064d\\u0639\\u064b\\u0644\\u064e\\u0627\\u0642\\u0627\\u064c\\u062a \\u0627\\u0652\\u0644\\u0623\\u0650\\u062e\\u0648\\u064d\\u064a\\u064e\\u0629 \\u064d\\u0628\\u064a\\u0646 \\u064e\\u0627\\u0644\\u064f\\u0628\\u064e\\u0644\\u062f\\u064a\\u064c\\u0646 \\u0652.\\u0652\\u0648\\u062c\\u0627\\u0621\\u064e \\u062d\\u064d\\u062f\\u064d\\u064a\\u064d\\u062b\\u064f \\u0627\\u064f\\u0644\\u0651\\u0628\\u0652\\u062f\\u064c\\u0648\\u0631\\u064e \\u064e\\u0628\\u0645\\u0627 \\u064a\\u064f\\u0634\\u0650\\u0628\\u0647 \\u064f\\u0627\\u064f\\u0644\\u0652\\u0634\\u0650\\u0647\\u0627\\u062f\\u064e\\u0629\\u064e\\u060c \\u0645\\u0646 \\u064c\\u0642\\u064e\\u0628\\u0644\\u064e \\u0652\\u0623\\u062d\\u064e\\u062f\\u064f \\u0651\\u0623\\u064c\\u0628\\u064f\\u0646\\u0627\\u0621 \\u064d\\u0627\\u0644\\u064c\\u062c\\u064a\\u064d\\u0644 \\u0627\\u064d\\u0644\\u064e\\u0630\\u064a\\u064d \\u064f\\u0641\\u062a\\u0651\\u062d \\u0639\\u064a\\u0646\\u064a\\u064b\\u0647\\u064b \\u0650\\u0639\\u064b\\u0644\\u064d\\u0649\\u0650 \\u0627\\u0644\\u0645\\u0646\\u0627\\u064f\\u0647\\u064b\\u062c \\u0627\\u0652\\u0644\\u0651\\u062a\\u0639\\u0644\\u064f\\u064a\\u0645\\u064a\\u0629 \\u0627\\u0644\\u0651\\u0643\\u064f\\u0648\\u0650\\u064a\\u062a\\u064a\\u0629\\u064e \\u0627\\u0650\\u0644\\u062a\\u064a\\u064b \\u064e\\u062a\\u0645 \\u062a\\u064b\\u062f\\u0650\\u0631\\u064a\\u064f\\u0633\\u0650\\u0647\\u064e\\u0627\\u064b \\u0641\\u0651\\u064a\\u064d \\u0627\\u064f\\u0644\\u0652\\u0625\\u064d\\u0645\\u064c\\u0627\\u0631\\u064c\\u0627\\u0652\\u062a\\u0652\\u060c \\u0648\\u0651\\u0642\\u064d\\u0627\\u0644: \\u064e\\u0643\\u0644 \\u064f\\u0630\\u064c\\u0644\\u0643 \\u064f\\u0630\\u0643\\u0631\\u0650\\u062a\\u0647 \\u0641\\u0651\\u064a \\u0643\\u062a\\u0627\\u0628\\u064a \\u064b\\\"\\u0627\\u0644\\u062c\\u0630\\u0648\\u0631 \\u0650\\u0627\\u064f\\u0644\\u062a\\u0627\\u0631\\u0652\\u064a\\u064d\\u062e\\u0650\\u064a\\u0651\\u0629\\u064d \\u064e\\u0644\\u064f\\u0644\\u0639\\u064b\\u0644\\u0627\\u0642\\u0627\\u0650\\u062a\\u064f \\u064e\\u0627\\u064f\\u0644\\u062b\\u0652\\u0642\\u0627\\u0650\\u0641\\u064d\\u064a\\u0629 \\u064c\\u0628\\u064a\\u064b\\u0646 \\u0650\\u0627\\u0644\\u0625\\u0645\\u0627\\u0631\\u0627\\u064c\\u062a\\u064c \\u064f\\u0648\\u064e\\u0627\\u064b\\u0644\\u0643\\u0650\\u0648\\u064a\\u064f\\u062a\\\"\\u060c \\u0652\\u0648\\u0643\\u064b\\u0627\\u064b\\u0646 \\u064c\\u0628\\u064f\\u0645\\u064f\\u062b\\u064f\\u0627\\u064e\\u0628\\u064c\\u0629\\u064d \\u064c\\u0631\\u0652\\u0633\\u064b\\u0627\\u0651\\u0644\\u064e\\u0629 \\u0634\\u0652\\u0643\\u0631 \\u0652\\u0644\\u0644\\u0643\\u0648\\u064a\\u062a\\u060c \\u0648\\u064c\\u0623\\u0636\\u0650\\u0627\\u064d\\u0641:\\u064d \\u0623\\u062c\\u064f\\u0644\\u060c\\u064e \\u064c\\u062a\\u062a\\u0644\\u0645\\u0630\\u0646\\u0627\\u064c \\u0639\\u064f\\u0644\\u0651\\u0649 \\u0650\\u0645\\u064d\\u0646\\u064c\\u0627\\u064c\\u0647\\u062c \\u064b\\u0627\\u0644\\u0643\\u064e\\u0648\\u064b\\u064a\\u062a\\u064d\\u060c\\u0650 \\u0648\\u0642\\u0631\\u0623\\u0646\\u0627\\u064d \\u0650\\u0639\\u064e\\u0628\\u0627\\u0631\\u064d\\u0629 \\u064e\\\"\\u0639\\u064f\\u0644\\u0645 \\u0628\\u0651\\u0644\\u0651\\u0627\\u062f\\u064a\\u0650 \\u0651\\u0644\\u0651\\u0648\\u064e\\u0646\\u0647\\u0650 \\u064c\\u0623\\u064c\\u062d\\u0645\\u0650\\u0631\\\" \\u0648\\u0650\\u0627\\u0631\\u062a\\u064c\\u062f\\u064a\\u0646\\u0652\\u0627\\u064e \\u0632\\u064a \\u0627\\u064e\\u0644\\u0652\\u0645\\u062f\\u0651\\u0627\\u0652\\u0631\\u064b\\u0633\\u064f \\u064d\\u0627\\u0644\\u0643\\u064d\\u0648\\u064e\\u064a\\u062a\\u064a\\u0629 \\u0623\\u062b\\u064f\\u0646\\u064f\\u0627\\u064e\\u0621\\u064c \\u0651\\u062a\\u0639\\u064e\\u0644\\u0650\\u064a\\u0645\\u0646\\u0627\\u064c\\u060c \\u064c\\u0648\\u0652\\u062a\\u064d\\u0646\\u0627\\u0650\\u0648\\u0644\\u064b\\u0646\\u0627 \\u0627\\u0644\\u064e\\u0648\\u062c\\u064f\\u0628\\u0652\\u0627\\u062a\\u064d \\u0627\\u0651\\u0644\\u0635\\u0628\\u0627\\u062d\\u0650\\u064a\\u0629\\u0651 \\u0627\\u0651\\u0644\\u0650\\u0643\\u064b\\u0648\\u064a\\u062a\\u064a\\u0629\\u0650 \\u064d\\u0641\\u0650\\u064a \\u0645\\u062f\\u064b\\u0627\\u064b\\u0631\\u064c\\u0633\\u0646\\u0627\\u0652\\u060c\\u064b \\u0648\\u0627\\u0633\\u062a\\u062e\\u064c\\u062f\\u064f\\u0645\\u0651\\u0646\\u0627 \\u064d\\u0627\\u064b\\u0644\\u064c\\u0623\\u0650\\u0642\\u064c\\u0644\\u0627\\u0651\\u0645 \\u0652\\u0648\\u064d\\u0627\\u0644\\u0652\\u0645\\u0645\\u064e\\u062d\\u0651\\u0627\\u064f\\u064a\\u064d\\u0627\\u064b\\u062a\\u064e \\u0648\\u0627\\u064d\\u0644\\u064b\\u0645\\u0628\\u0631\\u0627\\u064a\\u0652\\u0627\\u064b\\u062a \\u064d\\u0627\\u0644\\u064e\\u0643\\u0648\\u064c\\u064a\\u062a\\u064a\\u0629\\u064e\\u060c \\u0644\\u064d\\u0627\\u064c \\u0641\\u0631\\u0642 \\u064f\\u0628\\u064b\\u064a\\u064c\\u0646\\u064d\\u0646\\u0651\\u0627\\u060c \\u0628\\u064a\\u064b\\u0626\\u0650\\u062a\\u0627 \\u0628\\u064f\\u0644\\u062f\\u064a\\u0646\\u0627\\u064b \\u0648\\u0650\\u0627\\u064f\\u062d\\u0652\\u062f\\u0629\\u064d\\u060c \\u0647\\u064a \\u0627\\u064f\\u0644\\u0628\\u0650\\u064a\\u0650\\u0626\\u0629\\u064b \\u064c\\u0627\\u0650\\u0644\\u0628\\u062d\\u0631\\u064a\\u0629\\u064f \\u064f.\\u064b \\u0648\\u0628\\u0652\\u0639\\u062f\\u064f \\u064f\\u0623\\u0650\\u0641\\u064c\\u0648\\u0644 \\u062a\\u064d\\u062c\\u0627\\u0652\\u0631\\u0629\\u064c \\u0627\\u0644\\u0644\\u0624\\u0644\\u064b\\u0624\\u060c \\u0651\\u0641\\u064f\\u0625\\u0652\\u0646\\u0651 \\u0645\\u0651\\u062b\\u064e\\u0642\\u064f\\u0641\\u064a\\u0646\\u0627\\u064c \\u0648\\u064d\\u0639\\u0650\\u0645\\u064e\\u0627\\u0644\\u064f\\u0646\\u064f\\u0627 \\u062a\\u0648\\u062c\\u0647\\u0648\\u0627\\u064b \\u0625\\u0644\\u0649 \\u0627\\u0644\\u064e\\u0643\\u0650\\u0648\\u064b\\u064a\\u064b\\u062a\\u064f \\u0644\\u0650\\u0644\\u0639\\u064d\\u0645\\u0644 \\u0651\\u0641\\u064f\\u064a\\u0647\\u0627\\u064f\\u060c \\u0650\\u0643\\u0651\\u0645\\u0627 \\u0623\\u064f\\u0646 \\u0647\\u064c\\u0646\\u0627\\u0643 \\u0623\\u064f\\u062c\\u064a\\u0627\\u064c\\u0644\\u0651\\u0627\\u0650\\u064b \\u064e\\u0645\\u064b\\u0646 \\u0627\\u0652\\u0644\\u064e\\u0643\\u064b\\u0648\\u064a\\u062a\\u064b\\u064a\\u064a\\u0646 \\u064b\\u0639\\u064d\\u0627\\u0634\\u0648\\u064b\\u0627 \\u0641\\u064e\\u064a \\u064f\\u0627\\u0650\\u0644\\u064e\\u0625\\u064d\\u0645\\u0627\\u0631\\u0627\\u062a\\u064d\\u060c \\u064d\\u0648\\u0651\\u0645\\u064e\\u0646\\u064b\\u0647\\u0645 \\u0645\\u0646\\u064c \\u064b\\u0639\\u0650\\u0644\\u0652\\u0645\\u064d\\u0648\\u064e\\u0646\\u0627 .\\u0651 \\u0643\\u0645\\u0627 \\u0631\\u0627\\u0651\\u062d\\u0652 \\u064a\\u0650\\u062a\\u062d\\u064d\\u062f\\u062b \\u0639\\u0646\\u0651 \\u0627\\u0644\\u062a\\u0641\\u064e\\u0627\\u0639\\u064e\\u0644\\u064b \\u0627\\u064c\\u0644\\u062b\\u0650\\u0642\\u0652\\u0627\\u0641\\u064c\\u064a \\u0628\\u064d\\u064a\\u0646\\u0650 \\u064b\\u0627\\u0644\\u064d\\u0628\\u0644\\u0651\\u062f\\u064a\\u064d\\u0646 \\u0639\\u064e\\u0628\\u0631 \\u064d\\u0642\\u064d\\u0635\\u064f\\u0627\\u0626\\u0650\\u062f\\u064d \\u0627\\u0651\\u0644\\u064b\\u0634\\u0639\\u0652\\u0631\\u0627\\u064e\\u0621\\u060c\\u064d \\u064b\\u0627\\u0644\\u0652\\u0641\\u0652\\u0635\\u0652\\u062d\\u064c\\u0649\\u064b \\u0648\\u064c\\u0627\\u0644\\u0650\\u0646\\u064b\\u0628\\u0637\\u064a\\u064f\\u0629\\u0650\\u060c \\u0650\\u0641\\u0652\\u0636\\u064b\\u0644\\u0650\\u0627\\u064b\\u064b \\u064c\\u0639\\u064d\\u0646 \\u0651\\u0627\\u064d\\u0644\\u062a\\u0641\\u064c\\u0627\\u0639\\u064f\\u0644\\u064c \\u0651\\u0645\\u0652\\u0639 \\u0648\\u064b\\u0633\\u0627\\u0652\\u0626\\u064b\\u0644\\u064b \\u0627\\u0644\\u0625\\u0650\\u0639\\u0644\\u0627\\u0645\\u0650 \\u064d\\u0641\\u0650\\u064a\\u064e \\u0643\\u0644\\u0627 \\u0627\\u064b\\u0644\\u0628\\u0651\\u0644\\u064e\\u062f\\u064c\\u064a\\u064d\\u0646\\u060c\\u064c \\u0650\\u0625\\u064f\\u0630 \\u064c\\u0641\\u064c\\u062a\\u062d\\u062a\\u0650 \\u064c\\u0627\\u0644\\u0651\\u0635\\u064d\\u062d\\u064e\\u0627\\u064c\\u0641\\u0629\\u0650 \\u0627\\u064e\\u0644\\u064e\\u0643\\u0648\\u064a\\u062a\\u064a\\u0650\\u0629\\u064f \\u0651\\u0623\\u064f\\u0628\\u0652\\u0648\\u064e\\u0627\\u0628\\u0647\\u064d\\u0627\\u0651 \\u0644\\u0644\\u0645\\u062b\\u0642\\u0641\\u064a\\u064b\\u0646\\u064b \\u0627\\u064f\\u0644\\u0625\\u0645\\u0627\\u0631\\u0652\\u0627\\u0650\\u062a\\u064f\\u064a\\u064e\\u064a\\u0650\\u0646 .\",\n          \"https://example.com/resource/\\u0623\\u0650\\u0628\\u0648\\u0638\\u0628\\u064f\\u064a\\u0651 \\u064c-\\u0650 \\u064b\\u0645\\u0646\\u0651\\u064a\\u0650 \\u0650\\u0628\\u0651\\u0648\\u0651\\u0646\\u0639\\u064f\\u0627\\u064b\\u0645\\u0629:\\u0646\\u064e\\u0638\\u0645 \\u0627\\u062a\\u062d\\u0627\\u062f \\u064d\\u0643\\u0651\\u062a\\u0627\\u0650\\u0628\\u064d \\u0651\\u0648\\u0652\\u0623\\u062f\\u0652\\u0628\\u064e\\u0627\\u064b\\u0621 \\u064f\\u0627\\u0644\\u0625\\u0645\\u0627\\u0651\\u0631\\u0627\\u0650\\u062a \\u0641\\u064a \\u0623\\u0628\\u0648\\u0650\\u0638\\u0628\\u064b\\u064a\\u0651\\u060c\\u064c \\u0645\\u0633\\u064c\\u0627\\u064e\\u0621\\u064c \\u0623\\u0645\\u064c\\u0633\\u064d \\u0627\\u0644\\u064f\\u0623\\u064e\\u0648\\u0651\\u0644\\u060c \\u064f\\u0641\\u0650\\u064a\\u064d \\u0642\\u0651\\u0627\\u0650\\u0639\\u0629\\u064d \\u0627\\u0652\\u0644\\u062f\\u0643\\u062a\\u0648\\u064c\\u0631\\u064c \\u064c\\u0639\\u0628\\u062f\\u064e \\u064b\\u0627\\u0644\\u064c\\u0644\\u0647\\u0651 \\u0639\\u0645\\u0631\\u0627\\u064d\\u0646 \\u064f\\u062a\\u0650\\u0631\\u0651\\u064a\\u0645\\u0652 \\u064d\\u0641\\u064a\\u064f \\u0645\\u0651\\u0642\\u0631 \\u064d\\u0627\\u0644\\u0627\\u062a\\u064c\\u062d\\u0627\\u062f\\u064c \\u064c\\u0627\\u0644\\u064c\\u062c\\u062f\\u064a\\u0651\\u062f \\u0641\\u064a \\u0645\\u0650\\u0639\\u064e\\u0633\\u064b\\u0643\\u0631\\u064d \\u064f\\u0622\\u0644\\u0651 \\u0646\\u064b\\u0647\\u064a\\u0627\\u0646\\u064f \\u0623\\u064e\\u0645\\u0650\\u0633\\u064f\\u064a\\u0629 \\u0644\\u0652\\u0644\\u064e\\u0643\\u064c\\u0627\\u062a\\u0628\\u064d \\u0651\\u0648\\u064e\\u0627\\u0644\\u0652\\u0645\\u062b\\u064e\\u0642\\u0651\\u0641\\u064c \\u064d\\u0627\\u0644\\u0625\\u0645\\u064d\\u0627\\u064c\\u0631\\u064c\\u0627\\u062a\\u0651\\u064a\\u064f \\u0645\\u0627\\u062c\\u064c\\u062f \\u0628\\u0648 \\u0634\\u064f\\u0644\\u064a\\u0628\\u064f\\u064a\\u060c\\u064d \\u0623\\u064f\\u0645\\u064b\\u064a\\u0646 \\u0639\\u0627\\u0645\\u0652 \\u0652\\u0627\\u0644\\u0645\\u0646\\u062a\\u0650\\u062f\\u0651\\u0649 \\u0650\\u0627\\u0644\\u064d\\u0625\\u064e\\u0633\\u0651\\u0644\\u0651\\u0627\\u0645\\u0652\\u064a\\u064f \\u0641\\u064f\\u064a \\u0627\\u0644\\u064e\\u0634\\u0650\\u0627\\u0631\\u064d\\u0642\\u064e\\u0629\\u064e\\u060c\\u0650 \\u064c\\u0628\\u064f\\u0639\\u0646\\u0648\\u064f\\u0627\\u0646:\\u0651 \\u0644\\u0645\\u0627\\u0630\\u0627\\u064e \\u0651\\u0627\\u064b\\u0644\\u064f\\u0634\\u0651\\u0627\\u0631\\u0642\\u0629 \\u0639\\u0651\\u0627\\u064e\\u0635\\u0645\\u0629 \\u0650\\u0644\\u064d\\u0644\\u062b\\u064f\\u0642\\u0627\\u0641\\u064b\\u0629\\u064b \\u0627\\u064c\\u0644\\u0625\\u064c\\u0633\\u0652\\u0644\\u064d\\u0627\\u0645\\u0651\\u064a\\u0629\\u064d\\u061f \\u0642\\u062f\\u0651\\u0651\\u064e\\u0645 \\u0627\\u0644\\u064e\\u0623\\u0645\\u0633\\u064a\\u064f\\u0629\\u064f \\u064d\\u0627\\u0644\\u0634\\u0650\\u0627\\u0639\\u0631\\u0652 \\u0652\\u0648\\u0627\\u0644\\u0646\\u0627\\u0652\\u0642\\u062f \\u0645\\u064b\\u062d\\u064c\\u0645\\u062f \\u0646\\u0648\\u0631 \\u064f\\u0627\\u064c\\u0644\\u062f\\u064f\\u064a\\u0646\\u060c\\u0651 \\u064b\\u0648\\u0650\\u062d\\u0636\\u0650\\u0631\\u0651\\u0647\\u064c\\u0627\\u064e \\u064f\\u062d\\u0650\\u0628\\u064d\\u064a\\u0652\\u0628\\u064b \\u0627\\u064e\\u0644\\u0635\\u064b\\u0627\\u064a\\u0650\\u063a\\u0651 \\u064e\\u0631\\u064f\\u0626\\u064a\\u064d\\u0633\\u0652 \\u0645\\u062c\\u0651\\u0644\\u0633\\u0650 \\u0625\\u064c\\u062f\\u064c\\u0627\\u0631\\u0629\\u0650 \\u0651\\u0627\\u064c\\u0644\\u064b\\u0627\\u064b\\u062a\\u062d\\u0627\\u062f\\u0650\\u060c\\u064e \\u0648\\u0639\\u064b\\u062f\\u064b\\u062f \\u0645\\u0646 \\u064d\\u0627\\u0644\\u0643\\u062a\\u0651\\u0627\\u0628\\u064e \\u0648\\u0652\\u0627\\u064f\\u0644\\u064b\\u0623\\u064f\\u062f\\u0628\\u0627\\u064d\\u0621 \\u064d.\\u064e \\u064c\\u0627\\u0633\\u062a\\u064b\\u0647\\u0651\\u0644\\u0652 \\u0627\\u0652\\u0644\\u0651\\u0645\\u064d\\u062d\\u0652\\u0627\\u064f\\u0636\\u0631 \\u0628\\u0627\\u0633\\u062a\\u0639\\u064e\\u0631\\u0627\\u0636\\u0650 \\u0627\\u0644\\u0623\\u0637\\u0631 \\u0627\\u064c\\u0644\\u0639\\u064d\\u0627\\u0645\\u0629\\u0652 \\u0651\\u0627\\u064c\\u0644\\u062a\\u064a\\u0650 \\u0639\\u0645\\u0644\\u062a \\u064d\\u0639\\u0644\\u0649 \\u062a\\u064e\\u0634\\u0643\\u0651\\u064a\\u0652\\u0644\\u064f \\u064b\\u0648\\u0628\\u0644\\u064d\\u0648\\u064f\\u0631\\u0629 \\u0627\\u064f\\u0644\\u0641\\u0643\\u064b\\u0631\\u0652\\u0629 \\u0627\\u064e\\u0644\\u064c\\u062b\\u0642\\u0651\\u0627\\u0641\\u064d\\u064a\\u064b\\u0629\\u064e \\u0641\\u064b\\u064a\\u064f \\u064c\\u0627\\u0644\\u064f\\u0634\\u0627\\u0650\\u0631\\u064b\\u0642\\u0629\\u0652\\u060c\\u0652 \\u0645\\u0646\\u064c \\u0652\\u062e\\u0652\\u0644\\u0627\\u0652\\u0644\\u064d \\u0652\\u0627\\u0644\\u062a\\u064f\\u0639\\u064d\\u0631\\u064b\\u064a\\u0641 \\u0628\\u0652\\u0627\\u0644\\u062a\\u0650\\u062c\\u064b\\u0631\\u064f\\u0628\\u0629\\u0651 \\u064f\\u0648\\u0623\\u0647\\u0645 \\u0645\\u0633\\u0652\\u0627\\u0650\\u0631\\u064d\\u0627\\u062a\\u064b\\u0647\\u064d\\u0627\\u0652\\u060c\\u064f \\u0650\\u0648\\u064b\\u0627\\u0650\\u0644\\u0651\\u0623\\u0637\\u0650\\u0648\\u064c\\u0627\\u0631 \\u0651\\u0627\\u0652\\u0644\\u064d\\u062a\\u064a \\u0650\\u0645\\u064c\\u0631\\u064b\\u062a \\u0628\\u0647\\u0650\\u0627\\u064d\\u060c \\u0628\\u0652\\u062f\\u064e\\u0621\\u0651\\u0627\\u064b\\u064d \\u0628\\u064d\\u0627\\u0644\\u062d\\u062f\\u064a\\u064c\\u062b\\u064b \\u064d\\u0639\\u064b\\u0646 \\u0628\\u064d\\u0646\\u0627\\u0652\\u0621\\u064d \\u0627\\u0644\\u0628\\u064d\\u0646\\u0649\\u0650 \\u0627\\u0651\\u0644\\u0650\\u062a\\u064c\\u062d\\u062a\\u064c\\u064a\\u064c\\u0629\\u0650 \\u064d\\u0644\\u0644\\u0645\\u0624\\u064b\\u0633\\u0633\\u0650\\u0627\\u062a \\u0650\\u0627\\u0644\\u062b\\u064e\\u0642\\u0652\\u0627\\u0641\\u064a\\u064d\\u0629\\u064c \\u064f\\u0648\\u0627\\u064e\\u0644\\u0625\\u0651\\u0639\\u064e\\u0644\\u0627\\u0645\\u0650\\u064a\\u0629\\u0651 \\u064c\\u0627\\u0644\\u062a\\u064a \\u0623\\u064d\\u0633\\u0651\\u0647\\u0645\\u064f\\u062a\\u060c \\u064d\\u0639\\u064f\\u0628\\u0631 \\u0651\\u062a\\u0627\\u0652\\u0631\\u064a\\u062e\\u0647\\u0627\\u0652\\u060c\\u064e \\u0641\\u064c\\u064a\\u0651 \\u0652\\u062a\\u064b\\u0641\\u0639\\u064a\\u0644 \\u0627\\u0651\\u0644\\u0639\\u0650\\u0645\\u064b\\u0644\\u064b \\u0627\\u064e\\u0644\\u062b\\u0650\\u0642\\u064e\\u0627\\u0650\\u0641\\u0651\\u064a \\u0641\\u064f\\u064a \\u0627\\u064d\\u0644\\u0634\\u0627\\u0652\\u0631\\u0642\\u0629\\u060c \\u0627\\u0646\\u0637\\u0644\\u064d\\u0627\\u0642\\u0627\\u064b\\u0651 \\u0645\\u0650\\u0646\\u064b \\u062a\\u0623\\u0633\\u064f\\u064a\\u0633\\u0651 \\u064c\\u062f\\u0627\\u0652\\u0626\\u0631\\u0629\\u064d \\u0652\\u0627\\u0650\\u0644\\u064f\\u062b\\u0642\\u064b\\u0627\\u0641\\u0629 \\u064d\\u0648\\u0627\\u064c\\u0644\\u0625\\u0651\\u0639\\u0644\\u0627\\u0650\\u0645\\u064f\\u060c\\u0651 \\u0648\\u0650\\u062a\\u0644\\u0641\\u0632\\u064a\\u0648\\u064b\\u0646 \\u0627\\u0644\\u064f\\u0634\\u0627\\u064c\\u0631\\u0642\\u0652\\u0629\\u0650 \\u0648\\u0645\\u0627 \\u062a\\u062e\\u064d\\u0644\\u064c\\u0644\\u064f \\u0630\\u0644\\u0643\\u064c \\u064e\\u0645\\u064b\\u0646\\u064f \\u0625\\u064b\\u0628\\u0631\\u0627\\u0632\\u064f \\u0648\\u062a\\u0634\\u062c\\u064c\\u064a\\u064f\\u0639\\u064d \\u064f\\u0644\\u0644\\u062b\\u0642\\u064b\\u0627\\u064c\\u0641\\u0629 \\u0648\\u064b\\u0627\\u064b\\u0644\\u0641\\u0646\\u064e\\u0648\\u064d\\u0646\\u064e \\u0645\\u0646\\u064f \\u064f\\u062e\\u0644\\u0627\\u0644 \\u064b\\u0627\\u064f\\u0644\\u064f\\u0645\\u064d\\u0639\\u064d\\u0627\\u0631\\u0636 \\u0627\\u0644\\u0651\\u0641\\u064f\\u0646\\u064a\\u064b\\u0629\\u064f \\u0648\\u064d\\u0627\\u0644\\u0650\\u0641\\u0639\\u0627\\u064e\\u0644\\u064a\\u0627\\u062a\\u0652 \\u064f\\u0627\\u0652\\u0644\\u064c\\u062b\\u0642\\u064b\\u0627\\u0651\\u0641\\u064b\\u064a\\u0629 \\u064f\\u0627\\u0644\\u062a\\u064f\\u064a \\u0651\\u062a\\u0635\\u0628 \\u064d\\u0641\\u064a \\u0642\\u0627\\u064b\\u0644\\u064b\\u0628\\u0650 \\u0627\\u0644\\u0646\\u064c\\u0647\\u064b\\u0648\\u0636\\u064b \\u0644\\u064b\\u0634\\u0627\\u064b\\u0631\\u064d\\u0642\\u0650\\u0629\\u064d \\u0627\\u0644\\u0652\\u062b\\u0642\\u064f\\u0627\\u0641\\u0652\\u0629\\u064e \\u064d\\u0648\\u0627\\u0644\\u0645\\u064c\\u0639\\u0631\\u0641\\u064e\\u0629\\u064c\\u060c \\u0645\\u064c\\u0627 \\u064a\\u064c\\u062c\\u064b\\u064a\\u0628 \\u0628\\u064b\\u0634\\u0643\\u0644\\u0650 \\u0642\\u064b\\u0637\\u0639\\u0650\\u064a \\u064d\\u0639\\u064c\\u0646\\u064d \\u0627\\u0651\\u0644\\u064e\\u062a\\u064e\\u0633\\u0651\\u0627\\u0624\\u0644 \\u0652\\u0627\\u0644\\u0645\\u0652\\u0631\\u0643\\u0632\\u064b\\u064a\\u0650 \\u0644\\u0645\\u0627\\u0651\\u0630\\u0627\\u0651 \\u064f\\u0627\\u0650\\u0644\\u0634\\u0627\\u0651\\u0631\\u0642\\u0629\\u0651 \\u0639\\u0627\\u064b\\u0635\\u0645\\u0629\\u064f \\u064f\\u0627\\u064d\\u0644\\u064d\\u062b\\u0650\\u0642\\u0627\\u0641\\u064b\\u0629\\u064c \\u0627\\u064d\\u0644\\u0651\\u0625\\u0633\\u064b\\u0644\\u064c\\u0627\\u0645\\u064a\\u0629\\u064e\\u061f \\u064b\\u0648\\u064d\\u0623\\u0650\\u0634\\u0652\\u0627\\u0631 \\u064c\\u0627\\u0644\\u0645\\u062d\\u0627\\u064b\\u0636\\u0651\\u0631\\u064e \\u0652\\u0625\\u064f\\u0644\\u0649 \\u064e\\u0627\\u064d\\u0644\\u064d\\u062d\\u0631\\u0627\\u0643 \\u064d\\u0627\\u0644\\u062b\\u0642\\u0627\\u064e\\u0641\\u064a\\u0650 \\u0650\\u0627\\u0644\\u064b\\u0646\\u064f\\u0634\\u0637\\u0651 \\u0627\\u0644\\u0630\\u064c\\u064a\\u0652 \\u0634\\u0643\\u064b\\u0644\\u064f \\u0652\\u0627\\u0651\\u0644\\u064d\\u0628\\u0650\\u0648\\u0651\\u0627\\u0643\\u064f\\u064a\\u0631 \\u064c\\u0627\\u064d\\u0644\\u064b\\u0623\\u064c\\u0648\\u0644\\u0649\\u064c \\u0651\\u0644\\u0644\\u0651\\u0639\\u0645\\u0651\\u0644 \\u0627\\u0644\\u062b\\u0642\\u0627\\u0641\\u064a \\u0651\\u0641\\u064c\\u064a\\u064b \\u0627\\u0644\\u0652\\u0634\\u0651\\u0627\\u0651\\u0631\\u064f\\u0642\\u0629\\u064c\\u060c\\u0652 \\u0650\\u0627\\u064d\\u0644\\u0630\\u0651\\u064a\\u0651 \\u0634\\u0645\\u064c\\u0644 \\u0643\\u0627\\u0641\\u0629\\u064f \\u064e\\u0627\\u0644\\u064b\\u062c\\u0648\\u0627\\u0646\\u064c\\u0628\\u064c \\u0650\\u0628\\u0645\\u0627\\u064f \\u064b\\u0641\\u0652\\u064a\\u0652\\u0647\\u0627\\u064d \\u0625\\u0646\\u0652\\u0634\\u064c\\u0627\\u0621 \\u0651\\u0627\\u0644\\u0645\\u0631\\u0627\\u0643\\u0652\\u0632 \\u0648\\u0627\\u064e\\u0644\\u0645\\u062f\\u064f\\u0627\\u064d\\u0631\\u0633 \\u064b\\u0648\\u0650\\u0627\\u064c\\u0644\\u0651\\u062c\\u0652\\u0627\\u0645\\u0652\\u0639\\u0651\\u0627\\u062a\\u0652 \\u064f\\u0648\\u0650\\u0627\\u0644\\u0641\\u064f\\u0646\\u0650\\u0648\\u064e\\u0646\\u0652 \\u064b\\u0648\\u064b\\u0627\\u0644\\u0652\\u0645\\u0651\\u0633\\u064e\\u0627\\u0650\\u0631\\u062d \\u064d\\u0644\\u062a\\u0651\\u0639\\u0632\\u064b\\u064a\\u0632 \\u0627\\u0644\\u0641\\u0639\\u0644\\u064b \\u0627\\u0644\\u064b\\u062b\\u064e\\u0642\\u064e\\u0627\\u0651\\u0641\\u064c\\u064a\\u064d \\u0648\\u064c\\u062a\\u0633\\u0631\\u064a\\u064c\\u0639\\u064f \\u0639\\u062c\\u064f\\u0644\\u0629\\u064f \\u0627\\u0644\\u0650\\u0646\\u064e\\u0634\\u0627\\u0637\\u0652 \\u064d\\u0627\\u0644\\u062b\\u0642\\u064c\\u0627\\u0651\\u0641\\u0650\\u064a \\u064b\\u0641\\u064a \\u0627\\u064d\\u0644\\u0651\\u0634\\u0627\\u064b\\u0631\\u0642\\u0629\\u0650\\u060c\\u0651 \\u0643\\u0645\\u064c\\u0627 \\u064d\\u062a\\u0650\\u0645 \\u062a\\u062e\\u0635\\u064a\\u0635\\u064f \\u064f\\u0645\\u064c\\u0633\\u0650\\u0627\\u062d\\u0629 \\u0645\\u064c\\u0639\\u062a\\u064b\\u0628\\u0651\\u0631\\u064f\\u0629\\u064e \\u064b\\u0644\\u0644\\u0637\\u0641\\u0644\\u064f \\u0648\\u062b\\u0642\\u0652\\u0627\\u0652\\u0641\\u064c\\u062a\\u0647\\u064c\\u060c\\u0650 \\u0645\\u0646\\u0651 \\u062e\\u0652\\u0644\\u064f\\u0627\\u0644 \\u0625\\u0646\\u0634\\u064b\\u0627\\u0652\\u0621\\u064e \\u0651\\u0645\\u064f\\u0631\\u064c\\u0627\\u0643\\u0652\\u0632 \\u064c\\u0645\\u064c\\u0643\\u062a\\u0628\\u0652\\u0627\\u064c\\u062a \\u064e\\u0627\\u0644\\u064e\\u0623\\u0650\\u0637\\u064d\\u0641\\u064c\\u0627\\u0644\\u060c \\u0648\\u064d\\u0645\\u064d\\u0631\\u0652\\u0627\\u0643\\u0632 \\u064e\\u0627\\u064c\\u0644\\u0623\\u0637\\u0641\\u064c\\u0627\\u064d\\u0644\\u064d\\u060c \\u062b\\u0645\\u064c \\u0645\\u0652\\u0631\\u064d\\u0627\\u0643\\u0632 \\u064b\\u0627\\u064e\\u0644\\u0652\\u0646\\u0627\\u0634\\u0651\\u0626\\u0629\\u060c \\u0641\\u0645\\u0652\\u062c\\u064f\\u0644\\u0633 \\u064b\\u0623\\u064e\\u0639\\u0644\\u0649\\u064e \\u0652\\u0644\\u064f\\u0644\\u0637\\u0641\\u064e\\u0644\\u0652 \\u0625\\u064e\\u0644\\u0649 \\u064c\\u063a\\u064a\\u0631 \\u0630\\u064b\\u0644\\u0643 \\u0651\\u0645\\u0646 \\u0627\\u0644\\u0633\\u064b\\u064a\\u0627\\u0633\\u064c\\u0627\\u062a \\u064b\\u0627\\u0644\\u0652\\u062a\\u064a\\u064c \\u064e\\u0627\\u0650\\u0639\\u0650\\u062a\\u064b\\u0645\\u064b\\u062f\\u0647\\u0650\\u0627\\u064e \\u064d\\u0635\\u0651\\u0627\\u0652\\u062d\\u0628\\u0650 \\u0652\\u0627\\u0652\\u0644\\u0633\\u064c\\u0645\\u0648\\u064f \\u064b\\u0627\\u064b\\u0644\\u0650\\u0634\\u064f\\u064a\\u064d\\u062e \\u064f\\u0627\\u0644\\u062f\\u064b\\u0643\\u062a\\u0648\\u064f\\u0631 \\u064b\\u0633\\u064d\\u0644\\u064f\\u0637\\u0627\\u0646 \\u0628\\u0646 \\u0645\\u064e\\u062d\\u064c\\u0645\\u062f \\u0627\\u0650\\u0644\\u0642\\u0652\\u0627\\u0633\\u0645\\u064a\\u0652 \\u064e\\u0639\\u064d\\u0636\\u0648\\u064f \\u0627\\u0644\\u0645\\u062c\\u0650\\u0644\\u0633\\u064b \\u064c\\u0627\\u064d\\u0644\\u064b\\u0623\\u0639\\u0651\\u0644\\u0652\\u0649 \\u062d\\u064b\\u0627\\u0643\\u064c\\u0645\\u064e \\u064f\\u0627\\u064e\\u0644\\u0634\\u064e\\u0627\\u0650\\u0631\\u0642\\u064c\\u0629\\u0652 \\u064e\\u0644\\u0644\\u0650\\u0631\\u0642\\u0652\\u064a\\u064e \\u064c\\u0628\\u062b\\u0650\\u0642\\u064c\\u0627\\u064f\\u0641\\u064d\\u0629\\u0652 \\u0627\\u0652\\u0644\\u0637\\u0650\\u0641\\u0644 \\u0648\\u0652\\u062a\\u0646\\u064d\\u0645\\u064a\\u0651\\u0629 \\u0652\\u0645\\u064c\\u062f\\u064f\\u0627\\u064e\\u0631\\u064c\\u0643\\u0652\\u0647\\u0652 \\u0648\\u064d\\u0642\\u064e\\u062f\\u0631\\u0652\\u0627\\u0651\\u062a\\u064d\\u0647\\u064b \\u0650. \\u0648\\u064b\\u0630\\u0647\\u064d\\u0628\\u064b \\u0627\\u064c\\u0644\\u0645\\u0650\\u062d\\u0651\\u0627\\u0650\\u0636\\u064b\\u0631 \\u0625\\u064d\\u0644\\u0650\\u0649\\u0650 \\u064f\\u0623\\u0646\\u064e \\u064f\\u0627\\u0644\\u0652\\u0633\\u064c\\u064a\\u0651\\u0627\\u0633\\u0650\\u0627\\u062a\\u064d \\u0627\\u0644\\u062b\\u0652\\u0642\\u0627\\u0641\\u064a\\u0629\\u064b \\u0648\\u0627\\u0644\\u062a\\u064d\\u0648\\u062c\\u064c\\u064a\\u064b\\u0647\\u0627\\u062a\\u0650 \\u0650\\u0627\\u064b\\u0644\\u064d\\u0646\\u064e\\u064a\\u0651\\u0631\\u0629\\u064c \\u0644\\u064e\\u0635\\u064c\\u0627\\u062d\\u0650\\u0628\\u064c \\u0627\\u0644\\u0633\\u0645\\u0648 \\u064d\\u062d\\u0627\\u064c\\u0643\\u0652\\u0645\\u064b \\u0627\\u064d\\u0644\\u0634\\u064c\\u0627\\u0631\\u064f\\u0642\\u0629 \\u064b\\u062c\\u064c\\u0639\\u0644\\u0650\\u062a\\u064f \\u0650\\u0645\\u064e\\u0646 \\u0627\\u0651\\u0644\\u0639\\u064d\\u0645\\u064c\\u0644\\u064e \\u0627\\u0644\\u064d\\u062b\\u064b\\u0642\\u0627\\u064d\\u0641\\u064f\\u064a\\u0652 \\u0641\\u064a\\u064e \\u0627\\u0652\\u0644\\u064d\\u0634\\u0627\\u0631\\u064f\\u0642\\u0651\\u0629\\u064c \\u0639\\u0645\\u0644\\u0627\\u064b\\u0650 \\u0646\\u064e\\u0634\\u064d\\u0637\\u0651\\u0627\\u064b \\u0648\\u0651\\u0642\\u0651\\u0648\\u0651\\u064a\\u0652\\u0627\\u064b\\u064c \\u064e\\u0633\\u0648\\u064f\\u0627\\u0621 \\u064f\\u0645\\u064d\\u0646 \\u0652\\u062e\\u0652\\u0644\\u0650\\u0627\\u0644 \\u062a\\u064d\\u0648\\u064e\\u062c\\u0650\\u064a\\u0647\\u0627\\u064c\\u062a\\u064c \\u0650\\u0633\\u064e\\u0645\\u0651\\u0648\\u0647 \\u064c\\u0644\\u064e\\u0644\\u0627\\u0652\\u0631\\u062a\\u064d\\u0642\\u0651\\u0627\\u0621 \\u064c\\u0628\\u0627\\u0651\\u0644\\u064f\\u0641\\u0646\\u064f \\u0627\\u064d\\u0644\\u064d\\u062a\\u0634\\u064f\\u0643\\u064a\\u064e\\u0644\\u064e\\u064a\\u0652 \\u0648\\u064b\\u062a\\u0634\\u064f\\u062c\\u064d\\u064a\\u0639 \\u064b\\u0627\\u0652\\u0644\\u0641\\u0646\\u0627\\u0650\\u0646\\u064a\\u0646\\u060c\\u064c \\u0648\\u064f\\u0627\\u0642\\u062a\\u0646\\u064d\\u0627\\u0621\\u064c \\u0652\\u0623\\u064c\\u0639\\u064e\\u0645\\u064e\\u0627\\u0644 \\u0641\\u064b\\u0646\\u0651\\u064a\\u064e\\u0629\\u064e \\u0644\\u0645\\u0635\\u0650\\u0644\\u0652\\u062d\\u064d\\u0629\\u064f \\u064f\\u0645\\u062a\\u064b\\u062d\\u064d\\u0641\\u0651 \\u0627\\u0644\\u064b\\u0634\\u0627\\u0631\\u0651\\u0642\\u0629\\u060c \\u0648\\u064f\\u0625\\u064c\\u0646\\u062c\\u0627\\u0632 \\u064e\\u0642\\u0652\\u0627\\u0639\\u0629 \\u064e\\u062e\\u064f\\u0627\\u0651\\u0635\\u0629\\u0652 \\u064f\\u0628\\u0627\\u064f\\u0644\\u0622\\u062b\\u0650\\u0627\\u0651\\u0631 \\u0627\\u064b\\u0644\\u0625\\u0633\\u064d\\u0644\\u064c\\u0627\\u064d\\u0645\\u0651\\u064a\\u0629\\u064b \\u064f\\u0641\\u064e\\u064a \\u0645\\u062a\\u062d\\u0641 \\u0627\\u0652\\u0644\\u064d\\u0634\\u0627\\u0651\\u0631\\u0642\\u064e\\u0629\\u060c\\u064c \\u064d\\u0623\\u064b\\u0645\\u064e \\u0645\\u064f\\u0646 \\u062e\\u064c\\u0644\\u0627\\u0651\\u0644 \\u0650\\u0627\\u0633\\u064b\\u062a\\u0643\\u0645\\u0651\\u0627\\u064d\\u0644 \\u0627\\u0652\\u0644\\u0645\\u0652\\u0634\\u0652\\u0631\\u0648\\u0639\\u0627\\u064d\\u062a\\u064c \\u0627\\u0644\\u062b\\u0652\\u0642\\u0651\\u0627\\u0652\\u0641\\u064a\\u0629\\u064c \\u0648\\u064e\\u062a\\u0631\\u0645\\u064a\\u0645 \\u0627\\u0651\\u0644\\u0645\\u0628\\u0627\\u0646\\u064c\\u064a\\u064f \\u0627\\u0644\\u064d\\u062a\\u0650\\u0631\\u0627\\u0650\\u062b\\u064a\\u0650\\u0629 \\u0652\\u0648\\u063a\\u064a\\u0631\\u0647\\u064b\\u0627\\u064f \\u0645\\u064f\\u0646 \\u0627\\u064e\\u0644\\u0651\\u0623\\u0639\\u0651\\u0645\\u0627\\u0644 \\u064c\\u0648\\u0650\\u0627\\u0644\\u0623\\u064f\\u0646\\u0634\\u064e\\u0637\\u0629 \\u0652\\u0627\\u0644\\u062a\\u064a \\u062a\\u0635\\u0628 \\u0641\\u064a\\u064d \\u064e\\u0635\\u0645\\u064e\\u064a\\u0651\\u0645\\u0651 \\u064b\\u0627\\u0644\\u0650\\u0641\\u0639\\u0651\\u0644\\u064d \\u0627\\u064f\\u0644\\u064e\\u062b\\u064c\\u0642\\u0627\\u064b\\u0641\\u0651\\u064a .\\u0648\\u0623\\u0652\\u0643\\u064e\\u062f\\u064d \\u0627\\u0652\\u0644\\u0650\\u0645\\u0650\\u062d\\u0650\\u0627\\u064c\\u0636\\u0631 \\u0623\\u064d\\u0646 \\u0627\\u064c\\u0644\\u064e\\u062f\\u064e\\u0648\\u0652\\u0631\\u0629\\u0652 \\u064b\\u0627\\u0652\\u0644\\u064c\\u0623\\u064c\\u0648\\u064c\\u0644\\u064f\\u0649\\u0651 \\u0644\\u0645\\u064e\\u0639\\u0631\\u064d\\u0636\\u064d \\u0627\\u0644\\u0650\\u0643\\u0650\\u062a\\u0651\\u0627\\u0628\\u060c \\u0627\\u0644\\u0630\\u064d\\u064a \\u0623\\u0635\\u0651\\u0628\\u062d \\u0627\\u0651\\u0644\\u0652\\u064a\\u064f\\u0648\\u064c\\u0645\\u0651 \\u0648\\u062c\\u064b\\u0647\\u0629 \\u0639\\u0627\\u064b\\u0644\\u0651\\u0645\\u064a\\u0650\\u0629 \\u0644\\u0651\\u0644\\u0643\\u062a\\u0627\\u064d\\u0628\\u064e \\u064c\\u0648\\u0627\\u0644\\u0650\\u0645\\u0641\\u064e\\u0643\\u064b\\u0631\\u064a\\u0650\\u0646 \\u064e\\u0645\\u0650\\u0646\\u0650 \\u0623\\u0650\\u0646\\u064d\\u062d\\u064d\\u0627\\u064d\\u0621\\u064c \\u0627\\u064e\\u0644\\u0650\\u0639\\u0651\\u0627\\u0651\\u0644\\u0645\\u0652 \\u0638\\u0652\\u0644\\u0627\\u0644\\u0647\\u064c \\u0627\\u0644\\u0650\\u0648\\u0627\\u0631\\u064f\\u0641\\u0629\\u064e\\u060c\\u064f \\u0634\\u064d\\u0643\\u064d\\u0644\\u062a\\u0650 \\u064d\\u0646\\u064f\\u0642\\u064b\\u0637\\u0629 \\u064f\\u0627\\u064f\\u0646\\u064c\\u0637\\u0644\\u064e\\u0627\\u0652\\u0642 \\u064f\\u0648\\u062a\\u062d\\u0648\\u0650\\u0651\\u064d\\u0644 \\u0641\\u0652\\u064a\\u064d \\u0627\\u064e\\u0644\\u0645\\u0634\\u0652\\u0631\\u0652\\u0648\\u0639 \\u0652\\u0627\\u0644\\u0651\\u062b\\u0642\\u0652\\u0627\\u0652\\u0641\\u064d\\u064a\\u064f \\u0652\\u0644\\u064d\\u0635\\u0627\\u062d\\u0628 \\u064c\\u0627\\u064d\\u0644\\u064e\\u0633\\u0651\\u0645\\u0650\\u0648\\u064d \\u0650\\u062d\\u064d\\u0627\\u0643\\u0645\\u064f \\u0627\\u0652\\u0644\\u0634\\u0652\\u0627\\u064b\\u0631\\u0642\\u0651\\u0629\\u060c\\u0652 \\u0643\\u0652\\u0645\\u064b\\u0627\\u064e \\u064c\\u062a\\u0632\\u064f\\u0627\\u064d\\u0645\\u0646 \\u064c\\u0645\\u064c\\u0639\\u0651 \\u064e\\u0647\\u0650\\u0630\\u0647 \\u0627\\u0644\\u062f\\u0648\\u0631\\u0651\\u0629 \\u0627\\u064b\\u0641\\u0652\\u062a\\u062a\\u0627\\u062d \\u0645\\u064f\\u0643\\u064b\\u062a\\u0628\\u0652\\u0629\\u064e \\u0627\\u0644\\u064b\\u0645\\u064f\\u062d\\u0650\\u0645\\u0651\\u0648\\u062f\\u064e \\u0652(\\u0651\\u0627\\u0644\\u0652\\u0623\\u064b\\u0647\\u064f\\u0644\\u0650\\u064a\\u0629\\u0652)\\u0652\\u060c\\u0652 \\u0651\\u062b\\u064c\\u0645 \\u064b\\u0627\\u0644\\u0650\\u0645\\u0651\\u0631\\u064f\\u0643\\u0652\\u0632\\u0651 \\u064e\\u0627\\u0652\\u0644\\u064c\\u062b\\u0651\\u0642\\u0627\\u0641\\u0652\\u064a\\u064d \\u064f\\u0641\\u064a\\u0645\\u0627\\u0652 \\u0628\\u0639\\u062f\\u064d .\\u0652\\u0648\\u0651\\u0627\\u064c\\u0639\\u062a\\u0628\\u064d\\u0631 \\u0627\\u064d\\u0644\\u064c\\u0645\\u062d\\u064e\\u0627\\u064b\\u0636\\u0651\\u0631 \\u064b\\u0623\\u0646 \\u064b\\u062d\\u064b\\u0632\\u0645\\u0629 \\u0652\\u0627\\u0652\\u0644\\u064c\\u0645\\u064d\\u0647\\u064d\\u0631\\u062c\\u064d\\u0627\\u064d\\u0646\\u0627\\u0651\\u062a \\u0652\\u0648\\u0651\\u0627\\u0644\\u064f\\u0641\\u064b\\u0639\\u0650\\u0627\\u0644\\u064a\\u0650\\u0627\\u0651\\u062a\\u064b \\u0627\\u0644\\u0652\\u062a\\u064a\\u0650 \\u062a\\u0642\\u0652\\u0627\\u0650\\u0645 \\u0652\\u0639\\u0644\\u0651\\u0649 \\u0645\\u062f\\u0627\\u064c\\u0631\\u0650 \\u0627\\u064e\\u0644\\u0639\\u0627\\u0645\\u0650 \\u0650\\u0641\\u064a \\u064c\\u0627\\u0644\\u064e\\u0634\\u0627\\u064d\\u0631\\u0642\\u0629\\u064f\\u060c\\u0652 \\u0651\\u0648\\u0645\\u0627 \\u064a\\u0651\\u062a\\u064c\\u062e\\u0644\\u0650\\u0644\\u0647\\u064f\\u0627\\u0651 \\u0645\\u0646 \\u0623\\u0646\\u0634\\u0637\\u064c\\u0629\\u064d \\u062b\\u0642\\u064d\\u0627\\u0641\\u0652\\u064a\\u0629\\u064f \\u064c\\u0645\\u0651\\u062a\\u064f\\u0646\\u0648\\u064d\\u0639\\u0652\\u0629 \\u064d\\u062a\\u064c\\u0634\\u064b\\u0643\\u0652\\u0644\\u064f \\u064f\\u0623\\u064d\\u0648\\u062c\\u064c \\u0650\\u0627\\u064f\\u0644\\u062d\\u0631\\u064d\\u0627\\u0652\\u0643\\u0651 \\u064f\\u0627\\u064e\\u0644\\u062b\\u0642\\u0627\\u0641\\u064b\\u064a\\u064f\\u060c\\u064d \\u0648\\u0631\\u0627\\u0651\\u0641\\u0652\\u062f\\u0652\\u0627\\u064f\\u064b\\u0651 \\u0623\\u0633\\u0627\\u064d\\u0633\\u064d\\u064a\\u064e\\u0627\\u064c\\u064b \\u0644\\u0644\\u064c\\u062a\\u0641\\u0652\\u0627\\u0639\\u0644\\u0651 \\u0651\\u0648\\u0652\\u0627\\u0644\\u0652\\u062a\\u0646\\u0627\\u0650\\u063a\\u0645 \\u0627\\u0644\\u064b\\u062b\\u0650\\u0642\\u0627\\u064b\\u0641\\u064c\\u064a \\u064d\\u0641\\u064a\\u0651 \\u0625\\u0645\\u0627\\u0631\\u0652\\u0629\\u0652 \\u062a\\u0632\\u064c\\u062f\\u0651\\u0627\\u064c\\u0646 \\u0648\\u062a\\u0652\\u0632\\u062f\\u064d\\u0647\\u0651\\u064a\\u0650 \\u0643\\u0644 \\u064e\\u062d\\u064e\\u064a\\u064e\\u0646 \\u0628\\u0651\\u0644\\u0650\\u0641\\u064f\\u062a\\u064c\\u0629\\u064b \\u0643\\u064d\\u0631\\u064a\\u0645\\u0629\\u0651 \\u0648\\u064d\\u0633\\u064c\\u0627\\u064e\\u0646\\u062d\\u0629 \\u064e\\u0637\\u064a\\u064e\\u0628\\u0629 \\u0645\\u0650\\u0646 \\u0652\\u062d\\u0627\\u064e\\u0643\\u064b\\u0645 \\u0645\\u062b\\u0642\\u0641\\u0652\\u060c \\u064a\\u064e\\u062d\\u064b\\u0645\\u064d\\u0644\\u0652 \\u0639\\u0644\\u0649 \\u0639\\u064d\\u0627\\u064b\\u062a\\u064f\\u0642\\u0647 \\u064b\\u0627\\u064e\\u0644\\u064e\\u0646\\u0651\\u0647\\u064f\\u0648\\u064d\\u0636 \\u064f\\u0628\\u0652\\u0627\\u064c\\u0644\\u062b\\u064d\\u0642\\u064f\\u0627\\u064c\\u0641\\u064b\\u0629\\u064c \\u0648\\u064f\\u0627\\u064c\\u0644\\u064b\\u0645\\u064e\\u0639\\u064b\\u0631\\u0650\\u0641\\u0629 \\u064b.\\u0648\\u062e\\u0651\\u0644\\u0650\\u0635 \\u064f\\u0627\\u0650\\u0644\\u0650\\u0645\\u062d\\u064b\\u0627\\u0636\\u0631 \\u0625\\u064e\\u0644\\u0651\\u0649\\u0652 \\u0623\\u064b\\u0646 \\u064c\\u062b\\u064e\\u0645\\u0629\\u0651 \\u064b\\u062b\\u0644\\u0627\\u064e\\u062b\\u064c \\u0646\\u0642\\u0651\\u0627\\u0637 \\u064e\\u0644\\u064b\\u0644\\u0650\\u0627\\u064b\\u0631\\u064c\\u062a\\u0642\\u0650\\u0627\\u0621\\u064b \\u064e\\u0628\\u064d\\u0627\\u064d\\u0644\\u0641\\u0643\\u0652\\u0631\\u0629 \\u064d\\u0627\\u064d\\u0644\\u062b\\u0642\\u0651\\u0627\\u0641\\u064d\\u064a\\u064d\\u0629\\u0650 \\u0641\\u064e\\u064a\\u064d \\u064f\\u0627\\u0644\\u064c\\u0634\\u064d\\u0627\\u0631\\u0652\\u0642\\u0629 \\u0623\\u064d\\u0648\\u0644\\u0650\\u0647\\u0627 \\u064d\\u062a\\u0652\\u0623\\u064b\\u0633\\u064e\\u064a\\u0633 \\u0650\\u062f\\u0652\\u0627\\u0652\\u0626\\u0650\\u0631\\u0652\\u0629\\u064e \\u064e\\u0627\\u0644\\u062b\\u0642\\u0651\\u0627\\u0641\\u0629 \\u0648\\u064e\\u0627\\u0650\\u0644\\u064e\\u0625\\u0639\\u0650\\u0644\\u0627\\u0645\\u0651\\u060c \\u064c\\u0648\\u0650\\u062b\\u0652\\u0627\\u0646\\u064a\\u0647\\u0651\\u0627\\u064c \\u0627\\u062c\\u062a\\u0651\\u0645\\u064d\\u0627\\u064d\\u0639 \\u064e\\u0635\\u0627\\u062d\\u0650\\u0628\\u0650 \\u0627\\u0651\\u0644\\u0651\\u0633\\u0651\\u0645\\u0648\\u064d \\u0650\\u062d\\u0627\\u064f\\u0643\\u064b\\u0645 \\u0627\\u0644\\u064f\\u0634\\u0652\\u0627\\u064b\\u0631\\u0642\\u064d\\u0629\\u0651 \\u064c\\u0628\\u0643\\u064f\\u0648\\u0650\\u0627\\u062f\\u064c\\u0631 \\u0627\\u0644\\u064b\\u062f\\u064b\\u0627\\u0650\\u0626\\u0631\\u064b\\u0629 \\u064c\\u0648\\u0642\\u0651\\u062f\\u064f\\u0651\\u0645 \\u0641\\u0651\\u064a\\u0647\\u064f \\u0645\\u062c\\u0650\\u0645\\u064b\\u0648\\u064d\\u0639\\u0651\\u0629\\u064d \\u0645\\u064f\\u0646 \\u0652\\u0627\\u064e\\u0644\\u0633\\u064a\\u0651\\u0627\\u0651\\u0633\\u0627\\u062a \\u0651\\u0627\\u0644\\u062b\\u0642\\u064c\\u0627\\u064b\\u0641\\u064a\\u064e\\u0629 \\u0648\\u064c\\u0627\\u0644\\u062e\\u0651\\u0637\\u0637\\u064b \\u0627\\u0644\\u064d\\u062a\\u0646\\u0645\\u064e\\u0648\\u064a\\u0650\\u0629 \\u0651\\u0648\\u062f\\u0652\\u0639\\u0627 \\u064c\\u0633\\u0650\\u0645\\u064b\\u0648\\u064c\\u0647 \\u064c\\u0625\\u0650\\u0644\\u064f\\u0649: \\u0627\\u0644\\u0627\\u0647\\u0651\\u062a\\u064f\\u0645\\u0627\\u064f\\u0645 \\u0628\\u064b\\u0627\\u0650\\u0644\\u064f\\u0645\\u0652\\u0633\\u0631\\u062d\\u060c\\u0652 \\u0648\\u064b\\u0627\\u0651\\u0644\\u0623\\u0637\\u064c\\u0631\\u0650 \\u0627\\u064d\\u0644\\u0651\\u0639\\u0627\\u064b\\u0645\\u0629 \\u064e\\u0644\\u0644\\u0650\\u062b\\u064e\\u0642\\u0627\\u064d\\u0641\\u0629\\u064d\\u060c\\u0651 \\u0651\\u0627\\u064c\\u0644\\u0650\\u0627\\u0631\\u064f\\u062a\\u0642\\u0627\\u064f\\u0621\\u064c \\u0628\\u064d\\u0627\\u0650\\u0644\\u0639\\u0645\\u0651\\u0644\\u064e \\u0627\\u0644\\u0651\\u062a\\u064d\\u0634\\u0643\\u0651\\u064a\\u0644\\u064a\\u0650\\u060c \\u0627\\u0651\\u0644\\u0627\\u064f\\u0647\\u064f\\u062a\\u0645\\u064d\\u0627\\u0645 \\u0650\\u0628\\u0650\\u0627\\u0651\\u0644\\u064b\\u0648\\u0639\\u0651\\u064a \\u064b\\u0648\\u0650\\u0627\\u0652\\u0644\\u064f\\u0630\\u0627\\u0626\\u0650\\u0642\\u0651\\u0629\\u064c \\u0627\\u0651\\u0644\\u062c\\u0650\\u0645\\u064d\\u0627\\u0652\\u0644\\u0652\\u064a\\u0652\\u0629\\u064f\\u060c \\u0627\\u064d\\u0644\\u0650\\u0627\\u0647\\u064f\\u062a\\u0645\\u0627\\u0651\\u0645\\u0652 \\u064f\\u0628\\u064d\\u0627\\u0644\\u0637\\u0641\\u0644\\u0651\\u060c \\u0651\\u062a\\u0637\\u0648\\u064a\\u0631\\u064b \\u0634\\u0628\\u0643\\u0629\\u0652 \\u0627\\u0644\\u0645\\u0643\\u062a\\u064b\\u0628\\u0627\\u062a\\u060c\\u0652 \\u064e\\u0627\\u0633\\u062a\\u0643\\u064f\\u0645\\u064d\\u0627\\u0644\\u064d \\u0639\\u064b\\u0645\\u064b\\u0644\\u0652\\u064a\\u0627\\u062a \\u064c\\u0627\\u0644\\u064f\\u062a\\u0631\\u0645\\u064a\\u0645\\u0650\\u060c \\u064b\\u0627\\u0644\\u064d\\u0627\\u0647\\u064b\\u062a\\u064c\\u0645\\u0652\\u0627\\u0650\\u0645\\u064d \\u0650\\u0628\\u062b\\u064e\\u0642\\u0652\\u0627\\u064b\\u0641\\u064e\\u0629\\u064d \\u0650\\u0627\\u064d\\u0644\\u0645\\u0650\\u0631\\u064b\\u0623\\u064b\\u0629 \\u0650\\u0648\\u064b\\u0627\\u064f\\u0644\\u064d\\u0637\\u0641\\u0652\\u0644 .\\u0652 \\u064c.\\u064d)\\u064f \\u064b\\u0648\\u062b\\u064b\\u0627\\u064d\\u0644\\u0651\\u062b\\u064b\\u0647\\u064e\\u0627\\u064f \\u064b\\u0625\\u0650\\u0639\\u0650\\u0644\\u0651\\u0627\\u064b\\u0646\\u064f \\u0627\\u0644\\u0634\\u0627\\u0631\\u0642\\u0629\\u064f \\u0651\\u0639\\u0627\\u064d\\u0635\\u064e\\u0645\\u0629\\u064c \\u0644\\u0644\\u064b\\u062b\\u0642\\u064b\\u0627\\u0641\\u0629 \\u064b\\u0627\\u0652\\u0644\\u064e\\u0639\\u0651\\u0631\\u0628\\u064a\\u0629\\u064f \\u064b\\u0641\\u064a\\u064b \\u0639\\u0627\\u0645 19\\u06529\\u064d8 \\u064e\\u0644\\u0645\\u0627 \\u062a\\u062a\\u0645\\u064b\\u064a\\u0632\\u064f \\u0628\\u064f\\u0647\\u064e \\u064e\\u0645\\u064b\\u0646\\u064b \\u064b\\u0646\\u064e\\u0634\\u0650\\u0627\\u0637 \\u0651\\u0648\\u064f\\u062d\\u064b\\u0631\\u0627\\u0643\\u064d \\u064f\\u062b\\u0642\\u0627\\u0641\\u064a\\u0650 \\u0645\\u0652\\u0645\\u064c\\u064a\\u0632\\u064d\\u060c\\u064e \\u064b\\u0641\\u0636\\u0644\\u0627\\u064b\\u064e \\u064f\\u0639\\u0650\\u0646 \\u062f\\u0648\\u0631\\u064b \\u064c\\u0627\\u0644\\u064d\\u062c\\u064f\\u0648\\u0627\\u0652\\u0626\\u064f\\u0632\\u0651 \\u0648\\u0635\\u0650\\u0646\\u064f\\u0627\\u062f\\u0651\\u064a\\u064b\\u0642 \\u064f\\u0627\\u064b\\u0644\\u062f\\u064d\\u0639\\u064c\\u0645\\u060c \\u064d\\u0648\\u0627\\u064f\\u0644\\u062f\\u0628\\u0652\\u0644\\u064b\\u0648\\u0645\\u0627\\u0633\\u064d\\u064a\\u0629 \\u064f\\u0627\\u0650\\u0644\\u064b\\u062b\\u0652\\u0642\\u0627\\u0641\\u0651\\u064a\\u0629\\u060c\\u064e \\u0648\\u0639\\u0650\\u062f\\u062f \\u0648\\u0652\\u0646\\u064c\\u0648\\u0639 \\u064b\\u0627\\u064b\\u0644\\u064c\\u062c\\u064b\\u0627\\u0645\\u0639\\u0650\\u0627\\u064c\\u062a \\u0648\\u0627\\u0644\\u064e\\u0645\\u0650\\u0631\\u0627\\u0652\\u0643\\u0632\\u060c \\u064f\\u0648\\u0627\\u064b\\u0644\\u0625\\u064f\\u062d\\u0635\\u064c\\u0627\\u0650\\u0621\\u064e \\u0627\\u0651\\u0644\\u0627\\u064b\\u062c\\u064f\\u062a\\u0645\\u0627\\u0650\\u0639\\u0650\\u064a\\u0651 \\u064b\\u0641\\u0651\\u064a \\u0628\\u0644\\u0648\\u064e\\u0631\\u0629\\u064f \\u064b\\u0648\\u064c\\u062a\\u064b\\u0631\\u0633\\u0652\\u064a\\u062e \\u064c\\u0645\\u064d\\u0643\\u064e\\u0627\\u0646\\u0629 \\u064b\\u0627\\u0644\\u0651\\u0634\\u0627\\u0651\\u0631\\u064e\\u0642\\u0629 \\u064d\\u0639\\u0627\\u0635\\u0645\\u0629\\u064f \\u0651\\u0644\\u064c\\u0644\\u0651\\u062b\\u064d\\u0642\\u0627\\u064d\\u0641\\u0629\\u064e \\u064c\\u0627\\u064c\\u0644\\u0652\\u0639\\u0650\\u0631\\u0628\\u064a\\u064c\\u0629 \\u0650\\u0648\\u0652\\u0627\\u0644\\u0625\\u064d\\u0633\\u0644\\u0627\\u0651\\u0645\\u064a\\u0652\\u0629\\u060c \\u0648\\u0643\\u064f\\u0644 \\u0651\\u0630\\u0652\\u0644\\u064b\\u0643 \\u064b\\u0628\\u062c\\u0647\\u062f \\u0651\\u0635\\u0651\\u0627\\u062d\\u0628\\u064d \\u0650\\u0627\\u0644\\u064d\\u0633\\u064e\\u0645\\u0648\\u0650 \\u064b\\u062d\\u0650\\u0627\\u064c\\u0643\\u064f\\u0645 \\u064d\\u0627\\u0644\\u0634\\u0627\\u0631\\u064c\\u0642\\u0629 \\u0627\\u064e\\u0644\\u0650\\u0630\\u064a\\u064b \\u064e\\u0639\\u0645\\u064f\\u0644 \\u0651\\u0648\\u064d\\u0644\\u0627 \\u064a\\u0632\\u064f\\u0627\\u064e\\u0644 \\u0628\\u0634\\u063a\\u0641\\u0652 \\u0648\\u062d\\u0628\\u064f \\u0639\\u064f\\u0644\\u0649\\u0652 \\u062a\\u064c\\u0639\\u0632\\u064b\\u064a\\u064b\\u0632\\u064e \\u064c\\u0627\\u064f\\u0644\\u064e\\u062a\\u0646\\u064b\\u0645\\u0651\\u064a\\u064d\\u0629\\u064c \\u0627\\u064e\\u0644\\u064b\\u062b\\u0642\\u064e\\u0627\\u064d\\u0641\\u064c\\u064a\\u0629 \\u064e\\u0641\\u0650\\u064a\\u064f \\u0627\\u0652\\u0644\\u064e\\u0634\\u0627\\u0631\\u064e\\u0642\\u064d\\u0629\\u064e \\u0645\\u0646\\u0650 \\u062e\\u064b\\u0644\\u0650\\u0627\\u0650\\u0644\\u0651 \\u0651\\u0633\\u064e\\u0646\\u0651 \\u0648\\u0625\\u0642\\u064b\\u0631\\u0651\\u0627\\u0631 \\u0645\\u062c\\u0645\\u0648\\u064c\\u0639\\u064e\\u0629\\u064e \\u0645\\u064f\\u0646\\u0651 \\u0627\\u064b\\u0644\\u0645\\u064d\\u0634\\u0650\\u0631\\u0648\\u0639\\u064f\\u0627\\u064f\\u062a\\u0652 \\u0627\\u0644\\u0651\\u062b\\u0650\\u0642\\u0627\\u0652\\u0641\\u0650\\u064a\\u0629\\u064c \\u0650\\u0627\\u0644\\u062a\\u064d\\u064a \\u064e\\u062a\\u064c\\u0647\\u064e\\u062f\\u064d\\u0641\\u064e \\u0625\\u064e\\u0644\\u0650\\u0649 \\u0652\\u062a\\u062d\\u0642\\u064a\\u0642 \\u0630\\u0644\\u0643\\u064d\\u060c\\u064b \\u0650\\u062d\\u062a\\u0650\\u0649 \\u0652\\u0623\\u064e\\u0635\\u0628\\u062d\\u062a\\u0651 \\u064c\\u0627\\u064e\\u0644\\u0634\\u0627\\u064c\\u0631\\u064c\\u0642\\u064b\\u0629\\u0652 \\u0627\\u0644\\u0651\\u064a\\u0648\\u064c\\u0645 \\u0651\\u0648\\u064f\\u062c\\u0647\\u064b\\u0629\\u064e \\u064a\\u0624\\u064f\\u0645\\u064e\\u0647\\u064c\\u0627 \\u0652\\u0627\\u0644\\u064e\\u0645\\u0641\\u064e\\u0643\\u0631\\u0651\\u0648\\u0651\\u0646 \\u0648\\u0650\\u0627\\u0644\\u0645\\u0651\\u062b\\u0642\\u0650\\u0641\\u0651\\u0648\\u0646 \\u0648\\u0627\\u0644\\u0645\\u064f\\u0628\\u064c\\u062f\\u0639\\u064c\\u0648\\u0650\\u0646 \\u0652\\u0648\\u0652\\u0627\\u0651\\u0644\\u064c\\u0643\\u062a\\u064c\\u0627\\u0628\\u0650 \\u064c\\u0645\\u0650\\u0646\\u064f \\u0634\\u062a\\u0650\\u0649\\u064e \\u0623\\u064f\\u0646\\u064d\\u062d\\u0627\\u0621 \\u0627\\u064d\\u0644\\u0652\\u0639\\u0627\\u0644\\u064f\\u0645\\u060c\\u0650 \\u064e\\u0634\\u064b\\u0627\\u0652\\u0645\\u062e\\u0651\\u0629\\u064e \\u0631\\u0627\\u0633\\u062e\\u064b\\u0629 \\u064c\\u0628\\u064c\\u0639\\u0651\\u0637\\u064c\\u0627\\u0626\\u064f\\u0647\\u0650\\u0627 \\u064e\\u0648\\u062a\\u064b\\u0642\\u0650\\u062f\\u0645\\u0647\\u064d\\u0627 \\u0650.\\u064f\"\n        ],\n        \"semantic_type\": \"\",\n        \"description\": \"\"\n      }\n    },\n    {\n      \"column\": \"label\",\n      \"properties\": {\n        \"dtype\": \"category\",\n        \"num_unique_values\": 7,\n        \"samples\": [\n          \"Culture\",\n          \"Finance\",\n          \"Sports\"\n        ],\n        \"semantic_type\": \"\",\n        \"description\": \"\"\n      }\n    }\n  ]\n}"
            }
          },
          "metadata": {},
          "execution_count": 138
        }
      ],
      "source": [
        "df = pd.read_csv(\"/content/sanad.csv\")\n",
        "df"
      ]
    },
    {
      "cell_type": "code",
      "source": [
        "df.head()"
      ],
      "metadata": {
        "colab": {
          "base_uri": "https://localhost:8080/",
          "height": 206
        },
        "id": "rcbi_UgHClHf",
        "outputId": "9308ec1f-b1b8-489e-dd89-2b7d6d92932d"
      },
      "execution_count": 139,
      "outputs": [
        {
          "output_type": "execute_result",
          "data": {
            "text/plain": [
              "                                                text    label\n",
              "0  https://example.com/resource/الشاٌرقة -ْ محمِد...  Culture\n",
              "1  https://example.com/resource/اَنِطٌلقّتَ ٍفٍيّ...  Culture\n",
              "2  https://example.com/resource/أُقيًمٌتِ مِساءُ ...  Culture\n",
              "3  https://example.com/resource/بٍاسُمةَ يًوٌنٍس ...  Culture\n",
              "4  https://example.com/resource/قُرر اَتحِاد اًلْ...  Culture"
            ],
            "text/html": [
              "\n",
              "  <div id=\"df-189168e1-9765-4953-bf96-8056a7423b04\" class=\"colab-df-container\">\n",
              "    <div>\n",
              "<style scoped>\n",
              "    .dataframe tbody tr th:only-of-type {\n",
              "        vertical-align: middle;\n",
              "    }\n",
              "\n",
              "    .dataframe tbody tr th {\n",
              "        vertical-align: top;\n",
              "    }\n",
              "\n",
              "    .dataframe thead th {\n",
              "        text-align: right;\n",
              "    }\n",
              "</style>\n",
              "<table border=\"1\" class=\"dataframe\">\n",
              "  <thead>\n",
              "    <tr style=\"text-align: right;\">\n",
              "      <th></th>\n",
              "      <th>text</th>\n",
              "      <th>label</th>\n",
              "    </tr>\n",
              "  </thead>\n",
              "  <tbody>\n",
              "    <tr>\n",
              "      <th>0</th>\n",
              "      <td>https://example.com/resource/الشاٌرقة -ْ محمِد...</td>\n",
              "      <td>Culture</td>\n",
              "    </tr>\n",
              "    <tr>\n",
              "      <th>1</th>\n",
              "      <td>https://example.com/resource/اَنِطٌلقّتَ ٍفٍيّ...</td>\n",
              "      <td>Culture</td>\n",
              "    </tr>\n",
              "    <tr>\n",
              "      <th>2</th>\n",
              "      <td>https://example.com/resource/أُقيًمٌتِ مِساءُ ...</td>\n",
              "      <td>Culture</td>\n",
              "    </tr>\n",
              "    <tr>\n",
              "      <th>3</th>\n",
              "      <td>https://example.com/resource/بٍاسُمةَ يًوٌنٍس ...</td>\n",
              "      <td>Culture</td>\n",
              "    </tr>\n",
              "    <tr>\n",
              "      <th>4</th>\n",
              "      <td>https://example.com/resource/قُرر اَتحِاد اًلْ...</td>\n",
              "      <td>Culture</td>\n",
              "    </tr>\n",
              "  </tbody>\n",
              "</table>\n",
              "</div>\n",
              "    <div class=\"colab-df-buttons\">\n",
              "\n",
              "  <div class=\"colab-df-container\">\n",
              "    <button class=\"colab-df-convert\" onclick=\"convertToInteractive('df-189168e1-9765-4953-bf96-8056a7423b04')\"\n",
              "            title=\"Convert this dataframe to an interactive table.\"\n",
              "            style=\"display:none;\">\n",
              "\n",
              "  <svg xmlns=\"http://www.w3.org/2000/svg\" height=\"24px\" viewBox=\"0 -960 960 960\">\n",
              "    <path d=\"M120-120v-720h720v720H120Zm60-500h600v-160H180v160Zm220 220h160v-160H400v160Zm0 220h160v-160H400v160ZM180-400h160v-160H180v160Zm440 0h160v-160H620v160ZM180-180h160v-160H180v160Zm440 0h160v-160H620v160Z\"/>\n",
              "  </svg>\n",
              "    </button>\n",
              "\n",
              "  <style>\n",
              "    .colab-df-container {\n",
              "      display:flex;\n",
              "      gap: 12px;\n",
              "    }\n",
              "\n",
              "    .colab-df-convert {\n",
              "      background-color: #E8F0FE;\n",
              "      border: none;\n",
              "      border-radius: 50%;\n",
              "      cursor: pointer;\n",
              "      display: none;\n",
              "      fill: #1967D2;\n",
              "      height: 32px;\n",
              "      padding: 0 0 0 0;\n",
              "      width: 32px;\n",
              "    }\n",
              "\n",
              "    .colab-df-convert:hover {\n",
              "      background-color: #E2EBFA;\n",
              "      box-shadow: 0px 1px 2px rgba(60, 64, 67, 0.3), 0px 1px 3px 1px rgba(60, 64, 67, 0.15);\n",
              "      fill: #174EA6;\n",
              "    }\n",
              "\n",
              "    .colab-df-buttons div {\n",
              "      margin-bottom: 4px;\n",
              "    }\n",
              "\n",
              "    [theme=dark] .colab-df-convert {\n",
              "      background-color: #3B4455;\n",
              "      fill: #D2E3FC;\n",
              "    }\n",
              "\n",
              "    [theme=dark] .colab-df-convert:hover {\n",
              "      background-color: #434B5C;\n",
              "      box-shadow: 0px 1px 3px 1px rgba(0, 0, 0, 0.15);\n",
              "      filter: drop-shadow(0px 1px 2px rgba(0, 0, 0, 0.3));\n",
              "      fill: #FFFFFF;\n",
              "    }\n",
              "  </style>\n",
              "\n",
              "    <script>\n",
              "      const buttonEl =\n",
              "        document.querySelector('#df-189168e1-9765-4953-bf96-8056a7423b04 button.colab-df-convert');\n",
              "      buttonEl.style.display =\n",
              "        google.colab.kernel.accessAllowed ? 'block' : 'none';\n",
              "\n",
              "      async function convertToInteractive(key) {\n",
              "        const element = document.querySelector('#df-189168e1-9765-4953-bf96-8056a7423b04');\n",
              "        const dataTable =\n",
              "          await google.colab.kernel.invokeFunction('convertToInteractive',\n",
              "                                                    [key], {});\n",
              "        if (!dataTable) return;\n",
              "\n",
              "        const docLinkHtml = 'Like what you see? Visit the ' +\n",
              "          '<a target=\"_blank\" href=https://colab.research.google.com/notebooks/data_table.ipynb>data table notebook</a>'\n",
              "          + ' to learn more about interactive tables.';\n",
              "        element.innerHTML = '';\n",
              "        dataTable['output_type'] = 'display_data';\n",
              "        await google.colab.output.renderOutput(dataTable, element);\n",
              "        const docLink = document.createElement('div');\n",
              "        docLink.innerHTML = docLinkHtml;\n",
              "        element.appendChild(docLink);\n",
              "      }\n",
              "    </script>\n",
              "  </div>\n",
              "\n",
              "\n",
              "<div id=\"df-0ac473bb-7b1b-4f55-bd26-418de199c782\">\n",
              "  <button class=\"colab-df-quickchart\" onclick=\"quickchart('df-0ac473bb-7b1b-4f55-bd26-418de199c782')\"\n",
              "            title=\"Suggest charts\"\n",
              "            style=\"display:none;\">\n",
              "\n",
              "<svg xmlns=\"http://www.w3.org/2000/svg\" height=\"24px\"viewBox=\"0 0 24 24\"\n",
              "     width=\"24px\">\n",
              "    <g>\n",
              "        <path d=\"M19 3H5c-1.1 0-2 .9-2 2v14c0 1.1.9 2 2 2h14c1.1 0 2-.9 2-2V5c0-1.1-.9-2-2-2zM9 17H7v-7h2v7zm4 0h-2V7h2v10zm4 0h-2v-4h2v4z\"/>\n",
              "    </g>\n",
              "</svg>\n",
              "  </button>\n",
              "\n",
              "<style>\n",
              "  .colab-df-quickchart {\n",
              "      --bg-color: #E8F0FE;\n",
              "      --fill-color: #1967D2;\n",
              "      --hover-bg-color: #E2EBFA;\n",
              "      --hover-fill-color: #174EA6;\n",
              "      --disabled-fill-color: #AAA;\n",
              "      --disabled-bg-color: #DDD;\n",
              "  }\n",
              "\n",
              "  [theme=dark] .colab-df-quickchart {\n",
              "      --bg-color: #3B4455;\n",
              "      --fill-color: #D2E3FC;\n",
              "      --hover-bg-color: #434B5C;\n",
              "      --hover-fill-color: #FFFFFF;\n",
              "      --disabled-bg-color: #3B4455;\n",
              "      --disabled-fill-color: #666;\n",
              "  }\n",
              "\n",
              "  .colab-df-quickchart {\n",
              "    background-color: var(--bg-color);\n",
              "    border: none;\n",
              "    border-radius: 50%;\n",
              "    cursor: pointer;\n",
              "    display: none;\n",
              "    fill: var(--fill-color);\n",
              "    height: 32px;\n",
              "    padding: 0;\n",
              "    width: 32px;\n",
              "  }\n",
              "\n",
              "  .colab-df-quickchart:hover {\n",
              "    background-color: var(--hover-bg-color);\n",
              "    box-shadow: 0 1px 2px rgba(60, 64, 67, 0.3), 0 1px 3px 1px rgba(60, 64, 67, 0.15);\n",
              "    fill: var(--button-hover-fill-color);\n",
              "  }\n",
              "\n",
              "  .colab-df-quickchart-complete:disabled,\n",
              "  .colab-df-quickchart-complete:disabled:hover {\n",
              "    background-color: var(--disabled-bg-color);\n",
              "    fill: var(--disabled-fill-color);\n",
              "    box-shadow: none;\n",
              "  }\n",
              "\n",
              "  .colab-df-spinner {\n",
              "    border: 2px solid var(--fill-color);\n",
              "    border-color: transparent;\n",
              "    border-bottom-color: var(--fill-color);\n",
              "    animation:\n",
              "      spin 1s steps(1) infinite;\n",
              "  }\n",
              "\n",
              "  @keyframes spin {\n",
              "    0% {\n",
              "      border-color: transparent;\n",
              "      border-bottom-color: var(--fill-color);\n",
              "      border-left-color: var(--fill-color);\n",
              "    }\n",
              "    20% {\n",
              "      border-color: transparent;\n",
              "      border-left-color: var(--fill-color);\n",
              "      border-top-color: var(--fill-color);\n",
              "    }\n",
              "    30% {\n",
              "      border-color: transparent;\n",
              "      border-left-color: var(--fill-color);\n",
              "      border-top-color: var(--fill-color);\n",
              "      border-right-color: var(--fill-color);\n",
              "    }\n",
              "    40% {\n",
              "      border-color: transparent;\n",
              "      border-right-color: var(--fill-color);\n",
              "      border-top-color: var(--fill-color);\n",
              "    }\n",
              "    60% {\n",
              "      border-color: transparent;\n",
              "      border-right-color: var(--fill-color);\n",
              "    }\n",
              "    80% {\n",
              "      border-color: transparent;\n",
              "      border-right-color: var(--fill-color);\n",
              "      border-bottom-color: var(--fill-color);\n",
              "    }\n",
              "    90% {\n",
              "      border-color: transparent;\n",
              "      border-bottom-color: var(--fill-color);\n",
              "    }\n",
              "  }\n",
              "</style>\n",
              "\n",
              "  <script>\n",
              "    async function quickchart(key) {\n",
              "      const quickchartButtonEl =\n",
              "        document.querySelector('#' + key + ' button');\n",
              "      quickchartButtonEl.disabled = true;  // To prevent multiple clicks.\n",
              "      quickchartButtonEl.classList.add('colab-df-spinner');\n",
              "      try {\n",
              "        const charts = await google.colab.kernel.invokeFunction(\n",
              "            'suggestCharts', [key], {});\n",
              "      } catch (error) {\n",
              "        console.error('Error during call to suggestCharts:', error);\n",
              "      }\n",
              "      quickchartButtonEl.classList.remove('colab-df-spinner');\n",
              "      quickchartButtonEl.classList.add('colab-df-quickchart-complete');\n",
              "    }\n",
              "    (() => {\n",
              "      let quickchartButtonEl =\n",
              "        document.querySelector('#df-0ac473bb-7b1b-4f55-bd26-418de199c782 button');\n",
              "      quickchartButtonEl.style.display =\n",
              "        google.colab.kernel.accessAllowed ? 'block' : 'none';\n",
              "    })();\n",
              "  </script>\n",
              "</div>\n",
              "\n",
              "    </div>\n",
              "  </div>\n"
            ],
            "application/vnd.google.colaboratory.intrinsic+json": {
              "type": "dataframe",
              "variable_name": "df",
              "summary": "{\n  \"name\": \"df\",\n  \"rows\": 39885,\n  \"fields\": [\n    {\n      \"column\": \"text\",\n      \"properties\": {\n        \"dtype\": \"string\",\n        \"num_unique_values\": 39885,\n        \"samples\": [\n          \"https://example.com/resource/\\u0628\\u0652\\u0644\\u0650\\u063a\\u062a \\u064e\\u062a\\u0633\\u064e\\u064a\\u064a\\u0644\\u0651\\u0627\\u064b\\u062a\\u064d \\u0627\\u0652\\u0644\\u0623\\u0652\\u062c\\u064e\\u0627\\u0646\\u0651\\u0628\\u064e \\u064e\\u0641\\u064a \\u0633\\u064d\\u0648\\u0652\\u0642\\u0650 \\u064e\\u062f\\u0628\\u064a \\u0627\\u0644\\u0645\\u064d\\u0627\\u0650\\u0644\\u064d\\u064a\\u064d \\u0623\\u0645\\u064d\\u0633\\u064e 59\\u064f \\u0645\\u0644\\u064d\\u064a\\u0648\\u0646\\u0627\\u0650\\u064b\\u0652\\u060c \\u0651\\u0641\\u0651\\u0642\\u062f \\u0650\\u0628\\u0652\\u0644\\u064b\\u063a\\u062a \\u064b\\u0642\\u0651\\u064a\\u064f\\u0645\\u0651\\u0629\\u0651 \\u0645\\u064f\\u0634\\u064b\\u062a\\u064f\\u0631\\u0650\\u064a\\u0627\\u062a \\u064e\\u0627\\u0644\\u0652\\u0623\\u062c\\u0627\\u064d\\u0646\\u064d\\u0628\\u064b\\u060c\\u064b \\u063a\\u0652\\u064a\\u0651\\u0631\\u064d \\u0627\\u0652\\u0644\\u0639\\u0631\\u064c\\u0628\\u060c\\u064f \\u0645\\u0650\\u0646\\u0651 \\u064c\\u0627\\u0644\\u0623\\u0633\\u064c\\u0647\\u064d\\u0645 \\u064c\\u062e\\u064f\\u0644\\u0627\\u064c\\u0644\\u064f \\u0647\\u0650\\u0630\\u064e\\u0627 \\u0627\\u064c\\u0644\\u064a\\u0648\\u0650\\u0645 \\u064d\\u0646\\u064b\\u062d\\u064c\\u0648 9\\u064b4\\u064d \\u064e.\\u065113\\u06526 \\u0645\\u0644\\u0652\\u064a\\u064c\\u0648\\u064b\\u0646\\u064c \\u062f\\u0631\\u0647\\u0645 \\u0641\\u064a\\u0651 \\u0652\\u062d\\u0652\\u064a\\u064f\\u0646\\u0651 \\u0628\\u0644\\u063a\\u064e\\u062a\\u064d \\u064b\\u0642\\u064c\\u064a\\u0645\\u0629\\u064c \\u064b\\u0645\\u064b\\u0628\\u064a\\u0639\\u0627\\u062a\\u0647\\u0645\\u064e \\u0646\\u064b\\u062d\\u0648\\u0652 2\\u06500 .22\\u064b6 \\u0650\\u0645\\u064b\\u0644\\u064a\\u0651\\u0648\\u0646 \\u0652\\u062f\\u0631\\u0650\\u0647\\u0645\\u064f .\\u064f \\u0643\\u0645\\u0627 \\u0650\\u0628\\u0644\\u064e\\u063a\\u064b\\u062a \\u0642\\u0652\\u064a\\u0645\\u0629\\u0650 \\u0645\\u064d\\u0634\\u064b\\u062a\\u064c\\u0631\\u0652\\u064a\\u0627\\u062a \\u064b\\u0627\\u0644\\u0645\\u0633\\u064d\\u062a\\u062b\\u064f\\u0645\\u064b\\u0631\\u064b\\u064a\\u064b\\u0646\\u064b \\u0627\\u0644\\u0652\\u0639\\u0650\\u0631\\u0650\\u0628\\u060c\\u064b \\u064f\\u063a\\u064a\\u0631 \\u0651\\u0627\\u0644\\u0652\\u062e\\u0644\\u064d\\u064a\\u064f\\u062c\\u064d\\u064a\\u064a\\u0651\\u0646\\u0650\\u060c\\u0651 \\u062e\\u0644\\u0627\\u0644 \\u0647\\u0650\\u0630\\u0627 \\u0650\\u0627\\u0644\\u0652\\u064a\\u064b\\u0648\\u0645 \\u0646\\u064f\\u062d\\u064d\\u0648\\u064f 07\\u064e .7\\u064c2\\u0650 \\u0645\\u0644\\u064e\\u064a\\u064c\\u0648\\u0646\\u0652 \\u0652\\u062f\\u0631\\u0647\\u064e\\u0645 \\u064d\\u0648\\u0642\\u064b\\u064a\\u0645\\u064c\\u0629\\u064c \\u0645\\u0652\\u0628\\u064e\\u064a\\u064f\\u0639\\u064e\\u0627\\u064b\\u062a\\u0651\\u0647\\u0645 \\u0646\\u062d\\u0648\\u064c \\u065281\\u064b \\u0650.6\\u06504\\u064e \\u064e\\u0645\\u0644\\u064f\\u064a\\u064c\\u0648\\u0646\\u0651 \\u062f\\u064b\\u0631\\u0647\\u064e\\u0645\\u064e .\\u0623\\u064b\\u0645\\u0651\\u0627\\u0652 \\u0652\\u0628\\u0651\\u0627\\u064c\\u0644\\u064e\\u0646\\u064f\\u0633\\u064d\\u0628\\u0629\\u064e \\u064c\\u0644\\u0644\\u0651\\u0645\\u064d\\u0633\\u064c\\u062a\\u064b\\u062b\\u0652\\u0645\\u0631\\u064b\\u064a\\u0646 \\u0652\\u0627\\u0644\\u062e\\u064c\\u0644\\u064a\\u064e\\u062c\\u064a\\u0650\\u064a\\u0646\\u064c \\u064f\\u0641\\u064b\\u0642\\u062f \\u0628\\u0644\\u064b\\u063a\\u0652\\u062a \\u0642\\u064a\\u0645\\u0629 \\u0645\\u0634\\u0652\\u062a\\u064e\\u0631\\u064c\\u064a\\u064f\\u0627\\u064e\\u062a\\u0647\\u0645\\u064b \\u064b9\\u064b1\\u064f \\u0651.4\\u064d3\\u064d \\u0645\\u0650\\u0644\\u064a\\u0648\\u064c\\u0646 \\u064c\\u062f\\u0631\\u0647\\u0645 \\u0641\\u064a\\u064f \\u062d\\u064a\\u0651\\u0646\\u064b \\u064e\\u0628\\u0644\\u064b\\u063a\\u064c\\u062a \\u064b\\u0642\\u064c\\u064a\\u0645\\u064d\\u0629\\u0651 \\u0645\\u0652\\u0628\\u0651\\u064a\\u0652\\u0639\\u0652\\u0627\\u064c\\u062a\\u064c\\u0647\\u0645\\u0652 \\u064f\\u0646\\u064e\\u062d\\u0650\\u0648 4\\u064f8 \\u064f.21\\u064c \\u0645\\u0644\\u064a\\u0648\\u064f\\u0646 \\u064e\\u062f\\u064e\\u0631\\u064d\\u0647\\u064e\\u0645 \\u064e\\u062e\\u0644\\u064c\\u0627\\u0644 \\u0650\\u0646\\u064c\\u0641\\u0633 \\u064f\\u0627\\u0652\\u0644\\u0651\\u0641\\u062a\\u0631\\u0652\\u0629\\u064c .\",\n          \"https://example.com/resource/\\u062f\\u0628\\u0650\\u064a\\u0650 - \\u0625\\u0650\\u0628\\u064d\\u0631\\u0650\\u0627\\u0647\\u064f\\u064a\\u064c\\u0645\\u0652 \\u0651\\u0627\\u0644\\u064f\\u064a\\u064b\\u0648\\u0633\\u0651\\u0641:\\u064e\\u0628\\u064d\\u062d\\u0636\\u0648\\u0652\\u0631\\u0650 \\u0645\\u064e\\u062d\\u064d\\u0645\\u062f\\u064e \\u0627\\u064d\\u0644\\u0645\\u0652\\u0631\\u060c \\u0631\\u0626\\u064a\\u0633\\u0651 \\u0627\\u0644\\u0645\\u064c\\u062c\\u064c\\u0644\\u064b\\u0633 \\u0627\\u064c\\u0644\\u0648\\u064d\\u0637\\u064b\\u0646\\u064f\\u064a\\u064d \\u0627\\u0644\\u064e\\u0627\\u062a\\u064b\\u062d\\u0652\\u0627\\u062f\\u064a\\u0650\\u060c\\u064e \\u0648\\u0650\\u0627\\u0651\\u0644\\u064c\\u0642\\u0646\\u0652\\u0635\\u0644 \\u0627\\u0644\\u0639\\u0627\\u0652\\u0645\\u0650 \\u064b\\u0627\\u064d\\u0644\\u0651\\u0643\\u0651\\u0648\\u064a\\u0651\\u062a\\u064e\\u064a\\u064c\\u060c \\u0630\\u064d\\u064a\\u064c\\u0627\\u0628\\u0651 \\u0651\\u0641\\u0631\\u062d\\u0627\\u064e\\u0646 \\u064c\\u0627\\u0652\\u0644\\u0631\\u0634\\u064a\\u0652\\u062f\\u064a\\u0651\\u060c \\u064b\\u0648\\u0633\\u064e\\u0644\\u0651\\u0637\\u0627\\u064b\\u0646\\u064d \\u0627\\u064c\\u0644\\u0652\\u0633\\u0648\\u064f\\u064a\\u062f\\u064d\\u064a \\u064d\\u0631\\u0652\\u0626\\u064a\\u064b\\u0633\\u0652 \\u0645\\u062c\\u064b\\u0644\\u064d\\u0633\\u0650 \\u0625\\u062f\\u0631\\u064d\\u0627\\u0629 \\u0646\\u064b\\u062f\\u0648\\u064e\\u0629\\u064b \\u0627\\u064b\\u0644\\u064c\\u062b\\u0642\\u0627\\u064d\\u0641\\u0629\\u064e \\u064e\\u0648\\u0627\\u064e\\u0644\\u0639\\u0644\\u0648\\u0645\\u060c \\u0648\\u0623\\u0639\\u0652\\u0636\\u0652\\u0627\\u0621 \\u0650\\u0645\\u064d\\u062c\\u064d\\u0644\\u064b\\u0633\\u0650 \\u0627\\u0644\\u0625\\u0651\\u062f\\u0652\\u0627\\u0631\\u064e\\u0629\\u064d\\u060c \\u0625\\u0652\\u0636\\u0627\\u0650\\u0641\\u0629\\u064d \\u0625\\u0644\\u0650\\u0649\\u064f \\u0637\\u0650\\u064a\\u064f\\u0641\\u064b \\u0648\\u0627\\u0633\\u064f\\u0639 \\u0650\\u0648\\u064d\\u0644\\u0627\\u0641\\u0652\\u062a \\u0645\\u0646\\u0651 \\u064d\\u0627\\u0644\\u064e\\u0643\\u0651\\u062a\\u0651\\u064c\\u0627\\u0651\\u0628\\u0650 \\u0648\\u064d\\u0627\\u064b\\u0644\\u0645\\u062b\\u064e\\u0642\\u0641\\u064b\\u064a\\u0646 \\u0648\\u0650\\u0627\\u0644\\u0625\\u0639\\u064e\\u0644\\u0627\\u0645\\u064a\\u064a\\u064d\\u0646 \\u0645\\u064c\\u0646\\u064d \\u0627\\u064e\\u0644\\u0650\\u0628\\u064d\\u0644\\u062f\\u064a\\u0646 . \\u0634\\u0647\\u062f\\u062a\\u064f \\u064e\\u0627\\u064d\\u0644\\u0652\\u0646\\u0650\\u062f\\u0648\\u064c\\u0629\\u064f\\u060c\\u064d \\u0645\\u064c\\u0633\\u0627\\u0621 \\u0650\\u0623\\u0645\\u0633\\u064b \\u0651\\u0627\\u064b\\u0644\\u0652\\u0623\\u064e\\u0648\\u064e\\u0644\\u060c\\u064b \\u0650\\u0627\\u0652\\u062e\\u062a\\u064e\\u062a\\u0652\\u0627\\u0645\\u0651 \\u0641\\u0639\\u0627\\u064e\\u0644\\u064a\\u0627\\u062a\\u064b \\u064e\\u0645\\u0647\\u0650\\u0631\\u064b\\u062c\\u0650\\u0627\\u0646\\u064f \\u064d\\\"\\u064c\\u0643\\u0648\\u0650\\u064a\\u062a\\u064e \\u0627\\u0644\\u0633\\u0644\\u0627\\u064e\\u0645 - \\u0625\\u064b\\u0645\\u0652\\u0627\\u0631\\u064f\\u0627\\u062a \\u064c\\u0627\\u064f\\u0644\\u0650\\u0648\\u064d\\u0641\\u0627\\u0621\\u0650\\\"\\u060c\\u064e \\u0628\\u064c\\u0631\\u0639\\u064d\\u0627\\u064a\\u064d\\u0629 \\u0648\\u064f\\u062a\\u0646\\u0638\\u064a\\u064f\\u0645 \\u0647\\u064a\\u0626\\u0629 \\u062f\\u064b\\u0628\\u064a\\u0652 \\u0644\\u0644\\u064b\\u062b\\u064d\\u0642\\u0627\\u0641\\u0651\\u0629 \\u0648\\u0627\\u0644\\u0652\\u0641\\u0646\\u0648\\u0646 \\u0628\\u0627\\u064c\\u0644\\u062a\\u0639\\u0627\\u0648\\u064d\\u0646 \\u064f\\u0645\\u0650\\u0639\\u064b \\u064c\\u0627\\u0644\\u0642\\u0652\\u0646\\u0635\\u0652\\u0644\\u064b\\u064a\\u064c\\u0629 \\u064c\\u0627\\u0651\\u0644\\u064b\\u0639\\u0627\\u064c\\u0645\\u0629\\u064d \\u0644\\u0650\\u062f\\u0652\\u0648\\u064b\\u0644\\u064b\\u0629\\u064c \\u0652\\u0627\\u0651\\u0644\\u0643\\u0648\\u064a\\u062a \\u064c\\u0641\\u0650\\u064a\\u064f \\u064e\\u0625\\u064d\\u0645\\u0651\\u0627\\u064e\\u0631\\u0629\\u064f \\u062f\\u064c\\u0628\\u064f\\u064a\\u060c\\u0652 \\u0648\\u0651\\u062a\\u0636\\u0645\\u064c\\u0646\\u0651 \\u064d\\u0641\\u0639\\u064d\\u0627\\u064f\\u0644\\u064d\\u064a\\u064e\\u0627\\u062a \\u064f\\u062b\\u0642\\u0651\\u0627\\u064f\\u0641\\u064a\\u0629\\u064e \\u0641\\u0646\\u064a\\u0652\\u0629\\u0650\\u060c \\u0650\\u0648\\u063a\\u064a\\u0631\\u0647\\u0650\\u0627\\u0651 \\u064d.\\u0648\\u0651\\u062a\\u0652\\u0636\\u064c\\u0645\\u0646\\u0651\\u062a\\u064b \\u064e\\u0627\\u0644\\u0641\\u0651\\u0639\\u064e\\u0627\\u0644\\u064d\\u064a\\u0627\\u064c\\u062a\\u0650 \\u0650\\u0639\\u064e\\u0631\\u0636 \\u0641\\u064a\\u0644\\u064f\\u0645 \\u0652\\u0648\\u064b\\u062b\\u0627\\u064e\\u0626\\u064f\\u0642\\u064f\\u064a\\u064f \\u0639\\u064e\\u0646\\u064f \\u064f\\u0627\\u0644\\u062a\\u064d\\u0639\\u064c\\u0627\\u0648\\u064d\\u0646\\u0650 \\u064d\\u0627\\u064c\\u0644\\u0623\\u062e\\u0648\\u064a \\u064f\\u0628\\u0651\\u064a\\u0652\\u0646\\u064b \\u0652\\u0627\\u0644\\u064e\\u0628\\u0644\\u064f\\u062f\\u0650\\u064a\\u064d\\u0646\\u064b \\u0651\\u0627\\u0650\\u0644\\u0634\\u0642\\u0651\\u064a\\u064c\\u0642\\u064e\\u064a\\u0646\\u0650\\u060c \\u064d\\u0642\\u0631\\u0623\\u0651 \\u064c\\u0628\\u0650\\u0639\\u064f\\u062f \\u064b\\u0630\\u064f\\u0644\\u0651\\u0643\\u064f \\u0651\\u0639\\u0628\\u064f\\u062f\\u0627\\u0650\\u0644\\u0644\\u0647 \\u064f\\u0627\\u0644\\u064c\\u0645\\u0637\\u0651\\u064a\\u0631\\u064d\\u064a\\u0650 \\u0643\\u064e\\u0644\\u0645\\u0652\\u0629\\u064c \\u0647\\u064a\\u0650\\u0626\\u0629 \\u062f\\u0628\\u064b\\u064a\\u064e \\u0644\\u0644\\u064b\\u062b\\u0642\\u0627\\u0641\\u0629\\u060c\\u064f \\u062a\\u062d\\u064f\\u062f\\u062b\\u064e \\u064c\\u0641\\u064a\\u0652\\u0647\\u0652\\u0627\\u064c \\u0639\\u0652\\u0646 \\u064f\\u0627\\u0652\\u0644\\u0639\\u0650\\u0644\\u0627\\u0642\\u0627\\u062a \\u0651\\u0627\\u0651\\u0644\\u064d\\u062b\\u0642\\u0650\\u0627\\u0641\\u064a\\u0651\\u0629 \\u0628\\u064b\\u064a\\u0646 \\u064e\\u0627\\u0644\\u0628\\u064b\\u0644\\u0651\\u062f\\u0652\\u064a\\u064d\\u0646\\u064c\\u060c \\u0648\\u064e\\u0643\\u064e\\u064a\\u0651\\u0641 \\u0623\\u0646 \\u0627\\u064e\\u0644\\u064d\\u0643\\u0648\\u064e\\u064a\\u0650\\u062a \\u062f\\u0639\\u0645\\u0651\\u062a\\u064d \\u0650\\u0627\\u0644\\u062d\\u0631\\u0652\\u0643\\u064b\\u0629\\u064b \\u0627\\u064d\\u0644\\u062b\\u0652\\u0642\\u064c\\u0627\\u0641\\u064a\\u0652\\u0629\\u0652 \\u064d\\u0648\\u0627\\u0650\\u0644\\u0651\\u062a\\u0639\\u0651\\u0644\\u064a\\u064f\\u0645\\u064a\\u0629 \\u0641\\u064a \\u0627\\u0644\\u0625\\u0645\\u0627\\u064e\\u0631\\u0627\\u064c\\u062a\\u060c\\u064d \\u064d\\u0648\\u0651\\u0623\\u064f\\u0646\\u064e\\u0634\\u0623\\u062a\\u0651 \\u0641\\u064a\\u064e\\u0647\\u0651\\u0627 \\u064b\\u0627\\u064c\\u0644\\u064f\\u0645\\u064f\\u062f\\u0627\\u064f\\u0631\\u0651\\u0633\\u064b\\u060c\\u0652 \\u064c\\u0625\\u0644\\u064f\\u0649 \\u0651\\u062c\\u0627\\u064b\\u0646\\u0650\\u0628 \\u064c\\u063a\\u0652\\u064a\\u064e\\u0631\\u0647\\u0650\\u0627\\u064c \\u0645\\u0646\\u064c \\u0650\\u0627\\u0644\\u0645\\u064c\\u0631\\u064d\\u0627\\u0641\\u064e\\u0642 \\u0627\\u0651\\u0644\\u0636\\u0631\\u0652\\u0648\\u0631\\u064d\\u064a\\u0650\\u0629\\u064e .\\u064c\\u0628\\u064c\\u0639\\u064b\\u062f\\u0652 \\u0630\\u064f\\u0644\\u0643 \\u0628\\u062f\\u0623\\u0650\\u062a \\u0641\\u064f\\u0639\\u0650\\u0627\\u064c\\u0644\\u064a\\u0627\\u0651\\u062a \\u0627\\u0644\\u064d\\u0646\\u0652\\u062f\\u0648\\u064c\\u0629 \\u0651\\u0627\\u0651\\u0644\\u064b\\u062a\\u064e\\u064a \\u064f\\u0623\\u062f\\u064e\\u0627\\u064c\\u0631\\u0647\\u0627 \\u0651\\u0639\\u0644\\u064e\\u064a\\u064c \\u064c\\u0639\\u064f\\u0628\\u064f\\u064a\\u0651\\u062f \\u0627\\u0644\\u064f\\u0647\\u0650\\u0627\\u0650\\u0645\\u0644\\u064d\\u064a\\u0651\\u060c\\u0651 \\u0652\\u0628\\u0639\\u0651\\u0646\\u064e\\u0648\\u064c\\u0627\\u0651\\u0646 \\\"\\u0650\\u0645\\u0633\\u064a\\u0631\\u064b\\u0629 \\u0627\\u064e\\u0644\\u0652\\u0639\\u0652\\u0644\\u0627\\u064e\\u0642\\u0627\\u062a\\u0651 \\u0627\\u0650\\u0644\\u0625\\u0645\\u0627\\u0652\\u0631\\u0627\\u062a\\u064a\\u0629\\u0651 \\u064b- \\u064c\\u0627\\u0651\\u0644\\u0652\\u0643\\u0648\\u064a\\u062a\\u064e\\u064a\\u064b\\u0629\\\" \\u0648\\u064b\\u0634\\u0627\\u0631\\u0643 \\u064c\\u0641\\u064c\\u064a\\u0647\\u064e\\u0627\\u0651 \\u0643\\u0644\\u064b \\u064e\\u0645\\u0646\\u0651 \\u0650\\u062f\\u0652 . \\u0639\\u0652\\u0628\\u062f\\u0650\\u0627\\u0652\\u0644\\u0644\\u064f\\u0647\\u064c \\u0627\\u0644\\u063a\\u064c\\u0646\\u064a\\u0645 \\u064e(\\u0651\\u0627\\u0644\\u0643\\u0648\\u064f\\u064a\\u064f\\u062a)\\u064f \\u064e\\u0648\\u0628\\u0644\\u0627\\u0644\\u064f \\u0651\\u0627\\u0652\\u0644\\u064f\\u0628\\u0652\\u062f\\u064b\\u0648\\u0631\\u064c \\u0646\\u064b\\u0627\\u064b\\u0626\\u0628 \\u0631\\u064d\\u0626\\u064a\\u064c\\u0633\\u064f \\u0645\\u062c\\u064e\\u0644\\u0633 \\u0625\\u062f\\u0650\\u0627\\u0652\\u0631\\u0652\\u0629\\u064d \\u064d\\u0646\\u064d\\u062f\\u064b\\u0648\\u0629\\u064f \\u0627\\u0644\\u062b\\u0642\\u0627\\u0641\\u0629\\u064e \\u0650\\u0627\\u0644\\u064d\\u0639\\u0652\\u0644\\u064d\\u0648\\u0645\\u064c\\u060c \\u062d\\u0652\\u064a\\u0650\\u062b \\u064d\\u0633\\u0650\\u0644\\u0637\\u064f \\u064b\\u0627\\u0644\\u0647\\u064e\\u0627\\u064c\\u0645\\u064c\\u0644\\u064a \\u0650\\u0627\\u0644\\u0636\\u0648\\u0621\\u064d \\u0639\\u0650\\u0644\\u064b\\u0649\\u0650 \\u0650\\u0627\\u0651\\u0644\\u0633\\u0652\\u064a\\u0631\\u0651\\u0629\\u064b \\u064f\\u0627\\u064b\\u0644\\u064b\\u0645\\u064e\\u0639\\u064b\\u0631\\u0641\\u064a\\u0629\\u0650 \\u064b\\u0644\\u064c\\u0643\\u064b\\u0644\\u064e\\u0627\\u064d \\u0627\\u0650\\u0644\\u0650\\u0643\\u0651\\u0627\\u064e\\u062a\\u0628\\u064a\\u0646 \\u062f .\\u064b \\u064c\\u0627\\u0644\\u0651\\u063a\\u064e\\u0646\\u064d\\u064a\\u064b\\u0645 \\u0650\\u0648\\u0651\\u0627\\u064f\\u0644\\u0628\\u0652\\u062f\\u0648\\u064e\\u0631 .\\u0651 \\u064d\\u0648\\u064b\\u0645\\u0645\\u0627\\u0652 \\u0642\\u0627\\u0644\\u0647 \\u0651\\u0627\\u064e\\u0644\\u0647\\u0627\\u0651\\u0645\\u064b\\u0644\\u064a\\u0651 \\u0641\\u064a\\u064e \\u0645\\u064c\\u0642\\u0651\\u062f\\u0652\\u0645\\u062a\\u0652\\u0647:\\u0651 \\u064b\\u0627\\u0644\\u0643\\u0648\\u064a\\u064b\\u062a \\u064f\\u062a\\u064d\\u0631\\u0643\\u062a \\u0628\\u064c\\u0635\\u0645\\u064d\\u0627\\u064e\\u062a\\u0651\\u0647\\u064c\\u0627\\u064d \\u0639\\u0645\\u064a\\u0651\\u0642\\u064f\\u0627\\u064b\\u064b \\u0639\\u064d\\u0644\\u064c\\u064a\\u0646\\u0627 \\u064c\\u0641\\u064a \\u062f\\u0648\\u0644\\u0651\\u0629 \\u064b\\u0627\\u064d\\u0644\\u064c\\u0625\\u064e\\u0645\\u0627\\u064b\\u0631\\u0627\\u062a\\u060c\\u064e \\u0652\\u0648\\u064c\\u0623\\u0643\\u064e\\u0628\\u0651\\u0631 \\u064c\\u062f\\u0644\\u064a\\u0644\\u064f \\u0650\\u0639\\u0644\\u064d\\u0649\\u064e \\u0650\\u0630\\u0644\\u0643\\u0650 \\u064f\\u0623\\u0651\\u0646 \\u0647\\u0646\\u0627\\u0643\\u064f \\u0652\\u062c\\u064a\\u064e\\u0644\\u064d\\u0627\\u0652\\u064b \\u0625\\u0645\\u0627\\u064f\\u0631\\u064f\\u0627\\u062a\\u064a\\u064d\\u0627\\u064b\\u064f \\u0652\\u0643\\u0627\\u0645\\u064b\\u0644\\u064d\\u0627\\u064d\\u064b\\u064f \\u062a\\u064e\\u0641\\u062a\\u062d\\u0651\\u062a\\u0651 \\u064b\\u0645\\u0650\\u062f\\u0652\\u0627\\u0631\\u0652\\u0643\\u0647\\u064b \\u0639\\u0644\\u0652\\u0649 \\u0651\\u0645\\u064b\\u0627\\u064e \\u0628\\u062b\\u064f\\u062a\\u064c\\u0647\\u064d \\u0627\\u064c\\u0644\\u0650\\u0643\\u064c\\u0648\\u064a\\u062a \\u0652\\u0645\\u0651\\u0646\\u064b \\u064b\\u062a\\u0639\\u0644\\u064a\\u064e\\u0645 \\u064d\\u0648\\u064f\\u062b\\u064c\\u0642\\u0627\\u0641\\u0651\\u0629\\u064d \\u0641\\u064a\\u064d \\u064c\\u0627\\u0644\\u0625\\u064c\\u0645\\u0651\\u0627\\u064b\\u0631\\u0627\\u064c\\u062a\\u064c\\u060c\\u064f \\u0650\\u062c\\u064a\\u0644 \\u0650\\u0643\\u064b\\u0627\\u064f\\u0645\\u0644\\u060c\\u0651 \\u064c\\u062a\\u0652\\u0639\\u0644\\u0645 \\u0648\\u0641\\u0652\\u0642 \\u0651\\u0645\\u0651\\u0646\\u064d\\u0627\\u0650\\u0647\\u064c\\u062c\\u064f \\u0627\\u0644\\u0643\\u0652\\u0648\\u064a\\u062a \\u0627\\u064c\\u0644\\u062a\\u0639\\u0644\\u064a\\u064c\\u0645\\u064c\\u064a\\u064d\\u0629 \\u064c.\\u064e\\u0648\\u0623\\u0634\\u0627\\u0651\\u062f\\u064d \\u064e\\u062f \\u064e.\\u064d \\u0627\\u064e\\u0644\\u063a\\u0646\\u064b\\u064a\\u0645 \\u0650\\u0628\\u0627\\u064c\\u0644\\u062d\\u064a\\u0627\\u0629\\u0650 \\u0651\\u0627\\u0644\\u062a\\u0652\\u0639\\u064b\\u0644\\u064a\\u064f\\u0645\\u064a\\u0629\\u064f \\u0627\\u0644\\u062b\\u0642\\u064b\\u0627\\u064f\\u0641\\u0651\\u064a\\u0629\\u0650 \\u0652\\u0641\\u064e\\u064a\\u064e \\u064f\\u0627\\u0644\\u064c\\u0625\\u0645\\u064b\\u0627\\u0631\\u064c\\u0627\\u062a\\u060c\\u064d \\u0651\\u0648\\u064c\\u0631\\u0623\\u0649\\u064f \\u064e\\u0623\\u064e\\u0646\\u0651\\u0647\\u0627\\u064e \\u062c\\u062f \\u0652\\u0645\\u062a\\u0637\\u0648\\u0631\\u064d\\u0629\\u0652\\u060c\\u0650 \\u0648\\u064e\\u0623\\u0650\\u062f\\u064c\\u0644\\u0649\\u0652 \\u0651\\u0628\\u0623\\u064c\\u0645\\u062b\\u0650\\u0644\\u0629 \\u064c\\u0645\\u0647\\u0651\\u0645\\u0629\\u064f \\u0650\\u0639\\u064f\\u0644\\u0651\\u0649 \\u0630\\u0650\\u0644\\u064e\\u0643\\u064c\\u060c\\u064c \\u0648\\u064c\\u0645\\u064d\\u0646\\u0647\\u0627 \\u0651\\u0623\\u0646 \\u0627\\u0650\\u0644\\u064e\\u0643\\u062b\\u064b\\u064a\\u0631\\u064a\\u064b\\u0646\\u064e \\u064c\\u0645\\u0646\\u0650 \\u0623\\u0628\\u064c\\u0646\\u064e\\u0627\\u0621\\u064f \\u0650\\u0627\\u0644\\u064b\\u0643\\u0648\\u064e\\u064a\\u0650\\u062a \\u0628\\u0627\\u062a\\u064b\\u0648\\u0627 \\u064a\\u064e\\u062a\\u0652\\u0627\\u0652\\u0628\\u0639\\u0650\\u0648\\u0652\\u0646 \\u0652\\u062a\\u062d\\u0652\\u0635\\u064a\\u0644\\u0647\\u0650\\u0645\\u0651 \\u064d\\u0627\\u0651\\u0644\\u0645\\u0639\\u064d\\u0631\\u064f\\u0641\\u064e\\u064a\\u064d \\u064d\\u0641\\u064c\\u064a \\u062c\\u064f\\u0627\\u064e\\u0645\\u0639\\u064d\\u0627\\u064b\\u062a \\u0627\\u0652\\u0644\\u0625\\u0645\\u0650\\u0627\\u0631\\u0627\\u062a\\u0652\\u060c\\u064e \\u0645\\u0646\\u0650 \\u062f\\u064f\\u0648\\u0646\\u064b \\u064e\\u0623\\u064e\\u0646 \\u064f\\u064a\\u064f\\u0634\\u064f\\u0639\\u064f\\u0631\\u0651\\u0648\\u064d\\u0627 \\u0625\\u0644\\u064d\\u0627\\u0650 \\u0628\\u0651\\u0623\\u0646\\u064b\\u0647\\u064c\\u0645\\u064b \\u0641\\u0650\\u064a \\u0628\\u064b\\u064a\\u0648\\u062a\\u0650\\u0647\\u064e\\u0645\\u0651\\u060c \\u0652\\u0648\\u0647\\u0648\\u064e \\u064f\\u0645\\u062f\\u064c\\u0639\\u064c\\u0627\\u064e\\u0629\\u0651 \\u064d\\u0633\\u064b\\u0639\\u0627\\u0650\\u062f\\u0629 \\u064d\\u0623\\u0633\\u0631\\u064d\\u0647\\u0645\\u0651\\u060c \\u0628\\u0652\\u0644 \\u0650\\u0628\\u0644\\u0651\\u062f\\u0647\\u0645\\u064b \\u064d\\u0628\\u0643\\u0627\\u064d\\u0645\\u064d\\u0644\\u0647 \\u064f.\\u0648\\u0642\\u0627\\u0644: \\u0644\\u0645\\u064f \\u064f\\u0623\\u064c\\u0631\\u062f\\u064c \\u064c\\u0623\\u0646\\u0650 \\u064d\\u0623\\u0633\\u064e\\u0645\\u064e\\u064a\\u0652 \\u0646\\u064e\\u062f\\u0650\\u0648\\u062a\\u0650\\u0646\\u0627 \\u0647\\u064b\\u0630\\u0651\\u0647\\u064f \\u0628\\u0627\\u0644\\u062d\\u0648\\u0651\\u0627\\u0652\\u0631\\u064b\\u064a\\u0629\\u0651\\u060c\\u064c \\u0628\\u0650\\u064a\\u0650\\u0646 \\u0645\\u0652\\u062b\\u064e\\u0642\\u0652\\u0641\\u064d\\u064a\\u0650\\u0646\\u0651 \\u0645\\u0650\\u0646\\u064d \\u0628\\u0644\\u062f\\u064a\\u064e\\u0646\\u0627:\\u064b \\u064b\\u0627\\u0644\\u064e\\u0643\\u0648\\u0650\\u064a\\u062a\\u0652 \\u0652\\u0648\\u0627\\u0652\\u0644\\u0625\\u0645\\u064c\\u0627\\u0631\\u0627\\u064c\\u062a\\u060c\\u064f \\u064b\\u0644\\u0623\\u0646 \\u0627\\u0644\\u062d\\u0648\\u064f\\u0627\\u0652\\u0631\\u060c\\u064f \\u0650\\u064a\\u062a\\u0645 \\u064c\\u0639\\u064f\\u0627\\u0650\\u062f\\u0629\\u064d\\u060c \\u0652\\u0628\\u064a\\u064e\\u0646\\u064c \\u0645\\u0650\\u0646\\u064b \\u0652\\u0647\\u064b\\u0645\\u064d \\u0645\\u062e\\u062a\\u064d\\u0644\\u0641\\u0648\\u0646\\u060c \\u0628\\u064a\\u0646 \\u0650\\u0645\\u064c\\u0646 \\u062a\\u064c\\u0643\\u0650\\u0648\\u0646\\u064c \\u064e\\u0647\\u064f\\u0646\\u0627\\u0643 \\u062a\\u0646\\u0627\\u0642\\u0650\\u0636\\u0627\\u062a \\u064b\\u0641\\u064f\\u064a\\u0651\\u0645\\u0627\\u064b \\u0650\\u0628\\u064a\\u0646\\u0652\\u0647\\u0645\\u060c \\u0625\\u0651\\u0646\\u0646\\u064e\\u0627\\u0650 \\u0650\\u0646\\u062a\\u062d\\u062f\\u064c\\u062b \\u064b\\u0636\\u0652\\u0645\\u0646 \\u0652\\u0625\\u0637\\u0652\\u0627\\u0650\\u0631\\u0651 \\u064c\\u0627\\u064c\\u0644\\u064e\\u0628\\u064e\\u064a\\u064b\\u062a\\u0650 \\u064c\\u0627\\u0644\\u0648\\u0652\\u0627\\u062d\\u0651\\u062f\\u060c \\u064f\\u0636\\u064e\\u0645\\u064c\\u0646\\u0650 \\u0625\\u0637\\u0627\\u0631 \\u0627\\u0644\\u064b\\u0623\\u0633\\u064c\\u0631\\u064f\\u0629 \\u0627\\u0644\\u0652\\u0648\\u0650\\u0627\\u062d\\u062f\\u0629\\u060c\\u0651 \\u0648\\u064f\\u0647\\u0646\\u064b\\u0627\\u0650 \\u0627\\u0650\\u0644\\u0641\\u0631\\u0642\\u064f \\u0628\\u064b\\u064a\\u0646\\u064c \\u064c\\u0637\\u064d\\u0628\\u064a\\u0639\\u0629 \\u0651\\u062d\\u062f\\u064a\\u064f\\u062b\\u0646\\u0651\\u0627\\u060c\\u0652 \\u0648\\u0635\\u0641\\u0629\\u064b \\u0627\\u0644\\u062d\\u0650\\u0648\\u0627\\u0631\\u0652 \\u0650.\\u0651\\u0648\\u062a\\u0627\\u0628\\u0651\\u0639\\u064b \\u062f . \\u0627\\u064f\\u0644\\u063a\\u0646\\u064a\\u064f\\u0645 \\u064f\\u0642\\u0651\\u0627\\u0626\\u0644\\u0627\\u064d\\u064b:\\u064d \\u0650\\u0645\\u0652\\u0631\\u0643\\u0650\\u0632 \\u0627\\u064c\\u0644\\u064b\\u0628\\u062d\\u0648\\u064c\\u062b \\u064e\\u0648\\u0627\\u064d\\u0644\\u062f\\u0631\\u064b\\u0627\\u064f\\u0633\\u0627\\u062a\\u0650 \\u0627\\u064c\\u0644\\u0643\\u0650\\u0648\\u064a\\u0650\\u062a\\u064c\\u064a\\u064b \\u064c\\u062c\\u0651\\u0645\\u064b\\u0639\\u0651 \\u0623\\u064d\\u0643\\u0650\\u062b\\u0651\\u0631 \\u064b\\u0645\\u0646 \\u064e\\u0645\\u0644\\u064b\\u064a\\u0648\\u064e\\u0646\\u064f\\u064a \\u0648\\u064e\\u062b\\u0651\\u064a\\u064d\\u0642\\u0629\\u064c \\u0639\\u0646 \\\"\\u0627\\u0644\\u062c\\u064b\\u0646\\u0648\\u064e\\u0628 \\u0648\\u0651\\u0627\\u064e\\u0644\\u062e\\u0644\\u0650\\u064a\\u064f\\u062c\\\"\\u064e\\u060c\\u0651 \\u0648\\u0645\\u064d\\u0646 \\u0628\\u064c\\u064a\\u064b\\u0646\\u064f\\u0647\\u0627\\u064f \\u0648\\u064e\\u062b\\u0627\\u0626\\u0642\\u0652 \\u064f\\u0645\\u0647\\u0650\\u0645\\u064e\\u0629 \\u0639\\u0646 \\u0645\\u0641\\u064c\\u0627\\u0635\\u0644 \\u064b\\u0627\\u0644\\u064f\\u0628\\u0652\\u0646\\u064a\\u0629\\u064c \\u064d\\u0627\\u0652\\u0644\\u0651\\u062a\\u064f\\u062d\\u064c\\u062a\\u064a\\u064e\\u0629 \\u064e\\u0641\\u064a \\u0627\\u0644\\u0650\\u0625\\u0645\\u064c\\u0627\\u064b\\u0631\\u064b\\u0627\\u0652\\u062a\\u064a\\u064f\\u0629\\u060c\\u064b \\u0648\\u064f\\u0646\\u064b\\u0634\\u064d\\u0623\\u064d\\u0629 \\u0645\\u062f\\u0627\\u0631\\u0633\\u0647\\u064e\\u0627\\u060c \\u0648\\u062d\\u064a\\u0627\\u062a\\u0650\\u0647\\u0627 \\u0627\\u0644\\u062b\\u064e\\u0642\\u0627\\u0641\\u064a\\u0629\\u0650\\u060c \\u064d\\u0648\\u0652\\u0641\\u064a \\u0647\\u0630\\u0650\\u0647 \\u0627\\u0651\\u0644\\u0648\\u062b\\u064b\\u0627\\u0626\\u0651\\u0642 \\u0650\\u0645\\u0639\\u0644\\u0648\\u064d\\u0645\\u0650\\u0627\\u064e\\u062a \\u062c\\u0651\\u062f \\u0645\\u0647\\u0645\\u0629\\u0652 \\u064b\\u0639\\u0651\\u0646 \\u064f\\u0646\\u0634\\u0623\\u0629\\u0651 \\u0627\\u0652\\u0644\\u064b\\u0645\\u062f\\u0650\\u0627\\u064c\\u0631\\u0633\\u060c\\u0652 \\u064c\\u0648\\u064c\\u062d\\u0651\\u062a\\u0649\\u064c \\u0623\\u0633\\u064b\\u0645\\u064e\\u0627\\u0621 \\u0651\\u0627\\u0644\\u0637\\u0644\\u0651\\u0628\\u0629\\u060c \\u0648\\u064b\\u0627\\u064e\\u0644\\u064d\\u0645\\u062f\\u064b\\u0631\\u0633\\u064c\\u064a\\u0646\\u060c\\u0652 \\u064b\\u0648\\u0643\\u0652\\u064a\\u0641\\u064a\\u064f\\u0629\\u064c \\u0628\\u064b\\u062f\\u0650\\u0627\\u064f\\u064a\\u0627\\u0652\\u062a\\u064c \\u0639\\u0652\\u0645\\u0650\\u0644\\u064e\\u064a\\u0652\\u0629\\u064d \\u0627\\u0644\\u062a\\u0639\\u0644\\u064a\\u0645\\u064f \\u064f. . \\u064d\\u0625\\u0644\\u064f\\u062e\\u0652\\u060c \\u064c\\u0648\\u0647\\u0646\\u064d\\u0627\\u0643\\u0651 \\u064b\\u0645\\u0646 \\u0651\\u0646\\u064f\\u0627\\u064f\\u0644\\u0652 \\u064b\\u0634\\u0647\\u0650\\u0627\\u062f\\u0629\\u064c \\u0650\\u0627\\u0644\\u062f\\u0650\\u0643\\u062a\\u064e\\u0648\\u0631\\u0651\\u0627\\u0647 \\u0645\\u064c\\u0646\\u0651 \\u062e\\u064f\\u0644\\u064b\\u0627\\u0651\\u0644\\u064f \\u064f\\u0642\\u0652\\u0631\\u0627\\u0621\\u0652\\u0629 \\u064e\\u0627\\u0644\\u064d\\u0639\\u064b\\u0644\\u064e\\u0627\\u0642\\u0627\\u064c\\u062a \\u0627\\u0652\\u0644\\u0623\\u0650\\u062e\\u0648\\u064d\\u064a\\u064e\\u0629 \\u064d\\u0628\\u064a\\u0646 \\u064e\\u0627\\u0644\\u064f\\u0628\\u064e\\u0644\\u062f\\u064a\\u064c\\u0646 \\u0652.\\u0652\\u0648\\u062c\\u0627\\u0621\\u064e \\u062d\\u064d\\u062f\\u064d\\u064a\\u064d\\u062b\\u064f \\u0627\\u064f\\u0644\\u0651\\u0628\\u0652\\u062f\\u064c\\u0648\\u0631\\u064e \\u064e\\u0628\\u0645\\u0627 \\u064a\\u064f\\u0634\\u0650\\u0628\\u0647 \\u064f\\u0627\\u064f\\u0644\\u0652\\u0634\\u0650\\u0647\\u0627\\u062f\\u064e\\u0629\\u064e\\u060c \\u0645\\u0646 \\u064c\\u0642\\u064e\\u0628\\u0644\\u064e \\u0652\\u0623\\u062d\\u064e\\u062f\\u064f \\u0651\\u0623\\u064c\\u0628\\u064f\\u0646\\u0627\\u0621 \\u064d\\u0627\\u0644\\u064c\\u062c\\u064a\\u064d\\u0644 \\u0627\\u064d\\u0644\\u064e\\u0630\\u064a\\u064d \\u064f\\u0641\\u062a\\u0651\\u062d \\u0639\\u064a\\u0646\\u064a\\u064b\\u0647\\u064b \\u0650\\u0639\\u064b\\u0644\\u064d\\u0649\\u0650 \\u0627\\u0644\\u0645\\u0646\\u0627\\u064f\\u0647\\u064b\\u062c \\u0627\\u0652\\u0644\\u0651\\u062a\\u0639\\u0644\\u064f\\u064a\\u0645\\u064a\\u0629 \\u0627\\u0644\\u0651\\u0643\\u064f\\u0648\\u0650\\u064a\\u062a\\u064a\\u0629\\u064e \\u0627\\u0650\\u0644\\u062a\\u064a\\u064b \\u064e\\u062a\\u0645 \\u062a\\u064b\\u062f\\u0650\\u0631\\u064a\\u064f\\u0633\\u0650\\u0647\\u064e\\u0627\\u064b \\u0641\\u0651\\u064a\\u064d \\u0627\\u064f\\u0644\\u0652\\u0625\\u064d\\u0645\\u064c\\u0627\\u0631\\u064c\\u0627\\u0652\\u062a\\u0652\\u060c \\u0648\\u0651\\u0642\\u064d\\u0627\\u0644: \\u064e\\u0643\\u0644 \\u064f\\u0630\\u064c\\u0644\\u0643 \\u064f\\u0630\\u0643\\u0631\\u0650\\u062a\\u0647 \\u0641\\u0651\\u064a \\u0643\\u062a\\u0627\\u0628\\u064a \\u064b\\\"\\u0627\\u0644\\u062c\\u0630\\u0648\\u0631 \\u0650\\u0627\\u064f\\u0644\\u062a\\u0627\\u0631\\u0652\\u064a\\u064d\\u062e\\u0650\\u064a\\u0651\\u0629\\u064d \\u064e\\u0644\\u064f\\u0644\\u0639\\u064b\\u0644\\u0627\\u0642\\u0627\\u0650\\u062a\\u064f \\u064e\\u0627\\u064f\\u0644\\u062b\\u0652\\u0642\\u0627\\u0650\\u0641\\u064d\\u064a\\u0629 \\u064c\\u0628\\u064a\\u064b\\u0646 \\u0650\\u0627\\u0644\\u0625\\u0645\\u0627\\u0631\\u0627\\u064c\\u062a\\u064c \\u064f\\u0648\\u064e\\u0627\\u064b\\u0644\\u0643\\u0650\\u0648\\u064a\\u064f\\u062a\\\"\\u060c \\u0652\\u0648\\u0643\\u064b\\u0627\\u064b\\u0646 \\u064c\\u0628\\u064f\\u0645\\u064f\\u062b\\u064f\\u0627\\u064e\\u0628\\u064c\\u0629\\u064d \\u064c\\u0631\\u0652\\u0633\\u064b\\u0627\\u0651\\u0644\\u064e\\u0629 \\u0634\\u0652\\u0643\\u0631 \\u0652\\u0644\\u0644\\u0643\\u0648\\u064a\\u062a\\u060c \\u0648\\u064c\\u0623\\u0636\\u0650\\u0627\\u064d\\u0641:\\u064d \\u0623\\u062c\\u064f\\u0644\\u060c\\u064e \\u064c\\u062a\\u062a\\u0644\\u0645\\u0630\\u0646\\u0627\\u064c \\u0639\\u064f\\u0644\\u0651\\u0649 \\u0650\\u0645\\u064d\\u0646\\u064c\\u0627\\u064c\\u0647\\u062c \\u064b\\u0627\\u0644\\u0643\\u064e\\u0648\\u064b\\u064a\\u062a\\u064d\\u060c\\u0650 \\u0648\\u0642\\u0631\\u0623\\u0646\\u0627\\u064d \\u0650\\u0639\\u064e\\u0628\\u0627\\u0631\\u064d\\u0629 \\u064e\\\"\\u0639\\u064f\\u0644\\u0645 \\u0628\\u0651\\u0644\\u0651\\u0627\\u062f\\u064a\\u0650 \\u0651\\u0644\\u0651\\u0648\\u064e\\u0646\\u0647\\u0650 \\u064c\\u0623\\u064c\\u062d\\u0645\\u0650\\u0631\\\" \\u0648\\u0650\\u0627\\u0631\\u062a\\u064c\\u062f\\u064a\\u0646\\u0652\\u0627\\u064e \\u0632\\u064a \\u0627\\u064e\\u0644\\u0652\\u0645\\u062f\\u0651\\u0627\\u0652\\u0631\\u064b\\u0633\\u064f \\u064d\\u0627\\u0644\\u0643\\u064d\\u0648\\u064e\\u064a\\u062a\\u064a\\u0629 \\u0623\\u062b\\u064f\\u0646\\u064f\\u0627\\u064e\\u0621\\u064c \\u0651\\u062a\\u0639\\u064e\\u0644\\u0650\\u064a\\u0645\\u0646\\u0627\\u064c\\u060c \\u064c\\u0648\\u0652\\u062a\\u064d\\u0646\\u0627\\u0650\\u0648\\u0644\\u064b\\u0646\\u0627 \\u0627\\u0644\\u064e\\u0648\\u062c\\u064f\\u0628\\u0652\\u0627\\u062a\\u064d \\u0627\\u0651\\u0644\\u0635\\u0628\\u0627\\u062d\\u0650\\u064a\\u0629\\u0651 \\u0627\\u0651\\u0644\\u0650\\u0643\\u064b\\u0648\\u064a\\u062a\\u064a\\u0629\\u0650 \\u064d\\u0641\\u0650\\u064a \\u0645\\u062f\\u064b\\u0627\\u064b\\u0631\\u064c\\u0633\\u0646\\u0627\\u0652\\u060c\\u064b \\u0648\\u0627\\u0633\\u062a\\u062e\\u064c\\u062f\\u064f\\u0645\\u0651\\u0646\\u0627 \\u064d\\u0627\\u064b\\u0644\\u064c\\u0623\\u0650\\u0642\\u064c\\u0644\\u0627\\u0651\\u0645 \\u0652\\u0648\\u064d\\u0627\\u0644\\u0652\\u0645\\u0645\\u064e\\u062d\\u0651\\u0627\\u064f\\u064a\\u064d\\u0627\\u064b\\u062a\\u064e \\u0648\\u0627\\u064d\\u0644\\u064b\\u0645\\u0628\\u0631\\u0627\\u064a\\u0652\\u0627\\u064b\\u062a \\u064d\\u0627\\u0644\\u064e\\u0643\\u0648\\u064c\\u064a\\u062a\\u064a\\u0629\\u064e\\u060c \\u0644\\u064d\\u0627\\u064c \\u0641\\u0631\\u0642 \\u064f\\u0628\\u064b\\u064a\\u064c\\u0646\\u064d\\u0646\\u0651\\u0627\\u060c \\u0628\\u064a\\u064b\\u0626\\u0650\\u062a\\u0627 \\u0628\\u064f\\u0644\\u062f\\u064a\\u0646\\u0627\\u064b \\u0648\\u0650\\u0627\\u064f\\u062d\\u0652\\u062f\\u0629\\u064d\\u060c \\u0647\\u064a \\u0627\\u064f\\u0644\\u0628\\u0650\\u064a\\u0650\\u0626\\u0629\\u064b \\u064c\\u0627\\u0650\\u0644\\u0628\\u062d\\u0631\\u064a\\u0629\\u064f \\u064f.\\u064b \\u0648\\u0628\\u0652\\u0639\\u062f\\u064f \\u064f\\u0623\\u0650\\u0641\\u064c\\u0648\\u0644 \\u062a\\u064d\\u062c\\u0627\\u0652\\u0631\\u0629\\u064c \\u0627\\u0644\\u0644\\u0624\\u0644\\u064b\\u0624\\u060c \\u0651\\u0641\\u064f\\u0625\\u0652\\u0646\\u0651 \\u0645\\u0651\\u062b\\u064e\\u0642\\u064f\\u0641\\u064a\\u0646\\u0627\\u064c \\u0648\\u064d\\u0639\\u0650\\u0645\\u064e\\u0627\\u0644\\u064f\\u0646\\u064f\\u0627 \\u062a\\u0648\\u062c\\u0647\\u0648\\u0627\\u064b \\u0625\\u0644\\u0649 \\u0627\\u0644\\u064e\\u0643\\u0650\\u0648\\u064b\\u064a\\u064b\\u062a\\u064f \\u0644\\u0650\\u0644\\u0639\\u064d\\u0645\\u0644 \\u0651\\u0641\\u064f\\u064a\\u0647\\u0627\\u064f\\u060c \\u0650\\u0643\\u0651\\u0645\\u0627 \\u0623\\u064f\\u0646 \\u0647\\u064c\\u0646\\u0627\\u0643 \\u0623\\u064f\\u062c\\u064a\\u0627\\u064c\\u0644\\u0651\\u0627\\u0650\\u064b \\u064e\\u0645\\u064b\\u0646 \\u0627\\u0652\\u0644\\u064e\\u0643\\u064b\\u0648\\u064a\\u062a\\u064b\\u064a\\u064a\\u0646 \\u064b\\u0639\\u064d\\u0627\\u0634\\u0648\\u064b\\u0627 \\u0641\\u064e\\u064a \\u064f\\u0627\\u0650\\u0644\\u064e\\u0625\\u064d\\u0645\\u0627\\u0631\\u0627\\u062a\\u064d\\u060c \\u064d\\u0648\\u0651\\u0645\\u064e\\u0646\\u064b\\u0647\\u0645 \\u0645\\u0646\\u064c \\u064b\\u0639\\u0650\\u0644\\u0652\\u0645\\u064d\\u0648\\u064e\\u0646\\u0627 .\\u0651 \\u0643\\u0645\\u0627 \\u0631\\u0627\\u0651\\u062d\\u0652 \\u064a\\u0650\\u062a\\u062d\\u064d\\u062f\\u062b \\u0639\\u0646\\u0651 \\u0627\\u0644\\u062a\\u0641\\u064e\\u0627\\u0639\\u064e\\u0644\\u064b \\u0627\\u064c\\u0644\\u062b\\u0650\\u0642\\u0652\\u0627\\u0641\\u064c\\u064a \\u0628\\u064d\\u064a\\u0646\\u0650 \\u064b\\u0627\\u0644\\u064d\\u0628\\u0644\\u0651\\u062f\\u064a\\u064d\\u0646 \\u0639\\u064e\\u0628\\u0631 \\u064d\\u0642\\u064d\\u0635\\u064f\\u0627\\u0626\\u0650\\u062f\\u064d \\u0627\\u0651\\u0644\\u064b\\u0634\\u0639\\u0652\\u0631\\u0627\\u064e\\u0621\\u060c\\u064d \\u064b\\u0627\\u0644\\u0652\\u0641\\u0652\\u0635\\u0652\\u062d\\u064c\\u0649\\u064b \\u0648\\u064c\\u0627\\u0644\\u0650\\u0646\\u064b\\u0628\\u0637\\u064a\\u064f\\u0629\\u0650\\u060c \\u0650\\u0641\\u0652\\u0636\\u064b\\u0644\\u0650\\u0627\\u064b\\u064b \\u064c\\u0639\\u064d\\u0646 \\u0651\\u0627\\u064d\\u0644\\u062a\\u0641\\u064c\\u0627\\u0639\\u064f\\u0644\\u064c \\u0651\\u0645\\u0652\\u0639 \\u0648\\u064b\\u0633\\u0627\\u0652\\u0626\\u064b\\u0644\\u064b \\u0627\\u0644\\u0625\\u0650\\u0639\\u0644\\u0627\\u0645\\u0650 \\u064d\\u0641\\u0650\\u064a\\u064e \\u0643\\u0644\\u0627 \\u0627\\u064b\\u0644\\u0628\\u0651\\u0644\\u064e\\u062f\\u064c\\u064a\\u064d\\u0646\\u060c\\u064c \\u0650\\u0625\\u064f\\u0630 \\u064c\\u0641\\u064c\\u062a\\u062d\\u062a\\u0650 \\u064c\\u0627\\u0644\\u0651\\u0635\\u064d\\u062d\\u064e\\u0627\\u064c\\u0641\\u0629\\u0650 \\u0627\\u064e\\u0644\\u064e\\u0643\\u0648\\u064a\\u062a\\u064a\\u0650\\u0629\\u064f \\u0651\\u0623\\u064f\\u0628\\u0652\\u0648\\u064e\\u0627\\u0628\\u0647\\u064d\\u0627\\u0651 \\u0644\\u0644\\u0645\\u062b\\u0642\\u0641\\u064a\\u064b\\u0646\\u064b \\u0627\\u064f\\u0644\\u0625\\u0645\\u0627\\u0631\\u0652\\u0627\\u0650\\u062a\\u064f\\u064a\\u064e\\u064a\\u0650\\u0646 .\",\n          \"https://example.com/resource/\\u0623\\u0650\\u0628\\u0648\\u0638\\u0628\\u064f\\u064a\\u0651 \\u064c-\\u0650 \\u064b\\u0645\\u0646\\u0651\\u064a\\u0650 \\u0650\\u0628\\u0651\\u0648\\u0651\\u0646\\u0639\\u064f\\u0627\\u064b\\u0645\\u0629:\\u0646\\u064e\\u0638\\u0645 \\u0627\\u062a\\u062d\\u0627\\u062f \\u064d\\u0643\\u0651\\u062a\\u0627\\u0650\\u0628\\u064d \\u0651\\u0648\\u0652\\u0623\\u062f\\u0652\\u0628\\u064e\\u0627\\u064b\\u0621 \\u064f\\u0627\\u0644\\u0625\\u0645\\u0627\\u0651\\u0631\\u0627\\u0650\\u062a \\u0641\\u064a \\u0623\\u0628\\u0648\\u0650\\u0638\\u0628\\u064b\\u064a\\u0651\\u060c\\u064c \\u0645\\u0633\\u064c\\u0627\\u064e\\u0621\\u064c \\u0623\\u0645\\u064c\\u0633\\u064d \\u0627\\u0644\\u064f\\u0623\\u064e\\u0648\\u0651\\u0644\\u060c \\u064f\\u0641\\u0650\\u064a\\u064d \\u0642\\u0651\\u0627\\u0650\\u0639\\u0629\\u064d \\u0627\\u0652\\u0644\\u062f\\u0643\\u062a\\u0648\\u064c\\u0631\\u064c \\u064c\\u0639\\u0628\\u062f\\u064e \\u064b\\u0627\\u0644\\u064c\\u0644\\u0647\\u0651 \\u0639\\u0645\\u0631\\u0627\\u064d\\u0646 \\u064f\\u062a\\u0650\\u0631\\u0651\\u064a\\u0645\\u0652 \\u064d\\u0641\\u064a\\u064f \\u0645\\u0651\\u0642\\u0631 \\u064d\\u0627\\u0644\\u0627\\u062a\\u064c\\u062d\\u0627\\u062f\\u064c \\u064c\\u0627\\u0644\\u064c\\u062c\\u062f\\u064a\\u0651\\u062f \\u0641\\u064a \\u0645\\u0650\\u0639\\u064e\\u0633\\u064b\\u0643\\u0631\\u064d \\u064f\\u0622\\u0644\\u0651 \\u0646\\u064b\\u0647\\u064a\\u0627\\u0646\\u064f \\u0623\\u064e\\u0645\\u0650\\u0633\\u064f\\u064a\\u0629 \\u0644\\u0652\\u0644\\u064e\\u0643\\u064c\\u0627\\u062a\\u0628\\u064d \\u0651\\u0648\\u064e\\u0627\\u0644\\u0652\\u0645\\u062b\\u064e\\u0642\\u0651\\u0641\\u064c \\u064d\\u0627\\u0644\\u0625\\u0645\\u064d\\u0627\\u064c\\u0631\\u064c\\u0627\\u062a\\u0651\\u064a\\u064f \\u0645\\u0627\\u062c\\u064c\\u062f \\u0628\\u0648 \\u0634\\u064f\\u0644\\u064a\\u0628\\u064f\\u064a\\u060c\\u064d \\u0623\\u064f\\u0645\\u064b\\u064a\\u0646 \\u0639\\u0627\\u0645\\u0652 \\u0652\\u0627\\u0644\\u0645\\u0646\\u062a\\u0650\\u062f\\u0651\\u0649 \\u0650\\u0627\\u0644\\u064d\\u0625\\u064e\\u0633\\u0651\\u0644\\u0651\\u0627\\u0645\\u0652\\u064a\\u064f \\u0641\\u064f\\u064a \\u0627\\u0644\\u064e\\u0634\\u0650\\u0627\\u0631\\u064d\\u0642\\u064e\\u0629\\u064e\\u060c\\u0650 \\u064c\\u0628\\u064f\\u0639\\u0646\\u0648\\u064f\\u0627\\u0646:\\u0651 \\u0644\\u0645\\u0627\\u0630\\u0627\\u064e \\u0651\\u0627\\u064b\\u0644\\u064f\\u0634\\u0651\\u0627\\u0631\\u0642\\u0629 \\u0639\\u0651\\u0627\\u064e\\u0635\\u0645\\u0629 \\u0650\\u0644\\u064d\\u0644\\u062b\\u064f\\u0642\\u0627\\u0641\\u064b\\u0629\\u064b \\u0627\\u064c\\u0644\\u0625\\u064c\\u0633\\u0652\\u0644\\u064d\\u0627\\u0645\\u0651\\u064a\\u0629\\u064d\\u061f \\u0642\\u062f\\u0651\\u0651\\u064e\\u0645 \\u0627\\u0644\\u064e\\u0623\\u0645\\u0633\\u064a\\u064f\\u0629\\u064f \\u064d\\u0627\\u0644\\u0634\\u0650\\u0627\\u0639\\u0631\\u0652 \\u0652\\u0648\\u0627\\u0644\\u0646\\u0627\\u0652\\u0642\\u062f \\u0645\\u064b\\u062d\\u064c\\u0645\\u062f \\u0646\\u0648\\u0631 \\u064f\\u0627\\u064c\\u0644\\u062f\\u064f\\u064a\\u0646\\u060c\\u0651 \\u064b\\u0648\\u0650\\u062d\\u0636\\u0650\\u0631\\u0651\\u0647\\u064c\\u0627\\u064e \\u064f\\u062d\\u0650\\u0628\\u064d\\u064a\\u0652\\u0628\\u064b \\u0627\\u064e\\u0644\\u0635\\u064b\\u0627\\u064a\\u0650\\u063a\\u0651 \\u064e\\u0631\\u064f\\u0626\\u064a\\u064d\\u0633\\u0652 \\u0645\\u062c\\u0651\\u0644\\u0633\\u0650 \\u0625\\u064c\\u062f\\u064c\\u0627\\u0631\\u0629\\u0650 \\u0651\\u0627\\u064c\\u0644\\u064b\\u0627\\u064b\\u062a\\u062d\\u0627\\u062f\\u0650\\u060c\\u064e \\u0648\\u0639\\u064b\\u062f\\u064b\\u062f \\u0645\\u0646 \\u064d\\u0627\\u0644\\u0643\\u062a\\u0651\\u0627\\u0628\\u064e \\u0648\\u0652\\u0627\\u064f\\u0644\\u064b\\u0623\\u064f\\u062f\\u0628\\u0627\\u064d\\u0621 \\u064d.\\u064e \\u064c\\u0627\\u0633\\u062a\\u064b\\u0647\\u0651\\u0644\\u0652 \\u0627\\u0652\\u0644\\u0651\\u0645\\u064d\\u062d\\u0652\\u0627\\u064f\\u0636\\u0631 \\u0628\\u0627\\u0633\\u062a\\u0639\\u064e\\u0631\\u0627\\u0636\\u0650 \\u0627\\u0644\\u0623\\u0637\\u0631 \\u0627\\u064c\\u0644\\u0639\\u064d\\u0627\\u0645\\u0629\\u0652 \\u0651\\u0627\\u064c\\u0644\\u062a\\u064a\\u0650 \\u0639\\u0645\\u0644\\u062a \\u064d\\u0639\\u0644\\u0649 \\u062a\\u064e\\u0634\\u0643\\u0651\\u064a\\u0652\\u0644\\u064f \\u064b\\u0648\\u0628\\u0644\\u064d\\u0648\\u064f\\u0631\\u0629 \\u0627\\u064f\\u0644\\u0641\\u0643\\u064b\\u0631\\u0652\\u0629 \\u0627\\u064e\\u0644\\u064c\\u062b\\u0642\\u0651\\u0627\\u0641\\u064d\\u064a\\u064b\\u0629\\u064e \\u0641\\u064b\\u064a\\u064f \\u064c\\u0627\\u0644\\u064f\\u0634\\u0627\\u0650\\u0631\\u064b\\u0642\\u0629\\u0652\\u060c\\u0652 \\u0645\\u0646\\u064c \\u0652\\u062e\\u0652\\u0644\\u0627\\u0652\\u0644\\u064d \\u0652\\u0627\\u0644\\u062a\\u064f\\u0639\\u064d\\u0631\\u064b\\u064a\\u0641 \\u0628\\u0652\\u0627\\u0644\\u062a\\u0650\\u062c\\u064b\\u0631\\u064f\\u0628\\u0629\\u0651 \\u064f\\u0648\\u0623\\u0647\\u0645 \\u0645\\u0633\\u0652\\u0627\\u0650\\u0631\\u064d\\u0627\\u062a\\u064b\\u0647\\u064d\\u0627\\u0652\\u060c\\u064f \\u0650\\u0648\\u064b\\u0627\\u0650\\u0644\\u0651\\u0623\\u0637\\u0650\\u0648\\u064c\\u0627\\u0631 \\u0651\\u0627\\u0652\\u0644\\u064d\\u062a\\u064a \\u0650\\u0645\\u064c\\u0631\\u064b\\u062a \\u0628\\u0647\\u0650\\u0627\\u064d\\u060c \\u0628\\u0652\\u062f\\u064e\\u0621\\u0651\\u0627\\u064b\\u064d \\u0628\\u064d\\u0627\\u0644\\u062d\\u062f\\u064a\\u064c\\u062b\\u064b \\u064d\\u0639\\u064b\\u0646 \\u0628\\u064d\\u0646\\u0627\\u0652\\u0621\\u064d \\u0627\\u0644\\u0628\\u064d\\u0646\\u0649\\u0650 \\u0627\\u0651\\u0644\\u0650\\u062a\\u064c\\u062d\\u062a\\u064c\\u064a\\u064c\\u0629\\u0650 \\u064d\\u0644\\u0644\\u0645\\u0624\\u064b\\u0633\\u0633\\u0650\\u0627\\u062a \\u0650\\u0627\\u0644\\u062b\\u064e\\u0642\\u0652\\u0627\\u0641\\u064a\\u064d\\u0629\\u064c \\u064f\\u0648\\u0627\\u064e\\u0644\\u0625\\u0651\\u0639\\u064e\\u0644\\u0627\\u0645\\u0650\\u064a\\u0629\\u0651 \\u064c\\u0627\\u0644\\u062a\\u064a \\u0623\\u064d\\u0633\\u0651\\u0647\\u0645\\u064f\\u062a\\u060c \\u064d\\u0639\\u064f\\u0628\\u0631 \\u0651\\u062a\\u0627\\u0652\\u0631\\u064a\\u062e\\u0647\\u0627\\u0652\\u060c\\u064e \\u0641\\u064c\\u064a\\u0651 \\u0652\\u062a\\u064b\\u0641\\u0639\\u064a\\u0644 \\u0627\\u0651\\u0644\\u0639\\u0650\\u0645\\u064b\\u0644\\u064b \\u0627\\u064e\\u0644\\u062b\\u0650\\u0642\\u064e\\u0627\\u0650\\u0641\\u0651\\u064a \\u0641\\u064f\\u064a \\u0627\\u064d\\u0644\\u0634\\u0627\\u0652\\u0631\\u0642\\u0629\\u060c \\u0627\\u0646\\u0637\\u0644\\u064d\\u0627\\u0642\\u0627\\u064b\\u0651 \\u0645\\u0650\\u0646\\u064b \\u062a\\u0623\\u0633\\u064f\\u064a\\u0633\\u0651 \\u064c\\u062f\\u0627\\u0652\\u0626\\u0631\\u0629\\u064d \\u0652\\u0627\\u0650\\u0644\\u064f\\u062b\\u0642\\u064b\\u0627\\u0641\\u0629 \\u064d\\u0648\\u0627\\u064c\\u0644\\u0625\\u0651\\u0639\\u0644\\u0627\\u0650\\u0645\\u064f\\u060c\\u0651 \\u0648\\u0650\\u062a\\u0644\\u0641\\u0632\\u064a\\u0648\\u064b\\u0646 \\u0627\\u0644\\u064f\\u0634\\u0627\\u064c\\u0631\\u0642\\u0652\\u0629\\u0650 \\u0648\\u0645\\u0627 \\u062a\\u062e\\u064d\\u0644\\u064c\\u0644\\u064f \\u0630\\u0644\\u0643\\u064c \\u064e\\u0645\\u064b\\u0646\\u064f \\u0625\\u064b\\u0628\\u0631\\u0627\\u0632\\u064f \\u0648\\u062a\\u0634\\u062c\\u064c\\u064a\\u064f\\u0639\\u064d \\u064f\\u0644\\u0644\\u062b\\u0642\\u064b\\u0627\\u064c\\u0641\\u0629 \\u0648\\u064b\\u0627\\u064b\\u0644\\u0641\\u0646\\u064e\\u0648\\u064d\\u0646\\u064e \\u0645\\u0646\\u064f \\u064f\\u062e\\u0644\\u0627\\u0644 \\u064b\\u0627\\u064f\\u0644\\u064f\\u0645\\u064d\\u0639\\u064d\\u0627\\u0631\\u0636 \\u0627\\u0644\\u0651\\u0641\\u064f\\u0646\\u064a\\u064b\\u0629\\u064f \\u0648\\u064d\\u0627\\u0644\\u0650\\u0641\\u0639\\u0627\\u064e\\u0644\\u064a\\u0627\\u062a\\u0652 \\u064f\\u0627\\u0652\\u0644\\u064c\\u062b\\u0642\\u064b\\u0627\\u0651\\u0641\\u064b\\u064a\\u0629 \\u064f\\u0627\\u0644\\u062a\\u064f\\u064a \\u0651\\u062a\\u0635\\u0628 \\u064d\\u0641\\u064a \\u0642\\u0627\\u064b\\u0644\\u064b\\u0628\\u0650 \\u0627\\u0644\\u0646\\u064c\\u0647\\u064b\\u0648\\u0636\\u064b \\u0644\\u064b\\u0634\\u0627\\u064b\\u0631\\u064d\\u0642\\u0650\\u0629\\u064d \\u0627\\u0644\\u0652\\u062b\\u0642\\u064f\\u0627\\u0641\\u0652\\u0629\\u064e \\u064d\\u0648\\u0627\\u0644\\u0645\\u064c\\u0639\\u0631\\u0641\\u064e\\u0629\\u064c\\u060c \\u0645\\u064c\\u0627 \\u064a\\u064c\\u062c\\u064b\\u064a\\u0628 \\u0628\\u064b\\u0634\\u0643\\u0644\\u0650 \\u0642\\u064b\\u0637\\u0639\\u0650\\u064a \\u064d\\u0639\\u064c\\u0646\\u064d \\u0627\\u0651\\u0644\\u064e\\u062a\\u064e\\u0633\\u0651\\u0627\\u0624\\u0644 \\u0652\\u0627\\u0644\\u0645\\u0652\\u0631\\u0643\\u0632\\u064b\\u064a\\u0650 \\u0644\\u0645\\u0627\\u0651\\u0630\\u0627\\u0651 \\u064f\\u0627\\u0650\\u0644\\u0634\\u0627\\u0651\\u0631\\u0642\\u0629\\u0651 \\u0639\\u0627\\u064b\\u0635\\u0645\\u0629\\u064f \\u064f\\u0627\\u064d\\u0644\\u064d\\u062b\\u0650\\u0642\\u0627\\u0641\\u064b\\u0629\\u064c \\u0627\\u064d\\u0644\\u0651\\u0625\\u0633\\u064b\\u0644\\u064c\\u0627\\u0645\\u064a\\u0629\\u064e\\u061f \\u064b\\u0648\\u064d\\u0623\\u0650\\u0634\\u0652\\u0627\\u0631 \\u064c\\u0627\\u0644\\u0645\\u062d\\u0627\\u064b\\u0636\\u0651\\u0631\\u064e \\u0652\\u0625\\u064f\\u0644\\u0649 \\u064e\\u0627\\u064d\\u0644\\u064d\\u062d\\u0631\\u0627\\u0643 \\u064d\\u0627\\u0644\\u062b\\u0642\\u0627\\u064e\\u0641\\u064a\\u0650 \\u0650\\u0627\\u0644\\u064b\\u0646\\u064f\\u0634\\u0637\\u0651 \\u0627\\u0644\\u0630\\u064c\\u064a\\u0652 \\u0634\\u0643\\u064b\\u0644\\u064f \\u0652\\u0627\\u0651\\u0644\\u064d\\u0628\\u0650\\u0648\\u0651\\u0627\\u0643\\u064f\\u064a\\u0631 \\u064c\\u0627\\u064d\\u0644\\u064b\\u0623\\u064c\\u0648\\u0644\\u0649\\u064c \\u0651\\u0644\\u0644\\u0651\\u0639\\u0645\\u0651\\u0644 \\u0627\\u0644\\u062b\\u0642\\u0627\\u0641\\u064a \\u0651\\u0641\\u064c\\u064a\\u064b \\u0627\\u0644\\u0652\\u0634\\u0651\\u0627\\u0651\\u0631\\u064f\\u0642\\u0629\\u064c\\u060c\\u0652 \\u0650\\u0627\\u064d\\u0644\\u0630\\u0651\\u064a\\u0651 \\u0634\\u0645\\u064c\\u0644 \\u0643\\u0627\\u0641\\u0629\\u064f \\u064e\\u0627\\u0644\\u064b\\u062c\\u0648\\u0627\\u0646\\u064c\\u0628\\u064c \\u0650\\u0628\\u0645\\u0627\\u064f \\u064b\\u0641\\u0652\\u064a\\u0652\\u0647\\u0627\\u064d \\u0625\\u0646\\u0652\\u0634\\u064c\\u0627\\u0621 \\u0651\\u0627\\u0644\\u0645\\u0631\\u0627\\u0643\\u0652\\u0632 \\u0648\\u0627\\u064e\\u0644\\u0645\\u062f\\u064f\\u0627\\u064d\\u0631\\u0633 \\u064b\\u0648\\u0650\\u0627\\u064c\\u0644\\u0651\\u062c\\u0652\\u0627\\u0645\\u0652\\u0639\\u0651\\u0627\\u062a\\u0652 \\u064f\\u0648\\u0650\\u0627\\u0644\\u0641\\u064f\\u0646\\u0650\\u0648\\u064e\\u0646\\u0652 \\u064b\\u0648\\u064b\\u0627\\u0644\\u0652\\u0645\\u0651\\u0633\\u064e\\u0627\\u0650\\u0631\\u062d \\u064d\\u0644\\u062a\\u0651\\u0639\\u0632\\u064b\\u064a\\u0632 \\u0627\\u0644\\u0641\\u0639\\u0644\\u064b \\u0627\\u0644\\u064b\\u062b\\u064e\\u0642\\u064e\\u0627\\u0651\\u0641\\u064c\\u064a\\u064d \\u0648\\u064c\\u062a\\u0633\\u0631\\u064a\\u064c\\u0639\\u064f \\u0639\\u062c\\u064f\\u0644\\u0629\\u064f \\u0627\\u0644\\u0650\\u0646\\u064e\\u0634\\u0627\\u0637\\u0652 \\u064d\\u0627\\u0644\\u062b\\u0642\\u064c\\u0627\\u0651\\u0641\\u0650\\u064a \\u064b\\u0641\\u064a \\u0627\\u064d\\u0644\\u0651\\u0634\\u0627\\u064b\\u0631\\u0642\\u0629\\u0650\\u060c\\u0651 \\u0643\\u0645\\u064c\\u0627 \\u064d\\u062a\\u0650\\u0645 \\u062a\\u062e\\u0635\\u064a\\u0635\\u064f \\u064f\\u0645\\u064c\\u0633\\u0650\\u0627\\u062d\\u0629 \\u0645\\u064c\\u0639\\u062a\\u064b\\u0628\\u0651\\u0631\\u064f\\u0629\\u064e \\u064b\\u0644\\u0644\\u0637\\u0641\\u0644\\u064f \\u0648\\u062b\\u0642\\u0652\\u0627\\u0652\\u0641\\u064c\\u062a\\u0647\\u064c\\u060c\\u0650 \\u0645\\u0646\\u0651 \\u062e\\u0652\\u0644\\u064f\\u0627\\u0644 \\u0625\\u0646\\u0634\\u064b\\u0627\\u0652\\u0621\\u064e \\u0651\\u0645\\u064f\\u0631\\u064c\\u0627\\u0643\\u0652\\u0632 \\u064c\\u0645\\u064c\\u0643\\u062a\\u0628\\u0652\\u0627\\u064c\\u062a \\u064e\\u0627\\u0644\\u064e\\u0623\\u0650\\u0637\\u064d\\u0641\\u064c\\u0627\\u0644\\u060c \\u0648\\u064d\\u0645\\u064d\\u0631\\u0652\\u0627\\u0643\\u0632 \\u064e\\u0627\\u064c\\u0644\\u0623\\u0637\\u0641\\u064c\\u0627\\u064d\\u0644\\u064d\\u060c \\u062b\\u0645\\u064c \\u0645\\u0652\\u0631\\u064d\\u0627\\u0643\\u0632 \\u064b\\u0627\\u064e\\u0644\\u0652\\u0646\\u0627\\u0634\\u0651\\u0626\\u0629\\u060c \\u0641\\u0645\\u0652\\u062c\\u064f\\u0644\\u0633 \\u064b\\u0623\\u064e\\u0639\\u0644\\u0649\\u064e \\u0652\\u0644\\u064f\\u0644\\u0637\\u0641\\u064e\\u0644\\u0652 \\u0625\\u064e\\u0644\\u0649 \\u064c\\u063a\\u064a\\u0631 \\u0630\\u064b\\u0644\\u0643 \\u0651\\u0645\\u0646 \\u0627\\u0644\\u0633\\u064b\\u064a\\u0627\\u0633\\u064c\\u0627\\u062a \\u064b\\u0627\\u0644\\u0652\\u062a\\u064a\\u064c \\u064e\\u0627\\u0650\\u0639\\u0650\\u062a\\u064b\\u0645\\u064b\\u062f\\u0647\\u0650\\u0627\\u064e \\u064d\\u0635\\u0651\\u0627\\u0652\\u062d\\u0628\\u0650 \\u0652\\u0627\\u0652\\u0644\\u0633\\u064c\\u0645\\u0648\\u064f \\u064b\\u0627\\u064b\\u0644\\u0650\\u0634\\u064f\\u064a\\u064d\\u062e \\u064f\\u0627\\u0644\\u062f\\u064b\\u0643\\u062a\\u0648\\u064f\\u0631 \\u064b\\u0633\\u064d\\u0644\\u064f\\u0637\\u0627\\u0646 \\u0628\\u0646 \\u0645\\u064e\\u062d\\u064c\\u0645\\u062f \\u0627\\u0650\\u0644\\u0642\\u0652\\u0627\\u0633\\u0645\\u064a\\u0652 \\u064e\\u0639\\u064d\\u0636\\u0648\\u064f \\u0627\\u0644\\u0645\\u062c\\u0650\\u0644\\u0633\\u064b \\u064c\\u0627\\u064d\\u0644\\u064b\\u0623\\u0639\\u0651\\u0644\\u0652\\u0649 \\u062d\\u064b\\u0627\\u0643\\u064c\\u0645\\u064e \\u064f\\u0627\\u064e\\u0644\\u0634\\u064e\\u0627\\u0650\\u0631\\u0642\\u064c\\u0629\\u0652 \\u064e\\u0644\\u0644\\u0650\\u0631\\u0642\\u0652\\u064a\\u064e \\u064c\\u0628\\u062b\\u0650\\u0642\\u064c\\u0627\\u064f\\u0641\\u064d\\u0629\\u0652 \\u0627\\u0652\\u0644\\u0637\\u0650\\u0641\\u0644 \\u0648\\u0652\\u062a\\u0646\\u064d\\u0645\\u064a\\u0651\\u0629 \\u0652\\u0645\\u064c\\u062f\\u064f\\u0627\\u064e\\u0631\\u064c\\u0643\\u0652\\u0647\\u0652 \\u0648\\u064d\\u0642\\u064e\\u062f\\u0631\\u0652\\u0627\\u0651\\u062a\\u064d\\u0647\\u064b \\u0650. \\u0648\\u064b\\u0630\\u0647\\u064d\\u0628\\u064b \\u0627\\u064c\\u0644\\u0645\\u0650\\u062d\\u0651\\u0627\\u0650\\u0636\\u064b\\u0631 \\u0625\\u064d\\u0644\\u0650\\u0649\\u0650 \\u064f\\u0623\\u0646\\u064e \\u064f\\u0627\\u0644\\u0652\\u0633\\u064c\\u064a\\u0651\\u0627\\u0633\\u0650\\u0627\\u062a\\u064d \\u0627\\u0644\\u062b\\u0652\\u0642\\u0627\\u0641\\u064a\\u0629\\u064b \\u0648\\u0627\\u0644\\u062a\\u064d\\u0648\\u062c\\u064c\\u064a\\u064b\\u0647\\u0627\\u062a\\u0650 \\u0650\\u0627\\u064b\\u0644\\u064d\\u0646\\u064e\\u064a\\u0651\\u0631\\u0629\\u064c \\u0644\\u064e\\u0635\\u064c\\u0627\\u062d\\u0650\\u0628\\u064c \\u0627\\u0644\\u0633\\u0645\\u0648 \\u064d\\u062d\\u0627\\u064c\\u0643\\u0652\\u0645\\u064b \\u0627\\u064d\\u0644\\u0634\\u064c\\u0627\\u0631\\u064f\\u0642\\u0629 \\u064b\\u062c\\u064c\\u0639\\u0644\\u0650\\u062a\\u064f \\u0650\\u0645\\u064e\\u0646 \\u0627\\u0651\\u0644\\u0639\\u064d\\u0645\\u064c\\u0644\\u064e \\u0627\\u0644\\u064d\\u062b\\u064b\\u0642\\u0627\\u064d\\u0641\\u064f\\u064a\\u0652 \\u0641\\u064a\\u064e \\u0627\\u0652\\u0644\\u064d\\u0634\\u0627\\u0631\\u064f\\u0642\\u0651\\u0629\\u064c \\u0639\\u0645\\u0644\\u0627\\u064b\\u0650 \\u0646\\u064e\\u0634\\u064d\\u0637\\u0651\\u0627\\u064b \\u0648\\u0651\\u0642\\u0651\\u0648\\u0651\\u064a\\u0652\\u0627\\u064b\\u064c \\u064e\\u0633\\u0648\\u064f\\u0627\\u0621 \\u064f\\u0645\\u064d\\u0646 \\u0652\\u062e\\u0652\\u0644\\u0650\\u0627\\u0644 \\u062a\\u064d\\u0648\\u064e\\u062c\\u0650\\u064a\\u0647\\u0627\\u064c\\u062a\\u064c \\u0650\\u0633\\u064e\\u0645\\u0651\\u0648\\u0647 \\u064c\\u0644\\u064e\\u0644\\u0627\\u0652\\u0631\\u062a\\u064d\\u0642\\u0651\\u0627\\u0621 \\u064c\\u0628\\u0627\\u0651\\u0644\\u064f\\u0641\\u0646\\u064f \\u0627\\u064d\\u0644\\u064d\\u062a\\u0634\\u064f\\u0643\\u064a\\u064e\\u0644\\u064e\\u064a\\u0652 \\u0648\\u064b\\u062a\\u0634\\u064f\\u062c\\u064d\\u064a\\u0639 \\u064b\\u0627\\u0652\\u0644\\u0641\\u0646\\u0627\\u0650\\u0646\\u064a\\u0646\\u060c\\u064c \\u0648\\u064f\\u0627\\u0642\\u062a\\u0646\\u064d\\u0627\\u0621\\u064c \\u0652\\u0623\\u064c\\u0639\\u064e\\u0645\\u064e\\u0627\\u0644 \\u0641\\u064b\\u0646\\u0651\\u064a\\u064e\\u0629\\u064e \\u0644\\u0645\\u0635\\u0650\\u0644\\u0652\\u062d\\u064d\\u0629\\u064f \\u064f\\u0645\\u062a\\u064b\\u062d\\u064d\\u0641\\u0651 \\u0627\\u0644\\u064b\\u0634\\u0627\\u0631\\u0651\\u0642\\u0629\\u060c \\u0648\\u064f\\u0625\\u064c\\u0646\\u062c\\u0627\\u0632 \\u064e\\u0642\\u0652\\u0627\\u0639\\u0629 \\u064e\\u062e\\u064f\\u0627\\u0651\\u0635\\u0629\\u0652 \\u064f\\u0628\\u0627\\u064f\\u0644\\u0622\\u062b\\u0650\\u0627\\u0651\\u0631 \\u0627\\u064b\\u0644\\u0625\\u0633\\u064d\\u0644\\u064c\\u0627\\u064d\\u0645\\u0651\\u064a\\u0629\\u064b \\u064f\\u0641\\u064e\\u064a \\u0645\\u062a\\u062d\\u0641 \\u0627\\u0652\\u0644\\u064d\\u0634\\u0627\\u0651\\u0631\\u0642\\u064e\\u0629\\u060c\\u064c \\u064d\\u0623\\u064b\\u0645\\u064e \\u0645\\u064f\\u0646 \\u062e\\u064c\\u0644\\u0627\\u0651\\u0644 \\u0650\\u0627\\u0633\\u064b\\u062a\\u0643\\u0645\\u0651\\u0627\\u064d\\u0644 \\u0627\\u0652\\u0644\\u0645\\u0652\\u0634\\u0652\\u0631\\u0648\\u0639\\u0627\\u064d\\u062a\\u064c \\u0627\\u0644\\u062b\\u0652\\u0642\\u0651\\u0627\\u0652\\u0641\\u064a\\u0629\\u064c \\u0648\\u064e\\u062a\\u0631\\u0645\\u064a\\u0645 \\u0627\\u0651\\u0644\\u0645\\u0628\\u0627\\u0646\\u064c\\u064a\\u064f \\u0627\\u0644\\u064d\\u062a\\u0650\\u0631\\u0627\\u0650\\u062b\\u064a\\u0650\\u0629 \\u0652\\u0648\\u063a\\u064a\\u0631\\u0647\\u064b\\u0627\\u064f \\u0645\\u064f\\u0646 \\u0627\\u064e\\u0644\\u0651\\u0623\\u0639\\u0651\\u0645\\u0627\\u0644 \\u064c\\u0648\\u0650\\u0627\\u0644\\u0623\\u064f\\u0646\\u0634\\u064e\\u0637\\u0629 \\u0652\\u0627\\u0644\\u062a\\u064a \\u062a\\u0635\\u0628 \\u0641\\u064a\\u064d \\u064e\\u0635\\u0645\\u064e\\u064a\\u0651\\u0645\\u0651 \\u064b\\u0627\\u0644\\u0650\\u0641\\u0639\\u0651\\u0644\\u064d \\u0627\\u064f\\u0644\\u064e\\u062b\\u064c\\u0642\\u0627\\u064b\\u0641\\u0651\\u064a .\\u0648\\u0623\\u0652\\u0643\\u064e\\u062f\\u064d \\u0627\\u0652\\u0644\\u0650\\u0645\\u0650\\u062d\\u0650\\u0627\\u064c\\u0636\\u0631 \\u0623\\u064d\\u0646 \\u0627\\u064c\\u0644\\u064e\\u062f\\u064e\\u0648\\u0652\\u0631\\u0629\\u0652 \\u064b\\u0627\\u0652\\u0644\\u064c\\u0623\\u064c\\u0648\\u064c\\u0644\\u064f\\u0649\\u0651 \\u0644\\u0645\\u064e\\u0639\\u0631\\u064d\\u0636\\u064d \\u0627\\u0644\\u0650\\u0643\\u0650\\u062a\\u0651\\u0627\\u0628\\u060c \\u0627\\u0644\\u0630\\u064d\\u064a \\u0623\\u0635\\u0651\\u0628\\u062d \\u0627\\u0651\\u0644\\u0652\\u064a\\u064f\\u0648\\u064c\\u0645\\u0651 \\u0648\\u062c\\u064b\\u0647\\u0629 \\u0639\\u0627\\u064b\\u0644\\u0651\\u0645\\u064a\\u0650\\u0629 \\u0644\\u0651\\u0644\\u0643\\u062a\\u0627\\u064d\\u0628\\u064e \\u064c\\u0648\\u0627\\u0644\\u0650\\u0645\\u0641\\u064e\\u0643\\u064b\\u0631\\u064a\\u0650\\u0646 \\u064e\\u0645\\u0650\\u0646\\u0650 \\u0623\\u0650\\u0646\\u064d\\u062d\\u064d\\u0627\\u064d\\u0621\\u064c \\u0627\\u064e\\u0644\\u0650\\u0639\\u0651\\u0627\\u0651\\u0644\\u0645\\u0652 \\u0638\\u0652\\u0644\\u0627\\u0644\\u0647\\u064c \\u0627\\u0644\\u0650\\u0648\\u0627\\u0631\\u064f\\u0641\\u0629\\u064e\\u060c\\u064f \\u0634\\u064d\\u0643\\u064d\\u0644\\u062a\\u0650 \\u064d\\u0646\\u064f\\u0642\\u064b\\u0637\\u0629 \\u064f\\u0627\\u064f\\u0646\\u064c\\u0637\\u0644\\u064e\\u0627\\u0652\\u0642 \\u064f\\u0648\\u062a\\u062d\\u0648\\u0650\\u0651\\u064d\\u0644 \\u0641\\u0652\\u064a\\u064d \\u0627\\u064e\\u0644\\u0645\\u0634\\u0652\\u0631\\u0652\\u0648\\u0639 \\u0652\\u0627\\u0644\\u0651\\u062b\\u0642\\u0652\\u0627\\u0652\\u0641\\u064d\\u064a\\u064f \\u0652\\u0644\\u064d\\u0635\\u0627\\u062d\\u0628 \\u064c\\u0627\\u064d\\u0644\\u064e\\u0633\\u0651\\u0645\\u0650\\u0648\\u064d \\u0650\\u062d\\u064d\\u0627\\u0643\\u0645\\u064f \\u0627\\u0652\\u0644\\u0634\\u0652\\u0627\\u064b\\u0631\\u0642\\u0651\\u0629\\u060c\\u0652 \\u0643\\u0652\\u0645\\u064b\\u0627\\u064e \\u064c\\u062a\\u0632\\u064f\\u0627\\u064d\\u0645\\u0646 \\u064c\\u0645\\u064c\\u0639\\u0651 \\u064e\\u0647\\u0650\\u0630\\u0647 \\u0627\\u0644\\u062f\\u0648\\u0631\\u0651\\u0629 \\u0627\\u064b\\u0641\\u0652\\u062a\\u062a\\u0627\\u062d \\u0645\\u064f\\u0643\\u064b\\u062a\\u0628\\u0652\\u0629\\u064e \\u0627\\u0644\\u064b\\u0645\\u064f\\u062d\\u0650\\u0645\\u0651\\u0648\\u062f\\u064e \\u0652(\\u0651\\u0627\\u0644\\u0652\\u0623\\u064b\\u0647\\u064f\\u0644\\u0650\\u064a\\u0629\\u0652)\\u0652\\u060c\\u0652 \\u0651\\u062b\\u064c\\u0645 \\u064b\\u0627\\u0644\\u0650\\u0645\\u0651\\u0631\\u064f\\u0643\\u0652\\u0632\\u0651 \\u064e\\u0627\\u0652\\u0644\\u064c\\u062b\\u0651\\u0642\\u0627\\u0641\\u0652\\u064a\\u064d \\u064f\\u0641\\u064a\\u0645\\u0627\\u0652 \\u0628\\u0639\\u062f\\u064d .\\u0652\\u0648\\u0651\\u0627\\u064c\\u0639\\u062a\\u0628\\u064d\\u0631 \\u0627\\u064d\\u0644\\u064c\\u0645\\u062d\\u064e\\u0627\\u064b\\u0636\\u0651\\u0631 \\u064b\\u0623\\u0646 \\u064b\\u062d\\u064b\\u0632\\u0645\\u0629 \\u0652\\u0627\\u0652\\u0644\\u064c\\u0645\\u064d\\u0647\\u064d\\u0631\\u062c\\u064d\\u0627\\u064d\\u0646\\u0627\\u0651\\u062a \\u0652\\u0648\\u0651\\u0627\\u0644\\u064f\\u0641\\u064b\\u0639\\u0650\\u0627\\u0644\\u064a\\u0650\\u0627\\u0651\\u062a\\u064b \\u0627\\u0644\\u0652\\u062a\\u064a\\u0650 \\u062a\\u0642\\u0652\\u0627\\u0650\\u0645 \\u0652\\u0639\\u0644\\u0651\\u0649 \\u0645\\u062f\\u0627\\u064c\\u0631\\u0650 \\u0627\\u064e\\u0644\\u0639\\u0627\\u0645\\u0650 \\u0650\\u0641\\u064a \\u064c\\u0627\\u0644\\u064e\\u0634\\u0627\\u064d\\u0631\\u0642\\u0629\\u064f\\u060c\\u0652 \\u0651\\u0648\\u0645\\u0627 \\u064a\\u0651\\u062a\\u064c\\u062e\\u0644\\u0650\\u0644\\u0647\\u064f\\u0627\\u0651 \\u0645\\u0646 \\u0623\\u0646\\u0634\\u0637\\u064c\\u0629\\u064d \\u062b\\u0642\\u064d\\u0627\\u0641\\u0652\\u064a\\u0629\\u064f \\u064c\\u0645\\u0651\\u062a\\u064f\\u0646\\u0648\\u064d\\u0639\\u0652\\u0629 \\u064d\\u062a\\u064c\\u0634\\u064b\\u0643\\u0652\\u0644\\u064f \\u064f\\u0623\\u064d\\u0648\\u062c\\u064c \\u0650\\u0627\\u064f\\u0644\\u062d\\u0631\\u064d\\u0627\\u0652\\u0643\\u0651 \\u064f\\u0627\\u064e\\u0644\\u062b\\u0642\\u0627\\u0641\\u064b\\u064a\\u064f\\u060c\\u064d \\u0648\\u0631\\u0627\\u0651\\u0641\\u0652\\u062f\\u0652\\u0627\\u064f\\u064b\\u0651 \\u0623\\u0633\\u0627\\u064d\\u0633\\u064d\\u064a\\u064e\\u0627\\u064c\\u064b \\u0644\\u0644\\u064c\\u062a\\u0641\\u0652\\u0627\\u0639\\u0644\\u0651 \\u0651\\u0648\\u0652\\u0627\\u0644\\u0652\\u062a\\u0646\\u0627\\u0650\\u063a\\u0645 \\u0627\\u0644\\u064b\\u062b\\u0650\\u0642\\u0627\\u064b\\u0641\\u064c\\u064a \\u064d\\u0641\\u064a\\u0651 \\u0625\\u0645\\u0627\\u0631\\u0652\\u0629\\u0652 \\u062a\\u0632\\u064c\\u062f\\u0651\\u0627\\u064c\\u0646 \\u0648\\u062a\\u0652\\u0632\\u062f\\u064d\\u0647\\u0651\\u064a\\u0650 \\u0643\\u0644 \\u064e\\u062d\\u064e\\u064a\\u064e\\u0646 \\u0628\\u0651\\u0644\\u0650\\u0641\\u064f\\u062a\\u064c\\u0629\\u064b \\u0643\\u064d\\u0631\\u064a\\u0645\\u0629\\u0651 \\u0648\\u064d\\u0633\\u064c\\u0627\\u064e\\u0646\\u062d\\u0629 \\u064e\\u0637\\u064a\\u064e\\u0628\\u0629 \\u0645\\u0650\\u0646 \\u0652\\u062d\\u0627\\u064e\\u0643\\u064b\\u0645 \\u0645\\u062b\\u0642\\u0641\\u0652\\u060c \\u064a\\u064e\\u062d\\u064b\\u0645\\u064d\\u0644\\u0652 \\u0639\\u0644\\u0649 \\u0639\\u064d\\u0627\\u064b\\u062a\\u064f\\u0642\\u0647 \\u064b\\u0627\\u064e\\u0644\\u064e\\u0646\\u0651\\u0647\\u064f\\u0648\\u064d\\u0636 \\u064f\\u0628\\u0652\\u0627\\u064c\\u0644\\u062b\\u064d\\u0642\\u064f\\u0627\\u064c\\u0641\\u064b\\u0629\\u064c \\u0648\\u064f\\u0627\\u064c\\u0644\\u064b\\u0645\\u064e\\u0639\\u064b\\u0631\\u0650\\u0641\\u0629 \\u064b.\\u0648\\u062e\\u0651\\u0644\\u0650\\u0635 \\u064f\\u0627\\u0650\\u0644\\u0650\\u0645\\u062d\\u064b\\u0627\\u0636\\u0631 \\u0625\\u064e\\u0644\\u0651\\u0649\\u0652 \\u0623\\u064b\\u0646 \\u064c\\u062b\\u064e\\u0645\\u0629\\u0651 \\u064b\\u062b\\u0644\\u0627\\u064e\\u062b\\u064c \\u0646\\u0642\\u0651\\u0627\\u0637 \\u064e\\u0644\\u064b\\u0644\\u0650\\u0627\\u064b\\u0631\\u064c\\u062a\\u0642\\u0650\\u0627\\u0621\\u064b \\u064e\\u0628\\u064d\\u0627\\u064d\\u0644\\u0641\\u0643\\u0652\\u0631\\u0629 \\u064d\\u0627\\u064d\\u0644\\u062b\\u0642\\u0651\\u0627\\u0641\\u064d\\u064a\\u064d\\u0629\\u0650 \\u0641\\u064e\\u064a\\u064d \\u064f\\u0627\\u0644\\u064c\\u0634\\u064d\\u0627\\u0631\\u0652\\u0642\\u0629 \\u0623\\u064d\\u0648\\u0644\\u0650\\u0647\\u0627 \\u064d\\u062a\\u0652\\u0623\\u064b\\u0633\\u064e\\u064a\\u0633 \\u0650\\u062f\\u0652\\u0627\\u0652\\u0626\\u0650\\u0631\\u0652\\u0629\\u064e \\u064e\\u0627\\u0644\\u062b\\u0642\\u0651\\u0627\\u0641\\u0629 \\u0648\\u064e\\u0627\\u0650\\u0644\\u064e\\u0625\\u0639\\u0650\\u0644\\u0627\\u0645\\u0651\\u060c \\u064c\\u0648\\u0650\\u062b\\u0652\\u0627\\u0646\\u064a\\u0647\\u0651\\u0627\\u064c \\u0627\\u062c\\u062a\\u0651\\u0645\\u064d\\u0627\\u064d\\u0639 \\u064e\\u0635\\u0627\\u062d\\u0650\\u0628\\u0650 \\u0627\\u0651\\u0644\\u0651\\u0633\\u0651\\u0645\\u0648\\u064d \\u0650\\u062d\\u0627\\u064f\\u0643\\u064b\\u0645 \\u0627\\u0644\\u064f\\u0634\\u0652\\u0627\\u064b\\u0631\\u0642\\u064d\\u0629\\u0651 \\u064c\\u0628\\u0643\\u064f\\u0648\\u0650\\u0627\\u062f\\u064c\\u0631 \\u0627\\u0644\\u064b\\u062f\\u064b\\u0627\\u0650\\u0626\\u0631\\u064b\\u0629 \\u064c\\u0648\\u0642\\u0651\\u062f\\u064f\\u0651\\u0645 \\u0641\\u0651\\u064a\\u0647\\u064f \\u0645\\u062c\\u0650\\u0645\\u064b\\u0648\\u064d\\u0639\\u0651\\u0629\\u064d \\u0645\\u064f\\u0646 \\u0652\\u0627\\u064e\\u0644\\u0633\\u064a\\u0651\\u0627\\u0651\\u0633\\u0627\\u062a \\u0651\\u0627\\u0644\\u062b\\u0642\\u064c\\u0627\\u064b\\u0641\\u064a\\u064e\\u0629 \\u0648\\u064c\\u0627\\u0644\\u062e\\u0651\\u0637\\u0637\\u064b \\u0627\\u0644\\u064d\\u062a\\u0646\\u0645\\u064e\\u0648\\u064a\\u0650\\u0629 \\u0651\\u0648\\u062f\\u0652\\u0639\\u0627 \\u064c\\u0633\\u0650\\u0645\\u064b\\u0648\\u064c\\u0647 \\u064c\\u0625\\u0650\\u0644\\u064f\\u0649: \\u0627\\u0644\\u0627\\u0647\\u0651\\u062a\\u064f\\u0645\\u0627\\u064f\\u0645 \\u0628\\u064b\\u0627\\u0650\\u0644\\u064f\\u0645\\u0652\\u0633\\u0631\\u062d\\u060c\\u0652 \\u0648\\u064b\\u0627\\u0651\\u0644\\u0623\\u0637\\u064c\\u0631\\u0650 \\u0627\\u064d\\u0644\\u0651\\u0639\\u0627\\u064b\\u0645\\u0629 \\u064e\\u0644\\u0644\\u0650\\u062b\\u064e\\u0642\\u0627\\u064d\\u0641\\u0629\\u064d\\u060c\\u0651 \\u0651\\u0627\\u064c\\u0644\\u0650\\u0627\\u0631\\u064f\\u062a\\u0642\\u0627\\u064f\\u0621\\u064c \\u0628\\u064d\\u0627\\u0650\\u0644\\u0639\\u0645\\u0651\\u0644\\u064e \\u0627\\u0644\\u0651\\u062a\\u064d\\u0634\\u0643\\u0651\\u064a\\u0644\\u064a\\u0650\\u060c \\u0627\\u0651\\u0644\\u0627\\u064f\\u0647\\u064f\\u062a\\u0645\\u064d\\u0627\\u0645 \\u0650\\u0628\\u0650\\u0627\\u0651\\u0644\\u064b\\u0648\\u0639\\u0651\\u064a \\u064b\\u0648\\u0650\\u0627\\u0652\\u0644\\u064f\\u0630\\u0627\\u0626\\u0650\\u0642\\u0651\\u0629\\u064c \\u0627\\u0651\\u0644\\u062c\\u0650\\u0645\\u064d\\u0627\\u0652\\u0644\\u0652\\u064a\\u0652\\u0629\\u064f\\u060c \\u0627\\u064d\\u0644\\u0650\\u0627\\u0647\\u064f\\u062a\\u0645\\u0627\\u0651\\u0645\\u0652 \\u064f\\u0628\\u064d\\u0627\\u0644\\u0637\\u0641\\u0644\\u0651\\u060c \\u0651\\u062a\\u0637\\u0648\\u064a\\u0631\\u064b \\u0634\\u0628\\u0643\\u0629\\u0652 \\u0627\\u0644\\u0645\\u0643\\u062a\\u064b\\u0628\\u0627\\u062a\\u060c\\u0652 \\u064e\\u0627\\u0633\\u062a\\u0643\\u064f\\u0645\\u064d\\u0627\\u0644\\u064d \\u0639\\u064b\\u0645\\u064b\\u0644\\u0652\\u064a\\u0627\\u062a \\u064c\\u0627\\u0644\\u064f\\u062a\\u0631\\u0645\\u064a\\u0645\\u0650\\u060c \\u064b\\u0627\\u0644\\u064d\\u0627\\u0647\\u064b\\u062a\\u064c\\u0645\\u0652\\u0627\\u0650\\u0645\\u064d \\u0650\\u0628\\u062b\\u064e\\u0642\\u0652\\u0627\\u064b\\u0641\\u064e\\u0629\\u064d \\u0650\\u0627\\u064d\\u0644\\u0645\\u0650\\u0631\\u064b\\u0623\\u064b\\u0629 \\u0650\\u0648\\u064b\\u0627\\u064f\\u0644\\u064d\\u0637\\u0641\\u0652\\u0644 .\\u0652 \\u064c.\\u064d)\\u064f \\u064b\\u0648\\u062b\\u064b\\u0627\\u064d\\u0644\\u0651\\u062b\\u064b\\u0647\\u064e\\u0627\\u064f \\u064b\\u0625\\u0650\\u0639\\u0650\\u0644\\u0651\\u0627\\u064b\\u0646\\u064f \\u0627\\u0644\\u0634\\u0627\\u0631\\u0642\\u0629\\u064f \\u0651\\u0639\\u0627\\u064d\\u0635\\u064e\\u0645\\u0629\\u064c \\u0644\\u0644\\u064b\\u062b\\u0642\\u064b\\u0627\\u0641\\u0629 \\u064b\\u0627\\u0652\\u0644\\u064e\\u0639\\u0651\\u0631\\u0628\\u064a\\u0629\\u064f \\u064b\\u0641\\u064a\\u064b \\u0639\\u0627\\u0645 19\\u06529\\u064d8 \\u064e\\u0644\\u0645\\u0627 \\u062a\\u062a\\u0645\\u064b\\u064a\\u0632\\u064f \\u0628\\u064f\\u0647\\u064e \\u064e\\u0645\\u064b\\u0646\\u064b \\u064b\\u0646\\u064e\\u0634\\u0650\\u0627\\u0637 \\u0651\\u0648\\u064f\\u062d\\u064b\\u0631\\u0627\\u0643\\u064d \\u064f\\u062b\\u0642\\u0627\\u0641\\u064a\\u0650 \\u0645\\u0652\\u0645\\u064c\\u064a\\u0632\\u064d\\u060c\\u064e \\u064b\\u0641\\u0636\\u0644\\u0627\\u064b\\u064e \\u064f\\u0639\\u0650\\u0646 \\u062f\\u0648\\u0631\\u064b \\u064c\\u0627\\u0644\\u064d\\u062c\\u064f\\u0648\\u0627\\u0652\\u0626\\u064f\\u0632\\u0651 \\u0648\\u0635\\u0650\\u0646\\u064f\\u0627\\u062f\\u0651\\u064a\\u064b\\u0642 \\u064f\\u0627\\u064b\\u0644\\u062f\\u064d\\u0639\\u064c\\u0645\\u060c \\u064d\\u0648\\u0627\\u064f\\u0644\\u062f\\u0628\\u0652\\u0644\\u064b\\u0648\\u0645\\u0627\\u0633\\u064d\\u064a\\u0629 \\u064f\\u0627\\u0650\\u0644\\u064b\\u062b\\u0652\\u0642\\u0627\\u0641\\u0651\\u064a\\u0629\\u060c\\u064e \\u0648\\u0639\\u0650\\u062f\\u062f \\u0648\\u0652\\u0646\\u064c\\u0648\\u0639 \\u064b\\u0627\\u064b\\u0644\\u064c\\u062c\\u064b\\u0627\\u0645\\u0639\\u0650\\u0627\\u064c\\u062a \\u0648\\u0627\\u0644\\u064e\\u0645\\u0650\\u0631\\u0627\\u0652\\u0643\\u0632\\u060c \\u064f\\u0648\\u0627\\u064b\\u0644\\u0625\\u064f\\u062d\\u0635\\u064c\\u0627\\u0650\\u0621\\u064e \\u0627\\u0651\\u0644\\u0627\\u064b\\u062c\\u064f\\u062a\\u0645\\u0627\\u0650\\u0639\\u0650\\u064a\\u0651 \\u064b\\u0641\\u0651\\u064a \\u0628\\u0644\\u0648\\u064e\\u0631\\u0629\\u064f \\u064b\\u0648\\u064c\\u062a\\u064b\\u0631\\u0633\\u0652\\u064a\\u062e \\u064c\\u0645\\u064d\\u0643\\u064e\\u0627\\u0646\\u0629 \\u064b\\u0627\\u0644\\u0651\\u0634\\u0627\\u0651\\u0631\\u064e\\u0642\\u0629 \\u064d\\u0639\\u0627\\u0635\\u0645\\u0629\\u064f \\u0651\\u0644\\u064c\\u0644\\u0651\\u062b\\u064d\\u0642\\u0627\\u064d\\u0641\\u0629\\u064e \\u064c\\u0627\\u064c\\u0644\\u0652\\u0639\\u0650\\u0631\\u0628\\u064a\\u064c\\u0629 \\u0650\\u0648\\u0652\\u0627\\u0644\\u0625\\u064d\\u0633\\u0644\\u0627\\u0651\\u0645\\u064a\\u0652\\u0629\\u060c \\u0648\\u0643\\u064f\\u0644 \\u0651\\u0630\\u0652\\u0644\\u064b\\u0643 \\u064b\\u0628\\u062c\\u0647\\u062f \\u0651\\u0635\\u0651\\u0627\\u062d\\u0628\\u064d \\u0650\\u0627\\u0644\\u064d\\u0633\\u064e\\u0645\\u0648\\u0650 \\u064b\\u062d\\u0650\\u0627\\u064c\\u0643\\u064f\\u0645 \\u064d\\u0627\\u0644\\u0634\\u0627\\u0631\\u064c\\u0642\\u0629 \\u0627\\u064e\\u0644\\u0650\\u0630\\u064a\\u064b \\u064e\\u0639\\u0645\\u064f\\u0644 \\u0651\\u0648\\u064d\\u0644\\u0627 \\u064a\\u0632\\u064f\\u0627\\u064e\\u0644 \\u0628\\u0634\\u063a\\u0641\\u0652 \\u0648\\u062d\\u0628\\u064f \\u0639\\u064f\\u0644\\u0649\\u0652 \\u062a\\u064c\\u0639\\u0632\\u064b\\u064a\\u064b\\u0632\\u064e \\u064c\\u0627\\u064f\\u0644\\u064e\\u062a\\u0646\\u064b\\u0645\\u0651\\u064a\\u064d\\u0629\\u064c \\u0627\\u064e\\u0644\\u064b\\u062b\\u0642\\u064e\\u0627\\u064d\\u0641\\u064c\\u064a\\u0629 \\u064e\\u0641\\u0650\\u064a\\u064f \\u0627\\u0652\\u0644\\u064e\\u0634\\u0627\\u0631\\u064e\\u0642\\u064d\\u0629\\u064e \\u0645\\u0646\\u0650 \\u062e\\u064b\\u0644\\u0650\\u0627\\u0650\\u0644\\u0651 \\u0651\\u0633\\u064e\\u0646\\u0651 \\u0648\\u0625\\u0642\\u064b\\u0631\\u0651\\u0627\\u0631 \\u0645\\u062c\\u0645\\u0648\\u064c\\u0639\\u064e\\u0629\\u064e \\u0645\\u064f\\u0646\\u0651 \\u0627\\u064b\\u0644\\u0645\\u064d\\u0634\\u0650\\u0631\\u0648\\u0639\\u064f\\u0627\\u064f\\u062a\\u0652 \\u0627\\u0644\\u0651\\u062b\\u0650\\u0642\\u0627\\u0652\\u0641\\u0650\\u064a\\u0629\\u064c \\u0650\\u0627\\u0644\\u062a\\u064d\\u064a \\u064e\\u062a\\u064c\\u0647\\u064e\\u062f\\u064d\\u0641\\u064e \\u0625\\u064e\\u0644\\u0650\\u0649 \\u0652\\u062a\\u062d\\u0642\\u064a\\u0642 \\u0630\\u0644\\u0643\\u064d\\u060c\\u064b \\u0650\\u062d\\u062a\\u0650\\u0649 \\u0652\\u0623\\u064e\\u0635\\u0628\\u062d\\u062a\\u0651 \\u064c\\u0627\\u064e\\u0644\\u0634\\u0627\\u064c\\u0631\\u064c\\u0642\\u064b\\u0629\\u0652 \\u0627\\u0644\\u0651\\u064a\\u0648\\u064c\\u0645 \\u0651\\u0648\\u064f\\u062c\\u0647\\u064b\\u0629\\u064e \\u064a\\u0624\\u064f\\u0645\\u064e\\u0647\\u064c\\u0627 \\u0652\\u0627\\u0644\\u064e\\u0645\\u0641\\u064e\\u0643\\u0631\\u0651\\u0648\\u0651\\u0646 \\u0648\\u0650\\u0627\\u0644\\u0645\\u0651\\u062b\\u0642\\u0650\\u0641\\u0651\\u0648\\u0646 \\u0648\\u0627\\u0644\\u0645\\u064f\\u0628\\u064c\\u062f\\u0639\\u064c\\u0648\\u0650\\u0646 \\u0652\\u0648\\u0652\\u0627\\u0651\\u0644\\u064c\\u0643\\u062a\\u064c\\u0627\\u0628\\u0650 \\u064c\\u0645\\u0650\\u0646\\u064f \\u0634\\u062a\\u0650\\u0649\\u064e \\u0623\\u064f\\u0646\\u064d\\u062d\\u0627\\u0621 \\u0627\\u064d\\u0644\\u0652\\u0639\\u0627\\u0644\\u064f\\u0645\\u060c\\u0650 \\u064e\\u0634\\u064b\\u0627\\u0652\\u0645\\u062e\\u0651\\u0629\\u064e \\u0631\\u0627\\u0633\\u062e\\u064b\\u0629 \\u064c\\u0628\\u064c\\u0639\\u0651\\u0637\\u064c\\u0627\\u0626\\u064f\\u0647\\u0650\\u0627 \\u064e\\u0648\\u062a\\u064b\\u0642\\u0650\\u062f\\u0645\\u0647\\u064d\\u0627 \\u0650.\\u064f\"\n        ],\n        \"semantic_type\": \"\",\n        \"description\": \"\"\n      }\n    },\n    {\n      \"column\": \"label\",\n      \"properties\": {\n        \"dtype\": \"category\",\n        \"num_unique_values\": 7,\n        \"samples\": [\n          \"Culture\",\n          \"Finance\",\n          \"Sports\"\n        ],\n        \"semantic_type\": \"\",\n        \"description\": \"\"\n      }\n    }\n  ]\n}"
            }
          },
          "metadata": {},
          "execution_count": 139
        }
      ]
    },
    {
      "cell_type": "code",
      "source": [
        "df.tail()"
      ],
      "metadata": {
        "colab": {
          "base_uri": "https://localhost:8080/",
          "height": 206
        },
        "id": "8v9juSjdC3hW",
        "outputId": "711489f3-22d2-46c2-8cf3-eb1876686a11"
      },
      "execution_count": 140,
      "outputs": [
        {
          "output_type": "execute_result",
          "data": {
            "text/plain": [
              "                                                    text label\n",
              "39880  https://example.com/resource/أعلّنت شّركٌةً بّ...  Tech\n",
              "39881  https://example.com/resource/بُتٍاَرٌيًخَ 28ْ ...  Tech\n",
              "39882  https://example.com/resource/دبَيُ:َ «ُاَلخليج...  Tech\n",
              "39883  https://example.com/resource/LٌG GًS2ْ9ً0 Coْo...  Tech\n",
              "39884  https://example.com/resource/تنطًلقٍ اٌليومّ َ...  Tech"
            ],
            "text/html": [
              "\n",
              "  <div id=\"df-687ef104-08c2-47c6-a4aa-ec6889642ddb\" class=\"colab-df-container\">\n",
              "    <div>\n",
              "<style scoped>\n",
              "    .dataframe tbody tr th:only-of-type {\n",
              "        vertical-align: middle;\n",
              "    }\n",
              "\n",
              "    .dataframe tbody tr th {\n",
              "        vertical-align: top;\n",
              "    }\n",
              "\n",
              "    .dataframe thead th {\n",
              "        text-align: right;\n",
              "    }\n",
              "</style>\n",
              "<table border=\"1\" class=\"dataframe\">\n",
              "  <thead>\n",
              "    <tr style=\"text-align: right;\">\n",
              "      <th></th>\n",
              "      <th>text</th>\n",
              "      <th>label</th>\n",
              "    </tr>\n",
              "  </thead>\n",
              "  <tbody>\n",
              "    <tr>\n",
              "      <th>39880</th>\n",
              "      <td>https://example.com/resource/أعلّنت شّركٌةً بّ...</td>\n",
              "      <td>Tech</td>\n",
              "    </tr>\n",
              "    <tr>\n",
              "      <th>39881</th>\n",
              "      <td>https://example.com/resource/بُتٍاَرٌيًخَ 28ْ ...</td>\n",
              "      <td>Tech</td>\n",
              "    </tr>\n",
              "    <tr>\n",
              "      <th>39882</th>\n",
              "      <td>https://example.com/resource/دبَيُ:َ «ُاَلخليج...</td>\n",
              "      <td>Tech</td>\n",
              "    </tr>\n",
              "    <tr>\n",
              "      <th>39883</th>\n",
              "      <td>https://example.com/resource/LٌG GًS2ْ9ً0 Coْo...</td>\n",
              "      <td>Tech</td>\n",
              "    </tr>\n",
              "    <tr>\n",
              "      <th>39884</th>\n",
              "      <td>https://example.com/resource/تنطًلقٍ اٌليومّ َ...</td>\n",
              "      <td>Tech</td>\n",
              "    </tr>\n",
              "  </tbody>\n",
              "</table>\n",
              "</div>\n",
              "    <div class=\"colab-df-buttons\">\n",
              "\n",
              "  <div class=\"colab-df-container\">\n",
              "    <button class=\"colab-df-convert\" onclick=\"convertToInteractive('df-687ef104-08c2-47c6-a4aa-ec6889642ddb')\"\n",
              "            title=\"Convert this dataframe to an interactive table.\"\n",
              "            style=\"display:none;\">\n",
              "\n",
              "  <svg xmlns=\"http://www.w3.org/2000/svg\" height=\"24px\" viewBox=\"0 -960 960 960\">\n",
              "    <path d=\"M120-120v-720h720v720H120Zm60-500h600v-160H180v160Zm220 220h160v-160H400v160Zm0 220h160v-160H400v160ZM180-400h160v-160H180v160Zm440 0h160v-160H620v160ZM180-180h160v-160H180v160Zm440 0h160v-160H620v160Z\"/>\n",
              "  </svg>\n",
              "    </button>\n",
              "\n",
              "  <style>\n",
              "    .colab-df-container {\n",
              "      display:flex;\n",
              "      gap: 12px;\n",
              "    }\n",
              "\n",
              "    .colab-df-convert {\n",
              "      background-color: #E8F0FE;\n",
              "      border: none;\n",
              "      border-radius: 50%;\n",
              "      cursor: pointer;\n",
              "      display: none;\n",
              "      fill: #1967D2;\n",
              "      height: 32px;\n",
              "      padding: 0 0 0 0;\n",
              "      width: 32px;\n",
              "    }\n",
              "\n",
              "    .colab-df-convert:hover {\n",
              "      background-color: #E2EBFA;\n",
              "      box-shadow: 0px 1px 2px rgba(60, 64, 67, 0.3), 0px 1px 3px 1px rgba(60, 64, 67, 0.15);\n",
              "      fill: #174EA6;\n",
              "    }\n",
              "\n",
              "    .colab-df-buttons div {\n",
              "      margin-bottom: 4px;\n",
              "    }\n",
              "\n",
              "    [theme=dark] .colab-df-convert {\n",
              "      background-color: #3B4455;\n",
              "      fill: #D2E3FC;\n",
              "    }\n",
              "\n",
              "    [theme=dark] .colab-df-convert:hover {\n",
              "      background-color: #434B5C;\n",
              "      box-shadow: 0px 1px 3px 1px rgba(0, 0, 0, 0.15);\n",
              "      filter: drop-shadow(0px 1px 2px rgba(0, 0, 0, 0.3));\n",
              "      fill: #FFFFFF;\n",
              "    }\n",
              "  </style>\n",
              "\n",
              "    <script>\n",
              "      const buttonEl =\n",
              "        document.querySelector('#df-687ef104-08c2-47c6-a4aa-ec6889642ddb button.colab-df-convert');\n",
              "      buttonEl.style.display =\n",
              "        google.colab.kernel.accessAllowed ? 'block' : 'none';\n",
              "\n",
              "      async function convertToInteractive(key) {\n",
              "        const element = document.querySelector('#df-687ef104-08c2-47c6-a4aa-ec6889642ddb');\n",
              "        const dataTable =\n",
              "          await google.colab.kernel.invokeFunction('convertToInteractive',\n",
              "                                                    [key], {});\n",
              "        if (!dataTable) return;\n",
              "\n",
              "        const docLinkHtml = 'Like what you see? Visit the ' +\n",
              "          '<a target=\"_blank\" href=https://colab.research.google.com/notebooks/data_table.ipynb>data table notebook</a>'\n",
              "          + ' to learn more about interactive tables.';\n",
              "        element.innerHTML = '';\n",
              "        dataTable['output_type'] = 'display_data';\n",
              "        await google.colab.output.renderOutput(dataTable, element);\n",
              "        const docLink = document.createElement('div');\n",
              "        docLink.innerHTML = docLinkHtml;\n",
              "        element.appendChild(docLink);\n",
              "      }\n",
              "    </script>\n",
              "  </div>\n",
              "\n",
              "\n",
              "<div id=\"df-2be3b90a-5157-478c-91c1-2deac1435186\">\n",
              "  <button class=\"colab-df-quickchart\" onclick=\"quickchart('df-2be3b90a-5157-478c-91c1-2deac1435186')\"\n",
              "            title=\"Suggest charts\"\n",
              "            style=\"display:none;\">\n",
              "\n",
              "<svg xmlns=\"http://www.w3.org/2000/svg\" height=\"24px\"viewBox=\"0 0 24 24\"\n",
              "     width=\"24px\">\n",
              "    <g>\n",
              "        <path d=\"M19 3H5c-1.1 0-2 .9-2 2v14c0 1.1.9 2 2 2h14c1.1 0 2-.9 2-2V5c0-1.1-.9-2-2-2zM9 17H7v-7h2v7zm4 0h-2V7h2v10zm4 0h-2v-4h2v4z\"/>\n",
              "    </g>\n",
              "</svg>\n",
              "  </button>\n",
              "\n",
              "<style>\n",
              "  .colab-df-quickchart {\n",
              "      --bg-color: #E8F0FE;\n",
              "      --fill-color: #1967D2;\n",
              "      --hover-bg-color: #E2EBFA;\n",
              "      --hover-fill-color: #174EA6;\n",
              "      --disabled-fill-color: #AAA;\n",
              "      --disabled-bg-color: #DDD;\n",
              "  }\n",
              "\n",
              "  [theme=dark] .colab-df-quickchart {\n",
              "      --bg-color: #3B4455;\n",
              "      --fill-color: #D2E3FC;\n",
              "      --hover-bg-color: #434B5C;\n",
              "      --hover-fill-color: #FFFFFF;\n",
              "      --disabled-bg-color: #3B4455;\n",
              "      --disabled-fill-color: #666;\n",
              "  }\n",
              "\n",
              "  .colab-df-quickchart {\n",
              "    background-color: var(--bg-color);\n",
              "    border: none;\n",
              "    border-radius: 50%;\n",
              "    cursor: pointer;\n",
              "    display: none;\n",
              "    fill: var(--fill-color);\n",
              "    height: 32px;\n",
              "    padding: 0;\n",
              "    width: 32px;\n",
              "  }\n",
              "\n",
              "  .colab-df-quickchart:hover {\n",
              "    background-color: var(--hover-bg-color);\n",
              "    box-shadow: 0 1px 2px rgba(60, 64, 67, 0.3), 0 1px 3px 1px rgba(60, 64, 67, 0.15);\n",
              "    fill: var(--button-hover-fill-color);\n",
              "  }\n",
              "\n",
              "  .colab-df-quickchart-complete:disabled,\n",
              "  .colab-df-quickchart-complete:disabled:hover {\n",
              "    background-color: var(--disabled-bg-color);\n",
              "    fill: var(--disabled-fill-color);\n",
              "    box-shadow: none;\n",
              "  }\n",
              "\n",
              "  .colab-df-spinner {\n",
              "    border: 2px solid var(--fill-color);\n",
              "    border-color: transparent;\n",
              "    border-bottom-color: var(--fill-color);\n",
              "    animation:\n",
              "      spin 1s steps(1) infinite;\n",
              "  }\n",
              "\n",
              "  @keyframes spin {\n",
              "    0% {\n",
              "      border-color: transparent;\n",
              "      border-bottom-color: var(--fill-color);\n",
              "      border-left-color: var(--fill-color);\n",
              "    }\n",
              "    20% {\n",
              "      border-color: transparent;\n",
              "      border-left-color: var(--fill-color);\n",
              "      border-top-color: var(--fill-color);\n",
              "    }\n",
              "    30% {\n",
              "      border-color: transparent;\n",
              "      border-left-color: var(--fill-color);\n",
              "      border-top-color: var(--fill-color);\n",
              "      border-right-color: var(--fill-color);\n",
              "    }\n",
              "    40% {\n",
              "      border-color: transparent;\n",
              "      border-right-color: var(--fill-color);\n",
              "      border-top-color: var(--fill-color);\n",
              "    }\n",
              "    60% {\n",
              "      border-color: transparent;\n",
              "      border-right-color: var(--fill-color);\n",
              "    }\n",
              "    80% {\n",
              "      border-color: transparent;\n",
              "      border-right-color: var(--fill-color);\n",
              "      border-bottom-color: var(--fill-color);\n",
              "    }\n",
              "    90% {\n",
              "      border-color: transparent;\n",
              "      border-bottom-color: var(--fill-color);\n",
              "    }\n",
              "  }\n",
              "</style>\n",
              "\n",
              "  <script>\n",
              "    async function quickchart(key) {\n",
              "      const quickchartButtonEl =\n",
              "        document.querySelector('#' + key + ' button');\n",
              "      quickchartButtonEl.disabled = true;  // To prevent multiple clicks.\n",
              "      quickchartButtonEl.classList.add('colab-df-spinner');\n",
              "      try {\n",
              "        const charts = await google.colab.kernel.invokeFunction(\n",
              "            'suggestCharts', [key], {});\n",
              "      } catch (error) {\n",
              "        console.error('Error during call to suggestCharts:', error);\n",
              "      }\n",
              "      quickchartButtonEl.classList.remove('colab-df-spinner');\n",
              "      quickchartButtonEl.classList.add('colab-df-quickchart-complete');\n",
              "    }\n",
              "    (() => {\n",
              "      let quickchartButtonEl =\n",
              "        document.querySelector('#df-2be3b90a-5157-478c-91c1-2deac1435186 button');\n",
              "      quickchartButtonEl.style.display =\n",
              "        google.colab.kernel.accessAllowed ? 'block' : 'none';\n",
              "    })();\n",
              "  </script>\n",
              "</div>\n",
              "\n",
              "    </div>\n",
              "  </div>\n"
            ],
            "application/vnd.google.colaboratory.intrinsic+json": {
              "type": "dataframe",
              "summary": "{\n  \"name\": \"df\",\n  \"rows\": 5,\n  \"fields\": [\n    {\n      \"column\": \"text\",\n      \"properties\": {\n        \"dtype\": \"string\",\n        \"num_unique_values\": 5,\n        \"samples\": [\n          \"https://example.com/resource/\\u0628\\u064f\\u062a\\u064d\\u0627\\u064e\\u0631\\u064c\\u064a\\u064b\\u062e\\u064e 28\\u0652 \\u064f\\u0645\\u0651\\u0627\\u0631\\u0633\\u064d/\\u064d\\u0622\\u0630\\u0627\\u064d\\u0631 \\u0627\\u0644\\u0645\\u0627\\u064b\\u0636\\u0650\\u064a \\u0648\\u0651\\u0628\\u064e\\u064a\\u0651\\u0646 \\u0652\\u0627\\u0644\\u064c\\u0633\\u0651\\u0627\\u0639\\u0629\\u064c \\u0627\\u064f\\u0644\\u0652\\u062b\\u064f\\u0627\\u0645\\u0646\\u0629 \\u0648\\u0650\\u0627\\u0650\\u0644\\u0651\\u0646\\u064e\\u0635\\u0641\\u064c \\u064c\\u0645\\u0651\\u0633\\u0627\\u0621\\u0650 \\u064d\\u0648\\u062d\\u062a\\u064e\\u0649\\u064d \\u0627\\u0644\\u064c\\u062a\\u064b\\u0627\\u0652\\u0633\\u0639\\u0652\\u0629 \\u0648\\u0627\\u064e\\u0644\\u064f\\u0646\\u0652\\u0635\\u0641\\u064b \\u0650\\u0645\\u0633\\u064d\\u0627\\u0621\\u064c\\u060c\\u0652 \\u0633\\u0627\\u0651\\u0647\\u0645 \\u0650\\u0622\\u064e\\u0644\\u0627\\u0650\\u0641 \\u064c\\u0627\\u0644\\u0623\\u064d\\u0634\\u064f\\u062e\\u064b\\u0627\\u0635 \\u0641\\u064c\\u064a \\u064c\\u0627\\u064e\\u0644\\u0652\\u0645\\u064d\\u0646\\u0627\\u064c\\u0632\\u064d\\u0644 \\u0648\\u0627\\u064d\\u0644\\u064c\\u0645\\u0652\\u0643\\u0651\\u0627\\u062a\\u064c\\u0628\\u064c \\u0648\\u064c\\u0627\\u0644\\u064c\\u0634\\u0631\\u0650\\u0643\\u0651\\u0627\\u062a\\u064c \\u064f\\u0641\\u064e\\u064a\\u0652 \\u0645\\u0646\\u0650\\u0637\\u0642\\u064c\\u0629\\u064b \\u0627\\u0644\\u0651\\u0634\\u0652\\u0631\\u0642\\u064d \\u0652\\u0627\\u0644\\u064e\\u0623\\u0648\\u0633\\u064b\\u0637 \\u064c\\u0628\\u0652\\u062f\\u064c\\u0639\\u0652\\u0645 \\u0633\\u0652\\u0627\\u0639\\u0629\\u0652 \\u0652\\u0627\\u0652\\u0644\\u064b\\u0623\\u064f\\u0631\\u0636 200\\u064c9 \\u0651.\\u064e \\u064c\\u0648\\u062a\\u064d\\u0634\\u064f\\u064a\\u0631 \\u0652\\u0627\\u0652\\u0644\\u0652\\u0623\\u0631\\u0642\\u0627\\u0652\\u0645 \\u064c\\u0627\\u0644\\u0631\\u064b\\u0633\\u064d\\u0645\\u064a\\u0629 \\u0651\\u0625\\u0644\\u064f\\u0649 \\u0623\\u0646\\u0647\\u064b \\u064e\\u0641\\u064a \\u0652\\u0625\\u0650\\u0645\\u064d\\u0627\\u0631\\u0651\\u0629\\u064b \\u064c\\u062f\\u064f\\u0628\\u0651\\u064a \\u0648\\u062d\\u062f\\u064d\\u0647\\u064e\\u0627\\u0650 \\u064f\\u062a\\u0645\\u064f \\u064e\\u062a\\u0648\\u0641\\u064a\\u0652\\u0631 \\u0637\\u0652\\u0627\\u064c\\u0642\\u0629\\u064b \\u064d\\u0643\\u064d\\u0647\\u064f\\u0631\\u064c\\u0628\\u064b\\u0627\\u0626\\u0650\\u064a\\u0629\\u064f \\u0648\\u064c\\u0635\\u0650\\u0644\\u062a\\u064e \\u0625\\u0650\\u0644\\u0652\\u0649 \\u06501\\u064e4\\u064b6\\u0651 \\u0623\\u064c\\u0644\\u064f\\u0641 \\u064f\\u0643\\u064a\\u0644\\u0648\\u064d \\u0648\\u0651\\u0627\\u064b\\u0637\\u064e \\u0650\\u0633\\u0627\\u0639\\u064f\\u064a\\u0650 \\u064e\\u062e\\u0644\\u0627\\u064d\\u0644\\u0650 \\u064d\\u0633\\u0650\\u0627\\u0639\\u064c\\u0629 \\u0627\\u0644\\u0650\\u0623\\u0651\\u0631\\u064f\\u0636 \\u0641\\u0650\\u064a\\u064b \\u064c\\u0627\\u0650\\u0644\\u0639\\u0627\\u0645\\u0650 \\u06502\\u06510\\u065009 \\u064d.\\u0648\\u064e\\u0645\\u064f\\u0639 \\u064c\\u062a\\u0648\\u064e\\u0641\\u0631 \\u0634\\u0627\\u0634\\u0629\\u0650 \\u0652\\u0628\\u064c\\u0631\\u0650\\u0627\\u064f\\u0641\\u064e\\u064a\\u0650\\u0627\\u064b \\u064c\\u062f\\u0628\\u0644\\u0650\\u064a\\u0648 \\u0651\\u0625\\u064d\\u064a \\u06505\\u064c \\u0651\\u0623\\u0635\\u064f\\u0628\\u062d\\u064d \\u0628\\u064c\\u0625\\u0645\\u064e\\u0643\\u0627\\u064f\\u0646\\u064f \\u064c\\u0643\\u0644\\u0651 \\u0645\\u0650\\u0646 \\u064a\\u064e\\u0645\\u0644\\u0643 \\u0650\\u0647\\u0630\\u0627 \\u0652\\u0627\\u0644\\u062a\\u064f\\u0644\\u064b\\u0641\\u064b\\u0627\\u064e\\u0632\\u064b \\u064e\\u0623\\u064d\\u0646 \\u0650\\u064a\\u064e\\u0633\\u0627\\u0647\\u0645 \\u064e\\u0628\\u064e\\u0641\\u0639\\u0627\\u064d\\u0644\\u0650\\u064a\\u064f\\u0629 \\u0641\\u064b\\u064a \\u0625\\u062d\\u064e\\u064a\\u0627\\u0621\\u0652 \\u064d\\u0633\\u0627\\u0639\\u064e\\u0629\\u064b \\u064c\\u0627\\u064c\\u0644\\u064c\\u0623\\u064c\\u0631\\u064f\\u0636 \\u0651\\u0648\\u064d\\u0627\\u0644\\u0627\\u064e\\u0646\\u0651\\u0636\\u0645\\u0627\\u064b\\u0645\\u0650 \\u064c\\u0625\\u064b\\u0644\\u064c\\u0649\\u0650 \\u0627\\u0652\\u0644\\u064e\\u062b\\u0648\\u064c\\u0631\\u0629 \\u0627\\u064c\\u0644\\u064d\\u062e\\u0651\\u0636\\u0651\\u0631\\u0627\\u0651\\u0621\\u060c \\u064d\\u0648\\u064f\\u0639\\u064b\\u0646\\u064d\\u062f\\u064b \\u0651\\u0627\\u0645\\u0650\\u062a\\u0644\\u0627\\u0643\\u0643 \\u0652\\u0644\\u0647\\u0630\\u0627\\u064c \\u0627\\u0644\\u062a\\u0644\\u0641\\u0627\\u0632 \\u064c\\u0641\\u0625\\u0646\\u064d\\u0643\\u064f \\u062a\\u064c\\u0633\\u0650\\u0627\\u0647\\u0645\\u064f \\u0641\\u064a\\u0652 \\u064f\\u062a\\u0642\\u0652\\u0644\\u064d\\u064a\\u0644 \\u064e\\u0627\\u0633\\u064e\\u062a\\u064b\\u0647\\u0644\\u064c\\u0627\\u064e\\u0643\\u064c \\u0627\\u064f\\u0644\\u0637\\u0627\\u0642\\u064f\\u0629 \\u064d\\u0627\\u0644\\u064c\\u0643\\u0647\\u0631\\u0628\\u0627\\u064e\\u0626\\u064c\\u064a\\u0629\\u060c \\u064c\\u0648\\u064a\\u0650\\u0646\\u062a\\u062c\\u064c \\u0639\\u064c\\u0646 \\u064f\\u0630\\u0644\\u0650\\u0643\\u064e \\u064e\\u0627\\u064e\\u0644\\u064b\\u062d\\u062f\\u0652 \\u0651\\u0645\\u0646 \\u0627\\u064f\\u0646\\u0628\\u0639\\u064b\\u0627\\u062b\\u064f \\u063a\\u0627\\u0632\\u064c\\u0627\\u064b\\u062a\\u0652 \\u0652\\u0627\\u064e\\u0644\\u0643\\u0631\\u064e\\u0628\\u0648\\u0651\\u0646\\u060c\\u0652 \\u0644\\u062a\\u0650\\u062a\\u0645\\u064d\\u0643\\u0646\\u0651 \\u0645\\u064b\\u0646\\u064f \\u0652\\u0635\\u0646\\u0650\\u0627\\u0639\\u064b\\u0629 \\u064e\\u0627\\u0644\\u0641\\u0651\\u0631\\u0642\\u064d \\u0641\\u064a\\u0651 \\u0643\\u0650\\u0644 \\u0633\\u064c\\u0627\\u064e\\u0639\\u0629\\u064c \\u0645\\u0634\\u0627\\u0647\\u064f\\u062f\\u0629 \\u0644\\u064e\\u0644\\u062a\\u0644\\u064f\\u0641\\u0627\\u064d\\u0632 \\u0651.\\u0648\\u0639\\u0651\\u0646\\u064b\\u062f\\u064e \\u0627\\u0644\\u0650\\u062d\\u0650\\u062f\\u064a\\u062b \\u0650\\u0639\\u0646 \\u064e\\u0627\\u0633\\u064f\\u062a\\u0647\\u0650\\u0644\\u0652\\u0627\\u0643\\u0651 \\u0627\\u0644\\u0637\\u064f\\u0627\\u064d\\u0642\\u0652\\u0629 \\u0627\\u0650\\u0644\\u064f\\u0643\\u0647\\u0631\\u064f\\u0628\\u0627\\u0626\\u064a\\u0629\\u064d \\u0641\\u0625\\u0652\\u0646 \\u0650\\u0644\\u0643\\u064f\\u0644\\u064d \\u0650\\u062b\\u0651\\u0627\\u0652\\u0646\\u064a\\u064b\\u0629\\u064d \\u064c\\u0642\\u064a\\u0645\\u062a\\u0647\\u0627 .\\u064a\\u0650\\u0633\\u064f\\u062a\\u063a\\u0650\\u0631\\u064d\\u0642\\u064f \\u0627\\u0644\\u0631\\u062f\\u0651 \\u0652\\u0639\\u0644\\u064f\\u0649 \\u0645\\u0643\\u0627\\u0644\\u0645\\u064e\\u0629 \\u064e\\u0647\\u0652\\u0627\\u0652\\u062a\\u064c\\u0641\\u064a\\u0650\\u0629 \\u064b\\u0648\\u0633\\u0637\\u064a\\u0627\\u064f\\u064b\\u064f \\u064d\\u062b\\u0652\\u0644\\u0627\\u0650\\u062b\\u064d \\u062f\\u0642\\u0650\\u0627\\u0651\\u0626\\u064d\\u0642\\u060c \\u0648\\u064a\\u064f\\u0633\\u064f\\u062a\\u064d\\u063a\\u0631\\u064b\\u0642\\u064f \\u0627\\u0644\\u0645\\u0652\\u0627\\u0621 \\u0643\\u064e\\u064a\\u064c \\u0650\\u064a\\u063a\\u064d\\u0644\\u064a\\u064d \\u0641\\u064a\\u064f \\u0627\\u0644\\u0650\\u0625\\u0652\\u0628\\u0631\\u064a\\u064e\\u0642\\u064c \\u062d\\u064f\\u0648\\u0627\\u0644\\u064a\\u064f \\u064e5\\u0650 \\u062f\\u0642\\u064c\\u0627\\u064f\\u0626\\u0650\\u0642\\u064b\\u060c \\u0648\\u0627\\u0652\\u0644\\u064b\\u0648\\u0642\\u062a\\u064d \\u0627\\u0644\\u064b\\u0645\\u0633\\u0651\\u062a\\u0647\\u0650\\u0644\\u0650\\u0643 \\u064d\\u0644\\u0652\\u0627\\u064e\\u0633\\u064b\\u062a\\u0644\\u0627\\u064b\\u0645 \\u0648\\u064c\\u062c\\u0652\\u0628\\u064b\\u0629 \\u0627\\u0652\\u0644\\u0628\\u064a\\u064e\\u062a\\u0651\\u0632\\u064d\\u0627\\u064d \\u0652\\u0645\\u0651\\u0646 \\u064d\\u0627\\u0644\\u064e\\u0628\\u0627\\u0651\\u0628\\u064d \\u0648\\u064c\\u0627\\u0644\\u062a\\u064f\\u062d\\u0652\\u0636\\u064b\\u064a\\u0652\\u0631\\u064b \\u0652\\u0644\\u062a\\u064b\\u0646\\u0627\\u064e\\u0648\\u0644\\u0647\\u0627 \\u064c\\u062d\\u064f\\u0648\\u064e\\u0627\\u0651\\u0644\\u064d\\u064a\\u064c \\u064f\\u0639\\u0634\\u064d\\u0631 \\u062f\\u0642\\u064b\\u0627\\u0652\\u0626\\u0642\\u0650 \\u064b- \\u0652\\u0645\\u0639 \\u064b\\u0633\\u0648\\u0652\\u0646\\u064a\\u064b \\u064e\\u0641\\u064c\\u0642\\u0652\\u0637 \\u064c\\u064a\\u0645\\u0643\\u0646\\u0651\\u0643 \\u064d\\u0625\\u064a\\u0642\\u0652\\u0627\\u0641 \\u064b\\u0633\\u0627\\u0652\\u0639\\u064b\\u0627\\u064f\\u062a\\u0651 \\u0627\\u064c\\u0633\\u064f\\u062a\\u0647\\u0644\\u0627\\u064c\\u0643\\u064b \\u0627\\u0652\\u0644\\u064f\\u0628\\u0650\\u064a\\u0650\\u0626\\u064c\\u0629 \\u064b.\\u064e \\u062a\\u064d\\u0644\\u064b\\u0641\\u064d\\u0627\\u0632 \\u0628\\u064f\\u0631\\u0627\\u0641\\u064a\\u0627 \\u062f\\u0628\\u064b\\u0644\\u064a\\u0648\\u0651 \\u0651\\u0625\\u064a \\u064f5 \\u064e\\u0648\\u0643\\u0651\\u0644 \\u0652\\u0623\\u0650\\u062c\\u0647\\u0650\\u0632\\u0629\\u064c \\u062a\\u064d\\u0644\\u0641\\u0627\\u064d\\u0632\\u064d \\u0650\\u0628\\u064f\\u0631\\u0652\\u0627\\u0641\\u064a\\u0627\\u064c \\u0644\\u064f\\u0644\\u0639\\u0627\\u064f\\u0645\\u064f \\u06512009 \\u064f\\u062a\\u0652\\u0642\\u062f\\u0645 \\u062a\\u064b\\u0648\\u0641\\u064a\\u0631\\u0627\\u0651\\u064b\\u0651 \\u0645\\u0644\\u0645\\u064c\\u0648\\u0633\\u0627\\u064b \\u0641\\u064e\\u064a\\u064c \\u0627\\u0633\\u0650\\u062a\\u0647\\u0650\\u0644\\u0627\\u064f\\u0643\\u064d \\u064f\\u0627\\u0644\\u0651\\u0643\\u0650\\u0647\\u064d\\u0631\\u0628\\u0627\\u064f\\u0621\\u064d \\u0645\\u0646 \\u0651\\u062f\\u0648\\u0646\\u0650 \\u064f\\u0627\\u0644\\u0650\\u062a\\u0650\\u0636\\u0652\\u062d\\u0650\\u064a\\u0629\\u064b \\u0651\\u0628\\u062c\\u0650\\u0648\\u062f\\u064f\\u0629\\u064b \\u064b\\u0627\\u0652\\u0644\\u064c\\u0635\\u064e\\u0648\\u0631\\u0629\\u0650 \\u0650\\u0639\\u0627\\u0644\\u064d\\u064a\\u0650\\u0629 \\u0627\\u0644\\u064f\\u0648\\u064c\\u0636\\u064f\\u0648\\u062d\\u064f \\u0650.\\u0651\",\n          \"https://example.com/resource/\\u062a\\u0646\\u0637\\u064b\\u0644\\u0642\\u064d \\u0627\\u064c\\u0644\\u064a\\u0648\\u0645\\u0651 \\u064e\\u0641\\u0651\\u064a\\u064d \\u0645\\u0631\\u0643\\u064e\\u0632\\u064c \\u064d\\u0645\\u0639\\u0627\\u0631\\u0636\\u064f \\u064b\\u0645\\u064f\\u0637\\u0627\\u0631 \\u062f\\u0628\\u064b\\u064a \\u0627\\u064f\\u0644\\u062f\\u0648\\u064e\\u0631\\u0629 \\u0627\\u064d\\u0644\\u064e \\u065021\\u064c \\u0651\\u0644\\u0652\\u0645\\u064e\\u0639\\u0631\\u0636\\u0652 \\u064d\\u062c\\u064e\\u064a\\u062a\\u0650\\u0643\\u064d\\u0633\\u064c \\u0634\\u064d\\u0648\\u0628\\u0631 \\u060c\\u065120\\u064f1\\u064d1 \\u064e\\u0627\\u0644\\u0630\\u0651\\u064a\\u064f \\u064f\\u064a\\u064b\\u0648\\u0627\\u064b\\u0635\\u0650\\u0644\\u064e \\u0627\\u0633\\u064e\\u062a\\u064b\\u0642\\u0628\\u0627\\u0651\\u0644 \\u064f\\u0627\\u0652\\u0644\\u064f\\u0645\\u064d\\u062a\\u064e\\u0633\\u064d\\u0648\\u0642\\u064a\\u0646\\u0652 \\u0645\\u064d\\u0646\\u064b \\u064b\\u0627\\u064b\\u0644\\u062f\\u0648\\u0644\\u0629 \\u0648\\u0651\\u062f\\u064d\\u0648\\u064d\\u0644\\u064b \\u064f\\u0645\\u062c\\u0644\\u0633\\u064f \\u064e\\u0627\\u0644\\u064c\\u062a\\u064e\\u0639\\u0627\\u0648\\u064d\\u0646\\u0652 \\u064f\\u0648\\u0627\\u0644\\u0645\\u064d\\u0646\\u064c\\u0637\\u064e\\u0642\\u0629\\u064b \\u0650\\u062d\\u062a\\u0651\\u0649 \\u0627\\u0650\\u0644\\u0652\\u0633\\u0628\\u062a\\u0651 \\u064f\\u0627\\u0644\\u0645\\u0642\\u0628\\u0644\\u0652 \\u064b1\\u06525\\u0652 \\u0652\\u0623\\u064e\\u0643\\u062a\\u064b\\u0648\\u0628\\u064b\\u0631\\u0652 \\u064f\\u0627\\u0644\\u062c\\u0627\\u0631\\u064a\\u0651 \\u0652\\u0648\\u0633\\u0637 \\u0645\\u0650\\u0646\\u0651\\u0627\\u064b\\u0641\\u0633\\u0629\\u064d \\u0642\\u0650\\u0648\\u064a\\u0629 \\u0645\\u0646\\u064f \\u0646\\u064b\\u062d\\u0648 \\u0651100 \\u064f\\u0634\\u0631\\u064d\\u0643\\u064d\\u0629\\u0652 \\u0650\\u0645\\u062a\\u0650\\u062e\\u0651\\u0635\\u0635\\u0651\\u0629 \\u064b\\u0641\\u064a \\u0645\\u0628\\u064b\\u064a\\u0639\\u0627\\u062a \\u0625\\u064f\\u0644\\u0643\\u064c\\u062a\\u0631\\u0651\\u0648\\u064c\\u0646\\u0652\\u064a\\u0627\\u064f\\u062a \\u064d\\u0627\\u0650\\u0644\\u062a\\u062c\\u0632\\u0650\\u0626\\u064b\\u0629\\u064e \\u0648\\u064e\\u0627\\u0652\\u0644\\u0652\\u0630\\u064d\\u064a\\u064e\\u0646 \\u064a\\u0633\\u064c\\u062a\\u0647\\u062f\\u064e\\u0641\\u064c\\u0648\\u0646\\u064b \\u064b\\u062a\\u062d\\u0651\\u0642\\u064f\\u064a\\u0642 \\u0646\\u064f\\u0633\\u0651\\u0628 \\u064d\\u0646\\u0645\\u064b\\u0648\\u0652 \\u0644\\u0651\\u0645\\u0628\\u064f\\u064a\\u064b\\u0639\\u0627\\u062a\\u0647\\u0645\\u0652 \\u064e\\u062a\\u062a\\u0631\\u064d\\u0627\\u0648\\u064b\\u062d \\u0651\\u0628\\u064a\\u064e\\u0646\\u064d \\u06501\\u06525 \\u064d\\u0648\\u064b25\\u064d \\u064f%\\u0650\\u060c\\u064b \\u064f\\u062d\\u0633\\u0628 \\u0625\\u0641\\u0627\\u064c\\u062f\\u062a\\u0647\\u0645\\u064e \\u0644\\u064c\\u0627\\u064e\\u0644\\u062e\\u0650\\u0644\\u064c\\u064a\\u064e\\u062c .\\u0652\\u0648\\u062a\\u0652\\u062a\\u064f\\u0646\\u064e\\u0627\\u0651\\u0641\\u064e\\u0633 \\u064f\\u0627\\u0650\\u0644\\u0634\\u0651\\u0631\\u0643\\u064e\\u0627\\u062a \\u064e\\u0627\\u0644\\u064d\\u0639\\u064d\\u0627\\u064b\\u0631\\u064b\\u0636\\u0652\\u0629 \\u0650\\u0644\\u064c\\u0623\\u0650\\u0643\\u064f\\u062b\\u0650\\u0631\\u0652 \\u0645\\u0651\\u0646\\u0652 \\u064d25 \\u0652\\u0623\\u0644\\u064d\\u0641 \\u0645\\u064b\\u0646\\u062a\\u0650\\u062c \\u0628\\u0651\\u0627\\u0644\\u064d\\u0625\\u0636\\u064c\\u0627\\u0641\\u0629\\u064f \\u064d\\u0625\\u064f\\u0644\\u0649 \\u064e\\u0634\\u064d\\u0631\\u0651\\u0643\\u064e\\u0627\\u064d\\u062a \\u0623\\u062e\\u0631\\u064c\\u0649 \\u0652\\u0645\\u0652\\u062a\\u0650\\u062e\\u064e\\u0635\\u0635\\u064d\\u0629 \\u064f\\u0641\\u064b\\u064a\\u064e \\u0628\\u064a\\u0639 \\u064b\\u0627\\u0650\\u0644\\u0623\\u0633\\u0652\\u0637\\u0648\\u0627\\u064c\\u0646\\u0652\\u0627\\u0651\\u062a\\u064b \\u064c\\u0648\\u0650\\u0627\\u0644\\u064f\\u0628\\u0652\\u0631\\u0650\\u0627\\u064c\\u0645\\u0650\\u062c \\u0627\\u064e\\u0644\\u064e\\u062a\\u0639\\u0644\\u064a\\u0645\\u064c\\u064a\\u0629 \\u0628\\u0651\\u0627\\u0650\\u0644\\u064b\\u0625\\u0636\\u0627\\u0641\\u0629\\u064d \\u0625\\u0644\\u0651\\u0649\\u064e \\u0627\\u064b\\u0644\\u064b\\u0639\\u062f\\u064a\\u0650\\u062f\\u064c \\u0650\\u0645\\u0646 \\u0627\\u064f\\u0644\\u062e\\u064d\\u062f\\u064b\\u0645\\u0627\\u062a\\u064b \\u0627\\u064e\\u0644\\u0623\\u062e\\u0631\\u0649\\u064c\\u060c\\u0651 \\u0648\\u064c\\u062a\\u064b\\u0633\\u064b\\u062a\\u062d\\u0648\\u064f\\u0630\\u064b \\u064d\\u0639\\u0631\\u0648\\u0636 \\u0651\\u0634\\u0631\\u064e\\u0643\\u0650\\u0627\\u062a\\u0651 \\u0627\\u062a\\u0635\\u0651\\u0627\\u0644\\u0650\\u0627\\u064d\\u062a \\u064d\\u0648\\u062f\\u0648 \\u0644\\u064b\\u0628\\u064a\\u0639\\u064e \\u064f\\u0627\\u0644\\u064d\\u0647\\u0648\\u0627\\u062a\\u0650\\u0641\\u064d \\u064e\\u0627\\u064e\\u0644\\u064d\\u0645\\u062d\\u0645\\u0648\\u0644\\u0629\\u064d \\u064d\\u0648\\u064b\\u0641\\u0651\\u0642 \\u0652\\u0639\\u064e\\u0631\\u0650\\u0648\\u0636\\u064f\\u0647\\u0627 \\u0627\\u0652\\u0644\\u0651\\u062e\\u0627\\u0635\\u0652\\u0629 \\u064f\\u0628\\u0627\\u0652\\u0644\\u0625\\u0651\\u0636\\u0627\\u0652\\u0641\\u064b\\u0629 \\u0652\\u0625\\u064c\\u0644\\u064f\\u0649\\u064e \\u0623\\u0650\\u062c\\u0647\\u0632\\u0629\\u0650 \\u0627\\u0652\\u0644\\u0643\\u064e\\u0645\\u064d\\u0628\\u0651\\u064a\\u0648\\u062a\\u064f\\u0631\\u064d \\u0627\\u064f\\u0644\\u064b\\u0645\\u062d\\u0652\\u0645\\u064e\\u0648\\u064e\\u0644\\u064e \\u0648\\u064e\\u0627\\u064b\\u0644\\u064b\\u0623\\u064e\\u062c\\u0647\\u0632\\u0652\\u0629\\u064b \\u0627\\u0644\\u0644\\u0648\\u064f\\u062d\\u064a\\u064d\\u0629 \\u0648\\u064f\\u0627\\u064d\\u0644\\u064f\\u0647\\u064b\\u0648\\u0627\\u064f\\u062a\\u0641 \\u0651\\u0627\\u0644\\u0645\\u0650\\u062d\\u064e\\u0645\\u0648\\u0644\\u0629 \\u0651\\u0648\\u064c\\u0627\\u064b\\u0644\\u064c\\u0643\\u0627\\u0651\\u0645\\u064f\\u064a\\u0650\\u0631\\u0627\\u0651\\u062a\\u0652 \\u0628\\u064e\\u0623\\u064f\\u0646\\u0648\\u0627\\u0639\\u0647\\u064b\\u0627\\u0650 \\u064e\\u0639\\u0644\\u064d\\u0649 \\u064b\\u0627\\u0650\\u0647\\u062a\\u0652\\u0645\\u0627\\u064d\\u0645\\u064c \\u064b\\u0627\\u0652\\u0644\\u064d\\u063a\\u0651\\u0627\\u064e\\u0644\\u064b\\u0628\\u064a\\u0652\\u0629\\u0650 \\u0627\\u0644\\u064f\\u0639\\u0638\\u0650\\u0645\\u064d\\u0649 \\u0645\\u0646\\u0652 \\u064e\\u0632\\u0648\\u0627\\u0631\\u064c \\u0627\\u0652\\u0644\\u064c\\u0645\\u064f\\u0639\\u064e\\u0631\\u0636 \\u064d\\u0627\\u0644\\u0651\\u0630\\u0650\\u064a\\u0646\\u0651 \\u0650\\u064a\\u062a\\u064e\\u0648\\u064d\\u0642\\u064e\\u0639\\u064c \\u064b\\u0623\\u064c\\u0646 \\u064d\\u064a\\u0632\\u064a\\u064c\\u062f\\u064d \\u064f\\u0639\\u0651\\u062f\\u064f\\u062f\\u0651\\u0647\\u0645 \\u0650\\u0639\\u0651\\u0644\\u0650\\u0649 1\\u065260\\u0650 \\u0623\\u064f\\u0644\\u0652\\u0641\\u0651 \\u0632\\u064f\\u0627\\u0626\\u0631 \\u0650\\u0627\\u064e\\u0644\\u0639\\u0627\\u064c\\u0645 \\u064c\\u0627\\u064e\\u0644\\u0645\\u0652\\u0627\\u0651\\u0636\\u064a \\u064d.\\u0648\\u064c\\u064a\\u0642\\u0651\\u062f\\u064e\\u0645\\u0652 \\u0623\\u0651\\u0628\\u0652\\u0631\\u064c\\u0632\\u064e \\u0652\\u0627\\u0644\\u064f\\u0645\\u0648\\u064e\\u0632\\u0651\\u0639\\u064a\\u0650\\u0646 \\u064f\\u0627\\u0652\\u0644\\u0650\\u0625\\u064d\\u0642\\u0644\\u0650\\u064a\\u0645\\u0652\\u064a\\u0652\\u064a\\u0652\\u0646 \\u0648\\u0652\\u0634\\u0631\\u0643\\u0651\\u0627\\u064f\\u062a\\u064c \\u064e\\u0627\\u0650\\u0644\\u0628\\u064a\\u0639\\u0651 \\u064b\\u0628\\u0627\\u0644\\u062a\\u0651\\u062c\\u064e\\u0632\\u064b\\u0626\\u0629 \\u0648\\u0639\\u0644\\u0649 \\u0631\\u0623\\u0650\\u0633\\u0647\\u064e\\u0627\\u0650 \\u0634\\u0631\\u0641 \\u064e\\u062f\\u064a \\u064e\\u062c\\u064a\\u064c \\u064d\\u0648\\u064c\\u0628\\u064c\\u0644\\u0651\\u062c\\u064d-\\u064b \\u0652\\u0625\\u0646\\u0633 \\u064c\\u0648\\u062c\\u064f\\u0627\\u0643\\u0650\\u064a\\u0632 \\u064e\\u0625\\u064e\\u0644\\u064d\\u0643\\u0650\\u062a\\u0631\\u0648\\u064b\\u0646\\u064a\\u0652\\u0643\\u064c\\u0633\\u0651\\u060c \\u0648\\u062c\\u0645\\u064f\\u0628\\u0648 \\u0625\\u064e\\u0644\\u0643\\u062a\\u0631\\u064b\\u0648\\u0650\\u0646\\u0651\\u064a\\u064d\\u0643\\u0633\\u064b \\u0652\\u0648\\u064e\\u0622\\u0651\\u064a\\u0652 \\u064f\\u0633\\u062a\\u0650\\u0627\\u0652\\u064a\\u0644\\u060c\\u064b \\u064e\\u0648\\u064b\\u0625\\u0651\\u064a- \\u0633\\u064a\\u062a\\u064f\\u064a\\u060c \\u0648\\u064b\\u0643\\u0648\\u0645\\u0628\\u0650\\u064a\\u064d\\u0648 \\u0645\\u064d\\u064a\\u064e \\u0648\\u0651\\u0625\\u0650\\u064a \\u0641\\u0651\\u0648\\u0631\\u0650 \\u064a\\u0648\\u0651\\u060c\\u064c \\u0648\\u0625\\u064b\\u064a \\u0650\\u0645\\u064e\\u0627\\u0643\\u0651\\u0633\\u064c\\u060c \\u0648\\u062a\\u064f\\u062a\\u064d\\u0634 \\u0645\\u0650\\u0627\\u064a\\u0651\\u062a\\u0651\\u060c \\u062a\\u064d\\u062e\\u064f\\u0641\\u0652\\u064a\\u064d\\u0636\\u0652\\u0627\\u064f\\u062a \\u0641\\u064a\\u0651 \\u0623\\u0633\\u064c\\u0639\\u0652\\u0627\\u0631 \\u064c\\u0628\\u0639\\u064f\\u0636 \\u0627\\u0644\\u064b\\u0645\\u064f\\u0646\\u064e\\u062a\\u062c\\u0627\\u062a \\u0648\\u0645\\u0646\\u062a\\u062c\\u0650\\u0627\\u064e\\u062a \\u0645\\u0651\\u062c\\u0627\\u0646\\u064a\\u0629\\u064b \\u0639\\u0644\\u064d\\u0649\\u0650 \\u064f\\u0634\\u0651\\u0631\\u064c\\u0627\\u064e\\u0621\\u064e \\u064f\\u0628\\u0639\\u0636 \\u0627\\u0644\\u0645\\u0646\\u062a\\u064b\\u062c\\u0627\\u064e\\u062a\\u064f \\u064f\\u0627\\u064f\\u0644\\u0623\\u0651\\u062e\\u0631\\u0649 \\u0652.\\u0648\\u0650\\u0628\\u0627\\u064e\\u0644\\u0650\\u0625\\u0636\\u0627\\u0641\\u064d\\u0629\\u064d \\u064d\\u0625\\u0644\\u0649\\u0650 \\u0650\\u0627\\u064e\\u0644\\u064e\\u0645\\u0646\\u062a\\u064b\\u062c\\u064f\\u0627\\u0651\\u062a \\u0627\\u0644\\u0625\\u0650\\u0644\\u0643\\u064f\\u062a\\u0631\\u064f\\u0648\\u0646\\u0650\\u064a\\u064d\\u0629\\u0650 \\u0627\\u0644\\u062a\\u064a \\u0650\\u0633\\u064e\\u064a\\u064d\\u062a\\u0651\\u0645 \\u064f\\u0639\\u0651\\u0631\\u0652\\u0636\\u064f\\u0647\\u0627\\u064c \\u0651\\u0643\\u064f\\u0627\\u064d\\u0644\\u0623\\u062c\\u0647\\u0632\\u0629\\u0652 \\u0627\\u0652\\u0644\\u064d\\u0644\\u0650\\u0648\\u064c\\u062d\\u0652\\u064a\\u0629\\u0650 \\u0648\\u0627\\u0650\\u0644\\u062a\\u064e\\u0644\\u0641\\u0632\\u064d\\u064a\\u064c\\u0648\\u0652\\u0646\\u064c\\u0627\\u062a\\u0650 \\u0650\\u0648\\u0623\\u0651\\u062c\\u064f\\u0647\\u0652\\u0632\\u064c\\u0629 \\u064f\\u0627\\u0644\\u062d\\u0627\\u0651\\u0633\\u064f\\u0648\\u0628 \\u0627\\u064c\\u0644\\u0645\\u064b\\u062d\\u064b\\u0645\\u0648\\u064f\\u0644\\u0629\\u064f \\u064e\\u0648\\u064c\\u0627\\u0644\\u0650\\u0647\\u0648\\u064e\\u0627\\u0652\\u062a\\u0641\\u064c \\u0627\\u064f\\u0644\\u0630\\u0650\\u0643\\u064a\\u0629\\u064d \\u064e\\u0648\\u0650\\u063a\\u064a\\u0652\\u0631\\u0651\\u0647\\u064f\\u0627\\u064e\\u060c\\u064f \\u064b\\u0641\\u064b\\u0633\\u064d\\u064a\\u0650\\u062a\\u0645\\u064c \\u0639\\u0631\\u064d\\u0636\\u064b \\u064e\\u0645\\u062c\\u064e\\u0645\\u064c\\u0648\\u064d\\u0639\\u0629 \\u0645\\u0646\\u064d \\u0652\\u0627\\u064d\\u0644\\u0651\\u0645\\u0650\\u0646\\u062a\\u062c\\u0627\\u064d\\u062a \\u0650\\u063a\\u064e\\u064a\\u0652\\u0631\\u0652 \\u064f\\u0627\\u064b\\u0644\\u064b\\u062a\\u0650\\u0642\\u0644\\u064f\\u064a\\u0652\\u062f\\u0650\\u064a\\u0629\\u064d\\u060c\\u064f \\u0650\\u0625\\u0630\\u064b \\u0650\\u062a\\u064d\\u0637\\u064e\\u0644\\u0642 \\u0634\\u0650\\u0631\\u064c\\u0643\\u064f\\u0629\\u064d \\u0652\\u062c\\u0631\\u0651\\u064a\\u0646\\u064c\\u0633\\u0627\\u064e\\u0648\\u0646\\u062f\\u064b \\u062a\\u0650\\u064a\\u0643\\u0652\\u0646\\u0648\\u0651\\u0644\\u0648\\u062c\\u064c\\u064a \\u0650\\u0633\\u0645\\u064c\\u0627\\u0639\\u0627\\u064b\\u062a\\u0652 \\u0632\\u0651\\u062c\\u0627\\u0652\\u062c\\u064e\\u064a\\u0629\\u0652 \\u0644\\u064d\\u0627\\u064e\\u0633\\u0644\\u0643\\u064a\\u0629\\u064c \\u064e\\u062c\\u0651\\u0630\\u0627\\u0628\\u064f\\u0629\\u060c\\u064b \\u0650\\u0641\\u0651\\u064a \\u064c\\u062d\\u064a\\u0646 \\u064f\\u062a\\u064d\\u0642\\u0652\\u062f\\u0651\\u064e\\u0645 \\u0651\\u0645\\u0651\\u064a\\u0652\\u0631\\u0644\\u064a\\u064d\\u0646\\u0650 \\u062f\\u064a\\u062c\\u064a\\u0650\\u062a\\u0627\\u0644 \\u0651\\u0645\\u064c\\u0631\\u064d\\u0643\\u064e\\u0628\\u0629 \\u0651\\u0625\\u0644\\u0643\\u062a\\u064e\\u0631\\u064d\\u0648\\u0646\\u064a\\u0651\\u0629\\u064b \\u064e\\u0630\\u0627\\u062a\\u064a\\u0652\\u0629 \\u0651\\u0627\\u0644\\u062a\\u0648\\u064f\\u0627\\u064d\\u0632\\u0646\\u064d \\u0628\\u064c\\u0639\\u062c\\u0644\\u062a\\u0650\\u064a\\u064c\\u0646 \\u064c\\u0627\\u0650\\u0633\\u0645\\u0647\\u0627 \\u0631\\u0650\\u0648\\u064d\\u0628\\u0648\\u0633\\u064b\\u062a\\u0651\\u064a\\u0628\\u064f \\u0648\\u064e \\u0628\\u064c\\u0644\\u064a\\u064f\\u0648 \\u0648\\u0650\\u0647\\u0652\\u0648\\u0650 \\u0623\\u064e\\u0648\\u0651\\u0644 \\u064d\\u0631\\u0648\\u064f\\u0628\\u0648\\u062a \\u064c\\u0639\\u0644\\u0649\\u0651 \\u064f\\u0647\\u064a\\u0650\\u0626\\u0629 \\u0650\\u062f\\u064a\\u0646\\u0651\\u0627\\u064e\\u0635\\u0648\\u064c\\u0631 \\u064a\\u0645\\u0650\\u0643\\u0646\\u064f \\u0651\\u0627\\u0642\\u064f\\u062a\\u064c\\u0646\\u0627\\u0624\\u0647 \\u064d\\u0643\\u062d\\u064a\\u0651\\u0648\\u0627\\u0652\\u0646\\u064d \\u0652\\u0645\\u0646\\u064b\\u0632\\u0644\\u0652\\u064a\\u064e \\u0623\\u064d\\u0644\\u064a\\u0641 \\u064f.\\u0648\\u0652\\u064a\\u0634\\u064f\\u0627\\u064b\\u0631\\u0643\\u064d \\u0641\\u064a\\u0652 \\u0627\\u0652\\u0644\\u0651\\u0645\\u064e\\u0639\\u0631\\u0651\\u0636 \\u0644\\u0644\\u0645\\u0631\\u0651\\u0629\\u0650 \\u0627\\u064e\\u0644\\u0623\\u064e\\u0648\\u0644\\u064c\\u0649 \\u064b\\u0647\\u0630\\u064d\\u0627 \\u0627\\u0652\\u0644\\u0639\\u0627\\u0645 \\u0643\\u064f\\u0644 \\u0645\\u064b\\u0646 \\u064d\\u0628\\u0648\\u0632\\u0651 \\u0648\\u0641\\u064a\\u064b\\u0631\\u0652\\u062c\\u0646 \\u0651\\u0645\\u064a\\u064b\\u062c\\u0627\\u0633\\u0652\\u062a\\u064f\\u0648\\u064e\\u0631 \\u064e\\u0648\\u0646\\u064b\\u0648\\u064b\\u0643\\u064a\\u0627\\u060c \\u0652\\u0641\\u064c\\u064a\\u064d \\u0652\\u062d\\u064a\\u0646 \\u064d\\u062a\\u0651\\u0639\\u0648\\u0651\\u062f \\u0639\\u0651\\u0644\\u0627\\u0645\\u064e\\u0627\\u062a \\u064c\\u062a\\u062c\\u0627\\u0631\\u064a\\u0629\\u064c \\u0639\\u064c\\u0627\\u0651\\u0644\\u0645\\u0650\\u064a\\u0629\\u064b \\u064c\\u0639\\u0652\\u062f\\u0650\\u0651\\u064c\\u0629 \\u0644\\u0644\\u064f\\u0645\\u0650\\u0634\\u064f\\u0627\\u0631\\u064c\\u0643\\u0629 \\u0641\\u064c\\u064a \\u0627\\u0652\\u0644\\u0650\\u0645\\u0639\\u0631\\u0651\\u0636\\u064d\\u060c \\u0645\\u062b\\u0644\\u0651 \\u064e\\u0625\\u064e\\u062a\\u0634 \\u062a\\u0652\\u064a \\u0650\\u0633\\u064a\\u060c\\u0652 \\u064c\\u0648\\u0625\\u0646\\u0651\\u062a\\u0652\\u0644\\u060c\\u064d \\u0648\\u0628\\u0627\\u0646\\u064c\\u0627\\u0652\\u0633\\u064b\\u0648\\u064e\\u0646\\u064a\\u064c\\u0643\\u060c\\u064d \\u0651\\u0648\\u064f\\u062c\\u064a\\u0647 \\u0641\\u064a \\u0633\\u0651\\u064a\\u0651\\u060c \\u0652\\u0648\\u064f\\u062f\\u064e\\u064a\\u064b\\u0644\\u060c\\u064d \\u0651\\u0648\\u0631\\u0650\\u0645\\u064e \\u0628\\u0651\\u0644\\u064f\\u0627\\u0643 \\u064d\\u0628\\u064a\\u0631\\u064a\\u060c \\u0648\\u0633\\u0651\\u0627\\u0645\\u0633\\u064e\\u0648\\u064c\\u0646\\u062c\\u060c \\u0648\\u064b\\u0633\\u064e\\u0627\\u0646\\u062f\\u064a\\u064c\\u0633\\u0651\\u0643\\u064f\\u060c \\u0651\\u0648\\u064c\\u0643\\u064c\\u0627\\u064b\\u0646\\u0648\\u0646\\u060c \\u0651\\u0648\\u0650\\u0644\\u064a\\u0646\\u0648\\u0641\\u0648\\u060c \\u0648\\u0646\\u0627\\u0652\\u0643\\u064c\\u0627\\u0645\\u0652\\u064a\\u062a\\u064c\\u0634\\u0652\\u064a\\u064b\\u060c \\u0648\\u0647\\u064a\\u0652\\u0648\\u0644\\u064a\\u062a\\u064c \\u0628\\u0627\\u0643\\u0627\\u0631\\u062f\\u0651\\u060c \\u0648\\u0648\\u064e\\u064a\\u064c\\u0633\\u062a\\u064a\\u0631\\u0646\\u064e \\u064b\\u062f\\u0650\\u064a\\u062c\\u064a\\u062a\\u064c\\u0627\\u0650\\u0644 \\u064b.\",\n          \"https://example.com/resource/\\u062f\\u0628\\u064e\\u064a\\u064f:\\u064e \\u00ab\\u064f\\u0627\\u064e\\u0644\\u062e\\u0644\\u064a\\u062c\\u064d\\u00bb \\u0623\\u064e\\u0628\\u0631\\u064d\\u0645\\u0650\\u062a \\u0628\\u0644\\u062f\\u0651\\u064a\\u0629 \\u062f\\u0628\\u0650\\u064a\\u064c \\u0645\\u0639 \\u0628\\u0644\\u062f\\u064d\\u064a\\u064e\\u0629 \\u0631\\u064b\\u0623\\u064f\\u0633\\u0652 \\u064f\\u0627\\u064e\\u0644\\u062e\\u0650\\u064a\\u064e\\u0645\\u0629\\u064f \\u0627\\u064f\\u062a\\u064e\\u0641\\u0627\\u0650\\u0642\\u064e\\u064a\\u0629 \\u064f\\u0645\\u064f\\u0634\\u064c\\u0631\\u0652\\u0648\\u0650\\u0639 \\u064e\\u00ab\\u064e\\u0645\\u0650\\u0643\\u0652\\u0627\\u064c\\u0646\\u064a\\u064d\\u00bb \\u0644\\u064f\\u0644\\u0651\\u0639\\u0646\\u064d\\u0648\\u0646\\u0650\\u0629 \\u0652\\u0627\\u0644\\u064b\\u062c\\u063a\\u0652\\u0631\\u0627\\u0650\\u0641\\u0652\\u064a\\u0629\\u060c \\u0648\\u062c\\u064b\\u0627\\u0621\\u0652 \\u0650\\u0630\\u064e\\u0644\\u064c\\u0643 \\u0639\\u0652\\u0644\\u0650\\u0649\\u0652 \\u0647\\u0627\\u0650\\u0645\\u0634\\u064e \\u064d\\u0641\\u064e\\u0639\\u0627\\u064c\\u0644\\u0651\\u064a\\u0627\\u062a\\u064c \\u0645\\u064b\\u0639\\u0631\\u064c\\u0636 \\u064c\\u00ab\\u062c\\u0650\\u064a\\u062a\\u0643\\u0633\\u00bb\\u0650\\u060c \\u0650\\u0627\\u0644\\u0630\\u0650\\u064a\\u0651 \\u064a\\u0639\\u062f\\u064b \\u0623\\u0651\\u062d\\u062f\\u064e \\u0623\\u0651\\u0643\\u064c\\u0628\\u064b\\u0631\\u064f \\u0627\\u0644\\u064e\\u0641\\u0639\\u064b\\u0627\\u0652\\u0644\\u064a\\u0627\\u064e\\u062a \\u0627\\u064b\\u0644\\u062a\\u0651\\u062c\\u0627\\u0631\\u064f\\u064a\\u0650\\u0629 \\u0648\\u0651\\u0627\\u064f\\u0644\\u064b\\u062a\\u0643\\u0646\\u064d\\u0648\\u0651\\u0644\\u064c\\u0648\\u064e\\u062c\\u064e\\u064a\\u064d\\u0629\\u064d \\u064e\\u0641\\u064a\\u0650 \\u064f\\u0625\\u0645\\u064f\\u0627\\u0631\\u064c\\u0629 \\u064f\\u062f\\u0628\\u064f\\u064a.\\u064e\\u0648\\u0648\\u0642\\u0639\\u064b \\u0639\\u0652\\u0644\\u064e\\u0649\\u0650 \\u064d\\u0627\\u0644\\u0650\\u0627\\u062a\\u0641\\u0627\\u064b\\u0642\\u064a\\u0652\\u0629 \\u064e\\u062d\\u064c\\u0633\\u064a\\u0646\\u064c \\u0646\\u0652\\u0627\\u0635\\u064f\\u0631\\u064c \\u0651\\u0644\\u064e\\u0648\\u062a\\u0651\\u0627\\u0651\\u0647\\u0652 \\u0650\\u0645\\u064b\\u062f\\u064a\\u064d\\u0631\\u064d \\u0639\\u0627\\u064b\\u0645\\u064f \\u064f\\u0628\\u0644\\u0652\\u062f\\u0650\\u064a\\u064b\\u0629\\u0650 \\u064b\\u062f\\u064d\\u0628\\u064a\\u064b\\u060c \\u0648\\u0645\\u0646\\u064e\\u0630\\u064e\\u0631 \\u0645\\u062d\\u064b\\u0645\\u0650\\u062f \\u0627\\u0651\\u0644\\u0632\\u0651\\u0639\\u0627\\u0628\\u064d\\u064a \\u064e\\u0645\\u062f\\u064a\\u0631 \\u0639\\u064b\\u0627\\u0650\\u0645\\u064f \\u0628\\u0644\\u062f\\u064e\\u064a\\u0629\\u064e \\u0631\\u0623\\u0650\\u0633 \\u064d\\u0627\\u0644\\u064c\\u062e\\u064a\\u064f\\u0645\\u0629\\u064c\\u060c\\u0651 \\u0648\\u0652\\u0623\\u0651\\u0643\\u062f \\u0645\\u062f\\u064a\\u064d\\u0631 \\u0639\\u064c\\u0627\\u0645 \\u064c\\u0628\\u064b\\u0644\\u062f\\u064a\\u0629 \\u062f\\u064c\\u0628\\u064f\\u064a \\u064c\\u0623\\u064f\\u0646 \\u0625\\u0651\\u0628\\u0631\\u0627\\u0645\\u0650 \\u0647\\u0651\\u0630\\u0647 \\u064c\\u0627\\u064c\\u0644\\u0650\\u0627\\u064d\\u062a\\u0641\\u0627\\u0642\\u064a\\u0629\\u064e \\u064a\\u0623\\u062a\\u064f\\u064a\\u0652 \\u0627\\u0646\\u064e\\u0637\\u0644\\u064d\\u0627\\u0652\\u0642\\u0650\\u0627\\u064b \\u0645\\u0646 \\u0652\\u062d\\u064e\\u0631\\u0635\\u064f \\u064d\\u0627\\u0652\\u0644\\u0628\\u064d\\u0644\\u062f\\u064a\\u0651\\u0629 \\u0639\\u064e\\u0644\\u064e\\u0649 \\u0652\\u0645\\u062f\\u064f \\u064b\\u062c\\u0651\\u0633\\u0648\\u0631 \\u064f\\u0627\\u0644\\u0645\\u0639\\u064e\\u0631\\u0641\\u0629\\u064b \\u0650\\u0648\\u0650\\u0627\\u0650\\u0644\\u0652\\u062a\\u0639\\u0627\\u064c\\u0648\\u0646\\u064f \\u064f\\u0645\\u0639 \\u064f\\u0627\\u064c\\u0644\\u062c\\u0647\\u0627\\u064e\\u062a\\u0652 \\u064e\\u0627\\u0650\\u0644\\u0650\\u062d\\u0643\\u0648\\u064d\\u0645\\u064c\\u064a\\u0652\\u0629\\u064b \\u064d\\u0641\\u064a\\u064c \\u064d\\u0627\\u0644\\u062f\\u064e\\u0648\\u064b\\u0644\\u064d\\u0629\\u064b \\u064c\\u0641\\u0652\\u064a\\u0651 \\u064f\\u0627\\u0644\\u0645\\u064d\\u062c\\u064e\\u0627\\u0650\\u0644\\u0627\\u062a \\u0643\\u064c\\u0627\\u0650\\u0641\\u0629 \\u064c\\u0630\\u0627\\u0651\\u062a\\u064d \\u0627\\u0644\\u064c\\u0627\\u064f\\u0647\\u0650\\u062a\\u0645\\u0627\\u0645\\u0650 \\u0652\\u0627\\u0652\\u0644\\u064c\\u0645\\u0634\\u064c\\u062a\\u064d\\u0631\\u064f\\u0643\\u060c\\u0652 \\u064f\\u0643\\u0652\\u0645\\u0627 \\u0623\\u064f\\u0634\\u064f\\u0627\\u0631 \\u0645\\u062f\\u064a\\u0652\\u0631 \\u0639\\u064e\\u0627\\u0650\\u0645 \\u064f\\u0628\\u064c\\u0644\\u062f\\u064a\\u064f\\u0629 \\u0631\\u0623\\u0633\\u064d \\u0627\\u0644\\u062e\\u064d\\u064a\\u0645\\u0651\\u0629 \\u0625\\u0644\\u0649\\u064e \\u0631\\u0650\\u063a\\u064c\\u0628\\u064e\\u0629 \\u064e\\u0627\\u064e\\u0644\\u064d\\u0628\\u0644\\u064e\\u062f\\u064f\\u064a\\u0629 \\u064e\\u0641\\u064a \\u064d\\u0627\\u064b\\u0633\\u064c\\u062a\\u062e\\u0650\\u062f\\u0627\\u0645\\u064d \\u0646\\u064b\\u0638\\u0652\\u0627\\u0645\\u064f \\u00ab\\u0651\\u0645\\u0643\\u0650\\u0627\\u0646\\u064a\\u00bb\\u064b \\u0644\\u0644\\u0639\\u0646\\u0650\\u0648\\u0651\\u0646\\u0629 \\u0627\\u064f\\u0644\\u0650\\u062c\\u063a\\u064d\\u0631\\u0627\\u064b\\u0641\\u064d\\u064a\\u064e\\u0629.\\u0650\\u0648\\u064b\\u064a\\u0647\\u062f\\u064e\\u0641 \\u062a\\u0648\\u064f\\u0642\\u064d\\u064a\\u0639 \\u064e\\u0647\\u0652\\u0630\\u0647\\u0650 \\u064c\\u0627\\u0651\\u0644\\u0627\\u062a\\u0641\\u064d\\u0627\\u0642\\u064a\\u0651\\u0629 \\u064f\\u0625\\u0644\\u0652\\u0649\\u0650 \\u064d\\u062a\\u064e\\u062d\\u062f\\u064c\\u064a\\u064b\\u062f \\u064f\\u0646\\u0648\\u0639\\u064d\\u064a\\u0629\\u064b \\u0627\\u0644\\u062e\\u064f\\u062f\\u064d\\u0645\\u064b\\u0627\\u062a\\u0651 \\u0627\\u0644\\u0645\\u062a\\u0639\\u064e\\u0644\\u0651\\u0642\\u064e\\u0629\\u064e \\u064e\\u0628\\u064c\\u0646\\u0638\\u0645 \\u0651\\u0627\\u0644\\u0650\\u0645\\u0639\\u064e\\u0644\\u0648\\u0645\\u064c\\u0627\\u064f\\u062a \\u064b\\u0627\\u0644\\u064f\\u062c\\u0651\\u063a\\u0631\\u064d\\u0627\\u0641\\u064a\\u0650\\u0629\\u064d \\u0651\\u0639\\u064c\\u0646 \\u064b\\u0637\\u0631\\u064f\\u064a\\u0642 \\u0645\\u0646\\u064b\\u062d \\u0628\\u0644\\u062f\\u064e\\u064a\\u064e\\u0629\\u0652 \\u064f\\u062f\\u064b\\u0628\\u064f\\u064a \\u064f\\u0644\\u0628\\u0644\\u064e\\u062f\\u064a\\u064f\\u0629\\u064b \\u0651\\u0631\\u064f\\u0623\\u0633 \\u0651\\u0627\\u064c\\u0644\\u062e\\u064f\\u064a\\u0645\\u0629\\u064f \\u062c\\u064c\\u0645\\u064f\\u064a\\u0639\\u064e \\u0627\\u0644\\u064e\\u0625\\u0645\\u064e\\u0643\\u0652\\u0627\\u0646\\u0627\\u064f\\u062a\\u0650 \\u0652\\u0627\\u064e\\u0644\\u064d\\u0644\\u0627\\u0632\\u0645\\u0629 \\u064c\\u0644\\u062a\\u0637\\u0650\\u0628\\u064a\\u064f\\u0642\\u064f \\u0646\\u0638\\u0627\\u0645\\u064e \\u064f\\u00ab\\u0645\\u0651\\u0643\\u0627\\u0646\\u064a\\u0651\\u00bb\\u064b \\u064c\\u0644\\u0644\\u064c\\u0639\\u0650\\u0646\\u0648\\u0646\\u0629 \\u0627\\u0644\\u0651\\u062c\\u063a\\u064b\\u0631\\u0627\\u0641\\u064a\\u0651\\u0629\\u064c \\u064d\\u0636\\u064c\\u0645\\u0646 \\u0650\\u0627\\u0652\\u0644\\u0627\\u0652\\u062e\\u062a\\u064b\\u0635\\u064e\\u0627\\u064e\\u0635\\u0650 \\u0627\\u0644\\u064b\\u062c\\u064c\\u063a\\u0631\\u0627\\u064f\\u0641\\u064a \\u0644\\u0628\\u064b\\u0644\\u062f\\u064a\\u0629\\u064f \\u0631\\u0650\\u0623\\u0633 \\u0627\\u064d\\u0644\\u062e\\u064a\\u0645\\u0650\\u0629\\u060c\\u0650 \\u0652\\u0643\\u064c\\u0645\\u0627 \\u0633\\u064e\\u062a\\u0642\\u062f\\u0645\\u0650 \\u0628\\u0644\\u0650\\u062f\\u064d\\u064a\\u0651\\u0629\\u0652 \\u0651\\u062f\\u064c\\u0628\\u0652\\u064a\\u064d \\u0650\\u0627\\u064e\\u0644\\u062a\\u062f\\u0652\\u0631\\u064a\\u0628 \\u0627\\u0644\\u0644\\u0627\\u064d\\u0632\\u0645 \\u0648\\u0627\\u064d\\u0644\\u064e\\u0627\\u0650\\u0633\\u062a\\u0634\\u064b\\u0627\\u0650\\u0631\\u0627\\u062a\\u0652 \\u0627\\u0644\\u064c\\u0641\\u0646\\u064a\\u064c\\u0629 \\u064b\\u0627\\u0650\\u0644\\u0645\\u0651\\u062a\\u0639\\u0652\\u0644\\u0642\\u0629\\u064b \\u0628\\u062a\\u064e\\u0637\\u0628\\u064a\\u0642\\u064b \\u064e\\u0646\\u0638\\u064b\\u0627\\u0645 \\u064b\\u00ab\\u064d\\u0645\\u0643\\u064c\\u0627\\u0646\\u064a\\u00bb\\u0650 \\u0644\\u0644\\u0639\\u064e\\u0646\\u0652\\u0648\\u0651\\u0646\\u064b\\u0629 \\u064d\\u0627\\u0644\\u062c\\u063a\\u0631\\u0627\\u064c\\u0641\\u064a\\u0629\\u064c \\u064f\\u0644\\u0652\\u0644\\u0650\\u0645\\u0639\\u064c\\u0646\\u064a\\u0652\\u064a\\u064f\\u0646 \\u0641\\u064a \\u0651\\u0628\\u0644\\u064b\\u062f\\u064f\\u064a\\u0629 \\u0651\\u0631\\u064e\\u0623\\u0633 \\u0627\\u0644\\u0652\\u062e\\u064c\\u064a\\u0645\\u064c\\u0629\\u060c \\u0648\\u0652\\u0633\\u064b\\u062a\\u064e\\u062a\\u0651\\u0648\\u064e\\u0644\\u0649\\u0650 \\u0628\\u064d\\u0644\\u062f\\u064c\\u064a\\u0629 \\u0631\\u064b\\u0623\\u064e\\u0633\\u064c \\u064b\\u0627\\u0650\\u0644\\u064c\\u062e\\u064d\\u064a\\u0650\\u0645\\u064e\\u0629 \\u0645\\u0650\\u0646 \\u0650\\u062c\\u0652\\u0647\\u064f\\u062a\\u0647\\u0627\\u064c \\u064f\\u0645\\u0647\\u064c\\u0645\\u064e\\u0629\\u064d \\u0651\\u062a\\u064d\\u0632\\u0651\\u0648\\u064d\\u064a\\u064c\\u062f\\u0650 \\u0628\\u064e\\u0644\\u062f\\u064a\\u0629\\u064f \\u064d\\u062f\\u0628\\u064a\\u0650 \\u064b\\u0628\\u0652\\u0627\\u0644\\u0628\\u064a\\u064b\\u0627\\u064d\\u0646\\u064d\\u0627\\u0652\\u062a\\u064f \\u064c\\u0627\\u0644\\u0651\\u0645\\u0643\\u0627\\u064e\\u0646\\u064a\\u0629 \\u0627\\u064e\\u0644\\u064f\\u0645\\u064c\\u062d\\u0650\\u062f\\u062b\\u0629\\u064d \\u0644\\u0644\\u064e\\u0645\\u0652\\u0639\\u0627\\u0644\\u0645 \\u0627\\u0644\\u064e\\u062e\\u0650\\u0627\\u0635\\u0629\\u064d \\u0636\\u064b\\u0645\\u064d\\u0646 \\u0627\\u064b\\u0644\\u064b\\u0627\\u064d\\u062e\\u062a\\u0635\\u0627\\u0635 \\u064d\\u0627\\u0644\\u062c\\u0651\\u063a\\u0631\\u0627\\u0641\\u064a\\u0650 \\u0652\\u0644\\u0651\\u0628\\u064b\\u0644\\u062f\\u064d\\u064a\\u0629 \\u0650\\u0631\\u064e\\u0623\\u0633 \\u0627\\u064d\\u0644\\u062e\\u064d\\u064a\\u064c\\u0645\\u0629\\u0652\\u060c \\u064e\\u0644\\u064a\\u062a\\u064e\\u0645 \\u0627\\u0633\\u064b\\u062a\\u062e\\u064d\\u062f\\u0627\\u0645\\u0652\\u0647\\u0652\\u0627 \\u0636\\u0645\\u064f\\u0646\\u064d \\u0650\\u062a\\u0637\\u0651\\u0628\\u064a\\u0642\\u064d \\u0646\\u0638\\u0627\\u0651\\u0645\\u064b \\u00ab\\u0650\\u0645\\u0643\\u0627\\u0646\\u064a\\u00bb \\u064b\\u0644\\u0650\\u0644\\u0639\\u0646\\u064c\\u0648\\u0646\\u064e\\u0629\\u064d \\u0627\\u0650\\u0644\\u062c\\u0652\\u063a\\u0651\\u0631\\u064c\\u0627\\u064d\\u0641\\u064a\\u0629.\\u064d\"\n        ],\n        \"semantic_type\": \"\",\n        \"description\": \"\"\n      }\n    },\n    {\n      \"column\": \"label\",\n      \"properties\": {\n        \"dtype\": \"category\",\n        \"num_unique_values\": 1,\n        \"samples\": [\n          \"Tech\"\n        ],\n        \"semantic_type\": \"\",\n        \"description\": \"\"\n      }\n    }\n  ]\n}"
            }
          },
          "metadata": {},
          "execution_count": 140
        }
      ]
    },
    {
      "cell_type": "code",
      "source": [
        "df.info()"
      ],
      "metadata": {
        "colab": {
          "base_uri": "https://localhost:8080/"
        },
        "id": "eAsFjQSAEGgV",
        "outputId": "5b6f5205-4d2a-48dc-d469-8f9a708c4122"
      },
      "execution_count": 141,
      "outputs": [
        {
          "output_type": "stream",
          "name": "stdout",
          "text": [
            "<class 'pandas.core.frame.DataFrame'>\n",
            "RangeIndex: 39885 entries, 0 to 39884\n",
            "Data columns (total 2 columns):\n",
            " #   Column  Non-Null Count  Dtype \n",
            "---  ------  --------------  ----- \n",
            " 0   text    39885 non-null  object\n",
            " 1   label   39885 non-null  object\n",
            "dtypes: object(2)\n",
            "memory usage: 623.3+ KB\n"
          ]
        }
      ]
    },
    {
      "cell_type": "code",
      "source": [
        "df.shape"
      ],
      "metadata": {
        "colab": {
          "base_uri": "https://localhost:8080/"
        },
        "id": "fIGQUTwOEEqL",
        "outputId": "c11a129c-01df-4213-beff-b050b81691de"
      },
      "execution_count": 142,
      "outputs": [
        {
          "output_type": "execute_result",
          "data": {
            "text/plain": [
              "(39885, 2)"
            ]
          },
          "metadata": {},
          "execution_count": 142
        }
      ]
    },
    {
      "cell_type": "code",
      "source": [
        "df['label'].value_counts()"
      ],
      "metadata": {
        "colab": {
          "base_uri": "https://localhost:8080/",
          "height": 335
        },
        "id": "PixauMCDDGRG",
        "outputId": "ba855e59-c985-4fed-c719-00a999a80d8e"
      },
      "execution_count": 143,
      "outputs": [
        {
          "output_type": "execute_result",
          "data": {
            "text/plain": [
              "label\n",
              "Politics    6334\n",
              "Medical     6292\n",
              "Culture     6098\n",
              "Finance     6095\n",
              "Tech        5979\n",
              "Sports      5859\n",
              "Religion    3228\n",
              "Name: count, dtype: int64"
            ],
            "text/html": [
              "<div>\n",
              "<style scoped>\n",
              "    .dataframe tbody tr th:only-of-type {\n",
              "        vertical-align: middle;\n",
              "    }\n",
              "\n",
              "    .dataframe tbody tr th {\n",
              "        vertical-align: top;\n",
              "    }\n",
              "\n",
              "    .dataframe thead th {\n",
              "        text-align: right;\n",
              "    }\n",
              "</style>\n",
              "<table border=\"1\" class=\"dataframe\">\n",
              "  <thead>\n",
              "    <tr style=\"text-align: right;\">\n",
              "      <th></th>\n",
              "      <th>count</th>\n",
              "    </tr>\n",
              "    <tr>\n",
              "      <th>label</th>\n",
              "      <th></th>\n",
              "    </tr>\n",
              "  </thead>\n",
              "  <tbody>\n",
              "    <tr>\n",
              "      <th>Politics</th>\n",
              "      <td>6334</td>\n",
              "    </tr>\n",
              "    <tr>\n",
              "      <th>Medical</th>\n",
              "      <td>6292</td>\n",
              "    </tr>\n",
              "    <tr>\n",
              "      <th>Culture</th>\n",
              "      <td>6098</td>\n",
              "    </tr>\n",
              "    <tr>\n",
              "      <th>Finance</th>\n",
              "      <td>6095</td>\n",
              "    </tr>\n",
              "    <tr>\n",
              "      <th>Tech</th>\n",
              "      <td>5979</td>\n",
              "    </tr>\n",
              "    <tr>\n",
              "      <th>Sports</th>\n",
              "      <td>5859</td>\n",
              "    </tr>\n",
              "    <tr>\n",
              "      <th>Religion</th>\n",
              "      <td>3228</td>\n",
              "    </tr>\n",
              "  </tbody>\n",
              "</table>\n",
              "</div><br><label><b>dtype:</b> int64</label>"
            ]
          },
          "metadata": {},
          "execution_count": 143
        }
      ]
    },
    {
      "cell_type": "code",
      "source": [
        "df['label'].value_counts().plot(kind='bar')"
      ],
      "metadata": {
        "colab": {
          "base_uri": "https://localhost:8080/",
          "height": 508
        },
        "id": "X4HUQkC3C7Oa",
        "outputId": "a7337c8d-e8d7-4fdd-92f3-e1479d8b0d18"
      },
      "execution_count": 144,
      "outputs": [
        {
          "output_type": "execute_result",
          "data": {
            "text/plain": [
              "<Axes: xlabel='label'>"
            ]
          },
          "metadata": {},
          "execution_count": 144
        },
        {
          "output_type": "display_data",
          "data": {
            "text/plain": [
              "<Figure size 640x480 with 1 Axes>"
            ],
            "image/png": "[encoded data removed]"
          },
          "metadata": {}
        }
      ]
    },
    {
      "cell_type": "code",
      "source": [
        "df['text'][0]"
      ],
      "metadata": {
        "colab": {
          "base_uri": "https://localhost:8080/",
          "height": 87
        },
        "id": "tkqk5OOXCpUx",
        "outputId": "74e23296-d0b8-48f2-fa5f-f00d7a30084f"
      },
      "execution_count": 145,
      "outputs": [
        {
          "output_type": "execute_result",
          "data": {
            "text/plain": [
              "'https://example.com/resource/الشاٌرقة -ْ محمِد وِلدٌ َمحمْدُ ٌسّاٍلمَعرٍضت مًسُاءٍ أًمسَ اَلأَول علَىِ ٍخْشبٌةّ مسرح قصَر ّالثْقًافةً ٌفي اِلشاْرقُة ٍاًلمسرِحية ٍاٍلسْعٍودْيَة ً\"ْبَعيُدْاًّ عن اٌلسيطرة\"ّ ًلِفرقةَ مَسّرُحَ ًاِلطِاٌئف،ّ ْمن ّتٌأٌليُف فُهًدِ ّرّدِةَ الحاّرثي، ّوٌإُخراًج َسٍاٌمَي ًصّاَلٍحٍ الزَهرانيّ،ْ ٌوُذّلكّ فٌيً َرٌابعٍةٌ ٌليالي ِالدورْةَ اَلأوٌلى ٌمن مًهرًجِانٌ اْلشْارِقُة لّلّمَسُرٌحْ الخليجي ٌ.تًبًدَأْ اْلْمسرٍحيٍة بثًلاٍثّة َأشخاٍصٍ ٍيجٍلْسِونَ ُفي قاعةِ مّكتبةِ،ٌ ًيِنهمُك كٌل َمْنهٌمٌ ّفي ُالقرِاءة بْشغَف،ِ ُثُم يبِدأِوْن ًفيَ الٍحوٌاُر لنٍكُتشُفُ ُأِنهمّ كاْنوّاٌ ْيِقُرَأّونْ ِروٍاياّت لُأستُاّذهم ًالكِاتِب اّلمٌبدَعَ ُالٍذيٍ مِاْت ُوْتِرْك ُرِوايٌاتَ فريَدَةً،ٍ ُرٌسم فْيهًا ِشْخُصًياُت ٍغاية فُي الُدُقٌة، ٌويتحدٌثونّ ْعنُ ضرورة تكِرٍيمَ ِأستْاّذُهًم،ٌ ويٍتِفِقون ُعُلْىّ طرٍيقّة ًخاصةّ َلًلتكرّيم وُهيٌ ِإُخرٍاّج ُشِخصِيٌاتَه ًمنُ ْرِواياٍتها ٍلٍتَعٍيٍش في ّاٍلوْاقًع، وِيًنتِقّونً شِخُصيًاتٌ مركزيُة، ٍأْولها ْاُلحِلاق ٍاٍلذي ٍكٍان ًطَيًبًاًُ،ٌ حْافٍظاً لأُسرّاٌر أهل الّحٍيُ، وكْاٍنً الٍجِميِعُ يًحبّه، وْحين لاٌ ٍيكْوًن الشخٍص لدْيه ِمّاْ ُيًدَفّعه مقابَلِ الحلاقُة فإِنُهّ لا يِطُالُبْه ٍبشُيْءٍ، ثّمٌ ٍيٌستخرُجّوًنٍ ٌحفٍارِ ٍاٌلّقبّوًر الٌذي ِكٍانً يقبر ِالٍجْمِيعْ، ْويردُدّ دُائمٍاًُ ًأَنّ ْاْلدَنِيُا فاِنْيةُ،ً وأِن اًلًبٍقاء ْللٍهْ وِحٍدٌهِ،ً ثِم َيستّخرجِوُنُ َالُشاب اّلمُحٍب ِالذٍي ْظلً ٍسنواَت طًوٍيلِة يِحملً ورُدة ْويَنْتٌظر حًبّيْبُتَه ٍالتيِ ًرحُلٍتّ عنّهً وّلمِ َتّعد َإلًيه حِتْىّ ُمَات .ٍيًأخذُ طلاب الأستاذٍ ًتّلكِ الٍشٌخصيات ّإلٍىُ عاًلٍمِ جديد َلتَعيّش ِفيَهٍ، ْوًنُكَتِشف ٌمٍنّ الًحٌوٌارَات أنّ ْتًلكِ اًلشْخصياِت فَيٌ َعْالْمهٍاَ الجًديدُ تْغَيرتِ، ِوأصًبٌحَتُ شخْصْياُت أخٌرُى ِشِرُّيٍرَة، وتمردٍتُ وِرٌفْضّتٌ ّالعوٍدٍةْ إَلِى اٌلْرواًيٌات اٍلتيَ ْخٌرجٌت ّمنٍهاّ، ٌوَأًصبحً مُكاًنٌهِاُ فيَ اُلرْواْيات ثِغّرّاْتَ ِتَخل َبًرواَيِاِتٍ الٍأْسَتاذٍ،ْ فْيَِحَار ّاٌلطلاب فُي اْلطرًيقةً التِيْ ِيِعيدونً بِهاّ تِلك َالّشخِصُياٌت ّإًلَى ِأِماٍكْنٍهُا، وُيقتًرٍح ُأَحُدهّم ُإعادًتهًاْ ِبّاّلٍعنْف،ِ ّلّكْنَّ ّآٍخرً يرد عليٌه،ْ ِأنٍ تلٌك ٍاُلٍشخْصيْاتِ ذاِقت ًطْعمٍ ّالحريًةْ ولّن تٌستَطيع أيٌةِ قًوُة ٌإٍعّاٍدَتها إٍلى سَجْن ّاَلرًوْاياٌت، ُوهْنِاُ ًقرَرّ اّلَطِلابٌ َأنّ ْيْدّخْلواّ ِهْم ُثٍلًاثتهٌم إّلّىْ الِرّواًيٌاًت ّلْيِسدواْ ًاٌلفرًاغُ الذي خِلفًتٍه ٌتُلك اٍلشَخًصَيٌاٌتٌ ُالمٌتْمْردّةُ،ّ ِوتُظهَر في ّوْاْجهِة اٍلمكْانٌ ُمِكتُبة َيبدَأَوُن فَي الدخّول إليِهِا، ْوهّم يوًصوٌن ِالٍجمَهُورً َقٍاِئّلَين ٍ\"َاّقّبٍضواُ ٍعًلىُ شّخْصياتٍكمُ، ِلا تدعوهِا تٍهِرّبِ ًمنٌكمّ، فلاْ ّتعِوّدً ْلكمُ\"ٍ .فكًرةٌ ّاسٌتعّاًدة شخٌصْياتً ٌرواَئٌيْة ّأو أسُطوُريٍة وجْعٍلًها ّتْعيِشُ ٍفِي ٌوِاقع ِمَغًاُيٌر ْفكرةَ ٌأَدُبيَةَ رائجة،ٍ ٌحدثُتَ مُعٍ شخٌصٌياًتَ شكٌسبير ِوَنٌجٌيٍب مٍحفوّظ وْغيرًهمٌا،ٌ ْوِهٌي ّعًمليّةُ جُميِلٌةُ لأنًهاَ ُمثيرَةّ ًتٍفُتحّ َالباًب لٍلتفّكيرَ ٍاٌلمغاّيٍر،ِ ويحسْبّ َلُلٍكاّتبٍ واًلمٍخٌرجّ اٌقتْحامّهما ْلٍتلًك ُالتِجرًبة، ِوإِعْادةُ ٍاُلتُفكٍيٌرً فيِ شخَصياِت لروائيَ ٌافٌترٌاضْي ّومَرُاًقبةَ ًمًاِذٌاٍ ّسيًحٌدٌثّ ٍلهاْ،ْ كُمِاْ ٌيٍحسٌب ّللِمِخُرٌج ْتّنٌوع ُحِلٌوْلهّ الَإخرِاجِيُةَ َاَلتي جِمعت في عرضٍ وِاْحّدّ َمًخٌتلّف َأْشكِالَ تقنّياًت َالعرًضً ٌمن تشِكيُل لُلإْضٍاٍءْةُ وتٌنُويع للأزيْاء ّوِعرٌض لْلشُرٍيطْ اّلسيْنمائّيّ، وّخُيُاٍلّ الظلً َوالْرّقص اًلكوريغرَافْي ًوُالٍغناء واِلموسيُقُىِ،ً ٌكلٍ َذُلِك ٍوجدْ له مًساْحةْ ّضمنً عرضُه َ.ْلٌكن ًاْلُعرض يْطّرح ّإِشكاٍلّاّت فُنْيٍةٌ وُدرُامٍيٍةّ ُعًدُة، فٍمٍن الناٌحيَة ٍالْفنّيةٍ بِدُت ٌاٌلعُدُيَدَ ٍمَنٍ اٍلٌخَيَاَراِتْ الفنٌيُةِ ًمنفصِلِةً عن صّلًب اَلّعرَضَ َوِمقحُمةً ٌعليٍهً إقٍحاَمْاًّْ، ًمًن ذلكٍ مٍشهِد ٌالرًقِص ُاٌلكوٍرٍيُغْرِافي ّاَلُذي ْبدًأت بٌه ّاُلمسًرًحيّة، قٍبل ٍأُن تدخٌل ُفيُ مْشهدها اَلْأولً، كذِلكٍ مشاهدّ خًياْلً الّظُلٍ ُلّمُ ُتًوظفٍ بِشكلً ْجٍيُد َفَيُماٌ ّأريّدّتَ ُلهَ،ِ ٌوقّدُ ٍمُلَأ اّلمّخرَج جانًبي ٌالخِشُبةٍ بٍحًوًاٌجز لمْ تكُنّ لهًاْ دلاَلةِ،َ وكاِنً ْبِينْ الْحين ّوٍالّآّخْر يحٌرَكً شخصَياٌت فُي هاًتّين الَمَنطًقتينُ فيّ ٌالعتمةً ّلاَ نعرفَ مْا هو دورهاٍ،ٍ ولُاّ ّلأيْ َهّدٍفٌ ٍوضعتً هَنٌاك،ً ٍواٍلْأٍزَيًاَءٌ ِالُتٍي ِظهِرً بْهَا اّلُممْثِلُوَن ْاُلَثلٌاَثة حٍينٍ ًيتٌقْمصَون ِشٍخصيّات ًالطلاٌبٍ لٍمً ّتٌكًن تٍعْطيٍ ِملٍامحْ طلَاَب ًعلِم وأدْب فيُ ٌمُكتبُةّ،ّ بْلّ ْكٌانٍتً َبدلْاتَ رياًضِيٌةّ َضيُقِة ًسوُدُاءً مَع ِطاقّيةَ َسٍوداءً ُأّظُهًرتٍهِمِ ْوكأنهم مجموعّة مٍنً ٍالغًوُاصينُ .ّمَنُ ِاّلّناٌحيةَ ٌاّلًدراُمُيٌةّ عٌانى ٌاُلعُرْض خَلٌليَن عميقيُنُ،ٍ ِأوًلهمٌا ًطغْيُان السَرِدٍ، وٌغياب الّفَعلّ الدٍراميّ ٍالِمبنٍيٍ عٌلْى اْلًصُرّاٍعِ ٌالمِجِسٍدْ بّاًلحًوٍاِرِ،ٍ ِفٍكنا طيْلةٍ الوقتّ أمْاًمْ ّسرُد يتٍبادّلٍ ِفيًهْ ّالأشَخاٌص ًاْلْثٌلٍاًثًة رِوِاِية حًيِاَة ْالٍشَخصَيٌاتٍ ًالُتًيْ ًاَستحَضرٌوها، ِحّتىُ فيَ ٌحضوٌرْ تٍلٌك ّالٍشخصيات التْي ًتٍسًهمٌ ٍبْدِوًرِهْاّ ِفي ِسرُد حكِاُيتّها في المِاَضًيٌ، َوُبّدل َأن ٌيكْوّن ّاسَتْحضِاُرهٌاٍ بهْدٌف ٌأْن تْعيشُ ِالَواقع الجديدٌ ُوتٌفًعلِ َفٌيّه َبَدت ُعٌلٌىً الْمًسرًح تّسردِ ٍالِماضي، ٌحْتىَ الَتغيْرً ّالِذِي طَرُأّ عّلَيّها ًلمٍ ِنشُاْهْدهْ عٌلٍى ْاّلخًشبِة، ْوّإْنٍمُا ِسٌمُعنُا َعًنهٍ ًبِشكِلُ مقَتَضب علِى ّألْسِنّةَ اّلَطّلابٌ، هِكٍذا فَقُد ُاْلعًرض ًفاعليتهَ ّوِحِرٌارَتهً،ُ ولٍم تِصٌفقً ٌاًلْقُاعةٌ إَلُاّ ِمًرِة واحدِة حٍيّن ُقِاِل أحدً ِالٍطلابِ مٍعٌلًقّاٌ ّعلى تمٍرْد شْخصيًاٍت الٍرًوائًي ٌ\"ِإنٍ مٌن ٌذُاق ُاٍلحُريًةَ ُلا يّمكن أُنَ ُيعوّدً ّإٍلىٌ الْسجنِ\"ٌ، ٍوَحِتَى ٌهذًه الًحَقُيقةُ ًقٍدّمَتّ بْشكٍلٍ ْسًردي مجّاّنٌي ٌ.اْلّخلّل الثْاْني ْهَو ِأٍن رؤيّةِ اُلِعّرضَ َتبٌدُوَ مِشَوشة، ّفمْاٍ الذٌي ٌيِعنّيهْ تمِسكّ ًاِلِإْنٌسٍان ٌبًشُخصٌيٌته ٌحتى لٌا تَهرّب ًمنه، وهٍل اُلْشّخًصيةً ّقُيّمْة مطلقٍةْ،ُ إنٍ هنَاك ُشَخُصًيًاتٌ ّشرَّيرةٍ، َفٍهِل نِحْث صّاحبهْاّ ُعْلَىٍ ٍالَتمسكٍ بٍهَاُ، ألا َيَنَبْغِيَ أِنٍ تٌكّوٌنً ْشخٍصْيِةَ ٌاْلّإنسٌان ِمتطورة ٍفٌي ٍاُتجاه َاِلَخيرٌ ٌواْلسِموً،ٍ وًما الذي ِيّعنّيُه اًضطَرٌار الطلْاُبٌ ْلدٌخَولّ ّالًكٍتَبِ لكيً ٍيحلوا مْحُل ٌاِلُشخّصٌيُاّت الُمّتْمرّدَةّ، هُلً اَلٌثَورة أوِ ممارسة الَحرْيةْ فعَلْ مًحرم ِحّتٌىّ نٌضُطّر إّلى ٍسٌدُ ٍفِراغ صْاحٌبٌه،ْ ٍإُلِاَ اْلكاتب ِوالمخُرِج ُيٌعترُف بٌأَنٌ ٍمَا ٌقٌامت ْبُهِ ْتّلِك اْلًشًخِصيٍاتَ هو فعٌل حرّيٍةُ،ِ حَيٍنٌ َيعلق أًحدّ ّشٌخصٍيُاْتُ ْالمْسٍرِحَية ِ\"ْإنّ ًمنِ ذٍاق ٌالّحِرُيِةْ ًلِاِ ّيٌمكْن أنً يُعودٍ إًلَىَ ِاٍلسّجّن\" ٌ.'"
            ],
            "application/vnd.google.colaboratory.intrinsic+json": {
              "type": "string"
            }
          },
          "metadata": {},
          "execution_count": 145
        }
      ]
    },
    {
      "cell_type": "code",
      "source": [
        "df.sample(10)"
      ],
      "metadata": {
        "colab": {
          "base_uri": "https://localhost:8080/",
          "height": 363
        },
        "id": "_OtEu0vvDLfd",
        "outputId": "7aced208-dc77-44a1-ee6c-192a7ad29b72"
      },
      "execution_count": 146,
      "outputs": [
        {
          "output_type": "execute_result",
          "data": {
            "text/plain": [
              "                                                    text     label\n",
              "21564  https://example.com/resource/الِقاًهرةُ:ٍ ٌ«اٍ...  Politics\n",
              "13640  https://example.com/resource/أْبوِظّبيِ:ٍ ٍمُر...   Medical\n",
              "20723  https://example.com/resource/الِقْاهرةِ «اٌلخِ...  Politics\n",
              "25616  https://example.com/resource/حرٌمْةّ ْاٍلْمِال...  Religion\n",
              "1224   https://example.com/resource/ضمْن ّحفِلُاتِ تو...   Culture\n",
              "37418  https://example.com/resource/يًحظى قِطاّع تٌقن...      Tech\n",
              "15508  https://example.com/resource/انعٍقٍدُ ّفيْ ِدً...   Medical\n",
              "31338  https://example.com/resource/سُيْكون ْاٌلمَلّع...    Sports\n",
              "1251   https://example.com/resource/تكثِر ُاُلتِحٌلِي...   Culture\n",
              "31819  https://example.com/resource/أُكُدٍ اٍلاتِحاد ...    Sports"
            ],
            "text/html": [
              "\n",
              "  <div id=\"df-c5ac5847-f989-46eb-a184-099ef2c44d26\" class=\"colab-df-container\">\n",
              "    <div>\n",
              "<style scoped>\n",
              "    .dataframe tbody tr th:only-of-type {\n",
              "        vertical-align: middle;\n",
              "    }\n",
              "\n",
              "    .dataframe tbody tr th {\n",
              "        vertical-align: top;\n",
              "    }\n",
              "\n",
              "    .dataframe thead th {\n",
              "        text-align: right;\n",
              "    }\n",
              "</style>\n",
              "<table border=\"1\" class=\"dataframe\">\n",
              "  <thead>\n",
              "    <tr style=\"text-align: right;\">\n",
              "      <th></th>\n",
              "      <th>text</th>\n",
              "      <th>label</th>\n",
              "    </tr>\n",
              "  </thead>\n",
              "  <tbody>\n",
              "    <tr>\n",
              "      <th>21564</th>\n",
              "      <td>https://example.com/resource/الِقاًهرةُ:ٍ ٌ«اٍ...</td>\n",
              "      <td>Politics</td>\n",
              "    </tr>\n",
              "    <tr>\n",
              "      <th>13640</th>\n",
              "      <td>https://example.com/resource/أْبوِظّبيِ:ٍ ٍمُر...</td>\n",
              "      <td>Medical</td>\n",
              "    </tr>\n",
              "    <tr>\n",
              "      <th>20723</th>\n",
              "      <td>https://example.com/resource/الِقْاهرةِ «اٌلخِ...</td>\n",
              "      <td>Politics</td>\n",
              "    </tr>\n",
              "    <tr>\n",
              "      <th>25616</th>\n",
              "      <td>https://example.com/resource/حرٌمْةّ ْاٍلْمِال...</td>\n",
              "      <td>Religion</td>\n",
              "    </tr>\n",
              "    <tr>\n",
              "      <th>1224</th>\n",
              "      <td>https://example.com/resource/ضمْن ّحفِلُاتِ تو...</td>\n",
              "      <td>Culture</td>\n",
              "    </tr>\n",
              "    <tr>\n",
              "      <th>37418</th>\n",
              "      <td>https://example.com/resource/يًحظى قِطاّع تٌقن...</td>\n",
              "      <td>Tech</td>\n",
              "    </tr>\n",
              "    <tr>\n",
              "      <th>15508</th>\n",
              "      <td>https://example.com/resource/انعٍقٍدُ ّفيْ ِدً...</td>\n",
              "      <td>Medical</td>\n",
              "    </tr>\n",
              "    <tr>\n",
              "      <th>31338</th>\n",
              "      <td>https://example.com/resource/سُيْكون ْاٌلمَلّع...</td>\n",
              "      <td>Sports</td>\n",
              "    </tr>\n",
              "    <tr>\n",
              "      <th>1251</th>\n",
              "      <td>https://example.com/resource/تكثِر ُاُلتِحٌلِي...</td>\n",
              "      <td>Culture</td>\n",
              "    </tr>\n",
              "    <tr>\n",
              "      <th>31819</th>\n",
              "      <td>https://example.com/resource/أُكُدٍ اٍلاتِحاد ...</td>\n",
              "      <td>Sports</td>\n",
              "    </tr>\n",
              "  </tbody>\n",
              "</table>\n",
              "</div>\n",
              "    <div class=\"colab-df-buttons\">\n",
              "\n",
              "  <div class=\"colab-df-container\">\n",
              "    <button class=\"colab-df-convert\" onclick=\"convertToInteractive('df-c5ac5847-f989-46eb-a184-099ef2c44d26')\"\n",
              "            title=\"Convert this dataframe to an interactive table.\"\n",
              "            style=\"display:none;\">\n",
              "\n",
              "  <svg xmlns=\"http://www.w3.org/2000/svg\" height=\"24px\" viewBox=\"0 -960 960 960\">\n",
              "    <path d=\"M120-120v-720h720v720H120Zm60-500h600v-160H180v160Zm220 220h160v-160H400v160Zm0 220h160v-160H400v160ZM180-400h160v-160H180v160Zm440 0h160v-160H620v160ZM180-180h160v-160H180v160Zm440 0h160v-160H620v160Z\"/>\n",
              "  </svg>\n",
              "    </button>\n",
              "\n",
              "  <style>\n",
              "    .colab-df-container {\n",
              "      display:flex;\n",
              "      gap: 12px;\n",
              "    }\n",
              "\n",
              "    .colab-df-convert {\n",
              "      background-color: #E8F0FE;\n",
              "      border: none;\n",
              "      border-radius: 50%;\n",
              "      cursor: pointer;\n",
              "      display: none;\n",
              "      fill: #1967D2;\n",
              "      height: 32px;\n",
              "      padding: 0 0 0 0;\n",
              "      width: 32px;\n",
              "    }\n",
              "\n",
              "    .colab-df-convert:hover {\n",
              "      background-color: #E2EBFA;\n",
              "      box-shadow: 0px 1px 2px rgba(60, 64, 67, 0.3), 0px 1px 3px 1px rgba(60, 64, 67, 0.15);\n",
              "      fill: #174EA6;\n",
              "    }\n",
              "\n",
              "    .colab-df-buttons div {\n",
              "      margin-bottom: 4px;\n",
              "    }\n",
              "\n",
              "    [theme=dark] .colab-df-convert {\n",
              "      background-color: #3B4455;\n",
              "      fill: #D2E3FC;\n",
              "    }\n",
              "\n",
              "    [theme=dark] .colab-df-convert:hover {\n",
              "      background-color: #434B5C;\n",
              "      box-shadow: 0px 1px 3px 1px rgba(0, 0, 0, 0.15);\n",
              "      filter: drop-shadow(0px 1px 2px rgba(0, 0, 0, 0.3));\n",
              "      fill: #FFFFFF;\n",
              "    }\n",
              "  </style>\n",
              "\n",
              "    <script>\n",
              "      const buttonEl =\n",
              "        document.querySelector('#df-c5ac5847-f989-46eb-a184-099ef2c44d26 button.colab-df-convert');\n",
              "      buttonEl.style.display =\n",
              "        google.colab.kernel.accessAllowed ? 'block' : 'none';\n",
              "\n",
              "      async function convertToInteractive(key) {\n",
              "        const element = document.querySelector('#df-c5ac5847-f989-46eb-a184-099ef2c44d26');\n",
              "        const dataTable =\n",
              "          await google.colab.kernel.invokeFunction('convertToInteractive',\n",
              "                                                    [key], {});\n",
              "        if (!dataTable) return;\n",
              "\n",
              "        const docLinkHtml = 'Like what you see? Visit the ' +\n",
              "          '<a target=\"_blank\" href=https://colab.research.google.com/notebooks/data_table.ipynb>data table notebook</a>'\n",
              "          + ' to learn more about interactive tables.';\n",
              "        element.innerHTML = '';\n",
              "        dataTable['output_type'] = 'display_data';\n",
              "        await google.colab.output.renderOutput(dataTable, element);\n",
              "        const docLink = document.createElement('div');\n",
              "        docLink.innerHTML = docLinkHtml;\n",
              "        element.appendChild(docLink);\n",
              "      }\n",
              "    </script>\n",
              "  </div>\n",
              "\n",
              "\n",
              "<div id=\"df-b4b2e5d2-2526-463a-bacd-bd8f6d7ea90e\">\n",
              "  <button class=\"colab-df-quickchart\" onclick=\"quickchart('df-b4b2e5d2-2526-463a-bacd-bd8f6d7ea90e')\"\n",
              "            title=\"Suggest charts\"\n",
              "            style=\"display:none;\">\n",
              "\n",
              "<svg xmlns=\"http://www.w3.org/2000/svg\" height=\"24px\"viewBox=\"0 0 24 24\"\n",
              "     width=\"24px\">\n",
              "    <g>\n",
              "        <path d=\"M19 3H5c-1.1 0-2 .9-2 2v14c0 1.1.9 2 2 2h14c1.1 0 2-.9 2-2V5c0-1.1-.9-2-2-2zM9 17H7v-7h2v7zm4 0h-2V7h2v10zm4 0h-2v-4h2v4z\"/>\n",
              "    </g>\n",
              "</svg>\n",
              "  </button>\n",
              "\n",
              "<style>\n",
              "  .colab-df-quickchart {\n",
              "      --bg-color: #E8F0FE;\n",
              "      --fill-color: #1967D2;\n",
              "      --hover-bg-color: #E2EBFA;\n",
              "      --hover-fill-color: #174EA6;\n",
              "      --disabled-fill-color: #AAA;\n",
              "      --disabled-bg-color: #DDD;\n",
              "  }\n",
              "\n",
              "  [theme=dark] .colab-df-quickchart {\n",
              "      --bg-color: #3B4455;\n",
              "      --fill-color: #D2E3FC;\n",
              "      --hover-bg-color: #434B5C;\n",
              "      --hover-fill-color: #FFFFFF;\n",
              "      --disabled-bg-color: #3B4455;\n",
              "      --disabled-fill-color: #666;\n",
              "  }\n",
              "\n",
              "  .colab-df-quickchart {\n",
              "    background-color: var(--bg-color);\n",
              "    border: none;\n",
              "    border-radius: 50%;\n",
              "    cursor: pointer;\n",
              "    display: none;\n",
              "    fill: var(--fill-color);\n",
              "    height: 32px;\n",
              "    padding: 0;\n",
              "    width: 32px;\n",
              "  }\n",
              "\n",
              "  .colab-df-quickchart:hover {\n",
              "    background-color: var(--hover-bg-color);\n",
              "    box-shadow: 0 1px 2px rgba(60, 64, 67, 0.3), 0 1px 3px 1px rgba(60, 64, 67, 0.15);\n",
              "    fill: var(--button-hover-fill-color);\n",
              "  }\n",
              "\n",
              "  .colab-df-quickchart-complete:disabled,\n",
              "  .colab-df-quickchart-complete:disabled:hover {\n",
              "    background-color: var(--disabled-bg-color);\n",
              "    fill: var(--disabled-fill-color);\n",
              "    box-shadow: none;\n",
              "  }\n",
              "\n",
              "  .colab-df-spinner {\n",
              "    border: 2px solid var(--fill-color);\n",
              "    border-color: transparent;\n",
              "    border-bottom-color: var(--fill-color);\n",
              "    animation:\n",
              "      spin 1s steps(1) infinite;\n",
              "  }\n",
              "\n",
              "  @keyframes spin {\n",
              "    0% {\n",
              "      border-color: transparent;\n",
              "      border-bottom-color: var(--fill-color);\n",
              "      border-left-color: var(--fill-color);\n",
              "    }\n",
              "    20% {\n",
              "      border-color: transparent;\n",
              "      border-left-color: var(--fill-color);\n",
              "      border-top-color: var(--fill-color);\n",
              "    }\n",
              "    30% {\n",
              "      border-color: transparent;\n",
              "      border-left-color: var(--fill-color);\n",
              "      border-top-color: var(--fill-color);\n",
              "      border-right-color: var(--fill-color);\n",
              "    }\n",
              "    40% {\n",
              "      border-color: transparent;\n",
              "      border-right-color: var(--fill-color);\n",
              "      border-top-color: var(--fill-color);\n",
              "    }\n",
              "    60% {\n",
              "      border-color: transparent;\n",
              "      border-right-color: var(--fill-color);\n",
              "    }\n",
              "    80% {\n",
              "      border-color: transparent;\n",
              "      border-right-color: var(--fill-color);\n",
              "      border-bottom-color: var(--fill-color);\n",
              "    }\n",
              "    90% {\n",
              "      border-color: transparent;\n",
              "      border-bottom-color: var(--fill-color);\n",
              "    }\n",
              "  }\n",
              "</style>\n",
              "\n",
              "  <script>\n",
              "    async function quickchart(key) {\n",
              "      const quickchartButtonEl =\n",
              "        document.querySelector('#' + key + ' button');\n",
              "      quickchartButtonEl.disabled = true;  // To prevent multiple clicks.\n",
              "      quickchartButtonEl.classList.add('colab-df-spinner');\n",
              "      try {\n",
              "        const charts = await google.colab.kernel.invokeFunction(\n",
              "            'suggestCharts', [key], {});\n",
              "      } catch (error) {\n",
              "        console.error('Error during call to suggestCharts:', error);\n",
              "      }\n",
              "      quickchartButtonEl.classList.remove('colab-df-spinner');\n",
              "      quickchartButtonEl.classList.add('colab-df-quickchart-complete');\n",
              "    }\n",
              "    (() => {\n",
              "      let quickchartButtonEl =\n",
              "        document.querySelector('#df-b4b2e5d2-2526-463a-bacd-bd8f6d7ea90e button');\n",
              "      quickchartButtonEl.style.display =\n",
              "        google.colab.kernel.accessAllowed ? 'block' : 'none';\n",
              "    })();\n",
              "  </script>\n",
              "</div>\n",
              "\n",
              "    </div>\n",
              "  </div>\n"
            ],
            "application/vnd.google.colaboratory.intrinsic+json": {
              "type": "dataframe",
              "summary": "{\n  \"name\": \"df\",\n  \"rows\": 10,\n  \"fields\": [\n    {\n      \"column\": \"text\",\n      \"properties\": {\n        \"dtype\": \"string\",\n        \"num_unique_values\": 10,\n        \"samples\": [\n          \"https://example.com/resource/\\u062a\\u0643\\u062b\\u0650\\u0631 \\u064f\\u0627\\u064f\\u0644\\u062a\\u0650\\u062d\\u064c\\u0644\\u0650\\u064a\\u064e\\u0644\\u064b\\u0627\\u0652\\u062a \\u064b\\u0648\\u0652\\u0627\\u064f\\u0644\\u0652\\u0645\\u064c\\u062a\\u0627\\u0628\\u0652\\u0639\\u064c\\u0627\\u064b\\u062a\\u064b \\u0627\\u0650\\u0644\\u062a\\u0652\\u064a\\u064b \\u064d\\u062a\\u0624\\u064c\\u0643\\u064d\\u062f\\u064d \\u064e\\u062a\\u0631\\u0652\\u0627\\u062c\\u0650\\u0639 \\u064f\\u0645\\u0639\\u0650\\u062f\\u0644\\u0627\\u064f\\u062a\\u064e \\u064b\\u0627\\u0644\\u0652\\u0642\\u064f\\u0631\\u0652\\u0627\\u064e\\u0621\\u064e\\u0629\\u064f \\u0641\\u064a\\u064e \\u0652\\u0627\\u064b\\u0644\\u0623\\u064c\\u0642\\u0637\\u0650\\u0627\\u064d\\u0631\\u0651 \\u064c\\u0627\\u0644\\u064b\\u0639\\u064e\\u0631\\u0628\\u064a\\u0629\\u064d \\u0645\\u0642\\u0627\\u0631\\u0652\\u0646\\u064d\\u0629 \\u0628\\u0628\\u0644\\u064c\\u062f\\u064d\\u0627\\u0646\\u064e \\u0652\\u0623\\u0648\\u064f\\u0631\\u0648\\u0651\\u0628\\u064c\\u064a\\u064b\\u0629 \\u0650\\u0623\\u0648 \\u064b\\u0622\\u0633\\u064b\\u064a\\u0648\\u064a\\u0651\\u0629\\u0652 \\u0623\\u064b\\u062e\\u0631\\u0649\\u064d\\u060c\\u0651 \\u064d\\u0648\\u062a\\u0634\\u064d\\u064a\\u0651\\u0631\\u0652 \\u0628\\u0639\\u0636 \\u0647\\u064d\\u0630\\u0647 \\u0651\\u0627\\u064d\\u0644\\u062a\\u062d\\u0644\\u064a\\u0644\\u0627\\u0650\\u062a \\u0650\\u0625\\u064f\\u0644\\u0649\\u0652 \\u0636\\u0639\\u0641 \\u0627\\u0644\\u0645\\u064d\\u062d\\u0650\\u062a\\u0648\\u064f\\u0649 \\u0627\\u0651\\u0644\\u064c\\u062b\\u0642\\u0652\\u0627\\u0641\\u064a \\u064b\\u0627\\u064c\\u0644\\u0639\\u0651\\u0631\\u064d\\u0628\\u064a \\u0652\\u0639\\u0644\\u064f\\u0649 \\u0627\\u064f\\u0644\\u0625\\u0646\\u062a\\u0631\\u0652\\u0646\\u064e\\u062a\\u060c \\u0648\\u0631\\u0651\\u0648\\u064e\\u0627\\u0650\\u062c\\u064d \\u0643\\u062a\\u064b\\u0628 \\u064d\\u0627\\u064d\\u0644\\u0637\\u0628\\u062e \\u064b\\u0648\\u0645\\u064f\\u062c\\u064d\\u0644\\u0652\\u0627\\u062a \\u064d\\u0627\\u064b\\u0644\\u0645\\u0648\\u064d\\u0636\\u064e\\u0629\\u0650 \\u0648\\u0651\\u0643\\u0651\\u0644\\u0652 \\u0645\\u0652\\u0627\\u0650 \\u0650\\u0644\\u064e\\u0627\\u064f \\u0652\\u064a\\u0645\\u062a \\u064f\\u0625\\u0644\\u0649\\u064d \\u064f\\u0627\\u064c\\u0644\\u062b\\u0642\\u0627\\u064b\\u0641\\u064d\\u0629\\u064e \\u0651\\u0627\\u0644\\u062c\\u0627\\u062f\\u064f\\u0629\\u064c\\u060c\\u064f \\u0623\\u064d\\u064a \\u064f\\u0623\\u064d\\u0646\\u0646\\u064d\\u0627\\u064d \\u0623\\u0645\\u064e\\u0627\\u0645\\u064e \\u064b\\u0631\\u0624\\u064e\\u064a\\u0629\\u064b \\u064e\\u062a\\u064d\\u0646\\u064e\\u062a\\u0642\\u064d\\u062f\\u064c \\u0627\\u064d\\u0646\\u062e\\u064c\\u0641\\u064b\\u0627\\u0652\\u0636\\u064f \\u0627\\u0644\\u0625\\u0652\\u0642\\u0628\\u064e\\u0627\\u0644 \\u0639\\u0644\\u0649 \\u0646\\u0648\\u0639\\u064a\\u0629\\u064d \\u0645\\u0639\\u0651\\u064a\\u0646\\u0629 \\u064b\\u0645\\u0646 \\u0627\\u0652\\u0644\\u064f\\u0643\\u062a\\u0651\\u0627\\u0628\\u064f\\u0629\\u060c\\u0650 \\u0648\\u0647\\u064a \\u064c\\u0627\\u0644\\u0631\\u0624\\u064a\\u064e\\u0629\\u064d \\u0650\\u0627\\u0644\\u062a\\u064a\\u0652 \\u0623\\u0641\\u0627\\u0636\\u064f\\u062a \\u0623\\u0651\\u064a\\u0636\\u0627\\u0650\\u064b \\u0641\\u0652\\u064a\\u0652 \\u0623\\u064c\\u0633\\u0650\\u0628\\u064f\\u0627\\u064d\\u0628\\u064f \\u0651\\u0647\\u0650\\u0630\\u0627 \\u0627\\u064b\\u0644\\u064f\\u0627\\u0652\\u0646\\u062e\\u0641\\u0627\\u0636\\u064f\\u060c\\u0652 \\u0648\\u0647\\u064a \\u0641\\u064b\\u064a \\u064c\\u0645\\u064c\\u0639\\u0638\\u0645\\u0647\\u0652\\u0627 \\u0651\\u063a\\u064e\\u064a\\u0651\\u0631 \\u0645\\u0650\\u0642\\u0646\\u0639\\u0651\\u0629\\u060c\\u064f \\u0641\\u0627\\u0644\\u0627\\u062a\\u062c\\u0627\\u0647 \\u0625\\u0644\\u0650\\u0649\\u064e \\u0627\\u0644\\u0641\\u064b\\u0636\\u064f\\u0627\\u064b\\u0626\\u064a\\u064d\\u0627\\u062a\\u064d \\u0648\\u0627\\u064c\\u0644\\u0650\\u0625\\u064d\\u0646\\u062a\\u0650\\u0631\\u0652\\u0646\\u064b\\u062a \\u0638\\u064b\\u0627\\u0651\\u0647\\u064d\\u0631\\u0629 \\u0639\\u064f\\u0627\\u0644\\u0645\\u064e\\u064a\\u0629 \\u064d\\u0644\\u0627\\u0652 \\u064e\\u062a\\u064e\\u062a\\u0639\\u0644\\u0642\\u064b \\u064f\\u0628\\u064b\\u0627\\u0644\\u064c\\u0623\\u0642\\u0637\\u064d\\u0627\\u064f\\u0631\\u0651 \\u0627\\u0644\\u0639\\u0631\\u0628\\u0650\\u064a\\u064f\\u0629\\u064f \\u0650\\u0648\\u062d\\u0633\\u0628\\u064c\\u060c \\u0650\\u0648\\u064d\\u062a\\u0631\\u0627\\u064b\\u062c\\u0651\\u0639 \\u062c\\u064b\\u0648\\u064b\\u062f\\u0652\\u0629 \\u064b\\u0627\\u0644\\u062a\\u064f\\u0639\\u0644\\u064a\\u0651\\u0645\\u064b \\u064f\\u0627\\u0644\\u064b\\u0631\\u064c\\u0627\\u0652\\u0647\\u0652\\u0646\\u064e \\u0650\\u064a\\u064b\\u063a\\u064f\\u0636\\u064d \\u0650\\u0627\\u064d\\u0644\\u064f\\u0637\\u064d\\u0631\\u0641\\u064e \\u0639\\u0646\\u064c \\u0650\\u0627\\u064f\\u0631\\u064f\\u062a\\u0641\\u064e\\u0627\\u0639 \\u0641\\u0651\\u064a\\u064f \\u064d\\u0646\\u064e\\u0633\\u0628\\u0650 \\u0627\\u0644\\u0652\\u0625\\u0642\\u0628\\u064e\\u0627\\u0644 \\u0652\\u0639\\u064c\\u0644\\u064d\\u0649 \\u064d\\u0627\\u0651\\u0644\\u0643\\u062a\\u064f\\u0627\\u0628\\u0651 \\u0641\\u0650\\u064a \\u064f\\u0623\\u0650\\u0632\\u0645\\u064c\\u0646\\u0629 \\u064c\\u0633\\u0627\\u0628\\u064e\\u0642\\u064f\\u0629 \\u064c\\u0646\\u062f\\u064f\\u0631\\u064b \\u0651\\u0641\\u064a\\u0650\\u0647\\u0627 \\u0627\\u064f\\u0644\\u0650\\u062a\\u0639\\u064d\\u0644\\u064e\\u064a\\u0645\\u060c \\u0652\\u0648\\u0650\\u063a\\u064e\\u064a\\u064e\\u0627\\u064c\\u0628 \\u0627\\u0650\\u0644\\u062a\\u0651\\u0631\\u0648\\u0651\\u064a\\u064b\\u062c \\u0652\\u0627\\u0650\\u0644\\u064f\\u062c\\u064a\\u062f\\u064c \\u0652\\u0644\\u0644\\u0650\\u0643\\u062a\\u0627\\u0628 \\u0644\\u0646\\u0651 \\u064a\\u064e\\u0646\\u0633\\u064f\\u064a\\u0646\\u0627\\u0651 \\u0645\\u0627\\u0636\\u0650\\u064a\\u0627\\u064e\\u064b \\u0644\\u064d\\u064a\\u064d\\u0633\\u0650 \\u0628\\u0650\\u0627\\u0644\\u0651\\u0628\\u0639\\u0651\\u064a\\u062f \\u0650\\u0644\\u064c\\u0645\\u064e \\u062a\\u064f\\u0643\\u0646\\u064b \\u0650\\u0641\\u064a\\u064b\\u0647\\u064d \\u0623\\u064a \\u0622\\u0651\\u0644\\u064d\\u064a\\u064d\\u0627\\u062a\\u064c \\u064f\\u062a\\u064d\\u0631\\u0648\\u062c\\u0652 \\u0652\\u0644\\u064c\\u0644\\u064b\\u0643\\u062a\\u0627\\u0628\\u0650\\u060c\\u064c \\u064c\\u0648\\u064f\\u062a\\u064c\\u0631\\u064d\\u0628\\u064a\\u0629\\u064e \\u0627\\u064b\\u0644\\u064b\\u0637\\u0641\\u064d\\u0644 \\u0651\\u0639\\u064b\\u0644\\u064b\\u0649\\u064d \\u0651\\u0639\\u0627\\u062f\\u064e\\u0629 \\u0627\\u064f\\u0644\\u0642\\u0652\\u0631\\u064e\\u0627\\u064b\\u0621\\u064f\\u0629 \\u064a\\u064d\\u062f\\u0641\\u0652\\u0639\\u0646\\u0650\\u0627\\u064c \\u0625\\u0644\\u0649\\u0650 \\u0627\\u0644\\u0633\\u0624\\u0650\\u0627\\u0644\\u060c \\u064e\\u0648\\u0645\\u0646\\u0650\\u0630 \\u0645\\u062a\\u0649 \\u064e\\u0627\\u0647\\u062a\\u0645\\u062a \\u064e\\u0627\\u0650\\u0644\\u0623\\u064e\\u0633\\u064c\\u0631\\u064d\\u0629 \\u0651\\u0627\\u0644\\u0651\\u0639\\u0631\\u064c\\u0628\\u064c\\u064a\\u0629 \\u0650\\u0628\\u064e\\u0627\\u064c\\u0644\\u0642\\u0631\\u064f\\u0627\\u0621\\u0629\\u061f\\u0625\\u0646 \\u064d\\u0627\\u0651\\u0644\\u0651\\u0623\\u064e\\u0633\\u0628\\u0627\\u064f\\u0628\\u0650 \\u0627\\u0650\\u0644\\u062a\\u064f\\u064a \\u062a\\u064d\\u0642\\u0627\\u0651\\u0644\\u064d \\u0652\\u062f\\u0627\\u0652\\u0626\\u0645\\u064f\\u0627\\u064b\\u0652 \\u064c\\u0644\\u062a\\u0641\\u0633\\u0631\\u064f \\u0627\\u0646\\u0651\\u062e\\u0641\\u0652\\u0627\\u0636\\u064b \\u064d\\u0645\\u0639\\u062f\\u0644\\u0650\\u0627\\u062a\\u064c \\u0627\\u0644\\u0642\\u0631\\u0627\\u064f\\u0621\\u064c\\u0629\\u064d \\u064f\\u0623\\u0648 \\u0636\\u064f\\u0639\\u064c\\u0641 \\u0627\\u064e\\u0644\\u0652\\u0625\\u064f\\u0642\\u064d\\u0628\\u0652\\u0627\\u064e\\u0644\\u0650 \\u0639\\u0644\\u0649\\u064d \\u064b\\u0634\\u064f\\u0631\\u0627\\u0621 \\u064f\\u0627\\u0644\\u0651\\u0643\\u062a\\u0627\\u0628\\u0650 \\u064f\\u0641\\u0650\\u064a\\u064c \\u0631\\u064e\\u0627\\u0647\\u0646 \\u064c\\u0627\\u0652\\u0644\\u062b\\u064b\\u0642\\u0627\\u064d\\u0641\\u0629\\u064f \\u0627\\u0644\\u064d\\u0639\\u0631\\u0650\\u0628\\u064a\\u0650\\u0629 \\u064e\\u0644\\u0627\\u064f \\u064b\\u062a\\u0651\\u0635\\u0645\\u062f \\u0623\\u0650\\u0645\\u0627\\u064f\\u0645 \\u0627\\u064d\\u0644\\u0650\\u0645\\u0642\\u064d\\u0627\\u064d\\u0631\\u064f\\u0646\\u0651\\u0629 \\u0628\\u0651\\u0641\\u062a\\u064d\\u0631\\u0627\\u062a\\u0652 \\u064b\\u0644\\u0652\\u064a\\u0651\\u0633\\u062a \\u064e\\u0628\\u0628\\u064b\\u0639\\u064d\\u064a\\u064f\\u062f\\u064e\\u0629\\u0652 \\u064c\\u0641\\u064a\\u0651 \\u062a\\u0627\\u0631\\u064a\\u0652\\u062e\\u064d\\u0646\\u064c\\u0627 \\u0651\\u0627\\u064b\\u0644\\u064d\\u062d\\u064c\\u062f\\u064a\\u0650\\u062b\\u060c \\u064c\\u0648\\u0646\\u062d\\u0646\\u0651 \\u064b\\u0646\\u0651\\u0639\\u062a\\u0642\\u064c\\u062f \\u064c\\u0623\\u0646\\u064f \\u062e\\u0637\\u0648\\u064f\\u062a\\u0650\\u064a\\u0646 \\u0631\\u0626\\u064a\\u0650\\u0633\\u064e\\u062a\\u0651\\u064a\\u0650\\u0646 \\u0651\\u0641\\u0652\\u064a \\u0647\\u0630\\u064e\\u0647 \\u0652\\u0627\\u0651\\u0644\\u0642\\u0636\\u064d\\u064a\\u0629\\u0650 \\u064d\\u0644\\u0645 \\u0652\\u064a\\u0646\\u062a\\u0628\\u064d\\u0647\\u0652 \\u064d\\u0625\\u0644\\u064a\\u0652\\u0647\\u064f\\u0645\\u0627 \\u064b\\u0645\\u064d\\u0639\\u0638\\u064d\\u0645 \\u0645\\u0646 \\u064e\\u0637\\u064e\\u0631\\u062d\\u0652\\u0648\\u0650\\u0627 \\u0647\\u0630\\u0652\\u0647 \\u0627\\u0644\\u062a\\u0641\\u0652\\u0633\\u064f\\u064a\\u0631\\u0652\\u0627\\u064d\\u062a\\u064d\\u060c\\u064d \\u064f\\u0627\\u0644\\u0652\\u0623\\u0648\\u0644\\u0649 \\u0651\\u063a\\u064a\\u064f\\u0627\\u064f\\u0628\\u0652 \\u0651\\u0625\\u062d\\u064d\\u0635\\u0650\\u0627\\u0651\\u0621\\u0627\\u062a \\u064b\\u062d\\u0642\\u064a\\u0642\\u064c\\u064a\\u0629 \\u0644\\u0645\\u0628\\u0652\\u064a\\u0639\\u0627\\u064d\\u062a \\u0627\\u0644\\u0643\\u0651\\u062a\\u0628\\u0651 \\u0648\\u064e\\u0627\\u0650\\u0644\\u0645\\u062c\\u064e\\u0644\\u0627\\u062a \\u0650\\u0627\\u0644\\u062b\\u064c\\u0642\\u064b\\u0627\\u0641\\u0650\\u064a\\u064e\\u0629 \\u064b\\u0648\\u064d\\u0627\\u064e\\u0644\\u062f\\u0650\\u0648\\u0631\\u064b\\u064a\\u064b\\u0627\\u062a\\u0650 \\u0651\\u0627\\u0652\\u0644\\u064c\\u0623\\u064e\\u062f\\u064e\\u0628\\u064a\\u0629\\u0650 \\u0627\\u0644\\u0652\\u0645\\u0650\\u062a\\u0652\\u062e\\u0652\\u0635\\u064d\\u0635\\u064e\\u0629\\u060c \\u064d\\u062a\\u064d\\u062a\\u0633\\u064c\\u0645 \\u0628\\u0651\\u0627\\u0644\\u062f\\u064e\\u0642\\u0629\\u064f \\u0648\\u064d\\u062a\\u062a\\u0650\\u062c\\u0627\\u0651\\u0648\\u064b\\u0632 \\u064b\\u0627\\u0651\\u0644\\u064b\\u0627\\u064e\\u0646\\u064e\\u0637\\u064d\\u0628\\u064b\\u0627\\u0651\\u0639\\u0627\\u064b\\u062a \\u064b\\u0627\\u0650\\u0644\\u064f\\u0634\\u064f\\u062e\\u064e\\u0635\\u064a\\u0629\\u0652 \\u064d\\u0641\\u064a\\u064b \\u064d\\u0627\\u064d\\u0644\\u062a\\u0639\\u0627\\u0637\\u064b\\u064a\\u064f \\u0645\\u0651\\u0639 \\u0627\\u0644\\u064f\\u0645\\u0650\\u0633\\u0623\\u064f\\u0644\\u0629\\u064e\\u060c \\u064b\\u0648\\u0623\\u064a\\u0636\\u0627\\u0651\\u064b \\u062a\\u064f\\u0631\\u0627\\u064c\\u0639\\u064a \\u0650\\u0627\\u064e\\u0644\\u064f\\u062a\\u063a\\u064a\\u064f\\u0631 \\u064d\\u0627\\u0650\\u0644\\u064b\\u062d\\u0627\\u0651\\u062f\\u062b \\u064f\\u0645\\u064f\\u0646 \\u0639\\u064c\\u0627\\u0650\\u0645 \\u0625\\u0644\\u064f\\u0649\\u0652 \\u064c\\u0622\\u062e\\u0651\\u0631\\u060c\\u064d \\u0648\\u064d\\u0625\\u0644\\u0627 \\u064e\\u0643\\u064a\\u064d\\u0641 \\u0646\\u0641\\u064f\\u0647\\u0645\\u064c \\u0652\\u0645\\u064f\\u062a\\u0627\\u0628\\u0639\\u0652\\u0627\\u064d\\u062a\\u0652 \\u0623\\u062e\\u0631\\u064f\\u0649\\u064e \\u062a\\u064e\\u0624\\u0650\\u0643\\u062f \\u0627\\u064b\\u0644\\u0631\\u064d\\u0648\\u064d\\u0627\\u0650\\u062c\\u0652 \\u064c\\u0627\\u0644\\u0646\\u0652\\u0633\\u0628\\u064b\\u064a \\u064c\\u0644\\u0644\\u064d\\u0631\\u064e\\u0648\\u0652\\u0627\\u064d\\u064a\\u0629\\u064b\\u061f\\u0627\\u0644\\u064f\\u062e\\u064c\\u0637\\u064e\\u0648\\u064d\\u0629\\u064d \\u0627\\u0644\\u062b\\u0627\\u064e\\u0646\\u0652\\u064a\\u0629 \\u064c\\u062a\\u064f\\u062a\\u0645\\u064f\\u062b\\u064f\\u0644 \\u0641\\u064a\\u064d \\u0650\\u0636\\u0631\\u0651\\u0648\\u0631\\u0651\\u0629 \\u0641\\u0650\\u062a\\u062d \\u062d\\u0648\\u0627\\u0631\\u064d \\u062d\\u0642\\u064a\\u064b\\u0642\\u0652\\u064a \\u062d\\u064b\\u0648\\u0652\\u0644 \\u0627\\u064f\\u0644\\u0645\\u062a\\u0644\\u064c\\u0642\\u0650\\u064a\\u060c \\u064e\\u0641\\u064e\\u0628\\u0627\\u064f\\u0644\\u062a\\u0623\\u0643\\u064a\\u0651\\u062f \\u064b\\u0647\\u064d\\u0646\\u0651\\u0627\\u0643 \\u0651\\u0627\\u0644\\u064f\\u0643\\u064d\\u062b\\u064e\\u064a\\u064e\\u0631\\u064f \\u0645\\u0651\\u0646 \\u0627\\u0644\\u064f\\u0623\\u064e\\u0633\\u0650\\u0628\\u064d\\u0627\\u064f\\u0628\\u064f \\u0627\\u064d\\u0644\\u064e\\u062a\\u064a\\u0652 \\u064f\\u062f\\u064d\\u0641\\u064d\\u0639\\u062a \\u0642\\u064d\\u0637\\u064e\\u0627\\u064b\\u0639\\u0651\\u0627\\u064b \\u064d\\u0645\\u0646\\u064f \\u064d\\u0627\\u064b\\u0644\\u0642\\u0631\\u0652\\u0627\\u0650\\u0621\\u064c \\u064d\\u0625\\u064b\\u0644\\u0649\\u064d \\u0627\\u0644\\u064b\\u0627\\u0646\\u0651\\u0635\\u0631\\u064e\\u0627\\u0641 \\u0639\\u0646\\u0652 \\u0651\\u0627\\u0652\\u0644\\u064d\\u0643\\u062a\\u064f\\u0627\\u064e\\u0628\\u0629\\u064f \\u0627\\u0644\\u062a\\u0651\\u064a \\u064b\\u062a\\u064e\\u062a\\u064d\\u062e\\u0650\\u064a\\u0644 \\u0627\\u0644\\u0646\\u064b\\u062e\\u064d\\u0628\\u064c\\u0629 \\u064c\\u0623\\u064e\\u0646\\u064b\\u0647\\u064d\\u0627\\u064e \\u0651\\u062c\\u064f\\u0627\\u062f\\u0629\\u0652\\u060c \\u0652\\u0648\\u0652\\u0647\\u064e\\u0646\\u0650\\u0627\\u064c\\u0643\\u064c \\u0623\\u064e\\u064a\\u0651\\u0636\\u064c\\u0627\\u064b \\u064c\\u0627\\u0644\\u0643\\u062b\\u064a\\u0651\\u0631 \\u064f\\u0645\\u0650\\u0646 \\u0627\\u0644\\u0642\\u0652\\u0636\\u0627\\u0651\\u064a\\u0650\\u0627 \\u064d\\u0627\\u0644\\u062a\\u064a \\u064a\\u0639\\u062a\\u064f\\u0628\\u064f\\u0631\\u064e\\u0647\\u064f\\u0627\\u0650 \\u0652\\u0627\\u0644\\u0642\\u064b\\u0631\\u0627\\u0651\\u0621\\u064e \\u062c\\u0627\\u062f\\u064e\\u0629 \\u064b\\u0648\\u064f\\u0623\\u0652\\u0647\\u0645\\u0652\\u0644\\u064c\\u062a\\u0651\\u0647\\u0627\\u0651 \\u0650\\u0627\\u0644\\u064b\\u0646\\u064c\\u062e\\u0628\\u0650\\u0629 \\u064d\\u0627\\u0651\\u0644\\u0645\\u0634\\u064b\\u062a\\u063a\\u0651\\u0644\\u0629\\u064b \\u064b\\u0628\\u0627\\u0644\\u0651\\u0643\\u062a\\u064b\\u0627\\u0652\\u0628\\u0629\\u064e\\u060c\\u064f \\u0648\\u0650\\u0647\\u0648 \\u064c\\u062d\\u064c\\u0648\\u064e\\u0627\\u064b\\u0631\\u064d \\u0644\\u0627 \\u0628\\u064c\\u062f\\u064d \\u0623\\u0646\\u0652 \\u064e\\u064a\\u0624\\u064b\\u0633\\u0651\\u0633\\u064d \\u0639\\u0644\\u0649\\u064e \\u062f\\u0652\\u0631\\u0627\\u0633\\u0652\\u0627\\u062a\\u064d \\u064e\\u064a\\u064e\\u0634\\u062a\\u064d\\u0631\\u064d\\u0643\\u0650 \\u064d\\u0641\\u064d\\u064a\\u0647\\u0627\\u064c \\u0645\\u064d\\u0628\\u0652\\u062f\\u0639\\u064e\\u0648\\u0652\\u0646 \\u0648\\u064c\\u0645\\u062a\\u062e\\u0635\\u0651\\u0635\\u0648\\u0646 \\u0650\\u0641\\u064a\\u064f \\u0627\\u0644\\u0625\\u064d\\u062d\\u064f\\u0635\\u0627\\u0621 \\u0648\\u0639\\u0644\\u0645\\u0650 \\u0627\\u0644\\u0627\\u062c\\u062a\\u0645\\u064d\\u0627\\u0639\\u0651 .\\u064b \\u0652.\\u0651 \\u064b\\u0625\\u0644\\u062e .\\u0625\\u0651\\u0646 \\u0651\\u0627\\u0644\\u0648\\u0635\\u0648\\u064b\\u0644\\u064c \\u064d\\u0628\\u0627\\u0650\\u0644\\u0652\\u0643\\u062a\\u0627\\u0628\\u064f\\u0629 \\u0627\\u064d\\u0644\\u064d\\u062a\\u064a\\u064c \\u0646\\u064f\\u062a\\u0650\\u0635\\u0648\\u0631\\u064d \\u064c\\u0623\\u0646\\u0652\\u0647\\u064e\\u0627\\u064b \\u0650\\u062c\\u064f\\u0627\\u062f\\u0629\\u0650 \\u0625\\u0644\\u0649 \\u0652\\u0627\\u0644\\u062c\\u0652\\u0645\\u064d\\u0647\\u0648\\u064c\\u0631 \\u064f\\u0644\\u064f\\u064a\\u0633\\u064d\\u062a\\u064f \\u0652\\u0628\\u0627\\u064e\\u0644\\u0639\\u064b\\u0645\\u0644\\u0651\\u064a\\u0629 \\u0627\\u0644\\u064b\\u0633\\u0647\\u0652\\u0644\\u0629 \\u064e\\u0623\\u0652\\u0648\\u064f \\u0627\\u064e\\u0644\\u0628\\u0650\\u0633\\u0650\\u064a\\u0637\\u0652\\u0629\\u064b\\u060c \\u064f\\u0648\\u064b\\u064a\\u064c\\u0642\\u064f\\u0639\\u0651 \\u0627\\u064c\\u0644\\u064d\\u0639\\u0628\\u064b\\u0621\\u064c \\u0651\\u0627\\u064e\\u0644\\u0631\\u0652\\u0626\\u064a\\u0633 \\u0650\\u0641\\u064a\\u0650\\u0647\\u0627\\u064d \\u0639\\u064b\\u0644\\u064d\\u0649 \\u0627\\u0644\\u0645\\u0651\\u0628\\u062f\\u064e\\u0639\\u064c\\u064a\\u0646 \\u064b\\u0623\\u0646\\u064e\\u0641\\u064c\\u0633\\u0647\\u0645 \\u064b\\u0645\\u0646\\u064e \\u062e\\u0644\\u0627\\u0644 \\u064b\\u0623\\u0633\\u064b\\u0626\\u0644\\u0629 \\u0639\\u062f\\u0650\\u0629\\u0651 \\u0650\\u062a\\u064c\\u062a\\u064f\\u0639\\u0644\\u0642 \\u064f\\u0628\\u0645\\u0650\\u0641\\u0647\\u0648\\u0650\\u0645 \\u0627\\u0644\\u064c\\u0646\\u0651\\u062e\\u0650\\u0628\\u0629\\u064e \\u0648\\u0627\\u0644\\u0650\\u0645\\u064f\\u0633\\u064b\\u0627\\u0626\\u0644\\u0651 \\u0627\\u0644\\u064d\\u062a\\u0652\\u064a\\u064e \\u062a\\u0650\\u0637\\u0631\\u064c\\u062d\\u0647\\u064e\\u0627\\u064e \\u0627\\u0644\\u064c\\u0643\\u062a\\u0627\\u0651\\u0628\\u0629 \\u0644\\u0644\\u064c\\u0646\\u0642\\u064d\\u0627\\u0650\\u0634\\u064b\\u060c\\u064e \\u0648\\u064f\\u0642\\u064e\\u062f\\u0631\\u064c\\u0629 \\u0652\\u0627\\u064b\\u0644\\u064d\\u0628\\u064c\\u0639\\u0636\\u0651 \\u0652\\u0639\\u064c\\u0644\\u0649 \\u0650\\u0627\\u0644\\u064b\\u062e\\u0631\\u064f\\u0648\\u062c\\u0652 \\u0645\\u0652\\u0646\\u064d \\u064c\\u0630\\u0652\\u0648\\u0652\\u0627\\u0650\\u062a\\u0647\\u0645\\u064f \\u064f\\u0648\\u064f\\u0647\\u0651\\u0645\\u064c \\u064a\\u064e\\u0643\\u064c\\u062a\\u064e\\u0628\\u0648\\u0646\\u060c\\u0651 \\u064b\\u0641\\u0627\\u064d\\u0644\\u062a\\u062c\\u064c\\u0627\\u0631\\u064e\\u0628 \\u0652\\u0634\\u062f\\u064a\\u062f\\u064c\\u0629 \\u0650\\u0627\\u0644\\u062e\\u064b\\u0635\\u064c\\u0648\\u064e\\u0635\\u064d\\u064a\\u0629\\u064d \\u0623\\u0652\\u0635\\u0628\\u062d\\u062a\\u064f \\u062a\\u0647\\u064f\\u064a\\u0645\\u064f\\u0646\\u0651 \\u064e\\u0639\\u064f\\u0644\\u0649\\u0652 \\u064f\\u062c\\u0632\\u0651\\u0621\\u064e \\u0643\\u0650\\u0628\\u064a\\u064d\\u0631\\u0650 \\u0652\\u0645\\u0646 \\u064f\\u0627\\u0650\\u0644\\u0625\\u0651\\u0628\\u062f\\u0627\\u064f\\u0639\\u060c\\u064e \\u0648\\u064c\\u0646\\u064d\\u062d\\u064e\\u0646 \\u064b\\u0646\\u064f\\u0641\\u064f\\u0647\\u064c\\u0645 \\u0623\\u0652\\u0646\\u064f \\u0643\\u0644 \\u064c\\u0643\\u062a\\u064b\\u0627\\u0628\\u0629 \\u0647\\u064a \\u062a\\u064c\\u0639\\u064f\\u0628\\u0651\\u064a\\u0651\\u0631\\u0651 \\u0652\\u0645\\u0650\\u0628\\u0627\\u064b\\u0634\\u0631 \\u064e\\u0623\\u0648 \\u063a\\u064a\\u0631 \\u0645\\u0628\\u064e\\u0627\\u0634\\u0651\\u0631\\u064d \\u064f\\u0639\\u064e\\u0646 \\u0650\\u062a\\u064c\\u062c\\u0631\\u0652\\u0628\\u0651\\u0629\\u064d \\u0650\\u0635\\u064d\\u0627\\u062d\\u0628\\u064f\\u0647\\u0627\\u060c \\u0648\\u0652\\u0644\\u064d\\u0643\\u064c\\u0646\\u064f\\u0652\\u060c \\u064c\\u0647\\u0646\\u0627\\u0643 \\u0641\\u064e\\u0627\\u064d\\u0631\\u0642\\u0651 \\u0628\\u064a\\u064f\\u0646\\u064c \\u062a\\u0652\\u062c\\u0631\\u064e\\u0628\\u064e\\u0629 \\u064b\\u0645\\u062a\\u0650\\u0633\\u0650\\u0639\\u064f\\u0629 \\u064c\\u0648\\u0645\\u0651\\u0646\\u0641\\u0652\\u062a\\u064d\\u062d\\u0629 \\u0652\\u0648\\u064d\\u062b\\u0631\\u064c\\u064a\\u0629\\u0652 \\u0648\\u0651\\u0623\\u0652\\u062e\\u0631\\u0649\\u064c \\u0636\\u064a\\u064d\\u0642\\u0650\\u0629\\u0652 \\u064b\\u0648\\u0645\\u063a\\u064c\\u0644\\u0642\\u0629 \\u0639\\u0650\\u0644\\u0649\\u064c \\u0643\\u062a\\u0627\\u0628\\u064b\\u0629\\u064f \\u064f\\u062a\\u0642\\u064f\\u064a\\u062f\\u0652 \\u0650\\u062a\\u0651\\u062f\\u0648\\u064a\\u064b\\u0631\\u0651 \\u064c\\u0627\\u0644\\u064e\\u0641\\u0643\\u0631\\u0629 \\u0650\\u0646\\u064f\\u0641\\u0633\\u0647\\u0627\\u060c \\u064f\\u0648\\u064d\\u0644\\u064f\\u0627\\u064b \\u062a\\u0651\\u0644\\u062a\\u0650\\u0641\\u062a \\u0625\\u064f\\u0644\\u0649 \\u064f\\u0645\\u062a\\u064c\\u063a\\u0652\\u064a\\u0631\\u064e\\u0627\\u064c\\u062a \\u064c\\u0631\\u064c\\u0628\\u0651\\u0645\\u0627\\u064e \\u0644\\u0648\\u064b \\u0627\\u0647\\u062a\\u0645\\u0651\\u062a\\u0652 \\u0651\\u0628\\u0651\\u0647\\u0627 \\u0644\\u0627\\u0652\\u0643\\u064f\\u062a\\u064f\\u0634\\u0641\\u0651\\u062a\\u0652 \\u0645\\u0646\\u064d\\u0627\\u064d\\u0637\\u064d\\u0642 \\u0645\\u0651\\u062e\\u064c\\u0641\\u064a\\u064f\\u0629 \\u0652\\u062c\\u0651\\u062f\\u064a\\u064d\\u062f\\u0629 \\u064b\\u0641\\u064a \\u064d\\u062a\\u062c\\u0631\\u0651\\u0628\\u0650\\u062a\\u0647\\u064f\\u0627\\u060c \\u0652\\u0645\\u0652\\u0646\\u0627\\u0650\\u0637\\u0642 \\u062a\\u0633\\u064f\\u062a\\u0650\\u0637\\u064e\\u064a\\u0650\\u0639\\u0650 \\u0652\\u0627\\u064e\\u0644\\u0648\\u064d\\u0635\\u0648\\u064b\\u0644 \\u0625\\u064d\\u0644\\u064d\\u0649 \\u0630\\u064b\\u0644\\u0650\\u0643 \\u0627\\u0644\\u0652\\u062e\\u064a\\u0650\\u0637 \\u064f\\u0627\\u064f\\u0644\\u0631\\u0641\\u064c\\u064a\\u064d\\u0639\\u0650 \\u0648\\u0631\\u0628\\u0645\\u0627 \\u0627\\u0644\\u0648\\u0647\\u064d\\u0645\\u064a\\u064b \\u064d\\u0627\\u0644\\u064d\\u0630\\u064f\\u064a\\u0650 \\u064a\\u064e\\u0641\\u0635\\u064d\\u0644 \\u064b\\u0648\\u0623\\u064a\\u064f\\u0636\\u0627\\u0651\\u064b\\u064e \\u064a\\u0635\\u0644\\u0651\\u060c\\u0650 \\u064c\\u0628\\u0650\\u064a\\u0646 \\u0630\\u0627\\u062a\\u064e \\u0627\\u064c\\u0644\\u0643\\u0652\\u0627\\u064c\\u062a\\u0628\\u064b \\u0648\\u0627\\u0652\\u0644\\u0648\\u0627\\u0642\\u064f\\u0639 \\u0627\\u0644\\u0650\\u0645\\u064e\\u062c\\u062a\\u0645\\u0639\\u0650\\u064a \\u0627\\u0644\\u064b\\u0645\\u064f\\u062d\\u064a\\u0637 \\u064e\\u0628\\u0647\\u0650 \\u0651.\",\n          \"https://example.com/resource/\\u0623\\u0652\\u0628\\u0648\\u0650\\u0638\\u0651\\u0628\\u064a\\u0650:\\u064d \\u064d\\u0645\\u064f\\u0631\\u0651\\u064a\\u0652\\u0645 \\u0639\\u0652\\u062f\\u0646\\u0627\\u0646\\u064d \\u0643\\u064f\\u0634\\u0641\\u062a \\u0647\\u064a\\u0626\\u0629\\u064d \\u064e\\u0627\\u064e\\u0644\\u0635\\u062d\\u0650\\u0629\\u064e \\u0641\\u064a \\u0623\\u064b\\u0628\\u0648\\u0650\\u0638\\u064e\\u0628\\u064f\\u064a \\u064b\\u0623\\u0646\\u064d \\u0651\\u0625\\u062c\\u0645\\u064d\\u0627\\u0644\\u0652\\u064a\\u064f \\u0623\\u0639\\u0651\\u062f\\u064c\\u0627\\u062f \\u0627\\u0644\\u064b\\u0623\\u064e\\u0637\\u064b\\u0628\\u0652\\u0627\\u0621\\u0652 \\u0650\\u0627\\u064f\\u0644\\u064e\\u0645\\u064f\\u0642\\u064a\\u0650\\u0645\\u064b\\u064a\\u0646 \\u0627\\u0650\\u0644\\u064d\\u0630\\u064f\\u064a\\u0651\\u0646 \\u064d\\u0627\\u0651\\u0644\\u064f\\u062a\\u0650\\u062d\\u064d\\u0642\\u064d\\u0648\\u064e\\u0627\\u064c \\u064b\\u0628\\u064e\\u0628\\u064c\\u0631\\u064f\\u0646\\u0650\\u0627\\u0645\\u062c \\u00ab\\u064f\\u062a\\u064c\\u0646\\u064b\\u0633\\u064a\\u0652\\u0642\\u00bb\\u064c \\u062e\\u064c\\u0644\\u0651\\u0627\\u064b\\u0644 2\\u064f0\\u064e1\\u064e6\\u060c \\u0628\\u0644\\u063a\\u064b 1\\u064e50 \\u064e\\u0637\\u0628\\u064f\\u064a\\u0628\\u0627\\u0650\\u064b \\u0651\\u0645\\u064e\\u0646 \\u0650\\u0645\\u062e\\u0650\\u062a\\u0644\\u0641 \\u0627\\u0644\\u062a\\u062e\\u0635\\u064c\\u0635\\u0627\\u064c\\u062a\\u0652 \\u0641\\u0652\\u064a\\u0652 \\u0627\\u064d\\u0644\\u064b\\u0645\\u0633\\u0651\\u062a\\u0650\\u0634\\u064d\\u0641\\u064f\\u064a\\u0627\\u0651\\u062a\\u064d \\u0645\\u0646 \\u064b\\u062c\\u064f\\u0645\\u064e\\u064a\\u0652\\u0639\\u0652 \\u0623\\u0652\\u0646\\u062d\\u0627\\u064b\\u0621\\u064c \\u0625\\u0652\\u0645\\u064b\\u0627\\u0631\\u0629\\u064e \\u0652\\u0623\\u0652\\u0628\\u0648\\u064d\\u0638\\u0628\\u064f\\u064a.\\u0648\\u0623\\u0639\\u0644\\u0646\\u064b\\u062a \\u0647\\u064a\\u064c\\u0626\\u0651\\u0629\\u064b \\u0627\\u0644\\u064e\\u0635\\u062d\\u064f\\u0629 \\u064c\\u0623\\u0628\\u064c\\u0648\\u0638\\u0650\\u0628\\u064a\\u060c\\u064d \\u0639\\u064e\\u0646 \\u0627\\u064f\\u0644\\u0627\\u0651\\u0646\\u064b\\u062a\\u0651\\u0647\\u0652\\u0627\\u0650\\u0621 \\u0628\\u0646\\u062c\\u0652\\u0627\\u064f\\u062d\\u064b \\u0645\\u0652\\u0646\\u064b \\u0650\\u0639\\u064f\\u0645\\u0650\\u0644\\u064c\\u064a\\u0650\\u0629 \\u0627\\u064b\\u0644\\u064e\\u062a\\u064d\\u0637\\u0627\\u064d\\u0628\\u0642 \\u0627\\u064c\\u0644\\u062e\\u0652\\u0627\\u064e\\u0635\\u0629 \\u0628\\u064b\\u0628\\u0631\\u0646\\u0652\\u0627\\u0645\\u064b\\u062c \\u0627\\u0644\\u0623\\u0637\\u0628\\u0627\\u0621\\u064e \\u0651\\u0627\\u0644\\u0645\\u0642\\u064d\\u064a\\u0645\\u064b\\u064a\\u0650\\u0646\\u0650 \\u00ab\\u064f\\u062a\\u0646\\u0633\\u064a\\u064e\\u0642 \\u064b20\\u064e1\\u064d6\\u00bb\\u0650\\u060c\\u0650 \\u0648\\u0623\\u0634\\u0627\\u0652\\u0631\\u062a \\u0651\\u0625\\u0650\\u0644\\u0649 \\u064b\\u0623\\u064c\\u0646\\u0651 \\u0627\\u064d\\u0644\\u0646\\u062a\\u064c\\u0627\\u0651\\u0626\\u062c \\u0652\\u062a\\u0634\\u0652\\u0645\\u0644 \\u064d1\\u064f0 \\u062a\\u062e\\u0635\\u0635\\u0627\\u0651\\u062a\\u064e \\u064b\\u0637\\u0628\\u064a\\u064c\\u0629 \\u064e\\u0647\\u064b\\u064a\\u0650:\\u0651 \\u0651\\u0627\\u0644\\u062a\\u062e\\u064b\\u062f\\u064a\\u064e\\u0631\\u060c\\u064f \\u0652\\u0627\\u0644\\u064d\\u0639\\u0652\\u0646\\u064e\\u0627\\u064a\\u0629 \\u0627\\u0644\\u064d\\u0645\\u064e\\u0631\\u0651\\u0643\\u0650\\u0632\\u0651\\u0629\\u064c\\u060c\\u064d \\u0651\\u0627\\u0650\\u0644\\u0637\\u0628\\u0651 \\u0651\\u0627\\u0650\\u0644\\u0625\\u064f\\u0633\\u064e\\u0639\\u0650\\u0627\\u064e\\u0641\\u0650\\u064a\\u064e\\u060c \\u0637\\u0628 \\u064e\\u0627\\u0644\\u064e\\u0623\\u0633\\u0631\\u064e\\u0629\\u060c \\u0627\\u064b\\u0644\\u062c\\u064d\\u0631\\u0650\\u0627\\u062d\\u0629\\u0650 \\u0627\\u0644\\u0639\\u064d\\u0627\\u0645\\u064f\\u0629\\u064d\\u060c \\u064c\\u0627\\u0652\\u0644\\u0637\\u064f\\u0628\\u064b \\u0650\\u0627\\u0644\\u064c\\u0628\\u064d\\u0627\\u0637\\u0646\\u064a\\u060c \\u0650\\u0627\\u0644\\u0637\\u064b\\u0628\\u064e \\u0627\\u0644\\u064b\\u0646\\u0641\\u0633\\u064a\\u060c \\u0627\\u0644\\u0646\\u0633\\u064c\\u0627\\u0621 \\u0651\\u0648\\u0627\\u064e\\u0644\\u0648\\u0652\\u0644\\u0650\\u0627\\u064f\\u062f\\u0650\\u0629\\u0650\\u060c\\u0651 \\u0650\\u0627\\u0644\\u064b\\u0623\\u064b\\u0634\\u0639\\u0651\\u0629\\u060c \\u064b\\u0637\\u064b\\u0628 \\u0650\\u0627\\u064c\\u0644\\u0651\\u0639\\u064a\\u064c\\u0648\\u064b\\u0646\\u060c \\u0637\\u064d\\u0628 \\u0623\\u0637\\u064b\\u0641\\u064f\\u0627\\u0644\\u064d.\\u0648\\u0623\\u0634\\u0627\\u0631\\u062a\\u0651 \\u064e\\u0625\\u064c\\u0644\\u064c\\u0649\\u0651 \\u0623\\u0646\\u0650 \\u064d\\u0627\\u064d\\u0644\\u0646\\u0651\\u0633\\u0628\\u0651\\u0629\\u064f \\u0627\\u0644\\u0651\\u0623\\u0651\\u0639\\u0644\\u0649 \\u064d\\u0645\\u064d\\u0646\\u064f \\u064b\\u0627\\u0644\\u0623\\u064e\\u0637\\u064b\\u0628\\u064d\\u0627\\u0651\\u0621 \\u064e\\u062a\\u0650\\u0639\\u0648\\u062f\\u0650 \\u064d\\u0625\\u064d\\u0644\\u0649 \\u062a\\u062e\\u0635\\u064e\\u0635\\u064c \\u0652\\u0627\\u0651\\u0644\\u0637\\u0628\\u0652 \\u064e\\u0627\\u0650\\u0644\\u064c\\u0628\\u0627\\u0637\\u0652\\u0646\\u064a\\u064e\\u060c \\u064d\\u0628\\u0648\\u064b\\u0627\\u0651\\u0642\\u0651\\u0639\\u0650 43\\u064f \\u0637\\u064f\\u0628\\u064a\\u0628\\u064b\\u0627\\u064b \\u0652\\u062a\\u0648\\u0632\\u0639\\u064f\\u0648\\u0627 \\u0639\\u0651\\u0644\\u0652\\u0649 \\u0645\\u0652\\u0633\\u0651\\u062a\\u064b\\u0634\\u064e\\u0641\\u0651\\u0649\\u064b \\u064b\\u0627\\u0644\\u064c\\u0639\\u0650\\u064a\\u0646\\u064f\\u060c \\u0625\\u062d\\u062f\\u0649\\u064b \\u0645\\u0646\\u0652\\u0634\\u0651\\u0622\\u062a \\u064f\\u0634\\u0650\\u0631\\u0643\\u0629\\u0652 \\u0623\\u0628\\u0648\\u0638\\u0628\\u064a\\u064d \\u064d\\u0644\\u064d\\u0644\\u062e\\u062f\\u0645\\u0627\\u064c\\u062a \\u064c\\u0627\\u0652\\u0644\\u064e\\u0635\\u064c\\u062d\\u064a\\u0629\\u064e \\u00ab\\u064d\\u0635\\u062d\\u0629\\u00bb\\u0651 \\u0628\\u0648\\u0627\\u064b\\u0642\\u0650\\u0639 5\\u064d \\u064c\\u0623\\u0637\\u0628\\u064f\\u0627\\u064d\\u0621\\u060c\\u0651 \\u064f\\u0648\\u0645\\u064d\\u0633\\u062a\\u064b\\u0634\\u0641\\u0649 \\u0650\\u0627\\u0644\\u064e\\u0645\\u0641\\u064e\\u0631\\u0642\\u0651\\u060c \\u0625\\u0651\\u062d\\u0652\\u062f\\u064e\\u0649 \\u064e\\u0645\\u0651\\u0646\\u0634\\u0622\\u062a\\u064b \\u00ab\\u0635\\u064f\\u062d\\u0629\\u064e\\u00bb \\u0628\\u0648\\u064e\\u0627\\u064e\\u0642\\u0639\\u064d 8 \\u0623\\u0651\\u0637\\u064e\\u0628\\u0650\\u0627\\u064f\\u0621\\u064d\\u060c\\u064b \\u064e\\u06481\\u064b4 \\u064e\\u0637\\u064c\\u0628\\u064f\\u064a\\u0628\\u064b\\u0627\\u064c\\u064b\\u064b \\u0651\\u0641\\u0652\\u064a\\u064f \\u0645\\u062f\\u064b\\u064a\\u064d\\u0646\\u064e\\u0629 \\u0627\\u064c\\u0644\\u064d\\u0634\\u064e\\u064a\\u062e\\u064b \\u0651\\u062e\\u0644\\u064a\\u064e\\u0641\\u0629 \\u064c\\u0627\\u0651\\u0644\\u064e\\u0637\\u0628\\u064a\\u064d\\u0629\\u064d \\u0651\\u0641\\u064a \\u0652\\u0623\\u0650\\u0628\\u0648\\u064d\\u0638\\u0628\\u064a\\u060c \\u0625\\u062d\\u062f\\u0649 \\u0652\\u0645\\u0646\\u064b\\u0634\\u064c\\u0622\\u062a\\u064d \\u00ab\\u0650\\u0635\\u062d\\u0629\\u0652\\u00bb\\u060c\\u064f \\u064c\\u0648\\u064f1\\u064c0\\u064e \\u064d\\u0623\\u0637\\u0628\\u0627\\u064e\\u0621 \\u0628\\u064b\\u0645\\u0652\\u0633\\u062a\\u0634\\u0651\\u0641\\u0650\\u0649 \\u062a\\u064d\\u0648\\u0627\\u0650\\u0645\\u064e \\u0641\\u064a \\u0652\\u0627\\u0644\\u064c\\u0639\\u064d\\u064a\\u0650\\u0646\\u0650\\u060c\\u064c \\u0652\\u0625\\u064f\\u062d\\u062f\\u0649\\u064f \\u0645\\u0646\\u0634\\u0622\\u064b\\u062a\\u0650 \\u0651\\u00ab\\u064d\\u0635\\u062d\\u0651\\u0629\\u00bb\\u060c\\u064e \\u064d\\u06486\\u064c \\u064e\\u0623\\u064f\\u0637\\u064f\\u0628\\u064c\\u0627\\u0621\\u064c \\u0628\\u0645\\u0633\\u064f\\u062a\\u0650\\u0634\\u0651\\u0641\\u0649\\u0652 \\u064b\\u0632\\u0627\\u064f\\u064a\\u0650\\u062f\\u0652 \\u0627\\u0644\\u0639\\u0633\\u064f\\u0643\\u0631\\u064a\\u0650.\\u0648\\u0644\\u0641\\u064b\\u062a\\u064e\\u062a \\u0651\\u0627\\u0651\\u0644\\u0647\\u064b\\u064a\\u0626\\u0629\\u064f \\u064f\\u0625\\u0644\\u0649 \\u064e\\u0623\\u0651\\u0646 \\u064e\\u0625\\u064c\\u062c\\u0645\\u064c\\u0627\\u0651\\u0644\\u064a\\u064b \\u064b\\u0639\\u062f\\u064d\\u062f \\u0623\\u0637\\u064d\\u0628\\u0627\\u0621\\u0650 \\u0627\\u064b\\u0644\\u064d\\u0645\\u0650\\u0642\\u064e\\u064a\\u064f\\u0645\\u064d\\u064a\\u0646\\u064c \\u0627\\u0644\\u0650\\u0645\\u064c\\u062e\\u064b\\u062a\\u064e\\u0635\\u064b\\u064a\\u064d\\u0646 \\u0650\\u0641\\u064a \\u0637\\u0628 \\u064e\\u0627\\u064b\\u0644\\u0623\\u0633\\u0631\\u0629\\u060c 2\\u064f6 \\u0652\\u0637\\u0628\\u064a\\u0628\\u0627\\u064e\\u064b\\u060c \\u0651\\u062a\\u064f\\u0648\\u0650\\u0632\\u0651\\u0639\\u0652\\u0648\\u0627 \\u0639\\u064e\\u0644\\u0652\\u0649 \\u0652\\u0627\\u0644\\u064d\\u062e\\u064f\\u062f\\u0645\\u0627\\u0651\\u062a\\u0652 \\u0627\\u0644\\u064c\\u0639\\u064b\\u0644\\u064d\\u0627\\u064e\\u062c\\u064a\\u0629\\u064b \\u0627\\u0644\\u064f\\u062e\\u0627\\u064c\\u0631\\u0651\\u062c\\u064a\\u0629\\u064e\\u060c\\u064d \\u0625\\u062d\\u0650\\u062f\\u0649\\u064b \\u064b\\u0645\\u0651\\u0646\\u0634\\u0652\\u0622\\u062a\\u064f \\u0651\\u00ab\\u0652\\u0635\\u064d\\u062d\\u0629\\u064c\\u00bb\\u0650\\u060c \\u064f12\\u064b \\u0637\\u064e\\u0628\\u064c\\u064a\\u0628\\u064f\\u0627\\u064b\\u0652\\u060c\\u0651 \\u0648\\u064b\\u0645\\u062f\\u064e\\u064a\\u0646\\u0652\\u0629 \\u0651\\u0627\\u0644\\u0634\\u064a\\u062e\\u0652 \\u064c\\u062e\\u0644\\u064e\\u064a\\u0641\\u064c\\u0629\\u064c \\u0627\\u0651\\u0644\\u0637\\u0651\\u0628\\u064b\\u064a\\u064f\\u0629\\u0650 \\u064f\\u0641\\u064d\\u064a \\u064e\\u0623\\u0651\\u0628\\u0648\\u064e\\u0638\\u0650\\u0628\\u064a\\u060c\\u064e \\u064b10 \\u064f\\u0623\\u0637\\u0628\\u0651\\u0627\\u064d\\u0621\\u060c \\u0650\\u0648\\u0645\\u0633\\u064d\\u062a\\u0651\\u0634\\u0641\\u064c\\u0649\\u0652 \\u0632\\u0627\\u0650\\u064a\\u0652\\u062f \\u0627\\u0644\\u0651\\u0639\\u0633\\u0643\\u0631\\u0650\\u064a\\u064e\\u060c \\u064d4 \\u064e\\u0623\\u064f\\u0637\\u0650\\u0628\\u064d\\u0627\\u0651\\u0621.\\u0628\\u064a\\u0646\\u0645\\u0627 \\u064d\\u0628\\u0644\\u064d\\u063a\\u0650 \\u0625\\u064f\\u062c\\u0645\\u0627\\u064b\\u0644\\u064a \\u0639\\u062f\\u062f \\u064d\\u0627\\u0644\\u0651\\u0623\\u064f\\u0637\\u0652\\u0628\\u0627\\u0650\\u0621\\u0651 \\u0652\\u0627\\u0644\\u0645\\u0642\\u064a\\u0652\\u0645\\u064c\\u064a\\u064d\\u0646 \\u0652\\u0627\\u0650\\u0644\\u0630\\u064a\\u0650\\u0646\\u0651 \\u0627\\u0644\\u062a\\u064b\\u062d\\u0642\\u064b\\u0648\\u0627\\u0651 \\u0628\\u0628\\u064f\\u0631\\u0651\\u0646\\u064d\\u0627\\u064d\\u0645\\u064c\\u062c\\u064f \\u064f\\u00ab\\u064f\\u062a\\u0646\\u064f\\u0633\\u064b\\u064a\\u064f\\u0642\\u0652\\u00bb \\u0628\\u064e\\u062a\\u0650\\u062e\\u0650\\u0635\\u0650\\u0635 \\u064e\\u0623\\u0650\\u0645\\u0631\\u0627\\u064e\\u0636\\u064c \\u0627\\u0644\\u064d\\u0646\\u0652\\u0633\\u0627\\u0621\\u0652 \\u064c\\u0648\\u0627\\u0644\\u0648\\u0651\\u0644\\u064e\\u0627\\u062f\\u0652\\u0629\\u064c 7 \\u0623\\u0637\\u0628\\u0652\\u0627\\u0651\\u0621\\u064d\\u060c \\u062a\\u0648\\u0632\\u0651\\u0639\\u0652\\u0648\\u0627\\u0652 \\u064e\\u0639\\u0651\\u0644\\u0649\\u064b \\u064b\\u0645\\u0633\\u064b\\u062a\\u0634\\u064c\\u0641\\u064d\\u0649 \\u0627\\u0644\\u0639\\u0651\\u064a\\u064d\\u0646\\u060c\\u064d \\u0628\\u064f\\u0648\\u0627\\u0651\\u0642\\u064b\\u0639 4 \\u0650\\u0623\\u0652\\u0637\\u064c\\u0628\\u0627\\u064f\\u0621\\u060c \\u064b\\u06483\\u064e \\u0623\\u0652\\u0637\\u064e\\u0628\\u0652\\u0627\\u064c\\u0621 \\u0650\\u0641\\u064a \\u0645\\u0633\\u0651\\u062a\\u0652\\u0634\\u0641\\u0649\\u064b \\u064f\\u0627\\u0644\\u064b\\u0643\\u0652\\u0648\\u064f\\u0631\\u0646\\u064a\\u064f\\u0634\\u064b \\u064b\\u0641\\u064c\\u064a \\u064c\\u0623\\u0628\\u0648\\u0638\\u064d\\u0628\\u064a\\u0651\\u060c\\u064f \\u064e\\u0625\\u062d\\u0651\\u062f\\u0651\\u0649 \\u064d\\u0645\\u064b\\u0646\\u0634\\u0650\\u0622\\u0651\\u062a\\u064f \\u00ab\\u0635\\u064b\\u062d\\u0652\\u0629\\u00bb\\u060c\\u064c \\u0648\\u0623\\u0646\\u064c \\u0639\\u0651\\u062f\\u062f\\u064b \\u064f\\u0623\\u0637\\u064d\\u0628\\u064c\\u0627\\u0651\\u0621\\u064f \\u064c\\u0627\\u0644\\u064b\\u0639\\u064a\\u0648\\u0652\\u0646\\u0652 \\u0647\\u064b\\u0648\\u0651 \\u064d3 \\u064f\\u0623\\u0651\\u0637\\u0650\\u0628\\u064c\\u0627\\u0621\\u064d\\u060c \\u064f\\u0637\\u0652\\u0628\\u064a\\u0628\\u064c\\u0627\\u064f\\u0646\\u064d \\u0652\\u0628\\u064c\\u0645\\u0650\\u0633\\u0634\\u0641\\u064c\\u0649 \\u0627\\u064b\\u0644\\u064c\\u0645\\u064d\\u0641\\u0652\\u0631\\u0642\\u064b\\u060c\\u0652 \\u064c\\u0648\\u0637\\u0628\\u0650\\u064a\\u0650\\u0628\\u0652 \\u064e\\u0628\\u0645\\u062f\\u064a\\u0646\\u0651\\u0629 \\u0627\\u0644\\u064e\\u0634\\u064a\\u064e\\u062e \\u0652\\u062e\\u064e\\u0644\\u0652\\u064a\\u0641\\u0651\\u0629\\u064b \\u0627\\u064c\\u0644\\u064d\\u0637\\u064e\\u0628\\u064a\\u0629\\u064d \\u064e\\u0641\\u064a\\u0652 \\u064b\\u0623\\u0650\\u0628\\u064e\\u0648\\u0638\\u0628\\u0652\\u064a\\u064d.\\u0648\\u0623\\u0634\\u0627\\u0631\\u062a \\u0651\\u0625\\u0644\\u064f\\u0649\\u0650 \\u064d\\u0623\\u064b\\u0646\\u0647\\u064b\\u060c\\u0651 \\u0650\\u0648\\u0650\\u0645\\u0646 \\u0628\\u064a\\u064b\\u0646 \\u064e\\u0627\\u0644\\u064c\\u0623\\u0650\\u0637\\u064e\\u0628\\u064c\\u0627\\u064d\\u0621\\u0652 \\u0627\\u0652\\u0644\\u064e\\u0645\\u0642\\u064a\\u0645\\u064b\\u064a\\u064c\\u0646 \\u0652\\u0647\\u064b\\u0646\\u064d\\u0627\\u0643 31 \\u0637\\u0628\\u064a\\u064d\\u0628\\u064d \\u0623\\u0651\\u0637\\u0652\\u0641\\u0627\\u0644\\u060c\\u064f \\u0628\\u064a\\u0646\\u064b\\u0647\\u0645 8 \\u064c\\u0623\\u0637\\u0651\\u0628\\u0652\\u0627\\u064e\\u0621 \\u0651\\u0627\\u064b\\u0644\\u062a\\u064b\\u062d\\u0642\\u0648\\u0627 \\u0628\\u0645\\u0633\\u0651\\u062a\\u0651\\u0634\\u064c\\u0641\\u0649\\u064c \\u064b\\u0627\\u0651\\u0644\\u0651\\u0645\\u0651\\u0641\\u064c\\u0631\\u064d\\u0642\\u064c\\u060c\\u064f \\u064811 \\u0652\\u0637\\u0650\\u0628\\u064a\\u0628\\u0652\\u0627\\u064e\\u064b \\u0628\\u064b\\u0645\\u062f\\u064a\\u0646\\u064d\\u0629 \\u064c\\u0627\\u064c\\u0644\\u064e\\u0634\\u0652\\u064a\\u064e\\u062e\\u064b \\u062e\\u0644\\u064a\\u0641\\u064f\\u0629\\u064c \\u064b\\u0627\\u0644\\u0650\\u0637\\u064d\\u0628\\u064b\\u064a\\u0650\\u0629\\u0650 \\u0641\\u064a \\u0623\\u064b\\u0628\\u0648\\u0650\\u0638\\u0628\\u064c\\u064a\\u064d\\u060c \\u0650\\u0648\\u064e12 \\u064b\\u0637\\u0628\\u064f\\u064a\\u064b\\u0628\\u0652\\u0627\\u064b \\u0628\\u0645\\u0633\\u062a\\u0650\\u0634\\u0641\\u0649\\u0651 \\u062a\\u064d\\u0648\\u0627\\u0645 \\u064e\\u0641\\u064b\\u064a\\u064e \\u064b\\u0627\\u064d\\u0644\\u0639\\u0651\\u064a\\u064f\\u0646\\u0652\\u060c\\u0652 \\u064d\\u0641\\u064d\\u064a\\u064b\\u0645\\u064d\\u0627 \\u0628\\u0650\\u0644\\u064b\\u063a\\u064d \\u0625\\u064d\\u062c\\u0645\\u064b\\u0627\\u0644\\u064a \\u0639\\u062f\\u062f \\u0623\\u0637\\u0628\\u0652\\u0627\\u064d\\u0621\\u064e \\u0627\\u064c\\u0644\\u062c\\u0631\\u064e\\u0627\\u062d\\u064c\\u0629\\u0652 \\u0627\\u0644\\u0639\\u0627\\u0645\\u0651\\u0629\\u0652 \\u0627\\u0644\\u0630\\u064a\\u0652\\u0646\\u064c \\u064f\\u0627\\u064f\\u0644\\u062a\\u0650\\u062d\\u064c\\u0642\\u0648\\u064b\\u0627 \\u0628\\u0645\\u0633\\u064b\\u062a\\u0634\\u0650\\u0641\\u064a\\u0627\\u064c\\u062a\\u064f \\u064e\\u0623\\u0628\\u0648\\u0638\\u0628\\u064e\\u064a\\u0652\\u060c 8\\u0652 \\u064e\\u0623\\u064d\\u0637\\u0650\\u0628\\u0627\\u064b\\u0621.\\u0648\\u0623\\u0648\\u064e\\u0636\\u062d\\u0652\\u062a \\u0623\\u0646\\u0650 \\u0625\\u062c\\u064e\\u0645\\u064c\\u0627\\u0651\\u0644\\u064a\\u064f \\u0639\\u062f\\u064d\\u062f \\u0650\\u0627\\u0652\\u0644\\u0623\\u0637\\u0628\\u0650\\u0627\\u0621 \\u0627\\u064b\\u0644\\u064d\\u0645\\u0642\\u064d\\u064a\\u0650\\u0645\\u064a\\u0646 \\u0627\\u064f\\u0644\\u0645\\u062e\\u064d\\u062a\\u064f\\u0635\\u064a\\u064c\\u0646 \\u0641\\u064a \\u0627\\u064c\\u0644\\u064e\\u0637\\u0651\\u0628 \\u0650\\u0627\\u064e\\u0644\\u0646\\u0641\\u064f\\u0633\\u0652\\u064a\\u0651\\u060c \\u0647\\u0648\\u0651 \\u064b8 \\u064c\\u0623\\u064f\\u0637\\u064b\\u0628\\u064e\\u0627\\u0621 \\u062a\\u064c\\u0648\\u064c\\u0632\\u0652\\u0639\\u064d\\u0648\\u064e\\u0627\\u064d \\u064c\\u0628\\u064f\\u0627\\u064c\\u0644\\u0650\\u062a\\u064f\\u0633\\u0627\\u0648\\u0650\\u064a \\u0639\\u0652\\u0644\\u0649\\u064e \\u0645\\u0633\\u062a\\u0634\\u0641\\u064a\\u064a \\u0627\\u0651\\u0644\\u064d\\u0639\\u064c\\u064a\\u0646\\u060c \\u0650\\u0648\\u0650\\u0645\\u0650\\u062f\\u064d\\u064a\\u0646\\u0629 \\u0627\\u0644\\u0652\\u0634\\u064a\\u0651\\u062e \\u062e\\u0644\\u064a\\u064d\\u0641\\u064f\\u0629\\u064d \\u0627\\u0644\\u0652\\u0637\\u0628\\u064d\\u064a\\u0629\\u064e \\u0650\\u0641\\u064b\\u064a\\u0650 \\u0623\\u0628\\u064f\\u0648\\u0651\\u0638\\u0628\\u064a\\u060c\\u064c \\u0645\\u0634\\u064e\\u064a\\u064e\\u0631\\u0629 \\u0625\\u064f\\u0644\\u064e\\u0649\\u0651 \\u0623\\u064c\\u0646\\u064d \\u0639\\u062f\\u064d\\u062f\\u064d \\u064e\\u0623\\u064f\\u0637\\u064e\\u0628\\u0627\\u064d\\u0621\\u064f \\u064e\\u0627\\u064b\\u0644\\u0623\\u064e\\u0634\\u064e\\u0639\\u064b\\u0629 \\u0647\\u0648\\u0650 \\u064d\\u0637\\u0628\\u064a\\u064e\\u0628\\u0627\\u064c\\u0646\\u0651\\u060c \\u0627\\u0644\\u062a\\u062d\\u0642\\u064d\\u0627 \\u0628\\u0651\\u0645\\u062f\\u064b\\u064a\\u0646\\u0629 \\u0627\\u0650\\u0644\\u0634\\u064a\\u062e\\u064b \\u064b\\u062e\\u0644\\u064a\\u064d\\u0641\\u0629 \\u064c\\u0627\\u0644\\u0637\\u0628\\u064a\\u0629\\u0651 \\u064e\\u0641\\u064d\\u064a\\u0650 \\u0623\\u0628\\u0648\\u0638\\u064e\\u0628\\u064f\\u064a\\u064f.\\u064e\\u0648\\u064f\\u0623\\u0636\\u0627\\u0650\\u0641\\u064b\\u062a\\u064f\\u060c\\u0650 \\u0650\\u0628\\u0644\\u063a\\u064e \\u0625\\u062c\\u0645\\u0650\\u0627\\u064f\\u0644\\u064a\\u064d \\u064f\\u0639\\u0651\\u062f\\u0651\\u062f\\u064b \\u0627\\u0651\\u0644\\u064e\\u0623\\u064d\\u0637\\u064c\\u0628\\u0627\\u0621 \\u0627\\u0650\\u0644\\u0645\\u0642\\u064a\\u064d\\u0645\\u064b\\u064a\\u064f\\u0646 \\u0651\\u0627\\u0650\\u0644\\u0630\\u064a\\u064f\\u0646 \\u064d\\u0627\\u064c\\u0644\\u064d\\u062a\\u062d\\u0642\\u0648\\u0627 \\u0651\\u0628\\u0628\\u0651\\u0631\\u0646\\u0627\\u0645\\u062c\\u064b \\u064c\\u00ab\\u0650\\u062a\\u0652\\u0646\\u064c\\u0633\\u064d\\u064a\\u064b\\u0642\\u00bb\\u064e \\u0628\\u0650\\u062a\\u064f\\u062e\\u064c\\u0635\\u064e\\u0635\\u0652 \\u064e\\u0627\\u064c\\u0644\\u0650\\u0637\\u064d\\u0628 \\u0627\\u064f\\u0644\\u0625\\u0633\\u0650\\u0639\\u064b\\u0627\\u0641\\u064c\\u064a\\u064d 2\\u064d0\\u064c \\u064d\\u0637\\u0628\\u0650\\u064a\\u0628\\u0652\\u0627\\u064b \\u064e\\u062a\\u0650\\u0648\\u064d\\u0632\\u0639\\u0650\\u0648\\u0652\\u0627\\u064d \\u0651\\u0639\\u0652\\u0644\\u0651\\u0649\\u0652 \\u064b\\u0645\\u0633\\u062a\\u064e\\u0634\\u064f\\u0641\\u0649 \\u0627\\u0644\\u0645\\u064b\\u0641\\u064c\\u0631\\u064d\\u0642\\u0651 \\u0641\\u064f\\u064a \\u064c\\u0623\\u0628\\u0648\\u0638\\u0650\\u0628\\u064a \\u0628\\u0650\\u0648\\u0627\\u0650\\u0642\\u0639 \\u06504 \\u0623\\u0651\\u0637\\u0628\\u064d\\u0627\\u0652\\u0621\\u064d\\u060c\\u0652 \\u064d\\u0648\\u064f4\\u0651 \\u064b\\u0623\\u0637\\u064f\\u0628\\u0627\\u0621 \\u0652\\u0641\\u064a\\u064f \\u0645\\u062f\\u064a\\u064e\\u0646\\u064d\\u0629\\u0651 \\u064f\\u0627\\u064b\\u0644\\u0634\\u064a\\u064d\\u062e \\u062e\\u0644\\u064d\\u064a\\u0641\\u064b\\u0629\\u0652 \\u0652\\u0627\\u0650\\u0644\\u0637\\u0628\\u064b\\u064a\\u064e\\u0629 \\u0652\\u0641\\u064d\\u064a\\u064d \\u0623\\u0652\\u0628\\u0648\\u0638\\u0628\\u0650\\u064a\\u060c\\u064b \\u0648\\u064d8 \\u064e\\u0623\\u0637\\u0628\\u0627\\u0650\\u0621 \\u0628\\u0651\\u0645\\u0633\\u064e\\u062a\\u0634\\u0641\\u0650\\u0649\\u064c \\u062a\\u0648\\u064b\\u0627\\u064e\\u0645\\u0651 \\u0650\\u0641\\u064a\\u064b \\u0627\\u064d\\u0644\\u0639\\u064a\\u0646\\u060c \\u0652\\u0625\\u062d\\u062f\\u0650\\u0649 \\u064b\\u0645\\u064d\\u0646\\u0634\\u0622\\u064e\\u062a \\u00ab\\u0651\\u0635\\u062d\\u0652\\u0629\\u064b\\u00bb\\u064b\\u060c\\u064b \\u06484 \\u064f\\u0623\\u0637\\u0628\\u0627\\u064f\\u0621\\u064d \\u0650\\u0628\\u0645\\u0633\\u062a\\u0634\\u064f\\u0641\\u0649\\u0651 \\u0632\\u0627\\u064a\\u064c\\u062f \\u0627\\u064d\\u0644\\u0639\\u0633\\u064c\\u0643\\u0631\\u0652\\u064a\\u064c\\u060c\\u0652 \\u0641\\u064a\\u0645\\u0627 \\u0628\\u064d\\u0644\\u0650\\u063a \\u064c\\u0625\\u062c\\u0645\\u064f\\u0627\\u0652\\u0644\\u064a \\u0650\\u0639\\u062f\\u062f \\u0623\\u064c\\u0637\\u0628\\u0650\\u0627\\u0621\\u064e \\u064d\\u0627\\u0650\\u0644\\u064d\\u062a\\u064b\\u062e\\u0650\\u062f\\u064a\\u0631 \\u0648\\u0627\\u0644\\u0651\\u0639\\u0646\\u0627\\u0651\\u064a\\u0652\\u0629\\u064f \\u0650\\u0627\\u0644\\u064b\\u0645\\u0631\\u064c\\u0643\\u0632\\u0629\\u060c \\u0637\\u0628\\u064a\\u064e\\u0628\\u064a\\u0646\\u064e\\u060c\\u0650 \\u0627\\u0651\\u0644\\u0652\\u062a\\u062d\\u064f\\u0642\\u064d\\u0627\\u0652 \\u064b\\u0628\\u0627\\u064b\\u0644\\u0639\\u064d\\u0645\\u0644 \\u064e\\u0641\\u064c\\u064a\\u064d \\u0651\\u0645\\u0633\\u062a\\u0634\\u064d\\u0641\\u064e\\u0649\\u064d \\u062a\\u0648\\u0627\\u0645.\\u0648\\u0650\\u0628\\u064d\\u064a\\u064c\\u0646\\u062a \\u0647\\u064d\\u064a\\u0626\\u0651\\u0629\\u064f \\u0652\\u0627\\u0644\\u0635\\u062d\\u0651\\u0629 \\u0641\\u0651\\u064a\\u064e \\u0623\\u0628\\u0650\\u0648\\u0652\\u0638\\u0628\\u0652\\u064a\\u0652 \\u0650\\u0623\\u0646 \\u00ab\\u0651\\u062a\\u064e\\u0646\\u0650\\u0633\\u064f\\u064a\\u064f\\u0642\\u0652\\u00bb\\u064b \\u064f\\u0647\\u0648 \\u062a\\u064d\\u0637\\u0628\\u064a\\u0642\\u0652 \\u064f\\u0645\\u064d\\u0648\\u064b\\u062d\\u0650\\u062f\\u0651 \\u062a\\u0646\\u064e\\u0638\\u0652\\u0645\\u0647\\u064e \\u0647\\u064a\\u064c\\u0626\\u064d\\u0629\\u064d \\u0627\\u0650\\u0644\\u0635\\u064b\\u062d\\u064f\\u0629 \\u064f\\u0644\\u0627\\u062e\\u062a\\u064e\\u064a\\u0627\\u064c\\u0631\\u064e \\u064c\\u0627\\u0644\\u0623\\u0650\\u0637\\u0652\\u0628\\u064f\\u0627\\u0621 \\u0650\\u0627\\u064d\\u0644\\u0630\\u064a\\u0651\\u0646 \\u064f\\u064a\\u0631\\u064b\\u063a\\u0628\\u0648\\u064c\\u0646\\u064b \\u0628\\u0651\\u0627\\u064c\\u0644\\u064b\\u0627\\u064d\\u0644\\u062a\\u062d\\u064e\\u0627\\u0642 \\u0628\\u0628\\u0652\\u0631\\u0646\\u0652\\u0627\\u0645\\u062c \\u064e\\u0627\\u0644\\u064d\\u0627\\u062e\\u0650\\u062a\\u064d\\u0635\\u064e\\u0627\\u0652\\u0635\\u064c\\u060c \\u0648\\u064d\\u064a\\u0650\\u0646\\u0638\\u0645\\u064f \\u0651\\u0627\\u064f\\u0644\\u0628\\u0631\\u0646\\u0651\\u0627\\u064d\\u0645\\u062c\\u0651 \\u0639\\u0650\\u0645\\u0644\\u0652\\u064a\\u0629 \\u0627\\u0644\\u0651\\u062a\\u062d\\u0652\\u0627\\u0642\\u0647\\u0645 \\u0628\\u0652\\u0628\\u0631\\u0627\\u0645\\u062c \\u064c\\u0627\\u0644\\u062a\\u0651\\u062f\\u0631\\u064d\\u064a\\u064f\\u0628\\u064c \\u0627\\u0644\\u0645\\u064e\\u0639\\u0651\\u062a\\u0645\\u062f\\u064f\\u0629 \\u0650\\u0645\\u0650\\u0646 \\u064e\\u0642\\u0628\\u0644 \\u0627\\u0644\\u0645\\u062c\\u0644\\u0652\\u0633 \\u0627\\u064d\\u0644\\u0652\\u0639\\u0631\\u064e\\u0628\\u064a \\u064c\\u0644\\u0644\\u0652\\u062a\\u062e\\u0652\\u0635\\u064f\\u0635\\u0627\\u062a\\u064c \\u0627\\u064f\\u0644\\u064d\\u0635\\u064c\\u062d\\u064a\\u0629\\u0652\\u060c \\u0648\\u064e\\u062a\\u0652\\u0648\\u064b\\u0632\\u064e\\u064a\\u064c\\u0639\\u0652\\u0647\\u064f\\u0645 \\u064f\\u0639\\u0652\\u0644\\u0652\\u0649 \\u0645\\u0651\\u0631\\u0652\\u0627\\u0650\\u0643\\u0652\\u0632 \\u064d\\u0627\\u064d\\u0644\\u062a\\u062f\\u0631\\u064a\\u064f\\u0628 \\u0641\\u064a \\u0652\\u0625\\u0645\\u0627\\u064e\\u0631\\u0651\\u0629 \\u0623\\u0652\\u0628\\u0648\\u0638\\u064d\\u0628\\u064a\\u060c\\u064f \\u0628\\u0639\\u062f\\u0650 \\u0639\\u0645\\u0644\\u064e\\u064a\\u064e\\u0629\\u064d \\u064c\\u0627\\u064b\\u062e\\u062a\\u064a\\u0627\\u0631 \\u0651\\u062f\\u064d\\u0642\\u064d\\u064a\\u064d\\u0642\\u0629 \\u064c\\u0648\\u0635\\u0627\\u0631\\u064b\\u0645\\u0629 \\u0648\\u0636\\u064d\\u0639\\u062a \\u064f\\u0628\\u064d\\u0639\\u0646\\u064e\\u0627\\u064a\\u064b\\u0629\\u060c \\u0651\\u0644\\u0650\\u0636\\u064b\\u0645\\u0627\\u0646 \\u0627\\u064b\\u0633\\u064f\\u062a\\u0651\\u0645\\u064c\\u0631\\u0627\\u0652\\u0631\\u0651\\u064a\\u0629 \\u0651\\u0647\\u0630\\u0647 \\u0627\\u0644\\u0650\\u0628\\u0631\\u064c\\u0627\\u064d\\u0645\\u062c \\u0648\\u064b\\u062a\\u062e\\u0631\\u064a\\u0650\\u062c \\u064c\\u0623\\u064b\\u0637\\u0628\\u0627\\u0621 \\u064d\\u0645\\u0648\\u0652\\u0627\\u0651\\u0637\\u0646\\u064a\\u0646\\u0652 \\u064b\\u0648\\u0645\\u0642\\u064a\\u0645\\u064b\\u064a\\u0646\\u064d \\u0623\\u0643\\u064d\\u0641\\u0627\\u0621 \\u0628\\u064e\\u0645\\u0650\\u0627 \\u064a\\u0652\\u062e\\u064e\\u062f\\u0645 \\u0652\\u062d\\u0651\\u0627\\u062c\\u0629\\u064b \\u0627\\u0644\\u0645\\u064b\\u062c\\u062a\\u0645\\u064b\\u0639\\u0651 \\u0652\\u0648\\u064b\\u0627\\u064b\\u0633\\u062a\\u0645\\u0631\\u0627\\u0631\\u064a\\u0651\\u0629\\u064d \\u0648\\u062a\\u064e\\u0642\\u062f\\u064c\\u0645 \\u0627\\u064f\\u0644\\u062e\\u062f\\u0652\\u0645\\u0627\\u0652\\u062a\\u0652 \\u064f\\u0627\\u064c\\u0644\\u064d\\u0637\\u0628\\u064a\\u0652\\u0629\\u0651.\\u064d\",\n          \"https://example.com/resource/\\u064a\\u064b\\u062d\\u0638\\u0649 \\u0642\\u0650\\u0637\\u0627\\u0651\\u0639 \\u062a\\u064c\\u0642\\u0646\\u064a\\u064f\\u0629\\u064b \\u064b\\u0627\\u0644\\u0645\\u0639\\u064e\\u0644\\u064e\\u0648\\u0650\\u0645\\u0627\\u0652\\u062a \\u0652\\u0648\\u0627\\u0651\\u0644\\u0627\\u062a\\u0635\\u064f\\u0627\\u064b\\u0644\\u0627\\u064c\\u062a\\u064f \\u0641\\u064c\\u064a \\u064b\\u0627\\u064b\\u0644\\u0634\\u064c\\u0631\\u0642\\u064f \\u0627\\u0644\\u0623\\u064d\\u0648\\u0633\\u0651\\u0637 \\u0628\\u064b\\u0648\\u0627\\u064f\\u062d\\u062f\\u0651 \\u064c\\u0645\\u0646\\u0651 \\u0650\\u0623\\u0639\\u0644\\u0649\\u0651 \\u064f\\u0645\\u064d\\u0639\\u0650\\u062f\\u0644\\u0627\\u064b\\u062a\\u0651 \\u0651\\u0627\\u0644\\u0650\\u0646\\u0645\\u0648 \\u064e\\u0641\\u064a\\u064f \\u0650\\u0627\\u0644\\u0650\\u0639\\u0627\\u064e\\u0644\\u0645\\u064f\\u060c \\u062d\\u064c\\u0633\\u064d\\u0628\\u0650 \\u062f\\u0631\\u064f\\u0627\\u0650\\u0633\\u064c\\u0629 \\u064f\\u0644\\u064b\\u0634\\u0631\\u0650\\u0643\\u0629 \\u064d\\u0628\\u0632\\u0646\\u064b\\u064a\\u0633 \\u0645\\u0651\\u0648\\u0646\\u064a\\u062a\\u064d\\u0631 \\u0627\\u0652\\u0644\\u0639\\u064c\\u0627\\u0644\\u0650\\u0645\\u064c\\u064a\\u064b\\u0629\\u060c\\u064c \\u0623\\u0638\\u0647\\u0631\\u0652\\u062a\\u064b \\u0652\\u0643\\u0630\\u0651\\u0644\\u0643 \\u0650\\u0623\\u0646 \\u0627\\u0644\\u064b\\u0642\\u0652\\u0637\\u0627\\u0651\\u0639 \\u064c\\u0641\\u064a\\u064e \\u0652\\u0647\\u0630\\u0652\\u0647 \\u0651\\u0627\\u064d\\u0644\\u0645\\u0646\\u064d\\u0637\\u0650\\u0642\\u0629 \\u0652\\u0645\\u0652\\u0631\\u0634\\u0652\\u062d \\u0644\\u0644\\u0646\\u064d\\u0645\\u0648\\u064e \\u0628\\u0652\\u0646\\u064d\\u0633\\u0628\\u0629\\u0652 1\\u06500\\u064b \\u0651\\u0641\\u0651\\u064a \\u0627\\u0644\\u0645\\u064e\\u0627\\u0626\\u064c\\u0629\\u064d \\u0651\\u0628\\u062d\\u064c\\u0644\\u064b\\u0648\\u0650\\u0644 \\u064b\\u0627\\u0644\\u064d\\u0639\\u0651\\u0627\\u0650\\u0645 2\\u064c0\\u06501\\u064b3\\u064f . \\u064a\\u0623\\u062a\\u064f\\u064a\\u064c \\u0630\\u0644\\u064d\\u0643 \\u0641\\u064b\\u064a \\u0650\\u0648\\u0642\\u062a \\u064a\\u064b\\u062d\\u064b\\u0627\\u064d\\u0641\\u0638 \\u0651\\u0641\\u064d\\u064a\\u064f\\u0647\\u064d \\u062d\\u062f\\u0652\\u062b\\u0651 \\u0623\\u064b\\u0633\\u0628\\u064b\\u0648\\u064c\\u0639\\u064e \\u0652\\u062c\\u064a\\u0652\\u062a\\u0643\\u0633\\u0652 \\u064d\\u0644\\u0644\\u0652\\u062a\\u0652\\u0642\\u064c\\u0646\\u064e\\u064a\\u0629\\u064b 2\\u064b00\\u064c9\\u064e \\u0639\\u064e\\u0644\\u0650\\u0649 \\u064f\\u0645\\u0643\\u064c\\u0627\\u064c\\u0646\\u062a\\u0647 \\u064c\\u0643\\u0650\\u0648\\u064c\\u0627\\u0650\\u062d\\u062f\\u064b \\u0645\\u064b\\u0646\\u0650 \\u0623\\u0642\\u0648\\u0652\\u0649\\u0650 \\u0651\\u0645\\u064d\\u0639\\u0651\\u0627\\u064c\\u0631\\u064b\\u0636\\u064c \\u064e\\u0627\\u0644\\u064c\\u062a\\u0642\\u0652\\u0646\\u064e\\u064a\\u0629 \\u0641\\u064a \\u0627\\u0644\\u064e\\u0639\\u0627\\u0652\\u0644\\u0645\\u0651\\u060c \\u0641\\u064a\\u0650 \\u0638\\u064b\\u0644\\u064e \\u0652\\u062a\\u064e\\u0623\\u0652\\u0643\\u064a\\u062f\\u064f \\u064c\\u0643\\u0628\\u0631\\u0649 \\u064d\\u0627\\u064c\\u0644\\u064c\\u0634\\u0631\\u064d\\u0643\\u064d\\u0627\\u062a \\u064e\\u0627\\u064c\\u0644\\u0645\\u062e\\u064b\\u062a\\u0635\\u0629 \\u0645\\u0634\\u0627\\u064c\\u0631\\u0643\\u062a\\u0647\\u064e\\u0627 \\u0641\\u064a\\u0651 \\u0627\\u0644\\u062f\\u0648\\u0631\\u0629 \\u064f\\u0627\\u064d\\u0644\\u0642\\u0627\\u062f\\u0651\\u0645\\u0629 \\u064d\\u0645\\u0646\\u0652 \\u0627\\u0644\\u064e\\u062d\\u062f\\u064f\\u062b\\u0650 \\u0648\\u0627\\u0644\\u062a\\u064a\\u0652 \\u0652\\u062a\\u064b\\u0646\\u0650\\u0639\\u064f\\u0642\\u064b\\u062f \\u0628\\u064a\\u0646\\u064e 18\\u064f \\u064e\\u0648\\u06502\\u064f2\\u064c \\u0623\\u0643\\u0652\\u062a\\u064f\\u0648\\u0628\\u064b\\u0631\\u064b \\u064d\\u0641\\u064f\\u064a\\u064e \\u064d\\u0645\\u0631\\u0650\\u0643\\u0632 \\u064e\\u062f\\u0628\\u064a\\u0652 \\u0650\\u0627\\u0644\\u062f\\u064d\\u0648\\u064b\\u0644\\u064d\\u064a\\u064e \\u0644\\u0652\\u0644\\u064d\\u0645\\u0624\\u062a\\u0645\\u0631\\u064d\\u0627\\u062a\\u064f \\u064e\\u0648\\u064b\\u0627\\u064c\\u0644\\u0645\\u064f\\u0639\\u064b\\u0627\\u0631\\u0636 \\u064b.\\u064e\\u0648\\u062a\\u064e\\u0636\\u064b\\u0645 \\u0623\\u064c\\u0628\\u0631\\u064c\\u0632\\u0652 \\u0627\\u064c\\u0644\\u0623\\u064c\\u0633\\u064f\\u0645\\u0627\\u0621\\u064d \\u064b\\u0627\\u064d\\u0644\\u064c\\u0645\\u0634\\u064d\\u0627\\u064d\\u0631\\u0650\\u0643\\u0650\\u0629 \\u064b\\u0641\\u064f\\u064a \\u064e\\u0627\\u064b\\u0644\\u0651\\u0645\\u064d\\u0639\\u0651\\u0631\\u064c\\u0636 \\u064f\\u0627\\u062a\\u0635\\u0627\\u0651\\u0644\\u0627\\u0650\\u062a\\u0652\\u060c \\u0651\\u0648\\u0625\\u062a\\u0651\\u0634 \\u0651\\u0628\\u064d\\u064a\\u060c\\u064b \\u0648\\u064c\\u0625\\u0646 \\u0625\\u064d\\u064a\\u064e \\u0633\\u064c\\u064a\\u064d \\u0652\\u0641\\u0652\\u064a\\u064c\\u0644\\u0652\\u064a\\u0628\\u064f\\u0633\\u064d\\u060c\\u064f \\u064d\\u0648\\u064b\\u0623\\u064e\\u0648\\u0631\\u0627\\u0643\\u0650\\u0644\\u064d\\u060c\\u064e \\u0650\\u0648\\u064b\\u0628\\u064b\\u0627\\u064d\\u0646\\u0627\\u064b\\u0633\\u0648\\u0651\\u0646\\u064a\\u064d\\u0643\\u060c \\u0648\\u062b\\u064e\\u0631\\u064a\\u0651\\u0627\\u0651\\u060c \\u0648\\u062f\\u064e\\u0648\\u060c \\u064b\\u0648\\u062f\\u0652\\u064a\\u0652\\u0644\\u064f\\u060c\\u064f \\u064d\\u0648\\u0633\\u064d\\u064a\\u064f\\u0633\\u0643\\u0648\\u060c\\u064f \\u0648\\u0651\\u0645\\u0627\\u064a\\u0643\\u0631\\u0652\\u0648\\u0633\\u064f\\u0648\\u0641\\u062a\\u064d\\u060c\\u064f \\u0628\\u0651\\u064a\\u064d\\u0646 \\u064d\\u0645\\u0651\\u0626\\u0627\\u062a \\u064d\\u0627\\u064f\\u0644\\u0634\\u0650\\u0631\\u0652\\u0643\\u0627\\u0650\\u062a \\u064c\\u0627\\u0644\\u0639\\u0650\\u0627\\u0644\\u064d\\u0645\\u064b\\u064a\\u064b\\u0629 \\u064f\\u0648\\u0627\\u064b\\u0644\\u0625\\u064f\\u0642\\u0644\\u064a\\u0645\\u064e\\u064a\\u0650\\u0629\\u064f \\u0650\\u0648\\u0627\\u0644\\u0645\\u062d\\u0644\\u064a\\u0651\\u0629\\u064f \\u0652\\u0627\\u064b\\u0644\\u0623\\u064e\\u062e\\u0631\\u0649 .\\u0651 \\u064e\\u0648\\u062a\\u0633\\u0651\\u0639\\u0649 \\u064f\\u0627\\u064e\\u0644\\u0634\\u0631\\u064b\\u0643\\u0651\\u0627\\u0650\\u062a\\u064b \\u0650\\u062d\\u064e\\u0648\\u0644 \\u0652\\u0627\\u0650\\u0644\\u0652\\u0639\\u0627\\u064b\\u0644\\u064c\\u0645 \\u0644\\u064e\\u062a\\u064b\\u0639\\u0632\\u0652\\u064a\\u0632\\u0650 \\u064e\\u0642\\u064a\\u064c\\u0645\\u0629 \\u0645\\u064c\\u0646\\u062a\\u064e\\u062c\\u0652\\u0627\\u064d\\u062a\\u0647\\u0651\\u0627\\u0651 \\u0648\\u064e\\u062e\\u0650\\u062f\\u0650\\u0645\\u0650\\u0627\\u062a\\u0652\\u0647\\u0652\\u0627 \\u0645\\u0639\\u064f \\u062a\\u064b\\u0637\\u064f\\u0644\\u064b\\u0639\\u064d\\u0647\\u064f\\u0627 \\u0625\\u064c\\u0644\\u0652\\u0649\\u0651 \\u064f\\u062a\\u064f\\u0637\\u0650\\u0648\\u064f\\u064a\\u064f\\u0631 \\u0643\\u0652\\u0641\\u064d\\u0627\\u064d\\u0621\\u064f\\u0629 \\u0651\\u0639\\u064c\\u0645\\u064c\\u0644\\u064b\\u064a\\u0652\\u0627\\u0651\\u062a\\u0647\\u0627 \\u064d\\u0641\\u0651\\u064a \\u0628\\u064a\\u0652\\u0626\\u0629 \\u064b\\u0627\\u0652\\u0644\\u064d\\u0623\\u0651\\u0639\\u0645\\u064e\\u0627\\u0644\\u064d \\u0630\\u064d\\u0627\\u062a \\u0627\\u0644\\u064b\\u0637\\u0644\\u0628 \\u0627\\u0652\\u0644\\u0650\\u0645\\u064b\\u062a\\u064d\\u0646\\u064e\\u0627\\u064c\\u0645\\u064a\\u060c\\u064d \\u0652\\u0648\\u0647\\u064a\\u064e \\u0652\\u0628\\u0627\\u0652\\u0644\\u062a\\u0627\\u0644\\u064b\\u064a \\u064e\\u062a\\u0633\\u0639\\u0650\\u0649\\u0652 \\u064e\\u0644\\u0644\\u064d\\u0627\\u0633\\u0652\\u062a\\u0651\\u0641\\u0627\\u064e\\u062f\\u0629\\u064f \\u0645\\u0646 \\u0652\\u0627\\u0650\\u0644\\u064e\\u0645\\u0648\\u0642\\u0639 \\u0627\\u0644\\u062c\\u0651\\u063a\\u064f\\u0631\\u0627\\u0641\\u064a \\u0644\\u064c\\u062d\\u062f\\u062b\\u064e \\u0623\\u064c\\u0633\\u0628\\u064e\\u0648\\u0651\\u0639\\u064b \\u064f\\u062c\\u064a\\u0651\\u062a\\u064d\\u0643\\u0651\\u0633\\u064c \\u064c\\u0644\\u0644\\u062a\\u0652\\u0642\\u0646\\u064b\\u064a\\u064c\\u0629 \\u064e\\u0627\\u064f\\u0644\\u0630\\u064b\\u064a\\u064b \\u064f\\u064a\\u0642\\u064d\\u0639 \\u064c\\u0641\\u064a \\u0642\\u0644\\u064b\\u0628 \\u0652\\u0648\\u0627\\u064d\\u062d\\u062f\\u0652\\u0629 \\u0645\\u064e\\u0646\\u0650 \\u064b\\u0623\\u0639\\u064b\\u0644\\u064c\\u0649 \\u0651\\u0627\\u064b\\u0644\\u0652\\u0645\\u064e\\u0646\\u0650\\u0627\\u0637\\u0642 \\u0646\\u0645\\u0648\\u064d\\u0627\\u0650\\u064b \\u064b\\u0641\\u0650\\u064a \\u064c\\u0642\\u0637\\u064e\\u0627\\u064e\\u0639 \\u062a\\u0642\\u0646\\u064d\\u064a\\u0629\\u0650 \\u0651\\u0627\\u0651\\u0644\\u064b\\u0645\\u0651\\u0639\\u0652\\u0644\\u064e\\u0648\\u0651\\u0645\\u0627\\u062a\\u0652 \\u0648\\u0627\\u0644\\u0627\\u0651\\u062a\\u0635\\u0650\\u0627\\u064b\\u0644\\u0652\\u0627\\u064e\\u062a \\u064c\\u0641\\u064a \\u064b\\u0627\\u0644\\u0639\\u0651\\u0627\\u0645\\u064c\\u060c\\u064f \\u0644\\u064b\\u062a\\u0642\\u064e\\u062f\\u0650\\u064a\\u0652\\u0645\\u064b \\u064b\\u0623\\u0650\\u062d\\u062f\\u0650\\u062b \\u0627\\u0651\\u0644\\u0651\\u062d\\u0644\\u0651\\u0648\\u0652\\u0644\\u0652 \\u0651\\u0644\\u064e\\u0625\\u064f\\u062f\\u0627\\u064b\\u0631\\u0629\\u064c \\u0639\\u0644\\u0627\\u0642\\u0627\\u062a \\u0650\\u0627\\u064b\\u0644\\u0639\\u064d\\u0645\\u0652\\u0644\\u0651\\u0627\\u064c\\u0621\\u0650\\u060c \\u064f\\u0648\\u062d\\u064f\\u0644\\u0648\\u064b\\u0644\\u064e \\u0627\\u0651\\u0644\\u0650\\u062a\\u0628\\u0650\\u0627\\u064c\\u062f\\u064e\\u0644 \\u064e\\u0627\\u0652\\u0644\\u064d\\u0645\\u0639\\u0631\\u0641\\u0652\\u064a\\u060c \\u064c\\u0625\\u0644\\u064d\\u0649 \\u064d\\u062c\\u0627\\u0646\\u0628 \\u0650\\u0623\\u064e\\u062d\\u062f\\u062b \\u0651\\u0627\\u0652\\u0644\\u064c\\u0628\\u062f\\u064d\\u0627\\u0626\\u0651\\u0644\\u064d \\u0627\\u064e\\u0644\\u0651\\u062a\\u064f\\u0642\\u0646\\u064f\\u064a\\u0650\\u0629\\u064e \\u0627\\u0644\\u062e\\u064f\\u0636\\u0650\\u0631\\u064c\\u0627\\u0621\\u064b \\u064f\\u0627\\u0644\\u0650\\u0635\\u064f\\u062f\\u064d\\u064a\\u064e\\u0642\\u0651\\u0629 \\u064d\\u0644\\u0644\\u0628\\u0651\\u064a\\u064c\\u0626\\u0629 .\\u0652 \\u064f\\u0648\\u0651\\u0644\\u0637\\u0627\\u064f\\u0644\\u0645\\u0627\\u0652 \\u0652\\u0623\\u0651\\u0643\\u0651\\u062f\\u064d \\u064b\\u0639\\u0651\\u062f\\u062f \\u0650\\u0643\\u0628\\u064d\\u064a\\u0650\\u0631\\u064e \\u0645\\u0652\\u0646\\u064b \\u0635\\u0652\\u0627\\u0651\\u0646\\u0650\\u0639\\u0652\\u064a\\u064d \\u0627\\u064b\\u0644\\u0642\\u064d\\u0631\\u0627\\u0631 \\u0650\\u0641\\u064d\\u064a\\u0652 \\u062f\\u0646\\u064d\\u064a\\u064c\\u0627\\u0650 \\u062a\\u0642\\u064c\\u0646\\u0652\\u064a\\u0629\\u064e \\u064f\\u0627\\u064f\\u0644\\u0650\\u0645\\u064c\\u0639\\u064f\\u0644\\u0651\\u0648\\u0645\\u0627\\u0651\\u062a \\u0650\\u062e\\u0651\\u0644\\u0627\\u0644\\u0651 \\u064f\\u0627\\u064d\\u0644\\u0633\\u0646\\u0652\\u0648\\u0627\\u0652\\u062a \\u0627\\u064b\\u0644\\u0642\\u0644\\u064b\\u064a\\u0644\\u0650\\u0629\\u064f \\u0627\\u0644\\u0645\\u0627\\u0652\\u0636\\u0652\\u064a\\u0629 \\u0623\\u0647\\u0645\\u064a\\u0629 \\u062d\\u062f\\u062b\\u0652 \\u064f\\u0623\\u064d\\u0633\\u064d\\u0628\\u0648\\u0652\\u0639 \\u062c\\u0650\\u064a\\u064b\\u062a\\u064c\\u0643\\u0633 \\u0651\\u0644\\u0644\\u062a\\u064b\\u0642\\u0646\\u064a\\u0629\\u060c \\u0652\\u0627\\u0644\\u0630\\u064a \\u0652\\u064a\\u0650\\u0633\\u064c\\u062a\\u064e\\u0645\\u064b\\u0631 \\u064f\\u0641\\u064a\\u0650 \\u0627\\u064b\\u0633\\u062a\\u064f\\u0642\\u0650\\u0637\\u064f\\u0627\\u064b\\u0628 \\u0623\\u0652\\u0643\\u064f\\u062b\\u0631\\u064c \\u064e\\u062e\\u0628\\u064f\\u0631\\u064c\\u0627\\u0651\\u0621 \\u0627\\u0644\\u0642\\u0637\\u064f\\u0627\\u0639 \\u0648\\u064e\\u0642\\u064d\\u0627\\u0652\\u062f\\u0629 \\u0627\\u0644\\u0641\\u0643\\u064e\\u0631 \\u062a\\u064b\\u0623\\u064d\\u062b\\u064a\\u064f\\u0631\\u064c\\u0627\\u0650\\u064b\\u0650\\u060c\\u0651 \\u0643\\u064b\\u0645\\u0627 \\u0623\\u0651\\u0646\\u0651\\u0647 \\u064e\\u0644\\u0627 \\u0651\\u064a\\u0652\\u0632\\u0627\\u0644\\u064d \\u0627\\u064f\\u0644\\u0645\\u0646\\u0635\\u064f\\u0629\\u064b \\u0651\\u0627\\u064b\\u0644\\u0645\\u0641\\u0636\\u064f\\u0644\\u0629\\u064e \\u0652\\u0644\\u0639\\u0631\\u0636\\u064d \\u0627\\u064e\\u0644\\u064e\\u0625\\u064b\\u0645\\u0650\\u0643\\u064b\\u0627\\u064d\\u0646\\u0627\\u064e\\u062a\\u064d \\u0648\\u064d\\u0627\\u064d\\u0644\\u0642\\u064b\\u062f\\u0631\\u0652\\u0627\\u062a \\u0627\\u0644\\u062a\\u0642\\u0646\\u064a\\u0629 \\u064f\\u0639\\u064d\\u0644\\u064d\\u0649 \\u0645\\u064e\\u062f\\u0649 \\u0646\\u0652\\u062d\\u0648 \\u064b\\u062b\\u064f\\u0644\\u0627\\u064f\\u062b\\u0629\\u0651 \\u064c\\u0639\\u0642\\u0648\\u062f \\u064c.\\u0648\\u064a\\u0636\\u0645 \\u0650\\u0627\\u0644\\u064d\\u062d\\u062f\\u062b \\u0650\\u062b\\u0644\\u0650\\u0627\\u064b\\u062b\\u0651\\u0629 \\u0623\\u0642\\u0633\\u0627\\u0652\\u0645 \\u0645\\u0651\\u062e\\u062a\\u064d\\u0635\\u0629\\u064c \\u0647\\u064a\\u064e \\u0652\\u062d\\u0644\\u0648\\u0650\\u0644 \\u064e\\u062c\\u0650\\u064a\\u062a\\u0643\\u0633\\u064b \\u0644\\u0644\\u0623\\u0639\\u064b\\u0645\\u064e\\u0627\\u064c\\u0644\\u064b\\u060c\\u064d \\u0648\\u064e\\u062c\\u0650\\u0644\\u0650\\u0641\\u064d \\u0643\\u064d\\u0648\\u0645\\u064b\\u0633\\u064d\\u060c\\u0650 \\u064e\\u0648\\u0625\\u0644\\u0643\\u062a\\u0631\\u064e\\u0648\\u0646\\u0652\\u064a\\u064d\\u0627\\u062a\\u064b \\u064c\\u0627\\u0652\\u0644\\u064d\\u0645\\u0652\\u0633\\u064f\\u062a\\u0647\\u0644\\u0650\\u0643\\u064a\\u0651\\u0646\\u064b\\u060c\\u064e \\u0625\\u0644\\u0649 \\u062c\\u0627\\u0646\\u0628\\u064b \\u0645\\u064f\\u0639\\u0631\\u0636\\u064b \\u0627\\u0650\\u0644\\u0634\\u0631\\u0650\\u0642\\u0652 \\u0651\\u0627\\u064c\\u0644\\u0623\\u0650\\u0648\\u064b\\u0633\\u0637 \\u0627\\u0652\\u0644\\u064d\\u062f\\u0648\\u0644\\u064b\\u064a \\u0644\\u0644\\u0650\\u0628\\u064b\\u0646\\u0651\\u0648\\u0643 \\u0648\\u064c\\u0627\\u064d\\u0644\\u0652\\u062a\\u0642\\u0646\\u064a\\u064f\\u0627\\u0650\\u062a\\u0651 \\u0652\\u0648\\u0627\\u0644\\u062e\\u062f\\u0645\\u064d\\u0627\\u0652\\u062a \\u0651\\u0627\\u064e\\u0644\\u0645\\u064f\\u0627\\u064b\\u0644\\u064a\\u0629 \\u0652(\\u0645\\u0650\\u064a\\u0641\\u0643\\u0633\\u0652)\\u0652\\u060c \\u064d\\u0627\\u064e\\u0644\\u0630\\u064a\\u0652 \\u0633\\u064f\\u064a\\u0642\\u0627\\u0645 \\u0625\\u064c\\u0644\\u0650\\u0649 \\u062c\\u064e\\u0627\\u0646\\u0628 \\u0623\\u0633\\u064e\\u0628\\u0648\\u0639\\u064b \\u064b\\u062c\\u064a\\u064c\\u062a\\u064f\\u0643\\u064d\\u0633 \\u0644\\u0652\\u0644\\u064e\\u062a\\u064b\\u0642\\u064f\\u0646\\u064a\\u0629 \\u064d\\u0644\\u0644\\u064e\\u0645\\u064d\\u0631\\u064f\\u0629 \\u0627\\u064f\\u0644\\u064e\\u0623\\u0648\\u0644\\u0649\\u060c \\u0652\\u0645\\u062a\\u064c\\u064a\\u064e\\u062d\\u0651\\u0627\\u064f\\u064b \\u0651\\u0627\\u0644\\u0651\\u0645\\u062c\\u0627\\u064b\\u0644 \\u0651\\u0623\\u0645\\u0652\\u0627\\u0652\\u0645 \\u064c\\u0627\\u0644\\u0623\\u0639\\u0645\\u0627\\u0644\\u064f \\u064e\\u0641\\u064a\\u064e \\u064d\\u0645\\u0650\\u062e\\u064b\\u062a\\u0644\\u0641\\u0651 \\u0651\\u0623\\u0631\\u062c\\u064f\\u0627\\u0621\\u064e \\u064c\\u0627\\u064b\\u0644\\u064f\\u0645\\u064d\\u0646\\u0637\\u0642\\u064f\\u0629 \\u0644\\u0644\\u0650\\u0627\\u0652\\u0637\\u0644\\u0627\\u0639\\u064d \\u0639\\u064b\\u0644\\u0649\\u0650 \\u0651\\u0645\\u062c\\u0651\\u0645\\u0651\\u0648\\u0639\\u0629 \\u064d\\u0643\\u0650\\u0627\\u0645\\u0644\\u064b\\u0629\\u064c \\u0650\\u0645\\u0646\\u064c \\u0627\\u0644\\u064d\\u0645\\u0639\\u064f\\u0631\\u0650\\u0648\\u0636\\u064c\\u0627\\u062a\\u064c \\u0627\\u0644\\u064d\\u062a\\u064a \\u0650\\u062a\\u0644\\u064c\\u0628\\u064a\\u064e \\u064e\\u0627\\u062d\\u062a\\u064a\\u0627\\u062c\\u0627\\u062a\\u064c \\u0643\\u064d\\u0627\\u0652\\u0641\\u0629\\u0651 \\u0652\\u0627\\u0651\\u0644\\u064f\\u0634\\u0631\\u064d\\u0643\\u064f\\u0627\\u0651\\u062a\\u0651 .\\u0650 \\u0650\\u0648\\u0642\\u064d\\u0627\\u064f\\u0644 \\u0647\\u0651\\u0644\\u064d\\u0627\\u0644 \\u0633\\u064b\\u0639\\u0652\\u064a\\u064b\\u062f \\u0627\\u0644\\u0650\\u0645\\u0631\\u064a\\u064e\\u060c\\u064e \\u0627\\u0644\\u0631\\u064e\\u0626\\u064b\\u064a\\u0633\\u064c \\u064e\\u0627\\u064b\\u0644\\u062a\\u0652\\u0646\\u0641\\u064d\\u064a\\u0630\\u064a \\u064c\\u0644\\u064d\\u0645\\u064e\\u0631\\u0643\\u0632 \\u0651\\u062f\\u064f\\u0628\\u064a\\u0650 \\u0627\\u064e\\u0644\\u062a\\u062c\\u0627\\u064e\\u0631\\u064d\\u064a \\u0627\\u0644\\u064b\\u0639\\u0627\\u0644\\u0645\\u064c\\u064a\\u0652\\u060c\\u0652 \\u0651\\u0627\\u0644\\u064d\\u062c\\u064d\\u0647\\u064f\\u0629\\u064e \\u0627\\u0644\\u0645\\u0650\\u0646\\u0651\\u0638\\u064b\\u0645\\u064d\\u0629 \\u064f\\u0644\\u064f\\u0645\\u0652\\u0639\\u0651\\u0631\\u0636 \\u064e\\u062c\\u064a\\u0652\\u062a\\u0643\\u0633\\u064d\\u060c \\u0625\\u064e\\u0646 \\u064e\\u0627\\u0644\\u0651\\u0646\\u064c\\u0645\\u064c\\u0648\\u064c \\u0627\\u0644\\u0645\\u064f\\u062a\\u0652\\u0648\\u0627\\u064e\\u0635\\u0644\\u064c \\u064c\\u0627\\u0644\\u0630\\u064b\\u064a \\u0638\\u064e\\u0644 \\u0623\\u064d\\u0633\\u0650\\u0628\\u064b\\u0648\\u064e\\u0639 \\u064b\\u062c\\u064d\\u064a\\u064f\\u062a\\u0643\\u064d\\u0633\\u0652 \\u0652\\u0644\\u064c\\u0644\\u0650\\u062a\\u064f\\u0642\\u0652\\u0646\\u064a\\u0652\\u0629\\u064b \\u064c\\u064a\\u0634\\u064d\\u0647\\u0651\\u062f\\u064d\\u0647 \\u0639\\u0644\\u064d\\u0649\\u064d \\u0652\\u0645\\u064e\\u0631 \\u0651\\u0627\\u064f\\u0644\\u0633\\u0646\\u064b\\u064a\\u064b\\u0646 \\u062f\\u0651\\u0644\\u0652\\u064a\\u0650\\u0644 \\u0639\\u0644\\u0652\\u0649\\u064d \\u0623\\u0647\\u064b\\u0645\\u064f\\u064a\\u0652\\u0629 \\u064f\\u0627\\u0644\\u0652\\u0645\\u0646\\u0637\\u0642\\u0629 \\u0643\\u0651\\u0633\\u064c\\u0648\\u0642 \\u0631\\u0626\\u064e\\u064a\\u0633\\u064e\\u064a\\u0650\\u0629 \\u0644\\u062a\\u064d\\u0642\\u0646\\u0650\\u064a\\u0651\\u0629 \\u0650\\u0627\\u064e\\u0644\\u0645\\u0651\\u0639\\u064b\\u0644\\u0648\\u0645\\u0627\\u0651\\u062a\\u064f\\u060c\\u064d \\u064f\\u0648\\u064b\\u0623\\u0636\\u0652\\u0627\\u064b\\u0641\\u064c:\\u064c \\u064a\\u0639\\u062a\\u0650\\u0628\\u0631\\u064c \\u0623\\u0633\\u0652\\u0628\\u0648\\u0639 \\u0652\\u062c\\u064e\\u064a\\u062a\\u0651\\u0643\\u0651\\u0633\\u0652 \\u0644\\u0644\\u062a\\u0642\\u0652\\u0646\\u064a\\u0629\\u064f \\u0645\\u062f\\u062e\\u0650\\u0644\\u0627\\u064b\\u0652 \\u0645\\u0647\\u0645\\u0627\\u064b \\u064c\\u0625\\u064f\\u0644\\u0651\\u0649 \\u0652\\u0623\\u0633\\u0648\\u064c\\u0627\\u0642 \\u064e\\u0627\\u0651\\u0644\\u064f\\u0645\\u0652\\u0646\\u0637\\u0642\\u0652\\u0629 \\u0652\\u0623\\u0645\\u064c\\u0627\\u064b\\u0645\\u064e \\u0627\\u0644\\u064c\\u0634\\u0651\\u0631\\u0643\\u0651\\u0627\\u0651\\u062a\\u064b \\u064d\\u0627\\u0650\\u0644\\u0651\\u062a\\u064a\\u0650 \\u062a\\u0652\\u062a\\u0637\\u0644\\u064c\\u0639\\u064f \\u0652\\u0625\\u064b\\u0644\\u0652\\u0649 \\u064e\\u0627\\u0644\\u062a\\u064f\\u0639\\u0627\\u0652\\u0641\\u064a \\u064e\\u0648\\u064f\\u0644\\u064c\\u0639\\u0650\\u0628 \\u062f\\u0650\\u0648\\u0631\\u064e \\u0651\\u062d\\u064a\\u064c\\u0648\\u064c\\u064a \\u064e\\u0641\\u064b\\u064a\\u064f \\u064c\\u0623\\u0639\\u0642\\u0627\\u0650\\u0628\\u064b \\u0627\\u0644\\u0652\\u0623\\u0632\\u064e\\u0645\\u0651\\u0629 \\u064d\\u0627\\u0644\\u064e\\u0627\\u064b\\u0642\\u062a\\u064c\\u0635\\u0627\\u0651\\u062f\\u064a\\u064d\\u0629 \\u0627\\u064c\\u0644\\u064d\\u0639\\u0650\\u0627\\u0644\\u064e\\u0645\\u064a\\u0629\\u060c\\u0651 \\u0650\\u0643\\u0645\\u064b\\u0627\\u0652 \\u0650\\u064a\\u062a\\u064a\\u0652\\u062d \\u064c\\u0623\\u0652\\u0645\\u0627\\u064c\\u0645\\u0651\\u0647\\u0627\\u0652 \\u064c\\u0641\\u0631\\u064d\\u0635\\u0627\\u064f\\u064b \\u064b\\u062d\\u0651\\u0642\\u064a\\u064c\\u0642\\u064d\\u064a\\u064d\\u0629 \\u064c\\u0644\\u0628\\u064f\\u0646\\u0627\\u0621\\u064f \\u0639\\u064c\\u0644\\u0627\\u064d\\u0642\\u064c\\u0627\\u062a\\u064e \\u0639\\u0645\\u0652\\u0644\\u064d \\u0631\\u0627\\u0633\\u064d\\u062e\\u0629 \\u0650\\u062a\\u0633\\u0651\\u062a\\u064e\\u0641\\u064a\\u062f \\u064e\\u0645\\u0646\\u064f \\u0639\\u0648\\u0651\\u062f\\u0650\\u0629\\u064d \\u0627\\u0644\\u0645\\u0650\\u0646\\u0627\\u062e \\u064c\\u0627\\u0651\\u0644\\u0627\\u064d\\u0642\\u062a\\u0635\\u064b\\u0627\\u062f\\u064a\\u064d \\u0627\\u0644\\u064c\\u0625\\u064d\\u064a\\u0651\\u062c\\u0650\\u0627\\u0652\\u0628\\u064a\\u064f \\u0652. \\u0623\\u0645\\u0650\\u0627 \\u0652\\u0628\\u0631\\u0650\\u0646\\u0627\\u064f\\u0645\\u064f\\u062c\\u064b \\u0652\\u0645\\u0624\\u064c\\u062a\\u064d\\u0645\\u064b\\u0631 \\u062c\\u064c\\u064a\\u062a\\u064c\\u0643\\u064f\\u0633\\u064b \\u0627\\u064f\\u0644\\u0639\\u064f\\u0627\\u0644\\u0651\\u0645\\u064a\\u064f\\u060c \\u0641\\u064d\\u0647\\u064c\\u0648\\u064f \\u0652\\u0627\\u0644\\u064d\\u0623\\u0651\\u0648\\u0633\\u0639\\u0650 \\u0639\\u0644\\u0649\\u0650 \\u0627\\u0644\\u064f\\u0625\\u0637\\u064e\\u0644\\u0627\\u064f\\u0642\\u060c\\u0650 \\u064f\\u0625\\u064c\\u0630\\u0652 \\u064a\\u064b\\u0623\\u062a\\u064a \\u0647\\u0630\\u064f\\u0627\\u064e \\u0627\\u064f\\u0644\\u0652\\u0639\\u0627\\u064c\\u0645\\u064b \\u062d\\u0627\\u0641\\u0644\\u0627\\u064b\\u064c \\u0628\\u0650\\u0623\\u064e\\u0631\\u0652\\u0628\\u0639\\u064f\\u064a\\u0650\\u0646\\u064f \\u064f\\u0645\\u064e\\u0633\\u0627\\u0642\\u064e\\u0627\\u064c\\u064b\\u064f \\u0652\\u064a\\u064f\\u0642\\u062f\\u0652\\u0645\\u0647\\u0627\\u064f \\u0648\\u064a\\u0650\\u062a\\u062d\\u062f\\u064c\\u062b\\u0650 \\u064c\\u0641\\u064a\\u064b\\u0647\\u0627\\u0652 \\u064c\\u0639\\u062f\\u062f \\u0645\\u064b\\u0646\\u064c \\u0642\\u0627\\u0651\\u062f\\u0629 \\u0652\\u0642\\u0650\\u0637\\u0627\\u064e\\u0639\\u0650 \\u064b\\u062a\\u0642\\u064e\\u0646\\u0651\\u064a\\u0629\\u064f \\u0627\\u064d\\u0644\\u064b\\u0645\\u0639\\u0644\\u064e\\u0648\\u0645\\u064b\\u0627\\u0651\\u062a \\u064e\\u0648\\u064e\\u0627\\u064d\\u0644\\u0627\\u0651\\u062a\\u0635\\u064d\\u0627\\u0644\\u0650\\u0627\\u0650\\u062a \\u0641\\u064a\\u064f \\u064b\\u0627\\u0644\\u0645\\u0646\\u064b\\u0637\\u064f\\u0642\\u064d\\u0629\\u0652 \\u0652\\u0648\\u064e\\u0627\\u0652\\u0644\\u064e\\u0639\\u064c\\u0627\\u064b\\u0644\\u0645 \\u0645\\u0645\\u064f\\u0646\\u0652 \\u0633\\u064a\\u0651\\u064f\\u062b\\u0651\\u0631\\u064e\\u0648\\u064f\\u0646 \\u0627\\u0650\\u0644\\u062d\\u0651\\u062f\\u064d\\u062b\\u0651 \\u064b\\u0628\\u0627\\u0651\\u0644\\u0652\\u0645\\u064f\\u0639\\u0651\\u0644\\u0648\\u064d\\u0645\\u064b\\u0627\\u062a \\u0627\\u0644\\u062c\\u062f\\u064b\\u064a\\u0651\\u062f\\u0651\\u0629\\u0651 \\u064c\\u0648\\u0627\\u0644\\u064e\\u062e\\u0628\\u0631\\u064d\\u0627\\u064e\\u062a \\u064e\\u0627\\u0644\\u0648\\u064f\\u0627\\u064f\\u0633\\u0652\\u0639\\u064e\\u0629 \\u064e\\u0627\\u0652\\u0644\\u0652\\u0645\\u064c\\u062a\\u064e\\u062c\\u062f\\u062f\\u0629\\u064f \\u064c.\\u0651 \\u0648\\u0652\\u0633\\u064a\\u0642\\u0652\\u0627\\u0645\\u064d \\u064c\\u0647\\u064d\\u0630\\u0627\\u0650 \\u0627\\u0644\\u0645\\u0652\\u0624\\u062a\\u064f\\u0645\\u0631 \\u0652\\u062a\\u064f\\u062d\\u064e\\u062a \\u0650\\u0639\\u0646\\u0651\\u0648\\u0651\\u0627\\u0646 \\u064f\\u062a\\u064f\\u0639\\u0631\\u064a\\u0651\\u0641\\u0651 \\u0642\\u0650\\u064a\\u0645\\u0650\\u0629\\u064f \\u062a\\u0642\\u0646\\u064f\\u064a\\u0629 \\u0627\\u0644\\u064c\\u0645\\u0639\\u0644\\u0651\\u0648\\u0645\\u0627\\u062a \\u064c\\u0641\\u064a\\u064b \\u0638\\u0644 \\u0650\\u0627\\u064f\\u0644\\u064c\\u062a\\u062d\\u062f\\u064a\\u064b\\u0627\\u062a\\u064d \\u064e\\u0627\\u0644\\u0650\\u0627\\u0642\\u064c\\u062a\\u0635\\u0651\\u0627\\u064e\\u062f\\u064a\\u0629 .\\u0648\\u064f\\u0645\\u064e\\u0646 \\u062c\\u064c\\u062f\\u064f\\u064a\\u0650\\u062f \\u064f\\u062c\\u064a\\u064b\\u062a\\u064d\\u0643\\u064e\\u0633\\u0652 \\u0641\\u064e\\u064a \\u062f\\u0648\\u064d\\u0631\\u064f\\u062a\\u064c\\u0647 \\u0644\\u064d\\u0644\\u064f\\u0639\\u0627\\u064c\\u0645 \\u0627\\u064c\\u0644\\u062d\\u0627\\u0644\\u064d\\u064a \\u0651\\u062c\\u0644\\u064b\\u0633\\u064c\\u0627\\u062a \\u0652\\u0627\\u064d\\u0644\\u0625\\u0641\\u0637\\u0652\\u0627\\u0631\\u0651 \\u0651\\u0627\\u064e\\u0644\\u064e\\u0635\\u0628\\u0627\\u064e\\u062d\\u0650\\u064a\\u0629\\u064f \\u0644\\u0631\\u064c\\u0648\\u064b\\u0627\\u064b\\u062f \\u0627\\u0644\\u064d\\u0623\\u0652\\u0639\\u0645\\u0627\\u0644\\u060c \\u064e\\u0627\\u0644\\u0650\\u0645\\u0635\\u0645\\u0645\\u0650\\u0629 \\u0644\\u0651\\u0643\\u064d\\u0628\\u0627\\u0631 \\u0650\\u0627\\u0650\\u0644\\u0651\\u062a\\u064d\\u0646\\u0641\\u0652\\u064a\\u064d\\u0630\\u0650\\u064a\\u0651\\u064a\\u064c\\u0646\\u064d\\u060c\\u0652 \\u0648\\u0627\\u064f\\u0644\\u0651\\u062a\\u064b\\u064a \\u064d\\u0633\\u062a\\u064b\\u0639\\u0631\\u0636 \\u064f\\u0641\\u064b\\u064a\\u0647\\u0650\\u0627 \\u0634\\u0631\\u064b\\u0643\\u064d\\u0629\\u064c \\u064c\\u063a\\u064e\\u0627\\u064f\\u0631\\u064d\\u062a\\u0646\\u0631 \\u0652\\u0622\\u0646\\u064d\\u062f \\u0641\\u0648\\u0651\\u0631\\u064a\\u0650\\u0633\\u062a\\u0631\\u0651 \\u0644\\u064e\\u0644\\u0623\\u0650\\u0628\\u062d\\u0627\\u062b\\u064b \\u0623\\u0650\\u0628\\u0652\\u0631\\u0632\\u064c \\u0645\\u064b\\u0644\\u0651\\u0627\\u0645\\u0651\\u062d\\u0651 \\u0627\\u064f\\u0644\\u0627\\u062a\\u064f\\u062c\\u064b\\u0627\\u0650\\u0647\\u064f\\u0627\\u064e\\u062a\\u0652 \\u0627\\u064d\\u0644\\u062d\\u062f\\u064a\\u062b\\u0629 \\u0641\\u064d\\u064a \\u062a\\u0642\\u0651\\u0646\\u064a\\u0629 \\u064b\\u0627\\u0644\\u064e\\u0645\\u0652\\u0639\\u0644\\u064b\\u0648\\u0652\\u0645\\u064c\\u0627\\u062a \\u0648\\u0627\\u0644\\u0627\\u062a\\u0635\\u064c\\u0627\\u0644\\u0627\\u064c\\u062a\\u060c\\u0650 \\u064f\\u0625\\u0644\\u064b\\u0649 \\u062c\\u0650\\u0627\\u064d\\u0646\\u0628\\u064e \\u0650\\u0639\\u064c\\u062f\\u062f \\u0652\\u0645\\u0646 \\u0627\\u064e\\u0644\\u0646\\u0652\\u062f\\u064c\\u0648\\u0627\\u062a \\u0627\\u0644\\u064b\\u0645\\u062e\\u064f\\u062a\\u0635\\u0629 \\u0652\\u0627\\u0644\\u064c\\u062a\\u064f\\u064a\\u064b \\u062a\\u062f\\u064a\\u0651\\u0631\\u064f\\u0647\\u064f\\u0627 \\u0648\\u064a\\u062d\\u064c\\u0627\\u0636\\u064e\\u0631 \\u0641\\u064a\\u0650\\u0647\\u0627 \\u0623\\u0634\\u064d\\u062e\\u0627\\u0635\\u0652 \\u0652\\u0628\\u0652\\u0627\\u0631\\u0632\\u0648\\u0650\\u0646\\u064e \\u0645\\u064c\\u0646 \\u064c\\u0627\\u0651\\u0644\\u0642\\u0637\\u0627\\u064c\\u0639 \\u064b\\u0627\\u064b\\u0644\\u064f\\u062a\\u0651\\u0642\\u064e\\u0646\\u0651\\u064a\\u064d \\u0652.\\u0643\\u064e\\u0645\\u0627 \\u064c\\u0633\\u064a\\u064b\\u0639\\u0648\\u062f\\u064c \\u0652\\u0645\\u062c\\u0644\\u0633\\u0651 \\u062c\\u064b\\u064a\\u062a\\u0643\\u0652\\u0633\\u0652\\u060c\\u064b \\u0648\\u0651\\u0647\\u064c\\u0648 \\u0652\\u0646\\u0627\\u064f\\u062f\\u064d\\u064d\\u064b \\u064f\\u0644\\u0627\\u0633\\u064c\\u062a\\u064b\\u0636\\u0650\\u0627\\u064d\\u0641\\u0629 \\u064c\\u0643\\u0628\\u064d\\u0627\\u0631 \\u064c\\u0627\\u0644\\u0634\\u0652\\u062e\\u0635\\u064b\\u064a\\u0627\\u062a \\u0648\\u0631\\u0651\\u062c\\u0627\\u064e\\u0644\\u064c \\u064c\\u0627\\u064d\\u0644\\u0651\\u0623\\u0639\\u0645\\u0652\\u0627\\u0644\\u0651\\u060c \\u0628\\u062d\\u064f\\u064c\\u0644\\u0651\\u0650\\u0629\\u064e \\u0623\\u064f\\u0628\\u0647\\u0649\\u064e \\u0648\\u0628\\u0645\\u064f\\u0633\\u0627\\u062d\\u0629 \\u064d\\u0623\\u0648\\u0633\\u064e\\u0639 \\u064f\\u0647\\u0630\\u0627 \\u0627\\u0652\\u0644\\u0639\\u0627\\u064f\\u0645\\u060c\\u064f \\u0625\\u064b\\u0630\\u064d \\u0633\\u062a\\u062c\\u0650\\u0631\\u0651\\u064a\\u064d \\u0625\\u0650\\u062a\\u0627\\u062d\\u0629 \\u0627\\u064e\\u0644\\u0641\\u0631\\u0635\\u0651\\u0629\\u064b \\u0644\\u064f\\u0644\\u064b\\u0645\\u064e\\u0634\\u0627\\u0631\\u064e\\u0643\\u0629\\u064d \\u0641\\u064a\\u064e \\u064b\\u0645\\u0646\\u064f\\u062a\\u0650\\u062f\\u064a\\u0652\\u0627\\u062a \\u0652\\u0627\\u0644\\u064e\\u062a\\u0648\\u064b\\u0627\\u064d\\u0635\\u0644 \\u0648\\u0627\\u0644\\u062f\\u062e\\u064d\\u0648\\u0650\\u0644\\u064b \\u064e\\u0625\\u0644\\u064f\\u0649\\u0651 \\u064b\\u0627\\u0651\\u0644\\u064d\\u0642\\u0650\\u0627\\u0639\\u0651\\u0629 \\u0652\\u0627\\u0650\\u0644\\u062e\\u064d\\u0627\\u0635\\u0629 \\u0628\\u0652\\u0627\\u064f\\u0644\\u064b\\u062a\\u064f\\u0646\\u0641\\u064a\\u0630\\u064b\\u064a\\u064a\\u0646\\u0650 \\u0648\\u0623\\u0648\\u0644\\u064d\\u0648\\u064a\\u0629\\u0651 \\u064c\\u062d\\u0636\\u0651\\u0648\\u0631 \\u064b\\u0646\\u062f\\u0651\\u0648\\u0627\\u062a\\u064f \\u0627\\u0644\\u0652\\u0645\\u0651\\u0624\\u062a\\u0652\\u0645\\u0631\\u064e \\u0648\\u0648\\u064c\\u0631\\u0634\\u0650 \\u0651\\u0627\\u0644\\u0639\\u064d\\u0645\\u0644\\u064c \\u0648\\u064d\\u0627\\u0644\\u062c\\u0644\\u064e\\u0648\\u064c\\u0633\\u064f \\u064b\\u0641\\u064a\\u0652 \\u0627\\u0644\\u064e\\u0645\\u0642\\u064d\\u0627\\u064d\\u0639\\u062f\\u064e \\u0627\\u064d\\u0644\\u064e\\u0623\\u064c\\u0645\\u064c\\u0627\\u064f\\u0645\\u064e\\u064a\\u0652\\u0629\\u060c\\u0651 \\u064c\\u0648\\u064c\\u0633\\u0648\\u064e\\u0641\\u0651 \\u064a\\u0633\\u064f\\u062a\\u064b\\u0636\\u0651\\u064a\\u0651\\u0641\\u064c \\u0627\\u0644\\u064f\\u0628\\u0631\\u0651\\u0646\\u0652\\u0627\\u0645\\u064d\\u062c\\u064c \\u0652\\u0647\\u064c\\u0630\\u064e\\u0627 \\u0627\\u064b\\u0644\\u0639\\u0627\\u064b\\u0645\\u064b 2\\u064c000\\u064c \\u0639\\u0636\\u064f\\u0648\\u0651 . \\u062c\\u064b\\u062f\\u0652\\u064a\\u0631 \\u0628\\u0627\\u064e\\u0644\\u0650\\u0630\\u0643\\u064d\\u0631\\u064d \\u0623\\u064d\\u0646 \\u0623\\u064b\\u0633\\u0650\\u0628\\u0652\\u0648\\u064f\\u0639 \\u062c\\u064a\\u064f\\u062a\\u064d\\u0643\\u0633 \\u064b\\u0644\\u0644\\u064b\\u062a\\u0652\\u0642\\u064d\\u0646\\u064b\\u064a\\u0629 \\u0645\\u064f\\u062f\\u0639\\u0648\\u0650\\u0645 \\u0645\\u064b\\u0646\\u064f \\u064e\\u0645\\u0652\\u062f\\u064a\\u0646\\u0652\\u0629\\u064d \\u064b\\u062f\\u0628\\u064f\\u064a\\u064e \\u0652\\u0644\\u0644\\u0625\\u064b\\u0646\\u062a\\u0651\\u0631\\u0646\\u062a\\u0650\\u060c \\u0627\\u064f\\u0644\\u0650\\u0634\\u0631\\u0651\\u064a\\u064c\\u0643\\u0651 \\u064d\\u0627\\u0651\\u0644\\u0652\\u0627\\u0633\\u062a\\u0650\\u0631\\u0651\\u0627\\u064e\\u062a\\u064e\\u064a\\u064e\\u062c\\u064d\\u064a \\u064e\\u0644\\u062a\\u0642\\u0646\\u0652\\u064a\\u0652\\u0629 \\u0627\\u0644\\u064d\\u0645\\u064b\\u0639\\u0644\\u0648\\u064d\\u0645\\u0627\\u0652\\u062a\\u064e \\u0648\\u064b\\u0627\\u0644\\u064c\\u0627\\u064e\\u062a\\u0635\\u0627\\u0644\\u0627\\u062a .\"\n        ],\n        \"semantic_type\": \"\",\n        \"description\": \"\"\n      }\n    },\n    {\n      \"column\": \"label\",\n      \"properties\": {\n        \"dtype\": \"string\",\n        \"num_unique_values\": 6,\n        \"samples\": [\n          \"Politics\",\n          \"Medical\",\n          \"Sports\"\n        ],\n        \"semantic_type\": \"\",\n        \"description\": \"\"\n      }\n    }\n  ]\n}"
            }
          },
          "metadata": {},
          "execution_count": 146
        }
      ]
    },
    {
      "cell_type": "code",
      "source": [
        "df.isna().sum() # no null valuesuntil this step"
      ],
      "metadata": {
        "colab": {
          "base_uri": "https://localhost:8080/",
          "height": 146
        },
        "id": "mBSEDQyBDXG7",
        "outputId": "2cfb8e22-4d4e-4132-a09a-0a698fb6bfca"
      },
      "execution_count": 147,
      "outputs": [
        {
          "output_type": "execute_result",
          "data": {
            "text/plain": [
              "text     0\n",
              "label    0\n",
              "dtype: int64"
            ],
            "text/html": [
              "<div>\n",
              "<style scoped>\n",
              "    .dataframe tbody tr th:only-of-type {\n",
              "        vertical-align: middle;\n",
              "    }\n",
              "\n",
              "    .dataframe tbody tr th {\n",
              "        vertical-align: top;\n",
              "    }\n",
              "\n",
              "    .dataframe thead th {\n",
              "        text-align: right;\n",
              "    }\n",
              "</style>\n",
              "<table border=\"1\" class=\"dataframe\">\n",
              "  <thead>\n",
              "    <tr style=\"text-align: right;\">\n",
              "      <th></th>\n",
              "      <th>0</th>\n",
              "    </tr>\n",
              "  </thead>\n",
              "  <tbody>\n",
              "    <tr>\n",
              "      <th>text</th>\n",
              "      <td>0</td>\n",
              "    </tr>\n",
              "    <tr>\n",
              "      <th>label</th>\n",
              "      <td>0</td>\n",
              "    </tr>\n",
              "  </tbody>\n",
              "</table>\n",
              "</div><br><label><b>dtype:</b> int64</label>"
            ]
          },
          "metadata": {},
          "execution_count": 147
        }
      ]
    },
    {
      "cell_type": "code",
      "source": [
        "df.duplicated().sum() # no duplicated values until this step"
      ],
      "metadata": {
        "colab": {
          "base_uri": "https://localhost:8080/"
        },
        "id": "Gy7BqW3RDhdG",
        "outputId": "2f54f507-165f-4595-90a9-0dcd908c97c9"
      },
      "execution_count": 148,
      "outputs": [
        {
          "output_type": "execute_result",
          "data": {
            "text/plain": [
              "0"
            ]
          },
          "metadata": {},
          "execution_count": 148
        }
      ]
    },
    {
      "cell_type": "code",
      "source": [
        "df['length'] = df['text'].str.len()"
      ],
      "metadata": {
        "id": "g7hDslM-D_ty"
      },
      "execution_count": 149,
      "outputs": []
    },
    {
      "cell_type": "code",
      "source": [
        "df['length'].value_counts()"
      ],
      "metadata": {
        "colab": {
          "base_uri": "https://localhost:8080/",
          "height": 489
        },
        "id": "6Ksh8TPGIwy3",
        "outputId": "e700eefc-5051-4483-f7d9-516b8c7afb63"
      },
      "execution_count": 150,
      "outputs": [
        {
          "output_type": "execute_result",
          "data": {
            "text/plain": [
              "length\n",
              "1431    24\n",
              "981     23\n",
              "1598    23\n",
              "1475    23\n",
              "1523    23\n",
              "        ..\n",
              "5598     1\n",
              "6865     1\n",
              "6680     1\n",
              "6604     1\n",
              "6310     1\n",
              "Name: count, Length: 6060, dtype: int64"
            ],
            "text/html": [
              "<div>\n",
              "<style scoped>\n",
              "    .dataframe tbody tr th:only-of-type {\n",
              "        vertical-align: middle;\n",
              "    }\n",
              "\n",
              "    .dataframe tbody tr th {\n",
              "        vertical-align: top;\n",
              "    }\n",
              "\n",
              "    .dataframe thead th {\n",
              "        text-align: right;\n",
              "    }\n",
              "</style>\n",
              "<table border=\"1\" class=\"dataframe\">\n",
              "  <thead>\n",
              "    <tr style=\"text-align: right;\">\n",
              "      <th></th>\n",
              "      <th>count</th>\n",
              "    </tr>\n",
              "    <tr>\n",
              "      <th>length</th>\n",
              "      <th></th>\n",
              "    </tr>\n",
              "  </thead>\n",
              "  <tbody>\n",
              "    <tr>\n",
              "      <th>1431</th>\n",
              "      <td>24</td>\n",
              "    </tr>\n",
              "    <tr>\n",
              "      <th>981</th>\n",
              "      <td>23</td>\n",
              "    </tr>\n",
              "    <tr>\n",
              "      <th>1598</th>\n",
              "      <td>23</td>\n",
              "    </tr>\n",
              "    <tr>\n",
              "      <th>1475</th>\n",
              "      <td>23</td>\n",
              "    </tr>\n",
              "    <tr>\n",
              "      <th>1523</th>\n",
              "      <td>23</td>\n",
              "    </tr>\n",
              "    <tr>\n",
              "      <th>...</th>\n",
              "      <td>...</td>\n",
              "    </tr>\n",
              "    <tr>\n",
              "      <th>5598</th>\n",
              "      <td>1</td>\n",
              "    </tr>\n",
              "    <tr>\n",
              "      <th>6865</th>\n",
              "      <td>1</td>\n",
              "    </tr>\n",
              "    <tr>\n",
              "      <th>6680</th>\n",
              "      <td>1</td>\n",
              "    </tr>\n",
              "    <tr>\n",
              "      <th>6604</th>\n",
              "      <td>1</td>\n",
              "    </tr>\n",
              "    <tr>\n",
              "      <th>6310</th>\n",
              "      <td>1</td>\n",
              "    </tr>\n",
              "  </tbody>\n",
              "</table>\n",
              "<p>6060 rows × 1 columns</p>\n",
              "</div><br><label><b>dtype:</b> int64</label>"
            ]
          },
          "metadata": {},
          "execution_count": 150
        }
      ]
    },
    {
      "cell_type": "code",
      "source": [
        "df['length'].value_counts().plot(kind='hist')"
      ],
      "metadata": {
        "colab": {
          "base_uri": "https://localhost:8080/",
          "height": 447
        },
        "id": "dCXTFwAvECcI",
        "outputId": "9afd536d-82b0-45f6-b66c-6bb00cdcef86"
      },
      "execution_count": 151,
      "outputs": [
        {
          "output_type": "execute_result",
          "data": {
            "text/plain": [
              "<Axes: ylabel='Frequency'>"
            ]
          },
          "metadata": {},
          "execution_count": 151
        },
        {
          "output_type": "display_data",
          "data": {
            "text/plain": [
              "<Figure size 640x480 with 1 Axes>"
            ],
            "image/png": "[encoded data removed]"
          },
          "metadata": {}
        }
      ]
    },
    {
      "cell_type": "markdown",
      "metadata": {
        "id": "X_oEu0TkSMEB"
      },
      "source": [
        "# Data Cleaning and Preprocessing"
      ]
    },
    {
      "cell_type": "markdown",
      "metadata": {
        "id": "wSAFiozlRQHt"
      },
      "source": [
        "In this section, we will focus on cleaning and filtering the dataset, preparing it for the text classification task. We will implement the following steps:\n",
        "\n",
        "1. **Remove missing values**:\n",
        "   First, we eliminate any rows with missing values to ensure the dataset is complete and consistent.\n",
        "\n",
        "2. **Filter by text length (Bonus)**:\n",
        "   To maintain a uniform dataset, we will filter the text samples by a specified word count range. This ensures that the texts are neither too short to lack context nor too long to introduce unnecessary complexity.\n",
        "\n",
        "3. **Arabic stopwords loading**:\n",
        "   We load a list of Arabic stopwords to filter out commonly used but contextually insignificant words. This is an important step for improving the performance of the model, as stopwords do not contribute valuable information.\n",
        "\n",
        "4. **Text cleaning**:\n",
        "   We apply a series of text cleaning steps to standardize and simplify the text data. This involves:\n",
        "   - **Removing links (URLs)**: Any URLs present in the text are removed as they are not meaningful for classification purposes.\n",
        "   - **Removing special characters and punctuation**: This step removes any non-alphabetical characters, ensuring the text only contains meaningful words.\n",
        "   - **Removing Arabic diacritics (Tashkeel) and elongated letters (Tatweel)**: Diacritical marks and elongated letters are stripped out to standardize the text.\n",
        "   - **Removing Arabic stopwords**: Words that are part of the stopwords list are removed, as they do not add value to the classification task.\n",
        "   - **Stemming or Lemmmatization**: Either stemming or lemmatization is applied to reduce words to their root or base form.\n",
        "   - **Normalizing Hamza**: Any variation of the Hamza character is normalized for consistency.\n",
        "\n",
        "   **Note:** Most of these you can do using the library [PyArabic](https://pyarabic.readthedocs.io/ar/latest/README.html#features)\n",
        "\n",
        "5. **Final cleanup**:\n",
        "   Apply the cleanup function to the feature column.\n",
        "\n",
        "By following these steps, the text will be cleaned, filtered, and ready for tokenization!"
      ]
    },
    {
      "cell_type": "code",
      "execution_count": 177,
      "metadata": {
        "id": "mHEObOY_fHhq"
      },
      "outputs": [],
      "source": [
        "from sklearn.model_selection import train_test_split\n",
        "\n",
        "\n",
        "train_val, test = train_test_split(df, test_size=0.2, random_state=42)\n",
        "train, val = train_test_split(train_val, test_size=0.2, random_state=42)"
      ]
    },
    {
      "cell_type": "code",
      "source": [
        "# already no null values\n",
        "from pyarabic.araby import strip_tashkeel, strip_tatweel, normalize_hamza\n",
        "import nltk\n",
        "nltk.download('stopwords')"
      ],
      "metadata": {
        "colab": {
          "base_uri": "https://localhost:8080/"
        },
        "id": "RpxNYzGHFLKF",
        "outputId": "4892db81-445f-485c-dc6e-360ae442822f"
      },
      "execution_count": 178,
      "outputs": [
        {
          "output_type": "stream",
          "name": "stderr",
          "text": [
            "[nltk_data] Downloading package stopwords to /root/nltk_data...\n",
            "[nltk_data]   Package stopwords is already up-to-date!\n"
          ]
        },
        {
          "output_type": "execute_result",
          "data": {
            "text/plain": [
              "True"
            ]
          },
          "metadata": {},
          "execution_count": 178
        }
      ]
    },
    {
      "cell_type": "code",
      "source": [
        "from nltk.corpus import stopwords\n",
        "from nltk.stem.isri import ISRIStemmer\n",
        "import re\n",
        "\n",
        "st = ISRIStemmer()\n",
        "arabic_stopwords = set(stopwords.words('arabic'))"
      ],
      "metadata": {
        "id": "G28ilsMRFacu"
      },
      "execution_count": 179,
      "outputs": []
    },
    {
      "cell_type": "code",
      "source": [
        "def unique_words(data):\n",
        "    text = data['text'].str.cat(sep=' ')\n",
        "    return set(text.split())"
      ],
      "metadata": {
        "id": "XyzirRdoFxoT"
      },
      "execution_count": 180,
      "outputs": []
    },
    {
      "cell_type": "code",
      "source": [
        "def clean_text(text):\n",
        "  text = re.sub(r'https?\\S+|www\\S+', '', text)\n",
        "  text = re.sub(r'[^\\w\\s]', '', text)\n",
        "  text = strip_tashkeel(text)\n",
        "  text = strip_tatweel(text)\n",
        "\n",
        "  text = text.split()\n",
        "  text = [word for word in text if word not in arabic_stopwords]\n",
        "\n",
        "  stemmed_words = []\n",
        "\n",
        "  for word in text:\n",
        "    stemmed_words.append(st.stem(word))\n",
        "\n",
        "  text = ' '.join(stemmed_words)\n",
        "\n",
        "  text = normalize_hamza(text)\n",
        "  return text\n"
      ],
      "metadata": {
        "id": "t1xomUcIFxk-"
      },
      "execution_count": 181,
      "outputs": []
    },
    {
      "cell_type": "code",
      "source": [
        "def clean_dataframe(data):\n",
        "  data = data[(data['length'] >= 150) & (data['length'] <= 5500)]\n",
        "  return data"
      ],
      "metadata": {
        "id": "A-_9EpUfINDt"
      },
      "execution_count": 182,
      "outputs": []
    },
    {
      "cell_type": "code",
      "source": [
        "train = clean_dataframe(train)\n",
        "train['text'] = train['text'].apply(clean_text)\n",
        "val = clean_dataframe(val)\n",
        "val['text'] = val['text'].apply(clean_text)\n",
        "test = clean_dataframe(test)\n",
        "test['text'] = test['text'].apply(clean_text)"
      ],
      "metadata": {
        "id": "6gqOWdGCFpw5"
      },
      "execution_count": 183,
      "outputs": []
    },
    {
      "cell_type": "markdown",
      "metadata": {
        "id": "VF45GS_ZSEix"
      },
      "source": [
        "# Tokenization, Padding, and Data Splitting"
      ]
    },
    {
      "cell_type": "markdown",
      "metadata": {
        "id": "YmsL3S-5SIbl"
      },
      "source": [
        "In this step, we will prepare the text data for input into a model by converting the text into numerical sequences, padding them to a uniform length, and splitting the dataset into training and testing sets. Here's an overview of the steps involved:\n",
        "\n",
        "1. **Tokenization**:\n",
        "   We use a tokenizer to convert the cleaned text into numerical sequences. You can use `Tokenizer` tokenizer from `tensorflow.keras.preprocessing.text` package or any other tokenizer you like.\n",
        "\n",
        "2. **Text to sequences**:\n",
        "   After fitting the tokenizer on the cleaned text, we transform each text into a sequence of numbers, where each number corresponds to a token (word) in the text.\n",
        "\n",
        "3. **Padding the sequences**:\n",
        "   Since different texts may vary in length, we pad the sequences to ensure they all have the same length.\n",
        "\n",
        "4. **Label encoding**:\n",
        "   The labels (target values) also need to be converted into numerical form if they are not encoded.\n",
        "\n",
        "5. **Train-test split**:\n",
        "   The dataset is divided into training and testing sets. We allocate 80% of the data for training the model and reserve 20% for testing its performance.\n",
        "   \n",
        "   - The **training data** consists of the padded sequences used to train the model.\n",
        "   - The **training labels** are the encoded labels corresponding to the training data.\n",
        "   - The **testing data** is used to assess the model’s performance after training.\n",
        "   - The **testing labels** are the encoded labels corresponding to the testing data.\n",
        "\n",
        "6. **Data shape confirmation**:\n",
        "   After splitting the data, we print the shape (dimensions) of both the training and testing sets to confirm that the data is properly divided and formatted.\n",
        "\n",
        "By the end of this step, the text data will be transformed into padded numerical sequences, the labels will be encoded, and the data will be split into training and testing sets for model development and evaluation."
      ]
    },
    {
      "cell_type": "code",
      "execution_count": 184,
      "metadata": {
        "id": "z401Re0VfI1f"
      },
      "outputs": [],
      "source": [
        "import tensorflow\n",
        "from tensorflow.keras.models import Sequential\n",
        "from tensorflow.keras.layers import Embedding, LSTM, Dense, Dropout, Input, Bidirectional, SimpleRNN, LSTM\n",
        "from tensorflow.keras.preprocessing.text import Tokenizer\n",
        "from tensorflow.keras.preprocessing.sequence import pad_sequences\n",
        "from sklearn.preprocessing import LabelEncoder\n",
        "import matplotlib.pyplot as plt"
      ]
    },
    {
      "cell_type": "code",
      "source": [
        "train['text']"
      ],
      "metadata": {
        "colab": {
          "base_uri": "https://localhost:8080/",
          "height": 458
        },
        "id": "aBax8lLUJYG7",
        "outputId": "8659cbbe-ffa0-43ea-c1a1-42f461864d92"
      },
      "execution_count": 185,
      "outputs": [
        {
          "output_type": "execute_result",
          "data": {
            "text/plain": [
              "38617    خليجءكد نصر برك دير درة قني علم دءر شءن سلم عم...\n",
              "30087    نخب سلف نظر كوستاريكي 3 صفر برا كرة قدم دول ود...\n",
              "11982    خلج اعل صرف وظب سلم نجح جمع 504 لاي كتب زيد رء...\n",
              "17754    خليجءعلنت وزر صحة شكل لجن استشارية وزر صحة ءثر...\n",
              "2420     حمد عربتشتغل فنن لبن كات طرابلس عرض نظم غالير ...\n",
              "                               ...                        \n",
              "20281    خليجينتظر يعل رءس جزر عبد عزز بوتفليقة خلل ساع...\n",
              "37067    عهد دبي قضي همش شرك عرض سبع جيتكس قني 2015 نقب...\n",
              "15503    طلب جمع زيد فرع وظب حمل وعي خطر صبة سرط ثدي دع...\n",
              "35326    سون ريكس طلق قلم هتف جدد كسبير نيو Xperia neo ...\n",
              "3144     كلم رجم يضح فسر لكل عجم ءستغرب وظل عرف سءد طول...\n",
              "Name: text, Length: 24371, dtype: object"
            ],
            "text/html": [
              "<div>\n",
              "<style scoped>\n",
              "    .dataframe tbody tr th:only-of-type {\n",
              "        vertical-align: middle;\n",
              "    }\n",
              "\n",
              "    .dataframe tbody tr th {\n",
              "        vertical-align: top;\n",
              "    }\n",
              "\n",
              "    .dataframe thead th {\n",
              "        text-align: right;\n",
              "    }\n",
              "</style>\n",
              "<table border=\"1\" class=\"dataframe\">\n",
              "  <thead>\n",
              "    <tr style=\"text-align: right;\">\n",
              "      <th></th>\n",
              "      <th>text</th>\n",
              "    </tr>\n",
              "  </thead>\n",
              "  <tbody>\n",
              "    <tr>\n",
              "      <th>38617</th>\n",
              "      <td>خليجءكد نصر برك دير درة قني علم دءر شءن سلم عم...</td>\n",
              "    </tr>\n",
              "    <tr>\n",
              "      <th>30087</th>\n",
              "      <td>نخب سلف نظر كوستاريكي 3 صفر برا كرة قدم دول ود...</td>\n",
              "    </tr>\n",
              "    <tr>\n",
              "      <th>11982</th>\n",
              "      <td>خلج اعل صرف وظب سلم نجح جمع 504 لاي كتب زيد رء...</td>\n",
              "    </tr>\n",
              "    <tr>\n",
              "      <th>17754</th>\n",
              "      <td>خليجءعلنت وزر صحة شكل لجن استشارية وزر صحة ءثر...</td>\n",
              "    </tr>\n",
              "    <tr>\n",
              "      <th>2420</th>\n",
              "      <td>حمد عربتشتغل فنن لبن كات طرابلس عرض نظم غالير ...</td>\n",
              "    </tr>\n",
              "    <tr>\n",
              "      <th>...</th>\n",
              "      <td>...</td>\n",
              "    </tr>\n",
              "    <tr>\n",
              "      <th>20281</th>\n",
              "      <td>خليجينتظر يعل رءس جزر عبد عزز بوتفليقة خلل ساع...</td>\n",
              "    </tr>\n",
              "    <tr>\n",
              "      <th>37067</th>\n",
              "      <td>عهد دبي قضي همش شرك عرض سبع جيتكس قني 2015 نقب...</td>\n",
              "    </tr>\n",
              "    <tr>\n",
              "      <th>15503</th>\n",
              "      <td>طلب جمع زيد فرع وظب حمل وعي خطر صبة سرط ثدي دع...</td>\n",
              "    </tr>\n",
              "    <tr>\n",
              "      <th>35326</th>\n",
              "      <td>سون ريكس طلق قلم هتف جدد كسبير نيو Xperia neo ...</td>\n",
              "    </tr>\n",
              "    <tr>\n",
              "      <th>3144</th>\n",
              "      <td>كلم رجم يضح فسر لكل عجم ءستغرب وظل عرف سءد طول...</td>\n",
              "    </tr>\n",
              "  </tbody>\n",
              "</table>\n",
              "<p>24371 rows × 1 columns</p>\n",
              "</div><br><label><b>dtype:</b> object</label>"
            ]
          },
          "metadata": {},
          "execution_count": 185
        }
      ]
    },
    {
      "cell_type": "code",
      "source": [
        "train.shape"
      ],
      "metadata": {
        "colab": {
          "base_uri": "https://localhost:8080/"
        },
        "id": "IxwfUyi4TL-q",
        "outputId": "8b12df4a-4541-4562-a975-08cb7977b0ae"
      },
      "execution_count": 186,
      "outputs": [
        {
          "output_type": "execute_result",
          "data": {
            "text/plain": [
              "(24371, 3)"
            ]
          },
          "metadata": {},
          "execution_count": 186
        }
      ]
    },
    {
      "cell_type": "code",
      "source": [
        "train['label'].value_counts()"
      ],
      "metadata": {
        "colab": {
          "base_uri": "https://localhost:8080/",
          "height": 335
        },
        "id": "7LMoF1k-TBIK",
        "outputId": "58c1deed-6653-4eee-c1fc-3cbf64540326"
      },
      "execution_count": 187,
      "outputs": [
        {
          "output_type": "execute_result",
          "data": {
            "text/plain": [
              "label\n",
              "Politics    4012\n",
              "Medical     3933\n",
              "Finance     3721\n",
              "Sports      3659\n",
              "Culture     3657\n",
              "Tech        3651\n",
              "Religion    1738\n",
              "Name: count, dtype: int64"
            ],
            "text/html": [
              "<div>\n",
              "<style scoped>\n",
              "    .dataframe tbody tr th:only-of-type {\n",
              "        vertical-align: middle;\n",
              "    }\n",
              "\n",
              "    .dataframe tbody tr th {\n",
              "        vertical-align: top;\n",
              "    }\n",
              "\n",
              "    .dataframe thead th {\n",
              "        text-align: right;\n",
              "    }\n",
              "</style>\n",
              "<table border=\"1\" class=\"dataframe\">\n",
              "  <thead>\n",
              "    <tr style=\"text-align: right;\">\n",
              "      <th></th>\n",
              "      <th>count</th>\n",
              "    </tr>\n",
              "    <tr>\n",
              "      <th>label</th>\n",
              "      <th></th>\n",
              "    </tr>\n",
              "  </thead>\n",
              "  <tbody>\n",
              "    <tr>\n",
              "      <th>Politics</th>\n",
              "      <td>4012</td>\n",
              "    </tr>\n",
              "    <tr>\n",
              "      <th>Medical</th>\n",
              "      <td>3933</td>\n",
              "    </tr>\n",
              "    <tr>\n",
              "      <th>Finance</th>\n",
              "      <td>3721</td>\n",
              "    </tr>\n",
              "    <tr>\n",
              "      <th>Sports</th>\n",
              "      <td>3659</td>\n",
              "    </tr>\n",
              "    <tr>\n",
              "      <th>Culture</th>\n",
              "      <td>3657</td>\n",
              "    </tr>\n",
              "    <tr>\n",
              "      <th>Tech</th>\n",
              "      <td>3651</td>\n",
              "    </tr>\n",
              "    <tr>\n",
              "      <th>Religion</th>\n",
              "      <td>1738</td>\n",
              "    </tr>\n",
              "  </tbody>\n",
              "</table>\n",
              "</div><br><label><b>dtype:</b> int64</label>"
            ]
          },
          "metadata": {},
          "execution_count": 187
        }
      ]
    },
    {
      "cell_type": "code",
      "source": [
        "tokenizer = Tokenizer()\n",
        "tokenizer.fit_on_texts(train['text'])\n",
        "label_encoder = LabelEncoder()"
      ],
      "metadata": {
        "id": "isoij77CJmx3"
      },
      "execution_count": 188,
      "outputs": []
    },
    {
      "cell_type": "code",
      "source": [
        "def techniques(data):\n",
        "    data['text'] = tokenizer.texts_to_sequences(data['text'])\n",
        "    data['text'] = pad_sequences(data['text'], maxlen=500, padding='post')\n",
        "\n",
        "    data['label'] = label_encoder.fit_transform(data['label'])\n",
        "    return data"
      ],
      "metadata": {
        "id": "QYv5-GAqKfk4"
      },
      "execution_count": 190,
      "outputs": []
    },
    {
      "cell_type": "code",
      "source": [
        "train = techniques(train)\n",
        "val = techniques(val)\n",
        "test = techniques(test)"
      ],
      "metadata": {
        "id": "RqbrBK2xLXcz"
      },
      "execution_count": 191,
      "outputs": []
    },
    {
      "cell_type": "markdown",
      "metadata": {
        "id": "qd5Ek4NLTgVN"
      },
      "source": [
        "# Building the Classifier"
      ]
    },
    {
      "cell_type": "markdown",
      "metadata": {
        "id": "HpLEoTaITEGx"
      },
      "source": [
        "In this step, you will design and build a NLP Classifier model to classify text data. Below is a breakdown of the key components you'll implement, but it's up to you to decide how to configure them based on your understanding and experimentation:\n",
        "\n",
        "1. **Model Type**:\n",
        "   You will use a Sequential model, which allows you to stack layers in a linear sequence.\n",
        "\n",
        "2. **Input Layer**:\n",
        "   Define the shape of the input data. Consider the dimensions of your padded sequences and set the input shape accordingly.\n",
        "\n",
        "3. **Embedding Layer**:\n",
        "   The embedding layer will convert input tokens (integers) into dense vector representations. You will need to determine the size of the input dimension (based on your vocabulary) and the output dimension (embedding size).\n",
        "\n",
        "4. **Bidirectional Simple RNN/LSTM Layers**:\n",
        "   You can add one or more recurrent layers. Consider using Bidirectional layers to capture contextual information from both directions (forward and backward). You can chose SimpleRNN/GRU/LSTM to perform this step.\n",
        "\n",
        "5. **Dense Layers**:\n",
        "   Add one or more fully connected (Dense) layers to process the output from the RNN/GRU/LSTM layers.\n",
        "\n",
        "6. **Output Layer**:\n",
        "   The output layer should match the type of classification task you're working on. Consider using appropriate activation function with appropriate number of units.\n",
        "\n",
        "7. **Model Summary**:\n",
        "   After defining your model architecture, print a summary to review the number of layers, types of layers, and total parameters.\n",
        "\n",
        "8. **Model Compilation**:\n",
        "   Finally, compile the model by selecting an optimizer, a loss function, and metrics."
      ]
    },
    {
      "cell_type": "code",
      "source": [
        "model = Sequential([\n",
        "    Input(shape=(500,)),\n",
        "    Embedding(\n",
        "        input_dim = len(tokenizer.word_index) + 1, # for unknown words\n",
        "        output_dim = 128,\n",
        "        input_length= 500 # maxlen value\n",
        "    ),\n",
        "    Bidirectional(SimpleRNN(units=128, return_sequences=True)),\n",
        "    Bidirectional(SimpleRNN(units=64, return_sequences=True)),\n",
        "    Bidirectional(SimpleRNN(units=32)),\n",
        "\n",
        "    Dense(units=100, activation='relu'),\n",
        "    Dense(units=50, activation='relu'),\n",
        "    Dense(units=7, activation='softmax')\n",
        "])"
      ],
      "metadata": {
        "id": "crcQwaSXMSZz",
        "colab": {
          "base_uri": "https://localhost:8080/"
        },
        "outputId": "2f1325b7-900d-4faf-b474-a2022b071ef2"
      },
      "execution_count": 226,
      "outputs": [
        {
          "output_type": "stream",
          "name": "stderr",
          "text": [
            "/usr/local/lib/python3.10/dist-packages/keras/src/layers/core/embedding.py:90: UserWarning: Argument `input_length` is deprecated. Just remove it.\n",
            "  warnings.warn(\n"
          ]
        }
      ]
    },
    {
      "cell_type": "code",
      "execution_count": 227,
      "metadata": {
        "id": "D-EYYIUpfK_F",
        "colab": {
          "base_uri": "https://localhost:8080/",
          "height": 353
        },
        "outputId": "77edecbe-aa91-44d1-f6bf-cd70f585e567"
      },
      "outputs": [
        {
          "output_type": "display_data",
          "data": {
            "text/plain": [
              "\u001b[1mModel: \"sequential_14\"\u001b[0m\n"
            ],
            "text/html": [
              "<pre style=\"white-space:pre;overflow-x:auto;line-height:normal;font-family:Menlo,'DejaVu Sans Mono',consolas,'Courier New',monospace\"><span style=\"font-weight: bold\">Model: \"sequential_14\"</span>\n",
              "</pre>\n"
            ]
          },
          "metadata": {}
        },
        {
          "output_type": "display_data",
          "data": {
            "text/plain": [
              "┏━━━━━━━━━━━━━━━━━━━━━━━━━━━━━━━━━━━━━━┳━━━━━━━━━━━━━━━━━━━━━━━━━━━━━┳━━━━━━━━━━━━━━━━━┓\n",
              "┃\u001b[1m \u001b[0m\u001b[1mLayer (type)                        \u001b[0m\u001b[1m \u001b[0m┃\u001b[1m \u001b[0m\u001b[1mOutput Shape               \u001b[0m\u001b[1m \u001b[0m┃\u001b[1m \u001b[0m\u001b[1m        Param #\u001b[0m\u001b[1m \u001b[0m┃\n",
              "┡━━━━━━━━━━━━━━━━━━━━━━━━━━━━━━━━━━━━━━╇━━━━━━━━━━━━━━━━━━━━━━━━━━━━━╇━━━━━━━━━━━━━━━━━┩\n",
              "│ embedding_14 (\u001b[38;5;33mEmbedding\u001b[0m)             │ (\u001b[38;5;45mNone\u001b[0m, \u001b[38;5;34m500\u001b[0m, \u001b[38;5;34m128\u001b[0m)            │      \u001b[38;5;34m12,067,072\u001b[0m │\n",
              "├──────────────────────────────────────┼─────────────────────────────┼─────────────────┤\n",
              "│ bidirectional_28 (\u001b[38;5;33mBidirectional\u001b[0m)     │ (\u001b[38;5;45mNone\u001b[0m, \u001b[38;5;34m500\u001b[0m, \u001b[38;5;34m256\u001b[0m)            │          \u001b[38;5;34m65,792\u001b[0m │\n",
              "├──────────────────────────────────────┼─────────────────────────────┼─────────────────┤\n",
              "│ bidirectional_29 (\u001b[38;5;33mBidirectional\u001b[0m)     │ (\u001b[38;5;45mNone\u001b[0m, \u001b[38;5;34m500\u001b[0m, \u001b[38;5;34m128\u001b[0m)            │          \u001b[38;5;34m41,088\u001b[0m │\n",
              "├──────────────────────────────────────┼─────────────────────────────┼─────────────────┤\n",
              "│ bidirectional_30 (\u001b[38;5;33mBidirectional\u001b[0m)     │ (\u001b[38;5;45mNone\u001b[0m, \u001b[38;5;34m64\u001b[0m)                  │          \u001b[38;5;34m10,304\u001b[0m │\n",
              "├──────────────────────────────────────┼─────────────────────────────┼─────────────────┤\n",
              "│ dense_30 (\u001b[38;5;33mDense\u001b[0m)                     │ (\u001b[38;5;45mNone\u001b[0m, \u001b[38;5;34m100\u001b[0m)                 │           \u001b[38;5;34m6,500\u001b[0m │\n",
              "├──────────────────────────────────────┼─────────────────────────────┼─────────────────┤\n",
              "│ dense_31 (\u001b[38;5;33mDense\u001b[0m)                     │ (\u001b[38;5;45mNone\u001b[0m, \u001b[38;5;34m50\u001b[0m)                  │           \u001b[38;5;34m5,050\u001b[0m │\n",
              "├──────────────────────────────────────┼─────────────────────────────┼─────────────────┤\n",
              "│ dense_32 (\u001b[38;5;33mDense\u001b[0m)                     │ (\u001b[38;5;45mNone\u001b[0m, \u001b[38;5;34m7\u001b[0m)                   │             \u001b[38;5;34m357\u001b[0m │\n",
              "└──────────────────────────────────────┴─────────────────────────────┴─────────────────┘\n"
            ],
            "text/html": [
              "<pre style=\"white-space:pre;overflow-x:auto;line-height:normal;font-family:Menlo,'DejaVu Sans Mono',consolas,'Courier New',monospace\">┏━━━━━━━━━━━━━━━━━━━━━━━━━━━━━━━━━━━━━━┳━━━━━━━━━━━━━━━━━━━━━━━━━━━━━┳━━━━━━━━━━━━━━━━━┓\n",
              "┃<span style=\"font-weight: bold\"> Layer (type)                         </span>┃<span style=\"font-weight: bold\"> Output Shape                </span>┃<span style=\"font-weight: bold\">         Param # </span>┃\n",
              "┡━━━━━━━━━━━━━━━━━━━━━━━━━━━━━━━━━━━━━━╇━━━━━━━━━━━━━━━━━━━━━━━━━━━━━╇━━━━━━━━━━━━━━━━━┩\n",
              "│ embedding_14 (<span style=\"color: #0087ff; text-decoration-color: #0087ff\">Embedding</span>)             │ (<span style=\"color: #00d7ff; text-decoration-color: #00d7ff\">None</span>, <span style=\"color: #00af00; text-decoration-color: #00af00\">500</span>, <span style=\"color: #00af00; text-decoration-color: #00af00\">128</span>)            │      <span style=\"color: #00af00; text-decoration-color: #00af00\">12,067,072</span> │\n",
              "├──────────────────────────────────────┼─────────────────────────────┼─────────────────┤\n",
              "│ bidirectional_28 (<span style=\"color: #0087ff; text-decoration-color: #0087ff\">Bidirectional</span>)     │ (<span style=\"color: #00d7ff; text-decoration-color: #00d7ff\">None</span>, <span style=\"color: #00af00; text-decoration-color: #00af00\">500</span>, <span style=\"color: #00af00; text-decoration-color: #00af00\">256</span>)            │          <span style=\"color: #00af00; text-decoration-color: #00af00\">65,792</span> │\n",
              "├──────────────────────────────────────┼─────────────────────────────┼─────────────────┤\n",
              "│ bidirectional_29 (<span style=\"color: #0087ff; text-decoration-color: #0087ff\">Bidirectional</span>)     │ (<span style=\"color: #00d7ff; text-decoration-color: #00d7ff\">None</span>, <span style=\"color: #00af00; text-decoration-color: #00af00\">500</span>, <span style=\"color: #00af00; text-decoration-color: #00af00\">128</span>)            │          <span style=\"color: #00af00; text-decoration-color: #00af00\">41,088</span> │\n",
              "├──────────────────────────────────────┼─────────────────────────────┼─────────────────┤\n",
              "│ bidirectional_30 (<span style=\"color: #0087ff; text-decoration-color: #0087ff\">Bidirectional</span>)     │ (<span style=\"color: #00d7ff; text-decoration-color: #00d7ff\">None</span>, <span style=\"color: #00af00; text-decoration-color: #00af00\">64</span>)                  │          <span style=\"color: #00af00; text-decoration-color: #00af00\">10,304</span> │\n",
              "├──────────────────────────────────────┼─────────────────────────────┼─────────────────┤\n",
              "│ dense_30 (<span style=\"color: #0087ff; text-decoration-color: #0087ff\">Dense</span>)                     │ (<span style=\"color: #00d7ff; text-decoration-color: #00d7ff\">None</span>, <span style=\"color: #00af00; text-decoration-color: #00af00\">100</span>)                 │           <span style=\"color: #00af00; text-decoration-color: #00af00\">6,500</span> │\n",
              "├──────────────────────────────────────┼─────────────────────────────┼─────────────────┤\n",
              "│ dense_31 (<span style=\"color: #0087ff; text-decoration-color: #0087ff\">Dense</span>)                     │ (<span style=\"color: #00d7ff; text-decoration-color: #00d7ff\">None</span>, <span style=\"color: #00af00; text-decoration-color: #00af00\">50</span>)                  │           <span style=\"color: #00af00; text-decoration-color: #00af00\">5,050</span> │\n",
              "├──────────────────────────────────────┼─────────────────────────────┼─────────────────┤\n",
              "│ dense_32 (<span style=\"color: #0087ff; text-decoration-color: #0087ff\">Dense</span>)                     │ (<span style=\"color: #00d7ff; text-decoration-color: #00d7ff\">None</span>, <span style=\"color: #00af00; text-decoration-color: #00af00\">7</span>)                   │             <span style=\"color: #00af00; text-decoration-color: #00af00\">357</span> │\n",
              "└──────────────────────────────────────┴─────────────────────────────┴─────────────────┘\n",
              "</pre>\n"
            ]
          },
          "metadata": {}
        },
        {
          "output_type": "display_data",
          "data": {
            "text/plain": [
              "\u001b[1m Total params: \u001b[0m\u001b[38;5;34m12,196,163\u001b[0m (46.52 MB)\n"
            ],
            "text/html": [
              "<pre style=\"white-space:pre;overflow-x:auto;line-height:normal;font-family:Menlo,'DejaVu Sans Mono',consolas,'Courier New',monospace\"><span style=\"font-weight: bold\"> Total params: </span><span style=\"color: #00af00; text-decoration-color: #00af00\">12,196,163</span> (46.52 MB)\n",
              "</pre>\n"
            ]
          },
          "metadata": {}
        },
        {
          "output_type": "display_data",
          "data": {
            "text/plain": [
              "\u001b[1m Trainable params: \u001b[0m\u001b[38;5;34m12,196,163\u001b[0m (46.52 MB)\n"
            ],
            "text/html": [
              "<pre style=\"white-space:pre;overflow-x:auto;line-height:normal;font-family:Menlo,'DejaVu Sans Mono',consolas,'Courier New',monospace\"><span style=\"font-weight: bold\"> Trainable params: </span><span style=\"color: #00af00; text-decoration-color: #00af00\">12,196,163</span> (46.52 MB)\n",
              "</pre>\n"
            ]
          },
          "metadata": {}
        },
        {
          "output_type": "display_data",
          "data": {
            "text/plain": [
              "\u001b[1m Non-trainable params: \u001b[0m\u001b[38;5;34m0\u001b[0m (0.00 B)\n"
            ],
            "text/html": [
              "<pre style=\"white-space:pre;overflow-x:auto;line-height:normal;font-family:Menlo,'DejaVu Sans Mono',consolas,'Courier New',monospace\"><span style=\"font-weight: bold\"> Non-trainable params: </span><span style=\"color: #00af00; text-decoration-color: #00af00\">0</span> (0.00 B)\n",
              "</pre>\n"
            ]
          },
          "metadata": {}
        }
      ],
      "source": [
        "model.summary()"
      ]
    },
    {
      "cell_type": "code",
      "source": [
        "model.compile(optimizer='adam', loss='sparse_categorical_crossentropy', metrics=['accuracy'])"
      ],
      "metadata": {
        "id": "ziV0MvMJOHXS"
      },
      "execution_count": 228,
      "outputs": []
    },
    {
      "cell_type": "code",
      "source": [
        "# train['label'].shape"
      ],
      "metadata": {
        "colab": {
          "base_uri": "https://localhost:8080/"
        },
        "id": "3QuSjey-n-n6",
        "outputId": "be087ae5-cbaf-422a-c369-fad3944b4a65"
      },
      "execution_count": 196,
      "outputs": [
        {
          "output_type": "execute_result",
          "data": {
            "text/plain": [
              "(24371,)"
            ]
          },
          "metadata": {},
          "execution_count": 196
        }
      ]
    },
    {
      "cell_type": "markdown",
      "metadata": {
        "id": "57DXwqqQTloy"
      },
      "source": [
        "# Defining Batch Size, Creating Datasets, and Training the Model"
      ]
    },
    {
      "cell_type": "markdown",
      "metadata": {
        "id": "LEOvs_dETmQp"
      },
      "source": [
        "In this step, you will define the batch size, create TensorFlow Datasets for both training and testing, and train the model. The key elements to consider are outlined below, and it is up to you to choose the specific configurations based on your preferences and experimentation:\n",
        "\n",
        "1. **Batch Size**:\n",
        "   Select a batch size for training and testing. The batch size determines how many samples will be processed together in one forward and backward pass during training.\n",
        "\n",
        "2. **Creating Datasets**:\n",
        "   Use TensorFlow’s `Dataset.from_tensor_slices()` to create datasets from the training and testing data.\n",
        "\n",
        "3. **Batching the Datasets**:\n",
        "   Batch the datasets by grouping the data into batches of the specified size.\n",
        "\n",
        "4. **Training the Model**:\n",
        "   Train the model by fitting it on the training dataset for a specified number of epochs. You will also need to provide the validation data to monitor the model’s performance on unseen data during training.\n",
        "\n",
        "5. **Tracking Training History**:\n",
        "   During training, the model’s performance metrics (such as loss and accuracy) will be tracked over the epochs, and the results will be stored in the `history` object."
      ]
    },
    {
      "cell_type": "code",
      "execution_count": 229,
      "metadata": {
        "id": "o6unhJgFfQbM",
        "colab": {
          "base_uri": "https://localhost:8080/"
        },
        "outputId": "97f1c54a-37cf-4f8b-9684-cb2bfb41355f"
      },
      "outputs": [
        {
          "output_type": "stream",
          "name": "stdout",
          "text": [
            "Epoch 1/10\n",
            "\u001b[1m762/762\u001b[0m \u001b[32m━━━━━━━━━━━━━━━━━━━━\u001b[0m\u001b[37m\u001b[0m \u001b[1m16s\u001b[0m 10ms/step - accuracy: 0.5004 - loss: 1.3893 - val_accuracy: 0.6114 - val_loss: 1.0872\n",
            "Epoch 2/10\n",
            "\u001b[1m762/762\u001b[0m \u001b[32m━━━━━━━━━━━━━━━━━━━━\u001b[0m\u001b[37m\u001b[0m \u001b[1m13s\u001b[0m 5ms/step - accuracy: 0.6566 - loss: 0.9762 - val_accuracy: 0.6181 - val_loss: 1.0899\n",
            "Epoch 3/10\n",
            "\u001b[1m762/762\u001b[0m \u001b[32m━━━━━━━━━━━━━━━━━━━━\u001b[0m\u001b[37m\u001b[0m \u001b[1m4s\u001b[0m 6ms/step - accuracy: 0.6767 - loss: 0.8917 - val_accuracy: 0.6167 - val_loss: 1.0946\n",
            "Epoch 4/10\n",
            "\u001b[1m762/762\u001b[0m \u001b[32m━━━━━━━━━━━━━━━━━━━━\u001b[0m\u001b[37m\u001b[0m \u001b[1m5s\u001b[0m 5ms/step - accuracy: 0.6734 - loss: 0.8791 - val_accuracy: 0.6175 - val_loss: 1.1164\n",
            "Epoch 5/10\n",
            "\u001b[1m762/762\u001b[0m \u001b[32m━━━━━━━━━━━━━━━━━━━━\u001b[0m\u001b[37m\u001b[0m \u001b[1m4s\u001b[0m 5ms/step - accuracy: 0.6781 - loss: 0.8456 - val_accuracy: 0.6181 - val_loss: 1.1414\n",
            "Epoch 6/10\n",
            "\u001b[1m762/762\u001b[0m \u001b[32m━━━━━━━━━━━━━━━━━━━━\u001b[0m\u001b[37m\u001b[0m \u001b[1m4s\u001b[0m 6ms/step - accuracy: 0.6856 - loss: 0.8314 - val_accuracy: 0.6211 - val_loss: 1.1388\n",
            "Epoch 7/10\n",
            "\u001b[1m762/762\u001b[0m \u001b[32m━━━━━━━━━━━━━━━━━━━━\u001b[0m\u001b[37m\u001b[0m \u001b[1m4s\u001b[0m 6ms/step - accuracy: 0.6841 - loss: 0.8305 - val_accuracy: 0.6230 - val_loss: 1.1515\n",
            "Epoch 8/10\n",
            "\u001b[1m762/762\u001b[0m \u001b[32m━━━━━━━━━━━━━━━━━━━━\u001b[0m\u001b[37m\u001b[0m \u001b[1m4s\u001b[0m 5ms/step - accuracy: 0.6849 - loss: 0.8261 - val_accuracy: 0.6145 - val_loss: 1.1807\n",
            "Epoch 9/10\n",
            "\u001b[1m762/762\u001b[0m \u001b[32m━━━━━━━━━━━━━━━━━━━━\u001b[0m\u001b[37m\u001b[0m \u001b[1m5s\u001b[0m 7ms/step - accuracy: 0.6834 - loss: 0.8147 - val_accuracy: 0.6178 - val_loss: 1.1726\n",
            "Epoch 10/10\n",
            "\u001b[1m762/762\u001b[0m \u001b[32m━━━━━━━━━━━━━━━━━━━━\u001b[0m\u001b[37m\u001b[0m \u001b[1m9s\u001b[0m 5ms/step - accuracy: 0.6874 - loss: 0.8135 - val_accuracy: 0.6137 - val_loss: 1.1873\n"
          ]
        }
      ],
      "source": [
        "history = model.fit(train['text'], train['label'], validation_data=(val['text'], val['label']), epochs=10, batch_size=32)"
      ]
    },
    {
      "cell_type": "markdown",
      "metadata": {
        "id": "XmoJfr3nfP-n"
      },
      "source": [
        "# Model Evaluation"
      ]
    },
    {
      "cell_type": "markdown",
      "metadata": {
        "id": "2Gb8G9XiT-ec"
      },
      "source": [
        "Once the model is trained, the next step is to evaluate its performance on the testing dataset.\n",
        "\n",
        "1. **Evaluate the Model**:\n",
        "   You will use the `evaluate()` method to assess the model’s performance on the test dataset.\n",
        "\n",
        "2. **Testing Dataset**:\n",
        "   Ensure that the testing dataset is properly prepared and batched, just like the training dataset.\n",
        "\n",
        "4. **Loss Curve**:\n",
        "   A loss curve plots the loss values for both the training and validation datasets over the epochs."
      ]
    },
    {
      "cell_type": "code",
      "execution_count": 230,
      "metadata": {
        "id": "SdECXvQGUQae",
        "colab": {
          "base_uri": "https://localhost:8080/"
        },
        "outputId": "2042562d-6f0e-413b-eff0-c898782b6fa1"
      },
      "outputs": [
        {
          "output_type": "stream",
          "name": "stdout",
          "text": [
            "\u001b[1m240/240\u001b[0m \u001b[32m━━━━━━━━━━━━━━━━━━━━\u001b[0m\u001b[37m\u001b[0m \u001b[1m2s\u001b[0m 4ms/step - accuracy: 0.6035 - loss: 1.2223\n",
            "[1.2192097902297974, 0.6060843467712402]\n"
          ]
        }
      ],
      "source": [
        "print(model.evaluate(test['text'], test['label']))"
      ]
    },
    {
      "cell_type": "code",
      "source": [
        "pd.DataFrame(history.history)[['val_accuracy','accuracy']].plot()"
      ],
      "metadata": {
        "id": "4ZBYzapVRJHy",
        "colab": {
          "base_uri": "https://localhost:8080/",
          "height": 447
        },
        "outputId": "60e2fe1e-a257-4dad-9447-04e79758fb49"
      },
      "execution_count": 231,
      "outputs": [
        {
          "output_type": "execute_result",
          "data": {
            "text/plain": [
              "<Axes: >"
            ]
          },
          "metadata": {},
          "execution_count": 231
        },
        {
          "output_type": "display_data",
          "data": {
            "text/plain": [
              "<Figure size 640x480 with 1 Axes>"
            ],
            "image/png": "[encoded data removed]"
          },
          "metadata": {}
        }
      ]
    },
    {
      "cell_type": "code",
      "source": [
        "pd.DataFrame(history.history)[['loss','val_loss']].plot()"
      ],
      "metadata": {
        "id": "qOgo0zRyRL60",
        "colab": {
          "base_uri": "https://localhost:8080/",
          "height": 447
        },
        "outputId": "078069fc-9a29-408e-f321-4ea381cd5ba4"
      },
      "execution_count": 232,
      "outputs": [
        {
          "output_type": "execute_result",
          "data": {
            "text/plain": [
              "<Axes: >"
            ]
          },
          "metadata": {},
          "execution_count": 232
        },
        {
          "output_type": "display_data",
          "data": {
            "text/plain": [
              "<Figure size 640x480 with 1 Axes>"
            ],
            "image/png": "[encoded data removed]"
          },
          "metadata": {}
        }
      ]
    },
    {
      "cell_type": "markdown",
      "metadata": {
        "id": "ifx5RFxnUQqc"
      },
      "source": [
        "# Model Inference"
      ]
    },
    {
      "cell_type": "markdown",
      "metadata": {
        "id": "sVh0WCBoUSlP"
      },
      "source": [
        "In this step, you will use the trained model to make predictions on new, unseen data (inference). Here’s an outline of the key points:\n",
        "\n",
        "1. **Create Test Sample**:\n",
        "   Create a string to test your modelm the goal here is to give the model Before making predictions, ensure that the new data is preprocessed in the same way as the training data. This includes tokenization, padding, and any other transformations you applied during the data preprocessing step. The data can be single text to see the result of the prediction.\n",
        "\n",
        "2. **Model Prediction**:\n",
        "   Use the `predict()` method to feed new samples into the trained model and obtain predictions. The model will output probabilities or predicted class labels based on the type of classification task (binary or multi-class).\n",
        "\n",
        "3. **Interpreting Predictions**:\n",
        "   The model will return probabilities for each class."
      ]
    },
    {
      "cell_type": "code",
      "execution_count": 233,
      "metadata": {
        "id": "2XiahrhffR0J",
        "colab": {
          "base_uri": "https://localhost:8080/"
        },
        "outputId": "e91106d6-9633-4c28-e800-522d63a1c1dc"
      },
      "outputs": [
        {
          "output_type": "stream",
          "name": "stdout",
          "text": [
            "\u001b[1m1/1\u001b[0m \u001b[32m━━━━━━━━━━━━━━━━━━━━\u001b[0m\u001b[37m\u001b[0m \u001b[1m1s\u001b[0m 1s/step\n",
            "Predicted label: ['Politics']\n"
          ]
        }
      ],
      "source": [
        "sample_text = [\"السعودية ستقود العالم قريبا وستكون هي القوة العظمى في العالم بدلا من أمريكا\"]\n",
        "\n",
        "sample_sequence = tokenizer.texts_to_sequences([clean_text(sample_text[0])])\n",
        "padded_sample_sequence = pad_sequences(sample_sequence, maxlen=500, padding='post')\n",
        "predicted_label = model.predict(padded_sample_sequence)\n",
        "print(\"Predicted label:\", label_encoder.inverse_transform([predicted_label.argmax()]))"
      ]
    },
    {
      "cell_type": "markdown",
      "metadata": {
        "id": "fHbgQVrt43DQ"
      },
      "source": [
        "# Notebook Question:\n",
        "- How did you handle text preprocessing? Why did you choose this approach?\n",
        "\n",
        "- Why did you choose this model design?\n",
        "\n",
        "- Why did you pick this number of layers or units for the model?\n",
        "\n",
        "- Why did you select these evaluation methods?\n",
        "\n",
        "- Does your model show signs of overfitting or underfitting? How do you know?\n",
        "\n",
        "- What changes could you make to improve the model and fix overfitting or underfitting?"
      ]
    },
    {
      "cell_type": "markdown",
      "metadata": {
        "id": "x7vOe0JZ43DQ"
      },
      "source": [
        "Answer Here:"
      ]
    },
    {
      "cell_type": "markdown",
      "source": [
        "\n",
        "\n",
        "1.   **How did you handle text preprocessing? Why did you choose this approach?**\n",
        "\n",
        "  The code performs several text preprocessing steps, including:\n",
        "\n",
        "  * Removing links, special characters, punctuation, and Arabic diacritics.\n",
        "  * Removing Arabic stop words.\n",
        "  * Stemming words to their root form.\n",
        "  * Normalizing Hamza characters.\n",
        "  \n",
        "  This approach was chosen to clean and standardize the text data, reduce noise, and improve the model's ability to learn meaningful patterns.\n",
        "\n",
        "2.   **Why did you choose this model design?**\n",
        "  The design was chosen because it is a common and effective architecture for text classification tasks.\n",
        "\n",
        "3.   **Why did you pick this number of layers or units for the model?**\n",
        "  \n",
        "  choseing number of layers and units is a hyperparameter, so it was determined through experimentation, trying to get the best preformance of the model\n",
        "\n",
        "4.  **Why did you select these evaluation methods?**\n",
        "\n",
        "  Since the (target) can be obtianen a balance distribution the best evaluation metric should be (Accuracy)\n",
        "\n",
        "5.  **Does your model show signs of overfitting or underfitting? How do you know?**\n",
        "  \n",
        "  Based on the provided code, it's difficult to definitively conclude whether the model is overfitting or underfitting without seeing the actual plots. However, if the training accuracy is significantly higher than the validation accuracy, it could indicate overfitting. Conversely, if both training and validation accuracies are low, it could suggest underfitting. You should examine the plots generated by the code to determine if there are signs of overfitting or underfitting\n",
        "\n",
        "6.  **What changes could you make to improve the model and fix overfitting or underfitting?**\n",
        "\n",
        "  I might use Early stooping to prevent any overfitting and I may add a Dropout layers."
      ],
      "metadata": {
        "id": "bOQtyJHwsnsw"
      }
    }
  ],
  "metadata": {
    "accelerator": "GPU",
    "colab": {
      "gpuType": "T4",
      "provenance": []
    },
    "kernelspec": {
      "display_name": "Python 3",
      "name": "python3"
    },
    "language_info": {
      "name": "python"
    }
  },
  "nbformat": 4,
  "nbformat_minor": 0
}