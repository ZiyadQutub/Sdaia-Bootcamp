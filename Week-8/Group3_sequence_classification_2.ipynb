{
  "cells": [
    {
      "cell_type": "markdown",
      "id": "6338e9cf",
      "metadata": {
        "id": "6338e9cf"
      },
      "source": [
        "# Fine-tuning a Sequence Classification Model Exam"
      ]
    },
    {
      "cell_type": "markdown",
      "id": "cc78efcc",
      "metadata": {
        "id": "cc78efcc"
      },
      "source": [
        "In this exam, you will be tasked with performing dataset preprocessing and fine-tuning a model for sequence classification. Complete each step carefully according to the instructions provided.\n",
        "\n",
        "### Model and Dataset Information\n",
        "\n",
        "For this task, you will be working with the following:\n",
        "\n",
        "- **Model Checkpoint**: Use the pre-trained model checkpoint `aubmindlab/bert-base-arabertv02` for both the model and tokenizer.\n",
        "- **Dataset**: You will be using the `CUTD/sanad_df` dataset. Ensure to load and preprocess the dataset correctly for training and evaluation.\n",
        "\n",
        "**Note:**\n",
        "- Any additional steps or methods you include that improve or enhance the results will be rewarded with bonus points if they are justified.\n",
        "- The steps outlined here are suggestions. You are free to implement alternative methods or approaches to achieve the task, as long as you explain the reasoning and the process at the bottom of the notebook.\n",
        "- You can use either TensorFlow or PyTorch for this task. If you prefer TensorFlow, feel free to use it when working with Hugging Face Transformers.\n",
        "- The number of data samples you choose to work with is flexible. However, if you select a very low number of samples and the training time is too short, this could affect the evaluation of your work."
      ]
    },
    {
      "cell_type": "markdown",
      "id": "e4aded80",
      "metadata": {
        "id": "e4aded80"
      },
      "source": [
        "## Step 1: Load the Dataset"
      ]
    },
    {
      "cell_type": "markdown",
      "id": "d54930f9",
      "metadata": {
        "id": "d54930f9"
      },
      "source": [
        "Load the dataset and split it into training and test sets. Use 20% of the data for testing."
      ]
    },
    {
      "cell_type": "code",
      "execution_count": null,
      "id": "ef64e03c",
      "metadata": {
        "id": "ef64e03c",
        "collapsed": true,
        "colab": {
          "base_uri": "https://localhost:8080/"
        },
        "outputId": "cda5c795-498b-4834-f6c6-1508d4c36f4c"
      },
      "outputs": [
        {
          "output_type": "stream",
          "name": "stdout",
          "text": [
            "Requirement already satisfied: transformers in /usr/local/lib/python3.10/dist-packages (4.42.4)\n",
            "Collecting datasets\n",
            "  Downloading datasets-3.0.0-py3-none-any.whl.metadata (19 kB)\n",
            "Requirement already satisfied: filelock in /usr/local/lib/python3.10/dist-packages (from transformers) (3.15.4)\n",
            "Requirement already satisfied: huggingface-hub<1.0,>=0.23.2 in /usr/local/lib/python3.10/dist-packages (from transformers) (0.23.5)\n",
            "Requirement already satisfied: numpy<2.0,>=1.17 in /usr/local/lib/python3.10/dist-packages (from transformers) (1.25.2)\n",
            "Requirement already satisfied: packaging>=20.0 in /usr/local/lib/python3.10/dist-packages (from transformers) (24.1)\n",
            "Requirement already satisfied: pyyaml>=5.1 in /usr/local/lib/python3.10/dist-packages (from transformers) (6.0.1)\n",
            "Requirement already satisfied: regex!=2019.12.17 in /usr/local/lib/python3.10/dist-packages (from transformers) (2024.5.15)\n",
            "Requirement already satisfied: requests in /usr/local/lib/python3.10/dist-packages (from transformers) (2.31.0)\n",
            "Requirement already satisfied: safetensors>=0.4.1 in /usr/local/lib/python3.10/dist-packages (from transformers) (0.4.3)\n",
            "Requirement already satisfied: tokenizers<0.20,>=0.19 in /usr/local/lib/python3.10/dist-packages (from transformers) (0.19.1)\n",
            "Requirement already satisfied: tqdm>=4.27 in /usr/local/lib/python3.10/dist-packages (from transformers) (4.66.4)\n",
            "Collecting pyarrow>=15.0.0 (from datasets)\n",
            "  Downloading pyarrow-17.0.0-cp310-cp310-manylinux_2_28_x86_64.whl.metadata (3.3 kB)\n",
            "Collecting dill<0.3.9,>=0.3.0 (from datasets)\n",
            "  Downloading dill-0.3.8-py3-none-any.whl.metadata (10 kB)\n",
            "Requirement already satisfied: pandas in /usr/local/lib/python3.10/dist-packages (from datasets) (2.0.3)\n",
            "Collecting requests (from transformers)\n",
            "  Downloading requests-2.32.3-py3-none-any.whl.metadata (4.6 kB)\n",
            "Collecting xxhash (from datasets)\n",
            "  Downloading xxhash-3.5.0-cp310-cp310-manylinux_2_17_x86_64.manylinux2014_x86_64.whl.metadata (12 kB)\n",
            "Collecting multiprocess (from datasets)\n",
            "  Downloading multiprocess-0.70.16-py310-none-any.whl.metadata (7.2 kB)\n",
            "Requirement already satisfied: fsspec<=2024.6.1,>=2023.1.0 in /usr/local/lib/python3.10/dist-packages (from fsspec[http]<=2024.6.1,>=2023.1.0->datasets) (2023.6.0)\n",
            "Requirement already satisfied: aiohttp in /usr/local/lib/python3.10/dist-packages (from datasets) (3.9.5)\n",
            "Requirement already satisfied: aiosignal>=1.1.2 in /usr/local/lib/python3.10/dist-packages (from aiohttp->datasets) (1.3.1)\n",
            "Requirement already satisfied: attrs>=17.3.0 in /usr/local/lib/python3.10/dist-packages (from aiohttp->datasets) (23.2.0)\n",
            "Requirement already satisfied: frozenlist>=1.1.1 in /usr/local/lib/python3.10/dist-packages (from aiohttp->datasets) (1.4.1)\n",
            "Requirement already satisfied: multidict<7.0,>=4.5 in /usr/local/lib/python3.10/dist-packages (from aiohttp->datasets) (6.0.5)\n",
            "Requirement already satisfied: yarl<2.0,>=1.0 in /usr/local/lib/python3.10/dist-packages (from aiohttp->datasets) (1.9.4)\n",
            "Requirement already satisfied: async-timeout<5.0,>=4.0 in /usr/local/lib/python3.10/dist-packages (from aiohttp->datasets) (4.0.3)\n",
            "Requirement already satisfied: typing-extensions>=3.7.4.3 in /usr/local/lib/python3.10/dist-packages (from huggingface-hub<1.0,>=0.23.2->transformers) (4.12.2)\n",
            "Requirement already satisfied: charset-normalizer<4,>=2 in /usr/local/lib/python3.10/dist-packages (from requests->transformers) (3.3.2)\n",
            "Requirement already satisfied: idna<4,>=2.5 in /usr/local/lib/python3.10/dist-packages (from requests->transformers) (3.7)\n",
            "Requirement already satisfied: urllib3<3,>=1.21.1 in /usr/local/lib/python3.10/dist-packages (from requests->transformers) (2.0.7)\n",
            "Requirement already satisfied: certifi>=2017.4.17 in /usr/local/lib/python3.10/dist-packages (from requests->transformers) (2024.7.4)\n",
            "Requirement already satisfied: python-dateutil>=2.8.2 in /usr/local/lib/python3.10/dist-packages (from pandas->datasets) (2.8.2)\n",
            "Requirement already satisfied: pytz>=2020.1 in /usr/local/lib/python3.10/dist-packages (from pandas->datasets) (2023.4)\n",
            "Requirement already satisfied: tzdata>=2022.1 in /usr/local/lib/python3.10/dist-packages (from pandas->datasets) (2024.1)\n",
            "Requirement already satisfied: six>=1.5 in /usr/local/lib/python3.10/dist-packages (from python-dateutil>=2.8.2->pandas->datasets) (1.16.0)\n",
            "Downloading datasets-3.0.0-py3-none-any.whl (474 kB)\n",
            "\u001b[2K   \u001b[90m━━━━━━━━━━━━━━━━━━━━━━━━━━━━━━━━━━━━━━━━\u001b[0m \u001b[32m474.3/474.3 kB\u001b[0m \u001b[31m12.0 MB/s\u001b[0m eta \u001b[36m0:00:00\u001b[0m\n",
            "\u001b[?25hDownloading dill-0.3.8-py3-none-any.whl (116 kB)\n",
            "\u001b[2K   \u001b[90m━━━━━━━━━━━━━━━━━━━━━━━━━━━━━━━━━━━━━━━━\u001b[0m \u001b[32m116.3/116.3 kB\u001b[0m \u001b[31m8.3 MB/s\u001b[0m eta \u001b[36m0:00:00\u001b[0m\n",
            "\u001b[?25hDownloading pyarrow-17.0.0-cp310-cp310-manylinux_2_28_x86_64.whl (39.9 MB)\n",
            "\u001b[2K   \u001b[90m━━━━━━━━━━━━━━━━━━━━━━━━━━━━━━━━━━━━━━━━\u001b[0m \u001b[32m39.9/39.9 MB\u001b[0m \u001b[31m16.9 MB/s\u001b[0m eta \u001b[36m0:00:00\u001b[0m\n",
            "\u001b[?25hDownloading requests-2.32.3-py3-none-any.whl (64 kB)\n",
            "\u001b[2K   \u001b[90m━━━━━━━━━━━━━━━━━━━━━━━━━━━━━━━━━━━━━━━━\u001b[0m \u001b[32m64.9/64.9 kB\u001b[0m \u001b[31m1.5 MB/s\u001b[0m eta \u001b[36m0:00:00\u001b[0m\n",
            "\u001b[?25hDownloading multiprocess-0.70.16-py310-none-any.whl (134 kB)\n",
            "\u001b[2K   \u001b[90m━━━━━━━━━━━━━━━━━━━━━━━━━━━━━━━━━━━━━━━━\u001b[0m \u001b[32m134.8/134.8 kB\u001b[0m \u001b[31m7.5 MB/s\u001b[0m eta \u001b[36m0:00:00\u001b[0m\n",
            "\u001b[?25hDownloading xxhash-3.5.0-cp310-cp310-manylinux_2_17_x86_64.manylinux2014_x86_64.whl (194 kB)\n",
            "\u001b[2K   \u001b[90m━━━━━━━━━━━━━━━━━━━━━━━━━━━━━━━━━━━━━━━━\u001b[0m \u001b[32m194.1/194.1 kB\u001b[0m \u001b[31m10.1 MB/s\u001b[0m eta \u001b[36m0:00:00\u001b[0m\n",
            "\u001b[?25hInstalling collected packages: xxhash, requests, pyarrow, dill, multiprocess, datasets\n",
            "  Attempting uninstall: requests\n",
            "    Found existing installation: requests 2.31.0\n",
            "    Uninstalling requests-2.31.0:\n",
            "      Successfully uninstalled requests-2.31.0\n",
            "  Attempting uninstall: pyarrow\n",
            "    Found existing installation: pyarrow 14.0.2\n",
            "    Uninstalling pyarrow-14.0.2:\n",
            "      Successfully uninstalled pyarrow-14.0.2\n",
            "\u001b[31mERROR: pip's dependency resolver does not currently take into account all the packages that are installed. This behaviour is the source of the following dependency conflicts.\n",
            "cudf-cu12 24.4.1 requires pyarrow<15.0.0a0,>=14.0.1, but you have pyarrow 17.0.0 which is incompatible.\n",
            "google-colab 1.0.0 requires requests==2.31.0, but you have requests 2.32.3 which is incompatible.\n",
            "ibis-framework 8.0.0 requires pyarrow<16,>=2, but you have pyarrow 17.0.0 which is incompatible.\u001b[0m\u001b[31m\n",
            "\u001b[0mSuccessfully installed datasets-3.0.0 dill-0.3.8 multiprocess-0.70.16 pyarrow-17.0.0 requests-2.32.3 xxhash-3.5.0\n"
          ]
        }
      ],
      "source": [
        "!pip install transformers datasets"
      ]
    },
    {
      "cell_type": "code",
      "source": [
        "from transformers import pipeline\n",
        "from datasets import load_dataset\n",
        "from sklearn.model_selection import train_test_split"
      ],
      "metadata": {
        "id": "guN-M3kL6CtH"
      },
      "id": "guN-M3kL6CtH",
      "execution_count": null,
      "outputs": []
    },
    {
      "cell_type": "code",
      "source": [
        "dataset = load_dataset('CUTD/sanad_df')"
      ],
      "metadata": {
        "id": "cFalSc3-6W4C",
        "outputId": "adfb71ac-7ca1-479c-ae98-ef65e13c7b61",
        "colab": {
          "base_uri": "https://localhost:8080/",
          "height": 210,
          "referenced_widgets": [
            "44b3e52f831a4926975bfecd965cc65a",
            "0312331155a14a059875cc5cf7bf69c1",
            "231bd92d0d0540c99e15e62866dced4c",
            "302015c498fc478e98c6c2d5e509d717",
            "b84ac3c33ea541618bbee07b83079a4f",
            "ff1a1a382f2f4a7d976e4463e95d4913",
            "1776f0c704cb4a29b4ed307296664997",
            "143ad18ea33440519a5f7db46fb2b03b",
            "628c07b8c463423a8f40cbbd7d5ce16b",
            "31c8348e3b2c4bfaafb70bbae7eb362d",
            "251a78778b67447091cd11fdb43f5648",
            "4013fd5c4de7494dbdae8507f69c0eca",
            "0adf0dfc290247dc9c28cac8eff2a1de",
            "5d95ff37fca44551999728078d4b50a7",
            "ae95907b1cc84151bedced72270aff09",
            "d63eb496162d4ea0850f8dad0e3cd103",
            "a3e78ce06335467a9beba6cf808275ae",
            "fe2ec3f0f7f74ca4944b90894098757e",
            "3694764c2a124810bbfa7cd25b73bdea",
            "b4735b0288e44536ad103d6a77148288",
            "91fbb5b7a4fb49ff8c7c18f54670384b",
            "7072ce413cf44e05948a6716ccbe4809"
          ]
        }
      },
      "id": "cFalSc3-6W4C",
      "execution_count": null,
      "outputs": [
        {
          "output_type": "stream",
          "name": "stderr",
          "text": [
            "/usr/local/lib/python3.10/dist-packages/huggingface_hub/utils/_token.py:89: UserWarning: \n",
            "The secret `HF_TOKEN` does not exist in your Colab secrets.\n",
            "To authenticate with the Hugging Face Hub, create a token in your settings tab (https://huggingface.co/settings/tokens), set it as secret in your Google Colab and restart your session.\n",
            "You will be able to reuse this secret in all of your notebooks.\n",
            "Please note that authentication is recommended but still optional to access public models or datasets.\n",
            "  warnings.warn(\n"
          ]
        },
        {
          "output_type": "display_data",
          "data": {
            "text/plain": [
              "sanad_df.csv:   0%|          | 0.00/50.3M [00:00<?, ?B/s]"
            ],
            "application/vnd.jupyter.widget-view+json": {
              "version_major": 2,
              "version_minor": 0,
              "model_id": "44b3e52f831a4926975bfecd965cc65a"
            }
          },
          "metadata": {}
        },
        {
          "output_type": "display_data",
          "data": {
            "text/plain": [
              "Generating train split:   0%|          | 0/15000 [00:00<?, ? examples/s]"
            ],
            "application/vnd.jupyter.widget-view+json": {
              "version_major": 2,
              "version_minor": 0,
              "model_id": "4013fd5c4de7494dbdae8507f69c0eca"
            }
          },
          "metadata": {}
        }
      ]
    },
    {
      "cell_type": "code",
      "source": [
        "dataset.set_format('pandas')"
      ],
      "metadata": {
        "id": "w412CfaW9TEX"
      },
      "id": "w412CfaW9TEX",
      "execution_count": null,
      "outputs": []
    },
    {
      "cell_type": "code",
      "source": [
        "train_data, test_data = train_test_split(dataset['train'], test_size=0.2, random_state=42)"
      ],
      "metadata": {
        "id": "Yxi01R5G9sJB"
      },
      "id": "Yxi01R5G9sJB",
      "execution_count": null,
      "outputs": []
    },
    {
      "cell_type": "markdown",
      "source": [
        "### EDA"
      ],
      "metadata": {
        "id": "xoqdK5Bs67yr"
      },
      "id": "xoqdK5Bs67yr"
    },
    {
      "cell_type": "code",
      "source": [
        "train_data['text'][0]"
      ],
      "metadata": {
        "colab": {
          "base_uri": "https://localhost:8080/",
          "height": 108
        },
        "id": "NE2PDHDW7aI7",
        "outputId": "30b38de9-94df-49b7-9803-a23c77550d5b"
      },
      "id": "NE2PDHDW7aI7",
      "execution_count": null,
      "outputs": [
        {
          "output_type": "execute_result",
          "data": {
            "text/plain": [
              "'ارتفع مؤشر سوق الإمارات المالي الصادر عن هيئة الأوراق المالية والسلع خلال جلسة تداول أمس بنسبة 19 .0% ليغلق على مستوى 55 .2،633 نقطة وشهدت القيمة السوقية ارتفاعاً بقيمة 71 .0 مليار درهم لتصل إلى 38 .382 مليار درهم، وقد تم تداول ما يقارب 66 .0 مليار سهم بقيمة إجمالية بلغت 88 .0 مليار درهم من خلال 11،766 صفقة . وقد سجل مؤشر قطاع البنوك ارتفاعاً بنسبة 21 .1% تلاه مؤشر قطاع التأمين ارتفاعاً بنسبة 03 .0% تلاه مؤشر قطاع الخدمات انخفاضاً بنسبة 97 .0% تلاه مؤشر قطاع الصناعات ارتفاعاً بنسبة 39 .1% .وبلغ عدد الشركات التي تم تداول أسهمها 64 من أصل 131 شركة مدرجة في الأسواق المالية . وحققت أسعار أسهم 31 شركة ارتفاعا في حين انخفضت أسعار أسهم 23 شركة بينما لم يحدث أي تغير على أسعار أسهم باقي الشركات .وجاء سهم أرابتك القابضة في المركز الأول من حيث الشركات الأكثر نشاطاً حيث تم تداول ما قيمته 21 .0 مليار درهم موزعة على 10 .0 مليار سهم من خلال 2،129 صفقة . واحتل سهم سوق دبي المالي المرتبة الثانية بإجمالي تداول بلغ 62 .81 مليون درهم موزعة على 14 .58 مليون سهم من خلال 1،280 صفقة . وحقق سهم الجرافات البحرية أكثر نسبة ارتفاع سعري حيث أقفل سعر السهم على مستوى 84 .6 درهم مرتفعا بنسبة 97 .9% من خلال تداول 9،200 سهم بقيمة 62،928 درهماً . وجاء في المركز الثاني من حيث الارتفاع السعري سهم الوطنية للسياحة الذي ارتفع بنسبة 88 .9% ليغلق على مستوى 67 .5 درهم للسهم الواحد من خلال تداول 14،166 سهماً بقيمة 80،321 درهماً . وسجل سهم الخليج الطبية أكثر انخفاض سعري في جلسة التداول حيث أقفل سعر السهم على مستوى 6 .3 درهم مسجلا خسارة بنسبة 77 .9% من خلال تداول 5،560 سهماً بقيمة 20،016 درهماً . تلاه سهم جلفار الذي انخفض بنسبة 40 .8% ليغلق على مستوى 2 .1 درهم من خلال تداول 500 سهم بقيمة 600 درهم .ومنذ بداية العام بلغت نسبة النمو في مؤشر سوق الإمارات المالي 19 .3% وبلغ إجمالي قيمة التداول 56 .46 مليار درهم . وبلغ عدد الشركات التي حققت ارتفاعاً سعرياً 51 من أصل 131 وعدد الشركات المتراجعة 47 شركة . ويتصدر مؤشر قطاع الخدمات المرتبة الأولى مقارنة بالمؤشرات الأخرى ومحققا نسبة نمو عن نهاية العام الماضي بلغت 12 .10% ليستقر على مستوى 2،233 نقطة . في حين احتل مؤشر الصناعات المركز الثاني بنسبة 22 .9% ليستقر على 421 نقطة . تلاه مؤشر قطاع التأمين انخفاضاً بنسبة -28 .1% ليغلق على مستوى 3،347 نقطة . تلاه مؤشر قطاع البنوك بنسبة -31 .4% ليغلق على مستوى 2،848 نقطة .'"
            ],
            "application/vnd.google.colaboratory.intrinsic+json": {
              "type": "string"
            }
          },
          "metadata": {},
          "execution_count": 6
        }
      ]
    },
    {
      "cell_type": "code",
      "source": [
        "train_data['text'][1]"
      ],
      "metadata": {
        "colab": {
          "base_uri": "https://localhost:8080/",
          "height": 108
        },
        "id": "bpj_42HODUmV",
        "outputId": "1c519f4f-e5ee-48cd-dc9a-01fd6ba83617"
      },
      "id": "bpj_42HODUmV",
      "execution_count": null,
      "outputs": [
        {
          "output_type": "execute_result",
          "data": {
            "text/plain": [
              "'أبوظبي علي أسعد: كشف راشد البلوشي الرئيس التنفيذي لسوق أبوظبي للأوراق المالية عن قيام السوق بالمفاوضات مع بنك أبوظبي الوطني حول الأسهم التي سيعتمدها صانع السوق، وقال في حديث ل\"الخليج\" إن حصول البنك على ترخيص من هيئة الأوراق المالية والسلع في الدولة بممارسة نشاط صانع السوق خطوة مهمة وفي الاتجاه الصحيح لتطوير أسواق المال في الدولة، وأضاف: يأتي ذلك على أعتاب ترقية أسواق المال كأسواق ناشئة ضمن مؤشرات مورجان ستانلي مطلع يوليو/تموز المقبل، مشيراً إلى أن متطلبات ممارسة نشاط صانع السوق المتعلقة بالأنظمة تم إصدارها من هيئة الأوراق المالية والسلع كنظام البيع على المكشوف ونظام إقراض واقتراض الأوراق المالية .وعلمت \"الخليج\" أن هناك جهات أخرى مالية تقدمت بطلب الترخيص لممارسة نشاط صانع السوق .وقال محمد مرتضى الدندش الرئيس التنفيذي لشركة الرمز للأوراق المالية إن شركة الرمز تقدمت بطلب لهيئة الأوراق المالية للحصول على ترخيص ممارسة صانع السوق، وهناك بنوك أخرى تقدمت بطلبات مماثلة لممارسة هذا النشاط الذي يعد أحد الأدوات لتطوير أسواق المال في الدولة، والمساهمة في تعزير سيولتها وجذب المزيد من الاستثمارات إليها . وأضاف الدندش، صحيح أن نظام البيع على المكشوف ونظام إقراض واقتراض الأوراق المالية مهمان لممارسة نشاط صانع السوق إلا أن هذه الأنظمة لم يتم تفعليها حتى الآن وكذلك الحفظ الأمين .واعتبر محمد علي ياسين العضو المنتدب لشركة أبوظبي الوطني للخدمات المالية أن الأهم في ممارسة صانع السوق أن تتوفر إدارة للمخاطر وتقييمها، وأن يتوفر أكثر من صانع سوق، وإلا فإن وجود شركة واحدة يحمل في طياته مخاطر على الشركة التي تقوم بهذا النشاط، ولا بد من تحديد والإفصاح عن الأسهم التي سيتم تجاهها نشاط صانع السوق . وأكد ياسين أهمية وجود أداة صانع السوق في أسواق المال لجعلها تحتفظ بحالة من التوازن بين العرض والطلب، وانحسار الفجوة بين سعري الشراء والبيع سعياً لتحقيق أهم وظائف السوق المتمثلة في القدرة على تسييل الأوراق المالية بسرعة وسهولة، وإيجاد توازن في العرض والطلب للحد من تقلبات الأسعار صعوداً وهبوطاً، الأمر الذي يعزز من درجة الاستثمار المؤسسي في الأسواق المحلية ويزيد من عمقها وتوازنها .'"
            ],
            "application/vnd.google.colaboratory.intrinsic+json": {
              "type": "string"
            }
          },
          "metadata": {},
          "execution_count": 7
        }
      ]
    },
    {
      "cell_type": "code",
      "source": [
        "train_data['label'].value_counts()"
      ],
      "metadata": {
        "colab": {
          "base_uri": "https://localhost:8080/"
        },
        "id": "b2pZMX4R-xzc",
        "outputId": "bd9225c2-69aa-4f19-d051-314d477bdeb5"
      },
      "id": "b2pZMX4R-xzc",
      "execution_count": null,
      "outputs": [
        {
          "output_type": "execute_result",
          "data": {
            "text/plain": [
              "label\n",
              "Finance    5218\n",
              "Culture    5171\n",
              "Medical    1611\n",
              "Name: count, dtype: int64"
            ]
          },
          "metadata": {},
          "execution_count": 8
        }
      ]
    },
    {
      "cell_type": "code",
      "source": [
        "train_data['label'].value_counts().plot(kind='bar')"
      ],
      "metadata": {
        "colab": {
          "base_uri": "https://localhost:8080/",
          "height": 507
        },
        "id": "mbx7jicx-f22",
        "outputId": "7d1bd6a2-37a4-4dc4-b68a-53b4c1bd7a30"
      },
      "id": "mbx7jicx-f22",
      "execution_count": null,
      "outputs": [
        {
          "output_type": "execute_result",
          "data": {
            "text/plain": [
              "<Axes: xlabel='label'>"
            ]
          },
          "metadata": {},
          "execution_count": 9
        },
        {
          "output_type": "display_data",
          "data": {
            "text/plain": [
              "<Figure size 640x480 with 1 Axes>"
            ],
            "image/png": "[encoded data removed]"
          },
          "metadata": {}
        }
      ]
    },
    {
      "cell_type": "code",
      "source": [
        "train_data.shape"
      ],
      "metadata": {
        "colab": {
          "base_uri": "https://localhost:8080/"
        },
        "id": "YGUrrhTG7AfV",
        "outputId": "f11478e9-704b-4a60-8b15-465216732bee"
      },
      "id": "YGUrrhTG7AfV",
      "execution_count": null,
      "outputs": [
        {
          "output_type": "execute_result",
          "data": {
            "text/plain": [
              "(12000, 3)"
            ]
          },
          "metadata": {},
          "execution_count": 10
        }
      ]
    },
    {
      "cell_type": "code",
      "source": [
        "train_data.duplicated().sum()"
      ],
      "metadata": {
        "colab": {
          "base_uri": "https://localhost:8080/"
        },
        "id": "uqQSBpmi_bR1",
        "outputId": "5fa63124-446d-4bbb-fe05-cd30edb505da"
      },
      "id": "uqQSBpmi_bR1",
      "execution_count": null,
      "outputs": [
        {
          "output_type": "execute_result",
          "data": {
            "text/plain": [
              "0"
            ]
          },
          "metadata": {},
          "execution_count": 11
        }
      ]
    },
    {
      "cell_type": "code",
      "source": [
        "train_data.isna().sum()"
      ],
      "metadata": {
        "colab": {
          "base_uri": "https://localhost:8080/"
        },
        "id": "-naucHYU_XgJ",
        "outputId": "904e72ac-b3d3-4829-bc47-0be083e21e75"
      },
      "id": "-naucHYU_XgJ",
      "execution_count": null,
      "outputs": [
        {
          "output_type": "execute_result",
          "data": {
            "text/plain": [
              "Unnamed: 0    0\n",
              "text          0\n",
              "label         0\n",
              "dtype: int64"
            ]
          },
          "metadata": {},
          "execution_count": 12
        }
      ]
    },
    {
      "cell_type": "code",
      "source": [
        "train_data.info()"
      ],
      "metadata": {
        "colab": {
          "base_uri": "https://localhost:8080/"
        },
        "id": "_D_SXq90_P4s",
        "outputId": "ef41b780-043f-4724-a6b3-40bf05fce8f5"
      },
      "id": "_D_SXq90_P4s",
      "execution_count": null,
      "outputs": [
        {
          "output_type": "stream",
          "name": "stdout",
          "text": [
            "<class 'pandas.core.frame.DataFrame'>\n",
            "RangeIndex: 12000 entries, 0 to 11999\n",
            "Data columns (total 3 columns):\n",
            " #   Column      Non-Null Count  Dtype \n",
            "---  ------      --------------  ----- \n",
            " 0   Unnamed: 0  12000 non-null  int64 \n",
            " 1   text        12000 non-null  object\n",
            " 2   label       12000 non-null  object\n",
            "dtypes: int64(1), object(2)\n",
            "memory usage: 281.4+ KB\n"
          ]
        }
      ]
    },
    {
      "cell_type": "code",
      "source": [
        "train_data['text'] = train_data['text'].astype(str)"
      ],
      "metadata": {
        "id": "k666Z6OoJbWV"
      },
      "id": "k666Z6OoJbWV",
      "execution_count": null,
      "outputs": []
    },
    {
      "cell_type": "code",
      "source": [
        "train_data"
      ],
      "metadata": {
        "id": "RyxGKMtBOv4Y",
        "colab": {
          "base_uri": "https://localhost:8080/",
          "height": 423
        },
        "outputId": "1fbf89e7-cf83-49ea-e4d1-41a88fcb556a"
      },
      "id": "RyxGKMtBOv4Y",
      "execution_count": null,
      "outputs": [
        {
          "output_type": "execute_result",
          "data": {
            "text/plain": [
              "       Unnamed: 0                                               text    label\n",
              "0            9839  ارتفع مؤشر سوق الإمارات المالي الصادر عن هيئة ...  Finance\n",
              "1            9680  أبوظبي علي أسعد: كشف راشد البلوشي الرئيس التنف...  Finance\n",
              "2            7093  أنهت أسواق الأسهم المحلية تداولات فبراير على ا...  Finance\n",
              "3           11293  أعاد بنك الخليج الأول شراء 32 ألف من أسهمه أمس...  Finance\n",
              "4             820  حيث تتوفر شروط ثقافية صحية، ينتج هناك أدب رفيع...  Culture\n",
              "...           ...                                                ...      ...\n",
              "11995        5191  شهدت ولاية نزوى في سلطنة عمان انطلاق فعاليات م...  Culture\n",
              "11996       13418  عجمان: سيد زكي استقبل مركز راشد للسكري والأبحا...  Medical\n",
              "11997        5390  إذا كانت ولادة المصطلح الجديد، تتعلق بدورة الز...  Culture\n",
              "11998         860  أعلنت لجنة تحكيم جائزة المغرب للكتاب عن االفائ...  Culture\n",
              "11999        7270  ارتفع مؤشر سوق الإمارات المالي خلال جلسة الأمس...  Finance\n",
              "\n",
              "[12000 rows x 3 columns]"
            ],
            "text/html": [
              "\n",
              "  <div id=\"df-1e66a3b2-34ff-4dc3-9b80-6962d2dfac3b\" class=\"colab-df-container\">\n",
              "    <div>\n",
              "<style scoped>\n",
              "    .dataframe tbody tr th:only-of-type {\n",
              "        vertical-align: middle;\n",
              "    }\n",
              "\n",
              "    .dataframe tbody tr th {\n",
              "        vertical-align: top;\n",
              "    }\n",
              "\n",
              "    .dataframe thead th {\n",
              "        text-align: right;\n",
              "    }\n",
              "</style>\n",
              "<table border=\"1\" class=\"dataframe\">\n",
              "  <thead>\n",
              "    <tr style=\"text-align: right;\">\n",
              "      <th></th>\n",
              "      <th>Unnamed: 0</th>\n",
              "      <th>text</th>\n",
              "      <th>label</th>\n",
              "    </tr>\n",
              "  </thead>\n",
              "  <tbody>\n",
              "    <tr>\n",
              "      <th>0</th>\n",
              "      <td>9839</td>\n",
              "      <td>ارتفع مؤشر سوق الإمارات المالي الصادر عن هيئة ...</td>\n",
              "      <td>Finance</td>\n",
              "    </tr>\n",
              "    <tr>\n",
              "      <th>1</th>\n",
              "      <td>9680</td>\n",
              "      <td>أبوظبي علي أسعد: كشف راشد البلوشي الرئيس التنف...</td>\n",
              "      <td>Finance</td>\n",
              "    </tr>\n",
              "    <tr>\n",
              "      <th>2</th>\n",
              "      <td>7093</td>\n",
              "      <td>أنهت أسواق الأسهم المحلية تداولات فبراير على ا...</td>\n",
              "      <td>Finance</td>\n",
              "    </tr>\n",
              "    <tr>\n",
              "      <th>3</th>\n",
              "      <td>11293</td>\n",
              "      <td>أعاد بنك الخليج الأول شراء 32 ألف من أسهمه أمس...</td>\n",
              "      <td>Finance</td>\n",
              "    </tr>\n",
              "    <tr>\n",
              "      <th>4</th>\n",
              "      <td>820</td>\n",
              "      <td>حيث تتوفر شروط ثقافية صحية، ينتج هناك أدب رفيع...</td>\n",
              "      <td>Culture</td>\n",
              "    </tr>\n",
              "    <tr>\n",
              "      <th>...</th>\n",
              "      <td>...</td>\n",
              "      <td>...</td>\n",
              "      <td>...</td>\n",
              "    </tr>\n",
              "    <tr>\n",
              "      <th>11995</th>\n",
              "      <td>5191</td>\n",
              "      <td>شهدت ولاية نزوى في سلطنة عمان انطلاق فعاليات م...</td>\n",
              "      <td>Culture</td>\n",
              "    </tr>\n",
              "    <tr>\n",
              "      <th>11996</th>\n",
              "      <td>13418</td>\n",
              "      <td>عجمان: سيد زكي استقبل مركز راشد للسكري والأبحا...</td>\n",
              "      <td>Medical</td>\n",
              "    </tr>\n",
              "    <tr>\n",
              "      <th>11997</th>\n",
              "      <td>5390</td>\n",
              "      <td>إذا كانت ولادة المصطلح الجديد، تتعلق بدورة الز...</td>\n",
              "      <td>Culture</td>\n",
              "    </tr>\n",
              "    <tr>\n",
              "      <th>11998</th>\n",
              "      <td>860</td>\n",
              "      <td>أعلنت لجنة تحكيم جائزة المغرب للكتاب عن االفائ...</td>\n",
              "      <td>Culture</td>\n",
              "    </tr>\n",
              "    <tr>\n",
              "      <th>11999</th>\n",
              "      <td>7270</td>\n",
              "      <td>ارتفع مؤشر سوق الإمارات المالي خلال جلسة الأمس...</td>\n",
              "      <td>Finance</td>\n",
              "    </tr>\n",
              "  </tbody>\n",
              "</table>\n",
              "<p>12000 rows × 3 columns</p>\n",
              "</div>\n",
              "    <div class=\"colab-df-buttons\">\n",
              "\n",
              "  <div class=\"colab-df-container\">\n",
              "    <button class=\"colab-df-convert\" onclick=\"convertToInteractive('df-1e66a3b2-34ff-4dc3-9b80-6962d2dfac3b')\"\n",
              "            title=\"Convert this dataframe to an interactive table.\"\n",
              "            style=\"display:none;\">\n",
              "\n",
              "  <svg xmlns=\"http://www.w3.org/2000/svg\" height=\"24px\" viewBox=\"0 -960 960 960\">\n",
              "    <path d=\"M120-120v-720h720v720H120Zm60-500h600v-160H180v160Zm220 220h160v-160H400v160Zm0 220h160v-160H400v160ZM180-400h160v-160H180v160Zm440 0h160v-160H620v160ZM180-180h160v-160H180v160Zm440 0h160v-160H620v160Z\"/>\n",
              "  </svg>\n",
              "    </button>\n",
              "\n",
              "  <style>\n",
              "    .colab-df-container {\n",
              "      display:flex;\n",
              "      gap: 12px;\n",
              "    }\n",
              "\n",
              "    .colab-df-convert {\n",
              "      background-color: #E8F0FE;\n",
              "      border: none;\n",
              "      border-radius: 50%;\n",
              "      cursor: pointer;\n",
              "      display: none;\n",
              "      fill: #1967D2;\n",
              "      height: 32px;\n",
              "      padding: 0 0 0 0;\n",
              "      width: 32px;\n",
              "    }\n",
              "\n",
              "    .colab-df-convert:hover {\n",
              "      background-color: #E2EBFA;\n",
              "      box-shadow: 0px 1px 2px rgba(60, 64, 67, 0.3), 0px 1px 3px 1px rgba(60, 64, 67, 0.15);\n",
              "      fill: #174EA6;\n",
              "    }\n",
              "\n",
              "    .colab-df-buttons div {\n",
              "      margin-bottom: 4px;\n",
              "    }\n",
              "\n",
              "    [theme=dark] .colab-df-convert {\n",
              "      background-color: #3B4455;\n",
              "      fill: #D2E3FC;\n",
              "    }\n",
              "\n",
              "    [theme=dark] .colab-df-convert:hover {\n",
              "      background-color: #434B5C;\n",
              "      box-shadow: 0px 1px 3px 1px rgba(0, 0, 0, 0.15);\n",
              "      filter: drop-shadow(0px 1px 2px rgba(0, 0, 0, 0.3));\n",
              "      fill: #FFFFFF;\n",
              "    }\n",
              "  </style>\n",
              "\n",
              "    <script>\n",
              "      const buttonEl =\n",
              "        document.querySelector('#df-1e66a3b2-34ff-4dc3-9b80-6962d2dfac3b button.colab-df-convert');\n",
              "      buttonEl.style.display =\n",
              "        google.colab.kernel.accessAllowed ? 'block' : 'none';\n",
              "\n",
              "      async function convertToInteractive(key) {\n",
              "        const element = document.querySelector('#df-1e66a3b2-34ff-4dc3-9b80-6962d2dfac3b');\n",
              "        const dataTable =\n",
              "          await google.colab.kernel.invokeFunction('convertToInteractive',\n",
              "                                                    [key], {});\n",
              "        if (!dataTable) return;\n",
              "\n",
              "        const docLinkHtml = 'Like what you see? Visit the ' +\n",
              "          '<a target=\"_blank\" href=https://colab.research.google.com/notebooks/data_table.ipynb>data table notebook</a>'\n",
              "          + ' to learn more about interactive tables.';\n",
              "        element.innerHTML = '';\n",
              "        dataTable['output_type'] = 'display_data';\n",
              "        await google.colab.output.renderOutput(dataTable, element);\n",
              "        const docLink = document.createElement('div');\n",
              "        docLink.innerHTML = docLinkHtml;\n",
              "        element.appendChild(docLink);\n",
              "      }\n",
              "    </script>\n",
              "  </div>\n",
              "\n",
              "\n",
              "<div id=\"df-45a6c5e5-248d-43a9-9149-15ce1d349626\">\n",
              "  <button class=\"colab-df-quickchart\" onclick=\"quickchart('df-45a6c5e5-248d-43a9-9149-15ce1d349626')\"\n",
              "            title=\"Suggest charts\"\n",
              "            style=\"display:none;\">\n",
              "\n",
              "<svg xmlns=\"http://www.w3.org/2000/svg\" height=\"24px\"viewBox=\"0 0 24 24\"\n",
              "     width=\"24px\">\n",
              "    <g>\n",
              "        <path d=\"M19 3H5c-1.1 0-2 .9-2 2v14c0 1.1.9 2 2 2h14c1.1 0 2-.9 2-2V5c0-1.1-.9-2-2-2zM9 17H7v-7h2v7zm4 0h-2V7h2v10zm4 0h-2v-4h2v4z\"/>\n",
              "    </g>\n",
              "</svg>\n",
              "  </button>\n",
              "\n",
              "<style>\n",
              "  .colab-df-quickchart {\n",
              "      --bg-color: #E8F0FE;\n",
              "      --fill-color: #1967D2;\n",
              "      --hover-bg-color: #E2EBFA;\n",
              "      --hover-fill-color: #174EA6;\n",
              "      --disabled-fill-color: #AAA;\n",
              "      --disabled-bg-color: #DDD;\n",
              "  }\n",
              "\n",
              "  [theme=dark] .colab-df-quickchart {\n",
              "      --bg-color: #3B4455;\n",
              "      --fill-color: #D2E3FC;\n",
              "      --hover-bg-color: #434B5C;\n",
              "      --hover-fill-color: #FFFFFF;\n",
              "      --disabled-bg-color: #3B4455;\n",
              "      --disabled-fill-color: #666;\n",
              "  }\n",
              "\n",
              "  .colab-df-quickchart {\n",
              "    background-color: var(--bg-color);\n",
              "    border: none;\n",
              "    border-radius: 50%;\n",
              "    cursor: pointer;\n",
              "    display: none;\n",
              "    fill: var(--fill-color);\n",
              "    height: 32px;\n",
              "    padding: 0;\n",
              "    width: 32px;\n",
              "  }\n",
              "\n",
              "  .colab-df-quickchart:hover {\n",
              "    background-color: var(--hover-bg-color);\n",
              "    box-shadow: 0 1px 2px rgba(60, 64, 67, 0.3), 0 1px 3px 1px rgba(60, 64, 67, 0.15);\n",
              "    fill: var(--button-hover-fill-color);\n",
              "  }\n",
              "\n",
              "  .colab-df-quickchart-complete:disabled,\n",
              "  .colab-df-quickchart-complete:disabled:hover {\n",
              "    background-color: var(--disabled-bg-color);\n",
              "    fill: var(--disabled-fill-color);\n",
              "    box-shadow: none;\n",
              "  }\n",
              "\n",
              "  .colab-df-spinner {\n",
              "    border: 2px solid var(--fill-color);\n",
              "    border-color: transparent;\n",
              "    border-bottom-color: var(--fill-color);\n",
              "    animation:\n",
              "      spin 1s steps(1) infinite;\n",
              "  }\n",
              "\n",
              "  @keyframes spin {\n",
              "    0% {\n",
              "      border-color: transparent;\n",
              "      border-bottom-color: var(--fill-color);\n",
              "      border-left-color: var(--fill-color);\n",
              "    }\n",
              "    20% {\n",
              "      border-color: transparent;\n",
              "      border-left-color: var(--fill-color);\n",
              "      border-top-color: var(--fill-color);\n",
              "    }\n",
              "    30% {\n",
              "      border-color: transparent;\n",
              "      border-left-color: var(--fill-color);\n",
              "      border-top-color: var(--fill-color);\n",
              "      border-right-color: var(--fill-color);\n",
              "    }\n",
              "    40% {\n",
              "      border-color: transparent;\n",
              "      border-right-color: var(--fill-color);\n",
              "      border-top-color: var(--fill-color);\n",
              "    }\n",
              "    60% {\n",
              "      border-color: transparent;\n",
              "      border-right-color: var(--fill-color);\n",
              "    }\n",
              "    80% {\n",
              "      border-color: transparent;\n",
              "      border-right-color: var(--fill-color);\n",
              "      border-bottom-color: var(--fill-color);\n",
              "    }\n",
              "    90% {\n",
              "      border-color: transparent;\n",
              "      border-bottom-color: var(--fill-color);\n",
              "    }\n",
              "  }\n",
              "</style>\n",
              "\n",
              "  <script>\n",
              "    async function quickchart(key) {\n",
              "      const quickchartButtonEl =\n",
              "        document.querySelector('#' + key + ' button');\n",
              "      quickchartButtonEl.disabled = true;  // To prevent multiple clicks.\n",
              "      quickchartButtonEl.classList.add('colab-df-spinner');\n",
              "      try {\n",
              "        const charts = await google.colab.kernel.invokeFunction(\n",
              "            'suggestCharts', [key], {});\n",
              "      } catch (error) {\n",
              "        console.error('Error during call to suggestCharts:', error);\n",
              "      }\n",
              "      quickchartButtonEl.classList.remove('colab-df-spinner');\n",
              "      quickchartButtonEl.classList.add('colab-df-quickchart-complete');\n",
              "    }\n",
              "    (() => {\n",
              "      let quickchartButtonEl =\n",
              "        document.querySelector('#df-45a6c5e5-248d-43a9-9149-15ce1d349626 button');\n",
              "      quickchartButtonEl.style.display =\n",
              "        google.colab.kernel.accessAllowed ? 'block' : 'none';\n",
              "    })();\n",
              "  </script>\n",
              "</div>\n",
              "\n",
              "  <div id=\"id_ebd1289f-2e3a-49f5-8dfa-64f9438c05b4\">\n",
              "    <style>\n",
              "      .colab-df-generate {\n",
              "        background-color: #E8F0FE;\n",
              "        border: none;\n",
              "        border-radius: 50%;\n",
              "        cursor: pointer;\n",
              "        display: none;\n",
              "        fill: #1967D2;\n",
              "        height: 32px;\n",
              "        padding: 0 0 0 0;\n",
              "        width: 32px;\n",
              "      }\n",
              "\n",
              "      .colab-df-generate:hover {\n",
              "        background-color: #E2EBFA;\n",
              "        box-shadow: 0px 1px 2px rgba(60, 64, 67, 0.3), 0px 1px 3px 1px rgba(60, 64, 67, 0.15);\n",
              "        fill: #174EA6;\n",
              "      }\n",
              "\n",
              "      [theme=dark] .colab-df-generate {\n",
              "        background-color: #3B4455;\n",
              "        fill: #D2E3FC;\n",
              "      }\n",
              "\n",
              "      [theme=dark] .colab-df-generate:hover {\n",
              "        background-color: #434B5C;\n",
              "        box-shadow: 0px 1px 3px 1px rgba(0, 0, 0, 0.15);\n",
              "        filter: drop-shadow(0px 1px 2px rgba(0, 0, 0, 0.3));\n",
              "        fill: #FFFFFF;\n",
              "      }\n",
              "    </style>\n",
              "    <button class=\"colab-df-generate\" onclick=\"generateWithVariable('train_data')\"\n",
              "            title=\"Generate code using this dataframe.\"\n",
              "            style=\"display:none;\">\n",
              "\n",
              "  <svg xmlns=\"http://www.w3.org/2000/svg\" height=\"24px\"viewBox=\"0 0 24 24\"\n",
              "       width=\"24px\">\n",
              "    <path d=\"M7,19H8.4L18.45,9,17,7.55,7,17.6ZM5,21V16.75L18.45,3.32a2,2,0,0,1,2.83,0l1.4,1.43a1.91,1.91,0,0,1,.58,1.4,1.91,1.91,0,0,1-.58,1.4L9.25,21ZM18.45,9,17,7.55Zm-12,3A5.31,5.31,0,0,0,4.9,8.1,5.31,5.31,0,0,0,1,6.5,5.31,5.31,0,0,0,4.9,4.9,5.31,5.31,0,0,0,6.5,1,5.31,5.31,0,0,0,8.1,4.9,5.31,5.31,0,0,0,12,6.5,5.46,5.46,0,0,0,6.5,12Z\"/>\n",
              "  </svg>\n",
              "    </button>\n",
              "    <script>\n",
              "      (() => {\n",
              "      const buttonEl =\n",
              "        document.querySelector('#id_ebd1289f-2e3a-49f5-8dfa-64f9438c05b4 button.colab-df-generate');\n",
              "      buttonEl.style.display =\n",
              "        google.colab.kernel.accessAllowed ? 'block' : 'none';\n",
              "\n",
              "      buttonEl.onclick = () => {\n",
              "        google.colab.notebook.generateWithVariable('train_data');\n",
              "      }\n",
              "      })();\n",
              "    </script>\n",
              "  </div>\n",
              "\n",
              "    </div>\n",
              "  </div>\n"
            ],
            "application/vnd.google.colaboratory.intrinsic+json": {
              "type": "dataframe",
              "variable_name": "train_data",
              "summary": "{\n  \"name\": \"train_data\",\n  \"rows\": 12000,\n  \"fields\": [\n    {\n      \"column\": \"Unnamed: 0\",\n      \"properties\": {\n        \"dtype\": \"number\",\n        \"std\": 4328,\n        \"min\": 0,\n        \"max\": 14999,\n        \"num_unique_values\": 12000,\n        \"samples\": [\n          2651,\n          1096,\n          4605\n        ],\n        \"semantic_type\": \"\",\n        \"description\": \"\"\n      }\n    },\n    {\n      \"column\": \"text\",\n      \"properties\": {\n        \"dtype\": \"string\",\n        \"num_unique_values\": 11994,\n        \"samples\": [\n          \"\\u0648\\u0627\\u0635\\u0644\\u062a \\u0627\\u0644\\u0623\\u0633\\u0647\\u0645 \\u0627\\u0644\\u0645\\u062d\\u0644\\u064a\\u0629 \\u062a\\u062d\\u0642\\u064a\\u0642 \\u0645\\u0643\\u0627\\u0633\\u0628\\u0647\\u0627 \\u0644\\u0644\\u064a\\u0648\\u0645 \\u0627\\u0644\\u062b\\u0627\\u0644\\u062b \\u0639\\u0644\\u0649 \\u0627\\u0644\\u062a\\u0648\\u0627\\u0644\\u064a \\u0648\\u0633\\u0637 \\u0642\\u0644\\u0642 \\u0628\\u0639\\u0636 \\u0627\\u0644\\u0645\\u0633\\u062a\\u062b\\u0645\\u0631\\u064a\\u0646 \\u0648\\u062a\\u0641\\u0627\\u0624\\u0644 \\u0628\\u0639\\u0636\\u0647\\u0645 \\u0627\\u0644\\u0622\\u062e\\u0631 \\u0628\\u0648\\u062c\\u0648\\u062f \\u062d\\u0644 \\u0645\\u0646\\u0627\\u0633\\u0628 \\u0644\\u0623\\u0632\\u0645\\u0629 \\u0627\\u0644\\u0645\\u0648\\u0627\\u0632\\u0646\\u0629 \\u0627\\u0644\\u0623\\u0645\\u0631\\u064a\\u0643\\u064a\\u0629 \\u0627\\u0644\\u062a\\u064a \\u0648\\u0627\\u0635\\u0644\\u062a \\u0636\\u063a\\u0648\\u0637\\u0647\\u0627 \\u0648\\u062a\\u0623\\u062b\\u064a\\u0631\\u0627\\u062a\\u0647\\u0627 \\u0627\\u0644\\u0633\\u0644\\u0628\\u064a\\u0629 \\u0639\\u0644\\u0649 \\u0623\\u0633\\u0648\\u0627\\u0642 \\u0627\\u0644\\u0645\\u0627\\u0644 \\u0627\\u0644\\u0645\\u062d\\u0644\\u064a\\u0629 \\u0648\\u0627\\u0644\\u0625\\u0642\\u0644\\u064a\\u0645\\u064a\\u0629 \\u0648\\u0627\\u0644\\u0639\\u0627\\u0644\\u0645\\u064a\\u0629 \\u0637\\u064a\\u0644\\u0629 \\u0627\\u0644\\u0623\\u0633\\u0628\\u0648\\u0639 . \\u0648\\u064a\\u0648\\u0645 \\u0623\\u0645\\u0633 \\u062d\\u0642\\u0642\\u062a \\u0627\\u0644\\u0623\\u0633\\u0647\\u0645 \\u0645\\u0643\\u0627\\u0633\\u0628 \\u0645\\u0642\\u062f\\u0627\\u0631\\u0647\\u0627 21 .1 \\u0645\\u0644\\u064a\\u0627\\u0631 \\u062f\\u0631\\u0647\\u0645 \\u0623\\u0636\\u064a\\u0641\\u062a \\u0625\\u0644\\u0649 \\u0627\\u0644\\u0642\\u064a\\u0645\\u0629 \\u0627\\u0644\\u0633\\u0648\\u0642\\u064a\\u0629 \\u0627\\u0644\\u062a\\u064a \\u0648\\u0635\\u0644\\u062a \\u0625\\u0644\\u0649 94 .575 \\u0645\\u0644\\u064a\\u0627\\u0631 \\u062f\\u0631\\u0647\\u0645 ( \\u0645\\u0646\\u0647\\u0627 68 .365 \\u0645\\u0644\\u064a\\u0627\\u0631 \\u062f\\u0631\\u0647\\u0645 \\u0644\\u0633\\u0648\\u0642 \\u0623\\u0628\\u0648\\u0638\\u0628\\u064a\\u060c \\u064894 .210 \\u0645\\u0644\\u064a\\u0627\\u0631 \\u062f\\u0631\\u0647\\u0645 \\u0644\\u0633\\u0648\\u0642 \\u062f\\u0628\\u064a \\u0627\\u0644\\u0645\\u0627\\u0644\\u064a ) \\u0645\\u0639 \\u0627\\u0631\\u062a\\u0641\\u0627\\u0639 \\u0645\\u0624\\u0634\\u0631 \\u0633\\u0648\\u0642 \\u0627\\u0644\\u0625\\u0645\\u0627\\u0631\\u0627\\u062a \\u0628\\u0646\\u0633\\u0628\\u0629 21 .0 % \\u0639\\u0646\\u062f \\u0645\\u0633\\u062a\\u0648\\u0649 16 .3844 \\u0646\\u0642\\u0637\\u0629\\u060c \\u0648\\u0623\\u063a\\u0644\\u0642 \\u0645\\u0624\\u0634\\u0631 \\u0633\\u0648\\u0642 \\u062f\\u0628\\u064a \\u0627\\u0644\\u0645\\u0627\\u0644\\u064a \\u0639\\u0644\\u0649 \\u0627\\u0631\\u062a\\u0641\\u0627\\u0639 \\u0628\\u0646\\u0633\\u0628\\u0629 16 .1% \\u0639\\u0646\\u062f \\u0645\\u0633\\u062a\\u0648\\u064992 .2830 \\u0646\\u0642\\u0637\\u0629\\u060c \\u0641\\u064a \\u062d\\u064a\\u0646 \\u0623\\u063a\\u0644\\u0642 \\u0645\\u0624\\u0634\\u0631 \\u0633\\u0648\\u0642 \\u0623\\u0628\\u0648\\u0638\\u0628\\u064a \\u0639\\u0644\\u0649 \\u0627\\u0646\\u062e\\u0641\\u0627\\u0636 \\u0628\\u0646\\u0633\\u0628\\u0629 22 .0% \\u0639\\u0646\\u062f \\u0645\\u0633\\u062a\\u0648\\u0649 35 .3842 \\u0646\\u0642\\u0637\\u0629 . \\u0648\\u062a\\u0645 \\u062a\\u062f\\u0627\\u0648\\u0644 \\u0623\\u0633\\u0647\\u0645 60 \\u0634\\u0631\\u0643\\u0629 \\u0628\\u0645\\u0642\\u062f\\u0627\\u0631 87 .518 \\u0645\\u0644\\u064a\\u0648\\u0646 \\u0633\\u0647\\u0645 \\u0646\\u0641\\u0630\\u062a \\u0645\\u0646 \\u062e\\u0644\\u0627\\u0644 6907 \\u0635\\u0641\\u0642\\u0629 \\u0628\\u0642\\u064a\\u0645\\u0629 4 .781 \\u0645\\u0644\\u064a\\u0648\\u0646 \\u062f\\u0631\\u0647\\u0645 \\u064a\\u0648\\u0645 \\u0623\\u0645\\u0633 \\u0628\\u0632\\u064a\\u0627\\u062f\\u0629 \\u0646\\u0633\\u0628\\u062a\\u0647\\u0627 7 .11% \\u0645\\u0642\\u0627\\u0631\\u0646\\u0629 \\u0628\\u062a\\u062f\\u0627\\u0648\\u0644\\u0627\\u062a \\u0623\\u0645\\u0633 \\u0627\\u0644\\u0623\\u0648\\u0644 .\\u0648\\u062a\\u0635\\u062f\\u0631 \\u0633\\u0647\\u0645 \\u062f\\u0628\\u064a \\u0644\\u0644\\u0627\\u0633\\u062a\\u062b\\u0645\\u0627\\u0631 \\u0642\\u0627\\u0626\\u0645\\u0629 \\u0627\\u0644\\u0623\\u0633\\u0647\\u0645 \\u0627\\u0644\\u0623\\u0643\\u062b\\u0631 \\u062a\\u062f\\u0627\\u0648\\u0644\\u0627\\u064b \\u0641\\u064a \\u0627\\u0644\\u0633\\u0648\\u0642\\u064a\\u0646 \\u0628\\u0642\\u064a\\u0645\\u0629 3 .101 \\u0645\\u0644\\u064a\\u0648\\u0646 \\u062f\\u0631\\u0647\\u0645 \\u0648\\u0627\\u0631\\u062a\\u0641\\u0639 \\u0633\\u0639\\u0631 \\u0627\\u0644\\u0633\\u0647\\u0645 91 .2% \\u0648\\u0627\\u063a\\u0644\\u0642 \\u0639\\u0646\\u062f 12 .2 \\u062f\\u0631\\u0647\\u0645\\u060c \\u0648\\u062c\\u0627\\u0621 \\u0633\\u0647\\u0645 \\u0633\\u0648\\u0642 \\u062f\\u0628\\u064a \\u0627\\u0644\\u0645\\u0627\\u0644\\u064a \\u0641\\u064a \\u0627\\u0644\\u0645\\u0631\\u0643\\u0632 \\u0627\\u0644\\u062b\\u0627\\u0646\\u064a \\u0628\\u062a\\u062f\\u0627\\u0648\\u0644 \\u0642\\u064a\\u0645\\u0629 4 .67 \\u0645\\u0644\\u064a\\u0648\\u0646 \\u062f\\u0631\\u0647\\u0645 \\u0648\\u0623\\u063a\\u0644\\u0642 \\u0639\\u0644\\u0649 \\u0627\\u0631\\u062a\\u0641\\u0627\\u0639 \\u0628\\u0646\\u0633\\u0628\\u0629 13 .4 % \\u0648\\u0623\\u063a\\u0644\\u0642 \\u0639\\u0646\\u062f 17 .2 \\u062f\\u0631\\u0647\\u0645 . \\u0648\\u062c\\u0627\\u0621 \\u0633\\u0647\\u0645 \\u0627\\u0644\\u0627\\u062a\\u062d\\u0627\\u062f \\u0627\\u0644\\u0639\\u0642\\u0627\\u0631\\u064a\\u0629 \\u0641\\u064a \\u0627\\u0644\\u0645\\u0631\\u0643\\u0632 \\u0627\\u0644\\u062b\\u0627\\u0644\\u062b \\u0628\\u062a\\u062f\\u0627\\u0648\\u0644 7 .65 \\u0645\\u0644\\u064a\\u0648\\u0646 \\u062f\\u0631\\u0647\\u0645\\u060c \\u0648\\u0635\\u0639\\u062f \\u0633\\u0639\\u0631 \\u0627\\u0644\\u0633\\u0647\\u0645 41 .3 % \\u0648\\u0623\\u063a\\u0644\\u0642 \\u0639\\u0646\\u062f 879 .0 \\u062f\\u0631\\u0647\\u0645 . \\u0648\\u0627\\u062d\\u062a\\u0644 \\u0633\\u0647\\u0645 \\u0625\\u0639\\u0645\\u0627\\u0631 \\u0627\\u0644\\u0645\\u0631\\u0643\\u0632 \\u0627\\u0644\\u0631\\u0627\\u0628\\u0639 \\u0628\\u062a\\u062f\\u0627\\u0648\\u0644 1 .65 \\u0645\\u0644\\u064a\\u0648\\u0646 \\u062f\\u0631\\u0647\\u0645\\u060c \\u0648\\u0627\\u0631\\u062a\\u0641\\u0639 \\u0633\\u0639\\u0631 \\u0627\\u0644\\u0633\\u0647\\u0645 34 .0% \\u0648\\u0623\\u063a\\u0644\\u0642 \\u0639\\u0646\\u062f 97 .5 \\u062f\\u0631\\u0647\\u0645 .\\u0648\\u062a\\u0635\\u062f\\u0631 \\u0633\\u0647\\u0645 \\u0627\\u0644\\u0648\\u0637\\u0646\\u064a\\u0629 \\u0644\\u0644\\u062a\\u0623\\u0645\\u064a\\u0646\\u0627\\u062a \\u0642\\u0627\\u0626\\u0645\\u0629 \\u0627\\u0644\\u0623\\u0633\\u0647\\u0645 \\u0627\\u0644\\u0623\\u0643\\u062b\\u0631 \\u0627\\u0631\\u062a\\u0641\\u0627\\u0639\\u0627 \\u0641\\u064a \\u0627\\u0644\\u0623\\u0633\\u0639\\u0627\\u0631\\u060c \\u0648\\u0635\\u0639\\u062f \\u0627\\u0644\\u0633\\u0647\\u0645 63 .14% \\u0648\\u0623\\u063a\\u0644\\u0642 \\u0639\\u0646\\u062f 75 .11 . \\u0643\\u0645\\u0627 \\u0627\\u0631\\u062a\\u0641\\u0639 \\u0633\\u0639\\u0631 \\u0633\\u0647\\u0645 \\u0627\\u0644\\u0627\\u0633\\u062a\\u0634\\u0627\\u0631\\u0627\\u062a \\u0627\\u0644\\u0645\\u0627\\u0644\\u064a\\u0629 27 .13% \\u0648\\u0623\\u063a\\u0644\\u0642 \\u0639\\u0646\\u062f 28 .1 \\u062f\\u0631\\u0647\\u0645 .\\u0648\\u0641\\u064a \\u0627\\u0644\\u0645\\u0642\\u0627\\u0628\\u0644 \\u062a\\u0635\\u062f\\u0631 \\u0633\\u0647\\u0645 \\u0627\\u0644\\u062e\\u0644\\u064a\\u062c \\u0644\\u0644\\u0645\\u0634\\u0627\\u0631\\u064a\\u0639 \\u0627\\u0644\\u0637\\u0628\\u064a\\u0629 \\u0642\\u0627\\u0626\\u0645\\u0629 \\u0627\\u0644\\u0623\\u0633\\u0647\\u0645 \\u0627\\u0644\\u0623\\u0643\\u062b\\u0631 \\u062a\\u0631\\u0627\\u062c\\u0639\\u0627\\u064b\\u060c \\u0648\\u0627\\u0646\\u062e\\u0641\\u0636 \\u0627\\u0644\\u0633\\u0647\\u0645 \\u0628\\u0627\\u0644\\u062d\\u062f \\u0627\\u0644\\u0623\\u062f\\u0646\\u0649 \\u0648\\u0623\\u063a\\u0644\\u0642 \\u0639\\u0646\\u062f 7 .2 \\u062f\\u0631\\u0647\\u0645 . \\u0643\\u0645\\u0627 \\u0627\\u0646\\u062e\\u0641\\u0636 \\u0633\\u0647\\u0645 \\u0627\\u0644\\u0645\\u062e\\u0627\\u0632\\u0646 \\u0627\\u0644\\u0639\\u0627\\u0645\\u0629 93 .8% \\u0648\\u0627\\u063a\\u0644\\u0642 \\u0639\\u0646\\u062f 2 .10 \\u062f\\u0631\\u0647\\u0645 .\\u0648\\u0627\\u062a\\u062c\\u0647 \\u0627\\u0644\\u0645\\u0633\\u062a\\u062b\\u0645\\u0631\\u0648\\u0646 \\u0627\\u0644\\u0623\\u062c\\u0627\\u0646\\u0628 \\u0641\\u064a \\u0633\\u0648\\u0642 \\u0623\\u0628\\u0648\\u0638\\u0628\\u064a \\u0646\\u062d\\u0648 \\u0628\\u064a\\u0639 \\u0627\\u0644\\u0623\\u0633\\u0647\\u0645 \\u0628\\u0642\\u064a\\u0645\\u0629 1 .93 \\u0645\\u0644\\u064a\\u0648\\u0646 \\u062f\\u0631\\u0647\\u0645\\u060c \\u0648\\u0628\\u0644\\u063a\\u062a \\u0645\\u0634\\u062a\\u0631\\u064a\\u0627\\u062a\\u0647\\u0645 6 .84 \\u0645\\u0644\\u064a\\u0648\\u0646 \\u062f\\u0631\\u0647\\u0645\\u060c \\u0648\\u0648\\u0635\\u0644 \\u0635\\u0627\\u0641\\u064a \\u0627\\u0633\\u062a\\u062b\\u0645\\u0627\\u0631\\u0627\\u062a\\u0647\\u0645 \\u0625\\u0644\\u0649 5 .8 \\u0645\\u0644\\u064a\\u0648\\u0646 \\u062f\\u0631\\u0647\\u0645 \\u0645\\u062d\\u0635\\u0644\\u0629 \\u0628\\u064a\\u0639 . \\u0648\\u0641\\u064a \\u0627\\u0644\\u0645\\u0642\\u0627\\u0628\\u0644 \\u0627\\u062a\\u062c\\u0647 \\u0627\\u0644\\u0645\\u0648\\u0627\\u0637\\u0646\\u0648\\u0646 \\u0646\\u062d\\u0648 \\u0634\\u0631\\u0627\\u0621 \\u0627\\u0644\\u0623\\u0633\\u0647\\u0645 \\u0628\\u0642\\u064a\\u0645\\u0629 6 .141 \\u0645\\u0644\\u064a\\u0648\\u0646 \\u062f\\u0631\\u0647\\u0645\\u060c \\u0641\\u064a\\u0645\\u0627 \\u0628\\u0644\\u063a\\u062a \\u0645\\u0628\\u064a\\u0639\\u0627\\u062a\\u0647\\u0645 2 .133 \\u0645\\u0644\\u064a\\u0648\\u0646 \\u062f\\u0631\\u0647\\u0645\\u060c \\u0648\\u0648\\u0635\\u0644 \\u0635\\u0627\\u0641\\u064a \\u0627\\u0633\\u062a\\u062b\\u0645\\u0627\\u0631\\u0627\\u062a\\u0647\\u0645 \\u0625\\u0644\\u0649 5 .8 \\u0645\\u0644\\u064a\\u0648\\u0646 \\u062f\\u0631\\u0647\\u0645 \\u0645\\u062d\\u0635\\u0644\\u0629 \\u0634\\u0631\\u0627\\u0621 . \\u0627\\u0644\\u0645\\u062d\\u0627\\u0641\\u0638 \\u0627\\u0644\\u0627\\u0633\\u062a\\u062b\\u0645\\u0627\\u0631\\u064a\\u0629 \\u0628\\u062f\\u0648\\u0631\\u0647\\u0627 \\u0627\\u062a\\u062c\\u0647\\u062a \\u0646\\u062d\\u0648 \\u0634\\u0631\\u0627\\u0621 \\u0627\\u0644\\u0623\\u0633\\u0647\\u0645 \\u0641\\u064a \\u0623\\u0628\\u0648\\u0638\\u0628\\u064a \\u0628\\u0642\\u064a\\u0645\\u0629 9 .82 \\u0645\\u0644\\u064a\\u0648\\u0646 \\u062f\\u0631\\u0647\\u0645\\u060c \\u0648\\u0628\\u0644\\u063a\\u062a \\u0645\\u0628\\u064a\\u0639\\u0627\\u062a\\u0647\\u0627 5 .77 \\u0645\\u0644\\u064a\\u0648\\u0646 \\u062f\\u0631\\u0647\\u0645\\u060c \\u0648\\u0648\\u0635\\u0644 \\u0635\\u0627\\u0641\\u064a \\u0627\\u0633\\u062a\\u062b\\u0645\\u0627\\u0631\\u0627\\u062a\\u0647\\u0627 \\u0625\\u0644\\u0649 3 .5 \\u0645\\u0644\\u064a\\u0648\\u0646 \\u062f\\u0631\\u0647\\u0645 \\u0645\\u062d\\u0635\\u0644\\u0629 \\u0634\\u0631\\u0627\\u0621 . \\u0648\\u0641\\u064a \\u0627\\u0644\\u0645\\u0642\\u0627\\u0628\\u0644 \\u0627\\u062a\\u062c\\u0647 \\u0627\\u0644\\u0645\\u0633\\u062a\\u062b\\u0645\\u0631\\u0648\\u0646 \\u0627\\u0644\\u0623\\u0641\\u0631\\u0627\\u062f \\u0646\\u062d\\u0648 \\u0628\\u064a\\u0639 \\u0627\\u0644\\u0623\\u0633\\u0647\\u0645 \\u0628\\u0642\\u064a\\u0645\\u0629 6 .148 \\u0645\\u0644\\u064a\\u0648\\u0646 \\u062f\\u0631\\u0647\\u0645\\u060c \\u0648\\u0645\\u0634\\u062a\\u0631\\u064a\\u0627\\u062a\\u0647\\u0645 3 .143 \\u0645\\u0644\\u064a\\u0648\\u0646 \\u062f\\u0631\\u0647\\u0645\\u060c \\u0648\\u0635\\u0627\\u0641\\u064a \\u0627\\u0633\\u062a\\u062b\\u0645\\u0627\\u0631\\u0627\\u062a\\u0647\\u0645 3 .5 \\u0645\\u0644\\u064a\\u0648\\u0646 \\u062f\\u0631\\u0647\\u0645 \\u0645\\u062d\\u0635\\u0644\\u0629 \\u0628\\u064a\\u0639 .\\u0648\\u0627\\u062a\\u062c\\u0647 \\u0627\\u0644\\u0645\\u0633\\u062a\\u062b\\u0645\\u0631\\u0648\\u0646 \\u0627\\u0644\\u0623\\u062c\\u0627\\u0646\\u0628 \\u0641\\u064a \\u0633\\u0648\\u0642 \\u062f\\u0628\\u064a \\u0627\\u0644\\u0645\\u0627\\u0644\\u064a \\u0646\\u062d\\u0648 \\u0628\\u064a\\u0639 \\u0627\\u0644\\u0623\\u0633\\u0647\\u0645 \\u0628\\u0642\\u064a\\u0645\\u0629 1 .280 \\u0645\\u0644\\u064a\\u0648\\u0646 \\u062f\\u0631\\u0647\\u0645\\u060c \\u0648\\u0628\\u0644\\u063a\\u062a \\u0645\\u0634\\u062a\\u0631\\u064a\\u0627\\u062a\\u0647\\u0645 7 .274 \\u0645\\u0644\\u064a\\u0648\\u0646 \\u062f\\u0631\\u0647\\u0645\\u060c \\u0648\\u0648\\u0635\\u0644 \\u0635\\u0627\\u0641\\u064a \\u0627\\u0633\\u062a\\u062b\\u0645\\u0627\\u0631\\u0627\\u062a\\u0647\\u0645 \\u0625\\u0644\\u0649 4 .5 \\u0645\\u0644\\u064a\\u0648\\u0646 \\u062f\\u0631\\u0647\\u0645 \\u0645\\u062d\\u0635\\u0644\\u0629 \\u0628\\u064a\\u0639\\u060c \\u0648\\u0641\\u064a \\u0627\\u0644\\u0645\\u0642\\u0627\\u0628\\u0644 \\u0627\\u062a\\u062c\\u0647 \\u0627\\u0644\\u0645\\u0648\\u0627\\u0637\\u0646\\u0648\\u0646 \\u0646\\u062d\\u0648 \\u0634\\u0631\\u0627\\u0621 \\u0627\\u0644\\u0623\\u0633\\u0647\\u0645 \\u0628\\u0642\\u064a\\u0645\\u0629 4 .280 \\u0645\\u0644\\u064a\\u0648\\u0646 \\u062f\\u0631\\u0647\\u0645\\u060c \\u0641\\u064a\\u0645\\u0627 \\u0628\\u0644\\u063a\\u062a \\u0645\\u0628\\u064a\\u0639\\u0627\\u062a\\u0647\\u0645 275 \\u0645\\u0644\\u064a\\u0648\\u0646 \\u062f\\u0631\\u0647\\u0645\\u060c \\u0648\\u0648\\u0635\\u0644 \\u0635\\u0627\\u0641\\u064a \\u0627\\u0633\\u062a\\u062b\\u0645\\u0627\\u0631\\u0627\\u062a\\u0647\\u0645 \\u0625\\u0644\\u0649 4 .5 \\u0645\\u0644\\u064a\\u0648\\u0646 \\u062f\\u0631\\u0647\\u0645 \\u0645\\u062d\\u0635\\u0644\\u0629 \\u0634\\u0631\\u0627\\u0621 . \\u0627\\u0644\\u0645\\u062d\\u0627\\u0641\\u0638 \\u0627\\u0644\\u0627\\u0633\\u062a\\u062b\\u0645\\u0627\\u0631\\u064a\\u0629 \\u0628\\u062f\\u0648\\u0631\\u0647\\u0627 \\u0627\\u062a\\u062c\\u0647\\u062a \\u0646\\u062d\\u0648 \\u0634\\u0631\\u0627\\u0621 \\u0627\\u0644\\u0623\\u0633\\u0647\\u0645 \\u0641\\u064a \\u062f\\u0628\\u064a \\u0628\\u0642\\u064a\\u0645\\u0629 1 .137 \\u0645\\u0644\\u064a\\u0648\\u0646 \\u062f\\u0631\\u0647\\u0645\\u060c \\u0648\\u0628\\u0644\\u063a\\u062a \\u0645\\u0628\\u064a\\u0639\\u0627\\u062a\\u0647\\u0627 9 .106 \\u0645\\u0644\\u064a\\u0648\\u0646 \\u062f\\u0631\\u0647\\u0645\\u060c \\u0648\\u0648\\u0635\\u0644 \\u0635\\u0627\\u0641\\u064a \\u0627\\u0633\\u062a\\u062b\\u0645\\u0627\\u0631\\u0627\\u062a\\u0647\\u0627 \\u0625\\u0644\\u0649 2 .30 \\u0645\\u0644\\u064a\\u0648\\u0646 \\u062f\\u0631\\u0647\\u0645 \\u0645\\u062d\\u0635\\u0644\\u0629 \\u0634\\u0631\\u0627\\u0621 . \\u0648\\u0641\\u064a \\u0627\\u0644\\u0645\\u0642\\u0627\\u0628\\u0644 \\u0627\\u062a\\u062c\\u0647 \\u0627\\u0644\\u0645\\u0633\\u062a\\u062b\\u0645\\u0631\\u0648\\u0646 \\u0627\\u0644\\u0623\\u0641\\u0631\\u0627\\u062f \\u0646\\u062d\\u0648 \\u0628\\u064a\\u0639 \\u0627\\u0644\\u0623\\u0633\\u0647\\u0645 \\u0628\\u0642\\u064a\\u0645\\u0629 2 .448 \\u0645\\u0644\\u064a\\u0648\\u0646 \\u062f\\u0631\\u0647\\u0645\\u060c \\u0648\\u0628\\u0644\\u063a\\u062a \\u0645\\u0634\\u062a\\u0631\\u064a\\u0627\\u062a\\u0647\\u0627 0 .418 \\u0645\\u0644\\u064a\\u0648\\u0646 \\u062f\\u0631\\u0647\\u0645\\u060c \\u0648\\u0648\\u0635\\u0644 \\u0635\\u0627\\u0641\\u064a \\u0627\\u0633\\u062a\\u062b\\u0645\\u0627\\u0631\\u0627\\u062a\\u0647\\u0627 \\u0625\\u0644\\u0649 2 .30 \\u0645\\u0644\\u064a\\u0648\\u0646 \\u062f\\u0631\\u0647\\u0645 \\u0645\\u062d\\u0635\\u0644\\u0629 \\u0628\\u064a\\u0639 .\",\n          \"\\u0641\\u064a \\u0625\\u0637\\u0627\\u0631 \\u062e\\u0637\\u0629 \\u0645\\u062a\\u0643\\u0627\\u0645\\u0644\\u0629 \\u0644\\u0631\\u0641\\u0639 \\u0645\\u0633\\u062a\\u0648\\u0649 \\u0623\\u062f\\u0627\\u0621 \\u0633\\u0648\\u0642 \\u0623\\u0628\\u0648\\u0638\\u0628\\u064a \\u0644\\u0644\\u0623\\u0648\\u0631\\u0627\\u0642 \\u0627\\u0644\\u0645\\u0627\\u0644\\u064a\\u0629 \\u0648\\u0641\\u0642 \\u0623\\u0633\\u062a\\u0631\\u0627\\u062a\\u064a\\u062c\\u064a\\u062a\\u0647\\u0627 \\u0627\\u0644\\u062a\\u064a \\u062a\\u062a\\u0645\\u0627\\u0634\\u0649 \\u0645\\u0639 \\u0631\\u0624\\u064a\\u0629 \\u062d\\u0643\\u0648\\u0645\\u0629 \\u0623\\u0628\\u0648\\u0638\\u0628\\u064a 2030 \\u0628\\u062f\\u0623 \\u0633\\u0648\\u0642 \\u0623\\u0628\\u0648\\u0638\\u0628\\u064a \\u0644\\u0644\\u0623\\u0648\\u0631\\u0627\\u0642 \\u0627\\u0644\\u0645\\u0627\\u0644\\u064a\\u0629 \\u062a\\u0637\\u0628\\u064a\\u0642 \\u0627\\u0644\\u0639\\u0645\\u0644 \\u0628\\u0646\\u0638\\u0627\\u0645 \\u0627\\u0644\\u062a\\u0633\\u0644\\u064a\\u0645 \\u0645\\u0642\\u0627\\u0628\\u0644 \\u0627\\u0644\\u062f\\u0641\\u0639 (DvP) .\\u0648\\u0642\\u0627\\u0644 \\u0631\\u0627\\u0634\\u062f \\u0627\\u0644\\u0628\\u0644\\u0648\\u0634\\u064a\\u060c \\u0646\\u0627\\u0626\\u0628 \\u0627\\u0644\\u0631\\u0626\\u064a\\u0633 \\u0627\\u0644\\u062a\\u0646\\u0641\\u064a\\u0630\\u064a \\u0645\\u062f\\u064a\\u0631 \\u0639\\u0645\\u0644\\u064a\\u0627\\u062a \\u0633\\u0648\\u0642 \\u0623\\u0628\\u0648\\u0638\\u0628\\u064a \\u0644\\u0644\\u0623\\u0648\\u0631\\u0627\\u0642 \\u0627\\u0644\\u0645\\u0627\\u0644\\u064a\\u0629\\u060c \\u0625\\u0646 \\u0647\\u0630\\u0627 \\u0627\\u0644\\u0625\\u062c\\u0631\\u0627\\u0621 \\u0627\\u0644\\u0630\\u064a \\u0637\\u0628\\u0642 \\u0648\\u0641\\u0642\\u0627\\u064b \\u0644\\u0623\\u0639\\u0644\\u0649 \\u0627\\u0644\\u0645\\u0639\\u0627\\u064a\\u064a\\u0631 \\u0627\\u0644\\u0639\\u0627\\u0644\\u0645\\u064a\\u0629 \\u0627\\u0644\\u0645\\u062a\\u0639\\u0644\\u0642\\u0629 \\u0628\\u0623\\u0641\\u0636\\u0644 \\u0627\\u0644\\u0645\\u0645\\u0627\\u0631\\u0633\\u0627\\u062a \\u0627\\u0644\\u0645\\u0639\\u0645\\u0648\\u0644 \\u0628\\u0647\\u0627 \\u0641\\u064a \\u0627\\u0644\\u0623\\u0633\\u0648\\u0627\\u0642 \\u0627\\u0644\\u0639\\u0627\\u0644\\u0645\\u064a\\u0629 \\u0627\\u0644\\u0645\\u062a\\u0642\\u062f\\u0645\\u0629 \\u0633\\u0648\\u0641 \\u064a\\u062f\\u0639\\u0645 \\u0645\\u0646 \\u062a\\u062d\\u0633\\u064a\\u0646 \\u0627\\u0644\\u062e\\u062f\\u0645\\u0627\\u062a \\u0627\\u0644\\u062a\\u064a \\u062a\\u0642\\u062f\\u0645 \\u0625\\u0644\\u0649 \\u062c\\u0645\\u0647\\u0648\\u0631 \\u0627\\u0644\\u0645\\u0633\\u062a\\u062b\\u0645\\u0631\\u064a\\u0646 \\u0648\\u0627\\u0644\\u0634\\u0631\\u0643\\u0627\\u0621 \\u0648\\u0627\\u0644\\u0648\\u0633\\u0637\\u0627\\u0621 \\u0639\\u0644\\u0649 \\u062d\\u062f \\u0633\\u0648\\u0627\\u0621 \\u0648\\u062a\\u0637\\u0648\\u064a\\u0631 \\u0627\\u0644\\u0623\\u062f\\u0627\\u0621 \\u0628\\u0645\\u0627 \\u064a\\u0639\\u0632\\u0632 \\u0645\\u0646 \\u0627\\u0644\\u0645\\u0633\\u064a\\u0631\\u0629 \\u0627\\u0644\\u062a\\u0646\\u0645\\u0648\\u064a\\u0629 \\u0627\\u0644\\u062a\\u064a \\u064a\\u0648\\u0627\\u0643\\u0628\\u0647\\u0627 \\u0633\\u0648\\u0642 \\u0623\\u0628\\u0648\\u0638\\u0628\\u064a \\u0644\\u0644\\u0623\\u0648\\u0631\\u0627\\u0642 \\u0627\\u0644\\u0645\\u0627\\u0644\\u064a\\u0629 \\u0645\\u0646\\u0630 \\u062a\\u0623\\u0633\\u064a\\u0633\\u0629 \\u0641\\u064a 15 \\u0646\\u0648\\u0641\\u0645\\u0628\\u0631/ \\u062a\\u0634\\u0631\\u064a\\u0646 \\u0627\\u0644\\u062b\\u0627\\u0646\\u064a 2000 \\u0648\\u062a\\u062a\\u0648\\u0627\\u0641\\u0642 \\u0645\\u0639 \\u0627\\u0644\\u062a\\u0637\\u0648\\u0631\\u0627\\u062a \\u0627\\u0644\\u0639\\u0627\\u0644\\u0645\\u064a\\u0629 \\u0641\\u064a \\u0645\\u0633\\u062a\\u0648\\u0649 \\u0627\\u0644\\u062e\\u062f\\u0645\\u0627\\u062a \\u0628\\u0645\\u0627 \\u064a\\u0639\\u0632\\u0632 \\u0645\\u0646 \\u0627\\u0633\\u062a\\u0642\\u0637\\u0627\\u0628 \\u0627\\u0644\\u0627\\u0633\\u062a\\u062b\\u0645\\u0627\\u0631 \\u0627\\u0644\\u0645\\u0624\\u0633\\u0633\\u064a \\u0637\\u0648\\u064a\\u0644 \\u0627\\u0644\\u0623\\u0645\\u062f \\u0641\\u064a \\u0627\\u0644\\u0633\\u0648\\u0642 \\u0648\\u0632\\u064a\\u0627\\u062f\\u0629 \\u0641\\u0639\\u0627\\u0644\\u064a\\u062a\\u0647 \\u0628\\u0646\\u0634\\u0627\\u0637 \\u0627\\u0644\\u062a\\u062f\\u0627\\u0648\\u0644 .\\u0648\\u0623\\u0634\\u0627\\u0631 \\u0625\\u0644\\u0649 \\u0623\\u0646 \\u0627\\u0644\\u062a\\u0646\\u0633\\u064a\\u0642 \\u0628\\u064a\\u0646 \\u0633\\u0648\\u0642 \\u0623\\u0628\\u0648\\u0638\\u0628\\u064a \\u0648\\u0647\\u064a\\u0626\\u0629 \\u0627\\u0644\\u0623\\u0648\\u0631\\u0627\\u0642 \\u0627\\u0644\\u0645\\u0627\\u0644\\u064a\\u0629 \\u0648\\u0627\\u0644\\u0633\\u0644\\u0639 \\u0648\\u0633\\u0648\\u0642 \\u062f\\u0628\\u064a \\u0627\\u0644\\u0645\\u0627\\u0644\\u064a \\u0648\\u0627\\u0644\\u0648\\u0633\\u0637\\u0627\\u0621 \\u0648\\u0627\\u0644\\u062d\\u0627\\u0641\\u0638 \\u0627\\u0644\\u0623\\u0645\\u064a\\u0646 \\u0628\\u062f\\u0623 \\u0645\\u0646\\u0630 \\u0641\\u062a\\u0631\\u0629 \\u0644\\u0648\\u0636\\u0639 \\u0646\\u0638\\u0627\\u0645 \\u0645\\u0648\\u062d\\u062f \\u064a\\u0647\\u062f\\u0641 \\u0645\\u0646 \\u062e\\u0644\\u0627\\u0644\\u0629 \\u0644\\u062a\\u062d\\u0642\\u064a\\u0642 \\u063a\\u0627\\u064a\\u0627\\u062a \\u0627\\u0644\\u0645\\u0635\\u0644\\u062d\\u0629 \\u0627\\u0644\\u0639\\u0627\\u0645\\u0629 \\u0648\\u0627\\u0644\\u062d\\u0641\\u0627\\u0638 \\u0639\\u0644\\u0649 \\u0627\\u0644\\u0633\\u0645\\u0639\\u0629 \\u0627\\u0644\\u0645\\u062a\\u0645\\u064a\\u0632\\u0629 \\u0627\\u0644\\u062a\\u064a \\u062a\\u062d\\u0638\\u0649 \\u0628\\u0647\\u0627 \\u062f\\u0648\\u0644\\u0629 \\u0627\\u0644\\u0625\\u0645\\u0627\\u0631\\u0627\\u062a \\u0641\\u064a \\u0642\\u0637\\u0627\\u0639 \\u0627\\u0644\\u0627\\u0642\\u062a\\u0635\\u0627\\u062f \\u0648\\u0627\\u0644\\u0623\\u0639\\u0645\\u0627\\u0644 .\\u0643\\u0645\\u0627 \\u0623\\u0641\\u0627\\u062f \\u0623\\u0646 \\u0633\\u0648\\u0642 \\u0623\\u0628\\u0648\\u0638\\u0628\\u064a \\u062e\\u0644\\u0627\\u0644 \\u0645\\u0631\\u062d\\u0644\\u0629 \\u0627\\u0644\\u0625\\u0639\\u062f\\u0627\\u062f \\u0644\\u0646\\u0638\\u0627\\u0645 \\u0627\\u0644 (DvP) \\u0642\\u0627\\u0645 \\u0628\\u062a\\u0646\\u0638\\u064a\\u0645 \\u0648\\u0631\\u0634 \\u0639\\u0645\\u0644 \\u062d\\u0648\\u0644 \\u062a\\u0637\\u0628\\u064a\\u0642 \\u0622\\u0644\\u064a\\u0629 \\u062a\\u0633\\u0648\\u064a\\u0629 \\u0646\\u0638\\u0627\\u0645 \\u0627\\u0644\\u062a\\u0633\\u0644\\u064a\\u0645 \\u0645\\u0642\\u0627\\u0628\\u0644 \\u0627\\u0644\\u062f\\u0641\\u0639 \\u0634\\u0627\\u0631\\u0643 \\u0641\\u064a\\u0647\\u0627 \\u0645\\u0645\\u062b\\u0644\\u0648\\u0646 \\u0639\\u0646 \\u0645\\u0643\\u0627\\u062a\\u0628 \\u0634\\u0631\\u0643\\u0627\\u062a \\u0627\\u0644\\u0648\\u0633\\u0627\\u0637\\u0629 \\u0627\\u0644\\u0645\\u0633\\u062c\\u0644\\u0629 \\u0641\\u064a \\u0627\\u0644\\u0633\\u0648\\u0642 \\u0648\\u0634\\u0631\\u0643\\u0627\\u062a \\u0627\\u0644\\u062d\\u0627\\u0641\\u0638 \\u0627\\u0644\\u0623\\u0645\\u064a\\u0646 \\u0625\\u0644\\u0649 \\u062c\\u0627\\u0646\\u0628 \\u0645\\u0634\\u0627\\u0631\\u0643\\u0629 \\u0648\\u062d\\u0636\\u0648\\u0631 \\u0645\\u062c\\u0645\\u0648\\u0639\\u0629 \\u0645\\u0646 \\u0645\\u0633\\u0624\\u0648\\u0644\\u064a \\u0648\\u0645\\u0648\\u0638\\u0641\\u064a \\u0625\\u062f\\u0627\\u0631\\u0627\\u062a \\u0627\\u0644\\u0633\\u0648\\u0642 \\u0648\\u0627\\u0644\\u0645\\u0639\\u0646\\u064a\\u064a\\u0646 \\u0628\\u0627\\u0644\\u0623\\u0645\\u0631 \\u0628\\u0647\\u062f\\u0641 \\u0627\\u0644\\u062a\\u0623\\u0643\\u062f \\u0645\\u0646 \\u0633\\u0644\\u0627\\u0645\\u0629 \\u0627\\u0644\\u062a\\u0637\\u0628\\u064a\\u0642 \\u0642\\u0628\\u0644 \\u0627\\u0644\\u0634\\u0631\\u0648\\u0639 \\u0628\\u0647\\u060c \\u0628\\u0627\\u0644\\u0623\\u0636\\u0627\\u0641\\u0629 \\u0625\\u0644\\u0649 \\u062a\\u0628\\u0633\\u064a\\u0637 \\u0627\\u0644\\u0625\\u062c\\u0631\\u0627\\u0621\\u0627\\u062a \\u0648\\u062a\\u0639\\u0631\\u064a\\u0641 \\u0627\\u0644\\u0623\\u0637\\u0631\\u0627\\u0641 \\u0627\\u0644\\u0645\\u0639\\u0646\\u064a\\u0629 \\u0628\\u0627\\u0644\\u0623\\u0645\\u0631 \\u0648\\u0627\\u0644\\u0634\\u0631\\u0643\\u0627\\u0621 \\u0628\\u0627\\u0644\\u062e\\u0637\\u0648\\u0627\\u062a \\u0648\\u0627\\u0644\\u0622\\u0644\\u064a\\u0627\\u062a \\u0627\\u0644\\u0645\\u0637\\u0644\\u0648\\u0628\\u0629 \\u0644\\u0644\\u062a\\u0639\\u0627\\u0645\\u0644 \\u0628\\u0646\\u0638\\u0627\\u0645 \\u0627\\u0644 (DVP)\\u060c \\u0648\\u0630\\u0644\\u0643 \\u0644\\u0644\\u062a\\u0643\\u064a\\u0641 \\u0648\\u0627\\u0644\\u062a\\u0641\\u0627\\u0639\\u0644 \\u0648\\u062a\\u0637\\u0648\\u064a\\u0631 \\u0642\\u062f\\u0631\\u0627\\u062a \\u0648\\u0645\\u0647\\u0627\\u0631\\u0627\\u062a \\u0627\\u0644\\u0623\\u062f\\u0627\\u0621 \\u0644\\u062f\\u0649 \\u0627\\u0644\\u0645\\u0639\\u0646\\u064a\\u064a\\u0646 \\u0628\\u0627\\u0644\\u0623\\u0645\\u0631\\u060c \\u0628\\u0645\\u0627 \\u064a\\u062d\\u0642\\u0642 \\u0627\\u0644\\u0641\\u0627\\u0626\\u062f\\u0629 \\u0627\\u0644\\u0643\\u0627\\u0645\\u0644\\u0629 \\u0645\\u0646 \\u062a\\u0637\\u0628\\u064a\\u0642\\u0629 \\u0648\\u0641\\u0642 \\u0625\\u0637\\u0627\\u0631 \\u0631\\u0633\\u0627\\u0644\\u0629 \\u0627\\u0644\\u0633\\u0648\\u0642 \\u0627\\u0644\\u062a\\u064a \\u062a\\u0647\\u062f\\u0641 \\u0625\\u0644\\u0649 \\u062a\\u0642\\u062f\\u064a\\u0645 \\u0623\\u062c\\u0648\\u062f \\u0645\\u0639\\u0627\\u064a\\u064a\\u0631 \\u0627\\u0644\\u062e\\u062f\\u0645\\u0627\\u062a \\u0627\\u0644\\u0641\\u0639\\u0627\\u0644\\u0629 \\u0644\\u0644\\u0645\\u0633\\u062a\\u062b\\u0645\\u0631\\u064a\\u0646 .\\u0645\\u0646 \\u062c\\u0627\\u0646\\u0628\\u0629 \\u0642\\u0627\\u0644 \\u063a\\u0646\\u0627\\u0645 \\u0628\\u0637\\u064a \\u0627\\u0644\\u0645\\u0632\\u0631\\u0648\\u0639\\u064a \\u0631\\u0626\\u064a\\u0633 \\u0625\\u062f\\u0627\\u0631\\u0629 \\u0627\\u0644\\u062a\\u0633\\u0648\\u064a\\u0629 \\u0648\\u0627\\u0644\\u0645\\u0642\\u0627\\u0635\\u0629 \\u0648\\u0627\\u0644\\u0625\\u064a\\u062f\\u0627\\u0639 \\u0625\\u0646\\u0647 \\u062a\\u0645 \\u0627\\u0644\\u062a\\u0639\\u0627\\u0645\\u0644 \\u0645\\u0639 \\u0639\\u062f\\u062f \\u0645\\u0646 \\u0635\\u0641\\u0642\\u0627\\u062a \\u0627\\u0644\\u0628\\u064a\\u0639 \\u0648\\u0627\\u0644\\u0634\\u0631\\u0627\\u0621 \\u0628\\u0646\\u062c\\u0627\\u062d \\u0641\\u064a \\u0623\\u0648\\u0644 \\u064a\\u0648\\u0645 \\u062a\\u0645 \\u062a\\u0637\\u0628\\u064a\\u0642 \\u0622\\u0644\\u064a\\u0627\\u062a \\u0627\\u0644\\u062a\\u062f\\u0627\\u0648\\u0644 \\u0628\\u0646\\u0638\\u0627\\u0645 \\u0627\\u0644 (DvP) .\\u0648\\u062a\\u0645 \\u0631\\u0641\\u0636 \\u062b\\u0644\\u0627\\u062b \\u0635\\u0641\\u0642\\u0627\\u062a \\u0641\\u064a \\u0628\\u062f\\u0621 \\u0627\\u0644\\u0623\\u0645\\u0631 \\u0644\\u0645 \\u062a\\u0633\\u062a\\u0648\\u0641 \\u0627\\u0644\\u0634\\u0631\\u0648\\u0637 \\u0627\\u0644\\u0645\\u0637\\u0644\\u0648\\u0628\\u0629 \\u0648\\u0641\\u0642 \\u0646\\u0638\\u0627\\u0645 \\u0627\\u0644\\u062a\\u0633\\u0644\\u064a\\u0645 \\u0645\\u0642\\u0627\\u0628\\u0644 \\u0627\\u0644\\u062f\\u0641\\u0639 \\u0648\\u0645\\u0646 \\u062b\\u0645 \\u062a\\u0645 \\u0627\\u0644\\u062a\\u0623\\u0643\\u064a\\u062f \\u0627\\u0644\\u0645\\u062a\\u0623\\u062e\\u0631 \\u0644\\u0647\\u0627 \\u0628\\u0639\\u062f\\u0645\\u0627 \\u062a\\u0645 \\u0627\\u0633\\u062a\\u064a\\u0641\\u0627\\u0621 \\u0627\\u0644\\u0634\\u0631\\u0648\\u0637 \\u0627\\u0644\\u0637\\u0644\\u0648\\u0628\\u0629 \\u0644\\u0625\\u062a\\u0645\\u0627\\u0645 \\u0627\\u0644\\u0635\\u0641\\u0642\\u0629 \\u0628\\u0646\\u062c\\u0627\\u062d\\u060c \\u0648\\u0647\\u0630\\u0627 \\u0645\\u0627 \\u064a\\u0624\\u0643\\u062f \\u0648\\u064a\\u062f\\u0644 \\u0639\\u0644\\u0649 \\u0646\\u062c\\u0627\\u062d \\u0627\\u0644\\u062a\\u0637\\u0628\\u064a\\u0642 \\u0641\\u064a \\u0628\\u062f\\u0627\\u064a\\u0629 \\u062a\\u0641\\u0639\\u064a\\u0644\\u0647 \\u0628\\u0645\\u0633\\u062a\\u0648\\u0649 \\u0639\\u0644\\u0649 \\u0645\\u0646 \\u0627\\u0644\\u0623\\u062f\\u0627\\u0621 \\u0648\\u0627\\u0644\\u0645\\u0648\\u0636\\u0648\\u0639\\u064a\\u0629 \\u0641\\u064a \\u0627\\u0644\\u062a\\u0639\\u0627\\u0645\\u0644 .\\u0648\\u0623\\u0636\\u0627\\u0641: \\u0646\\u062d\\u0646 \\u0643\\u0645\\u0633\\u0624\\u0648\\u0644\\u064a\\u0646 \\u0641\\u064a \\u0633\\u0648\\u0642 \\u0623\\u0628\\u0648\\u0638\\u0628\\u064a \\u0644\\u0644\\u0623\\u0648\\u0631\\u0627\\u0642 \\u0627\\u0644\\u0645\\u0627\\u0644\\u064a\\u0629 \\u0646\\u0633\\u0639\\u0649 \\u062f\\u0627\\u0626\\u0645\\u0627\\u064b \\u0648\\u0628\\u0634\\u0643\\u0644 \\u062d\\u062b\\u064a\\u062b \\u0625\\u0644\\u0649 \\u0645\\u062d\\u0627\\u0648\\u0644\\u0629 \\u062a\\u0637\\u0628\\u064a\\u0642 \\u0628\\u0631\\u0627\\u0645\\u062c \\u0627\\u0644\\u062a\\u0637\\u0648\\u064a\\u0631 \\u0627\\u0644\\u062a\\u064a \\u062a\\u062d\\u0633\\u0646 \\u0645\\u0646 \\u0622\\u0644\\u064a\\u0627\\u062a \\u0627\\u0644\\u0623\\u062f\\u0627\\u0621 \\u0648\\u062a\\u0631\\u0642\\u0649 \\u0628\\u0645\\u0633\\u062a\\u0648\\u0649 \\u0627\\u0644\\u062e\\u062f\\u0645\\u0627\\u062a \\u0627\\u0644\\u062a\\u064a \\u062a\\u0642\\u062f\\u0645 \\u0625\\u0644\\u0649 \\u062c\\u0645\\u0647\\u0648\\u0631 \\u0627\\u0644\\u0645\\u0633\\u062a\\u062b\\u0645\\u0631\\u064a\\u0646 \\u0648\\u0641\\u0642\\u0627\\u064b \\u0644\\u062a\\u0648\\u062c\\u064a\\u0647\\u0627\\u062a \\u0627\\u0644\\u0625\\u062f\\u0627\\u0631\\u0629 \\u0627\\u0644\\u0639\\u0644\\u064a\\u0627 \\u0627\\u0644\\u062a\\u064a \\u062a\\u0647\\u062f\\u0641 \\u0625\\u0644\\u0649 \\u0631\\u0641\\u0639 \\u0645\\u0633\\u062a\\u0648\\u0649 \\u0627\\u0644\\u0639\\u0645\\u0644 \\u0648\\u0627\\u0644\\u0645\\u0642\\u062f\\u0631\\u0629 \\u0627\\u0644\\u062a\\u0646\\u0638\\u064a\\u0645\\u064a\\u0629 \\u0641\\u064a \\u0645\\u062c\\u0627\\u0644 \\u0627\\u0644\\u062a\\u062f\\u0627\\u0648\\u0644 \\u0628\\u0627\\u0644\\u0623\\u0648\\u0631\\u0627\\u0642 \\u0627\\u0644\\u0645\\u0627\\u0644\\u064a\\u0629 \\u0648\\u064a\\u062a\\u0648\\u0627\\u0621\\u0645 \\u0648\\u0627\\u0633\\u062a\\u0631\\u0627\\u062a\\u064a\\u062c\\u064a\\u0627\\u062a \\u0627\\u0644\\u062d\\u0643\\u0648\\u0645\\u0629 .\",\n          \"\\u0627\\u0646\\u062a\\u0642\\u0644 \\u0627\\u0644\\u062a\\u062d\\u0633\\u0646 \\u0627\\u0644\\u0633\\u0639\\u0631\\u064a \\u0627\\u0644\\u0649 \\u0633\\u0648\\u0642 \\u0627\\u0628\\u0648\\u0638\\u0628\\u064a \\u0627\\u0645\\u0633 \\u0645\\u0639 \\u0627\\u0631\\u062a\\u0641\\u0627\\u0639 \\u0645\\u0624\\u0634\\u0631\\u0647 29 .1% \\u0627\\u0644\\u0649 08 .4416 \\u0646\\u0642\\u0637\\u0629 \\u0641\\u064a\\u0645\\u0627 \\u0627\\u0646\\u062e\\u0641\\u0636 \\u0645\\u0624\\u0634\\u0631 \\u0633\\u0648\\u0642 \\u062f\\u0628\\u064a 26% \\u0627\\u0644\\u0649 81 .4789 \\u0646\\u0642\\u0637\\u0629 \\u0628\\u0639\\u062f\\u0645\\u0627 \\u0627\\u0633\\u062a\\u0648\\u0639\\u0628 \\u0639\\u0645\\u0644\\u064a\\u0627\\u062a \\u062c\\u0646\\u064a \\u0627\\u0644\\u0627\\u0631\\u0628\\u0627\\u062d \\u0627\\u0644\\u062c\\u0632\\u0626\\u064a\\u0629 \\u0648\\u062a\\u0645\\u0627\\u0633\\u0643 \\u0639\\u0646\\u062f \\u0645\\u0633\\u062a\\u0648\\u064a\\u0627\\u062a \\u0633\\u0639\\u0631\\u064a\\u0629 \\u0642\\u0631\\u064a\\u0628\\u0629 \\u0645\\u0646 \\u0627\\u0644\\u0645\\u0633\\u062a\\u0648\\u064a\\u0627\\u062a \\u0627\\u0644\\u062a\\u064a \\u0628\\u0644\\u063a\\u0647\\u0627 \\u0627\\u0645\\u0633 \\u0627\\u0644\\u0627\\u0648\\u0644\\u060c \\u0644\\u064a\\u0633\\u062c\\u0644 \\u0645\\u0624\\u0634\\u0631 \\u0633\\u0648\\u0642 \\u0627\\u0644\\u0627\\u0645\\u0627\\u0631\\u0627\\u062a \\u0641\\u064a \\u0627\\u0644\\u0645\\u062d\\u0635\\u0644\\u0629 \\u0627\\u0631\\u062a\\u0641\\u0627\\u0639\\u0627\\u064b \\u0628\\u0646\\u0633\\u0628\\u0629 59% \\u0627\\u0644\\u0649 5337 \\u0646\\u0642\\u0637\\u0629 \\u0645\\u0639 \\u0648\\u0635\\u0648\\u0644 \\u0627\\u0644\\u0642\\u064a\\u0645\\u0629 \\u0627\\u0644\\u0633\\u0648\\u0642\\u064a\\u0629 \\u0627\\u0644\\u0649 449 .754 \\u0645\\u0644\\u064a\\u0627\\u0631 \\u062f\\u0631\\u0647\\u0645 \\u0628\\u0645\\u0643\\u0627\\u0633\\u0628 \\u0628\\u0644\\u063a\\u062a 43 .4 \\u0645\\u0644\\u064a\\u0627\\u0631 \\u062f\\u0631\\u0647\\u0645 .\\u0648\\u0639\\u0627\\u062f\\u062a \\u0627\\u0644\\u062a\\u062f\\u0627\\u0648\\u0644\\u0627\\u062a \\u0627\\u0644\\u0649 \\u0645\\u0633\\u062a\\u0648\\u064a\\u0627\\u062a\\u0647\\u0627 \\u0627\\u0644\\u0645\\u0639\\u062a\\u0627\\u062f\\u0629 \\u0645\\u0633\\u062c\\u0644\\u0629\\u064b 068 .1 \\u0645\\u0644\\u064a\\u0627\\u0631 \\u062f\\u0631\\u0647\\u0645 \\u062a\\u0648\\u0632\\u0639\\u062a \\u0628\\u0648\\u0627\\u0642\\u0639 575 .652 \\u0645\\u0644\\u064a\\u0648\\u0646 \\u062f\\u0631\\u0647\\u0645 \\u062a\\u062f\\u0627\\u0648\\u0644\\u0627\\u062a \\u0633\\u0648\\u0642 \\u062f\\u0628\\u064a \\u0648224 .416 \\u0645\\u0644\\u064a\\u0648\\u0646 \\u062f\\u0631\\u0647\\u0645 \\u062a\\u062f\\u0627\\u0648\\u0644\\u0627\\u062a \\u0633\\u0648\\u0642 \\u0627\\u0628\\u0648\\u0638\\u0628\\u064a\\u060c \\u0641\\u064a \\u0638\\u0644 \\u062a\\u062d\\u0631\\u0643\\u0627\\u062a \\u0633\\u0639\\u0631\\u064a\\u0629 \\u0645\\u062a\\u0628\\u0627\\u064a\\u0646\\u0629 \\u062d\\u064a\\u062b \\u0627\\u0631\\u062a\\u0641\\u0639 \\u0627\\u0644\\u062e\\u0644\\u064a\\u062c \\u0627\\u0644\\u0627\\u0648\\u0644 85 .3% \\u0627\\u0644\\u0649 95 .22 \\u062f\\u0631\\u0647\\u0645 \\u0648\\u0627\\u0628\\u0648\\u0638\\u0628\\u064a \\u0627\\u0644\\u0648\\u0637\\u0646\\u064a 56 .2% \\u0627\\u0644\\u0649 18 \\u062f\\u0631\\u0647\\u0645\\u0627\\u064b \\u0648\\u0631\\u0623\\u0633 \\u0627\\u0644\\u062e\\u064a\\u0645\\u0629 \\u0627\\u0644\\u0639\\u0642\\u0627\\u0631\\u064a\\u0629 14 .3% \\u0627\\u0644\\u0649 64 .1 \\u062f\\u0631\\u0647\\u0645 \\u0648\\u0627\\u062a\\u0635\\u0627\\u0644\\u0627\\u062a 7 .1% \\u0627\\u0644\\u0649 95 .17 \\u062f\\u0631\\u0647\\u0645 \\u0648\\u0627\\u0631\\u0627\\u0628\\u062a\\u0643 57 .2% \\u0627\\u0644\\u0649 95 .13 \\u062f\\u0631\\u0647\\u0645 \\u0648\\u062a\\u0645\\u0648\\u064a\\u0644 02 .1% \\u0627\\u0644\\u0649 95 .5 \\u062f\\u0631\\u0647\\u0645 \\u0628\\u064a\\u0646\\u0645\\u0627 \\u0627\\u0646\\u062e\\u0641\\u0636 \\u0627\\u0639\\u0645\\u0627\\u0631 84% \\u0627\\u0644\\u0649 43 .9 \\u062f\\u0631\\u0647\\u0645 \\u0648\\u062f\\u064a\\u0627\\u0631 6 .1% \\u0627\\u0644\\u0649 85 .1 \\u062f\\u0631\\u0647\\u0645 .\\u0648\\u0628\\u0631\\u063a\\u0645 \\u0627\\u0644\\u062a\\u062d\\u0633\\u0646 \\u0627\\u0644\\u0645\\u062d\\u062f\\u0648\\u062f \\u0627\\u0644\\u0630\\u064a \\u062d\\u0642\\u0642\\u062a\\u0647 \\u0627\\u0644\\u0627\\u0633\\u0647\\u0645 \\u0645\\u0639 \\u062a\\u0648\\u0642\\u0641 \\u0645\\u0648\\u062c\\u0629 \\u0627\\u0644\\u0647\\u0628\\u0648\\u0637 \\u0642\\u0628\\u0644 \\u0646\\u0647\\u0627\\u064a\\u0629 \\u0627\\u0644\\u0627\\u0633\\u0628\\u0648\\u0639 \\u0627\\u0644\\u0645\\u0646\\u0642\\u0636\\u064a \\u0641\\u0642\\u062f \\u0638\\u0644\\u062a \\u0627\\u0644\\u062e\\u0633\\u0627\\u0626\\u0631 \\u0627\\u0644\\u0643\\u0628\\u064a\\u0631\\u0629 \\u0627\\u0644\\u062a\\u064a \\u062a\\u0643\\u0628\\u062f\\u0647\\u0627 \\u0627\\u0644\\u0645\\u0633\\u062a\\u062b\\u0645\\u0631\\u0648\\u0646 \\u0628\\u0641\\u0639\\u0644 \\u0647\\u0630\\u0647 \\u0627\\u0644\\u0645\\u0648\\u062c\\u0629 \\u0645\\u0635\\u062f\\u0631 \\u0642\\u0644\\u0642 \\u062f\\u0641\\u0639\\u0647\\u0645 \\u0644\\u0644\\u0627\\u0633\\u062a\\u0645\\u0631\\u0627\\u0631 \\u0628\\u0645\\u0631\\u0627\\u0642\\u0628\\u0629 \\u0627\\u0644\\u0633\\u0648\\u0642 \\u0628\\u062d\\u0630\\u0631 \\u0634\\u062f\\u064a\\u062f \\u062e\\u0635\\u0648\\u0635\\u0627\\u064b \\u0648\\u0623\\u0646 \\u0639\\u0645\\u0644\\u064a\\u0627\\u062a \\u062c\\u0646\\u064a \\u0627\\u0644\\u0627\\u0631\\u0628\\u0627\\u062d \\u0644\\u0627\\u062a\\u0632\\u0627\\u0644 \\u062a\\u062d\\u062f \\u0645\\u0646 \\u0627\\u0645\\u0643\\u0627\\u0646\\u064a\\u0629 \\u062f\\u062e\\u0648\\u0644 \\u0627\\u0644\\u0627\\u0633\\u0648\\u0627\\u0642 \\u0628\\u0633\\u0631\\u0639\\u0629 \\u0627\\u0644\\u0649 \\u0645\\u0631\\u062d\\u0644\\u0629 \\u0627\\u0644\\u0627\\u0646\\u062a\\u0639\\u0627\\u0634 \\u0627\\u0644\\u0645\\u062a\\u062a\\u0627\\u0628\\u0639\\u060c \\u0645\\u0639 \\u0638\\u0647\\u0648\\u0631 \\u062f\\u0644\\u0627\\u0626\\u0644 \\u0623\\u0648\\u0644\\u064a\\u0629 \\u0639\\u0644\\u0649 \\u0627\\u0646 \\u062d\\u0631\\u0643\\u0629 \\u0627\\u0644\\u062a\\u062f\\u0627\\u0648\\u0644 \\u0628\\u0627\\u062a\\u062a \\u0642\\u0627\\u062f\\u0631\\u0629 \\u0639\\u0644\\u0649 \\u0627\\u0633\\u062a\\u064a\\u0639\\u0627\\u0628 \\u062c\\u0646\\u064a \\u0627\\u0644\\u0627\\u0631\\u0628\\u0627\\u062d \\u0627\\u0630\\u0627 \\u0627\\u0633\\u062a\\u0645\\u0631 \\u0639\\u0646\\u062f \\u0648\\u062a\\u064a\\u0631\\u062a\\u0647 \\u0627\\u0644\\u062d\\u0627\\u0644\\u064a\\u0629 \\u0648\\u062a\\u0631\\u0627\\u0641\\u0642 \\u0645\\u0639 \\u062a\\u062d\\u0633\\u0646 \\u0645\\u062a\\u0648\\u0627\\u0635\\u0644 \\u0641\\u064a \\u062d\\u062c\\u0645 \\u0627\\u0644\\u0637\\u0644\\u0628\\u0627\\u062a \\u064a\\u062a\\u0628\\u0639\\u0647 \\u062a\\u0631\\u0627\\u062c\\u0639 \\u0646\\u0633\\u0628\\u064a \\u0641\\u064a \\u0627\\u0644\\u0639\\u0631\\u0648\\u0636 .\\u0648\\u064a\\u0628\\u062f\\u0648 \\u0627\\u0646 \\u0627\\u0644\\u0639\\u0627\\u0645\\u0644 \\u0627\\u0644\\u0627\\u0633\\u0627\\u0633\\u064a \\u0627\\u0644\\u0645\\u0642\\u0631\\u0631 \\u0644\\u0627\\u062a\\u062c\\u0627\\u0647 \\u062d\\u0631\\u0643\\u0629 \\u0627\\u0644\\u0627\\u0633\\u0648\\u0627\\u0642 \\u062e\\u0644\\u0627\\u0644 \\u0627\\u0644\\u0641\\u062a\\u0631\\u0629 \\u0627\\u0644\\u0645\\u0642\\u0628\\u0644\\u0629 \\u0645\\u0633\\u062a\\u0648\\u064a\\u0627\\u062a \\u0627\\u0644\\u0633\\u064a\\u0648\\u0644\\u0629 \\u0627\\u0644\\u062a\\u064a \\u062a\\u062f\\u062e\\u0644 \\u0627\\u0644\\u0649 \\u0627\\u0644\\u062a\\u062f\\u0627\\u0648\\u0644 \\u0641\\u0639\\u0644\\u0627 \\u0645\\u0642\\u0627\\u0628\\u0644 \\u0627\\u0644\\u0633\\u064a\\u0648\\u0644\\u0629 \\u0627\\u0644\\u0645\\u0633\\u062a\\u0645\\u0631\\u0629 \\u0628\\u0627\\u0644\\u0627\\u0646\\u062a\\u0638\\u0627\\u0631 \\u0644\\u0644\\u062a\\u0623\\u0643\\u062f \\u0645\\u0646 \\u062a\\u0648\\u0642\\u0641 \\u0645\\u0648\\u062c\\u0627\\u062a \\u0627\\u0644\\u0647\\u0628\\u0648\\u0637\\u060c \\u0648\\u0633\\u0637 \\u0627\\u062d\\u0633\\u0627\\u0633 \\u0639\\u0627\\u0645 \\u0628\\u0623\\u0646 \\u0645\\u0648\\u0633\\u0645 \\u0627\\u0644\\u0647\\u062f\\u0648\\u0621 \\u0627\\u0644\\u0635\\u064a\\u0641\\u064a \\u064a\\u0642\\u062a\\u0631\\u0628 \\u0645\\u0646 \\u0646\\u0647\\u0627\\u064a\\u062a\\u0647 \\u0648\\u0627\\u0646 \\u0627\\u0645\\u062a\\u062f \\u0642\\u0644\\u064a\\u0644\\u0627 \\u062e\\u0644\\u0627\\u0644 \\u0627\\u0644\\u0641\\u062a\\u0631\\u0629 \\u0627\\u0644\\u0627\\u0648\\u0644\\u0649 \\u0645\\u0646 \\u0634\\u0647\\u0631 \\u0631\\u0645\\u0636\\u0627\\u0646 \\u0627\\u0644\\u0645\\u0628\\u0627\\u0631\\u0643 \\u0645\\u0639 \\u0627\\u0645\\u0643\\u0627\\u0646\\u064a\\u0629 \\u062d\\u062f\\u0648\\u062b \\u062a\\u0633\\u0631\\u064a\\u0639 \\u0641\\u064a \\u0639\\u0648\\u062f\\u0629 \\u0627\\u0644\\u0627\\u0646\\u062a\\u0639\\u0627\\u0634 \\u0641\\u064a \\u062d\\u0627\\u0644 \\u062a\\u062d\\u0633\\u0646\\u062a \\u0627\\u0644\\u062a\\u062f\\u0627\\u0648\\u0644\\u0627\\u062a \\u0628\\u0648\\u0636\\u0648\\u062d \\u062e\\u0644\\u0627\\u0644 \\u0627\\u0644\\u0627\\u064a\\u0627\\u0645 \\u0627\\u0644\\u0645\\u0642\\u0628\\u0644\\u0629 .\\u0648\\u064a\\u062c\\u0645\\u0639 \\u0627\\u0644\\u062e\\u0628\\u0631\\u0627\\u0621 \\u0639\\u0644\\u0649 \\u0627\\u0646 \\u0645\\u0633\\u062a\\u0648\\u064a\\u0627\\u062a \\u0627\\u0644\\u0627\\u0633\\u0639\\u0627\\u0631 \\u0627\\u0644\\u062d\\u0627\\u0644\\u064a\\u0629 \\u0645\\u062c\\u0632\\u064a\\u0629 \\u0644\\u0644\\u0627\\u0633\\u062a\\u062b\\u0645\\u0627\\u0631 \\u0641\\u064a \\u062d\\u0627\\u0644 \\u0644\\u0645 \\u062a\\u0637\\u0631\\u0623 \\u0645\\u0633\\u062a\\u062c\\u062f\\u0627\\u062a \\u063a\\u064a\\u0631 \\u0645\\u062a\\u0648\\u0642\\u0639\\u0629 \\u062e\\u0635\\u0648\\u0635\\u0627\\u064b \\u0648\\u0627\\u0646 \\u0646\\u062a\\u0627\\u0626\\u062c \\u0627\\u0644\\u0634\\u0631\\u0643\\u0627\\u062a \\u0645\\u0628\\u0634\\u0631\\u0629\\u060c \\u0645\\u0627 \\u064a\\u062c\\u0639\\u0644 \\u0627\\u0644\\u0645\\u0636\\u0627\\u0639\\u0641\\u0627\\u062a \\u0627\\u0644\\u0633\\u0639\\u0631\\u064a\\u0629 \\u062a\\u0639\\u0643\\u0633 \\u0642\\u062f\\u0631\\u0629 \\u0627\\u0644\\u0627\\u0633\\u0647\\u0645 \\u0639\\u0644\\u0649 \\u062a\\u062d\\u0642\\u064a\\u0642 \\u0627\\u0644\\u0627\\u0631\\u0628\\u0627\\u062d \\u0645\\u0639 \\u062a\\u062f\\u0641\\u0642 \\u0627\\u0644\\u0633\\u064a\\u0648\\u0644\\u0629 \\u0627\\u0644\\u0649 \\u0627\\u0644\\u0627\\u0633\\u0648\\u0627\\u0642 \\u0628\\u0648\\u062a\\u064a\\u0631\\u0629 \\u0623\\u0639\\u0644\\u0649 .\"\n        ],\n        \"semantic_type\": \"\",\n        \"description\": \"\"\n      }\n    },\n    {\n      \"column\": \"label\",\n      \"properties\": {\n        \"dtype\": \"category\",\n        \"num_unique_values\": 3,\n        \"samples\": [\n          \"Finance\",\n          \"Culture\",\n          \"Medical\"\n        ],\n        \"semantic_type\": \"\",\n        \"description\": \"\"\n      }\n    }\n  ]\n}"
            }
          },
          "metadata": {},
          "execution_count": 15
        }
      ]
    },
    {
      "cell_type": "markdown",
      "id": "d87ddcd5",
      "metadata": {
        "id": "d87ddcd5"
      },
      "source": [
        "## Step 2: Clean Unnecessary Columns"
      ]
    },
    {
      "cell_type": "markdown",
      "id": "bb10d4d4",
      "metadata": {
        "id": "bb10d4d4"
      },
      "source": [
        "Remove any columns from the dataset that are not needed for training."
      ]
    },
    {
      "cell_type": "code",
      "execution_count": null,
      "id": "7dd06b97",
      "metadata": {
        "id": "7dd06b97"
      },
      "outputs": [],
      "source": [
        "train_data.drop(columns=['Unnamed: 0'], inplace=True)\n",
        "test_data.drop(columns=['Unnamed: 0'], inplace=True)"
      ]
    },
    {
      "cell_type": "code",
      "source": [
        "##train_data = train_data.to_dict()\n",
        "#test_data = test_data.to_dict()"
      ],
      "metadata": {
        "id": "Dqq1VX3pRHAY"
      },
      "id": "Dqq1VX3pRHAY",
      "execution_count": null,
      "outputs": []
    },
    {
      "cell_type": "markdown",
      "id": "790b4a9e",
      "metadata": {
        "id": "790b4a9e"
      },
      "source": [
        "## Step 3: Splitting the Dataset"
      ]
    },
    {
      "cell_type": "markdown",
      "id": "66c8c1f4",
      "metadata": {
        "id": "66c8c1f4"
      },
      "source": [
        "Split the dataset into training and testing sets, ensuring that 20% of the data is used for testing."
      ]
    },
    {
      "cell_type": "code",
      "execution_count": null,
      "id": "3f839fea",
      "metadata": {
        "id": "3f839fea"
      },
      "outputs": [],
      "source": []
    },
    {
      "cell_type": "markdown",
      "id": "091d3694",
      "metadata": {
        "id": "091d3694"
      },
      "source": [
        "## Step 4: Tokenizing the Data"
      ]
    },
    {
      "cell_type": "markdown",
      "id": "c6418768",
      "metadata": {
        "id": "c6418768"
      },
      "source": [
        "Initialize a tokenizer for the model."
      ]
    },
    {
      "cell_type": "code",
      "execution_count": null,
      "id": "89a28bfc",
      "metadata": {
        "id": "89a28bfc",
        "colab": {
          "base_uri": "https://localhost:8080/",
          "height": 265,
          "referenced_widgets": [
            "5fd8c79c69d44101a9063c6deed9e20c",
            "8638be030a24421b88768fdec1e0dd87",
            "0bcc2d198bec4d0dbebc9c51d0839766",
            "5da0a0aba0ad4e98bf7b4774cf0b381f",
            "ce9f03b6ed2e4cfeb71c5ad0c4176a22",
            "537b693c18784f97b1edd8869e5304da",
            "49b6477b99574f5c86927c577f44647d",
            "4b907540b7e846008c03e1490973192e",
            "5c2df3596652448cb00710d1917cf37c",
            "aa2e599b36e6428db6fa06474203bfd0",
            "40947afed5314981a4ae9acb604fe41b",
            "7231bbe2ac79470983ca5c21f258bc31",
            "f6ea3097fa554da3bb1a282f659bb3da",
            "5afe031a8ca84b188e2b01e65a5d38af",
            "2436ad6d264944d7b756bbcedbec3471",
            "f6d1943fc10b494a9a994542a2ca2626",
            "be6205dff2584940ade797ffa847d39a",
            "664d9ce0ab554d04b38d12aff45ee900",
            "77b122095d1544749d35af1b2bdb6be4",
            "1e1df7fca1864d489fde6de3e8a602a9",
            "2024507f113f48608ace5bf866f3d02b",
            "43ec60842b9647deacf9a3614048d441",
            "d2e68f25ebe140b696f417313ae9483a",
            "c28d9fc8d3fc4828b13b8081ffa0e779",
            "fd0d0ce628ae48c59b7ac619b6c931cb",
            "17dc36a7c9194ee8b0d457b4f4fad731",
            "402ae55530f14a21ac4a743b13e207fa",
            "38ba8f7952064e99967e6b55944eaf6f",
            "52d944d39eb243618e2219b088d9ac11",
            "d78dcf1db6c140369e913e3ec94ef490",
            "d3b69075ef374ce4b95b14e4899a9407",
            "5f4b26eb44554fd08f2da8a09ef4eb7f",
            "0cc8bcf6fdfb43d1a01369843922f422",
            "05e046e2a5294cdaa7e0e4b7aa0d7d87",
            "856501470c7242a3a93877dabbae0b62",
            "64d4c27bb8e3402d902cbffd72602c98",
            "bea65f1a8309424cbe464b46237a4fc0",
            "7875b7ffd0db4fe1a77e6dfcbc85fb11",
            "3e3ced325eaf4750b4be7ec80414b04a",
            "90c9273f26b5445bbdb81d7ec7590a01",
            "669b7d7ed01f4b168b6c1459ac042c75",
            "00e022fb57684f839ac3e28d01a304a0",
            "ae2bc3311c22497b95a7cdfed135aa86",
            "e0da74b8ebb64e6eb6186cc2b4fd7f60",
            "02948e40a8b346e3a0303af00189796e",
            "620b83058d134a54b906d7b97d68882c",
            "97f2bcc009e64696966873b1bc21a97a",
            "5bffca1e8deb4003a91b29d58727505a",
            "f6faf8c5bcf04eecb4e9180cc924024a",
            "67ba21111a294a60a5be4af07f8368d0",
            "e6c53c85fd2d4dda89a2db70366ab82f",
            "ccd2ef0703dc4f21b1f116f7fde15c5b",
            "7295bf42babf43cba6944c55c4e7596d",
            "0f95afcc02754112b39670f258618906",
            "48be8f035d1c4c11ba4a998b7b7aacc1",
            "388273d30ab5487096d58548959f1ca6",
            "4f39e7783cd4470bbc183036b0aaed24",
            "58072a54f09e40d4adac571e077607af",
            "607b03d38bb84cb69602b0fd1622cd3f",
            "11fe8528483845d6bd10f106d4012e0d",
            "2f9ef7d8648146e989ad9b44a8c55f7b",
            "f2624eaaf2c24be6b2120a4d57e78a27",
            "4a0218a27da04dc48a4dcafa9f9b1b30",
            "a92a9525c44547eda25a778beaf30101",
            "59f46df36edc43cc9448730c6b586554",
            "2702b49b967542fbb67b21c94f168bef"
          ]
        },
        "collapsed": true,
        "outputId": "84c90dd3-bc67-4d7a-b1fd-dd79a935886f"
      },
      "outputs": [
        {
          "output_type": "display_data",
          "data": {
            "text/plain": [
              "config.json:   0%|          | 0.00/384 [00:00<?, ?B/s]"
            ],
            "application/vnd.jupyter.widget-view+json": {
              "version_major": 2,
              "version_minor": 0,
              "model_id": "5fd8c79c69d44101a9063c6deed9e20c"
            }
          },
          "metadata": {}
        },
        {
          "output_type": "display_data",
          "data": {
            "text/plain": [
              "model.safetensors:   0%|          | 0.00/543M [00:00<?, ?B/s]"
            ],
            "application/vnd.jupyter.widget-view+json": {
              "version_major": 2,
              "version_minor": 0,
              "model_id": "7231bbe2ac79470983ca5c21f258bc31"
            }
          },
          "metadata": {}
        },
        {
          "output_type": "stream",
          "name": "stderr",
          "text": [
            "Some weights of BertForSequenceClassification were not initialized from the model checkpoint at aubmindlab/bert-base-arabertv02 and are newly initialized: ['classifier.bias', 'classifier.weight']\n",
            "You should probably TRAIN this model on a down-stream task to be able to use it for predictions and inference.\n"
          ]
        },
        {
          "output_type": "display_data",
          "data": {
            "text/plain": [
              "tokenizer_config.json:   0%|          | 0.00/381 [00:00<?, ?B/s]"
            ],
            "application/vnd.jupyter.widget-view+json": {
              "version_major": 2,
              "version_minor": 0,
              "model_id": "d2e68f25ebe140b696f417313ae9483a"
            }
          },
          "metadata": {}
        },
        {
          "output_type": "display_data",
          "data": {
            "text/plain": [
              "vocab.txt:   0%|          | 0.00/825k [00:00<?, ?B/s]"
            ],
            "application/vnd.jupyter.widget-view+json": {
              "version_major": 2,
              "version_minor": 0,
              "model_id": "05e046e2a5294cdaa7e0e4b7aa0d7d87"
            }
          },
          "metadata": {}
        },
        {
          "output_type": "display_data",
          "data": {
            "text/plain": [
              "tokenizer.json:   0%|          | 0.00/2.64M [00:00<?, ?B/s]"
            ],
            "application/vnd.jupyter.widget-view+json": {
              "version_major": 2,
              "version_minor": 0,
              "model_id": "02948e40a8b346e3a0303af00189796e"
            }
          },
          "metadata": {}
        },
        {
          "output_type": "display_data",
          "data": {
            "text/plain": [
              "special_tokens_map.json:   0%|          | 0.00/112 [00:00<?, ?B/s]"
            ],
            "application/vnd.jupyter.widget-view+json": {
              "version_major": 2,
              "version_minor": 0,
              "model_id": "388273d30ab5487096d58548959f1ca6"
            }
          },
          "metadata": {}
        }
      ],
      "source": [
        "from transformers import AutoTokenizer, AutoModelForSequenceClassification\n",
        "\n",
        "model = AutoModelForSequenceClassification.from_pretrained(\"aubmindlab/bert-base-arabertv02\")\n",
        "tokenizer = AutoTokenizer.from_pretrained(\"aubmindlab/bert-base-arabertv02\")"
      ]
    },
    {
      "cell_type": "code",
      "source": [],
      "metadata": {
        "id": "qh2n4_KaDmep"
      },
      "id": "qh2n4_KaDmep",
      "execution_count": null,
      "outputs": []
    },
    {
      "cell_type": "markdown",
      "id": "89500748",
      "metadata": {
        "id": "89500748"
      },
      "source": [
        "## Step 5: Preprocessing the Text"
      ]
    },
    {
      "cell_type": "markdown",
      "id": "30bd6fab",
      "metadata": {
        "id": "30bd6fab"
      },
      "source": [
        "Map the tokenization function to the dataset. Ensure the text data is processed using truncation to handle sequences that exceed the model's input size. Please do any further preprocessing.\n",
        "\n",
        "**Bonus**: If you performed more comprehensive preprocessing, such as removing links, converting text to lowercase, or applying additional preprocessing techniques."
      ]
    },
    {
      "cell_type": "code",
      "source": [
        "def tokenize(data):\n",
        "  return tokenizer(data['text'], padding=True, truncation=True)"
      ],
      "metadata": {
        "id": "TyAqXrwlMHbw"
      },
      "id": "TyAqXrwlMHbw",
      "execution_count": null,
      "outputs": []
    },
    {
      "cell_type": "code",
      "source": [
        "train_data_text = train_data['text'].astype(str).tolist()\n",
        "test_data_text = test_data['text'].astype(str).tolist()\n",
        "\n",
        "\n",
        "train_data_tokenized = tokenizer(train_data_text, truncation=True, padding=True, return_tensors='tf')\n",
        "test_data_tokenized = tokenizer(test_data_text, truncation=True, padding=True, return_tensors='tf')"
      ],
      "metadata": {
        "id": "78Rd3-zRWyv-"
      },
      "id": "78Rd3-zRWyv-",
      "execution_count": null,
      "outputs": []
    },
    {
      "cell_type": "code",
      "source": [
        "train_data_tokenized"
      ],
      "metadata": {
        "colab": {
          "base_uri": "https://localhost:8080/"
        },
        "id": "k5Ljt6KDVDNO",
        "outputId": "c2950677-9898-451e-aa75-5b168bab117d"
      },
      "id": "k5Ljt6KDVDNO",
      "execution_count": null,
      "outputs": [
        {
          "output_type": "execute_result",
          "data": {
            "text/plain": [
              "{'input_ids': <tf.Tensor: shape=(12000, 512), dtype=int32, numpy=\n",
              "array([[    2,  6122,  4340, ...,     0,     0,     0],\n",
              "       [    2,  2591,   485, ...,     0,     0,     0],\n",
              "       [    2, 17831,  5970, ...,     0,     0,     0],\n",
              "       ...,\n",
              "       [    2,  1217,   678, ...,  5097,   464,     3],\n",
              "       [    2,  2606,  1359, ...,     0,     0,     0],\n",
              "       [    2,  6122,  4340, ...,     0,     0,     0]], dtype=int32)>, 'token_type_ids': <tf.Tensor: shape=(12000, 512), dtype=int32, numpy=\n",
              "array([[0, 0, 0, ..., 0, 0, 0],\n",
              "       [0, 0, 0, ..., 0, 0, 0],\n",
              "       [0, 0, 0, ..., 0, 0, 0],\n",
              "       ...,\n",
              "       [0, 0, 0, ..., 0, 0, 0],\n",
              "       [0, 0, 0, ..., 0, 0, 0],\n",
              "       [0, 0, 0, ..., 0, 0, 0]], dtype=int32)>, 'attention_mask': <tf.Tensor: shape=(12000, 512), dtype=int32, numpy=\n",
              "array([[1, 1, 1, ..., 0, 0, 0],\n",
              "       [1, 1, 1, ..., 0, 0, 0],\n",
              "       [1, 1, 1, ..., 0, 0, 0],\n",
              "       ...,\n",
              "       [1, 1, 1, ..., 1, 1, 1],\n",
              "       [1, 1, 1, ..., 0, 0, 0],\n",
              "       [1, 1, 1, ..., 0, 0, 0]], dtype=int32)>}"
            ]
          },
          "metadata": {},
          "execution_count": 20
        }
      ]
    },
    {
      "cell_type": "code",
      "source": [
        "\n"
      ],
      "metadata": {
        "id": "72hBCLbNVOba"
      },
      "id": "72hBCLbNVOba",
      "execution_count": null,
      "outputs": []
    },
    {
      "cell_type": "code",
      "source": [],
      "metadata": {
        "id": "YSg3smdjWBPP"
      },
      "id": "YSg3smdjWBPP",
      "execution_count": null,
      "outputs": []
    },
    {
      "cell_type": "markdown",
      "id": "5f05ad70",
      "metadata": {
        "id": "5f05ad70"
      },
      "source": [
        "### Step 6: Label Encoding"
      ]
    },
    {
      "cell_type": "markdown",
      "id": "87441817",
      "metadata": {
        "id": "87441817"
      },
      "source": [
        "Convert the categorical labels into numerical format using a label encoder if needed."
      ]
    },
    {
      "cell_type": "code",
      "execution_count": null,
      "id": "dcb0ce69",
      "metadata": {
        "id": "dcb0ce69"
      },
      "outputs": [],
      "source": [
        "import pandas as pd\n",
        "from sklearn.preprocessing import LabelEncoder\n",
        "\n",
        "all_labels = pd.concat([train_data['label'], test_data['label']])\n",
        "\n",
        "le = LabelEncoder()\n",
        "le.fit(all_labels)\n",
        "\n",
        "train_data['label'] = le.transform(train_data['label'])\n",
        "test_data['label'] = le.transform(test_data['label'])"
      ]
    },
    {
      "cell_type": "markdown",
      "id": "2c2cde80",
      "metadata": {
        "id": "2c2cde80"
      },
      "source": [
        "### Step 7: Data Collation for Padding"
      ]
    },
    {
      "cell_type": "markdown",
      "id": "130522fd",
      "metadata": {
        "id": "130522fd"
      },
      "source": [
        "Prepare the data for training by ensuring all sequences in a batch are padded to the same length. Use a data collator to handle dynamic padding."
      ]
    },
    {
      "cell_type": "markdown",
      "id": "08125f2b",
      "metadata": {
        "id": "08125f2b"
      },
      "source": [
        "### Step 8: Model Initialization"
      ]
    },
    {
      "cell_type": "markdown",
      "id": "a209e8e8",
      "metadata": {
        "id": "a209e8e8"
      },
      "source": [
        "Initialize a sequence classification model using the BERT-based architecture. Set the the right amount of output labels."
      ]
    },
    {
      "cell_type": "code",
      "execution_count": null,
      "id": "9d45858f",
      "metadata": {
        "id": "9d45858f",
        "colab": {
          "base_uri": "https://localhost:8080/"
        },
        "outputId": "13b5f2f2-1639-440e-b629-99ef3edb670c"
      },
      "outputs": [
        {
          "output_type": "stream",
          "name": "stderr",
          "text": [
            "Some weights of the PyTorch model were not used when initializing the TF 2.0 model TFBertForSequenceClassification: ['bert.embeddings.position_ids']\n",
            "- This IS expected if you are initializing TFBertForSequenceClassification from a PyTorch model trained on another task or with another architecture (e.g. initializing a TFBertForSequenceClassification model from a BertForPreTraining model).\n",
            "- This IS NOT expected if you are initializing TFBertForSequenceClassification from a PyTorch model that you expect to be exactly identical (e.g. initializing a TFBertForSequenceClassification model from a BertForSequenceClassification model).\n",
            "Some weights or buffers of the TF 2.0 model TFBertForSequenceClassification were not initialized from the PyTorch model and are newly initialized: ['classifier.weight', 'classifier.bias']\n",
            "You should probably TRAIN this model on a down-stream task to be able to use it for predictions and inference.\n"
          ]
        }
      ],
      "source": [
        "from transformers import TFAutoModelForSequenceClassification\n",
        "import tensorflow as tf\n",
        "model = TFAutoModelForSequenceClassification.from_pretrained(\"aubmindlab/bert-base-arabertv02\", num_labels=3)\n",
        "\n",
        "\n",
        "model.compile(\n",
        "    optimizer=tf.keras.optimizers.Adam(learning_rate=5e-5),\n",
        "    loss=tf.keras.losses.SparseCategoricalCrossentropy(from_logits=True),\n",
        "    metrics=tf.metrics.SparseCategoricalAccuracy(),\n",
        ")\n",
        "\n"
      ]
    },
    {
      "cell_type": "code",
      "source": [
        "\n",
        "model.fit(train_data_tokenized, train_labels, epochs=1)"
      ],
      "metadata": {
        "id": "mKdexuCAdqFn"
      },
      "id": "mKdexuCAdqFn",
      "execution_count": null,
      "outputs": []
    },
    {
      "cell_type": "markdown",
      "id": "c662a02e",
      "metadata": {
        "id": "c662a02e"
      },
      "source": [
        "## Step 9: Training Arguments"
      ]
    },
    {
      "cell_type": "markdown",
      "id": "fc922a37",
      "metadata": {
        "id": "fc922a37"
      },
      "source": [
        "Define the training arguments, including parameters such as learning rate, batch size, number of epochs, and weight decay."
      ]
    },
    {
      "cell_type": "code",
      "execution_count": null,
      "id": "086bbafb",
      "metadata": {
        "id": "086bbafb",
        "colab": {
          "base_uri": "https://localhost:8080/",
          "height": 218
        },
        "outputId": "4f687d5e-15fb-4c2d-cef1-0c44f2bb2950"
      },
      "outputs": [
        {
          "output_type": "error",
          "ename": "TypeError",
          "evalue": "TrainingArguments.__init__() missing 1 required positional argument: 'output_dir'",
          "traceback": [
            "\u001b[0;31m---------------------------------------------------------------------------\u001b[0m",
            "\u001b[0;31mTypeError\u001b[0m                                 Traceback (most recent call last)",
            "\u001b[0;32m<ipython-input-66-344db8539f51>\u001b[0m in \u001b[0;36m<cell line: 4>\u001b[0;34m()\u001b[0m\n\u001b[1;32m      2\u001b[0m \u001b[0;34m\u001b[0m\u001b[0m\n\u001b[1;32m      3\u001b[0m \u001b[0;34m\u001b[0m\u001b[0m\n\u001b[0;32m----> 4\u001b[0;31m args = TrainingArguments(num_train_epochs=1,\n\u001b[0m\u001b[1;32m      5\u001b[0m                          \u001b[0mlearning_rate\u001b[0m\u001b[0;34m=\u001b[0m\u001b[0;36m3e-5\u001b[0m\u001b[0;34m,\u001b[0m\u001b[0;34m\u001b[0m\u001b[0;34m\u001b[0m\u001b[0m\n\u001b[1;32m      6\u001b[0m                          )\n",
            "\u001b[0;31mTypeError\u001b[0m: TrainingArguments.__init__() missing 1 required positional argument: 'output_dir'"
          ]
        }
      ],
      "source": [
        "from transformers import Trainer, TrainingArguments\n",
        "\n",
        "\n",
        "args = TrainingArguments(num_train_epochs=1,\n",
        "                         learning_rate=3e-5,\n",
        "                         )\n",
        "\n",
        "trainer = Trainer(model=model, args=args,\n",
        "                  train_dataset=train_data_tokenized,\n",
        "                  tokenizer=tokenizer)\n",
        "\n",
        "trainer.train()\n"
      ]
    },
    {
      "cell_type": "markdown",
      "id": "74aabddb",
      "metadata": {
        "id": "74aabddb"
      },
      "source": [
        "## Step 10: Trainer Initialization and Training"
      ]
    },
    {
      "cell_type": "markdown",
      "id": "3d3b4bf5",
      "metadata": {
        "id": "3d3b4bf5"
      },
      "source": [
        "Set up the trainer with the model, training arguments, dataset, tokenizer, and data collator. Train the model using the dataset you processed earlier."
      ]
    },
    {
      "cell_type": "code",
      "execution_count": null,
      "id": "a2c24838",
      "metadata": {
        "id": "a2c24838"
      },
      "outputs": [],
      "source": []
    },
    {
      "cell_type": "markdown",
      "id": "9b7e59cb",
      "metadata": {
        "id": "9b7e59cb"
      },
      "source": [
        "## Step 11: Inference"
      ]
    },
    {
      "cell_type": "markdown",
      "id": "0c5ed70c",
      "metadata": {
        "id": "0c5ed70c"
      },
      "source": [
        "Once the model is trained, perform inference on a sample text to evaluate the model's prediction capabilities. Use the tokenizer to process the text, and then feed it into the model to get the predicted label."
      ]
    },
    {
      "cell_type": "code",
      "execution_count": null,
      "id": "0d90a5b5",
      "metadata": {
        "id": "0d90a5b5"
      },
      "outputs": [],
      "source": []
    }
  ],
  "metadata": {
    "language_info": {
      "name": "python"
    },
    "colab": {
      "provenance": [],
      "gpuType": "T4"
    },
    "kernelspec": {
      "name": "python3",
      "display_name": "Python 3"
    },
    "accelerator": "GPU",
    "widgets": {
      "application/vnd.jupyter.widget-state+json": {
        "44b3e52f831a4926975bfecd965cc65a": {
          "model_module": "@jupyter-widgets/controls",
          "model_name": "HBoxModel",
          "model_module_version": "1.5.0",
          "state": {
            "_dom_classes": [],
            "_model_module": "@jupyter-widgets/controls",
            "_model_module_version": "1.5.0",
            "_model_name": "HBoxModel",
            "_view_count": null,
            "_view_module": "@jupyter-widgets/controls",
            "_view_module_version": "1.5.0",
            "_view_name": "HBoxView",
            "box_style": "",
            "children": [
              "IPY_MODEL_0312331155a14a059875cc5cf7bf69c1",
              "IPY_MODEL_231bd92d0d0540c99e15e62866dced4c",
              "IPY_MODEL_302015c498fc478e98c6c2d5e509d717"
            ],
            "layout": "IPY_MODEL_b84ac3c33ea541618bbee07b83079a4f"
          }
        },
        "0312331155a14a059875cc5cf7bf69c1": {
          "model_module": "@jupyter-widgets/controls",
          "model_name": "HTMLModel",
          "model_module_version": "1.5.0",
          "state": {
            "_dom_classes": [],
            "_model_module": "@jupyter-widgets/controls",
            "_model_module_version": "1.5.0",
            "_model_name": "HTMLModel",
            "_view_count": null,
            "_view_module": "@jupyter-widgets/controls",
            "_view_module_version": "1.5.0",
            "_view_name": "HTMLView",
            "description": "",
            "description_tooltip": null,
            "layout": "IPY_MODEL_ff1a1a382f2f4a7d976e4463e95d4913",
            "placeholder": "​",
            "style": "IPY_MODEL_1776f0c704cb4a29b4ed307296664997",
            "value": "sanad_df.csv: 100%"
          }
        },
        "231bd92d0d0540c99e15e62866dced4c": {
          "model_module": "@jupyter-widgets/controls",
          "model_name": "FloatProgressModel",
          "model_module_version": "1.5.0",
          "state": {
            "_dom_classes": [],
            "_model_module": "@jupyter-widgets/controls",
            "_model_module_version": "1.5.0",
            "_model_name": "FloatProgressModel",
            "_view_count": null,
            "_view_module": "@jupyter-widgets/controls",
            "_view_module_version": "1.5.0",
            "_view_name": "ProgressView",
            "bar_style": "success",
            "description": "",
            "description_tooltip": null,
            "layout": "IPY_MODEL_143ad18ea33440519a5f7db46fb2b03b",
            "max": 50330073,
            "min": 0,
            "orientation": "horizontal",
            "style": "IPY_MODEL_628c07b8c463423a8f40cbbd7d5ce16b",
            "value": 50330073
          }
        },
        "302015c498fc478e98c6c2d5e509d717": {
          "model_module": "@jupyter-widgets/controls",
          "model_name": "HTMLModel",
          "model_module_version": "1.5.0",
          "state": {
            "_dom_classes": [],
            "_model_module": "@jupyter-widgets/controls",
            "_model_module_version": "1.5.0",
            "_model_name": "HTMLModel",
            "_view_count": null,
            "_view_module": "@jupyter-widgets/controls",
            "_view_module_version": "1.5.0",
            "_view_name": "HTMLView",
            "description": "",
            "description_tooltip": null,
            "layout": "IPY_MODEL_31c8348e3b2c4bfaafb70bbae7eb362d",
            "placeholder": "​",
            "style": "IPY_MODEL_251a78778b67447091cd11fdb43f5648",
            "value": " 50.3M/50.3M [00:00&lt;00:00, 106MB/s]"
          }
        },
        "b84ac3c33ea541618bbee07b83079a4f": {
          "model_module": "@jupyter-widgets/base",
          "model_name": "LayoutModel",
          "model_module_version": "1.2.0",
          "state": {
            "_model_module": "@jupyter-widgets/base",
            "_model_module_version": "1.2.0",
            "_model_name": "LayoutModel",
            "_view_count": null,
            "_view_module": "@jupyter-widgets/base",
            "_view_module_version": "1.2.0",
            "_view_name": "LayoutView",
            "align_content": null,
            "align_items": null,
            "align_self": null,
            "border": null,
            "bottom": null,
            "display": null,
            "flex": null,
            "flex_flow": null,
            "grid_area": null,
            "grid_auto_columns": null,
            "grid_auto_flow": null,
            "grid_auto_rows": null,
            "grid_column": null,
            "grid_gap": null,
            "grid_row": null,
            "grid_template_areas": null,
            "grid_template_columns": null,
            "grid_template_rows": null,
            "height": null,
            "justify_content": null,
            "justify_items": null,
            "left": null,
            "margin": null,
            "max_height": null,
            "max_width": null,
            "min_height": null,
            "min_width": null,
            "object_fit": null,
            "object_position": null,
            "order": null,
            "overflow": null,
            "overflow_x": null,
            "overflow_y": null,
            "padding": null,
            "right": null,
            "top": null,
            "visibility": null,
            "width": null
          }
        },
        "ff1a1a382f2f4a7d976e4463e95d4913": {
          "model_module": "@jupyter-widgets/base",
          "model_name": "LayoutModel",
          "model_module_version": "1.2.0",
          "state": {
            "_model_module": "@jupyter-widgets/base",
            "_model_module_version": "1.2.0",
            "_model_name": "LayoutModel",
            "_view_count": null,
            "_view_module": "@jupyter-widgets/base",
            "_view_module_version": "1.2.0",
            "_view_name": "LayoutView",
            "align_content": null,
            "align_items": null,
            "align_self": null,
            "border": null,
            "bottom": null,
            "display": null,
            "flex": null,
            "flex_flow": null,
            "grid_area": null,
            "grid_auto_columns": null,
            "grid_auto_flow": null,
            "grid_auto_rows": null,
            "grid_column": null,
            "grid_gap": null,
            "grid_row": null,
            "grid_template_areas": null,
            "grid_template_columns": null,
            "grid_template_rows": null,
            "height": null,
            "justify_content": null,
            "justify_items": null,
            "left": null,
            "margin": null,
            "max_height": null,
            "max_width": null,
            "min_height": null,
            "min_width": null,
            "object_fit": null,
            "object_position": null,
            "order": null,
            "overflow": null,
            "overflow_x": null,
            "overflow_y": null,
            "padding": null,
            "right": null,
            "top": null,
            "visibility": null,
            "width": null
          }
        },
        "1776f0c704cb4a29b4ed307296664997": {
          "model_module": "@jupyter-widgets/controls",
          "model_name": "DescriptionStyleModel",
          "model_module_version": "1.5.0",
          "state": {
            "_model_module": "@jupyter-widgets/controls",
            "_model_module_version": "1.5.0",
            "_model_name": "DescriptionStyleModel",
            "_view_count": null,
            "_view_module": "@jupyter-widgets/base",
            "_view_module_version": "1.2.0",
            "_view_name": "StyleView",
            "description_width": ""
          }
        },
        "143ad18ea33440519a5f7db46fb2b03b": {
          "model_module": "@jupyter-widgets/base",
          "model_name": "LayoutModel",
          "model_module_version": "1.2.0",
          "state": {
            "_model_module": "@jupyter-widgets/base",
            "_model_module_version": "1.2.0",
            "_model_name": "LayoutModel",
            "_view_count": null,
            "_view_module": "@jupyter-widgets/base",
            "_view_module_version": "1.2.0",
            "_view_name": "LayoutView",
            "align_content": null,
            "align_items": null,
            "align_self": null,
            "border": null,
            "bottom": null,
            "display": null,
            "flex": null,
            "flex_flow": null,
            "grid_area": null,
            "grid_auto_columns": null,
            "grid_auto_flow": null,
            "grid_auto_rows": null,
            "grid_column": null,
            "grid_gap": null,
            "grid_row": null,
            "grid_template_areas": null,
            "grid_template_columns": null,
            "grid_template_rows": null,
            "height": null,
            "justify_content": null,
            "justify_items": null,
            "left": null,
            "margin": null,
            "max_height": null,
            "max_width": null,
            "min_height": null,
            "min_width": null,
            "object_fit": null,
            "object_position": null,
            "order": null,
            "overflow": null,
            "overflow_x": null,
            "overflow_y": null,
            "padding": null,
            "right": null,
            "top": null,
            "visibility": null,
            "width": null
          }
        },
        "628c07b8c463423a8f40cbbd7d5ce16b": {
          "model_module": "@jupyter-widgets/controls",
          "model_name": "ProgressStyleModel",
          "model_module_version": "1.5.0",
          "state": {
            "_model_module": "@jupyter-widgets/controls",
            "_model_module_version": "1.5.0",
            "_model_name": "ProgressStyleModel",
            "_view_count": null,
            "_view_module": "@jupyter-widgets/base",
            "_view_module_version": "1.2.0",
            "_view_name": "StyleView",
            "bar_color": null,
            "description_width": ""
          }
        },
        "31c8348e3b2c4bfaafb70bbae7eb362d": {
          "model_module": "@jupyter-widgets/base",
          "model_name": "LayoutModel",
          "model_module_version": "1.2.0",
          "state": {
            "_model_module": "@jupyter-widgets/base",
            "_model_module_version": "1.2.0",
            "_model_name": "LayoutModel",
            "_view_count": null,
            "_view_module": "@jupyter-widgets/base",
            "_view_module_version": "1.2.0",
            "_view_name": "LayoutView",
            "align_content": null,
            "align_items": null,
            "align_self": null,
            "border": null,
            "bottom": null,
            "display": null,
            "flex": null,
            "flex_flow": null,
            "grid_area": null,
            "grid_auto_columns": null,
            "grid_auto_flow": null,
            "grid_auto_rows": null,
            "grid_column": null,
            "grid_gap": null,
            "grid_row": null,
            "grid_template_areas": null,
            "grid_template_columns": null,
            "grid_template_rows": null,
            "height": null,
            "justify_content": null,
            "justify_items": null,
            "left": null,
            "margin": null,
            "max_height": null,
            "max_width": null,
            "min_height": null,
            "min_width": null,
            "object_fit": null,
            "object_position": null,
            "order": null,
            "overflow": null,
            "overflow_x": null,
            "overflow_y": null,
            "padding": null,
            "right": null,
            "top": null,
            "visibility": null,
            "width": null
          }
        },
        "251a78778b67447091cd11fdb43f5648": {
          "model_module": "@jupyter-widgets/controls",
          "model_name": "DescriptionStyleModel",
          "model_module_version": "1.5.0",
          "state": {
            "_model_module": "@jupyter-widgets/controls",
            "_model_module_version": "1.5.0",
            "_model_name": "DescriptionStyleModel",
            "_view_count": null,
            "_view_module": "@jupyter-widgets/base",
            "_view_module_version": "1.2.0",
            "_view_name": "StyleView",
            "description_width": ""
          }
        },
        "4013fd5c4de7494dbdae8507f69c0eca": {
          "model_module": "@jupyter-widgets/controls",
          "model_name": "HBoxModel",
          "model_module_version": "1.5.0",
          "state": {
            "_dom_classes": [],
            "_model_module": "@jupyter-widgets/controls",
            "_model_module_version": "1.5.0",
            "_model_name": "HBoxModel",
            "_view_count": null,
            "_view_module": "@jupyter-widgets/controls",
            "_view_module_version": "1.5.0",
            "_view_name": "HBoxView",
            "box_style": "",
            "children": [
              "IPY_MODEL_0adf0dfc290247dc9c28cac8eff2a1de",
              "IPY_MODEL_5d95ff37fca44551999728078d4b50a7",
              "IPY_MODEL_ae95907b1cc84151bedced72270aff09"
            ],
            "layout": "IPY_MODEL_d63eb496162d4ea0850f8dad0e3cd103"
          }
        },
        "0adf0dfc290247dc9c28cac8eff2a1de": {
          "model_module": "@jupyter-widgets/controls",
          "model_name": "HTMLModel",
          "model_module_version": "1.5.0",
          "state": {
            "_dom_classes": [],
            "_model_module": "@jupyter-widgets/controls",
            "_model_module_version": "1.5.0",
            "_model_name": "HTMLModel",
            "_view_count": null,
            "_view_module": "@jupyter-widgets/controls",
            "_view_module_version": "1.5.0",
            "_view_name": "HTMLView",
            "description": "",
            "description_tooltip": null,
            "layout": "IPY_MODEL_a3e78ce06335467a9beba6cf808275ae",
            "placeholder": "​",
            "style": "IPY_MODEL_fe2ec3f0f7f74ca4944b90894098757e",
            "value": "Generating train split: 100%"
          }
        },
        "5d95ff37fca44551999728078d4b50a7": {
          "model_module": "@jupyter-widgets/controls",
          "model_name": "FloatProgressModel",
          "model_module_version": "1.5.0",
          "state": {
            "_dom_classes": [],
            "_model_module": "@jupyter-widgets/controls",
            "_model_module_version": "1.5.0",
            "_model_name": "FloatProgressModel",
            "_view_count": null,
            "_view_module": "@jupyter-widgets/controls",
            "_view_module_version": "1.5.0",
            "_view_name": "ProgressView",
            "bar_style": "success",
            "description": "",
            "description_tooltip": null,
            "layout": "IPY_MODEL_3694764c2a124810bbfa7cd25b73bdea",
            "max": 15000,
            "min": 0,
            "orientation": "horizontal",
            "style": "IPY_MODEL_b4735b0288e44536ad103d6a77148288",
            "value": 15000
          }
        },
        "ae95907b1cc84151bedced72270aff09": {
          "model_module": "@jupyter-widgets/controls",
          "model_name": "HTMLModel",
          "model_module_version": "1.5.0",
          "state": {
            "_dom_classes": [],
            "_model_module": "@jupyter-widgets/controls",
            "_model_module_version": "1.5.0",
            "_model_name": "HTMLModel",
            "_view_count": null,
            "_view_module": "@jupyter-widgets/controls",
            "_view_module_version": "1.5.0",
            "_view_name": "HTMLView",
            "description": "",
            "description_tooltip": null,
            "layout": "IPY_MODEL_91fbb5b7a4fb49ff8c7c18f54670384b",
            "placeholder": "​",
            "style": "IPY_MODEL_7072ce413cf44e05948a6716ccbe4809",
            "value": " 15000/15000 [00:02&lt;00:00, 6614.60 examples/s]"
          }
        },
        "d63eb496162d4ea0850f8dad0e3cd103": {
          "model_module": "@jupyter-widgets/base",
          "model_name": "LayoutModel",
          "model_module_version": "1.2.0",
          "state": {
            "_model_module": "@jupyter-widgets/base",
            "_model_module_version": "1.2.0",
            "_model_name": "LayoutModel",
            "_view_count": null,
            "_view_module": "@jupyter-widgets/base",
            "_view_module_version": "1.2.0",
            "_view_name": "LayoutView",
            "align_content": null,
            "align_items": null,
            "align_self": null,
            "border": null,
            "bottom": null,
            "display": null,
            "flex": null,
            "flex_flow": null,
            "grid_area": null,
            "grid_auto_columns": null,
            "grid_auto_flow": null,
            "grid_auto_rows": null,
            "grid_column": null,
            "grid_gap": null,
            "grid_row": null,
            "grid_template_areas": null,
            "grid_template_columns": null,
            "grid_template_rows": null,
            "height": null,
            "justify_content": null,
            "justify_items": null,
            "left": null,
            "margin": null,
            "max_height": null,
            "max_width": null,
            "min_height": null,
            "min_width": null,
            "object_fit": null,
            "object_position": null,
            "order": null,
            "overflow": null,
            "overflow_x": null,
            "overflow_y": null,
            "padding": null,
            "right": null,
            "top": null,
            "visibility": null,
            "width": null
          }
        },
        "a3e78ce06335467a9beba6cf808275ae": {
          "model_module": "@jupyter-widgets/base",
          "model_name": "LayoutModel",
          "model_module_version": "1.2.0",
          "state": {
            "_model_module": "@jupyter-widgets/base",
            "_model_module_version": "1.2.0",
            "_model_name": "LayoutModel",
            "_view_count": null,
            "_view_module": "@jupyter-widgets/base",
            "_view_module_version": "1.2.0",
            "_view_name": "LayoutView",
            "align_content": null,
            "align_items": null,
            "align_self": null,
            "border": null,
            "bottom": null,
            "display": null,
            "flex": null,
            "flex_flow": null,
            "grid_area": null,
            "grid_auto_columns": null,
            "grid_auto_flow": null,
            "grid_auto_rows": null,
            "grid_column": null,
            "grid_gap": null,
            "grid_row": null,
            "grid_template_areas": null,
            "grid_template_columns": null,
            "grid_template_rows": null,
            "height": null,
            "justify_content": null,
            "justify_items": null,
            "left": null,
            "margin": null,
            "max_height": null,
            "max_width": null,
            "min_height": null,
            "min_width": null,
            "object_fit": null,
            "object_position": null,
            "order": null,
            "overflow": null,
            "overflow_x": null,
            "overflow_y": null,
            "padding": null,
            "right": null,
            "top": null,
            "visibility": null,
            "width": null
          }
        },
        "fe2ec3f0f7f74ca4944b90894098757e": {
          "model_module": "@jupyter-widgets/controls",
          "model_name": "DescriptionStyleModel",
          "model_module_version": "1.5.0",
          "state": {
            "_model_module": "@jupyter-widgets/controls",
            "_model_module_version": "1.5.0",
            "_model_name": "DescriptionStyleModel",
            "_view_count": null,
            "_view_module": "@jupyter-widgets/base",
            "_view_module_version": "1.2.0",
            "_view_name": "StyleView",
            "description_width": ""
          }
        },
        "3694764c2a124810bbfa7cd25b73bdea": {
          "model_module": "@jupyter-widgets/base",
          "model_name": "LayoutModel",
          "model_module_version": "1.2.0",
          "state": {
            "_model_module": "@jupyter-widgets/base",
            "_model_module_version": "1.2.0",
            "_model_name": "LayoutModel",
            "_view_count": null,
            "_view_module": "@jupyter-widgets/base",
            "_view_module_version": "1.2.0",
            "_view_name": "LayoutView",
            "align_content": null,
            "align_items": null,
            "align_self": null,
            "border": null,
            "bottom": null,
            "display": null,
            "flex": null,
            "flex_flow": null,
            "grid_area": null,
            "grid_auto_columns": null,
            "grid_auto_flow": null,
            "grid_auto_rows": null,
            "grid_column": null,
            "grid_gap": null,
            "grid_row": null,
            "grid_template_areas": null,
            "grid_template_columns": null,
            "grid_template_rows": null,
            "height": null,
            "justify_content": null,
            "justify_items": null,
            "left": null,
            "margin": null,
            "max_height": null,
            "max_width": null,
            "min_height": null,
            "min_width": null,
            "object_fit": null,
            "object_position": null,
            "order": null,
            "overflow": null,
            "overflow_x": null,
            "overflow_y": null,
            "padding": null,
            "right": null,
            "top": null,
            "visibility": null,
            "width": null
          }
        },
        "b4735b0288e44536ad103d6a77148288": {
          "model_module": "@jupyter-widgets/controls",
          "model_name": "ProgressStyleModel",
          "model_module_version": "1.5.0",
          "state": {
            "_model_module": "@jupyter-widgets/controls",
            "_model_module_version": "1.5.0",
            "_model_name": "ProgressStyleModel",
            "_view_count": null,
            "_view_module": "@jupyter-widgets/base",
            "_view_module_version": "1.2.0",
            "_view_name": "StyleView",
            "bar_color": null,
            "description_width": ""
          }
        },
        "91fbb5b7a4fb49ff8c7c18f54670384b": {
          "model_module": "@jupyter-widgets/base",
          "model_name": "LayoutModel",
          "model_module_version": "1.2.0",
          "state": {
            "_model_module": "@jupyter-widgets/base",
            "_model_module_version": "1.2.0",
            "_model_name": "LayoutModel",
            "_view_count": null,
            "_view_module": "@jupyter-widgets/base",
            "_view_module_version": "1.2.0",
            "_view_name": "LayoutView",
            "align_content": null,
            "align_items": null,
            "align_self": null,
            "border": null,
            "bottom": null,
            "display": null,
            "flex": null,
            "flex_flow": null,
            "grid_area": null,
            "grid_auto_columns": null,
            "grid_auto_flow": null,
            "grid_auto_rows": null,
            "grid_column": null,
            "grid_gap": null,
            "grid_row": null,
            "grid_template_areas": null,
            "grid_template_columns": null,
            "grid_template_rows": null,
            "height": null,
            "justify_content": null,
            "justify_items": null,
            "left": null,
            "margin": null,
            "max_height": null,
            "max_width": null,
            "min_height": null,
            "min_width": null,
            "object_fit": null,
            "object_position": null,
            "order": null,
            "overflow": null,
            "overflow_x": null,
            "overflow_y": null,
            "padding": null,
            "right": null,
            "top": null,
            "visibility": null,
            "width": null
          }
        },
        "7072ce413cf44e05948a6716ccbe4809": {
          "model_module": "@jupyter-widgets/controls",
          "model_name": "DescriptionStyleModel",
          "model_module_version": "1.5.0",
          "state": {
            "_model_module": "@jupyter-widgets/controls",
            "_model_module_version": "1.5.0",
            "_model_name": "DescriptionStyleModel",
            "_view_count": null,
            "_view_module": "@jupyter-widgets/base",
            "_view_module_version": "1.2.0",
            "_view_name": "StyleView",
            "description_width": ""
          }
        },
        "5fd8c79c69d44101a9063c6deed9e20c": {
          "model_module": "@jupyter-widgets/controls",
          "model_name": "HBoxModel",
          "model_module_version": "1.5.0",
          "state": {
            "_dom_classes": [],
            "_model_module": "@jupyter-widgets/controls",
            "_model_module_version": "1.5.0",
            "_model_name": "HBoxModel",
            "_view_count": null,
            "_view_module": "@jupyter-widgets/controls",
            "_view_module_version": "1.5.0",
            "_view_name": "HBoxView",
            "box_style": "",
            "children": [
              "IPY_MODEL_8638be030a24421b88768fdec1e0dd87",
              "IPY_MODEL_0bcc2d198bec4d0dbebc9c51d0839766",
              "IPY_MODEL_5da0a0aba0ad4e98bf7b4774cf0b381f"
            ],
            "layout": "IPY_MODEL_ce9f03b6ed2e4cfeb71c5ad0c4176a22"
          }
        },
        "8638be030a24421b88768fdec1e0dd87": {
          "model_module": "@jupyter-widgets/controls",
          "model_name": "HTMLModel",
          "model_module_version": "1.5.0",
          "state": {
            "_dom_classes": [],
            "_model_module": "@jupyter-widgets/controls",
            "_model_module_version": "1.5.0",
            "_model_name": "HTMLModel",
            "_view_count": null,
            "_view_module": "@jupyter-widgets/controls",
            "_view_module_version": "1.5.0",
            "_view_name": "HTMLView",
            "description": "",
            "description_tooltip": null,
            "layout": "IPY_MODEL_537b693c18784f97b1edd8869e5304da",
            "placeholder": "​",
            "style": "IPY_MODEL_49b6477b99574f5c86927c577f44647d",
            "value": "config.json: 100%"
          }
        },
        "0bcc2d198bec4d0dbebc9c51d0839766": {
          "model_module": "@jupyter-widgets/controls",
          "model_name": "FloatProgressModel",
          "model_module_version": "1.5.0",
          "state": {
            "_dom_classes": [],
            "_model_module": "@jupyter-widgets/controls",
            "_model_module_version": "1.5.0",
            "_model_name": "FloatProgressModel",
            "_view_count": null,
            "_view_module": "@jupyter-widgets/controls",
            "_view_module_version": "1.5.0",
            "_view_name": "ProgressView",
            "bar_style": "success",
            "description": "",
            "description_tooltip": null,
            "layout": "IPY_MODEL_4b907540b7e846008c03e1490973192e",
            "max": 384,
            "min": 0,
            "orientation": "horizontal",
            "style": "IPY_MODEL_5c2df3596652448cb00710d1917cf37c",
            "value": 384
          }
        },
        "5da0a0aba0ad4e98bf7b4774cf0b381f": {
          "model_module": "@jupyter-widgets/controls",
          "model_name": "HTMLModel",
          "model_module_version": "1.5.0",
          "state": {
            "_dom_classes": [],
            "_model_module": "@jupyter-widgets/controls",
            "_model_module_version": "1.5.0",
            "_model_name": "HTMLModel",
            "_view_count": null,
            "_view_module": "@jupyter-widgets/controls",
            "_view_module_version": "1.5.0",
            "_view_name": "HTMLView",
            "description": "",
            "description_tooltip": null,
            "layout": "IPY_MODEL_aa2e599b36e6428db6fa06474203bfd0",
            "placeholder": "​",
            "style": "IPY_MODEL_40947afed5314981a4ae9acb604fe41b",
            "value": " 384/384 [00:00&lt;00:00, 29.4kB/s]"
          }
        },
        "ce9f03b6ed2e4cfeb71c5ad0c4176a22": {
          "model_module": "@jupyter-widgets/base",
          "model_name": "LayoutModel",
          "model_module_version": "1.2.0",
          "state": {
            "_model_module": "@jupyter-widgets/base",
            "_model_module_version": "1.2.0",
            "_model_name": "LayoutModel",
            "_view_count": null,
            "_view_module": "@jupyter-widgets/base",
            "_view_module_version": "1.2.0",
            "_view_name": "LayoutView",
            "align_content": null,
            "align_items": null,
            "align_self": null,
            "border": null,
            "bottom": null,
            "display": null,
            "flex": null,
            "flex_flow": null,
            "grid_area": null,
            "grid_auto_columns": null,
            "grid_auto_flow": null,
            "grid_auto_rows": null,
            "grid_column": null,
            "grid_gap": null,
            "grid_row": null,
            "grid_template_areas": null,
            "grid_template_columns": null,
            "grid_template_rows": null,
            "height": null,
            "justify_content": null,
            "justify_items": null,
            "left": null,
            "margin": null,
            "max_height": null,
            "max_width": null,
            "min_height": null,
            "min_width": null,
            "object_fit": null,
            "object_position": null,
            "order": null,
            "overflow": null,
            "overflow_x": null,
            "overflow_y": null,
            "padding": null,
            "right": null,
            "top": null,
            "visibility": null,
            "width": null
          }
        },
        "537b693c18784f97b1edd8869e5304da": {
          "model_module": "@jupyter-widgets/base",
          "model_name": "LayoutModel",
          "model_module_version": "1.2.0",
          "state": {
            "_model_module": "@jupyter-widgets/base",
            "_model_module_version": "1.2.0",
            "_model_name": "LayoutModel",
            "_view_count": null,
            "_view_module": "@jupyter-widgets/base",
            "_view_module_version": "1.2.0",
            "_view_name": "LayoutView",
            "align_content": null,
            "align_items": null,
            "align_self": null,
            "border": null,
            "bottom": null,
            "display": null,
            "flex": null,
            "flex_flow": null,
            "grid_area": null,
            "grid_auto_columns": null,
            "grid_auto_flow": null,
            "grid_auto_rows": null,
            "grid_column": null,
            "grid_gap": null,
            "grid_row": null,
            "grid_template_areas": null,
            "grid_template_columns": null,
            "grid_template_rows": null,
            "height": null,
            "justify_content": null,
            "justify_items": null,
            "left": null,
            "margin": null,
            "max_height": null,
            "max_width": null,
            "min_height": null,
            "min_width": null,
            "object_fit": null,
            "object_position": null,
            "order": null,
            "overflow": null,
            "overflow_x": null,
            "overflow_y": null,
            "padding": null,
            "right": null,
            "top": null,
            "visibility": null,
            "width": null
          }
        },
        "49b6477b99574f5c86927c577f44647d": {
          "model_module": "@jupyter-widgets/controls",
          "model_name": "DescriptionStyleModel",
          "model_module_version": "1.5.0",
          "state": {
            "_model_module": "@jupyter-widgets/controls",
            "_model_module_version": "1.5.0",
            "_model_name": "DescriptionStyleModel",
            "_view_count": null,
            "_view_module": "@jupyter-widgets/base",
            "_view_module_version": "1.2.0",
            "_view_name": "StyleView",
            "description_width": ""
          }
        },
        "4b907540b7e846008c03e1490973192e": {
          "model_module": "@jupyter-widgets/base",
          "model_name": "LayoutModel",
          "model_module_version": "1.2.0",
          "state": {
            "_model_module": "@jupyter-widgets/base",
            "_model_module_version": "1.2.0",
            "_model_name": "LayoutModel",
            "_view_count": null,
            "_view_module": "@jupyter-widgets/base",
            "_view_module_version": "1.2.0",
            "_view_name": "LayoutView",
            "align_content": null,
            "align_items": null,
            "align_self": null,
            "border": null,
            "bottom": null,
            "display": null,
            "flex": null,
            "flex_flow": null,
            "grid_area": null,
            "grid_auto_columns": null,
            "grid_auto_flow": null,
            "grid_auto_rows": null,
            "grid_column": null,
            "grid_gap": null,
            "grid_row": null,
            "grid_template_areas": null,
            "grid_template_columns": null,
            "grid_template_rows": null,
            "height": null,
            "justify_content": null,
            "justify_items": null,
            "left": null,
            "margin": null,
            "max_height": null,
            "max_width": null,
            "min_height": null,
            "min_width": null,
            "object_fit": null,
            "object_position": null,
            "order": null,
            "overflow": null,
            "overflow_x": null,
            "overflow_y": null,
            "padding": null,
            "right": null,
            "top": null,
            "visibility": null,
            "width": null
          }
        },
        "5c2df3596652448cb00710d1917cf37c": {
          "model_module": "@jupyter-widgets/controls",
          "model_name": "ProgressStyleModel",
          "model_module_version": "1.5.0",
          "state": {
            "_model_module": "@jupyter-widgets/controls",
            "_model_module_version": "1.5.0",
            "_model_name": "ProgressStyleModel",
            "_view_count": null,
            "_view_module": "@jupyter-widgets/base",
            "_view_module_version": "1.2.0",
            "_view_name": "StyleView",
            "bar_color": null,
            "description_width": ""
          }
        },
        "aa2e599b36e6428db6fa06474203bfd0": {
          "model_module": "@jupyter-widgets/base",
          "model_name": "LayoutModel",
          "model_module_version": "1.2.0",
          "state": {
            "_model_module": "@jupyter-widgets/base",
            "_model_module_version": "1.2.0",
            "_model_name": "LayoutModel",
            "_view_count": null,
            "_view_module": "@jupyter-widgets/base",
            "_view_module_version": "1.2.0",
            "_view_name": "LayoutView",
            "align_content": null,
            "align_items": null,
            "align_self": null,
            "border": null,
            "bottom": null,
            "display": null,
            "flex": null,
            "flex_flow": null,
            "grid_area": null,
            "grid_auto_columns": null,
            "grid_auto_flow": null,
            "grid_auto_rows": null,
            "grid_column": null,
            "grid_gap": null,
            "grid_row": null,
            "grid_template_areas": null,
            "grid_template_columns": null,
            "grid_template_rows": null,
            "height": null,
            "justify_content": null,
            "justify_items": null,
            "left": null,
            "margin": null,
            "max_height": null,
            "max_width": null,
            "min_height": null,
            "min_width": null,
            "object_fit": null,
            "object_position": null,
            "order": null,
            "overflow": null,
            "overflow_x": null,
            "overflow_y": null,
            "padding": null,
            "right": null,
            "top": null,
            "visibility": null,
            "width": null
          }
        },
        "40947afed5314981a4ae9acb604fe41b": {
          "model_module": "@jupyter-widgets/controls",
          "model_name": "DescriptionStyleModel",
          "model_module_version": "1.5.0",
          "state": {
            "_model_module": "@jupyter-widgets/controls",
            "_model_module_version": "1.5.0",
            "_model_name": "DescriptionStyleModel",
            "_view_count": null,
            "_view_module": "@jupyter-widgets/base",
            "_view_module_version": "1.2.0",
            "_view_name": "StyleView",
            "description_width": ""
          }
        },
        "7231bbe2ac79470983ca5c21f258bc31": {
          "model_module": "@jupyter-widgets/controls",
          "model_name": "HBoxModel",
          "model_module_version": "1.5.0",
          "state": {
            "_dom_classes": [],
            "_model_module": "@jupyter-widgets/controls",
            "_model_module_version": "1.5.0",
            "_model_name": "HBoxModel",
            "_view_count": null,
            "_view_module": "@jupyter-widgets/controls",
            "_view_module_version": "1.5.0",
            "_view_name": "HBoxView",
            "box_style": "",
            "children": [
              "IPY_MODEL_f6ea3097fa554da3bb1a282f659bb3da",
              "IPY_MODEL_5afe031a8ca84b188e2b01e65a5d38af",
              "IPY_MODEL_2436ad6d264944d7b756bbcedbec3471"
            ],
            "layout": "IPY_MODEL_f6d1943fc10b494a9a994542a2ca2626"
          }
        },
        "f6ea3097fa554da3bb1a282f659bb3da": {
          "model_module": "@jupyter-widgets/controls",
          "model_name": "HTMLModel",
          "model_module_version": "1.5.0",
          "state": {
            "_dom_classes": [],
            "_model_module": "@jupyter-widgets/controls",
            "_model_module_version": "1.5.0",
            "_model_name": "HTMLModel",
            "_view_count": null,
            "_view_module": "@jupyter-widgets/controls",
            "_view_module_version": "1.5.0",
            "_view_name": "HTMLView",
            "description": "",
            "description_tooltip": null,
            "layout": "IPY_MODEL_be6205dff2584940ade797ffa847d39a",
            "placeholder": "​",
            "style": "IPY_MODEL_664d9ce0ab554d04b38d12aff45ee900",
            "value": "model.safetensors: 100%"
          }
        },
        "5afe031a8ca84b188e2b01e65a5d38af": {
          "model_module": "@jupyter-widgets/controls",
          "model_name": "FloatProgressModel",
          "model_module_version": "1.5.0",
          "state": {
            "_dom_classes": [],
            "_model_module": "@jupyter-widgets/controls",
            "_model_module_version": "1.5.0",
            "_model_name": "FloatProgressModel",
            "_view_count": null,
            "_view_module": "@jupyter-widgets/controls",
            "_view_module_version": "1.5.0",
            "_view_name": "ProgressView",
            "bar_style": "success",
            "description": "",
            "description_tooltip": null,
            "layout": "IPY_MODEL_77b122095d1544749d35af1b2bdb6be4",
            "max": 543432324,
            "min": 0,
            "orientation": "horizontal",
            "style": "IPY_MODEL_1e1df7fca1864d489fde6de3e8a602a9",
            "value": 543432324
          }
        },
        "2436ad6d264944d7b756bbcedbec3471": {
          "model_module": "@jupyter-widgets/controls",
          "model_name": "HTMLModel",
          "model_module_version": "1.5.0",
          "state": {
            "_dom_classes": [],
            "_model_module": "@jupyter-widgets/controls",
            "_model_module_version": "1.5.0",
            "_model_name": "HTMLModel",
            "_view_count": null,
            "_view_module": "@jupyter-widgets/controls",
            "_view_module_version": "1.5.0",
            "_view_name": "HTMLView",
            "description": "",
            "description_tooltip": null,
            "layout": "IPY_MODEL_2024507f113f48608ace5bf866f3d02b",
            "placeholder": "​",
            "style": "IPY_MODEL_43ec60842b9647deacf9a3614048d441",
            "value": " 543M/543M [00:02&lt;00:00, 194MB/s]"
          }
        },
        "f6d1943fc10b494a9a994542a2ca2626": {
          "model_module": "@jupyter-widgets/base",
          "model_name": "LayoutModel",
          "model_module_version": "1.2.0",
          "state": {
            "_model_module": "@jupyter-widgets/base",
            "_model_module_version": "1.2.0",
            "_model_name": "LayoutModel",
            "_view_count": null,
            "_view_module": "@jupyter-widgets/base",
            "_view_module_version": "1.2.0",
            "_view_name": "LayoutView",
            "align_content": null,
            "align_items": null,
            "align_self": null,
            "border": null,
            "bottom": null,
            "display": null,
            "flex": null,
            "flex_flow": null,
            "grid_area": null,
            "grid_auto_columns": null,
            "grid_auto_flow": null,
            "grid_auto_rows": null,
            "grid_column": null,
            "grid_gap": null,
            "grid_row": null,
            "grid_template_areas": null,
            "grid_template_columns": null,
            "grid_template_rows": null,
            "height": null,
            "justify_content": null,
            "justify_items": null,
            "left": null,
            "margin": null,
            "max_height": null,
            "max_width": null,
            "min_height": null,
            "min_width": null,
            "object_fit": null,
            "object_position": null,
            "order": null,
            "overflow": null,
            "overflow_x": null,
            "overflow_y": null,
            "padding": null,
            "right": null,
            "top": null,
            "visibility": null,
            "width": null
          }
        },
        "be6205dff2584940ade797ffa847d39a": {
          "model_module": "@jupyter-widgets/base",
          "model_name": "LayoutModel",
          "model_module_version": "1.2.0",
          "state": {
            "_model_module": "@jupyter-widgets/base",
            "_model_module_version": "1.2.0",
            "_model_name": "LayoutModel",
            "_view_count": null,
            "_view_module": "@jupyter-widgets/base",
            "_view_module_version": "1.2.0",
            "_view_name": "LayoutView",
            "align_content": null,
            "align_items": null,
            "align_self": null,
            "border": null,
            "bottom": null,
            "display": null,
            "flex": null,
            "flex_flow": null,
            "grid_area": null,
            "grid_auto_columns": null,
            "grid_auto_flow": null,
            "grid_auto_rows": null,
            "grid_column": null,
            "grid_gap": null,
            "grid_row": null,
            "grid_template_areas": null,
            "grid_template_columns": null,
            "grid_template_rows": null,
            "height": null,
            "justify_content": null,
            "justify_items": null,
            "left": null,
            "margin": null,
            "max_height": null,
            "max_width": null,
            "min_height": null,
            "min_width": null,
            "object_fit": null,
            "object_position": null,
            "order": null,
            "overflow": null,
            "overflow_x": null,
            "overflow_y": null,
            "padding": null,
            "right": null,
            "top": null,
            "visibility": null,
            "width": null
          }
        },
        "664d9ce0ab554d04b38d12aff45ee900": {
          "model_module": "@jupyter-widgets/controls",
          "model_name": "DescriptionStyleModel",
          "model_module_version": "1.5.0",
          "state": {
            "_model_module": "@jupyter-widgets/controls",
            "_model_module_version": "1.5.0",
            "_model_name": "DescriptionStyleModel",
            "_view_count": null,
            "_view_module": "@jupyter-widgets/base",
            "_view_module_version": "1.2.0",
            "_view_name": "StyleView",
            "description_width": ""
          }
        },
        "77b122095d1544749d35af1b2bdb6be4": {
          "model_module": "@jupyter-widgets/base",
          "model_name": "LayoutModel",
          "model_module_version": "1.2.0",
          "state": {
            "_model_module": "@jupyter-widgets/base",
            "_model_module_version": "1.2.0",
            "_model_name": "LayoutModel",
            "_view_count": null,
            "_view_module": "@jupyter-widgets/base",
            "_view_module_version": "1.2.0",
            "_view_name": "LayoutView",
            "align_content": null,
            "align_items": null,
            "align_self": null,
            "border": null,
            "bottom": null,
            "display": null,
            "flex": null,
            "flex_flow": null,
            "grid_area": null,
            "grid_auto_columns": null,
            "grid_auto_flow": null,
            "grid_auto_rows": null,
            "grid_column": null,
            "grid_gap": null,
            "grid_row": null,
            "grid_template_areas": null,
            "grid_template_columns": null,
            "grid_template_rows": null,
            "height": null,
            "justify_content": null,
            "justify_items": null,
            "left": null,
            "margin": null,
            "max_height": null,
            "max_width": null,
            "min_height": null,
            "min_width": null,
            "object_fit": null,
            "object_position": null,
            "order": null,
            "overflow": null,
            "overflow_x": null,
            "overflow_y": null,
            "padding": null,
            "right": null,
            "top": null,
            "visibility": null,
            "width": null
          }
        },
        "1e1df7fca1864d489fde6de3e8a602a9": {
          "model_module": "@jupyter-widgets/controls",
          "model_name": "ProgressStyleModel",
          "model_module_version": "1.5.0",
          "state": {
            "_model_module": "@jupyter-widgets/controls",
            "_model_module_version": "1.5.0",
            "_model_name": "ProgressStyleModel",
            "_view_count": null,
            "_view_module": "@jupyter-widgets/base",
            "_view_module_version": "1.2.0",
            "_view_name": "StyleView",
            "bar_color": null,
            "description_width": ""
          }
        },
        "2024507f113f48608ace5bf866f3d02b": {
          "model_module": "@jupyter-widgets/base",
          "model_name": "LayoutModel",
          "model_module_version": "1.2.0",
          "state": {
            "_model_module": "@jupyter-widgets/base",
            "_model_module_version": "1.2.0",
            "_model_name": "LayoutModel",
            "_view_count": null,
            "_view_module": "@jupyter-widgets/base",
            "_view_module_version": "1.2.0",
            "_view_name": "LayoutView",
            "align_content": null,
            "align_items": null,
            "align_self": null,
            "border": null,
            "bottom": null,
            "display": null,
            "flex": null,
            "flex_flow": null,
            "grid_area": null,
            "grid_auto_columns": null,
            "grid_auto_flow": null,
            "grid_auto_rows": null,
            "grid_column": null,
            "grid_gap": null,
            "grid_row": null,
            "grid_template_areas": null,
            "grid_template_columns": null,
            "grid_template_rows": null,
            "height": null,
            "justify_content": null,
            "justify_items": null,
            "left": null,
            "margin": null,
            "max_height": null,
            "max_width": null,
            "min_height": null,
            "min_width": null,
            "object_fit": null,
            "object_position": null,
            "order": null,
            "overflow": null,
            "overflow_x": null,
            "overflow_y": null,
            "padding": null,
            "right": null,
            "top": null,
            "visibility": null,
            "width": null
          }
        },
        "43ec60842b9647deacf9a3614048d441": {
          "model_module": "@jupyter-widgets/controls",
          "model_name": "DescriptionStyleModel",
          "model_module_version": "1.5.0",
          "state": {
            "_model_module": "@jupyter-widgets/controls",
            "_model_module_version": "1.5.0",
            "_model_name": "DescriptionStyleModel",
            "_view_count": null,
            "_view_module": "@jupyter-widgets/base",
            "_view_module_version": "1.2.0",
            "_view_name": "StyleView",
            "description_width": ""
          }
        },
        "d2e68f25ebe140b696f417313ae9483a": {
          "model_module": "@jupyter-widgets/controls",
          "model_name": "HBoxModel",
          "model_module_version": "1.5.0",
          "state": {
            "_dom_classes": [],
            "_model_module": "@jupyter-widgets/controls",
            "_model_module_version": "1.5.0",
            "_model_name": "HBoxModel",
            "_view_count": null,
            "_view_module": "@jupyter-widgets/controls",
            "_view_module_version": "1.5.0",
            "_view_name": "HBoxView",
            "box_style": "",
            "children": [
              "IPY_MODEL_c28d9fc8d3fc4828b13b8081ffa0e779",
              "IPY_MODEL_fd0d0ce628ae48c59b7ac619b6c931cb",
              "IPY_MODEL_17dc36a7c9194ee8b0d457b4f4fad731"
            ],
            "layout": "IPY_MODEL_402ae55530f14a21ac4a743b13e207fa"
          }
        },
        "c28d9fc8d3fc4828b13b8081ffa0e779": {
          "model_module": "@jupyter-widgets/controls",
          "model_name": "HTMLModel",
          "model_module_version": "1.5.0",
          "state": {
            "_dom_classes": [],
            "_model_module": "@jupyter-widgets/controls",
            "_model_module_version": "1.5.0",
            "_model_name": "HTMLModel",
            "_view_count": null,
            "_view_module": "@jupyter-widgets/controls",
            "_view_module_version": "1.5.0",
            "_view_name": "HTMLView",
            "description": "",
            "description_tooltip": null,
            "layout": "IPY_MODEL_38ba8f7952064e99967e6b55944eaf6f",
            "placeholder": "​",
            "style": "IPY_MODEL_52d944d39eb243618e2219b088d9ac11",
            "value": "tokenizer_config.json: 100%"
          }
        },
        "fd0d0ce628ae48c59b7ac619b6c931cb": {
          "model_module": "@jupyter-widgets/controls",
          "model_name": "FloatProgressModel",
          "model_module_version": "1.5.0",
          "state": {
            "_dom_classes": [],
            "_model_module": "@jupyter-widgets/controls",
            "_model_module_version": "1.5.0",
            "_model_name": "FloatProgressModel",
            "_view_count": null,
            "_view_module": "@jupyter-widgets/controls",
            "_view_module_version": "1.5.0",
            "_view_name": "ProgressView",
            "bar_style": "success",
            "description": "",
            "description_tooltip": null,
            "layout": "IPY_MODEL_d78dcf1db6c140369e913e3ec94ef490",
            "max": 381,
            "min": 0,
            "orientation": "horizontal",
            "style": "IPY_MODEL_d3b69075ef374ce4b95b14e4899a9407",
            "value": 381
          }
        },
        "17dc36a7c9194ee8b0d457b4f4fad731": {
          "model_module": "@jupyter-widgets/controls",
          "model_name": "HTMLModel",
          "model_module_version": "1.5.0",
          "state": {
            "_dom_classes": [],
            "_model_module": "@jupyter-widgets/controls",
            "_model_module_version": "1.5.0",
            "_model_name": "HTMLModel",
            "_view_count": null,
            "_view_module": "@jupyter-widgets/controls",
            "_view_module_version": "1.5.0",
            "_view_name": "HTMLView",
            "description": "",
            "description_tooltip": null,
            "layout": "IPY_MODEL_5f4b26eb44554fd08f2da8a09ef4eb7f",
            "placeholder": "​",
            "style": "IPY_MODEL_0cc8bcf6fdfb43d1a01369843922f422",
            "value": " 381/381 [00:00&lt;00:00, 22.1kB/s]"
          }
        },
        "402ae55530f14a21ac4a743b13e207fa": {
          "model_module": "@jupyter-widgets/base",
          "model_name": "LayoutModel",
          "model_module_version": "1.2.0",
          "state": {
            "_model_module": "@jupyter-widgets/base",
            "_model_module_version": "1.2.0",
            "_model_name": "LayoutModel",
            "_view_count": null,
            "_view_module": "@jupyter-widgets/base",
            "_view_module_version": "1.2.0",
            "_view_name": "LayoutView",
            "align_content": null,
            "align_items": null,
            "align_self": null,
            "border": null,
            "bottom": null,
            "display": null,
            "flex": null,
            "flex_flow": null,
            "grid_area": null,
            "grid_auto_columns": null,
            "grid_auto_flow": null,
            "grid_auto_rows": null,
            "grid_column": null,
            "grid_gap": null,
            "grid_row": null,
            "grid_template_areas": null,
            "grid_template_columns": null,
            "grid_template_rows": null,
            "height": null,
            "justify_content": null,
            "justify_items": null,
            "left": null,
            "margin": null,
            "max_height": null,
            "max_width": null,
            "min_height": null,
            "min_width": null,
            "object_fit": null,
            "object_position": null,
            "order": null,
            "overflow": null,
            "overflow_x": null,
            "overflow_y": null,
            "padding": null,
            "right": null,
            "top": null,
            "visibility": null,
            "width": null
          }
        },
        "38ba8f7952064e99967e6b55944eaf6f": {
          "model_module": "@jupyter-widgets/base",
          "model_name": "LayoutModel",
          "model_module_version": "1.2.0",
          "state": {
            "_model_module": "@jupyter-widgets/base",
            "_model_module_version": "1.2.0",
            "_model_name": "LayoutModel",
            "_view_count": null,
            "_view_module": "@jupyter-widgets/base",
            "_view_module_version": "1.2.0",
            "_view_name": "LayoutView",
            "align_content": null,
            "align_items": null,
            "align_self": null,
            "border": null,
            "bottom": null,
            "display": null,
            "flex": null,
            "flex_flow": null,
            "grid_area": null,
            "grid_auto_columns": null,
            "grid_auto_flow": null,
            "grid_auto_rows": null,
            "grid_column": null,
            "grid_gap": null,
            "grid_row": null,
            "grid_template_areas": null,
            "grid_template_columns": null,
            "grid_template_rows": null,
            "height": null,
            "justify_content": null,
            "justify_items": null,
            "left": null,
            "margin": null,
            "max_height": null,
            "max_width": null,
            "min_height": null,
            "min_width": null,
            "object_fit": null,
            "object_position": null,
            "order": null,
            "overflow": null,
            "overflow_x": null,
            "overflow_y": null,
            "padding": null,
            "right": null,
            "top": null,
            "visibility": null,
            "width": null
          }
        },
        "52d944d39eb243618e2219b088d9ac11": {
          "model_module": "@jupyter-widgets/controls",
          "model_name": "DescriptionStyleModel",
          "model_module_version": "1.5.0",
          "state": {
            "_model_module": "@jupyter-widgets/controls",
            "_model_module_version": "1.5.0",
            "_model_name": "DescriptionStyleModel",
            "_view_count": null,
            "_view_module": "@jupyter-widgets/base",
            "_view_module_version": "1.2.0",
            "_view_name": "StyleView",
            "description_width": ""
          }
        },
        "d78dcf1db6c140369e913e3ec94ef490": {
          "model_module": "@jupyter-widgets/base",
          "model_name": "LayoutModel",
          "model_module_version": "1.2.0",
          "state": {
            "_model_module": "@jupyter-widgets/base",
            "_model_module_version": "1.2.0",
            "_model_name": "LayoutModel",
            "_view_count": null,
            "_view_module": "@jupyter-widgets/base",
            "_view_module_version": "1.2.0",
            "_view_name": "LayoutView",
            "align_content": null,
            "align_items": null,
            "align_self": null,
            "border": null,
            "bottom": null,
            "display": null,
            "flex": null,
            "flex_flow": null,
            "grid_area": null,
            "grid_auto_columns": null,
            "grid_auto_flow": null,
            "grid_auto_rows": null,
            "grid_column": null,
            "grid_gap": null,
            "grid_row": null,
            "grid_template_areas": null,
            "grid_template_columns": null,
            "grid_template_rows": null,
            "height": null,
            "justify_content": null,
            "justify_items": null,
            "left": null,
            "margin": null,
            "max_height": null,
            "max_width": null,
            "min_height": null,
            "min_width": null,
            "object_fit": null,
            "object_position": null,
            "order": null,
            "overflow": null,
            "overflow_x": null,
            "overflow_y": null,
            "padding": null,
            "right": null,
            "top": null,
            "visibility": null,
            "width": null
          }
        },
        "d3b69075ef374ce4b95b14e4899a9407": {
          "model_module": "@jupyter-widgets/controls",
          "model_name": "ProgressStyleModel",
          "model_module_version": "1.5.0",
          "state": {
            "_model_module": "@jupyter-widgets/controls",
            "_model_module_version": "1.5.0",
            "_model_name": "ProgressStyleModel",
            "_view_count": null,
            "_view_module": "@jupyter-widgets/base",
            "_view_module_version": "1.2.0",
            "_view_name": "StyleView",
            "bar_color": null,
            "description_width": ""
          }
        },
        "5f4b26eb44554fd08f2da8a09ef4eb7f": {
          "model_module": "@jupyter-widgets/base",
          "model_name": "LayoutModel",
          "model_module_version": "1.2.0",
          "state": {
            "_model_module": "@jupyter-widgets/base",
            "_model_module_version": "1.2.0",
            "_model_name": "LayoutModel",
            "_view_count": null,
            "_view_module": "@jupyter-widgets/base",
            "_view_module_version": "1.2.0",
            "_view_name": "LayoutView",
            "align_content": null,
            "align_items": null,
            "align_self": null,
            "border": null,
            "bottom": null,
            "display": null,
            "flex": null,
            "flex_flow": null,
            "grid_area": null,
            "grid_auto_columns": null,
            "grid_auto_flow": null,
            "grid_auto_rows": null,
            "grid_column": null,
            "grid_gap": null,
            "grid_row": null,
            "grid_template_areas": null,
            "grid_template_columns": null,
            "grid_template_rows": null,
            "height": null,
            "justify_content": null,
            "justify_items": null,
            "left": null,
            "margin": null,
            "max_height": null,
            "max_width": null,
            "min_height": null,
            "min_width": null,
            "object_fit": null,
            "object_position": null,
            "order": null,
            "overflow": null,
            "overflow_x": null,
            "overflow_y": null,
            "padding": null,
            "right": null,
            "top": null,
            "visibility": null,
            "width": null
          }
        },
        "0cc8bcf6fdfb43d1a01369843922f422": {
          "model_module": "@jupyter-widgets/controls",
          "model_name": "DescriptionStyleModel",
          "model_module_version": "1.5.0",
          "state": {
            "_model_module": "@jupyter-widgets/controls",
            "_model_module_version": "1.5.0",
            "_model_name": "DescriptionStyleModel",
            "_view_count": null,
            "_view_module": "@jupyter-widgets/base",
            "_view_module_version": "1.2.0",
            "_view_name": "StyleView",
            "description_width": ""
          }
        },
        "05e046e2a5294cdaa7e0e4b7aa0d7d87": {
          "model_module": "@jupyter-widgets/controls",
          "model_name": "HBoxModel",
          "model_module_version": "1.5.0",
          "state": {
            "_dom_classes": [],
            "_model_module": "@jupyter-widgets/controls",
            "_model_module_version": "1.5.0",
            "_model_name": "HBoxModel",
            "_view_count": null,
            "_view_module": "@jupyter-widgets/controls",
            "_view_module_version": "1.5.0",
            "_view_name": "HBoxView",
            "box_style": "",
            "children": [
              "IPY_MODEL_856501470c7242a3a93877dabbae0b62",
              "IPY_MODEL_64d4c27bb8e3402d902cbffd72602c98",
              "IPY_MODEL_bea65f1a8309424cbe464b46237a4fc0"
            ],
            "layout": "IPY_MODEL_7875b7ffd0db4fe1a77e6dfcbc85fb11"
          }
        },
        "856501470c7242a3a93877dabbae0b62": {
          "model_module": "@jupyter-widgets/controls",
          "model_name": "HTMLModel",
          "model_module_version": "1.5.0",
          "state": {
            "_dom_classes": [],
            "_model_module": "@jupyter-widgets/controls",
            "_model_module_version": "1.5.0",
            "_model_name": "HTMLModel",
            "_view_count": null,
            "_view_module": "@jupyter-widgets/controls",
            "_view_module_version": "1.5.0",
            "_view_name": "HTMLView",
            "description": "",
            "description_tooltip": null,
            "layout": "IPY_MODEL_3e3ced325eaf4750b4be7ec80414b04a",
            "placeholder": "​",
            "style": "IPY_MODEL_90c9273f26b5445bbdb81d7ec7590a01",
            "value": "vocab.txt: 100%"
          }
        },
        "64d4c27bb8e3402d902cbffd72602c98": {
          "model_module": "@jupyter-widgets/controls",
          "model_name": "FloatProgressModel",
          "model_module_version": "1.5.0",
          "state": {
            "_dom_classes": [],
            "_model_module": "@jupyter-widgets/controls",
            "_model_module_version": "1.5.0",
            "_model_name": "FloatProgressModel",
            "_view_count": null,
            "_view_module": "@jupyter-widgets/controls",
            "_view_module_version": "1.5.0",
            "_view_name": "ProgressView",
            "bar_style": "success",
            "description": "",
            "description_tooltip": null,
            "layout": "IPY_MODEL_669b7d7ed01f4b168b6c1459ac042c75",
            "max": 824793,
            "min": 0,
            "orientation": "horizontal",
            "style": "IPY_MODEL_00e022fb57684f839ac3e28d01a304a0",
            "value": 824793
          }
        },
        "bea65f1a8309424cbe464b46237a4fc0": {
          "model_module": "@jupyter-widgets/controls",
          "model_name": "HTMLModel",
          "model_module_version": "1.5.0",
          "state": {
            "_dom_classes": [],
            "_model_module": "@jupyter-widgets/controls",
            "_model_module_version": "1.5.0",
            "_model_name": "HTMLModel",
            "_view_count": null,
            "_view_module": "@jupyter-widgets/controls",
            "_view_module_version": "1.5.0",
            "_view_name": "HTMLView",
            "description": "",
            "description_tooltip": null,
            "layout": "IPY_MODEL_ae2bc3311c22497b95a7cdfed135aa86",
            "placeholder": "​",
            "style": "IPY_MODEL_e0da74b8ebb64e6eb6186cc2b4fd7f60",
            "value": " 825k/825k [00:00&lt;00:00, 11.5MB/s]"
          }
        },
        "7875b7ffd0db4fe1a77e6dfcbc85fb11": {
          "model_module": "@jupyter-widgets/base",
          "model_name": "LayoutModel",
          "model_module_version": "1.2.0",
          "state": {
            "_model_module": "@jupyter-widgets/base",
            "_model_module_version": "1.2.0",
            "_model_name": "LayoutModel",
            "_view_count": null,
            "_view_module": "@jupyter-widgets/base",
            "_view_module_version": "1.2.0",
            "_view_name": "LayoutView",
            "align_content": null,
            "align_items": null,
            "align_self": null,
            "border": null,
            "bottom": null,
            "display": null,
            "flex": null,
            "flex_flow": null,
            "grid_area": null,
            "grid_auto_columns": null,
            "grid_auto_flow": null,
            "grid_auto_rows": null,
            "grid_column": null,
            "grid_gap": null,
            "grid_row": null,
            "grid_template_areas": null,
            "grid_template_columns": null,
            "grid_template_rows": null,
            "height": null,
            "justify_content": null,
            "justify_items": null,
            "left": null,
            "margin": null,
            "max_height": null,
            "max_width": null,
            "min_height": null,
            "min_width": null,
            "object_fit": null,
            "object_position": null,
            "order": null,
            "overflow": null,
            "overflow_x": null,
            "overflow_y": null,
            "padding": null,
            "right": null,
            "top": null,
            "visibility": null,
            "width": null
          }
        },
        "3e3ced325eaf4750b4be7ec80414b04a": {
          "model_module": "@jupyter-widgets/base",
          "model_name": "LayoutModel",
          "model_module_version": "1.2.0",
          "state": {
            "_model_module": "@jupyter-widgets/base",
            "_model_module_version": "1.2.0",
            "_model_name": "LayoutModel",
            "_view_count": null,
            "_view_module": "@jupyter-widgets/base",
            "_view_module_version": "1.2.0",
            "_view_name": "LayoutView",
            "align_content": null,
            "align_items": null,
            "align_self": null,
            "border": null,
            "bottom": null,
            "display": null,
            "flex": null,
            "flex_flow": null,
            "grid_area": null,
            "grid_auto_columns": null,
            "grid_auto_flow": null,
            "grid_auto_rows": null,
            "grid_column": null,
            "grid_gap": null,
            "grid_row": null,
            "grid_template_areas": null,
            "grid_template_columns": null,
            "grid_template_rows": null,
            "height": null,
            "justify_content": null,
            "justify_items": null,
            "left": null,
            "margin": null,
            "max_height": null,
            "max_width": null,
            "min_height": null,
            "min_width": null,
            "object_fit": null,
            "object_position": null,
            "order": null,
            "overflow": null,
            "overflow_x": null,
            "overflow_y": null,
            "padding": null,
            "right": null,
            "top": null,
            "visibility": null,
            "width": null
          }
        },
        "90c9273f26b5445bbdb81d7ec7590a01": {
          "model_module": "@jupyter-widgets/controls",
          "model_name": "DescriptionStyleModel",
          "model_module_version": "1.5.0",
          "state": {
            "_model_module": "@jupyter-widgets/controls",
            "_model_module_version": "1.5.0",
            "_model_name": "DescriptionStyleModel",
            "_view_count": null,
            "_view_module": "@jupyter-widgets/base",
            "_view_module_version": "1.2.0",
            "_view_name": "StyleView",
            "description_width": ""
          }
        },
        "669b7d7ed01f4b168b6c1459ac042c75": {
          "model_module": "@jupyter-widgets/base",
          "model_name": "LayoutModel",
          "model_module_version": "1.2.0",
          "state": {
            "_model_module": "@jupyter-widgets/base",
            "_model_module_version": "1.2.0",
            "_model_name": "LayoutModel",
            "_view_count": null,
            "_view_module": "@jupyter-widgets/base",
            "_view_module_version": "1.2.0",
            "_view_name": "LayoutView",
            "align_content": null,
            "align_items": null,
            "align_self": null,
            "border": null,
            "bottom": null,
            "display": null,
            "flex": null,
            "flex_flow": null,
            "grid_area": null,
            "grid_auto_columns": null,
            "grid_auto_flow": null,
            "grid_auto_rows": null,
            "grid_column": null,
            "grid_gap": null,
            "grid_row": null,
            "grid_template_areas": null,
            "grid_template_columns": null,
            "grid_template_rows": null,
            "height": null,
            "justify_content": null,
            "justify_items": null,
            "left": null,
            "margin": null,
            "max_height": null,
            "max_width": null,
            "min_height": null,
            "min_width": null,
            "object_fit": null,
            "object_position": null,
            "order": null,
            "overflow": null,
            "overflow_x": null,
            "overflow_y": null,
            "padding": null,
            "right": null,
            "top": null,
            "visibility": null,
            "width": null
          }
        },
        "00e022fb57684f839ac3e28d01a304a0": {
          "model_module": "@jupyter-widgets/controls",
          "model_name": "ProgressStyleModel",
          "model_module_version": "1.5.0",
          "state": {
            "_model_module": "@jupyter-widgets/controls",
            "_model_module_version": "1.5.0",
            "_model_name": "ProgressStyleModel",
            "_view_count": null,
            "_view_module": "@jupyter-widgets/base",
            "_view_module_version": "1.2.0",
            "_view_name": "StyleView",
            "bar_color": null,
            "description_width": ""
          }
        },
        "ae2bc3311c22497b95a7cdfed135aa86": {
          "model_module": "@jupyter-widgets/base",
          "model_name": "LayoutModel",
          "model_module_version": "1.2.0",
          "state": {
            "_model_module": "@jupyter-widgets/base",
            "_model_module_version": "1.2.0",
            "_model_name": "LayoutModel",
            "_view_count": null,
            "_view_module": "@jupyter-widgets/base",
            "_view_module_version": "1.2.0",
            "_view_name": "LayoutView",
            "align_content": null,
            "align_items": null,
            "align_self": null,
            "border": null,
            "bottom": null,
            "display": null,
            "flex": null,
            "flex_flow": null,
            "grid_area": null,
            "grid_auto_columns": null,
            "grid_auto_flow": null,
            "grid_auto_rows": null,
            "grid_column": null,
            "grid_gap": null,
            "grid_row": null,
            "grid_template_areas": null,
            "grid_template_columns": null,
            "grid_template_rows": null,
            "height": null,
            "justify_content": null,
            "justify_items": null,
            "left": null,
            "margin": null,
            "max_height": null,
            "max_width": null,
            "min_height": null,
            "min_width": null,
            "object_fit": null,
            "object_position": null,
            "order": null,
            "overflow": null,
            "overflow_x": null,
            "overflow_y": null,
            "padding": null,
            "right": null,
            "top": null,
            "visibility": null,
            "width": null
          }
        },
        "e0da74b8ebb64e6eb6186cc2b4fd7f60": {
          "model_module": "@jupyter-widgets/controls",
          "model_name": "DescriptionStyleModel",
          "model_module_version": "1.5.0",
          "state": {
            "_model_module": "@jupyter-widgets/controls",
            "_model_module_version": "1.5.0",
            "_model_name": "DescriptionStyleModel",
            "_view_count": null,
            "_view_module": "@jupyter-widgets/base",
            "_view_module_version": "1.2.0",
            "_view_name": "StyleView",
            "description_width": ""
          }
        },
        "02948e40a8b346e3a0303af00189796e": {
          "model_module": "@jupyter-widgets/controls",
          "model_name": "HBoxModel",
          "model_module_version": "1.5.0",
          "state": {
            "_dom_classes": [],
            "_model_module": "@jupyter-widgets/controls",
            "_model_module_version": "1.5.0",
            "_model_name": "HBoxModel",
            "_view_count": null,
            "_view_module": "@jupyter-widgets/controls",
            "_view_module_version": "1.5.0",
            "_view_name": "HBoxView",
            "box_style": "",
            "children": [
              "IPY_MODEL_620b83058d134a54b906d7b97d68882c",
              "IPY_MODEL_97f2bcc009e64696966873b1bc21a97a",
              "IPY_MODEL_5bffca1e8deb4003a91b29d58727505a"
            ],
            "layout": "IPY_MODEL_f6faf8c5bcf04eecb4e9180cc924024a"
          }
        },
        "620b83058d134a54b906d7b97d68882c": {
          "model_module": "@jupyter-widgets/controls",
          "model_name": "HTMLModel",
          "model_module_version": "1.5.0",
          "state": {
            "_dom_classes": [],
            "_model_module": "@jupyter-widgets/controls",
            "_model_module_version": "1.5.0",
            "_model_name": "HTMLModel",
            "_view_count": null,
            "_view_module": "@jupyter-widgets/controls",
            "_view_module_version": "1.5.0",
            "_view_name": "HTMLView",
            "description": "",
            "description_tooltip": null,
            "layout": "IPY_MODEL_67ba21111a294a60a5be4af07f8368d0",
            "placeholder": "​",
            "style": "IPY_MODEL_e6c53c85fd2d4dda89a2db70366ab82f",
            "value": "tokenizer.json: 100%"
          }
        },
        "97f2bcc009e64696966873b1bc21a97a": {
          "model_module": "@jupyter-widgets/controls",
          "model_name": "FloatProgressModel",
          "model_module_version": "1.5.0",
          "state": {
            "_dom_classes": [],
            "_model_module": "@jupyter-widgets/controls",
            "_model_module_version": "1.5.0",
            "_model_name": "FloatProgressModel",
            "_view_count": null,
            "_view_module": "@jupyter-widgets/controls",
            "_view_module_version": "1.5.0",
            "_view_name": "ProgressView",
            "bar_style": "success",
            "description": "",
            "description_tooltip": null,
            "layout": "IPY_MODEL_ccd2ef0703dc4f21b1f116f7fde15c5b",
            "max": 2642362,
            "min": 0,
            "orientation": "horizontal",
            "style": "IPY_MODEL_7295bf42babf43cba6944c55c4e7596d",
            "value": 2642362
          }
        },
        "5bffca1e8deb4003a91b29d58727505a": {
          "model_module": "@jupyter-widgets/controls",
          "model_name": "HTMLModel",
          "model_module_version": "1.5.0",
          "state": {
            "_dom_classes": [],
            "_model_module": "@jupyter-widgets/controls",
            "_model_module_version": "1.5.0",
            "_model_name": "HTMLModel",
            "_view_count": null,
            "_view_module": "@jupyter-widgets/controls",
            "_view_module_version": "1.5.0",
            "_view_name": "HTMLView",
            "description": "",
            "description_tooltip": null,
            "layout": "IPY_MODEL_0f95afcc02754112b39670f258618906",
            "placeholder": "​",
            "style": "IPY_MODEL_48be8f035d1c4c11ba4a998b7b7aacc1",
            "value": " 2.64M/2.64M [00:00&lt;00:00, 21.2MB/s]"
          }
        },
        "f6faf8c5bcf04eecb4e9180cc924024a": {
          "model_module": "@jupyter-widgets/base",
          "model_name": "LayoutModel",
          "model_module_version": "1.2.0",
          "state": {
            "_model_module": "@jupyter-widgets/base",
            "_model_module_version": "1.2.0",
            "_model_name": "LayoutModel",
            "_view_count": null,
            "_view_module": "@jupyter-widgets/base",
            "_view_module_version": "1.2.0",
            "_view_name": "LayoutView",
            "align_content": null,
            "align_items": null,
            "align_self": null,
            "border": null,
            "bottom": null,
            "display": null,
            "flex": null,
            "flex_flow": null,
            "grid_area": null,
            "grid_auto_columns": null,
            "grid_auto_flow": null,
            "grid_auto_rows": null,
            "grid_column": null,
            "grid_gap": null,
            "grid_row": null,
            "grid_template_areas": null,
            "grid_template_columns": null,
            "grid_template_rows": null,
            "height": null,
            "justify_content": null,
            "justify_items": null,
            "left": null,
            "margin": null,
            "max_height": null,
            "max_width": null,
            "min_height": null,
            "min_width": null,
            "object_fit": null,
            "object_position": null,
            "order": null,
            "overflow": null,
            "overflow_x": null,
            "overflow_y": null,
            "padding": null,
            "right": null,
            "top": null,
            "visibility": null,
            "width": null
          }
        },
        "67ba21111a294a60a5be4af07f8368d0": {
          "model_module": "@jupyter-widgets/base",
          "model_name": "LayoutModel",
          "model_module_version": "1.2.0",
          "state": {
            "_model_module": "@jupyter-widgets/base",
            "_model_module_version": "1.2.0",
            "_model_name": "LayoutModel",
            "_view_count": null,
            "_view_module": "@jupyter-widgets/base",
            "_view_module_version": "1.2.0",
            "_view_name": "LayoutView",
            "align_content": null,
            "align_items": null,
            "align_self": null,
            "border": null,
            "bottom": null,
            "display": null,
            "flex": null,
            "flex_flow": null,
            "grid_area": null,
            "grid_auto_columns": null,
            "grid_auto_flow": null,
            "grid_auto_rows": null,
            "grid_column": null,
            "grid_gap": null,
            "grid_row": null,
            "grid_template_areas": null,
            "grid_template_columns": null,
            "grid_template_rows": null,
            "height": null,
            "justify_content": null,
            "justify_items": null,
            "left": null,
            "margin": null,
            "max_height": null,
            "max_width": null,
            "min_height": null,
            "min_width": null,
            "object_fit": null,
            "object_position": null,
            "order": null,
            "overflow": null,
            "overflow_x": null,
            "overflow_y": null,
            "padding": null,
            "right": null,
            "top": null,
            "visibility": null,
            "width": null
          }
        },
        "e6c53c85fd2d4dda89a2db70366ab82f": {
          "model_module": "@jupyter-widgets/controls",
          "model_name": "DescriptionStyleModel",
          "model_module_version": "1.5.0",
          "state": {
            "_model_module": "@jupyter-widgets/controls",
            "_model_module_version": "1.5.0",
            "_model_name": "DescriptionStyleModel",
            "_view_count": null,
            "_view_module": "@jupyter-widgets/base",
            "_view_module_version": "1.2.0",
            "_view_name": "StyleView",
            "description_width": ""
          }
        },
        "ccd2ef0703dc4f21b1f116f7fde15c5b": {
          "model_module": "@jupyter-widgets/base",
          "model_name": "LayoutModel",
          "model_module_version": "1.2.0",
          "state": {
            "_model_module": "@jupyter-widgets/base",
            "_model_module_version": "1.2.0",
            "_model_name": "LayoutModel",
            "_view_count": null,
            "_view_module": "@jupyter-widgets/base",
            "_view_module_version": "1.2.0",
            "_view_name": "LayoutView",
            "align_content": null,
            "align_items": null,
            "align_self": null,
            "border": null,
            "bottom": null,
            "display": null,
            "flex": null,
            "flex_flow": null,
            "grid_area": null,
            "grid_auto_columns": null,
            "grid_auto_flow": null,
            "grid_auto_rows": null,
            "grid_column": null,
            "grid_gap": null,
            "grid_row": null,
            "grid_template_areas": null,
            "grid_template_columns": null,
            "grid_template_rows": null,
            "height": null,
            "justify_content": null,
            "justify_items": null,
            "left": null,
            "margin": null,
            "max_height": null,
            "max_width": null,
            "min_height": null,
            "min_width": null,
            "object_fit": null,
            "object_position": null,
            "order": null,
            "overflow": null,
            "overflow_x": null,
            "overflow_y": null,
            "padding": null,
            "right": null,
            "top": null,
            "visibility": null,
            "width": null
          }
        },
        "7295bf42babf43cba6944c55c4e7596d": {
          "model_module": "@jupyter-widgets/controls",
          "model_name": "ProgressStyleModel",
          "model_module_version": "1.5.0",
          "state": {
            "_model_module": "@jupyter-widgets/controls",
            "_model_module_version": "1.5.0",
            "_model_name": "ProgressStyleModel",
            "_view_count": null,
            "_view_module": "@jupyter-widgets/base",
            "_view_module_version": "1.2.0",
            "_view_name": "StyleView",
            "bar_color": null,
            "description_width": ""
          }
        },
        "0f95afcc02754112b39670f258618906": {
          "model_module": "@jupyter-widgets/base",
          "model_name": "LayoutModel",
          "model_module_version": "1.2.0",
          "state": {
            "_model_module": "@jupyter-widgets/base",
            "_model_module_version": "1.2.0",
            "_model_name": "LayoutModel",
            "_view_count": null,
            "_view_module": "@jupyter-widgets/base",
            "_view_module_version": "1.2.0",
            "_view_name": "LayoutView",
            "align_content": null,
            "align_items": null,
            "align_self": null,
            "border": null,
            "bottom": null,
            "display": null,
            "flex": null,
            "flex_flow": null,
            "grid_area": null,
            "grid_auto_columns": null,
            "grid_auto_flow": null,
            "grid_auto_rows": null,
            "grid_column": null,
            "grid_gap": null,
            "grid_row": null,
            "grid_template_areas": null,
            "grid_template_columns": null,
            "grid_template_rows": null,
            "height": null,
            "justify_content": null,
            "justify_items": null,
            "left": null,
            "margin": null,
            "max_height": null,
            "max_width": null,
            "min_height": null,
            "min_width": null,
            "object_fit": null,
            "object_position": null,
            "order": null,
            "overflow": null,
            "overflow_x": null,
            "overflow_y": null,
            "padding": null,
            "right": null,
            "top": null,
            "visibility": null,
            "width": null
          }
        },
        "48be8f035d1c4c11ba4a998b7b7aacc1": {
          "model_module": "@jupyter-widgets/controls",
          "model_name": "DescriptionStyleModel",
          "model_module_version": "1.5.0",
          "state": {
            "_model_module": "@jupyter-widgets/controls",
            "_model_module_version": "1.5.0",
            "_model_name": "DescriptionStyleModel",
            "_view_count": null,
            "_view_module": "@jupyter-widgets/base",
            "_view_module_version": "1.2.0",
            "_view_name": "StyleView",
            "description_width": ""
          }
        },
        "388273d30ab5487096d58548959f1ca6": {
          "model_module": "@jupyter-widgets/controls",
          "model_name": "HBoxModel",
          "model_module_version": "1.5.0",
          "state": {
            "_dom_classes": [],
            "_model_module": "@jupyter-widgets/controls",
            "_model_module_version": "1.5.0",
            "_model_name": "HBoxModel",
            "_view_count": null,
            "_view_module": "@jupyter-widgets/controls",
            "_view_module_version": "1.5.0",
            "_view_name": "HBoxView",
            "box_style": "",
            "children": [
              "IPY_MODEL_4f39e7783cd4470bbc183036b0aaed24",
              "IPY_MODEL_58072a54f09e40d4adac571e077607af",
              "IPY_MODEL_607b03d38bb84cb69602b0fd1622cd3f"
            ],
            "layout": "IPY_MODEL_11fe8528483845d6bd10f106d4012e0d"
          }
        },
        "4f39e7783cd4470bbc183036b0aaed24": {
          "model_module": "@jupyter-widgets/controls",
          "model_name": "HTMLModel",
          "model_module_version": "1.5.0",
          "state": {
            "_dom_classes": [],
            "_model_module": "@jupyter-widgets/controls",
            "_model_module_version": "1.5.0",
            "_model_name": "HTMLModel",
            "_view_count": null,
            "_view_module": "@jupyter-widgets/controls",
            "_view_module_version": "1.5.0",
            "_view_name": "HTMLView",
            "description": "",
            "description_tooltip": null,
            "layout": "IPY_MODEL_2f9ef7d8648146e989ad9b44a8c55f7b",
            "placeholder": "​",
            "style": "IPY_MODEL_f2624eaaf2c24be6b2120a4d57e78a27",
            "value": "special_tokens_map.json: 100%"
          }
        },
        "58072a54f09e40d4adac571e077607af": {
          "model_module": "@jupyter-widgets/controls",
          "model_name": "FloatProgressModel",
          "model_module_version": "1.5.0",
          "state": {
            "_dom_classes": [],
            "_model_module": "@jupyter-widgets/controls",
            "_model_module_version": "1.5.0",
            "_model_name": "FloatProgressModel",
            "_view_count": null,
            "_view_module": "@jupyter-widgets/controls",
            "_view_module_version": "1.5.0",
            "_view_name": "ProgressView",
            "bar_style": "success",
            "description": "",
            "description_tooltip": null,
            "layout": "IPY_MODEL_4a0218a27da04dc48a4dcafa9f9b1b30",
            "max": 112,
            "min": 0,
            "orientation": "horizontal",
            "style": "IPY_MODEL_a92a9525c44547eda25a778beaf30101",
            "value": 112
          }
        },
        "607b03d38bb84cb69602b0fd1622cd3f": {
          "model_module": "@jupyter-widgets/controls",
          "model_name": "HTMLModel",
          "model_module_version": "1.5.0",
          "state": {
            "_dom_classes": [],
            "_model_module": "@jupyter-widgets/controls",
            "_model_module_version": "1.5.0",
            "_model_name": "HTMLModel",
            "_view_count": null,
            "_view_module": "@jupyter-widgets/controls",
            "_view_module_version": "1.5.0",
            "_view_name": "HTMLView",
            "description": "",
            "description_tooltip": null,
            "layout": "IPY_MODEL_59f46df36edc43cc9448730c6b586554",
            "placeholder": "​",
            "style": "IPY_MODEL_2702b49b967542fbb67b21c94f168bef",
            "value": " 112/112 [00:00&lt;00:00, 6.55kB/s]"
          }
        },
        "11fe8528483845d6bd10f106d4012e0d": {
          "model_module": "@jupyter-widgets/base",
          "model_name": "LayoutModel",
          "model_module_version": "1.2.0",
          "state": {
            "_model_module": "@jupyter-widgets/base",
            "_model_module_version": "1.2.0",
            "_model_name": "LayoutModel",
            "_view_count": null,
            "_view_module": "@jupyter-widgets/base",
            "_view_module_version": "1.2.0",
            "_view_name": "LayoutView",
            "align_content": null,
            "align_items": null,
            "align_self": null,
            "border": null,
            "bottom": null,
            "display": null,
            "flex": null,
            "flex_flow": null,
            "grid_area": null,
            "grid_auto_columns": null,
            "grid_auto_flow": null,
            "grid_auto_rows": null,
            "grid_column": null,
            "grid_gap": null,
            "grid_row": null,
            "grid_template_areas": null,
            "grid_template_columns": null,
            "grid_template_rows": null,
            "height": null,
            "justify_content": null,
            "justify_items": null,
            "left": null,
            "margin": null,
            "max_height": null,
            "max_width": null,
            "min_height": null,
            "min_width": null,
            "object_fit": null,
            "object_position": null,
            "order": null,
            "overflow": null,
            "overflow_x": null,
            "overflow_y": null,
            "padding": null,
            "right": null,
            "top": null,
            "visibility": null,
            "width": null
          }
        },
        "2f9ef7d8648146e989ad9b44a8c55f7b": {
          "model_module": "@jupyter-widgets/base",
          "model_name": "LayoutModel",
          "model_module_version": "1.2.0",
          "state": {
            "_model_module": "@jupyter-widgets/base",
            "_model_module_version": "1.2.0",
            "_model_name": "LayoutModel",
            "_view_count": null,
            "_view_module": "@jupyter-widgets/base",
            "_view_module_version": "1.2.0",
            "_view_name": "LayoutView",
            "align_content": null,
            "align_items": null,
            "align_self": null,
            "border": null,
            "bottom": null,
            "display": null,
            "flex": null,
            "flex_flow": null,
            "grid_area": null,
            "grid_auto_columns": null,
            "grid_auto_flow": null,
            "grid_auto_rows": null,
            "grid_column": null,
            "grid_gap": null,
            "grid_row": null,
            "grid_template_areas": null,
            "grid_template_columns": null,
            "grid_template_rows": null,
            "height": null,
            "justify_content": null,
            "justify_items": null,
            "left": null,
            "margin": null,
            "max_height": null,
            "max_width": null,
            "min_height": null,
            "min_width": null,
            "object_fit": null,
            "object_position": null,
            "order": null,
            "overflow": null,
            "overflow_x": null,
            "overflow_y": null,
            "padding": null,
            "right": null,
            "top": null,
            "visibility": null,
            "width": null
          }
        },
        "f2624eaaf2c24be6b2120a4d57e78a27": {
          "model_module": "@jupyter-widgets/controls",
          "model_name": "DescriptionStyleModel",
          "model_module_version": "1.5.0",
          "state": {
            "_model_module": "@jupyter-widgets/controls",
            "_model_module_version": "1.5.0",
            "_model_name": "DescriptionStyleModel",
            "_view_count": null,
            "_view_module": "@jupyter-widgets/base",
            "_view_module_version": "1.2.0",
            "_view_name": "StyleView",
            "description_width": ""
          }
        },
        "4a0218a27da04dc48a4dcafa9f9b1b30": {
          "model_module": "@jupyter-widgets/base",
          "model_name": "LayoutModel",
          "model_module_version": "1.2.0",
          "state": {
            "_model_module": "@jupyter-widgets/base",
            "_model_module_version": "1.2.0",
            "_model_name": "LayoutModel",
            "_view_count": null,
            "_view_module": "@jupyter-widgets/base",
            "_view_module_version": "1.2.0",
            "_view_name": "LayoutView",
            "align_content": null,
            "align_items": null,
            "align_self": null,
            "border": null,
            "bottom": null,
            "display": null,
            "flex": null,
            "flex_flow": null,
            "grid_area": null,
            "grid_auto_columns": null,
            "grid_auto_flow": null,
            "grid_auto_rows": null,
            "grid_column": null,
            "grid_gap": null,
            "grid_row": null,
            "grid_template_areas": null,
            "grid_template_columns": null,
            "grid_template_rows": null,
            "height": null,
            "justify_content": null,
            "justify_items": null,
            "left": null,
            "margin": null,
            "max_height": null,
            "max_width": null,
            "min_height": null,
            "min_width": null,
            "object_fit": null,
            "object_position": null,
            "order": null,
            "overflow": null,
            "overflow_x": null,
            "overflow_y": null,
            "padding": null,
            "right": null,
            "top": null,
            "visibility": null,
            "width": null
          }
        },
        "a92a9525c44547eda25a778beaf30101": {
          "model_module": "@jupyter-widgets/controls",
          "model_name": "ProgressStyleModel",
          "model_module_version": "1.5.0",
          "state": {
            "_model_module": "@jupyter-widgets/controls",
            "_model_module_version": "1.5.0",
            "_model_name": "ProgressStyleModel",
            "_view_count": null,
            "_view_module": "@jupyter-widgets/base",
            "_view_module_version": "1.2.0",
            "_view_name": "StyleView",
            "bar_color": null,
            "description_width": ""
          }
        },
        "59f46df36edc43cc9448730c6b586554": {
          "model_module": "@jupyter-widgets/base",
          "model_name": "LayoutModel",
          "model_module_version": "1.2.0",
          "state": {
            "_model_module": "@jupyter-widgets/base",
            "_model_module_version": "1.2.0",
            "_model_name": "LayoutModel",
            "_view_count": null,
            "_view_module": "@jupyter-widgets/base",
            "_view_module_version": "1.2.0",
            "_view_name": "LayoutView",
            "align_content": null,
            "align_items": null,
            "align_self": null,
            "border": null,
            "bottom": null,
            "display": null,
            "flex": null,
            "flex_flow": null,
            "grid_area": null,
            "grid_auto_columns": null,
            "grid_auto_flow": null,
            "grid_auto_rows": null,
            "grid_column": null,
            "grid_gap": null,
            "grid_row": null,
            "grid_template_areas": null,
            "grid_template_columns": null,
            "grid_template_rows": null,
            "height": null,
            "justify_content": null,
            "justify_items": null,
            "left": null,
            "margin": null,
            "max_height": null,
            "max_width": null,
            "min_height": null,
            "min_width": null,
            "object_fit": null,
            "object_position": null,
            "order": null,
            "overflow": null,
            "overflow_x": null,
            "overflow_y": null,
            "padding": null,
            "right": null,
            "top": null,
            "visibility": null,
            "width": null
          }
        },
        "2702b49b967542fbb67b21c94f168bef": {
          "model_module": "@jupyter-widgets/controls",
          "model_name": "DescriptionStyleModel",
          "model_module_version": "1.5.0",
          "state": {
            "_model_module": "@jupyter-widgets/controls",
            "_model_module_version": "1.5.0",
            "_model_name": "DescriptionStyleModel",
            "_view_count": null,
            "_view_module": "@jupyter-widgets/base",
            "_view_module_version": "1.2.0",
            "_view_name": "StyleView",
            "description_width": ""
          }
        }
      }
    }
  },
  "nbformat": 4,
  "nbformat_minor": 5
}