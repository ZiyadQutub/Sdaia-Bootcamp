{
  "cells": [
    {
      "cell_type": "markdown",
      "id": "6338e9cf",
      "metadata": {
        "id": "6338e9cf"
      },
      "source": [
        "# Fine-tuning a Sequence Classification Model Exam"
      ]
    },
    {
      "cell_type": "markdown",
      "id": "cc78efcc",
      "metadata": {
        "id": "cc78efcc"
      },
      "source": [
        "In this exam, you will be tasked with performing dataset preprocessing and fine-tuning a model for sequence classification. Complete each step carefully according to the instructions provided.\n",
        "\n",
        "### Model and Dataset Information\n",
        "\n",
        "For this task, you will be working with the following:\n",
        "\n",
        "- **Model Checkpoint**: Use the pre-trained model checkpoint `aubmindlab/bert-base-arabertv02` for both the model and tokenizer.\n",
        "- **Dataset**: You will be using the `CUTD/sanad_df` dataset. Ensure to load and preprocess the dataset correctly for training and evaluation.\n",
        "\n",
        "**Note:**\n",
        "- Any additional steps or methods you include that improve or enhance the results will be rewarded with bonus points if they are justified.\n",
        "- The steps outlined here are suggestions. You are free to implement alternative methods or approaches to achieve the task, as long as you explain the reasoning and the process at the bottom of the notebook.\n",
        "- You can use either TensorFlow or PyTorch for this task. If you prefer TensorFlow, feel free to use it when working with Hugging Face Transformers.\n",
        "- The number of data samples you choose to work with is flexible. However, if you select a very low number of samples and the training time is too short, this could affect the evaluation of your work."
      ]
    },
    {
      "cell_type": "markdown",
      "id": "e4aded80",
      "metadata": {
        "id": "e4aded80"
      },
      "source": [
        "## Step 1: Load the Dataset"
      ]
    },
    {
      "cell_type": "markdown",
      "id": "d54930f9",
      "metadata": {
        "id": "d54930f9"
      },
      "source": [
        "Load the dataset and split it into training and test sets. Use 20% of the data for testing."
      ]
    },
    {
      "cell_type": "code",
      "execution_count": 1,
      "id": "ef64e03c",
      "metadata": {
        "id": "ef64e03c",
        "collapsed": true,
        "colab": {
          "base_uri": "https://localhost:8080/"
        },
        "outputId": "5c79c2d1-6483-4dc8-f207-2d43e99fd57b"
      },
      "outputs": [
        {
          "output_type": "stream",
          "name": "stdout",
          "text": [
            "Requirement already satisfied: transformers in /usr/local/lib/python3.10/dist-packages (4.44.2)\n",
            "Collecting datasets\n",
            "  Downloading datasets-3.0.0-py3-none-any.whl.metadata (19 kB)\n",
            "Requirement already satisfied: filelock in /usr/local/lib/python3.10/dist-packages (from transformers) (3.16.0)\n",
            "Requirement already satisfied: huggingface-hub<1.0,>=0.23.2 in /usr/local/lib/python3.10/dist-packages (from transformers) (0.24.6)\n",
            "Requirement already satisfied: numpy>=1.17 in /usr/local/lib/python3.10/dist-packages (from transformers) (1.26.4)\n",
            "Requirement already satisfied: packaging>=20.0 in /usr/local/lib/python3.10/dist-packages (from transformers) (24.1)\n",
            "Requirement already satisfied: pyyaml>=5.1 in /usr/local/lib/python3.10/dist-packages (from transformers) (6.0.2)\n",
            "Requirement already satisfied: regex!=2019.12.17 in /usr/local/lib/python3.10/dist-packages (from transformers) (2024.5.15)\n",
            "Requirement already satisfied: requests in /usr/local/lib/python3.10/dist-packages (from transformers) (2.32.3)\n",
            "Requirement already satisfied: safetensors>=0.4.1 in /usr/local/lib/python3.10/dist-packages (from transformers) (0.4.5)\n",
            "Requirement already satisfied: tokenizers<0.20,>=0.19 in /usr/local/lib/python3.10/dist-packages (from transformers) (0.19.1)\n",
            "Requirement already satisfied: tqdm>=4.27 in /usr/local/lib/python3.10/dist-packages (from transformers) (4.66.5)\n",
            "Collecting pyarrow>=15.0.0 (from datasets)\n",
            "  Downloading pyarrow-17.0.0-cp310-cp310-manylinux_2_28_x86_64.whl.metadata (3.3 kB)\n",
            "Collecting dill<0.3.9,>=0.3.0 (from datasets)\n",
            "  Downloading dill-0.3.8-py3-none-any.whl.metadata (10 kB)\n",
            "Requirement already satisfied: pandas in /usr/local/lib/python3.10/dist-packages (from datasets) (2.1.4)\n",
            "Collecting xxhash (from datasets)\n",
            "  Downloading xxhash-3.5.0-cp310-cp310-manylinux_2_17_x86_64.manylinux2014_x86_64.whl.metadata (12 kB)\n",
            "Collecting multiprocess (from datasets)\n",
            "  Downloading multiprocess-0.70.16-py310-none-any.whl.metadata (7.2 kB)\n",
            "Requirement already satisfied: fsspec<=2024.6.1,>=2023.1.0 in /usr/local/lib/python3.10/dist-packages (from fsspec[http]<=2024.6.1,>=2023.1.0->datasets) (2024.6.1)\n",
            "Requirement already satisfied: aiohttp in /usr/local/lib/python3.10/dist-packages (from datasets) (3.10.5)\n",
            "Requirement already satisfied: aiohappyeyeballs>=2.3.0 in /usr/local/lib/python3.10/dist-packages (from aiohttp->datasets) (2.4.0)\n",
            "Requirement already satisfied: aiosignal>=1.1.2 in /usr/local/lib/python3.10/dist-packages (from aiohttp->datasets) (1.3.1)\n",
            "Requirement already satisfied: attrs>=17.3.0 in /usr/local/lib/python3.10/dist-packages (from aiohttp->datasets) (24.2.0)\n",
            "Requirement already satisfied: frozenlist>=1.1.1 in /usr/local/lib/python3.10/dist-packages (from aiohttp->datasets) (1.4.1)\n",
            "Requirement already satisfied: multidict<7.0,>=4.5 in /usr/local/lib/python3.10/dist-packages (from aiohttp->datasets) (6.1.0)\n",
            "Requirement already satisfied: yarl<2.0,>=1.0 in /usr/local/lib/python3.10/dist-packages (from aiohttp->datasets) (1.11.1)\n",
            "Requirement already satisfied: async-timeout<5.0,>=4.0 in /usr/local/lib/python3.10/dist-packages (from aiohttp->datasets) (4.0.3)\n",
            "Requirement already satisfied: typing-extensions>=3.7.4.3 in /usr/local/lib/python3.10/dist-packages (from huggingface-hub<1.0,>=0.23.2->transformers) (4.12.2)\n",
            "Requirement already satisfied: charset-normalizer<4,>=2 in /usr/local/lib/python3.10/dist-packages (from requests->transformers) (3.3.2)\n",
            "Requirement already satisfied: idna<4,>=2.5 in /usr/local/lib/python3.10/dist-packages (from requests->transformers) (3.8)\n",
            "Requirement already satisfied: urllib3<3,>=1.21.1 in /usr/local/lib/python3.10/dist-packages (from requests->transformers) (2.0.7)\n",
            "Requirement already satisfied: certifi>=2017.4.17 in /usr/local/lib/python3.10/dist-packages (from requests->transformers) (2024.8.30)\n",
            "Requirement already satisfied: python-dateutil>=2.8.2 in /usr/local/lib/python3.10/dist-packages (from pandas->datasets) (2.8.2)\n",
            "Requirement already satisfied: pytz>=2020.1 in /usr/local/lib/python3.10/dist-packages (from pandas->datasets) (2024.2)\n",
            "Requirement already satisfied: tzdata>=2022.1 in /usr/local/lib/python3.10/dist-packages (from pandas->datasets) (2024.1)\n",
            "Requirement already satisfied: six>=1.5 in /usr/local/lib/python3.10/dist-packages (from python-dateutil>=2.8.2->pandas->datasets) (1.16.0)\n",
            "Downloading datasets-3.0.0-py3-none-any.whl (474 kB)\n",
            "\u001b[2K   \u001b[90m━━━━━━━━━━━━━━━━━━━━━━━━━━━━━━━━━━━━━━━━\u001b[0m \u001b[32m474.3/474.3 kB\u001b[0m \u001b[31m27.7 MB/s\u001b[0m eta \u001b[36m0:00:00\u001b[0m\n",
            "\u001b[?25hDownloading dill-0.3.8-py3-none-any.whl (116 kB)\n",
            "\u001b[2K   \u001b[90m━━━━━━━━━━━━━━━━━━━━━━━━━━━━━━━━━━━━━━━━\u001b[0m \u001b[32m116.3/116.3 kB\u001b[0m \u001b[31m7.6 MB/s\u001b[0m eta \u001b[36m0:00:00\u001b[0m\n",
            "\u001b[?25hDownloading pyarrow-17.0.0-cp310-cp310-manylinux_2_28_x86_64.whl (39.9 MB)\n",
            "\u001b[2K   \u001b[90m━━━━━━━━━━━━━━━━━━━━━━━━━━━━━━━━━━━━━━━━\u001b[0m \u001b[32m39.9/39.9 MB\u001b[0m \u001b[31m18.8 MB/s\u001b[0m eta \u001b[36m0:00:00\u001b[0m\n",
            "\u001b[?25hDownloading multiprocess-0.70.16-py310-none-any.whl (134 kB)\n",
            "\u001b[2K   \u001b[90m━━━━━━━━━━━━━━━━━━━━━━━━━━━━━━━━━━━━━━━━\u001b[0m \u001b[32m134.8/134.8 kB\u001b[0m \u001b[31m11.1 MB/s\u001b[0m eta \u001b[36m0:00:00\u001b[0m\n",
            "\u001b[?25hDownloading xxhash-3.5.0-cp310-cp310-manylinux_2_17_x86_64.manylinux2014_x86_64.whl (194 kB)\n",
            "\u001b[2K   \u001b[90m━━━━━━━━━━━━━━━━━━━━━━━━━━━━━━━━━━━━━━━━\u001b[0m \u001b[32m194.1/194.1 kB\u001b[0m \u001b[31m7.1 MB/s\u001b[0m eta \u001b[36m0:00:00\u001b[0m\n",
            "\u001b[?25hInstalling collected packages: xxhash, pyarrow, dill, multiprocess, datasets\n",
            "  Attempting uninstall: pyarrow\n",
            "    Found existing installation: pyarrow 14.0.2\n",
            "    Uninstalling pyarrow-14.0.2:\n",
            "      Successfully uninstalled pyarrow-14.0.2\n",
            "\u001b[31mERROR: pip's dependency resolver does not currently take into account all the packages that are installed. This behaviour is the source of the following dependency conflicts.\n",
            "cudf-cu12 24.4.1 requires pyarrow<15.0.0a0,>=14.0.1, but you have pyarrow 17.0.0 which is incompatible.\n",
            "ibis-framework 8.0.0 requires pyarrow<16,>=2, but you have pyarrow 17.0.0 which is incompatible.\u001b[0m\u001b[31m\n",
            "\u001b[0mSuccessfully installed datasets-3.0.0 dill-0.3.8 multiprocess-0.70.16 pyarrow-17.0.0 xxhash-3.5.0\n"
          ]
        }
      ],
      "source": [
        "!pip install transformers datasets"
      ]
    },
    {
      "cell_type": "code",
      "source": [
        "from transformers import pipeline\n",
        "from datasets import load_dataset\n",
        "from sklearn.model_selection import train_test_split"
      ],
      "metadata": {
        "id": "guN-M3kL6CtH"
      },
      "id": "guN-M3kL6CtH",
      "execution_count": 2,
      "outputs": []
    },
    {
      "cell_type": "code",
      "source": [
        "dataset = load_dataset('CUTD/sanad_df')"
      ],
      "metadata": {
        "id": "cFalSc3-6W4C",
        "outputId": "3aaa8a3e-921c-490e-e0b2-7f2861a01049",
        "colab": {
          "base_uri": "https://localhost:8080/",
          "height": 205,
          "referenced_widgets": [
            "97f5e8c7d31d43d8b99ce823f95c96a9",
            "fed48435063b47aab5ae4ff8ce8208d2",
            "878c19498d4846caba01e4a0c231922b",
            "102277205f414be0853a9012a6d25a3e",
            "e3d2d2279c894ab1bbbb66d9526e00a4",
            "754c4def0c1d45fda9acff30ad08367a",
            "314942ac0d7b40d1a049916fdf552434",
            "e8f960279d334cc28a40557c807f61f1",
            "49c695f7174a4e8a83fd3f3b31144dea",
            "3ed40e329fa9485793d331b6a80954bf",
            "83c9595621d24f48a9351b08d93746fb",
            "64b252ac5aeb42389a9a18761de67cff",
            "8e0ab0379f4f4bd29452ba68b8e883b0",
            "bc097ca5ba8f482895767623aa0c8472",
            "a17f4c1c629140bcb34076f4b2001f09",
            "010e38092033491a9b9a3bcd1fe3d0aa",
            "32b44ba978874e9fba29f6fc34c3c946",
            "262e3f0fe09c41ef8e6019f6b6ed691f",
            "a61622da2f664834be439255d2835d22",
            "3e8f9dd701594062885a9ba9e990efa6",
            "8d065c10cc3f48d483920aa95f212478",
            "94f3757357d145048c9815dfcdb16195"
          ]
        }
      },
      "id": "cFalSc3-6W4C",
      "execution_count": 3,
      "outputs": [
        {
          "output_type": "stream",
          "name": "stderr",
          "text": [
            "/usr/local/lib/python3.10/dist-packages/huggingface_hub/utils/_token.py:89: UserWarning: \n",
            "The secret `HF_TOKEN` does not exist in your Colab secrets.\n",
            "To authenticate with the Hugging Face Hub, create a token in your settings tab (https://huggingface.co/settings/tokens), set it as secret in your Google Colab and restart your session.\n",
            "You will be able to reuse this secret in all of your notebooks.\n",
            "Please note that authentication is recommended but still optional to access public models or datasets.\n",
            "  warnings.warn(\n"
          ]
        },
        {
          "output_type": "display_data",
          "data": {
            "text/plain": [
              "sanad_df.csv:   0%|          | 0.00/50.3M [00:00<?, ?B/s]"
            ],
            "application/vnd.jupyter.widget-view+json": {
              "version_major": 2,
              "version_minor": 0,
              "model_id": "97f5e8c7d31d43d8b99ce823f95c96a9"
            }
          },
          "metadata": {}
        },
        {
          "output_type": "display_data",
          "data": {
            "text/plain": [
              "Generating train split:   0%|          | 0/15000 [00:00<?, ? examples/s]"
            ],
            "application/vnd.jupyter.widget-view+json": {
              "version_major": 2,
              "version_minor": 0,
              "model_id": "64b252ac5aeb42389a9a18761de67cff"
            }
          },
          "metadata": {}
        }
      ]
    },
    {
      "cell_type": "code",
      "source": [
        "dataset.set_format('pandas')"
      ],
      "metadata": {
        "id": "w412CfaW9TEX"
      },
      "id": "w412CfaW9TEX",
      "execution_count": 4,
      "outputs": []
    },
    {
      "cell_type": "code",
      "source": [
        "train_data, test_data = train_test_split(dataset['train'], test_size=0.2, random_state=42)"
      ],
      "metadata": {
        "id": "Yxi01R5G9sJB"
      },
      "id": "Yxi01R5G9sJB",
      "execution_count": 5,
      "outputs": []
    },
    {
      "cell_type": "markdown",
      "source": [
        "### EDA"
      ],
      "metadata": {
        "id": "xoqdK5Bs67yr"
      },
      "id": "xoqdK5Bs67yr"
    },
    {
      "cell_type": "code",
      "source": [
        "train_data['text'][0]"
      ],
      "metadata": {
        "colab": {
          "base_uri": "https://localhost:8080/",
          "height": 209
        },
        "id": "NE2PDHDW7aI7",
        "outputId": "69d5e140-618a-43d6-bf0b-e37e894cada1"
      },
      "id": "NE2PDHDW7aI7",
      "execution_count": 6,
      "outputs": [
        {
          "output_type": "execute_result",
          "data": {
            "text/plain": [
              "'ارتفع مؤشر سوق الإمارات المالي الصادر عن هيئة الأوراق المالية والسلع خلال جلسة تداول أمس بنسبة 19 .0% ليغلق على مستوى 55 .2،633 نقطة وشهدت القيمة السوقية ارتفاعاً بقيمة 71 .0 مليار درهم لتصل إلى 38 .382 مليار درهم، وقد تم تداول ما يقارب 66 .0 مليار سهم بقيمة إجمالية بلغت 88 .0 مليار درهم من خلال 11،766 صفقة . وقد سجل مؤشر قطاع البنوك ارتفاعاً بنسبة 21 .1% تلاه مؤشر قطاع التأمين ارتفاعاً بنسبة 03 .0% تلاه مؤشر قطاع الخدمات انخفاضاً بنسبة 97 .0% تلاه مؤشر قطاع الصناعات ارتفاعاً بنسبة 39 .1% .وبلغ عدد الشركات التي تم تداول أسهمها 64 من أصل 131 شركة مدرجة في الأسواق المالية . وحققت أسعار أسهم 31 شركة ارتفاعا في حين انخفضت أسعار أسهم 23 شركة بينما لم يحدث أي تغير على أسعار أسهم باقي الشركات .وجاء سهم أرابتك القابضة في المركز الأول من حيث الشركات الأكثر نشاطاً حيث تم تداول ما قيمته 21 .0 مليار درهم موزعة على 10 .0 مليار سهم من خلال 2،129 صفقة . واحتل سهم سوق دبي المالي المرتبة الثانية بإجمالي تداول بلغ 62 .81 مليون درهم موزعة على 14 .58 مليون سهم من خلال 1،280 صفقة . وحقق سهم الجرافات البحرية أكثر نسبة ارتفاع سعري حيث أقفل سعر السهم على مستوى 84 .6 درهم مرتفعا بنسبة 97 .9% من خلال تداول 9،200 سهم بقيمة 62،928 درهماً . وجاء في المركز الثاني من حيث الارتفاع السعري سهم الوطنية للسياحة الذي ارتفع بنسبة 88 .9% ليغلق على مستوى 67 .5 درهم للسهم الواحد من خلال تداول 14،166 سهماً بقيمة 80،321 درهماً . وسجل سهم الخليج الطبية أكثر انخفاض سعري في جلسة التداول حيث أقفل سعر السهم على مستوى 6 .3 درهم مسجلا خسارة بنسبة 77 .9% من خلال تداول 5،560 سهماً بقيمة 20،016 درهماً . تلاه سهم جلفار الذي انخفض بنسبة 40 .8% ليغلق على مستوى 2 .1 درهم من خلال تداول 500 سهم بقيمة 600 درهم .ومنذ بداية العام بلغت نسبة النمو في مؤشر سوق الإمارات المالي 19 .3% وبلغ إجمالي قيمة التداول 56 .46 مليار درهم . وبلغ عدد الشركات التي حققت ارتفاعاً سعرياً 51 من أصل 131 وعدد الشركات المتراجعة 47 شركة . ويتصدر مؤشر قطاع الخدمات المرتبة الأولى مقارنة بالمؤشرات الأخرى ومحققا نسبة نمو عن نهاية العام الماضي بلغت 12 .10% ليستقر على مستوى 2،233 نقطة . في حين احتل مؤشر الصناعات المركز الثاني بنسبة 22 .9% ليستقر على 421 نقطة . تلاه مؤشر قطاع التأمين انخفاضاً بنسبة -28 .1% ليغلق على مستوى 3،347 نقطة . تلاه مؤشر قطاع البنوك بنسبة -31 .4% ليغلق على مستوى 2،848 نقطة .'"
            ],
            "application/vnd.google.colaboratory.intrinsic+json": {
              "type": "string"
            }
          },
          "metadata": {},
          "execution_count": 6
        }
      ]
    },
    {
      "cell_type": "code",
      "source": [
        "train_data['text'][1]"
      ],
      "metadata": {
        "colab": {
          "base_uri": "https://localhost:8080/",
          "height": 191
        },
        "id": "bpj_42HODUmV",
        "outputId": "7fc99264-f176-4d03-9afd-1a1a33f4c5c1"
      },
      "id": "bpj_42HODUmV",
      "execution_count": 7,
      "outputs": [
        {
          "output_type": "execute_result",
          "data": {
            "text/plain": [
              "'أبوظبي علي أسعد: كشف راشد البلوشي الرئيس التنفيذي لسوق أبوظبي للأوراق المالية عن قيام السوق بالمفاوضات مع بنك أبوظبي الوطني حول الأسهم التي سيعتمدها صانع السوق، وقال في حديث ل\"الخليج\" إن حصول البنك على ترخيص من هيئة الأوراق المالية والسلع في الدولة بممارسة نشاط صانع السوق خطوة مهمة وفي الاتجاه الصحيح لتطوير أسواق المال في الدولة، وأضاف: يأتي ذلك على أعتاب ترقية أسواق المال كأسواق ناشئة ضمن مؤشرات مورجان ستانلي مطلع يوليو/تموز المقبل، مشيراً إلى أن متطلبات ممارسة نشاط صانع السوق المتعلقة بالأنظمة تم إصدارها من هيئة الأوراق المالية والسلع كنظام البيع على المكشوف ونظام إقراض واقتراض الأوراق المالية .وعلمت \"الخليج\" أن هناك جهات أخرى مالية تقدمت بطلب الترخيص لممارسة نشاط صانع السوق .وقال محمد مرتضى الدندش الرئيس التنفيذي لشركة الرمز للأوراق المالية إن شركة الرمز تقدمت بطلب لهيئة الأوراق المالية للحصول على ترخيص ممارسة صانع السوق، وهناك بنوك أخرى تقدمت بطلبات مماثلة لممارسة هذا النشاط الذي يعد أحد الأدوات لتطوير أسواق المال في الدولة، والمساهمة في تعزير سيولتها وجذب المزيد من الاستثمارات إليها . وأضاف الدندش، صحيح أن نظام البيع على المكشوف ونظام إقراض واقتراض الأوراق المالية مهمان لممارسة نشاط صانع السوق إلا أن هذه الأنظمة لم يتم تفعليها حتى الآن وكذلك الحفظ الأمين .واعتبر محمد علي ياسين العضو المنتدب لشركة أبوظبي الوطني للخدمات المالية أن الأهم في ممارسة صانع السوق أن تتوفر إدارة للمخاطر وتقييمها، وأن يتوفر أكثر من صانع سوق، وإلا فإن وجود شركة واحدة يحمل في طياته مخاطر على الشركة التي تقوم بهذا النشاط، ولا بد من تحديد والإفصاح عن الأسهم التي سيتم تجاهها نشاط صانع السوق . وأكد ياسين أهمية وجود أداة صانع السوق في أسواق المال لجعلها تحتفظ بحالة من التوازن بين العرض والطلب، وانحسار الفجوة بين سعري الشراء والبيع سعياً لتحقيق أهم وظائف السوق المتمثلة في القدرة على تسييل الأوراق المالية بسرعة وسهولة، وإيجاد توازن في العرض والطلب للحد من تقلبات الأسعار صعوداً وهبوطاً، الأمر الذي يعزز من درجة الاستثمار المؤسسي في الأسواق المحلية ويزيد من عمقها وتوازنها .'"
            ],
            "application/vnd.google.colaboratory.intrinsic+json": {
              "type": "string"
            }
          },
          "metadata": {},
          "execution_count": 7
        }
      ]
    },
    {
      "cell_type": "code",
      "source": [
        "train_data['label'].value_counts()"
      ],
      "metadata": {
        "colab": {
          "base_uri": "https://localhost:8080/",
          "height": 209
        },
        "id": "b2pZMX4R-xzc",
        "outputId": "669c57da-53f8-4206-e7d8-f4fbbc563a17"
      },
      "id": "b2pZMX4R-xzc",
      "execution_count": 8,
      "outputs": [
        {
          "output_type": "execute_result",
          "data": {
            "text/plain": [
              "label\n",
              "Finance    5218\n",
              "Culture    5171\n",
              "Medical    1611\n",
              "Name: count, dtype: int64"
            ],
            "text/html": [
              "<div>\n",
              "<style scoped>\n",
              "    .dataframe tbody tr th:only-of-type {\n",
              "        vertical-align: middle;\n",
              "    }\n",
              "\n",
              "    .dataframe tbody tr th {\n",
              "        vertical-align: top;\n",
              "    }\n",
              "\n",
              "    .dataframe thead th {\n",
              "        text-align: right;\n",
              "    }\n",
              "</style>\n",
              "<table border=\"1\" class=\"dataframe\">\n",
              "  <thead>\n",
              "    <tr style=\"text-align: right;\">\n",
              "      <th></th>\n",
              "      <th>count</th>\n",
              "    </tr>\n",
              "    <tr>\n",
              "      <th>label</th>\n",
              "      <th></th>\n",
              "    </tr>\n",
              "  </thead>\n",
              "  <tbody>\n",
              "    <tr>\n",
              "      <th>Finance</th>\n",
              "      <td>5218</td>\n",
              "    </tr>\n",
              "    <tr>\n",
              "      <th>Culture</th>\n",
              "      <td>5171</td>\n",
              "    </tr>\n",
              "    <tr>\n",
              "      <th>Medical</th>\n",
              "      <td>1611</td>\n",
              "    </tr>\n",
              "  </tbody>\n",
              "</table>\n",
              "</div><br><label><b>dtype:</b> int64</label>"
            ]
          },
          "metadata": {},
          "execution_count": 8
        }
      ]
    },
    {
      "cell_type": "code",
      "source": [
        "train_data['label'].value_counts().plot(kind='bar')"
      ],
      "metadata": {
        "colab": {
          "base_uri": "https://localhost:8080/",
          "height": 506
        },
        "id": "mbx7jicx-f22",
        "outputId": "06f32c27-e3c7-48f3-8ec3-87009343bb21"
      },
      "id": "mbx7jicx-f22",
      "execution_count": 9,
      "outputs": [
        {
          "output_type": "execute_result",
          "data": {
            "text/plain": [
              "<Axes: xlabel='label'>"
            ]
          },
          "metadata": {},
          "execution_count": 9
        },
        {
          "output_type": "display_data",
          "data": {
            "text/plain": [
              "<Figure size 640x480 with 1 Axes>"
            ],
            "image/png": "[encoded data removed]"
          },
          "metadata": {}
        }
      ]
    },
    {
      "cell_type": "code",
      "source": [
        "train_data.shape"
      ],
      "metadata": {
        "colab": {
          "base_uri": "https://localhost:8080/"
        },
        "id": "YGUrrhTG7AfV",
        "outputId": "703d1107-3e94-44d9-e801-132151d41099"
      },
      "id": "YGUrrhTG7AfV",
      "execution_count": 10,
      "outputs": [
        {
          "output_type": "execute_result",
          "data": {
            "text/plain": [
              "(12000, 3)"
            ]
          },
          "metadata": {},
          "execution_count": 10
        }
      ]
    },
    {
      "cell_type": "code",
      "source": [
        "train_data.duplicated().sum()"
      ],
      "metadata": {
        "colab": {
          "base_uri": "https://localhost:8080/"
        },
        "id": "uqQSBpmi_bR1",
        "outputId": "02860114-d4e5-4dce-b419-443bc77b6102"
      },
      "id": "uqQSBpmi_bR1",
      "execution_count": 11,
      "outputs": [
        {
          "output_type": "execute_result",
          "data": {
            "text/plain": [
              "0"
            ]
          },
          "metadata": {},
          "execution_count": 11
        }
      ]
    },
    {
      "cell_type": "code",
      "source": [
        "train_data.isna().sum()"
      ],
      "metadata": {
        "colab": {
          "base_uri": "https://localhost:8080/",
          "height": 178
        },
        "id": "-naucHYU_XgJ",
        "outputId": "f4ec4fb8-07df-41f0-b3f8-ab64fb35967b"
      },
      "id": "-naucHYU_XgJ",
      "execution_count": 12,
      "outputs": [
        {
          "output_type": "execute_result",
          "data": {
            "text/plain": [
              "Unnamed: 0    0\n",
              "text          0\n",
              "label         0\n",
              "dtype: int64"
            ],
            "text/html": [
              "<div>\n",
              "<style scoped>\n",
              "    .dataframe tbody tr th:only-of-type {\n",
              "        vertical-align: middle;\n",
              "    }\n",
              "\n",
              "    .dataframe tbody tr th {\n",
              "        vertical-align: top;\n",
              "    }\n",
              "\n",
              "    .dataframe thead th {\n",
              "        text-align: right;\n",
              "    }\n",
              "</style>\n",
              "<table border=\"1\" class=\"dataframe\">\n",
              "  <thead>\n",
              "    <tr style=\"text-align: right;\">\n",
              "      <th></th>\n",
              "      <th>0</th>\n",
              "    </tr>\n",
              "  </thead>\n",
              "  <tbody>\n",
              "    <tr>\n",
              "      <th>Unnamed: 0</th>\n",
              "      <td>0</td>\n",
              "    </tr>\n",
              "    <tr>\n",
              "      <th>text</th>\n",
              "      <td>0</td>\n",
              "    </tr>\n",
              "    <tr>\n",
              "      <th>label</th>\n",
              "      <td>0</td>\n",
              "    </tr>\n",
              "  </tbody>\n",
              "</table>\n",
              "</div><br><label><b>dtype:</b> int64</label>"
            ]
          },
          "metadata": {},
          "execution_count": 12
        }
      ]
    },
    {
      "cell_type": "code",
      "source": [
        "train_data.info()"
      ],
      "metadata": {
        "colab": {
          "base_uri": "https://localhost:8080/"
        },
        "id": "_D_SXq90_P4s",
        "outputId": "231654db-92d2-415d-c810-d53635d5561f"
      },
      "id": "_D_SXq90_P4s",
      "execution_count": 13,
      "outputs": [
        {
          "output_type": "stream",
          "name": "stdout",
          "text": [
            "<class 'pandas.core.frame.DataFrame'>\n",
            "RangeIndex: 12000 entries, 0 to 11999\n",
            "Data columns (total 3 columns):\n",
            " #   Column      Non-Null Count  Dtype \n",
            "---  ------      --------------  ----- \n",
            " 0   Unnamed: 0  12000 non-null  int64 \n",
            " 1   text        12000 non-null  object\n",
            " 2   label       12000 non-null  object\n",
            "dtypes: int64(1), object(2)\n",
            "memory usage: 281.4+ KB\n"
          ]
        }
      ]
    },
    {
      "cell_type": "code",
      "source": [
        "train_data['text'] = train_data['text'].astype(str)"
      ],
      "metadata": {
        "id": "k666Z6OoJbWV"
      },
      "id": "k666Z6OoJbWV",
      "execution_count": 14,
      "outputs": []
    },
    {
      "cell_type": "code",
      "source": [
        "train_data"
      ],
      "metadata": {
        "id": "RyxGKMtBOv4Y",
        "colab": {
          "base_uri": "https://localhost:8080/",
          "height": 423
        },
        "outputId": "78ba3dce-6593-486a-9e65-aa272ee64ceb"
      },
      "id": "RyxGKMtBOv4Y",
      "execution_count": 15,
      "outputs": [
        {
          "output_type": "execute_result",
          "data": {
            "text/plain": [
              "       Unnamed: 0                                               text    label\n",
              "0            9839  ارتفع مؤشر سوق الإمارات المالي الصادر عن هيئة ...  Finance\n",
              "1            9680  أبوظبي علي أسعد: كشف راشد البلوشي الرئيس التنف...  Finance\n",
              "2            7093  أنهت أسواق الأسهم المحلية تداولات فبراير على ا...  Finance\n",
              "3           11293  أعاد بنك الخليج الأول شراء 32 ألف من أسهمه أمس...  Finance\n",
              "4             820  حيث تتوفر شروط ثقافية صحية، ينتج هناك أدب رفيع...  Culture\n",
              "...           ...                                                ...      ...\n",
              "11995        5191  شهدت ولاية نزوى في سلطنة عمان انطلاق فعاليات م...  Culture\n",
              "11996       13418  عجمان: سيد زكي استقبل مركز راشد للسكري والأبحا...  Medical\n",
              "11997        5390  إذا كانت ولادة المصطلح الجديد، تتعلق بدورة الز...  Culture\n",
              "11998         860  أعلنت لجنة تحكيم جائزة المغرب للكتاب عن االفائ...  Culture\n",
              "11999        7270  ارتفع مؤشر سوق الإمارات المالي خلال جلسة الأمس...  Finance\n",
              "\n",
              "[12000 rows x 3 columns]"
            ],
            "text/html": [
              "\n",
              "  <div id=\"df-80df36dd-928a-4d95-a743-8ee37636511f\" class=\"colab-df-container\">\n",
              "    <div>\n",
              "<style scoped>\n",
              "    .dataframe tbody tr th:only-of-type {\n",
              "        vertical-align: middle;\n",
              "    }\n",
              "\n",
              "    .dataframe tbody tr th {\n",
              "        vertical-align: top;\n",
              "    }\n",
              "\n",
              "    .dataframe thead th {\n",
              "        text-align: right;\n",
              "    }\n",
              "</style>\n",
              "<table border=\"1\" class=\"dataframe\">\n",
              "  <thead>\n",
              "    <tr style=\"text-align: right;\">\n",
              "      <th></th>\n",
              "      <th>Unnamed: 0</th>\n",
              "      <th>text</th>\n",
              "      <th>label</th>\n",
              "    </tr>\n",
              "  </thead>\n",
              "  <tbody>\n",
              "    <tr>\n",
              "      <th>0</th>\n",
              "      <td>9839</td>\n",
              "      <td>ارتفع مؤشر سوق الإمارات المالي الصادر عن هيئة ...</td>\n",
              "      <td>Finance</td>\n",
              "    </tr>\n",
              "    <tr>\n",
              "      <th>1</th>\n",
              "      <td>9680</td>\n",
              "      <td>أبوظبي علي أسعد: كشف راشد البلوشي الرئيس التنف...</td>\n",
              "      <td>Finance</td>\n",
              "    </tr>\n",
              "    <tr>\n",
              "      <th>2</th>\n",
              "      <td>7093</td>\n",
              "      <td>أنهت أسواق الأسهم المحلية تداولات فبراير على ا...</td>\n",
              "      <td>Finance</td>\n",
              "    </tr>\n",
              "    <tr>\n",
              "      <th>3</th>\n",
              "      <td>11293</td>\n",
              "      <td>أعاد بنك الخليج الأول شراء 32 ألف من أسهمه أمس...</td>\n",
              "      <td>Finance</td>\n",
              "    </tr>\n",
              "    <tr>\n",
              "      <th>4</th>\n",
              "      <td>820</td>\n",
              "      <td>حيث تتوفر شروط ثقافية صحية، ينتج هناك أدب رفيع...</td>\n",
              "      <td>Culture</td>\n",
              "    </tr>\n",
              "    <tr>\n",
              "      <th>...</th>\n",
              "      <td>...</td>\n",
              "      <td>...</td>\n",
              "      <td>...</td>\n",
              "    </tr>\n",
              "    <tr>\n",
              "      <th>11995</th>\n",
              "      <td>5191</td>\n",
              "      <td>شهدت ولاية نزوى في سلطنة عمان انطلاق فعاليات م...</td>\n",
              "      <td>Culture</td>\n",
              "    </tr>\n",
              "    <tr>\n",
              "      <th>11996</th>\n",
              "      <td>13418</td>\n",
              "      <td>عجمان: سيد زكي استقبل مركز راشد للسكري والأبحا...</td>\n",
              "      <td>Medical</td>\n",
              "    </tr>\n",
              "    <tr>\n",
              "      <th>11997</th>\n",
              "      <td>5390</td>\n",
              "      <td>إذا كانت ولادة المصطلح الجديد، تتعلق بدورة الز...</td>\n",
              "      <td>Culture</td>\n",
              "    </tr>\n",
              "    <tr>\n",
              "      <th>11998</th>\n",
              "      <td>860</td>\n",
              "      <td>أعلنت لجنة تحكيم جائزة المغرب للكتاب عن االفائ...</td>\n",
              "      <td>Culture</td>\n",
              "    </tr>\n",
              "    <tr>\n",
              "      <th>11999</th>\n",
              "      <td>7270</td>\n",
              "      <td>ارتفع مؤشر سوق الإمارات المالي خلال جلسة الأمس...</td>\n",
              "      <td>Finance</td>\n",
              "    </tr>\n",
              "  </tbody>\n",
              "</table>\n",
              "<p>12000 rows × 3 columns</p>\n",
              "</div>\n",
              "    <div class=\"colab-df-buttons\">\n",
              "\n",
              "  <div class=\"colab-df-container\">\n",
              "    <button class=\"colab-df-convert\" onclick=\"convertToInteractive('df-80df36dd-928a-4d95-a743-8ee37636511f')\"\n",
              "            title=\"Convert this dataframe to an interactive table.\"\n",
              "            style=\"display:none;\">\n",
              "\n",
              "  <svg xmlns=\"http://www.w3.org/2000/svg\" height=\"24px\" viewBox=\"0 -960 960 960\">\n",
              "    <path d=\"M120-120v-720h720v720H120Zm60-500h600v-160H180v160Zm220 220h160v-160H400v160Zm0 220h160v-160H400v160ZM180-400h160v-160H180v160Zm440 0h160v-160H620v160ZM180-180h160v-160H180v160Zm440 0h160v-160H620v160Z\"/>\n",
              "  </svg>\n",
              "    </button>\n",
              "\n",
              "  <style>\n",
              "    .colab-df-container {\n",
              "      display:flex;\n",
              "      gap: 12px;\n",
              "    }\n",
              "\n",
              "    .colab-df-convert {\n",
              "      background-color: #E8F0FE;\n",
              "      border: none;\n",
              "      border-radius: 50%;\n",
              "      cursor: pointer;\n",
              "      display: none;\n",
              "      fill: #1967D2;\n",
              "      height: 32px;\n",
              "      padding: 0 0 0 0;\n",
              "      width: 32px;\n",
              "    }\n",
              "\n",
              "    .colab-df-convert:hover {\n",
              "      background-color: #E2EBFA;\n",
              "      box-shadow: 0px 1px 2px rgba(60, 64, 67, 0.3), 0px 1px 3px 1px rgba(60, 64, 67, 0.15);\n",
              "      fill: #174EA6;\n",
              "    }\n",
              "\n",
              "    .colab-df-buttons div {\n",
              "      margin-bottom: 4px;\n",
              "    }\n",
              "\n",
              "    [theme=dark] .colab-df-convert {\n",
              "      background-color: #3B4455;\n",
              "      fill: #D2E3FC;\n",
              "    }\n",
              "\n",
              "    [theme=dark] .colab-df-convert:hover {\n",
              "      background-color: #434B5C;\n",
              "      box-shadow: 0px 1px 3px 1px rgba(0, 0, 0, 0.15);\n",
              "      filter: drop-shadow(0px 1px 2px rgba(0, 0, 0, 0.3));\n",
              "      fill: #FFFFFF;\n",
              "    }\n",
              "  </style>\n",
              "\n",
              "    <script>\n",
              "      const buttonEl =\n",
              "        document.querySelector('#df-80df36dd-928a-4d95-a743-8ee37636511f button.colab-df-convert');\n",
              "      buttonEl.style.display =\n",
              "        google.colab.kernel.accessAllowed ? 'block' : 'none';\n",
              "\n",
              "      async function convertToInteractive(key) {\n",
              "        const element = document.querySelector('#df-80df36dd-928a-4d95-a743-8ee37636511f');\n",
              "        const dataTable =\n",
              "          await google.colab.kernel.invokeFunction('convertToInteractive',\n",
              "                                                    [key], {});\n",
              "        if (!dataTable) return;\n",
              "\n",
              "        const docLinkHtml = 'Like what you see? Visit the ' +\n",
              "          '<a target=\"_blank\" href=https://colab.research.google.com/notebooks/data_table.ipynb>data table notebook</a>'\n",
              "          + ' to learn more about interactive tables.';\n",
              "        element.innerHTML = '';\n",
              "        dataTable['output_type'] = 'display_data';\n",
              "        await google.colab.output.renderOutput(dataTable, element);\n",
              "        const docLink = document.createElement('div');\n",
              "        docLink.innerHTML = docLinkHtml;\n",
              "        element.appendChild(docLink);\n",
              "      }\n",
              "    </script>\n",
              "  </div>\n",
              "\n",
              "\n",
              "<div id=\"df-d0ab6ca9-acc9-40b1-8fc4-86c4b724c775\">\n",
              "  <button class=\"colab-df-quickchart\" onclick=\"quickchart('df-d0ab6ca9-acc9-40b1-8fc4-86c4b724c775')\"\n",
              "            title=\"Suggest charts\"\n",
              "            style=\"display:none;\">\n",
              "\n",
              "<svg xmlns=\"http://www.w3.org/2000/svg\" height=\"24px\"viewBox=\"0 0 24 24\"\n",
              "     width=\"24px\">\n",
              "    <g>\n",
              "        <path d=\"M19 3H5c-1.1 0-2 .9-2 2v14c0 1.1.9 2 2 2h14c1.1 0 2-.9 2-2V5c0-1.1-.9-2-2-2zM9 17H7v-7h2v7zm4 0h-2V7h2v10zm4 0h-2v-4h2v4z\"/>\n",
              "    </g>\n",
              "</svg>\n",
              "  </button>\n",
              "\n",
              "<style>\n",
              "  .colab-df-quickchart {\n",
              "      --bg-color: #E8F0FE;\n",
              "      --fill-color: #1967D2;\n",
              "      --hover-bg-color: #E2EBFA;\n",
              "      --hover-fill-color: #174EA6;\n",
              "      --disabled-fill-color: #AAA;\n",
              "      --disabled-bg-color: #DDD;\n",
              "  }\n",
              "\n",
              "  [theme=dark] .colab-df-quickchart {\n",
              "      --bg-color: #3B4455;\n",
              "      --fill-color: #D2E3FC;\n",
              "      --hover-bg-color: #434B5C;\n",
              "      --hover-fill-color: #FFFFFF;\n",
              "      --disabled-bg-color: #3B4455;\n",
              "      --disabled-fill-color: #666;\n",
              "  }\n",
              "\n",
              "  .colab-df-quickchart {\n",
              "    background-color: var(--bg-color);\n",
              "    border: none;\n",
              "    border-radius: 50%;\n",
              "    cursor: pointer;\n",
              "    display: none;\n",
              "    fill: var(--fill-color);\n",
              "    height: 32px;\n",
              "    padding: 0;\n",
              "    width: 32px;\n",
              "  }\n",
              "\n",
              "  .colab-df-quickchart:hover {\n",
              "    background-color: var(--hover-bg-color);\n",
              "    box-shadow: 0 1px 2px rgba(60, 64, 67, 0.3), 0 1px 3px 1px rgba(60, 64, 67, 0.15);\n",
              "    fill: var(--button-hover-fill-color);\n",
              "  }\n",
              "\n",
              "  .colab-df-quickchart-complete:disabled,\n",
              "  .colab-df-quickchart-complete:disabled:hover {\n",
              "    background-color: var(--disabled-bg-color);\n",
              "    fill: var(--disabled-fill-color);\n",
              "    box-shadow: none;\n",
              "  }\n",
              "\n",
              "  .colab-df-spinner {\n",
              "    border: 2px solid var(--fill-color);\n",
              "    border-color: transparent;\n",
              "    border-bottom-color: var(--fill-color);\n",
              "    animation:\n",
              "      spin 1s steps(1) infinite;\n",
              "  }\n",
              "\n",
              "  @keyframes spin {\n",
              "    0% {\n",
              "      border-color: transparent;\n",
              "      border-bottom-color: var(--fill-color);\n",
              "      border-left-color: var(--fill-color);\n",
              "    }\n",
              "    20% {\n",
              "      border-color: transparent;\n",
              "      border-left-color: var(--fill-color);\n",
              "      border-top-color: var(--fill-color);\n",
              "    }\n",
              "    30% {\n",
              "      border-color: transparent;\n",
              "      border-left-color: var(--fill-color);\n",
              "      border-top-color: var(--fill-color);\n",
              "      border-right-color: var(--fill-color);\n",
              "    }\n",
              "    40% {\n",
              "      border-color: transparent;\n",
              "      border-right-color: var(--fill-color);\n",
              "      border-top-color: var(--fill-color);\n",
              "    }\n",
              "    60% {\n",
              "      border-color: transparent;\n",
              "      border-right-color: var(--fill-color);\n",
              "    }\n",
              "    80% {\n",
              "      border-color: transparent;\n",
              "      border-right-color: var(--fill-color);\n",
              "      border-bottom-color: var(--fill-color);\n",
              "    }\n",
              "    90% {\n",
              "      border-color: transparent;\n",
              "      border-bottom-color: var(--fill-color);\n",
              "    }\n",
              "  }\n",
              "</style>\n",
              "\n",
              "  <script>\n",
              "    async function quickchart(key) {\n",
              "      const quickchartButtonEl =\n",
              "        document.querySelector('#' + key + ' button');\n",
              "      quickchartButtonEl.disabled = true;  // To prevent multiple clicks.\n",
              "      quickchartButtonEl.classList.add('colab-df-spinner');\n",
              "      try {\n",
              "        const charts = await google.colab.kernel.invokeFunction(\n",
              "            'suggestCharts', [key], {});\n",
              "      } catch (error) {\n",
              "        console.error('Error during call to suggestCharts:', error);\n",
              "      }\n",
              "      quickchartButtonEl.classList.remove('colab-df-spinner');\n",
              "      quickchartButtonEl.classList.add('colab-df-quickchart-complete');\n",
              "    }\n",
              "    (() => {\n",
              "      let quickchartButtonEl =\n",
              "        document.querySelector('#df-d0ab6ca9-acc9-40b1-8fc4-86c4b724c775 button');\n",
              "      quickchartButtonEl.style.display =\n",
              "        google.colab.kernel.accessAllowed ? 'block' : 'none';\n",
              "    })();\n",
              "  </script>\n",
              "</div>\n",
              "\n",
              "  <div id=\"id_a72ded71-a99c-44f3-8f36-ab21e35a9326\">\n",
              "    <style>\n",
              "      .colab-df-generate {\n",
              "        background-color: #E8F0FE;\n",
              "        border: none;\n",
              "        border-radius: 50%;\n",
              "        cursor: pointer;\n",
              "        display: none;\n",
              "        fill: #1967D2;\n",
              "        height: 32px;\n",
              "        padding: 0 0 0 0;\n",
              "        width: 32px;\n",
              "      }\n",
              "\n",
              "      .colab-df-generate:hover {\n",
              "        background-color: #E2EBFA;\n",
              "        box-shadow: 0px 1px 2px rgba(60, 64, 67, 0.3), 0px 1px 3px 1px rgba(60, 64, 67, 0.15);\n",
              "        fill: #174EA6;\n",
              "      }\n",
              "\n",
              "      [theme=dark] .colab-df-generate {\n",
              "        background-color: #3B4455;\n",
              "        fill: #D2E3FC;\n",
              "      }\n",
              "\n",
              "      [theme=dark] .colab-df-generate:hover {\n",
              "        background-color: #434B5C;\n",
              "        box-shadow: 0px 1px 3px 1px rgba(0, 0, 0, 0.15);\n",
              "        filter: drop-shadow(0px 1px 2px rgba(0, 0, 0, 0.3));\n",
              "        fill: #FFFFFF;\n",
              "      }\n",
              "    </style>\n",
              "    <button class=\"colab-df-generate\" onclick=\"generateWithVariable('train_data')\"\n",
              "            title=\"Generate code using this dataframe.\"\n",
              "            style=\"display:none;\">\n",
              "\n",
              "  <svg xmlns=\"http://www.w3.org/2000/svg\" height=\"24px\"viewBox=\"0 0 24 24\"\n",
              "       width=\"24px\">\n",
              "    <path d=\"M7,19H8.4L18.45,9,17,7.55,7,17.6ZM5,21V16.75L18.45,3.32a2,2,0,0,1,2.83,0l1.4,1.43a1.91,1.91,0,0,1,.58,1.4,1.91,1.91,0,0,1-.58,1.4L9.25,21ZM18.45,9,17,7.55Zm-12,3A5.31,5.31,0,0,0,4.9,8.1,5.31,5.31,0,0,0,1,6.5,5.31,5.31,0,0,0,4.9,4.9,5.31,5.31,0,0,0,6.5,1,5.31,5.31,0,0,0,8.1,4.9,5.31,5.31,0,0,0,12,6.5,5.46,5.46,0,0,0,6.5,12Z\"/>\n",
              "  </svg>\n",
              "    </button>\n",
              "    <script>\n",
              "      (() => {\n",
              "      const buttonEl =\n",
              "        document.querySelector('#id_a72ded71-a99c-44f3-8f36-ab21e35a9326 button.colab-df-generate');\n",
              "      buttonEl.style.display =\n",
              "        google.colab.kernel.accessAllowed ? 'block' : 'none';\n",
              "\n",
              "      buttonEl.onclick = () => {\n",
              "        google.colab.notebook.generateWithVariable('train_data');\n",
              "      }\n",
              "      })();\n",
              "    </script>\n",
              "  </div>\n",
              "\n",
              "    </div>\n",
              "  </div>\n"
            ],
            "application/vnd.google.colaboratory.intrinsic+json": {
              "type": "dataframe",
              "variable_name": "train_data",
              "summary": "{\n  \"name\": \"train_data\",\n  \"rows\": 12000,\n  \"fields\": [\n    {\n      \"column\": \"Unnamed: 0\",\n      \"properties\": {\n        \"dtype\": \"number\",\n        \"std\": 4328,\n        \"min\": 0,\n        \"max\": 14999,\n        \"num_unique_values\": 12000,\n        \"samples\": [\n          2651,\n          1096,\n          4605\n        ],\n        \"semantic_type\": \"\",\n        \"description\": \"\"\n      }\n    },\n    {\n      \"column\": \"text\",\n      \"properties\": {\n        \"dtype\": \"string\",\n        \"num_unique_values\": 11994,\n        \"samples\": [\n          \"\\u0648\\u0627\\u0635\\u0644\\u062a \\u0627\\u0644\\u0623\\u0633\\u0647\\u0645 \\u0627\\u0644\\u0645\\u062d\\u0644\\u064a\\u0629 \\u062a\\u062d\\u0642\\u064a\\u0642 \\u0645\\u0643\\u0627\\u0633\\u0628\\u0647\\u0627 \\u0644\\u0644\\u064a\\u0648\\u0645 \\u0627\\u0644\\u062b\\u0627\\u0644\\u062b \\u0639\\u0644\\u0649 \\u0627\\u0644\\u062a\\u0648\\u0627\\u0644\\u064a \\u0648\\u0633\\u0637 \\u0642\\u0644\\u0642 \\u0628\\u0639\\u0636 \\u0627\\u0644\\u0645\\u0633\\u062a\\u062b\\u0645\\u0631\\u064a\\u0646 \\u0648\\u062a\\u0641\\u0627\\u0624\\u0644 \\u0628\\u0639\\u0636\\u0647\\u0645 \\u0627\\u0644\\u0622\\u062e\\u0631 \\u0628\\u0648\\u062c\\u0648\\u062f \\u062d\\u0644 \\u0645\\u0646\\u0627\\u0633\\u0628 \\u0644\\u0623\\u0632\\u0645\\u0629 \\u0627\\u0644\\u0645\\u0648\\u0627\\u0632\\u0646\\u0629 \\u0627\\u0644\\u0623\\u0645\\u0631\\u064a\\u0643\\u064a\\u0629 \\u0627\\u0644\\u062a\\u064a \\u0648\\u0627\\u0635\\u0644\\u062a \\u0636\\u063a\\u0648\\u0637\\u0647\\u0627 \\u0648\\u062a\\u0623\\u062b\\u064a\\u0631\\u0627\\u062a\\u0647\\u0627 \\u0627\\u0644\\u0633\\u0644\\u0628\\u064a\\u0629 \\u0639\\u0644\\u0649 \\u0623\\u0633\\u0648\\u0627\\u0642 \\u0627\\u0644\\u0645\\u0627\\u0644 \\u0627\\u0644\\u0645\\u062d\\u0644\\u064a\\u0629 \\u0648\\u0627\\u0644\\u0625\\u0642\\u0644\\u064a\\u0645\\u064a\\u0629 \\u0648\\u0627\\u0644\\u0639\\u0627\\u0644\\u0645\\u064a\\u0629 \\u0637\\u064a\\u0644\\u0629 \\u0627\\u0644\\u0623\\u0633\\u0628\\u0648\\u0639 . \\u0648\\u064a\\u0648\\u0645 \\u0623\\u0645\\u0633 \\u062d\\u0642\\u0642\\u062a \\u0627\\u0644\\u0623\\u0633\\u0647\\u0645 \\u0645\\u0643\\u0627\\u0633\\u0628 \\u0645\\u0642\\u062f\\u0627\\u0631\\u0647\\u0627 21 .1 \\u0645\\u0644\\u064a\\u0627\\u0631 \\u062f\\u0631\\u0647\\u0645 \\u0623\\u0636\\u064a\\u0641\\u062a \\u0625\\u0644\\u0649 \\u0627\\u0644\\u0642\\u064a\\u0645\\u0629 \\u0627\\u0644\\u0633\\u0648\\u0642\\u064a\\u0629 \\u0627\\u0644\\u062a\\u064a \\u0648\\u0635\\u0644\\u062a \\u0625\\u0644\\u0649 94 .575 \\u0645\\u0644\\u064a\\u0627\\u0631 \\u062f\\u0631\\u0647\\u0645 ( \\u0645\\u0646\\u0647\\u0627 68 .365 \\u0645\\u0644\\u064a\\u0627\\u0631 \\u062f\\u0631\\u0647\\u0645 \\u0644\\u0633\\u0648\\u0642 \\u0623\\u0628\\u0648\\u0638\\u0628\\u064a\\u060c \\u064894 .210 \\u0645\\u0644\\u064a\\u0627\\u0631 \\u062f\\u0631\\u0647\\u0645 \\u0644\\u0633\\u0648\\u0642 \\u062f\\u0628\\u064a \\u0627\\u0644\\u0645\\u0627\\u0644\\u064a ) \\u0645\\u0639 \\u0627\\u0631\\u062a\\u0641\\u0627\\u0639 \\u0645\\u0624\\u0634\\u0631 \\u0633\\u0648\\u0642 \\u0627\\u0644\\u0625\\u0645\\u0627\\u0631\\u0627\\u062a \\u0628\\u0646\\u0633\\u0628\\u0629 21 .0 % \\u0639\\u0646\\u062f \\u0645\\u0633\\u062a\\u0648\\u0649 16 .3844 \\u0646\\u0642\\u0637\\u0629\\u060c \\u0648\\u0623\\u063a\\u0644\\u0642 \\u0645\\u0624\\u0634\\u0631 \\u0633\\u0648\\u0642 \\u062f\\u0628\\u064a \\u0627\\u0644\\u0645\\u0627\\u0644\\u064a \\u0639\\u0644\\u0649 \\u0627\\u0631\\u062a\\u0641\\u0627\\u0639 \\u0628\\u0646\\u0633\\u0628\\u0629 16 .1% \\u0639\\u0646\\u062f \\u0645\\u0633\\u062a\\u0648\\u064992 .2830 \\u0646\\u0642\\u0637\\u0629\\u060c \\u0641\\u064a \\u062d\\u064a\\u0646 \\u0623\\u063a\\u0644\\u0642 \\u0645\\u0624\\u0634\\u0631 \\u0633\\u0648\\u0642 \\u0623\\u0628\\u0648\\u0638\\u0628\\u064a \\u0639\\u0644\\u0649 \\u0627\\u0646\\u062e\\u0641\\u0627\\u0636 \\u0628\\u0646\\u0633\\u0628\\u0629 22 .0% \\u0639\\u0646\\u062f \\u0645\\u0633\\u062a\\u0648\\u0649 35 .3842 \\u0646\\u0642\\u0637\\u0629 . \\u0648\\u062a\\u0645 \\u062a\\u062f\\u0627\\u0648\\u0644 \\u0623\\u0633\\u0647\\u0645 60 \\u0634\\u0631\\u0643\\u0629 \\u0628\\u0645\\u0642\\u062f\\u0627\\u0631 87 .518 \\u0645\\u0644\\u064a\\u0648\\u0646 \\u0633\\u0647\\u0645 \\u0646\\u0641\\u0630\\u062a \\u0645\\u0646 \\u062e\\u0644\\u0627\\u0644 6907 \\u0635\\u0641\\u0642\\u0629 \\u0628\\u0642\\u064a\\u0645\\u0629 4 .781 \\u0645\\u0644\\u064a\\u0648\\u0646 \\u062f\\u0631\\u0647\\u0645 \\u064a\\u0648\\u0645 \\u0623\\u0645\\u0633 \\u0628\\u0632\\u064a\\u0627\\u062f\\u0629 \\u0646\\u0633\\u0628\\u062a\\u0647\\u0627 7 .11% \\u0645\\u0642\\u0627\\u0631\\u0646\\u0629 \\u0628\\u062a\\u062f\\u0627\\u0648\\u0644\\u0627\\u062a \\u0623\\u0645\\u0633 \\u0627\\u0644\\u0623\\u0648\\u0644 .\\u0648\\u062a\\u0635\\u062f\\u0631 \\u0633\\u0647\\u0645 \\u062f\\u0628\\u064a \\u0644\\u0644\\u0627\\u0633\\u062a\\u062b\\u0645\\u0627\\u0631 \\u0642\\u0627\\u0626\\u0645\\u0629 \\u0627\\u0644\\u0623\\u0633\\u0647\\u0645 \\u0627\\u0644\\u0623\\u0643\\u062b\\u0631 \\u062a\\u062f\\u0627\\u0648\\u0644\\u0627\\u064b \\u0641\\u064a \\u0627\\u0644\\u0633\\u0648\\u0642\\u064a\\u0646 \\u0628\\u0642\\u064a\\u0645\\u0629 3 .101 \\u0645\\u0644\\u064a\\u0648\\u0646 \\u062f\\u0631\\u0647\\u0645 \\u0648\\u0627\\u0631\\u062a\\u0641\\u0639 \\u0633\\u0639\\u0631 \\u0627\\u0644\\u0633\\u0647\\u0645 91 .2% \\u0648\\u0627\\u063a\\u0644\\u0642 \\u0639\\u0646\\u062f 12 .2 \\u062f\\u0631\\u0647\\u0645\\u060c \\u0648\\u062c\\u0627\\u0621 \\u0633\\u0647\\u0645 \\u0633\\u0648\\u0642 \\u062f\\u0628\\u064a \\u0627\\u0644\\u0645\\u0627\\u0644\\u064a \\u0641\\u064a \\u0627\\u0644\\u0645\\u0631\\u0643\\u0632 \\u0627\\u0644\\u062b\\u0627\\u0646\\u064a \\u0628\\u062a\\u062f\\u0627\\u0648\\u0644 \\u0642\\u064a\\u0645\\u0629 4 .67 \\u0645\\u0644\\u064a\\u0648\\u0646 \\u062f\\u0631\\u0647\\u0645 \\u0648\\u0623\\u063a\\u0644\\u0642 \\u0639\\u0644\\u0649 \\u0627\\u0631\\u062a\\u0641\\u0627\\u0639 \\u0628\\u0646\\u0633\\u0628\\u0629 13 .4 % \\u0648\\u0623\\u063a\\u0644\\u0642 \\u0639\\u0646\\u062f 17 .2 \\u062f\\u0631\\u0647\\u0645 . \\u0648\\u062c\\u0627\\u0621 \\u0633\\u0647\\u0645 \\u0627\\u0644\\u0627\\u062a\\u062d\\u0627\\u062f \\u0627\\u0644\\u0639\\u0642\\u0627\\u0631\\u064a\\u0629 \\u0641\\u064a \\u0627\\u0644\\u0645\\u0631\\u0643\\u0632 \\u0627\\u0644\\u062b\\u0627\\u0644\\u062b \\u0628\\u062a\\u062f\\u0627\\u0648\\u0644 7 .65 \\u0645\\u0644\\u064a\\u0648\\u0646 \\u062f\\u0631\\u0647\\u0645\\u060c \\u0648\\u0635\\u0639\\u062f \\u0633\\u0639\\u0631 \\u0627\\u0644\\u0633\\u0647\\u0645 41 .3 % \\u0648\\u0623\\u063a\\u0644\\u0642 \\u0639\\u0646\\u062f 879 .0 \\u062f\\u0631\\u0647\\u0645 . \\u0648\\u0627\\u062d\\u062a\\u0644 \\u0633\\u0647\\u0645 \\u0625\\u0639\\u0645\\u0627\\u0631 \\u0627\\u0644\\u0645\\u0631\\u0643\\u0632 \\u0627\\u0644\\u0631\\u0627\\u0628\\u0639 \\u0628\\u062a\\u062f\\u0627\\u0648\\u0644 1 .65 \\u0645\\u0644\\u064a\\u0648\\u0646 \\u062f\\u0631\\u0647\\u0645\\u060c \\u0648\\u0627\\u0631\\u062a\\u0641\\u0639 \\u0633\\u0639\\u0631 \\u0627\\u0644\\u0633\\u0647\\u0645 34 .0% \\u0648\\u0623\\u063a\\u0644\\u0642 \\u0639\\u0646\\u062f 97 .5 \\u062f\\u0631\\u0647\\u0645 .\\u0648\\u062a\\u0635\\u062f\\u0631 \\u0633\\u0647\\u0645 \\u0627\\u0644\\u0648\\u0637\\u0646\\u064a\\u0629 \\u0644\\u0644\\u062a\\u0623\\u0645\\u064a\\u0646\\u0627\\u062a \\u0642\\u0627\\u0626\\u0645\\u0629 \\u0627\\u0644\\u0623\\u0633\\u0647\\u0645 \\u0627\\u0644\\u0623\\u0643\\u062b\\u0631 \\u0627\\u0631\\u062a\\u0641\\u0627\\u0639\\u0627 \\u0641\\u064a \\u0627\\u0644\\u0623\\u0633\\u0639\\u0627\\u0631\\u060c \\u0648\\u0635\\u0639\\u062f \\u0627\\u0644\\u0633\\u0647\\u0645 63 .14% \\u0648\\u0623\\u063a\\u0644\\u0642 \\u0639\\u0646\\u062f 75 .11 . \\u0643\\u0645\\u0627 \\u0627\\u0631\\u062a\\u0641\\u0639 \\u0633\\u0639\\u0631 \\u0633\\u0647\\u0645 \\u0627\\u0644\\u0627\\u0633\\u062a\\u0634\\u0627\\u0631\\u0627\\u062a \\u0627\\u0644\\u0645\\u0627\\u0644\\u064a\\u0629 27 .13% \\u0648\\u0623\\u063a\\u0644\\u0642 \\u0639\\u0646\\u062f 28 .1 \\u062f\\u0631\\u0647\\u0645 .\\u0648\\u0641\\u064a \\u0627\\u0644\\u0645\\u0642\\u0627\\u0628\\u0644 \\u062a\\u0635\\u062f\\u0631 \\u0633\\u0647\\u0645 \\u0627\\u0644\\u062e\\u0644\\u064a\\u062c \\u0644\\u0644\\u0645\\u0634\\u0627\\u0631\\u064a\\u0639 \\u0627\\u0644\\u0637\\u0628\\u064a\\u0629 \\u0642\\u0627\\u0626\\u0645\\u0629 \\u0627\\u0644\\u0623\\u0633\\u0647\\u0645 \\u0627\\u0644\\u0623\\u0643\\u062b\\u0631 \\u062a\\u0631\\u0627\\u062c\\u0639\\u0627\\u064b\\u060c \\u0648\\u0627\\u0646\\u062e\\u0641\\u0636 \\u0627\\u0644\\u0633\\u0647\\u0645 \\u0628\\u0627\\u0644\\u062d\\u062f \\u0627\\u0644\\u0623\\u062f\\u0646\\u0649 \\u0648\\u0623\\u063a\\u0644\\u0642 \\u0639\\u0646\\u062f 7 .2 \\u062f\\u0631\\u0647\\u0645 . \\u0643\\u0645\\u0627 \\u0627\\u0646\\u062e\\u0641\\u0636 \\u0633\\u0647\\u0645 \\u0627\\u0644\\u0645\\u062e\\u0627\\u0632\\u0646 \\u0627\\u0644\\u0639\\u0627\\u0645\\u0629 93 .8% \\u0648\\u0627\\u063a\\u0644\\u0642 \\u0639\\u0646\\u062f 2 .10 \\u062f\\u0631\\u0647\\u0645 .\\u0648\\u0627\\u062a\\u062c\\u0647 \\u0627\\u0644\\u0645\\u0633\\u062a\\u062b\\u0645\\u0631\\u0648\\u0646 \\u0627\\u0644\\u0623\\u062c\\u0627\\u0646\\u0628 \\u0641\\u064a \\u0633\\u0648\\u0642 \\u0623\\u0628\\u0648\\u0638\\u0628\\u064a \\u0646\\u062d\\u0648 \\u0628\\u064a\\u0639 \\u0627\\u0644\\u0623\\u0633\\u0647\\u0645 \\u0628\\u0642\\u064a\\u0645\\u0629 1 .93 \\u0645\\u0644\\u064a\\u0648\\u0646 \\u062f\\u0631\\u0647\\u0645\\u060c \\u0648\\u0628\\u0644\\u063a\\u062a \\u0645\\u0634\\u062a\\u0631\\u064a\\u0627\\u062a\\u0647\\u0645 6 .84 \\u0645\\u0644\\u064a\\u0648\\u0646 \\u062f\\u0631\\u0647\\u0645\\u060c \\u0648\\u0648\\u0635\\u0644 \\u0635\\u0627\\u0641\\u064a \\u0627\\u0633\\u062a\\u062b\\u0645\\u0627\\u0631\\u0627\\u062a\\u0647\\u0645 \\u0625\\u0644\\u0649 5 .8 \\u0645\\u0644\\u064a\\u0648\\u0646 \\u062f\\u0631\\u0647\\u0645 \\u0645\\u062d\\u0635\\u0644\\u0629 \\u0628\\u064a\\u0639 . \\u0648\\u0641\\u064a \\u0627\\u0644\\u0645\\u0642\\u0627\\u0628\\u0644 \\u0627\\u062a\\u062c\\u0647 \\u0627\\u0644\\u0645\\u0648\\u0627\\u0637\\u0646\\u0648\\u0646 \\u0646\\u062d\\u0648 \\u0634\\u0631\\u0627\\u0621 \\u0627\\u0644\\u0623\\u0633\\u0647\\u0645 \\u0628\\u0642\\u064a\\u0645\\u0629 6 .141 \\u0645\\u0644\\u064a\\u0648\\u0646 \\u062f\\u0631\\u0647\\u0645\\u060c \\u0641\\u064a\\u0645\\u0627 \\u0628\\u0644\\u063a\\u062a \\u0645\\u0628\\u064a\\u0639\\u0627\\u062a\\u0647\\u0645 2 .133 \\u0645\\u0644\\u064a\\u0648\\u0646 \\u062f\\u0631\\u0647\\u0645\\u060c \\u0648\\u0648\\u0635\\u0644 \\u0635\\u0627\\u0641\\u064a \\u0627\\u0633\\u062a\\u062b\\u0645\\u0627\\u0631\\u0627\\u062a\\u0647\\u0645 \\u0625\\u0644\\u0649 5 .8 \\u0645\\u0644\\u064a\\u0648\\u0646 \\u062f\\u0631\\u0647\\u0645 \\u0645\\u062d\\u0635\\u0644\\u0629 \\u0634\\u0631\\u0627\\u0621 . \\u0627\\u0644\\u0645\\u062d\\u0627\\u0641\\u0638 \\u0627\\u0644\\u0627\\u0633\\u062a\\u062b\\u0645\\u0627\\u0631\\u064a\\u0629 \\u0628\\u062f\\u0648\\u0631\\u0647\\u0627 \\u0627\\u062a\\u062c\\u0647\\u062a \\u0646\\u062d\\u0648 \\u0634\\u0631\\u0627\\u0621 \\u0627\\u0644\\u0623\\u0633\\u0647\\u0645 \\u0641\\u064a \\u0623\\u0628\\u0648\\u0638\\u0628\\u064a \\u0628\\u0642\\u064a\\u0645\\u0629 9 .82 \\u0645\\u0644\\u064a\\u0648\\u0646 \\u062f\\u0631\\u0647\\u0645\\u060c \\u0648\\u0628\\u0644\\u063a\\u062a \\u0645\\u0628\\u064a\\u0639\\u0627\\u062a\\u0647\\u0627 5 .77 \\u0645\\u0644\\u064a\\u0648\\u0646 \\u062f\\u0631\\u0647\\u0645\\u060c \\u0648\\u0648\\u0635\\u0644 \\u0635\\u0627\\u0641\\u064a \\u0627\\u0633\\u062a\\u062b\\u0645\\u0627\\u0631\\u0627\\u062a\\u0647\\u0627 \\u0625\\u0644\\u0649 3 .5 \\u0645\\u0644\\u064a\\u0648\\u0646 \\u062f\\u0631\\u0647\\u0645 \\u0645\\u062d\\u0635\\u0644\\u0629 \\u0634\\u0631\\u0627\\u0621 . \\u0648\\u0641\\u064a \\u0627\\u0644\\u0645\\u0642\\u0627\\u0628\\u0644 \\u0627\\u062a\\u062c\\u0647 \\u0627\\u0644\\u0645\\u0633\\u062a\\u062b\\u0645\\u0631\\u0648\\u0646 \\u0627\\u0644\\u0623\\u0641\\u0631\\u0627\\u062f \\u0646\\u062d\\u0648 \\u0628\\u064a\\u0639 \\u0627\\u0644\\u0623\\u0633\\u0647\\u0645 \\u0628\\u0642\\u064a\\u0645\\u0629 6 .148 \\u0645\\u0644\\u064a\\u0648\\u0646 \\u062f\\u0631\\u0647\\u0645\\u060c \\u0648\\u0645\\u0634\\u062a\\u0631\\u064a\\u0627\\u062a\\u0647\\u0645 3 .143 \\u0645\\u0644\\u064a\\u0648\\u0646 \\u062f\\u0631\\u0647\\u0645\\u060c \\u0648\\u0635\\u0627\\u0641\\u064a \\u0627\\u0633\\u062a\\u062b\\u0645\\u0627\\u0631\\u0627\\u062a\\u0647\\u0645 3 .5 \\u0645\\u0644\\u064a\\u0648\\u0646 \\u062f\\u0631\\u0647\\u0645 \\u0645\\u062d\\u0635\\u0644\\u0629 \\u0628\\u064a\\u0639 .\\u0648\\u0627\\u062a\\u062c\\u0647 \\u0627\\u0644\\u0645\\u0633\\u062a\\u062b\\u0645\\u0631\\u0648\\u0646 \\u0627\\u0644\\u0623\\u062c\\u0627\\u0646\\u0628 \\u0641\\u064a \\u0633\\u0648\\u0642 \\u062f\\u0628\\u064a \\u0627\\u0644\\u0645\\u0627\\u0644\\u064a \\u0646\\u062d\\u0648 \\u0628\\u064a\\u0639 \\u0627\\u0644\\u0623\\u0633\\u0647\\u0645 \\u0628\\u0642\\u064a\\u0645\\u0629 1 .280 \\u0645\\u0644\\u064a\\u0648\\u0646 \\u062f\\u0631\\u0647\\u0645\\u060c \\u0648\\u0628\\u0644\\u063a\\u062a \\u0645\\u0634\\u062a\\u0631\\u064a\\u0627\\u062a\\u0647\\u0645 7 .274 \\u0645\\u0644\\u064a\\u0648\\u0646 \\u062f\\u0631\\u0647\\u0645\\u060c \\u0648\\u0648\\u0635\\u0644 \\u0635\\u0627\\u0641\\u064a \\u0627\\u0633\\u062a\\u062b\\u0645\\u0627\\u0631\\u0627\\u062a\\u0647\\u0645 \\u0625\\u0644\\u0649 4 .5 \\u0645\\u0644\\u064a\\u0648\\u0646 \\u062f\\u0631\\u0647\\u0645 \\u0645\\u062d\\u0635\\u0644\\u0629 \\u0628\\u064a\\u0639\\u060c \\u0648\\u0641\\u064a \\u0627\\u0644\\u0645\\u0642\\u0627\\u0628\\u0644 \\u0627\\u062a\\u062c\\u0647 \\u0627\\u0644\\u0645\\u0648\\u0627\\u0637\\u0646\\u0648\\u0646 \\u0646\\u062d\\u0648 \\u0634\\u0631\\u0627\\u0621 \\u0627\\u0644\\u0623\\u0633\\u0647\\u0645 \\u0628\\u0642\\u064a\\u0645\\u0629 4 .280 \\u0645\\u0644\\u064a\\u0648\\u0646 \\u062f\\u0631\\u0647\\u0645\\u060c \\u0641\\u064a\\u0645\\u0627 \\u0628\\u0644\\u063a\\u062a \\u0645\\u0628\\u064a\\u0639\\u0627\\u062a\\u0647\\u0645 275 \\u0645\\u0644\\u064a\\u0648\\u0646 \\u062f\\u0631\\u0647\\u0645\\u060c \\u0648\\u0648\\u0635\\u0644 \\u0635\\u0627\\u0641\\u064a \\u0627\\u0633\\u062a\\u062b\\u0645\\u0627\\u0631\\u0627\\u062a\\u0647\\u0645 \\u0625\\u0644\\u0649 4 .5 \\u0645\\u0644\\u064a\\u0648\\u0646 \\u062f\\u0631\\u0647\\u0645 \\u0645\\u062d\\u0635\\u0644\\u0629 \\u0634\\u0631\\u0627\\u0621 . \\u0627\\u0644\\u0645\\u062d\\u0627\\u0641\\u0638 \\u0627\\u0644\\u0627\\u0633\\u062a\\u062b\\u0645\\u0627\\u0631\\u064a\\u0629 \\u0628\\u062f\\u0648\\u0631\\u0647\\u0627 \\u0627\\u062a\\u062c\\u0647\\u062a \\u0646\\u062d\\u0648 \\u0634\\u0631\\u0627\\u0621 \\u0627\\u0644\\u0623\\u0633\\u0647\\u0645 \\u0641\\u064a \\u062f\\u0628\\u064a \\u0628\\u0642\\u064a\\u0645\\u0629 1 .137 \\u0645\\u0644\\u064a\\u0648\\u0646 \\u062f\\u0631\\u0647\\u0645\\u060c \\u0648\\u0628\\u0644\\u063a\\u062a \\u0645\\u0628\\u064a\\u0639\\u0627\\u062a\\u0647\\u0627 9 .106 \\u0645\\u0644\\u064a\\u0648\\u0646 \\u062f\\u0631\\u0647\\u0645\\u060c \\u0648\\u0648\\u0635\\u0644 \\u0635\\u0627\\u0641\\u064a \\u0627\\u0633\\u062a\\u062b\\u0645\\u0627\\u0631\\u0627\\u062a\\u0647\\u0627 \\u0625\\u0644\\u0649 2 .30 \\u0645\\u0644\\u064a\\u0648\\u0646 \\u062f\\u0631\\u0647\\u0645 \\u0645\\u062d\\u0635\\u0644\\u0629 \\u0634\\u0631\\u0627\\u0621 . \\u0648\\u0641\\u064a \\u0627\\u0644\\u0645\\u0642\\u0627\\u0628\\u0644 \\u0627\\u062a\\u062c\\u0647 \\u0627\\u0644\\u0645\\u0633\\u062a\\u062b\\u0645\\u0631\\u0648\\u0646 \\u0627\\u0644\\u0623\\u0641\\u0631\\u0627\\u062f \\u0646\\u062d\\u0648 \\u0628\\u064a\\u0639 \\u0627\\u0644\\u0623\\u0633\\u0647\\u0645 \\u0628\\u0642\\u064a\\u0645\\u0629 2 .448 \\u0645\\u0644\\u064a\\u0648\\u0646 \\u062f\\u0631\\u0647\\u0645\\u060c \\u0648\\u0628\\u0644\\u063a\\u062a \\u0645\\u0634\\u062a\\u0631\\u064a\\u0627\\u062a\\u0647\\u0627 0 .418 \\u0645\\u0644\\u064a\\u0648\\u0646 \\u062f\\u0631\\u0647\\u0645\\u060c \\u0648\\u0648\\u0635\\u0644 \\u0635\\u0627\\u0641\\u064a \\u0627\\u0633\\u062a\\u062b\\u0645\\u0627\\u0631\\u0627\\u062a\\u0647\\u0627 \\u0625\\u0644\\u0649 2 .30 \\u0645\\u0644\\u064a\\u0648\\u0646 \\u062f\\u0631\\u0647\\u0645 \\u0645\\u062d\\u0635\\u0644\\u0629 \\u0628\\u064a\\u0639 .\",\n          \"\\u0641\\u064a \\u0625\\u0637\\u0627\\u0631 \\u062e\\u0637\\u0629 \\u0645\\u062a\\u0643\\u0627\\u0645\\u0644\\u0629 \\u0644\\u0631\\u0641\\u0639 \\u0645\\u0633\\u062a\\u0648\\u0649 \\u0623\\u062f\\u0627\\u0621 \\u0633\\u0648\\u0642 \\u0623\\u0628\\u0648\\u0638\\u0628\\u064a \\u0644\\u0644\\u0623\\u0648\\u0631\\u0627\\u0642 \\u0627\\u0644\\u0645\\u0627\\u0644\\u064a\\u0629 \\u0648\\u0641\\u0642 \\u0623\\u0633\\u062a\\u0631\\u0627\\u062a\\u064a\\u062c\\u064a\\u062a\\u0647\\u0627 \\u0627\\u0644\\u062a\\u064a \\u062a\\u062a\\u0645\\u0627\\u0634\\u0649 \\u0645\\u0639 \\u0631\\u0624\\u064a\\u0629 \\u062d\\u0643\\u0648\\u0645\\u0629 \\u0623\\u0628\\u0648\\u0638\\u0628\\u064a 2030 \\u0628\\u062f\\u0623 \\u0633\\u0648\\u0642 \\u0623\\u0628\\u0648\\u0638\\u0628\\u064a \\u0644\\u0644\\u0623\\u0648\\u0631\\u0627\\u0642 \\u0627\\u0644\\u0645\\u0627\\u0644\\u064a\\u0629 \\u062a\\u0637\\u0628\\u064a\\u0642 \\u0627\\u0644\\u0639\\u0645\\u0644 \\u0628\\u0646\\u0638\\u0627\\u0645 \\u0627\\u0644\\u062a\\u0633\\u0644\\u064a\\u0645 \\u0645\\u0642\\u0627\\u0628\\u0644 \\u0627\\u0644\\u062f\\u0641\\u0639 (DvP) .\\u0648\\u0642\\u0627\\u0644 \\u0631\\u0627\\u0634\\u062f \\u0627\\u0644\\u0628\\u0644\\u0648\\u0634\\u064a\\u060c \\u0646\\u0627\\u0626\\u0628 \\u0627\\u0644\\u0631\\u0626\\u064a\\u0633 \\u0627\\u0644\\u062a\\u0646\\u0641\\u064a\\u0630\\u064a \\u0645\\u062f\\u064a\\u0631 \\u0639\\u0645\\u0644\\u064a\\u0627\\u062a \\u0633\\u0648\\u0642 \\u0623\\u0628\\u0648\\u0638\\u0628\\u064a \\u0644\\u0644\\u0623\\u0648\\u0631\\u0627\\u0642 \\u0627\\u0644\\u0645\\u0627\\u0644\\u064a\\u0629\\u060c \\u0625\\u0646 \\u0647\\u0630\\u0627 \\u0627\\u0644\\u0625\\u062c\\u0631\\u0627\\u0621 \\u0627\\u0644\\u0630\\u064a \\u0637\\u0628\\u0642 \\u0648\\u0641\\u0642\\u0627\\u064b \\u0644\\u0623\\u0639\\u0644\\u0649 \\u0627\\u0644\\u0645\\u0639\\u0627\\u064a\\u064a\\u0631 \\u0627\\u0644\\u0639\\u0627\\u0644\\u0645\\u064a\\u0629 \\u0627\\u0644\\u0645\\u062a\\u0639\\u0644\\u0642\\u0629 \\u0628\\u0623\\u0641\\u0636\\u0644 \\u0627\\u0644\\u0645\\u0645\\u0627\\u0631\\u0633\\u0627\\u062a \\u0627\\u0644\\u0645\\u0639\\u0645\\u0648\\u0644 \\u0628\\u0647\\u0627 \\u0641\\u064a \\u0627\\u0644\\u0623\\u0633\\u0648\\u0627\\u0642 \\u0627\\u0644\\u0639\\u0627\\u0644\\u0645\\u064a\\u0629 \\u0627\\u0644\\u0645\\u062a\\u0642\\u062f\\u0645\\u0629 \\u0633\\u0648\\u0641 \\u064a\\u062f\\u0639\\u0645 \\u0645\\u0646 \\u062a\\u062d\\u0633\\u064a\\u0646 \\u0627\\u0644\\u062e\\u062f\\u0645\\u0627\\u062a \\u0627\\u0644\\u062a\\u064a \\u062a\\u0642\\u062f\\u0645 \\u0625\\u0644\\u0649 \\u062c\\u0645\\u0647\\u0648\\u0631 \\u0627\\u0644\\u0645\\u0633\\u062a\\u062b\\u0645\\u0631\\u064a\\u0646 \\u0648\\u0627\\u0644\\u0634\\u0631\\u0643\\u0627\\u0621 \\u0648\\u0627\\u0644\\u0648\\u0633\\u0637\\u0627\\u0621 \\u0639\\u0644\\u0649 \\u062d\\u062f \\u0633\\u0648\\u0627\\u0621 \\u0648\\u062a\\u0637\\u0648\\u064a\\u0631 \\u0627\\u0644\\u0623\\u062f\\u0627\\u0621 \\u0628\\u0645\\u0627 \\u064a\\u0639\\u0632\\u0632 \\u0645\\u0646 \\u0627\\u0644\\u0645\\u0633\\u064a\\u0631\\u0629 \\u0627\\u0644\\u062a\\u0646\\u0645\\u0648\\u064a\\u0629 \\u0627\\u0644\\u062a\\u064a \\u064a\\u0648\\u0627\\u0643\\u0628\\u0647\\u0627 \\u0633\\u0648\\u0642 \\u0623\\u0628\\u0648\\u0638\\u0628\\u064a \\u0644\\u0644\\u0623\\u0648\\u0631\\u0627\\u0642 \\u0627\\u0644\\u0645\\u0627\\u0644\\u064a\\u0629 \\u0645\\u0646\\u0630 \\u062a\\u0623\\u0633\\u064a\\u0633\\u0629 \\u0641\\u064a 15 \\u0646\\u0648\\u0641\\u0645\\u0628\\u0631/ \\u062a\\u0634\\u0631\\u064a\\u0646 \\u0627\\u0644\\u062b\\u0627\\u0646\\u064a 2000 \\u0648\\u062a\\u062a\\u0648\\u0627\\u0641\\u0642 \\u0645\\u0639 \\u0627\\u0644\\u062a\\u0637\\u0648\\u0631\\u0627\\u062a \\u0627\\u0644\\u0639\\u0627\\u0644\\u0645\\u064a\\u0629 \\u0641\\u064a \\u0645\\u0633\\u062a\\u0648\\u0649 \\u0627\\u0644\\u062e\\u062f\\u0645\\u0627\\u062a \\u0628\\u0645\\u0627 \\u064a\\u0639\\u0632\\u0632 \\u0645\\u0646 \\u0627\\u0633\\u062a\\u0642\\u0637\\u0627\\u0628 \\u0627\\u0644\\u0627\\u0633\\u062a\\u062b\\u0645\\u0627\\u0631 \\u0627\\u0644\\u0645\\u0624\\u0633\\u0633\\u064a \\u0637\\u0648\\u064a\\u0644 \\u0627\\u0644\\u0623\\u0645\\u062f \\u0641\\u064a \\u0627\\u0644\\u0633\\u0648\\u0642 \\u0648\\u0632\\u064a\\u0627\\u062f\\u0629 \\u0641\\u0639\\u0627\\u0644\\u064a\\u062a\\u0647 \\u0628\\u0646\\u0634\\u0627\\u0637 \\u0627\\u0644\\u062a\\u062f\\u0627\\u0648\\u0644 .\\u0648\\u0623\\u0634\\u0627\\u0631 \\u0625\\u0644\\u0649 \\u0623\\u0646 \\u0627\\u0644\\u062a\\u0646\\u0633\\u064a\\u0642 \\u0628\\u064a\\u0646 \\u0633\\u0648\\u0642 \\u0623\\u0628\\u0648\\u0638\\u0628\\u064a \\u0648\\u0647\\u064a\\u0626\\u0629 \\u0627\\u0644\\u0623\\u0648\\u0631\\u0627\\u0642 \\u0627\\u0644\\u0645\\u0627\\u0644\\u064a\\u0629 \\u0648\\u0627\\u0644\\u0633\\u0644\\u0639 \\u0648\\u0633\\u0648\\u0642 \\u062f\\u0628\\u064a \\u0627\\u0644\\u0645\\u0627\\u0644\\u064a \\u0648\\u0627\\u0644\\u0648\\u0633\\u0637\\u0627\\u0621 \\u0648\\u0627\\u0644\\u062d\\u0627\\u0641\\u0638 \\u0627\\u0644\\u0623\\u0645\\u064a\\u0646 \\u0628\\u062f\\u0623 \\u0645\\u0646\\u0630 \\u0641\\u062a\\u0631\\u0629 \\u0644\\u0648\\u0636\\u0639 \\u0646\\u0638\\u0627\\u0645 \\u0645\\u0648\\u062d\\u062f \\u064a\\u0647\\u062f\\u0641 \\u0645\\u0646 \\u062e\\u0644\\u0627\\u0644\\u0629 \\u0644\\u062a\\u062d\\u0642\\u064a\\u0642 \\u063a\\u0627\\u064a\\u0627\\u062a \\u0627\\u0644\\u0645\\u0635\\u0644\\u062d\\u0629 \\u0627\\u0644\\u0639\\u0627\\u0645\\u0629 \\u0648\\u0627\\u0644\\u062d\\u0641\\u0627\\u0638 \\u0639\\u0644\\u0649 \\u0627\\u0644\\u0633\\u0645\\u0639\\u0629 \\u0627\\u0644\\u0645\\u062a\\u0645\\u064a\\u0632\\u0629 \\u0627\\u0644\\u062a\\u064a \\u062a\\u062d\\u0638\\u0649 \\u0628\\u0647\\u0627 \\u062f\\u0648\\u0644\\u0629 \\u0627\\u0644\\u0625\\u0645\\u0627\\u0631\\u0627\\u062a \\u0641\\u064a \\u0642\\u0637\\u0627\\u0639 \\u0627\\u0644\\u0627\\u0642\\u062a\\u0635\\u0627\\u062f \\u0648\\u0627\\u0644\\u0623\\u0639\\u0645\\u0627\\u0644 .\\u0643\\u0645\\u0627 \\u0623\\u0641\\u0627\\u062f \\u0623\\u0646 \\u0633\\u0648\\u0642 \\u0623\\u0628\\u0648\\u0638\\u0628\\u064a \\u062e\\u0644\\u0627\\u0644 \\u0645\\u0631\\u062d\\u0644\\u0629 \\u0627\\u0644\\u0625\\u0639\\u062f\\u0627\\u062f \\u0644\\u0646\\u0638\\u0627\\u0645 \\u0627\\u0644 (DvP) \\u0642\\u0627\\u0645 \\u0628\\u062a\\u0646\\u0638\\u064a\\u0645 \\u0648\\u0631\\u0634 \\u0639\\u0645\\u0644 \\u062d\\u0648\\u0644 \\u062a\\u0637\\u0628\\u064a\\u0642 \\u0622\\u0644\\u064a\\u0629 \\u062a\\u0633\\u0648\\u064a\\u0629 \\u0646\\u0638\\u0627\\u0645 \\u0627\\u0644\\u062a\\u0633\\u0644\\u064a\\u0645 \\u0645\\u0642\\u0627\\u0628\\u0644 \\u0627\\u0644\\u062f\\u0641\\u0639 \\u0634\\u0627\\u0631\\u0643 \\u0641\\u064a\\u0647\\u0627 \\u0645\\u0645\\u062b\\u0644\\u0648\\u0646 \\u0639\\u0646 \\u0645\\u0643\\u0627\\u062a\\u0628 \\u0634\\u0631\\u0643\\u0627\\u062a \\u0627\\u0644\\u0648\\u0633\\u0627\\u0637\\u0629 \\u0627\\u0644\\u0645\\u0633\\u062c\\u0644\\u0629 \\u0641\\u064a \\u0627\\u0644\\u0633\\u0648\\u0642 \\u0648\\u0634\\u0631\\u0643\\u0627\\u062a \\u0627\\u0644\\u062d\\u0627\\u0641\\u0638 \\u0627\\u0644\\u0623\\u0645\\u064a\\u0646 \\u0625\\u0644\\u0649 \\u062c\\u0627\\u0646\\u0628 \\u0645\\u0634\\u0627\\u0631\\u0643\\u0629 \\u0648\\u062d\\u0636\\u0648\\u0631 \\u0645\\u062c\\u0645\\u0648\\u0639\\u0629 \\u0645\\u0646 \\u0645\\u0633\\u0624\\u0648\\u0644\\u064a \\u0648\\u0645\\u0648\\u0638\\u0641\\u064a \\u0625\\u062f\\u0627\\u0631\\u0627\\u062a \\u0627\\u0644\\u0633\\u0648\\u0642 \\u0648\\u0627\\u0644\\u0645\\u0639\\u0646\\u064a\\u064a\\u0646 \\u0628\\u0627\\u0644\\u0623\\u0645\\u0631 \\u0628\\u0647\\u062f\\u0641 \\u0627\\u0644\\u062a\\u0623\\u0643\\u062f \\u0645\\u0646 \\u0633\\u0644\\u0627\\u0645\\u0629 \\u0627\\u0644\\u062a\\u0637\\u0628\\u064a\\u0642 \\u0642\\u0628\\u0644 \\u0627\\u0644\\u0634\\u0631\\u0648\\u0639 \\u0628\\u0647\\u060c \\u0628\\u0627\\u0644\\u0623\\u0636\\u0627\\u0641\\u0629 \\u0625\\u0644\\u0649 \\u062a\\u0628\\u0633\\u064a\\u0637 \\u0627\\u0644\\u0625\\u062c\\u0631\\u0627\\u0621\\u0627\\u062a \\u0648\\u062a\\u0639\\u0631\\u064a\\u0641 \\u0627\\u0644\\u0623\\u0637\\u0631\\u0627\\u0641 \\u0627\\u0644\\u0645\\u0639\\u0646\\u064a\\u0629 \\u0628\\u0627\\u0644\\u0623\\u0645\\u0631 \\u0648\\u0627\\u0644\\u0634\\u0631\\u0643\\u0627\\u0621 \\u0628\\u0627\\u0644\\u062e\\u0637\\u0648\\u0627\\u062a \\u0648\\u0627\\u0644\\u0622\\u0644\\u064a\\u0627\\u062a \\u0627\\u0644\\u0645\\u0637\\u0644\\u0648\\u0628\\u0629 \\u0644\\u0644\\u062a\\u0639\\u0627\\u0645\\u0644 \\u0628\\u0646\\u0638\\u0627\\u0645 \\u0627\\u0644 (DVP)\\u060c \\u0648\\u0630\\u0644\\u0643 \\u0644\\u0644\\u062a\\u0643\\u064a\\u0641 \\u0648\\u0627\\u0644\\u062a\\u0641\\u0627\\u0639\\u0644 \\u0648\\u062a\\u0637\\u0648\\u064a\\u0631 \\u0642\\u062f\\u0631\\u0627\\u062a \\u0648\\u0645\\u0647\\u0627\\u0631\\u0627\\u062a \\u0627\\u0644\\u0623\\u062f\\u0627\\u0621 \\u0644\\u062f\\u0649 \\u0627\\u0644\\u0645\\u0639\\u0646\\u064a\\u064a\\u0646 \\u0628\\u0627\\u0644\\u0623\\u0645\\u0631\\u060c \\u0628\\u0645\\u0627 \\u064a\\u062d\\u0642\\u0642 \\u0627\\u0644\\u0641\\u0627\\u0626\\u062f\\u0629 \\u0627\\u0644\\u0643\\u0627\\u0645\\u0644\\u0629 \\u0645\\u0646 \\u062a\\u0637\\u0628\\u064a\\u0642\\u0629 \\u0648\\u0641\\u0642 \\u0625\\u0637\\u0627\\u0631 \\u0631\\u0633\\u0627\\u0644\\u0629 \\u0627\\u0644\\u0633\\u0648\\u0642 \\u0627\\u0644\\u062a\\u064a \\u062a\\u0647\\u062f\\u0641 \\u0625\\u0644\\u0649 \\u062a\\u0642\\u062f\\u064a\\u0645 \\u0623\\u062c\\u0648\\u062f \\u0645\\u0639\\u0627\\u064a\\u064a\\u0631 \\u0627\\u0644\\u062e\\u062f\\u0645\\u0627\\u062a \\u0627\\u0644\\u0641\\u0639\\u0627\\u0644\\u0629 \\u0644\\u0644\\u0645\\u0633\\u062a\\u062b\\u0645\\u0631\\u064a\\u0646 .\\u0645\\u0646 \\u062c\\u0627\\u0646\\u0628\\u0629 \\u0642\\u0627\\u0644 \\u063a\\u0646\\u0627\\u0645 \\u0628\\u0637\\u064a \\u0627\\u0644\\u0645\\u0632\\u0631\\u0648\\u0639\\u064a \\u0631\\u0626\\u064a\\u0633 \\u0625\\u062f\\u0627\\u0631\\u0629 \\u0627\\u0644\\u062a\\u0633\\u0648\\u064a\\u0629 \\u0648\\u0627\\u0644\\u0645\\u0642\\u0627\\u0635\\u0629 \\u0648\\u0627\\u0644\\u0625\\u064a\\u062f\\u0627\\u0639 \\u0625\\u0646\\u0647 \\u062a\\u0645 \\u0627\\u0644\\u062a\\u0639\\u0627\\u0645\\u0644 \\u0645\\u0639 \\u0639\\u062f\\u062f \\u0645\\u0646 \\u0635\\u0641\\u0642\\u0627\\u062a \\u0627\\u0644\\u0628\\u064a\\u0639 \\u0648\\u0627\\u0644\\u0634\\u0631\\u0627\\u0621 \\u0628\\u0646\\u062c\\u0627\\u062d \\u0641\\u064a \\u0623\\u0648\\u0644 \\u064a\\u0648\\u0645 \\u062a\\u0645 \\u062a\\u0637\\u0628\\u064a\\u0642 \\u0622\\u0644\\u064a\\u0627\\u062a \\u0627\\u0644\\u062a\\u062f\\u0627\\u0648\\u0644 \\u0628\\u0646\\u0638\\u0627\\u0645 \\u0627\\u0644 (DvP) .\\u0648\\u062a\\u0645 \\u0631\\u0641\\u0636 \\u062b\\u0644\\u0627\\u062b \\u0635\\u0641\\u0642\\u0627\\u062a \\u0641\\u064a \\u0628\\u062f\\u0621 \\u0627\\u0644\\u0623\\u0645\\u0631 \\u0644\\u0645 \\u062a\\u0633\\u062a\\u0648\\u0641 \\u0627\\u0644\\u0634\\u0631\\u0648\\u0637 \\u0627\\u0644\\u0645\\u0637\\u0644\\u0648\\u0628\\u0629 \\u0648\\u0641\\u0642 \\u0646\\u0638\\u0627\\u0645 \\u0627\\u0644\\u062a\\u0633\\u0644\\u064a\\u0645 \\u0645\\u0642\\u0627\\u0628\\u0644 \\u0627\\u0644\\u062f\\u0641\\u0639 \\u0648\\u0645\\u0646 \\u062b\\u0645 \\u062a\\u0645 \\u0627\\u0644\\u062a\\u0623\\u0643\\u064a\\u062f \\u0627\\u0644\\u0645\\u062a\\u0623\\u062e\\u0631 \\u0644\\u0647\\u0627 \\u0628\\u0639\\u062f\\u0645\\u0627 \\u062a\\u0645 \\u0627\\u0633\\u062a\\u064a\\u0641\\u0627\\u0621 \\u0627\\u0644\\u0634\\u0631\\u0648\\u0637 \\u0627\\u0644\\u0637\\u0644\\u0648\\u0628\\u0629 \\u0644\\u0625\\u062a\\u0645\\u0627\\u0645 \\u0627\\u0644\\u0635\\u0641\\u0642\\u0629 \\u0628\\u0646\\u062c\\u0627\\u062d\\u060c \\u0648\\u0647\\u0630\\u0627 \\u0645\\u0627 \\u064a\\u0624\\u0643\\u062f \\u0648\\u064a\\u062f\\u0644 \\u0639\\u0644\\u0649 \\u0646\\u062c\\u0627\\u062d \\u0627\\u0644\\u062a\\u0637\\u0628\\u064a\\u0642 \\u0641\\u064a \\u0628\\u062f\\u0627\\u064a\\u0629 \\u062a\\u0641\\u0639\\u064a\\u0644\\u0647 \\u0628\\u0645\\u0633\\u062a\\u0648\\u0649 \\u0639\\u0644\\u0649 \\u0645\\u0646 \\u0627\\u0644\\u0623\\u062f\\u0627\\u0621 \\u0648\\u0627\\u0644\\u0645\\u0648\\u0636\\u0648\\u0639\\u064a\\u0629 \\u0641\\u064a \\u0627\\u0644\\u062a\\u0639\\u0627\\u0645\\u0644 .\\u0648\\u0623\\u0636\\u0627\\u0641: \\u0646\\u062d\\u0646 \\u0643\\u0645\\u0633\\u0624\\u0648\\u0644\\u064a\\u0646 \\u0641\\u064a \\u0633\\u0648\\u0642 \\u0623\\u0628\\u0648\\u0638\\u0628\\u064a \\u0644\\u0644\\u0623\\u0648\\u0631\\u0627\\u0642 \\u0627\\u0644\\u0645\\u0627\\u0644\\u064a\\u0629 \\u0646\\u0633\\u0639\\u0649 \\u062f\\u0627\\u0626\\u0645\\u0627\\u064b \\u0648\\u0628\\u0634\\u0643\\u0644 \\u062d\\u062b\\u064a\\u062b \\u0625\\u0644\\u0649 \\u0645\\u062d\\u0627\\u0648\\u0644\\u0629 \\u062a\\u0637\\u0628\\u064a\\u0642 \\u0628\\u0631\\u0627\\u0645\\u062c \\u0627\\u0644\\u062a\\u0637\\u0648\\u064a\\u0631 \\u0627\\u0644\\u062a\\u064a \\u062a\\u062d\\u0633\\u0646 \\u0645\\u0646 \\u0622\\u0644\\u064a\\u0627\\u062a \\u0627\\u0644\\u0623\\u062f\\u0627\\u0621 \\u0648\\u062a\\u0631\\u0642\\u0649 \\u0628\\u0645\\u0633\\u062a\\u0648\\u0649 \\u0627\\u0644\\u062e\\u062f\\u0645\\u0627\\u062a \\u0627\\u0644\\u062a\\u064a \\u062a\\u0642\\u062f\\u0645 \\u0625\\u0644\\u0649 \\u062c\\u0645\\u0647\\u0648\\u0631 \\u0627\\u0644\\u0645\\u0633\\u062a\\u062b\\u0645\\u0631\\u064a\\u0646 \\u0648\\u0641\\u0642\\u0627\\u064b \\u0644\\u062a\\u0648\\u062c\\u064a\\u0647\\u0627\\u062a \\u0627\\u0644\\u0625\\u062f\\u0627\\u0631\\u0629 \\u0627\\u0644\\u0639\\u0644\\u064a\\u0627 \\u0627\\u0644\\u062a\\u064a \\u062a\\u0647\\u062f\\u0641 \\u0625\\u0644\\u0649 \\u0631\\u0641\\u0639 \\u0645\\u0633\\u062a\\u0648\\u0649 \\u0627\\u0644\\u0639\\u0645\\u0644 \\u0648\\u0627\\u0644\\u0645\\u0642\\u062f\\u0631\\u0629 \\u0627\\u0644\\u062a\\u0646\\u0638\\u064a\\u0645\\u064a\\u0629 \\u0641\\u064a \\u0645\\u062c\\u0627\\u0644 \\u0627\\u0644\\u062a\\u062f\\u0627\\u0648\\u0644 \\u0628\\u0627\\u0644\\u0623\\u0648\\u0631\\u0627\\u0642 \\u0627\\u0644\\u0645\\u0627\\u0644\\u064a\\u0629 \\u0648\\u064a\\u062a\\u0648\\u0627\\u0621\\u0645 \\u0648\\u0627\\u0633\\u062a\\u0631\\u0627\\u062a\\u064a\\u062c\\u064a\\u0627\\u062a \\u0627\\u0644\\u062d\\u0643\\u0648\\u0645\\u0629 .\",\n          \"\\u0627\\u0646\\u062a\\u0642\\u0644 \\u0627\\u0644\\u062a\\u062d\\u0633\\u0646 \\u0627\\u0644\\u0633\\u0639\\u0631\\u064a \\u0627\\u0644\\u0649 \\u0633\\u0648\\u0642 \\u0627\\u0628\\u0648\\u0638\\u0628\\u064a \\u0627\\u0645\\u0633 \\u0645\\u0639 \\u0627\\u0631\\u062a\\u0641\\u0627\\u0639 \\u0645\\u0624\\u0634\\u0631\\u0647 29 .1% \\u0627\\u0644\\u0649 08 .4416 \\u0646\\u0642\\u0637\\u0629 \\u0641\\u064a\\u0645\\u0627 \\u0627\\u0646\\u062e\\u0641\\u0636 \\u0645\\u0624\\u0634\\u0631 \\u0633\\u0648\\u0642 \\u062f\\u0628\\u064a 26% \\u0627\\u0644\\u0649 81 .4789 \\u0646\\u0642\\u0637\\u0629 \\u0628\\u0639\\u062f\\u0645\\u0627 \\u0627\\u0633\\u062a\\u0648\\u0639\\u0628 \\u0639\\u0645\\u0644\\u064a\\u0627\\u062a \\u062c\\u0646\\u064a \\u0627\\u0644\\u0627\\u0631\\u0628\\u0627\\u062d \\u0627\\u0644\\u062c\\u0632\\u0626\\u064a\\u0629 \\u0648\\u062a\\u0645\\u0627\\u0633\\u0643 \\u0639\\u0646\\u062f \\u0645\\u0633\\u062a\\u0648\\u064a\\u0627\\u062a \\u0633\\u0639\\u0631\\u064a\\u0629 \\u0642\\u0631\\u064a\\u0628\\u0629 \\u0645\\u0646 \\u0627\\u0644\\u0645\\u0633\\u062a\\u0648\\u064a\\u0627\\u062a \\u0627\\u0644\\u062a\\u064a \\u0628\\u0644\\u063a\\u0647\\u0627 \\u0627\\u0645\\u0633 \\u0627\\u0644\\u0627\\u0648\\u0644\\u060c \\u0644\\u064a\\u0633\\u062c\\u0644 \\u0645\\u0624\\u0634\\u0631 \\u0633\\u0648\\u0642 \\u0627\\u0644\\u0627\\u0645\\u0627\\u0631\\u0627\\u062a \\u0641\\u064a \\u0627\\u0644\\u0645\\u062d\\u0635\\u0644\\u0629 \\u0627\\u0631\\u062a\\u0641\\u0627\\u0639\\u0627\\u064b \\u0628\\u0646\\u0633\\u0628\\u0629 59% \\u0627\\u0644\\u0649 5337 \\u0646\\u0642\\u0637\\u0629 \\u0645\\u0639 \\u0648\\u0635\\u0648\\u0644 \\u0627\\u0644\\u0642\\u064a\\u0645\\u0629 \\u0627\\u0644\\u0633\\u0648\\u0642\\u064a\\u0629 \\u0627\\u0644\\u0649 449 .754 \\u0645\\u0644\\u064a\\u0627\\u0631 \\u062f\\u0631\\u0647\\u0645 \\u0628\\u0645\\u0643\\u0627\\u0633\\u0628 \\u0628\\u0644\\u063a\\u062a 43 .4 \\u0645\\u0644\\u064a\\u0627\\u0631 \\u062f\\u0631\\u0647\\u0645 .\\u0648\\u0639\\u0627\\u062f\\u062a \\u0627\\u0644\\u062a\\u062f\\u0627\\u0648\\u0644\\u0627\\u062a \\u0627\\u0644\\u0649 \\u0645\\u0633\\u062a\\u0648\\u064a\\u0627\\u062a\\u0647\\u0627 \\u0627\\u0644\\u0645\\u0639\\u062a\\u0627\\u062f\\u0629 \\u0645\\u0633\\u062c\\u0644\\u0629\\u064b 068 .1 \\u0645\\u0644\\u064a\\u0627\\u0631 \\u062f\\u0631\\u0647\\u0645 \\u062a\\u0648\\u0632\\u0639\\u062a \\u0628\\u0648\\u0627\\u0642\\u0639 575 .652 \\u0645\\u0644\\u064a\\u0648\\u0646 \\u062f\\u0631\\u0647\\u0645 \\u062a\\u062f\\u0627\\u0648\\u0644\\u0627\\u062a \\u0633\\u0648\\u0642 \\u062f\\u0628\\u064a \\u0648224 .416 \\u0645\\u0644\\u064a\\u0648\\u0646 \\u062f\\u0631\\u0647\\u0645 \\u062a\\u062f\\u0627\\u0648\\u0644\\u0627\\u062a \\u0633\\u0648\\u0642 \\u0627\\u0628\\u0648\\u0638\\u0628\\u064a\\u060c \\u0641\\u064a \\u0638\\u0644 \\u062a\\u062d\\u0631\\u0643\\u0627\\u062a \\u0633\\u0639\\u0631\\u064a\\u0629 \\u0645\\u062a\\u0628\\u0627\\u064a\\u0646\\u0629 \\u062d\\u064a\\u062b \\u0627\\u0631\\u062a\\u0641\\u0639 \\u0627\\u0644\\u062e\\u0644\\u064a\\u062c \\u0627\\u0644\\u0627\\u0648\\u0644 85 .3% \\u0627\\u0644\\u0649 95 .22 \\u062f\\u0631\\u0647\\u0645 \\u0648\\u0627\\u0628\\u0648\\u0638\\u0628\\u064a \\u0627\\u0644\\u0648\\u0637\\u0646\\u064a 56 .2% \\u0627\\u0644\\u0649 18 \\u062f\\u0631\\u0647\\u0645\\u0627\\u064b \\u0648\\u0631\\u0623\\u0633 \\u0627\\u0644\\u062e\\u064a\\u0645\\u0629 \\u0627\\u0644\\u0639\\u0642\\u0627\\u0631\\u064a\\u0629 14 .3% \\u0627\\u0644\\u0649 64 .1 \\u062f\\u0631\\u0647\\u0645 \\u0648\\u0627\\u062a\\u0635\\u0627\\u0644\\u0627\\u062a 7 .1% \\u0627\\u0644\\u0649 95 .17 \\u062f\\u0631\\u0647\\u0645 \\u0648\\u0627\\u0631\\u0627\\u0628\\u062a\\u0643 57 .2% \\u0627\\u0644\\u0649 95 .13 \\u062f\\u0631\\u0647\\u0645 \\u0648\\u062a\\u0645\\u0648\\u064a\\u0644 02 .1% \\u0627\\u0644\\u0649 95 .5 \\u062f\\u0631\\u0647\\u0645 \\u0628\\u064a\\u0646\\u0645\\u0627 \\u0627\\u0646\\u062e\\u0641\\u0636 \\u0627\\u0639\\u0645\\u0627\\u0631 84% \\u0627\\u0644\\u0649 43 .9 \\u062f\\u0631\\u0647\\u0645 \\u0648\\u062f\\u064a\\u0627\\u0631 6 .1% \\u0627\\u0644\\u0649 85 .1 \\u062f\\u0631\\u0647\\u0645 .\\u0648\\u0628\\u0631\\u063a\\u0645 \\u0627\\u0644\\u062a\\u062d\\u0633\\u0646 \\u0627\\u0644\\u0645\\u062d\\u062f\\u0648\\u062f \\u0627\\u0644\\u0630\\u064a \\u062d\\u0642\\u0642\\u062a\\u0647 \\u0627\\u0644\\u0627\\u0633\\u0647\\u0645 \\u0645\\u0639 \\u062a\\u0648\\u0642\\u0641 \\u0645\\u0648\\u062c\\u0629 \\u0627\\u0644\\u0647\\u0628\\u0648\\u0637 \\u0642\\u0628\\u0644 \\u0646\\u0647\\u0627\\u064a\\u0629 \\u0627\\u0644\\u0627\\u0633\\u0628\\u0648\\u0639 \\u0627\\u0644\\u0645\\u0646\\u0642\\u0636\\u064a \\u0641\\u0642\\u062f \\u0638\\u0644\\u062a \\u0627\\u0644\\u062e\\u0633\\u0627\\u0626\\u0631 \\u0627\\u0644\\u0643\\u0628\\u064a\\u0631\\u0629 \\u0627\\u0644\\u062a\\u064a \\u062a\\u0643\\u0628\\u062f\\u0647\\u0627 \\u0627\\u0644\\u0645\\u0633\\u062a\\u062b\\u0645\\u0631\\u0648\\u0646 \\u0628\\u0641\\u0639\\u0644 \\u0647\\u0630\\u0647 \\u0627\\u0644\\u0645\\u0648\\u062c\\u0629 \\u0645\\u0635\\u062f\\u0631 \\u0642\\u0644\\u0642 \\u062f\\u0641\\u0639\\u0647\\u0645 \\u0644\\u0644\\u0627\\u0633\\u062a\\u0645\\u0631\\u0627\\u0631 \\u0628\\u0645\\u0631\\u0627\\u0642\\u0628\\u0629 \\u0627\\u0644\\u0633\\u0648\\u0642 \\u0628\\u062d\\u0630\\u0631 \\u0634\\u062f\\u064a\\u062f \\u062e\\u0635\\u0648\\u0635\\u0627\\u064b \\u0648\\u0623\\u0646 \\u0639\\u0645\\u0644\\u064a\\u0627\\u062a \\u062c\\u0646\\u064a \\u0627\\u0644\\u0627\\u0631\\u0628\\u0627\\u062d \\u0644\\u0627\\u062a\\u0632\\u0627\\u0644 \\u062a\\u062d\\u062f \\u0645\\u0646 \\u0627\\u0645\\u0643\\u0627\\u0646\\u064a\\u0629 \\u062f\\u062e\\u0648\\u0644 \\u0627\\u0644\\u0627\\u0633\\u0648\\u0627\\u0642 \\u0628\\u0633\\u0631\\u0639\\u0629 \\u0627\\u0644\\u0649 \\u0645\\u0631\\u062d\\u0644\\u0629 \\u0627\\u0644\\u0627\\u0646\\u062a\\u0639\\u0627\\u0634 \\u0627\\u0644\\u0645\\u062a\\u062a\\u0627\\u0628\\u0639\\u060c \\u0645\\u0639 \\u0638\\u0647\\u0648\\u0631 \\u062f\\u0644\\u0627\\u0626\\u0644 \\u0623\\u0648\\u0644\\u064a\\u0629 \\u0639\\u0644\\u0649 \\u0627\\u0646 \\u062d\\u0631\\u0643\\u0629 \\u0627\\u0644\\u062a\\u062f\\u0627\\u0648\\u0644 \\u0628\\u0627\\u062a\\u062a \\u0642\\u0627\\u062f\\u0631\\u0629 \\u0639\\u0644\\u0649 \\u0627\\u0633\\u062a\\u064a\\u0639\\u0627\\u0628 \\u062c\\u0646\\u064a \\u0627\\u0644\\u0627\\u0631\\u0628\\u0627\\u062d \\u0627\\u0630\\u0627 \\u0627\\u0633\\u062a\\u0645\\u0631 \\u0639\\u0646\\u062f \\u0648\\u062a\\u064a\\u0631\\u062a\\u0647 \\u0627\\u0644\\u062d\\u0627\\u0644\\u064a\\u0629 \\u0648\\u062a\\u0631\\u0627\\u0641\\u0642 \\u0645\\u0639 \\u062a\\u062d\\u0633\\u0646 \\u0645\\u062a\\u0648\\u0627\\u0635\\u0644 \\u0641\\u064a \\u062d\\u062c\\u0645 \\u0627\\u0644\\u0637\\u0644\\u0628\\u0627\\u062a \\u064a\\u062a\\u0628\\u0639\\u0647 \\u062a\\u0631\\u0627\\u062c\\u0639 \\u0646\\u0633\\u0628\\u064a \\u0641\\u064a \\u0627\\u0644\\u0639\\u0631\\u0648\\u0636 .\\u0648\\u064a\\u0628\\u062f\\u0648 \\u0627\\u0646 \\u0627\\u0644\\u0639\\u0627\\u0645\\u0644 \\u0627\\u0644\\u0627\\u0633\\u0627\\u0633\\u064a \\u0627\\u0644\\u0645\\u0642\\u0631\\u0631 \\u0644\\u0627\\u062a\\u062c\\u0627\\u0647 \\u062d\\u0631\\u0643\\u0629 \\u0627\\u0644\\u0627\\u0633\\u0648\\u0627\\u0642 \\u062e\\u0644\\u0627\\u0644 \\u0627\\u0644\\u0641\\u062a\\u0631\\u0629 \\u0627\\u0644\\u0645\\u0642\\u0628\\u0644\\u0629 \\u0645\\u0633\\u062a\\u0648\\u064a\\u0627\\u062a \\u0627\\u0644\\u0633\\u064a\\u0648\\u0644\\u0629 \\u0627\\u0644\\u062a\\u064a \\u062a\\u062f\\u062e\\u0644 \\u0627\\u0644\\u0649 \\u0627\\u0644\\u062a\\u062f\\u0627\\u0648\\u0644 \\u0641\\u0639\\u0644\\u0627 \\u0645\\u0642\\u0627\\u0628\\u0644 \\u0627\\u0644\\u0633\\u064a\\u0648\\u0644\\u0629 \\u0627\\u0644\\u0645\\u0633\\u062a\\u0645\\u0631\\u0629 \\u0628\\u0627\\u0644\\u0627\\u0646\\u062a\\u0638\\u0627\\u0631 \\u0644\\u0644\\u062a\\u0623\\u0643\\u062f \\u0645\\u0646 \\u062a\\u0648\\u0642\\u0641 \\u0645\\u0648\\u062c\\u0627\\u062a \\u0627\\u0644\\u0647\\u0628\\u0648\\u0637\\u060c \\u0648\\u0633\\u0637 \\u0627\\u062d\\u0633\\u0627\\u0633 \\u0639\\u0627\\u0645 \\u0628\\u0623\\u0646 \\u0645\\u0648\\u0633\\u0645 \\u0627\\u0644\\u0647\\u062f\\u0648\\u0621 \\u0627\\u0644\\u0635\\u064a\\u0641\\u064a \\u064a\\u0642\\u062a\\u0631\\u0628 \\u0645\\u0646 \\u0646\\u0647\\u0627\\u064a\\u062a\\u0647 \\u0648\\u0627\\u0646 \\u0627\\u0645\\u062a\\u062f \\u0642\\u0644\\u064a\\u0644\\u0627 \\u062e\\u0644\\u0627\\u0644 \\u0627\\u0644\\u0641\\u062a\\u0631\\u0629 \\u0627\\u0644\\u0627\\u0648\\u0644\\u0649 \\u0645\\u0646 \\u0634\\u0647\\u0631 \\u0631\\u0645\\u0636\\u0627\\u0646 \\u0627\\u0644\\u0645\\u0628\\u0627\\u0631\\u0643 \\u0645\\u0639 \\u0627\\u0645\\u0643\\u0627\\u0646\\u064a\\u0629 \\u062d\\u062f\\u0648\\u062b \\u062a\\u0633\\u0631\\u064a\\u0639 \\u0641\\u064a \\u0639\\u0648\\u062f\\u0629 \\u0627\\u0644\\u0627\\u0646\\u062a\\u0639\\u0627\\u0634 \\u0641\\u064a \\u062d\\u0627\\u0644 \\u062a\\u062d\\u0633\\u0646\\u062a \\u0627\\u0644\\u062a\\u062f\\u0627\\u0648\\u0644\\u0627\\u062a \\u0628\\u0648\\u0636\\u0648\\u062d \\u062e\\u0644\\u0627\\u0644 \\u0627\\u0644\\u0627\\u064a\\u0627\\u0645 \\u0627\\u0644\\u0645\\u0642\\u0628\\u0644\\u0629 .\\u0648\\u064a\\u062c\\u0645\\u0639 \\u0627\\u0644\\u062e\\u0628\\u0631\\u0627\\u0621 \\u0639\\u0644\\u0649 \\u0627\\u0646 \\u0645\\u0633\\u062a\\u0648\\u064a\\u0627\\u062a \\u0627\\u0644\\u0627\\u0633\\u0639\\u0627\\u0631 \\u0627\\u0644\\u062d\\u0627\\u0644\\u064a\\u0629 \\u0645\\u062c\\u0632\\u064a\\u0629 \\u0644\\u0644\\u0627\\u0633\\u062a\\u062b\\u0645\\u0627\\u0631 \\u0641\\u064a \\u062d\\u0627\\u0644 \\u0644\\u0645 \\u062a\\u0637\\u0631\\u0623 \\u0645\\u0633\\u062a\\u062c\\u062f\\u0627\\u062a \\u063a\\u064a\\u0631 \\u0645\\u062a\\u0648\\u0642\\u0639\\u0629 \\u062e\\u0635\\u0648\\u0635\\u0627\\u064b \\u0648\\u0627\\u0646 \\u0646\\u062a\\u0627\\u0626\\u062c \\u0627\\u0644\\u0634\\u0631\\u0643\\u0627\\u062a \\u0645\\u0628\\u0634\\u0631\\u0629\\u060c \\u0645\\u0627 \\u064a\\u062c\\u0639\\u0644 \\u0627\\u0644\\u0645\\u0636\\u0627\\u0639\\u0641\\u0627\\u062a \\u0627\\u0644\\u0633\\u0639\\u0631\\u064a\\u0629 \\u062a\\u0639\\u0643\\u0633 \\u0642\\u062f\\u0631\\u0629 \\u0627\\u0644\\u0627\\u0633\\u0647\\u0645 \\u0639\\u0644\\u0649 \\u062a\\u062d\\u0642\\u064a\\u0642 \\u0627\\u0644\\u0627\\u0631\\u0628\\u0627\\u062d \\u0645\\u0639 \\u062a\\u062f\\u0641\\u0642 \\u0627\\u0644\\u0633\\u064a\\u0648\\u0644\\u0629 \\u0627\\u0644\\u0649 \\u0627\\u0644\\u0627\\u0633\\u0648\\u0627\\u0642 \\u0628\\u0648\\u062a\\u064a\\u0631\\u0629 \\u0623\\u0639\\u0644\\u0649 .\"\n        ],\n        \"semantic_type\": \"\",\n        \"description\": \"\"\n      }\n    },\n    {\n      \"column\": \"label\",\n      \"properties\": {\n        \"dtype\": \"category\",\n        \"num_unique_values\": 3,\n        \"samples\": [\n          \"Finance\",\n          \"Culture\",\n          \"Medical\"\n        ],\n        \"semantic_type\": \"\",\n        \"description\": \"\"\n      }\n    }\n  ]\n}"
            }
          },
          "metadata": {},
          "execution_count": 15
        }
      ]
    },
    {
      "cell_type": "markdown",
      "id": "d87ddcd5",
      "metadata": {
        "id": "d87ddcd5"
      },
      "source": [
        "## Step 2: Clean Unnecessary Columns"
      ]
    },
    {
      "cell_type": "markdown",
      "id": "bb10d4d4",
      "metadata": {
        "id": "bb10d4d4"
      },
      "source": [
        "Remove any columns from the dataset that are not needed for training."
      ]
    },
    {
      "cell_type": "code",
      "execution_count": 16,
      "id": "7dd06b97",
      "metadata": {
        "id": "7dd06b97"
      },
      "outputs": [],
      "source": [
        "train_data.drop(columns=['Unnamed: 0'], inplace=True)\n",
        "test_data.drop(columns=['Unnamed: 0'], inplace=True)"
      ]
    },
    {
      "cell_type": "code",
      "source": [
        "##train_data = train_data.to_dict()\n",
        "#test_data = test_data.to_dict()"
      ],
      "metadata": {
        "id": "Dqq1VX3pRHAY"
      },
      "id": "Dqq1VX3pRHAY",
      "execution_count": null,
      "outputs": []
    },
    {
      "cell_type": "markdown",
      "id": "790b4a9e",
      "metadata": {
        "id": "790b4a9e"
      },
      "source": [
        "## Step 3: Splitting the Dataset"
      ]
    },
    {
      "cell_type": "markdown",
      "id": "66c8c1f4",
      "metadata": {
        "id": "66c8c1f4"
      },
      "source": [
        "Split the dataset into training and testing sets, ensuring that 20% of the data is used for testing."
      ]
    },
    {
      "cell_type": "code",
      "execution_count": null,
      "id": "3f839fea",
      "metadata": {
        "id": "3f839fea"
      },
      "outputs": [],
      "source": []
    },
    {
      "cell_type": "markdown",
      "id": "091d3694",
      "metadata": {
        "id": "091d3694"
      },
      "source": [
        "## Step 4: Tokenizing the Data"
      ]
    },
    {
      "cell_type": "markdown",
      "id": "c6418768",
      "metadata": {
        "id": "c6418768"
      },
      "source": [
        "Initialize a tokenizer for the model."
      ]
    },
    {
      "cell_type": "code",
      "execution_count": 17,
      "id": "89a28bfc",
      "metadata": {
        "id": "89a28bfc",
        "colab": {
          "base_uri": "https://localhost:8080/",
          "height": 298,
          "referenced_widgets": [
            "a23b71eff4e140449969b1cff7d38ceb",
            "2acc6cc3073649398f171437314d603c",
            "5c8166e1f0c548279fbee380d150c8fc",
            "7995b148ca924761bc6711b99b1d8f3f",
            "af42336280824a5dae57b85bc62a63b1",
            "5e4ddb7a3dd246f281a47ec52ae9fe66",
            "1f88903d86054737af10107e6c1ebce6",
            "901040f6ac334c9cb266104b530bb636",
            "7572f63b4a7743b698188afd09a803b7",
            "80a6e925859e4fd1a97297027e7a329e",
            "5ce67abfa4de445eab1340e9c005f4b4",
            "85db183324e5404ab14ca98afe43ab7d",
            "06ad14e679804aa982769a6d051d7fe2",
            "246655cb81ef4e5fbe291db143071ff5",
            "3bbda9e2554b4f1188a07274f60cd5d1",
            "6eda7d484c84456a89bd9cae895166ea",
            "acd7e52eb12e493cbdf1d7836044ab6d",
            "ced2025a480342a9ba29e189e607bf68",
            "343514da07674fa882f2da2df10705f3",
            "eebe8f1dca6e4307addad296f925a42d",
            "fcbee8daed104a33bb591bdde4d47454",
            "69734fca1e7d4b7bac6f4bdb96c37611",
            "5565af6896664c798db9d30fe0290095",
            "3a4b870c5f37415a99260daf7a09e774",
            "1b90e74db94d4859a461f8bc4b1bf51d",
            "3a19daf6f1014994add71a9fd2f3ebaf",
            "a3764c5f3cf541278f277e076bf84313",
            "8c4c76a524c64d15a07aba9f4c927f81",
            "846c6de498c847d3843b706827d1ec6b",
            "25ce4fe02df84370991c9f94f88f9149",
            "adf2d64089244fb7afffb086f957a329",
            "b02929c000f044729293ef56f723a22b",
            "fd57676a1a71460a8d8d80ee719466bf",
            "ed678ddd554648ae9e8d9c9b8c4fd871",
            "5db4c7d638b6453d9ee2c0efbcb87d40",
            "45531f9026354265a9a348073a1f0c86",
            "4088b786c8ea48c591af866caa577f34",
            "607254260802407fb177a783bcd9c448",
            "776fc0625b4d4121b585e07ba8ee10f0",
            "b75a3a29147f4a18957576905bf1c3f3",
            "697bd4962cbb45328b864fea9ec9de66",
            "8413cc06231342a890a0273f5376a505",
            "35156973e71a4e74a86a0fe7c37ec068",
            "aa29503bd52d4927b1db9ba0cf9c5c1d",
            "36c41df61ee14a1bbf7c13749bbacbfa",
            "268355568fba404d8aa3bd9603607f2e",
            "87d505d5b7784403a79f5df6445f49a0",
            "36a8c9e2dd3141eead843ce8753f12a1",
            "1c157c0b92674cdfb23bbc1eaad262fa",
            "7445578c43794cc78308f06f28a09017",
            "07f8c8151a5949cd8975420c80cafb53",
            "afe5327feea740b2885da71957138374",
            "d290b5c4a9344b9d95a02d5c880da5db",
            "620a07900e7b4fb29cb6f545f470ddd3",
            "3fa96a1ad90f452ba44070039cab6433",
            "62b91e28b2524e09b5a2ed3e5ca9711f",
            "2241e37bd3bf46ae9af1b966f99851d1",
            "5385f647915b49ea8a707e57a945b559",
            "db950779a07b4aeea8fcf02d884fb542",
            "cff573c873ef4eccba5a09ae97918d75",
            "08f1922d55fb43bda05d487d0b88f559",
            "b0d5d420efad4fccb061eade0a1af061",
            "aba85f09a63f4694a9080cb59f5e4059",
            "336688da86214741811d86967619e905",
            "40e97b28841b4fc884e11dce3248ebbe",
            "90f70e070b3e4b159dcdf33806672a23"
          ]
        },
        "collapsed": true,
        "outputId": "5c95f973-d98b-4d5a-e583-68526730101e"
      },
      "outputs": [
        {
          "output_type": "display_data",
          "data": {
            "text/plain": [
              "config.json:   0%|          | 0.00/384 [00:00<?, ?B/s]"
            ],
            "application/vnd.jupyter.widget-view+json": {
              "version_major": 2,
              "version_minor": 0,
              "model_id": "a23b71eff4e140449969b1cff7d38ceb"
            }
          },
          "metadata": {}
        },
        {
          "output_type": "display_data",
          "data": {
            "text/plain": [
              "model.safetensors:   0%|          | 0.00/543M [00:00<?, ?B/s]"
            ],
            "application/vnd.jupyter.widget-view+json": {
              "version_major": 2,
              "version_minor": 0,
              "model_id": "85db183324e5404ab14ca98afe43ab7d"
            }
          },
          "metadata": {}
        },
        {
          "output_type": "stream",
          "name": "stderr",
          "text": [
            "Some weights of BertForSequenceClassification were not initialized from the model checkpoint at aubmindlab/bert-base-arabertv02 and are newly initialized: ['classifier.bias', 'classifier.weight']\n",
            "You should probably TRAIN this model on a down-stream task to be able to use it for predictions and inference.\n"
          ]
        },
        {
          "output_type": "display_data",
          "data": {
            "text/plain": [
              "tokenizer_config.json:   0%|          | 0.00/381 [00:00<?, ?B/s]"
            ],
            "application/vnd.jupyter.widget-view+json": {
              "version_major": 2,
              "version_minor": 0,
              "model_id": "5565af6896664c798db9d30fe0290095"
            }
          },
          "metadata": {}
        },
        {
          "output_type": "display_data",
          "data": {
            "text/plain": [
              "vocab.txt:   0%|          | 0.00/825k [00:00<?, ?B/s]"
            ],
            "application/vnd.jupyter.widget-view+json": {
              "version_major": 2,
              "version_minor": 0,
              "model_id": "ed678ddd554648ae9e8d9c9b8c4fd871"
            }
          },
          "metadata": {}
        },
        {
          "output_type": "display_data",
          "data": {
            "text/plain": [
              "tokenizer.json:   0%|          | 0.00/2.64M [00:00<?, ?B/s]"
            ],
            "application/vnd.jupyter.widget-view+json": {
              "version_major": 2,
              "version_minor": 0,
              "model_id": "36c41df61ee14a1bbf7c13749bbacbfa"
            }
          },
          "metadata": {}
        },
        {
          "output_type": "display_data",
          "data": {
            "text/plain": [
              "special_tokens_map.json:   0%|          | 0.00/112 [00:00<?, ?B/s]"
            ],
            "application/vnd.jupyter.widget-view+json": {
              "version_major": 2,
              "version_minor": 0,
              "model_id": "62b91e28b2524e09b5a2ed3e5ca9711f"
            }
          },
          "metadata": {}
        },
        {
          "output_type": "stream",
          "name": "stderr",
          "text": [
            "/usr/local/lib/python3.10/dist-packages/transformers/tokenization_utils_base.py:1601: FutureWarning: `clean_up_tokenization_spaces` was not set. It will be set to `True` by default. This behavior will be depracted in transformers v4.45, and will be then set to `False` by default. For more details check this issue: https://github.com/huggingface/transformers/issues/31884\n",
            "  warnings.warn(\n"
          ]
        }
      ],
      "source": [
        "from transformers import AutoTokenizer, AutoModelForSequenceClassification\n",
        "\n",
        "model = AutoModelForSequenceClassification.from_pretrained(\"aubmindlab/bert-base-arabertv02\")\n",
        "tokenizer = AutoTokenizer.from_pretrained(\"aubmindlab/bert-base-arabertv02\")"
      ]
    },
    {
      "cell_type": "code",
      "source": [],
      "metadata": {
        "id": "qh2n4_KaDmep"
      },
      "id": "qh2n4_KaDmep",
      "execution_count": null,
      "outputs": []
    },
    {
      "cell_type": "markdown",
      "id": "89500748",
      "metadata": {
        "id": "89500748"
      },
      "source": [
        "## Step 5: Preprocessing the Text"
      ]
    },
    {
      "cell_type": "markdown",
      "id": "30bd6fab",
      "metadata": {
        "id": "30bd6fab"
      },
      "source": [
        "Map the tokenization function to the dataset. Ensure the text data is processed using truncation to handle sequences that exceed the model's input size. Please do any further preprocessing.\n",
        "\n",
        "**Bonus**: If you performed more comprehensive preprocessing, such as removing links, converting text to lowercase, or applying additional preprocessing techniques."
      ]
    },
    {
      "cell_type": "code",
      "source": [
        "def tokenize(data):\n",
        "  return tokenizer(data['text'], padding=True, truncation=True)"
      ],
      "metadata": {
        "id": "TyAqXrwlMHbw"
      },
      "id": "TyAqXrwlMHbw",
      "execution_count": 18,
      "outputs": []
    },
    {
      "cell_type": "code",
      "source": [
        "train_data_text = train_data['text'].astype(str).tolist()\n",
        "test_data_text = test_data['text'].astype(str).tolist()\n",
        "\n",
        "\n",
        "train_data_tokenized = tokenizer(train_data_text, truncation=True, padding=True, return_tensors='tf')\n",
        "test_data_tokenized = tokenizer(test_data_text, truncation=True, padding=True, return_tensors='tf')"
      ],
      "metadata": {
        "id": "78Rd3-zRWyv-"
      },
      "id": "78Rd3-zRWyv-",
      "execution_count": 19,
      "outputs": []
    },
    {
      "cell_type": "code",
      "source": [
        "train_data_tokenized"
      ],
      "metadata": {
        "colab": {
          "base_uri": "https://localhost:8080/"
        },
        "id": "k5Ljt6KDVDNO",
        "outputId": "f8d300a3-7582-4f54-c440-9c003ea0bfbd"
      },
      "id": "k5Ljt6KDVDNO",
      "execution_count": 20,
      "outputs": [
        {
          "output_type": "execute_result",
          "data": {
            "text/plain": [
              "{'input_ids': <tf.Tensor: shape=(12000, 512), dtype=int32, numpy=\n",
              "array([[    2,  6122,  4340, ...,     0,     0,     0],\n",
              "       [    2,  2591,   485, ...,     0,     0,     0],\n",
              "       [    2, 17831,  5970, ...,     0,     0,     0],\n",
              "       ...,\n",
              "       [    2,  1217,   678, ...,  5097,   464,     3],\n",
              "       [    2,  2606,  1359, ...,     0,     0,     0],\n",
              "       [    2,  6122,  4340, ...,     0,     0,     0]], dtype=int32)>, 'token_type_ids': <tf.Tensor: shape=(12000, 512), dtype=int32, numpy=\n",
              "array([[0, 0, 0, ..., 0, 0, 0],\n",
              "       [0, 0, 0, ..., 0, 0, 0],\n",
              "       [0, 0, 0, ..., 0, 0, 0],\n",
              "       ...,\n",
              "       [0, 0, 0, ..., 0, 0, 0],\n",
              "       [0, 0, 0, ..., 0, 0, 0],\n",
              "       [0, 0, 0, ..., 0, 0, 0]], dtype=int32)>, 'attention_mask': <tf.Tensor: shape=(12000, 512), dtype=int32, numpy=\n",
              "array([[1, 1, 1, ..., 0, 0, 0],\n",
              "       [1, 1, 1, ..., 0, 0, 0],\n",
              "       [1, 1, 1, ..., 0, 0, 0],\n",
              "       ...,\n",
              "       [1, 1, 1, ..., 1, 1, 1],\n",
              "       [1, 1, 1, ..., 0, 0, 0],\n",
              "       [1, 1, 1, ..., 0, 0, 0]], dtype=int32)>}"
            ]
          },
          "metadata": {},
          "execution_count": 20
        }
      ]
    },
    {
      "cell_type": "code",
      "source": [],
      "metadata": {
        "id": "72hBCLbNVOba"
      },
      "id": "72hBCLbNVOba",
      "execution_count": null,
      "outputs": []
    },
    {
      "cell_type": "code",
      "source": [],
      "metadata": {
        "id": "YSg3smdjWBPP"
      },
      "id": "YSg3smdjWBPP",
      "execution_count": null,
      "outputs": []
    },
    {
      "cell_type": "markdown",
      "id": "5f05ad70",
      "metadata": {
        "id": "5f05ad70"
      },
      "source": [
        "### Step 6: Label Encoding"
      ]
    },
    {
      "cell_type": "markdown",
      "id": "87441817",
      "metadata": {
        "id": "87441817"
      },
      "source": [
        "Convert the categorical labels into numerical format using a label encoder if needed."
      ]
    },
    {
      "cell_type": "code",
      "execution_count": 21,
      "id": "dcb0ce69",
      "metadata": {
        "id": "dcb0ce69"
      },
      "outputs": [],
      "source": [
        "import pandas as pd\n",
        "from sklearn.preprocessing import LabelEncoder\n",
        "\n",
        "all_labels = pd.concat([train_data['label'], test_data['label']])\n",
        "\n",
        "le = LabelEncoder()\n",
        "le.fit(all_labels)\n",
        "\n",
        "train_data['label'] = le.transform(train_data['label'])\n",
        "test_data['label'] = le.transform(test_data['label'])"
      ]
    },
    {
      "cell_type": "markdown",
      "id": "2c2cde80",
      "metadata": {
        "id": "2c2cde80"
      },
      "source": [
        "### Step 7: Data Collation for Padding"
      ]
    },
    {
      "cell_type": "markdown",
      "id": "130522fd",
      "metadata": {
        "id": "130522fd"
      },
      "source": [
        "Prepare the data for training by ensuring all sequences in a batch are padded to the same length. Use a data collator to handle dynamic padding."
      ]
    },
    {
      "cell_type": "markdown",
      "id": "08125f2b",
      "metadata": {
        "id": "08125f2b"
      },
      "source": [
        "### Step 8: Model Initialization"
      ]
    },
    {
      "cell_type": "markdown",
      "id": "a209e8e8",
      "metadata": {
        "id": "a209e8e8"
      },
      "source": [
        "Initialize a sequence classification model using the BERT-based architecture. Set the the right amount of output labels."
      ]
    },
    {
      "cell_type": "code",
      "execution_count": 22,
      "id": "9d45858f",
      "metadata": {
        "id": "9d45858f",
        "colab": {
          "base_uri": "https://localhost:8080/"
        },
        "outputId": "a46850d7-74bf-4638-dd0c-12ebcb124f38"
      },
      "outputs": [
        {
          "output_type": "stream",
          "name": "stderr",
          "text": [
            "Some weights of the PyTorch model were not used when initializing the TF 2.0 model TFBertForSequenceClassification: ['bert.embeddings.position_ids']\n",
            "- This IS expected if you are initializing TFBertForSequenceClassification from a PyTorch model trained on another task or with another architecture (e.g. initializing a TFBertForSequenceClassification model from a BertForPreTraining model).\n",
            "- This IS NOT expected if you are initializing TFBertForSequenceClassification from a PyTorch model that you expect to be exactly identical (e.g. initializing a TFBertForSequenceClassification model from a BertForSequenceClassification model).\n",
            "Some weights or buffers of the TF 2.0 model TFBertForSequenceClassification were not initialized from the PyTorch model and are newly initialized: ['classifier.weight', 'classifier.bias']\n",
            "You should probably TRAIN this model on a down-stream task to be able to use it for predictions and inference.\n"
          ]
        }
      ],
      "source": [
        "from transformers import TFAutoModelForSequenceClassification\n",
        "import tensorflow as tf\n",
        "model = TFAutoModelForSequenceClassification.from_pretrained(\"aubmindlab/bert-base-arabertv02\", num_labels=3)\n",
        "\n",
        "\n",
        "model.compile(\n",
        "    optimizer=tf.keras.optimizers.Adam(learning_rate=5e-5),\n",
        "    loss=tf.keras.losses.SparseCategoricalCrossentropy(from_logits=True),\n",
        "    metrics=tf.metrics.SparseCategoricalAccuracy(),\n",
        ")\n",
        "\n"
      ]
    },
    {
      "cell_type": "code",
      "source": [
        "model.fit(train_data_tokenized, train_data['label'], epochs=1)"
      ],
      "metadata": {
        "id": "mKdexuCAdqFn",
        "colab": {
          "base_uri": "https://localhost:8080/",
          "height": 1000
        },
        "outputId": "fb6f3014-80be-462b-a2bd-4af94f1befc1"
      },
      "id": "mKdexuCAdqFn",
      "execution_count": 25,
      "outputs": [
        {
          "output_type": "error",
          "ename": "ResourceExhaustedError",
          "evalue": "Graph execution error:\n\nDetected at node tf_bert_for_sequence_classification/bert/encoder/layer_._7/attention/self/Softmax defined at (most recent call last):\n  File \"/usr/lib/python3.10/runpy.py\", line 196, in _run_module_as_main\n\n  File \"/usr/lib/python3.10/runpy.py\", line 86, in _run_code\n\n  File \"/usr/local/lib/python3.10/dist-packages/colab_kernel_launcher.py\", line 37, in <module>\n\n  File \"/usr/local/lib/python3.10/dist-packages/traitlets/config/application.py\", line 992, in launch_instance\n\n  File \"/usr/local/lib/python3.10/dist-packages/ipykernel/kernelapp.py\", line 619, in start\n\n  File \"/usr/local/lib/python3.10/dist-packages/tornado/platform/asyncio.py\", line 195, in start\n\n  File \"/usr/lib/python3.10/asyncio/base_events.py\", line 603, in run_forever\n\n  File \"/usr/lib/python3.10/asyncio/base_events.py\", line 1909, in _run_once\n\n  File \"/usr/lib/python3.10/asyncio/events.py\", line 80, in _run\n\n  File \"/usr/local/lib/python3.10/dist-packages/tornado/ioloop.py\", line 685, in <lambda>\n\n  File \"/usr/local/lib/python3.10/dist-packages/tornado/ioloop.py\", line 738, in _run_callback\n\n  File \"/usr/local/lib/python3.10/dist-packages/tornado/gen.py\", line 825, in inner\n\n  File \"/usr/local/lib/python3.10/dist-packages/tornado/gen.py\", line 786, in run\n\n  File \"/usr/local/lib/python3.10/dist-packages/ipykernel/kernelbase.py\", line 361, in process_one\n\n  File \"/usr/local/lib/python3.10/dist-packages/tornado/gen.py\", line 234, in wrapper\n\n  File \"/usr/local/lib/python3.10/dist-packages/ipykernel/kernelbase.py\", line 261, in dispatch_shell\n\n  File \"/usr/local/lib/python3.10/dist-packages/tornado/gen.py\", line 234, in wrapper\n\n  File \"/usr/local/lib/python3.10/dist-packages/ipykernel/kernelbase.py\", line 539, in execute_request\n\n  File \"/usr/local/lib/python3.10/dist-packages/tornado/gen.py\", line 234, in wrapper\n\n  File \"/usr/local/lib/python3.10/dist-packages/ipykernel/ipkernel.py\", line 302, in do_execute\n\n  File \"/usr/local/lib/python3.10/dist-packages/ipykernel/zmqshell.py\", line 539, in run_cell\n\n  File \"/usr/local/lib/python3.10/dist-packages/IPython/core/interactiveshell.py\", line 2975, in run_cell\n\n  File \"/usr/local/lib/python3.10/dist-packages/IPython/core/interactiveshell.py\", line 3030, in _run_cell\n\n  File \"/usr/local/lib/python3.10/dist-packages/IPython/core/async_helpers.py\", line 78, in _pseudo_sync_runner\n\n  File \"/usr/local/lib/python3.10/dist-packages/IPython/core/interactiveshell.py\", line 3257, in run_cell_async\n\n  File \"/usr/local/lib/python3.10/dist-packages/IPython/core/interactiveshell.py\", line 3473, in run_ast_nodes\n\n  File \"/usr/local/lib/python3.10/dist-packages/IPython/core/interactiveshell.py\", line 3553, in run_code\n\n  File \"<ipython-input-24-411e318d63eb>\", line 1, in <cell line: 1>\n\n  File \"/usr/local/lib/python3.10/dist-packages/transformers/modeling_tf_utils.py\", line 1229, in fit\n\n  File \"/usr/local/lib/python3.10/dist-packages/tf_keras/src/utils/traceback_utils.py\", line 65, in error_handler\n\n  File \"/usr/local/lib/python3.10/dist-packages/tf_keras/src/engine/training.py\", line 1804, in fit\n\n  File \"/usr/local/lib/python3.10/dist-packages/tf_keras/src/engine/training.py\", line 1398, in train_function\n\n  File \"/usr/local/lib/python3.10/dist-packages/tf_keras/src/engine/training.py\", line 1381, in step_function\n\n  File \"/usr/local/lib/python3.10/dist-packages/tf_keras/src/engine/training.py\", line 1370, in run_step\n\n  File \"/usr/local/lib/python3.10/dist-packages/transformers/modeling_tf_utils.py\", line 1672, in train_step\n\n  File \"/usr/local/lib/python3.10/dist-packages/tf_keras/src/utils/traceback_utils.py\", line 65, in error_handler\n\n  File \"/usr/local/lib/python3.10/dist-packages/tf_keras/src/engine/training.py\", line 588, in __call__\n\n  File \"/usr/local/lib/python3.10/dist-packages/tf_keras/src/utils/traceback_utils.py\", line 65, in error_handler\n\n  File \"/usr/local/lib/python3.10/dist-packages/tf_keras/src/engine/base_layer.py\", line 1136, in __call__\n\n  File \"/usr/local/lib/python3.10/dist-packages/tf_keras/src/utils/traceback_utils.py\", line 96, in error_handler\n\n  File \"/usr/local/lib/python3.10/dist-packages/transformers/modeling_tf_utils.py\", line 1734, in run_call_with_unpacked_inputs\n\n  File \"/usr/local/lib/python3.10/dist-packages/transformers/models/bert/modeling_tf_bert.py\", line 1746, in call\n\n  File \"/usr/local/lib/python3.10/dist-packages/tf_keras/src/utils/traceback_utils.py\", line 65, in error_handler\n\n  File \"/usr/local/lib/python3.10/dist-packages/tf_keras/src/engine/base_layer.py\", line 1136, in __call__\n\n  File \"/usr/local/lib/python3.10/dist-packages/tf_keras/src/utils/traceback_utils.py\", line 96, in error_handler\n\n  File \"/usr/local/lib/python3.10/dist-packages/transformers/modeling_tf_utils.py\", line 1734, in run_call_with_unpacked_inputs\n\n  File \"/usr/local/lib/python3.10/dist-packages/transformers/models/bert/modeling_tf_bert.py\", line 969, in call\n\n  File \"/usr/local/lib/python3.10/dist-packages/tf_keras/src/utils/traceback_utils.py\", line 65, in error_handler\n\n  File \"/usr/local/lib/python3.10/dist-packages/tf_keras/src/engine/base_layer.py\", line 1136, in __call__\n\n  File \"/usr/local/lib/python3.10/dist-packages/tf_keras/src/utils/traceback_utils.py\", line 96, in error_handler\n\n  File \"/usr/local/lib/python3.10/dist-packages/transformers/models/bert/modeling_tf_bert.py\", line 603, in call\n\n  File \"/usr/local/lib/python3.10/dist-packages/transformers/models/bert/modeling_tf_bert.py\", line 609, in call\n\n  File \"/usr/local/lib/python3.10/dist-packages/tf_keras/src/utils/traceback_utils.py\", line 65, in error_handler\n\n  File \"/usr/local/lib/python3.10/dist-packages/tf_keras/src/engine/base_layer.py\", line 1136, in __call__\n\n  File \"/usr/local/lib/python3.10/dist-packages/tf_keras/src/utils/traceback_utils.py\", line 96, in error_handler\n\n  File \"/usr/local/lib/python3.10/dist-packages/transformers/models/bert/modeling_tf_bert.py\", line 502, in call\n\n  File \"/usr/local/lib/python3.10/dist-packages/tf_keras/src/utils/traceback_utils.py\", line 65, in error_handler\n\n  File \"/usr/local/lib/python3.10/dist-packages/tf_keras/src/engine/base_layer.py\", line 1136, in __call__\n\n  File \"/usr/local/lib/python3.10/dist-packages/tf_keras/src/utils/traceback_utils.py\", line 96, in error_handler\n\n  File \"/usr/local/lib/python3.10/dist-packages/transformers/models/bert/modeling_tf_bert.py\", line 386, in call\n\n  File \"/usr/local/lib/python3.10/dist-packages/tf_keras/src/utils/traceback_utils.py\", line 65, in error_handler\n\n  File \"/usr/local/lib/python3.10/dist-packages/tf_keras/src/engine/base_layer.py\", line 1136, in __call__\n\n  File \"/usr/local/lib/python3.10/dist-packages/tf_keras/src/utils/traceback_utils.py\", line 96, in error_handler\n\n  File \"/usr/local/lib/python3.10/dist-packages/transformers/models/bert/modeling_tf_bert.py\", line 299, in call\n\n  File \"/usr/local/lib/python3.10/dist-packages/transformers/tf_utils.py\", line 72, in stable_softmax\n\nOOM when allocating tensor with shape[32,12,512,512] and type float on /job:localhost/replica:0/task:0/device:GPU:0 by allocator GPU_0_bfc\n\t [[{{node tf_bert_for_sequence_classification/bert/encoder/layer_._7/attention/self/Softmax}}]]\nHint: If you want to see a list of allocated tensors when OOM happens, add report_tensor_allocations_upon_oom to RunOptions for current allocation info. This isn't available when running in Eager mode.\n [Op:__inference_train_function_25218]",
          "traceback": [
            "\u001b[0;31m---------------------------------------------------------------------------\u001b[0m",
            "\u001b[0;31mResourceExhaustedError\u001b[0m                    Traceback (most recent call last)",
            "\u001b[0;32m<ipython-input-25-411e318d63eb>\u001b[0m in \u001b[0;36m<cell line: 1>\u001b[0;34m()\u001b[0m\n\u001b[0;32m----> 1\u001b[0;31m \u001b[0mmodel\u001b[0m\u001b[0;34m.\u001b[0m\u001b[0mfit\u001b[0m\u001b[0;34m(\u001b[0m\u001b[0mtrain_data_tokenized\u001b[0m\u001b[0;34m,\u001b[0m \u001b[0mtrain_data\u001b[0m\u001b[0;34m[\u001b[0m\u001b[0;34m'label'\u001b[0m\u001b[0;34m]\u001b[0m\u001b[0;34m,\u001b[0m \u001b[0mepochs\u001b[0m\u001b[0;34m=\u001b[0m\u001b[0;36m1\u001b[0m\u001b[0;34m)\u001b[0m\u001b[0;34m\u001b[0m\u001b[0;34m\u001b[0m\u001b[0m\n\u001b[0m",
            "\u001b[0;32m/usr/local/lib/python3.10/dist-packages/transformers/modeling_tf_utils.py\u001b[0m in \u001b[0;36mfit\u001b[0;34m(self, *args, **kwargs)\u001b[0m\n\u001b[1;32m   1227\u001b[0m     \u001b[0;32mdef\u001b[0m \u001b[0mfit\u001b[0m\u001b[0;34m(\u001b[0m\u001b[0mself\u001b[0m\u001b[0;34m,\u001b[0m \u001b[0;34m*\u001b[0m\u001b[0margs\u001b[0m\u001b[0;34m,\u001b[0m \u001b[0;34m**\u001b[0m\u001b[0mkwargs\u001b[0m\u001b[0;34m)\u001b[0m\u001b[0;34m:\u001b[0m\u001b[0;34m\u001b[0m\u001b[0;34m\u001b[0m\u001b[0m\n\u001b[1;32m   1228\u001b[0m         \u001b[0margs\u001b[0m\u001b[0;34m,\u001b[0m \u001b[0mkwargs\u001b[0m \u001b[0;34m=\u001b[0m \u001b[0mconvert_batch_encoding\u001b[0m\u001b[0;34m(\u001b[0m\u001b[0;34m*\u001b[0m\u001b[0margs\u001b[0m\u001b[0;34m,\u001b[0m \u001b[0;34m**\u001b[0m\u001b[0mkwargs\u001b[0m\u001b[0;34m)\u001b[0m\u001b[0;34m\u001b[0m\u001b[0;34m\u001b[0m\u001b[0m\n\u001b[0;32m-> 1229\u001b[0;31m         \u001b[0;32mreturn\u001b[0m \u001b[0msuper\u001b[0m\u001b[0;34m(\u001b[0m\u001b[0;34m)\u001b[0m\u001b[0;34m.\u001b[0m\u001b[0mfit\u001b[0m\u001b[0;34m(\u001b[0m\u001b[0;34m*\u001b[0m\u001b[0margs\u001b[0m\u001b[0;34m,\u001b[0m \u001b[0;34m**\u001b[0m\u001b[0mkwargs\u001b[0m\u001b[0;34m)\u001b[0m\u001b[0;34m\u001b[0m\u001b[0;34m\u001b[0m\u001b[0m\n\u001b[0m\u001b[1;32m   1230\u001b[0m \u001b[0;34m\u001b[0m\u001b[0m\n\u001b[1;32m   1231\u001b[0m     \u001b[0;34m@\u001b[0m\u001b[0mfunctools\u001b[0m\u001b[0;34m.\u001b[0m\u001b[0mwraps\u001b[0m\u001b[0;34m(\u001b[0m\u001b[0mkeras\u001b[0m\u001b[0;34m.\u001b[0m\u001b[0mModel\u001b[0m\u001b[0;34m.\u001b[0m\u001b[0mtrain_on_batch\u001b[0m\u001b[0;34m)\u001b[0m\u001b[0;34m\u001b[0m\u001b[0;34m\u001b[0m\u001b[0m\n",
            "\u001b[0;32m/usr/local/lib/python3.10/dist-packages/tf_keras/src/utils/traceback_utils.py\u001b[0m in \u001b[0;36merror_handler\u001b[0;34m(*args, **kwargs)\u001b[0m\n\u001b[1;32m     68\u001b[0m             \u001b[0;31m# To get the full stack trace, call:\u001b[0m\u001b[0;34m\u001b[0m\u001b[0;34m\u001b[0m\u001b[0m\n\u001b[1;32m     69\u001b[0m             \u001b[0;31m# `tf.debugging.disable_traceback_filtering()`\u001b[0m\u001b[0;34m\u001b[0m\u001b[0;34m\u001b[0m\u001b[0m\n\u001b[0;32m---> 70\u001b[0;31m             \u001b[0;32mraise\u001b[0m \u001b[0me\u001b[0m\u001b[0;34m.\u001b[0m\u001b[0mwith_traceback\u001b[0m\u001b[0;34m(\u001b[0m\u001b[0mfiltered_tb\u001b[0m\u001b[0;34m)\u001b[0m \u001b[0;32mfrom\u001b[0m \u001b[0;32mNone\u001b[0m\u001b[0;34m\u001b[0m\u001b[0;34m\u001b[0m\u001b[0m\n\u001b[0m\u001b[1;32m     71\u001b[0m         \u001b[0;32mfinally\u001b[0m\u001b[0;34m:\u001b[0m\u001b[0;34m\u001b[0m\u001b[0;34m\u001b[0m\u001b[0m\n\u001b[1;32m     72\u001b[0m             \u001b[0;32mdel\u001b[0m \u001b[0mfiltered_tb\u001b[0m\u001b[0;34m\u001b[0m\u001b[0;34m\u001b[0m\u001b[0m\n",
            "\u001b[0;32m/usr/local/lib/python3.10/dist-packages/tensorflow/python/eager/execute.py\u001b[0m in \u001b[0;36mquick_execute\u001b[0;34m(op_name, num_outputs, inputs, attrs, ctx, name)\u001b[0m\n\u001b[1;32m     51\u001b[0m   \u001b[0;32mtry\u001b[0m\u001b[0;34m:\u001b[0m\u001b[0;34m\u001b[0m\u001b[0;34m\u001b[0m\u001b[0m\n\u001b[1;32m     52\u001b[0m     \u001b[0mctx\u001b[0m\u001b[0;34m.\u001b[0m\u001b[0mensure_initialized\u001b[0m\u001b[0;34m(\u001b[0m\u001b[0;34m)\u001b[0m\u001b[0;34m\u001b[0m\u001b[0;34m\u001b[0m\u001b[0m\n\u001b[0;32m---> 53\u001b[0;31m     tensors = pywrap_tfe.TFE_Py_Execute(ctx._handle, device_name, op_name,\n\u001b[0m\u001b[1;32m     54\u001b[0m                                         inputs, attrs, num_outputs)\n\u001b[1;32m     55\u001b[0m   \u001b[0;32mexcept\u001b[0m \u001b[0mcore\u001b[0m\u001b[0;34m.\u001b[0m\u001b[0m_NotOkStatusException\u001b[0m \u001b[0;32mas\u001b[0m \u001b[0me\u001b[0m\u001b[0;34m:\u001b[0m\u001b[0;34m\u001b[0m\u001b[0;34m\u001b[0m\u001b[0m\n",
            "\u001b[0;31mResourceExhaustedError\u001b[0m: Graph execution error:\n\nDetected at node tf_bert_for_sequence_classification/bert/encoder/layer_._7/attention/self/Softmax defined at (most recent call last):\n  File \"/usr/lib/python3.10/runpy.py\", line 196, in _run_module_as_main\n\n  File \"/usr/lib/python3.10/runpy.py\", line 86, in _run_code\n\n  File \"/usr/local/lib/python3.10/dist-packages/colab_kernel_launcher.py\", line 37, in <module>\n\n  File \"/usr/local/lib/python3.10/dist-packages/traitlets/config/application.py\", line 992, in launch_instance\n\n  File \"/usr/local/lib/python3.10/dist-packages/ipykernel/kernelapp.py\", line 619, in start\n\n  File \"/usr/local/lib/python3.10/dist-packages/tornado/platform/asyncio.py\", line 195, in start\n\n  File \"/usr/lib/python3.10/asyncio/base_events.py\", line 603, in run_forever\n\n  File \"/usr/lib/python3.10/asyncio/base_events.py\", line 1909, in _run_once\n\n  File \"/usr/lib/python3.10/asyncio/events.py\", line 80, in _run\n\n  File \"/usr/local/lib/python3.10/dist-packages/tornado/ioloop.py\", line 685, in <lambda>\n\n  File \"/usr/local/lib/python3.10/dist-packages/tornado/ioloop.py\", line 738, in _run_callback\n\n  File \"/usr/local/lib/python3.10/dist-packages/tornado/gen.py\", line 825, in inner\n\n  File \"/usr/local/lib/python3.10/dist-packages/tornado/gen.py\", line 786, in run\n\n  File \"/usr/local/lib/python3.10/dist-packages/ipykernel/kernelbase.py\", line 361, in process_one\n\n  File \"/usr/local/lib/python3.10/dist-packages/tornado/gen.py\", line 234, in wrapper\n\n  File \"/usr/local/lib/python3.10/dist-packages/ipykernel/kernelbase.py\", line 261, in dispatch_shell\n\n  File \"/usr/local/lib/python3.10/dist-packages/tornado/gen.py\", line 234, in wrapper\n\n  File \"/usr/local/lib/python3.10/dist-packages/ipykernel/kernelbase.py\", line 539, in execute_request\n\n  File \"/usr/local/lib/python3.10/dist-packages/tornado/gen.py\", line 234, in wrapper\n\n  File \"/usr/local/lib/python3.10/dist-packages/ipykernel/ipkernel.py\", line 302, in do_execute\n\n  File \"/usr/local/lib/python3.10/dist-packages/ipykernel/zmqshell.py\", line 539, in run_cell\n\n  File \"/usr/local/lib/python3.10/dist-packages/IPython/core/interactiveshell.py\", line 2975, in run_cell\n\n  File \"/usr/local/lib/python3.10/dist-packages/IPython/core/interactiveshell.py\", line 3030, in _run_cell\n\n  File \"/usr/local/lib/python3.10/dist-packages/IPython/core/async_helpers.py\", line 78, in _pseudo_sync_runner\n\n  File \"/usr/local/lib/python3.10/dist-packages/IPython/core/interactiveshell.py\", line 3257, in run_cell_async\n\n  File \"/usr/local/lib/python3.10/dist-packages/IPython/core/interactiveshell.py\", line 3473, in run_ast_nodes\n\n  File \"/usr/local/lib/python3.10/dist-packages/IPython/core/interactiveshell.py\", line 3553, in run_code\n\n  File \"<ipython-input-24-411e318d63eb>\", line 1, in <cell line: 1>\n\n  File \"/usr/local/lib/python3.10/dist-packages/transformers/modeling_tf_utils.py\", line 1229, in fit\n\n  File \"/usr/local/lib/python3.10/dist-packages/tf_keras/src/utils/traceback_utils.py\", line 65, in error_handler\n\n  File \"/usr/local/lib/python3.10/dist-packages/tf_keras/src/engine/training.py\", line 1804, in fit\n\n  File \"/usr/local/lib/python3.10/dist-packages/tf_keras/src/engine/training.py\", line 1398, in train_function\n\n  File \"/usr/local/lib/python3.10/dist-packages/tf_keras/src/engine/training.py\", line 1381, in step_function\n\n  File \"/usr/local/lib/python3.10/dist-packages/tf_keras/src/engine/training.py\", line 1370, in run_step\n\n  File \"/usr/local/lib/python3.10/dist-packages/transformers/modeling_tf_utils.py\", line 1672, in train_step\n\n  File \"/usr/local/lib/python3.10/dist-packages/tf_keras/src/utils/traceback_utils.py\", line 65, in error_handler\n\n  File \"/usr/local/lib/python3.10/dist-packages/tf_keras/src/engine/training.py\", line 588, in __call__\n\n  File \"/usr/local/lib/python3.10/dist-packages/tf_keras/src/utils/traceback_utils.py\", line 65, in error_handler\n\n  File \"/usr/local/lib/python3.10/dist-packages/tf_keras/src/engine/base_layer.py\", line 1136, in __call__\n\n  File \"/usr/local/lib/python3.10/dist-packages/tf_keras/src/utils/traceback_utils.py\", line 96, in error_handler\n\n  File \"/usr/local/lib/python3.10/dist-packages/transformers/modeling_tf_utils.py\", line 1734, in run_call_with_unpacked_inputs\n\n  File \"/usr/local/lib/python3.10/dist-packages/transformers/models/bert/modeling_tf_bert.py\", line 1746, in call\n\n  File \"/usr/local/lib/python3.10/dist-packages/tf_keras/src/utils/traceback_utils.py\", line 65, in error_handler\n\n  File \"/usr/local/lib/python3.10/dist-packages/tf_keras/src/engine/base_layer.py\", line 1136, in __call__\n\n  File \"/usr/local/lib/python3.10/dist-packages/tf_keras/src/utils/traceback_utils.py\", line 96, in error_handler\n\n  File \"/usr/local/lib/python3.10/dist-packages/transformers/modeling_tf_utils.py\", line 1734, in run_call_with_unpacked_inputs\n\n  File \"/usr/local/lib/python3.10/dist-packages/transformers/models/bert/modeling_tf_bert.py\", line 969, in call\n\n  File \"/usr/local/lib/python3.10/dist-packages/tf_keras/src/utils/traceback_utils.py\", line 65, in error_handler\n\n  File \"/usr/local/lib/python3.10/dist-packages/tf_keras/src/engine/base_layer.py\", line 1136, in __call__\n\n  File \"/usr/local/lib/python3.10/dist-packages/tf_keras/src/utils/traceback_utils.py\", line 96, in error_handler\n\n  File \"/usr/local/lib/python3.10/dist-packages/transformers/models/bert/modeling_tf_bert.py\", line 603, in call\n\n  File \"/usr/local/lib/python3.10/dist-packages/transformers/models/bert/modeling_tf_bert.py\", line 609, in call\n\n  File \"/usr/local/lib/python3.10/dist-packages/tf_keras/src/utils/traceback_utils.py\", line 65, in error_handler\n\n  File \"/usr/local/lib/python3.10/dist-packages/tf_keras/src/engine/base_layer.py\", line 1136, in __call__\n\n  File \"/usr/local/lib/python3.10/dist-packages/tf_keras/src/utils/traceback_utils.py\", line 96, in error_handler\n\n  File \"/usr/local/lib/python3.10/dist-packages/transformers/models/bert/modeling_tf_bert.py\", line 502, in call\n\n  File \"/usr/local/lib/python3.10/dist-packages/tf_keras/src/utils/traceback_utils.py\", line 65, in error_handler\n\n  File \"/usr/local/lib/python3.10/dist-packages/tf_keras/src/engine/base_layer.py\", line 1136, in __call__\n\n  File \"/usr/local/lib/python3.10/dist-packages/tf_keras/src/utils/traceback_utils.py\", line 96, in error_handler\n\n  File \"/usr/local/lib/python3.10/dist-packages/transformers/models/bert/modeling_tf_bert.py\", line 386, in call\n\n  File \"/usr/local/lib/python3.10/dist-packages/tf_keras/src/utils/traceback_utils.py\", line 65, in error_handler\n\n  File \"/usr/local/lib/python3.10/dist-packages/tf_keras/src/engine/base_layer.py\", line 1136, in __call__\n\n  File \"/usr/local/lib/python3.10/dist-packages/tf_keras/src/utils/traceback_utils.py\", line 96, in error_handler\n\n  File \"/usr/local/lib/python3.10/dist-packages/transformers/models/bert/modeling_tf_bert.py\", line 299, in call\n\n  File \"/usr/local/lib/python3.10/dist-packages/transformers/tf_utils.py\", line 72, in stable_softmax\n\nOOM when allocating tensor with shape[32,12,512,512] and type float on /job:localhost/replica:0/task:0/device:GPU:0 by allocator GPU_0_bfc\n\t [[{{node tf_bert_for_sequence_classification/bert/encoder/layer_._7/attention/self/Softmax}}]]\nHint: If you want to see a list of allocated tensors when OOM happens, add report_tensor_allocations_upon_oom to RunOptions for current allocation info. This isn't available when running in Eager mode.\n [Op:__inference_train_function_25218]"
          ]
        }
      ]
    },
    {
      "cell_type": "markdown",
      "id": "c662a02e",
      "metadata": {
        "id": "c662a02e"
      },
      "source": [
        "## Step 9: Training Arguments"
      ]
    },
    {
      "cell_type": "markdown",
      "id": "fc922a37",
      "metadata": {
        "id": "fc922a37"
      },
      "source": [
        "Define the training arguments, including parameters such as learning rate, batch size, number of epochs, and weight decay."
      ]
    },
    {
      "cell_type": "code",
      "execution_count": 28,
      "id": "086bbafb",
      "metadata": {
        "id": "086bbafb",
        "colab": {
          "base_uri": "https://localhost:8080/",
          "height": 356
        },
        "outputId": "e6058262-b95c-4bca-d94a-8d8d1cd0426b"
      },
      "outputs": [
        {
          "output_type": "error",
          "ename": "AttributeError",
          "evalue": "'TFBertForSequenceClassification' object has no attribute 'to'",
          "traceback": [
            "\u001b[0;31m---------------------------------------------------------------------------\u001b[0m",
            "\u001b[0;31mAttributeError\u001b[0m                            Traceback (most recent call last)",
            "\u001b[0;32m<ipython-input-28-48d9933b9be4>\u001b[0m in \u001b[0;36m<cell line: 9>\u001b[0;34m()\u001b[0m\n\u001b[1;32m      7\u001b[0m                          )\n\u001b[1;32m      8\u001b[0m \u001b[0;34m\u001b[0m\u001b[0m\n\u001b[0;32m----> 9\u001b[0;31m trainer = Trainer(model=model, args=args,\n\u001b[0m\u001b[1;32m     10\u001b[0m                   train_dataset=train_data_tokenized)\n\u001b[1;32m     11\u001b[0m \u001b[0;34m\u001b[0m\u001b[0m\n",
            "\u001b[0;32m/usr/local/lib/python3.10/dist-packages/transformers/trainer.py\u001b[0m in \u001b[0;36m__init__\u001b[0;34m(self, model, args, data_collator, train_dataset, eval_dataset, tokenizer, model_init, compute_metrics, callbacks, optimizers, preprocess_logits_for_metrics)\u001b[0m\n\u001b[1;32m    533\u001b[0m             \u001b[0;32mand\u001b[0m \u001b[0;32mnot\u001b[0m \u001b[0mgetattr\u001b[0m\u001b[0;34m(\u001b[0m\u001b[0mmodel\u001b[0m\u001b[0;34m,\u001b[0m \u001b[0;34m\"quantization_method\"\u001b[0m\u001b[0;34m,\u001b[0m \u001b[0;32mNone\u001b[0m\u001b[0;34m)\u001b[0m \u001b[0;34m==\u001b[0m \u001b[0mQuantizationMethod\u001b[0m\u001b[0;34m.\u001b[0m\u001b[0mBITS_AND_BYTES\u001b[0m\u001b[0;34m\u001b[0m\u001b[0;34m\u001b[0m\u001b[0m\n\u001b[1;32m    534\u001b[0m         ):\n\u001b[0;32m--> 535\u001b[0;31m             \u001b[0mself\u001b[0m\u001b[0;34m.\u001b[0m\u001b[0m_move_model_to_device\u001b[0m\u001b[0;34m(\u001b[0m\u001b[0mmodel\u001b[0m\u001b[0;34m,\u001b[0m \u001b[0margs\u001b[0m\u001b[0;34m.\u001b[0m\u001b[0mdevice\u001b[0m\u001b[0;34m)\u001b[0m\u001b[0;34m\u001b[0m\u001b[0;34m\u001b[0m\u001b[0m\n\u001b[0m\u001b[1;32m    536\u001b[0m \u001b[0;34m\u001b[0m\u001b[0m\n\u001b[1;32m    537\u001b[0m         \u001b[0;31m# Force n_gpu to 1 to avoid DataParallel as MP will manage the GPUs\u001b[0m\u001b[0;34m\u001b[0m\u001b[0;34m\u001b[0m\u001b[0m\n",
            "\u001b[0;32m/usr/local/lib/python3.10/dist-packages/transformers/trainer.py\u001b[0m in \u001b[0;36m_move_model_to_device\u001b[0;34m(self, model, device)\u001b[0m\n\u001b[1;32m    780\u001b[0m \u001b[0;34m\u001b[0m\u001b[0m\n\u001b[1;32m    781\u001b[0m     \u001b[0;32mdef\u001b[0m \u001b[0m_move_model_to_device\u001b[0m\u001b[0;34m(\u001b[0m\u001b[0mself\u001b[0m\u001b[0;34m,\u001b[0m \u001b[0mmodel\u001b[0m\u001b[0;34m,\u001b[0m \u001b[0mdevice\u001b[0m\u001b[0;34m)\u001b[0m\u001b[0;34m:\u001b[0m\u001b[0;34m\u001b[0m\u001b[0;34m\u001b[0m\u001b[0m\n\u001b[0;32m--> 782\u001b[0;31m         \u001b[0mmodel\u001b[0m \u001b[0;34m=\u001b[0m \u001b[0mmodel\u001b[0m\u001b[0;34m.\u001b[0m\u001b[0mto\u001b[0m\u001b[0;34m(\u001b[0m\u001b[0mdevice\u001b[0m\u001b[0;34m)\u001b[0m\u001b[0;34m\u001b[0m\u001b[0;34m\u001b[0m\u001b[0m\n\u001b[0m\u001b[1;32m    783\u001b[0m         \u001b[0;31m# Moving a model to an XLA device disconnects the tied weights, so we have to retie them.\u001b[0m\u001b[0;34m\u001b[0m\u001b[0;34m\u001b[0m\u001b[0m\n\u001b[1;32m    784\u001b[0m         \u001b[0;32mif\u001b[0m \u001b[0mself\u001b[0m\u001b[0;34m.\u001b[0m\u001b[0margs\u001b[0m\u001b[0;34m.\u001b[0m\u001b[0mparallel_mode\u001b[0m \u001b[0;34m==\u001b[0m \u001b[0mParallelMode\u001b[0m\u001b[0;34m.\u001b[0m\u001b[0mTPU\u001b[0m \u001b[0;32mand\u001b[0m \u001b[0mhasattr\u001b[0m\u001b[0;34m(\u001b[0m\u001b[0mmodel\u001b[0m\u001b[0;34m,\u001b[0m \u001b[0;34m\"tie_weights\"\u001b[0m\u001b[0;34m)\u001b[0m\u001b[0;34m:\u001b[0m\u001b[0;34m\u001b[0m\u001b[0;34m\u001b[0m\u001b[0m\n",
            "\u001b[0;31mAttributeError\u001b[0m: 'TFBertForSequenceClassification' object has no attribute 'to'"
          ]
        }
      ],
      "source": [
        "from transformers import Trainer, TrainingArguments\n",
        "\n",
        "\n",
        "args = TrainingArguments(num_train_epochs=1,\n",
        "                         output_dir='./results',\n",
        "                         learning_rate=3e-5,\n",
        "                         )\n",
        "\n",
        "trainer = Trainer(model=model, args=args,\n",
        "                  train_dataset=train_data_tokenized)\n",
        "\n",
        "trainer.train()\n"
      ]
    },
    {
      "cell_type": "markdown",
      "id": "74aabddb",
      "metadata": {
        "id": "74aabddb"
      },
      "source": [
        "## Step 10: Trainer Initialization and Training"
      ]
    },
    {
      "cell_type": "markdown",
      "id": "3d3b4bf5",
      "metadata": {
        "id": "3d3b4bf5"
      },
      "source": [
        "Set up the trainer with the model, training arguments, dataset, tokenizer, and data collator. Train the model using the dataset you processed earlier."
      ]
    },
    {
      "cell_type": "code",
      "execution_count": null,
      "id": "a2c24838",
      "metadata": {
        "id": "a2c24838"
      },
      "outputs": [],
      "source": []
    },
    {
      "cell_type": "markdown",
      "id": "9b7e59cb",
      "metadata": {
        "id": "9b7e59cb"
      },
      "source": [
        "## Step 11: Inference"
      ]
    },
    {
      "cell_type": "markdown",
      "id": "0c5ed70c",
      "metadata": {
        "id": "0c5ed70c"
      },
      "source": [
        "Once the model is trained, perform inference on a sample text to evaluate the model's prediction capabilities. Use the tokenizer to process the text, and then feed it into the model to get the predicted label."
      ]
    },
    {
      "cell_type": "code",
      "execution_count": null,
      "id": "0d90a5b5",
      "metadata": {
        "id": "0d90a5b5"
      },
      "outputs": [],
      "source": []
    }
  ],
  "metadata": {
    "language_info": {
      "name": "python"
    },
    "colab": {
      "provenance": [],
      "gpuType": "T4"
    },
    "kernelspec": {
      "name": "python3",
      "display_name": "Python 3"
    },
    "accelerator": "GPU",
    "widgets": {
      "application/vnd.jupyter.widget-state+json": {
        "97f5e8c7d31d43d8b99ce823f95c96a9": {
          "model_module": "@jupyter-widgets/controls",
          "model_name": "HBoxModel",
          "model_module_version": "1.5.0",
          "state": {
            "_dom_classes": [],
            "_model_module": "@jupyter-widgets/controls",
            "_model_module_version": "1.5.0",
            "_model_name": "HBoxModel",
            "_view_count": null,
            "_view_module": "@jupyter-widgets/controls",
            "_view_module_version": "1.5.0",
            "_view_name": "HBoxView",
            "box_style": "",
            "children": [
              "IPY_MODEL_fed48435063b47aab5ae4ff8ce8208d2",
              "IPY_MODEL_878c19498d4846caba01e4a0c231922b",
              "IPY_MODEL_102277205f414be0853a9012a6d25a3e"
            ],
            "layout": "IPY_MODEL_e3d2d2279c894ab1bbbb66d9526e00a4"
          }
        },
        "fed48435063b47aab5ae4ff8ce8208d2": {
          "model_module": "@jupyter-widgets/controls",
          "model_name": "HTMLModel",
          "model_module_version": "1.5.0",
          "state": {
            "_dom_classes": [],
            "_model_module": "@jupyter-widgets/controls",
            "_model_module_version": "1.5.0",
            "_model_name": "HTMLModel",
            "_view_count": null,
            "_view_module": "@jupyter-widgets/controls",
            "_view_module_version": "1.5.0",
            "_view_name": "HTMLView",
            "description": "",
            "description_tooltip": null,
            "layout": "IPY_MODEL_754c4def0c1d45fda9acff30ad08367a",
            "placeholder": "​",
            "style": "IPY_MODEL_314942ac0d7b40d1a049916fdf552434",
            "value": "sanad_df.csv: 100%"
          }
        },
        "878c19498d4846caba01e4a0c231922b": {
          "model_module": "@jupyter-widgets/controls",
          "model_name": "FloatProgressModel",
          "model_module_version": "1.5.0",
          "state": {
            "_dom_classes": [],
            "_model_module": "@jupyter-widgets/controls",
            "_model_module_version": "1.5.0",
            "_model_name": "FloatProgressModel",
            "_view_count": null,
            "_view_module": "@jupyter-widgets/controls",
            "_view_module_version": "1.5.0",
            "_view_name": "ProgressView",
            "bar_style": "success",
            "description": "",
            "description_tooltip": null,
            "layout": "IPY_MODEL_e8f960279d334cc28a40557c807f61f1",
            "max": 50330073,
            "min": 0,
            "orientation": "horizontal",
            "style": "IPY_MODEL_49c695f7174a4e8a83fd3f3b31144dea",
            "value": 50330073
          }
        },
        "102277205f414be0853a9012a6d25a3e": {
          "model_module": "@jupyter-widgets/controls",
          "model_name": "HTMLModel",
          "model_module_version": "1.5.0",
          "state": {
            "_dom_classes": [],
            "_model_module": "@jupyter-widgets/controls",
            "_model_module_version": "1.5.0",
            "_model_name": "HTMLModel",
            "_view_count": null,
            "_view_module": "@jupyter-widgets/controls",
            "_view_module_version": "1.5.0",
            "_view_name": "HTMLView",
            "description": "",
            "description_tooltip": null,
            "layout": "IPY_MODEL_3ed40e329fa9485793d331b6a80954bf",
            "placeholder": "​",
            "style": "IPY_MODEL_83c9595621d24f48a9351b08d93746fb",
            "value": " 50.3M/50.3M [00:00&lt;00:00, 204MB/s]"
          }
        },
        "e3d2d2279c894ab1bbbb66d9526e00a4": {
          "model_module": "@jupyter-widgets/base",
          "model_name": "LayoutModel",
          "model_module_version": "1.2.0",
          "state": {
            "_model_module": "@jupyter-widgets/base",
            "_model_module_version": "1.2.0",
            "_model_name": "LayoutModel",
            "_view_count": null,
            "_view_module": "@jupyter-widgets/base",
            "_view_module_version": "1.2.0",
            "_view_name": "LayoutView",
            "align_content": null,
            "align_items": null,
            "align_self": null,
            "border": null,
            "bottom": null,
            "display": null,
            "flex": null,
            "flex_flow": null,
            "grid_area": null,
            "grid_auto_columns": null,
            "grid_auto_flow": null,
            "grid_auto_rows": null,
            "grid_column": null,
            "grid_gap": null,
            "grid_row": null,
            "grid_template_areas": null,
            "grid_template_columns": null,
            "grid_template_rows": null,
            "height": null,
            "justify_content": null,
            "justify_items": null,
            "left": null,
            "margin": null,
            "max_height": null,
            "max_width": null,
            "min_height": null,
            "min_width": null,
            "object_fit": null,
            "object_position": null,
            "order": null,
            "overflow": null,
            "overflow_x": null,
            "overflow_y": null,
            "padding": null,
            "right": null,
            "top": null,
            "visibility": null,
            "width": null
          }
        },
        "754c4def0c1d45fda9acff30ad08367a": {
          "model_module": "@jupyter-widgets/base",
          "model_name": "LayoutModel",
          "model_module_version": "1.2.0",
          "state": {
            "_model_module": "@jupyter-widgets/base",
            "_model_module_version": "1.2.0",
            "_model_name": "LayoutModel",
            "_view_count": null,
            "_view_module": "@jupyter-widgets/base",
            "_view_module_version": "1.2.0",
            "_view_name": "LayoutView",
            "align_content": null,
            "align_items": null,
            "align_self": null,
            "border": null,
            "bottom": null,
            "display": null,
            "flex": null,
            "flex_flow": null,
            "grid_area": null,
            "grid_auto_columns": null,
            "grid_auto_flow": null,
            "grid_auto_rows": null,
            "grid_column": null,
            "grid_gap": null,
            "grid_row": null,
            "grid_template_areas": null,
            "grid_template_columns": null,
            "grid_template_rows": null,
            "height": null,
            "justify_content": null,
            "justify_items": null,
            "left": null,
            "margin": null,
            "max_height": null,
            "max_width": null,
            "min_height": null,
            "min_width": null,
            "object_fit": null,
            "object_position": null,
            "order": null,
            "overflow": null,
            "overflow_x": null,
            "overflow_y": null,
            "padding": null,
            "right": null,
            "top": null,
            "visibility": null,
            "width": null
          }
        },
        "314942ac0d7b40d1a049916fdf552434": {
          "model_module": "@jupyter-widgets/controls",
          "model_name": "DescriptionStyleModel",
          "model_module_version": "1.5.0",
          "state": {
            "_model_module": "@jupyter-widgets/controls",
            "_model_module_version": "1.5.0",
            "_model_name": "DescriptionStyleModel",
            "_view_count": null,
            "_view_module": "@jupyter-widgets/base",
            "_view_module_version": "1.2.0",
            "_view_name": "StyleView",
            "description_width": ""
          }
        },
        "e8f960279d334cc28a40557c807f61f1": {
          "model_module": "@jupyter-widgets/base",
          "model_name": "LayoutModel",
          "model_module_version": "1.2.0",
          "state": {
            "_model_module": "@jupyter-widgets/base",
            "_model_module_version": "1.2.0",
            "_model_name": "LayoutModel",
            "_view_count": null,
            "_view_module": "@jupyter-widgets/base",
            "_view_module_version": "1.2.0",
            "_view_name": "LayoutView",
            "align_content": null,
            "align_items": null,
            "align_self": null,
            "border": null,
            "bottom": null,
            "display": null,
            "flex": null,
            "flex_flow": null,
            "grid_area": null,
            "grid_auto_columns": null,
            "grid_auto_flow": null,
            "grid_auto_rows": null,
            "grid_column": null,
            "grid_gap": null,
            "grid_row": null,
            "grid_template_areas": null,
            "grid_template_columns": null,
            "grid_template_rows": null,
            "height": null,
            "justify_content": null,
            "justify_items": null,
            "left": null,
            "margin": null,
            "max_height": null,
            "max_width": null,
            "min_height": null,
            "min_width": null,
            "object_fit": null,
            "object_position": null,
            "order": null,
            "overflow": null,
            "overflow_x": null,
            "overflow_y": null,
            "padding": null,
            "right": null,
            "top": null,
            "visibility": null,
            "width": null
          }
        },
        "49c695f7174a4e8a83fd3f3b31144dea": {
          "model_module": "@jupyter-widgets/controls",
          "model_name": "ProgressStyleModel",
          "model_module_version": "1.5.0",
          "state": {
            "_model_module": "@jupyter-widgets/controls",
            "_model_module_version": "1.5.0",
            "_model_name": "ProgressStyleModel",
            "_view_count": null,
            "_view_module": "@jupyter-widgets/base",
            "_view_module_version": "1.2.0",
            "_view_name": "StyleView",
            "bar_color": null,
            "description_width": ""
          }
        },
        "3ed40e329fa9485793d331b6a80954bf": {
          "model_module": "@jupyter-widgets/base",
          "model_name": "LayoutModel",
          "model_module_version": "1.2.0",
          "state": {
            "_model_module": "@jupyter-widgets/base",
            "_model_module_version": "1.2.0",
            "_model_name": "LayoutModel",
            "_view_count": null,
            "_view_module": "@jupyter-widgets/base",
            "_view_module_version": "1.2.0",
            "_view_name": "LayoutView",
            "align_content": null,
            "align_items": null,
            "align_self": null,
            "border": null,
            "bottom": null,
            "display": null,
            "flex": null,
            "flex_flow": null,
            "grid_area": null,
            "grid_auto_columns": null,
            "grid_auto_flow": null,
            "grid_auto_rows": null,
            "grid_column": null,
            "grid_gap": null,
            "grid_row": null,
            "grid_template_areas": null,
            "grid_template_columns": null,
            "grid_template_rows": null,
            "height": null,
            "justify_content": null,
            "justify_items": null,
            "left": null,
            "margin": null,
            "max_height": null,
            "max_width": null,
            "min_height": null,
            "min_width": null,
            "object_fit": null,
            "object_position": null,
            "order": null,
            "overflow": null,
            "overflow_x": null,
            "overflow_y": null,
            "padding": null,
            "right": null,
            "top": null,
            "visibility": null,
            "width": null
          }
        },
        "83c9595621d24f48a9351b08d93746fb": {
          "model_module": "@jupyter-widgets/controls",
          "model_name": "DescriptionStyleModel",
          "model_module_version": "1.5.0",
          "state": {
            "_model_module": "@jupyter-widgets/controls",
            "_model_module_version": "1.5.0",
            "_model_name": "DescriptionStyleModel",
            "_view_count": null,
            "_view_module": "@jupyter-widgets/base",
            "_view_module_version": "1.2.0",
            "_view_name": "StyleView",
            "description_width": ""
          }
        },
        "64b252ac5aeb42389a9a18761de67cff": {
          "model_module": "@jupyter-widgets/controls",
          "model_name": "HBoxModel",
          "model_module_version": "1.5.0",
          "state": {
            "_dom_classes": [],
            "_model_module": "@jupyter-widgets/controls",
            "_model_module_version": "1.5.0",
            "_model_name": "HBoxModel",
            "_view_count": null,
            "_view_module": "@jupyter-widgets/controls",
            "_view_module_version": "1.5.0",
            "_view_name": "HBoxView",
            "box_style": "",
            "children": [
              "IPY_MODEL_8e0ab0379f4f4bd29452ba68b8e883b0",
              "IPY_MODEL_bc097ca5ba8f482895767623aa0c8472",
              "IPY_MODEL_a17f4c1c629140bcb34076f4b2001f09"
            ],
            "layout": "IPY_MODEL_010e38092033491a9b9a3bcd1fe3d0aa"
          }
        },
        "8e0ab0379f4f4bd29452ba68b8e883b0": {
          "model_module": "@jupyter-widgets/controls",
          "model_name": "HTMLModel",
          "model_module_version": "1.5.0",
          "state": {
            "_dom_classes": [],
            "_model_module": "@jupyter-widgets/controls",
            "_model_module_version": "1.5.0",
            "_model_name": "HTMLModel",
            "_view_count": null,
            "_view_module": "@jupyter-widgets/controls",
            "_view_module_version": "1.5.0",
            "_view_name": "HTMLView",
            "description": "",
            "description_tooltip": null,
            "layout": "IPY_MODEL_32b44ba978874e9fba29f6fc34c3c946",
            "placeholder": "​",
            "style": "IPY_MODEL_262e3f0fe09c41ef8e6019f6b6ed691f",
            "value": "Generating train split: 100%"
          }
        },
        "bc097ca5ba8f482895767623aa0c8472": {
          "model_module": "@jupyter-widgets/controls",
          "model_name": "FloatProgressModel",
          "model_module_version": "1.5.0",
          "state": {
            "_dom_classes": [],
            "_model_module": "@jupyter-widgets/controls",
            "_model_module_version": "1.5.0",
            "_model_name": "FloatProgressModel",
            "_view_count": null,
            "_view_module": "@jupyter-widgets/controls",
            "_view_module_version": "1.5.0",
            "_view_name": "ProgressView",
            "bar_style": "success",
            "description": "",
            "description_tooltip": null,
            "layout": "IPY_MODEL_a61622da2f664834be439255d2835d22",
            "max": 15000,
            "min": 0,
            "orientation": "horizontal",
            "style": "IPY_MODEL_3e8f9dd701594062885a9ba9e990efa6",
            "value": 15000
          }
        },
        "a17f4c1c629140bcb34076f4b2001f09": {
          "model_module": "@jupyter-widgets/controls",
          "model_name": "HTMLModel",
          "model_module_version": "1.5.0",
          "state": {
            "_dom_classes": [],
            "_model_module": "@jupyter-widgets/controls",
            "_model_module_version": "1.5.0",
            "_model_name": "HTMLModel",
            "_view_count": null,
            "_view_module": "@jupyter-widgets/controls",
            "_view_module_version": "1.5.0",
            "_view_name": "HTMLView",
            "description": "",
            "description_tooltip": null,
            "layout": "IPY_MODEL_8d065c10cc3f48d483920aa95f212478",
            "placeholder": "​",
            "style": "IPY_MODEL_94f3757357d145048c9815dfcdb16195",
            "value": " 15000/15000 [00:01&lt;00:00, 8599.40 examples/s]"
          }
        },
        "010e38092033491a9b9a3bcd1fe3d0aa": {
          "model_module": "@jupyter-widgets/base",
          "model_name": "LayoutModel",
          "model_module_version": "1.2.0",
          "state": {
            "_model_module": "@jupyter-widgets/base",
            "_model_module_version": "1.2.0",
            "_model_name": "LayoutModel",
            "_view_count": null,
            "_view_module": "@jupyter-widgets/base",
            "_view_module_version": "1.2.0",
            "_view_name": "LayoutView",
            "align_content": null,
            "align_items": null,
            "align_self": null,
            "border": null,
            "bottom": null,
            "display": null,
            "flex": null,
            "flex_flow": null,
            "grid_area": null,
            "grid_auto_columns": null,
            "grid_auto_flow": null,
            "grid_auto_rows": null,
            "grid_column": null,
            "grid_gap": null,
            "grid_row": null,
            "grid_template_areas": null,
            "grid_template_columns": null,
            "grid_template_rows": null,
            "height": null,
            "justify_content": null,
            "justify_items": null,
            "left": null,
            "margin": null,
            "max_height": null,
            "max_width": null,
            "min_height": null,
            "min_width": null,
            "object_fit": null,
            "object_position": null,
            "order": null,
            "overflow": null,
            "overflow_x": null,
            "overflow_y": null,
            "padding": null,
            "right": null,
            "top": null,
            "visibility": null,
            "width": null
          }
        },
        "32b44ba978874e9fba29f6fc34c3c946": {
          "model_module": "@jupyter-widgets/base",
          "model_name": "LayoutModel",
          "model_module_version": "1.2.0",
          "state": {
            "_model_module": "@jupyter-widgets/base",
            "_model_module_version": "1.2.0",
            "_model_name": "LayoutModel",
            "_view_count": null,
            "_view_module": "@jupyter-widgets/base",
            "_view_module_version": "1.2.0",
            "_view_name": "LayoutView",
            "align_content": null,
            "align_items": null,
            "align_self": null,
            "border": null,
            "bottom": null,
            "display": null,
            "flex": null,
            "flex_flow": null,
            "grid_area": null,
            "grid_auto_columns": null,
            "grid_auto_flow": null,
            "grid_auto_rows": null,
            "grid_column": null,
            "grid_gap": null,
            "grid_row": null,
            "grid_template_areas": null,
            "grid_template_columns": null,
            "grid_template_rows": null,
            "height": null,
            "justify_content": null,
            "justify_items": null,
            "left": null,
            "margin": null,
            "max_height": null,
            "max_width": null,
            "min_height": null,
            "min_width": null,
            "object_fit": null,
            "object_position": null,
            "order": null,
            "overflow": null,
            "overflow_x": null,
            "overflow_y": null,
            "padding": null,
            "right": null,
            "top": null,
            "visibility": null,
            "width": null
          }
        },
        "262e3f0fe09c41ef8e6019f6b6ed691f": {
          "model_module": "@jupyter-widgets/controls",
          "model_name": "DescriptionStyleModel",
          "model_module_version": "1.5.0",
          "state": {
            "_model_module": "@jupyter-widgets/controls",
            "_model_module_version": "1.5.0",
            "_model_name": "DescriptionStyleModel",
            "_view_count": null,
            "_view_module": "@jupyter-widgets/base",
            "_view_module_version": "1.2.0",
            "_view_name": "StyleView",
            "description_width": ""
          }
        },
        "a61622da2f664834be439255d2835d22": {
          "model_module": "@jupyter-widgets/base",
          "model_name": "LayoutModel",
          "model_module_version": "1.2.0",
          "state": {
            "_model_module": "@jupyter-widgets/base",
            "_model_module_version": "1.2.0",
            "_model_name": "LayoutModel",
            "_view_count": null,
            "_view_module": "@jupyter-widgets/base",
            "_view_module_version": "1.2.0",
            "_view_name": "LayoutView",
            "align_content": null,
            "align_items": null,
            "align_self": null,
            "border": null,
            "bottom": null,
            "display": null,
            "flex": null,
            "flex_flow": null,
            "grid_area": null,
            "grid_auto_columns": null,
            "grid_auto_flow": null,
            "grid_auto_rows": null,
            "grid_column": null,
            "grid_gap": null,
            "grid_row": null,
            "grid_template_areas": null,
            "grid_template_columns": null,
            "grid_template_rows": null,
            "height": null,
            "justify_content": null,
            "justify_items": null,
            "left": null,
            "margin": null,
            "max_height": null,
            "max_width": null,
            "min_height": null,
            "min_width": null,
            "object_fit": null,
            "object_position": null,
            "order": null,
            "overflow": null,
            "overflow_x": null,
            "overflow_y": null,
            "padding": null,
            "right": null,
            "top": null,
            "visibility": null,
            "width": null
          }
        },
        "3e8f9dd701594062885a9ba9e990efa6": {
          "model_module": "@jupyter-widgets/controls",
          "model_name": "ProgressStyleModel",
          "model_module_version": "1.5.0",
          "state": {
            "_model_module": "@jupyter-widgets/controls",
            "_model_module_version": "1.5.0",
            "_model_name": "ProgressStyleModel",
            "_view_count": null,
            "_view_module": "@jupyter-widgets/base",
            "_view_module_version": "1.2.0",
            "_view_name": "StyleView",
            "bar_color": null,
            "description_width": ""
          }
        },
        "8d065c10cc3f48d483920aa95f212478": {
          "model_module": "@jupyter-widgets/base",
          "model_name": "LayoutModel",
          "model_module_version": "1.2.0",
          "state": {
            "_model_module": "@jupyter-widgets/base",
            "_model_module_version": "1.2.0",
            "_model_name": "LayoutModel",
            "_view_count": null,
            "_view_module": "@jupyter-widgets/base",
            "_view_module_version": "1.2.0",
            "_view_name": "LayoutView",
            "align_content": null,
            "align_items": null,
            "align_self": null,
            "border": null,
            "bottom": null,
            "display": null,
            "flex": null,
            "flex_flow": null,
            "grid_area": null,
            "grid_auto_columns": null,
            "grid_auto_flow": null,
            "grid_auto_rows": null,
            "grid_column": null,
            "grid_gap": null,
            "grid_row": null,
            "grid_template_areas": null,
            "grid_template_columns": null,
            "grid_template_rows": null,
            "height": null,
            "justify_content": null,
            "justify_items": null,
            "left": null,
            "margin": null,
            "max_height": null,
            "max_width": null,
            "min_height": null,
            "min_width": null,
            "object_fit": null,
            "object_position": null,
            "order": null,
            "overflow": null,
            "overflow_x": null,
            "overflow_y": null,
            "padding": null,
            "right": null,
            "top": null,
            "visibility": null,
            "width": null
          }
        },
        "94f3757357d145048c9815dfcdb16195": {
          "model_module": "@jupyter-widgets/controls",
          "model_name": "DescriptionStyleModel",
          "model_module_version": "1.5.0",
          "state": {
            "_model_module": "@jupyter-widgets/controls",
            "_model_module_version": "1.5.0",
            "_model_name": "DescriptionStyleModel",
            "_view_count": null,
            "_view_module": "@jupyter-widgets/base",
            "_view_module_version": "1.2.0",
            "_view_name": "StyleView",
            "description_width": ""
          }
        },
        "a23b71eff4e140449969b1cff7d38ceb": {
          "model_module": "@jupyter-widgets/controls",
          "model_name": "HBoxModel",
          "model_module_version": "1.5.0",
          "state": {
            "_dom_classes": [],
            "_model_module": "@jupyter-widgets/controls",
            "_model_module_version": "1.5.0",
            "_model_name": "HBoxModel",
            "_view_count": null,
            "_view_module": "@jupyter-widgets/controls",
            "_view_module_version": "1.5.0",
            "_view_name": "HBoxView",
            "box_style": "",
            "children": [
              "IPY_MODEL_2acc6cc3073649398f171437314d603c",
              "IPY_MODEL_5c8166e1f0c548279fbee380d150c8fc",
              "IPY_MODEL_7995b148ca924761bc6711b99b1d8f3f"
            ],
            "layout": "IPY_MODEL_af42336280824a5dae57b85bc62a63b1"
          }
        },
        "2acc6cc3073649398f171437314d603c": {
          "model_module": "@jupyter-widgets/controls",
          "model_name": "HTMLModel",
          "model_module_version": "1.5.0",
          "state": {
            "_dom_classes": [],
            "_model_module": "@jupyter-widgets/controls",
            "_model_module_version": "1.5.0",
            "_model_name": "HTMLModel",
            "_view_count": null,
            "_view_module": "@jupyter-widgets/controls",
            "_view_module_version": "1.5.0",
            "_view_name": "HTMLView",
            "description": "",
            "description_tooltip": null,
            "layout": "IPY_MODEL_5e4ddb7a3dd246f281a47ec52ae9fe66",
            "placeholder": "​",
            "style": "IPY_MODEL_1f88903d86054737af10107e6c1ebce6",
            "value": "config.json: 100%"
          }
        },
        "5c8166e1f0c548279fbee380d150c8fc": {
          "model_module": "@jupyter-widgets/controls",
          "model_name": "FloatProgressModel",
          "model_module_version": "1.5.0",
          "state": {
            "_dom_classes": [],
            "_model_module": "@jupyter-widgets/controls",
            "_model_module_version": "1.5.0",
            "_model_name": "FloatProgressModel",
            "_view_count": null,
            "_view_module": "@jupyter-widgets/controls",
            "_view_module_version": "1.5.0",
            "_view_name": "ProgressView",
            "bar_style": "success",
            "description": "",
            "description_tooltip": null,
            "layout": "IPY_MODEL_901040f6ac334c9cb266104b530bb636",
            "max": 384,
            "min": 0,
            "orientation": "horizontal",
            "style": "IPY_MODEL_7572f63b4a7743b698188afd09a803b7",
            "value": 384
          }
        },
        "7995b148ca924761bc6711b99b1d8f3f": {
          "model_module": "@jupyter-widgets/controls",
          "model_name": "HTMLModel",
          "model_module_version": "1.5.0",
          "state": {
            "_dom_classes": [],
            "_model_module": "@jupyter-widgets/controls",
            "_model_module_version": "1.5.0",
            "_model_name": "HTMLModel",
            "_view_count": null,
            "_view_module": "@jupyter-widgets/controls",
            "_view_module_version": "1.5.0",
            "_view_name": "HTMLView",
            "description": "",
            "description_tooltip": null,
            "layout": "IPY_MODEL_80a6e925859e4fd1a97297027e7a329e",
            "placeholder": "​",
            "style": "IPY_MODEL_5ce67abfa4de445eab1340e9c005f4b4",
            "value": " 384/384 [00:00&lt;00:00, 26.8kB/s]"
          }
        },
        "af42336280824a5dae57b85bc62a63b1": {
          "model_module": "@jupyter-widgets/base",
          "model_name": "LayoutModel",
          "model_module_version": "1.2.0",
          "state": {
            "_model_module": "@jupyter-widgets/base",
            "_model_module_version": "1.2.0",
            "_model_name": "LayoutModel",
            "_view_count": null,
            "_view_module": "@jupyter-widgets/base",
            "_view_module_version": "1.2.0",
            "_view_name": "LayoutView",
            "align_content": null,
            "align_items": null,
            "align_self": null,
            "border": null,
            "bottom": null,
            "display": null,
            "flex": null,
            "flex_flow": null,
            "grid_area": null,
            "grid_auto_columns": null,
            "grid_auto_flow": null,
            "grid_auto_rows": null,
            "grid_column": null,
            "grid_gap": null,
            "grid_row": null,
            "grid_template_areas": null,
            "grid_template_columns": null,
            "grid_template_rows": null,
            "height": null,
            "justify_content": null,
            "justify_items": null,
            "left": null,
            "margin": null,
            "max_height": null,
            "max_width": null,
            "min_height": null,
            "min_width": null,
            "object_fit": null,
            "object_position": null,
            "order": null,
            "overflow": null,
            "overflow_x": null,
            "overflow_y": null,
            "padding": null,
            "right": null,
            "top": null,
            "visibility": null,
            "width": null
          }
        },
        "5e4ddb7a3dd246f281a47ec52ae9fe66": {
          "model_module": "@jupyter-widgets/base",
          "model_name": "LayoutModel",
          "model_module_version": "1.2.0",
          "state": {
            "_model_module": "@jupyter-widgets/base",
            "_model_module_version": "1.2.0",
            "_model_name": "LayoutModel",
            "_view_count": null,
            "_view_module": "@jupyter-widgets/base",
            "_view_module_version": "1.2.0",
            "_view_name": "LayoutView",
            "align_content": null,
            "align_items": null,
            "align_self": null,
            "border": null,
            "bottom": null,
            "display": null,
            "flex": null,
            "flex_flow": null,
            "grid_area": null,
            "grid_auto_columns": null,
            "grid_auto_flow": null,
            "grid_auto_rows": null,
            "grid_column": null,
            "grid_gap": null,
            "grid_row": null,
            "grid_template_areas": null,
            "grid_template_columns": null,
            "grid_template_rows": null,
            "height": null,
            "justify_content": null,
            "justify_items": null,
            "left": null,
            "margin": null,
            "max_height": null,
            "max_width": null,
            "min_height": null,
            "min_width": null,
            "object_fit": null,
            "object_position": null,
            "order": null,
            "overflow": null,
            "overflow_x": null,
            "overflow_y": null,
            "padding": null,
            "right": null,
            "top": null,
            "visibility": null,
            "width": null
          }
        },
        "1f88903d86054737af10107e6c1ebce6": {
          "model_module": "@jupyter-widgets/controls",
          "model_name": "DescriptionStyleModel",
          "model_module_version": "1.5.0",
          "state": {
            "_model_module": "@jupyter-widgets/controls",
            "_model_module_version": "1.5.0",
            "_model_name": "DescriptionStyleModel",
            "_view_count": null,
            "_view_module": "@jupyter-widgets/base",
            "_view_module_version": "1.2.0",
            "_view_name": "StyleView",
            "description_width": ""
          }
        },
        "901040f6ac334c9cb266104b530bb636": {
          "model_module": "@jupyter-widgets/base",
          "model_name": "LayoutModel",
          "model_module_version": "1.2.0",
          "state": {
            "_model_module": "@jupyter-widgets/base",
            "_model_module_version": "1.2.0",
            "_model_name": "LayoutModel",
            "_view_count": null,
            "_view_module": "@jupyter-widgets/base",
            "_view_module_version": "1.2.0",
            "_view_name": "LayoutView",
            "align_content": null,
            "align_items": null,
            "align_self": null,
            "border": null,
            "bottom": null,
            "display": null,
            "flex": null,
            "flex_flow": null,
            "grid_area": null,
            "grid_auto_columns": null,
            "grid_auto_flow": null,
            "grid_auto_rows": null,
            "grid_column": null,
            "grid_gap": null,
            "grid_row": null,
            "grid_template_areas": null,
            "grid_template_columns": null,
            "grid_template_rows": null,
            "height": null,
            "justify_content": null,
            "justify_items": null,
            "left": null,
            "margin": null,
            "max_height": null,
            "max_width": null,
            "min_height": null,
            "min_width": null,
            "object_fit": null,
            "object_position": null,
            "order": null,
            "overflow": null,
            "overflow_x": null,
            "overflow_y": null,
            "padding": null,
            "right": null,
            "top": null,
            "visibility": null,
            "width": null
          }
        },
        "7572f63b4a7743b698188afd09a803b7": {
          "model_module": "@jupyter-widgets/controls",
          "model_name": "ProgressStyleModel",
          "model_module_version": "1.5.0",
          "state": {
            "_model_module": "@jupyter-widgets/controls",
            "_model_module_version": "1.5.0",
            "_model_name": "ProgressStyleModel",
            "_view_count": null,
            "_view_module": "@jupyter-widgets/base",
            "_view_module_version": "1.2.0",
            "_view_name": "StyleView",
            "bar_color": null,
            "description_width": ""
          }
        },
        "80a6e925859e4fd1a97297027e7a329e": {
          "model_module": "@jupyter-widgets/base",
          "model_name": "LayoutModel",
          "model_module_version": "1.2.0",
          "state": {
            "_model_module": "@jupyter-widgets/base",
            "_model_module_version": "1.2.0",
            "_model_name": "LayoutModel",
            "_view_count": null,
            "_view_module": "@jupyter-widgets/base",
            "_view_module_version": "1.2.0",
            "_view_name": "LayoutView",
            "align_content": null,
            "align_items": null,
            "align_self": null,
            "border": null,
            "bottom": null,
            "display": null,
            "flex": null,
            "flex_flow": null,
            "grid_area": null,
            "grid_auto_columns": null,
            "grid_auto_flow": null,
            "grid_auto_rows": null,
            "grid_column": null,
            "grid_gap": null,
            "grid_row": null,
            "grid_template_areas": null,
            "grid_template_columns": null,
            "grid_template_rows": null,
            "height": null,
            "justify_content": null,
            "justify_items": null,
            "left": null,
            "margin": null,
            "max_height": null,
            "max_width": null,
            "min_height": null,
            "min_width": null,
            "object_fit": null,
            "object_position": null,
            "order": null,
            "overflow": null,
            "overflow_x": null,
            "overflow_y": null,
            "padding": null,
            "right": null,
            "top": null,
            "visibility": null,
            "width": null
          }
        },
        "5ce67abfa4de445eab1340e9c005f4b4": {
          "model_module": "@jupyter-widgets/controls",
          "model_name": "DescriptionStyleModel",
          "model_module_version": "1.5.0",
          "state": {
            "_model_module": "@jupyter-widgets/controls",
            "_model_module_version": "1.5.0",
            "_model_name": "DescriptionStyleModel",
            "_view_count": null,
            "_view_module": "@jupyter-widgets/base",
            "_view_module_version": "1.2.0",
            "_view_name": "StyleView",
            "description_width": ""
          }
        },
        "85db183324e5404ab14ca98afe43ab7d": {
          "model_module": "@jupyter-widgets/controls",
          "model_name": "HBoxModel",
          "model_module_version": "1.5.0",
          "state": {
            "_dom_classes": [],
            "_model_module": "@jupyter-widgets/controls",
            "_model_module_version": "1.5.0",
            "_model_name": "HBoxModel",
            "_view_count": null,
            "_view_module": "@jupyter-widgets/controls",
            "_view_module_version": "1.5.0",
            "_view_name": "HBoxView",
            "box_style": "",
            "children": [
              "IPY_MODEL_06ad14e679804aa982769a6d051d7fe2",
              "IPY_MODEL_246655cb81ef4e5fbe291db143071ff5",
              "IPY_MODEL_3bbda9e2554b4f1188a07274f60cd5d1"
            ],
            "layout": "IPY_MODEL_6eda7d484c84456a89bd9cae895166ea"
          }
        },
        "06ad14e679804aa982769a6d051d7fe2": {
          "model_module": "@jupyter-widgets/controls",
          "model_name": "HTMLModel",
          "model_module_version": "1.5.0",
          "state": {
            "_dom_classes": [],
            "_model_module": "@jupyter-widgets/controls",
            "_model_module_version": "1.5.0",
            "_model_name": "HTMLModel",
            "_view_count": null,
            "_view_module": "@jupyter-widgets/controls",
            "_view_module_version": "1.5.0",
            "_view_name": "HTMLView",
            "description": "",
            "description_tooltip": null,
            "layout": "IPY_MODEL_acd7e52eb12e493cbdf1d7836044ab6d",
            "placeholder": "​",
            "style": "IPY_MODEL_ced2025a480342a9ba29e189e607bf68",
            "value": "model.safetensors: 100%"
          }
        },
        "246655cb81ef4e5fbe291db143071ff5": {
          "model_module": "@jupyter-widgets/controls",
          "model_name": "FloatProgressModel",
          "model_module_version": "1.5.0",
          "state": {
            "_dom_classes": [],
            "_model_module": "@jupyter-widgets/controls",
            "_model_module_version": "1.5.0",
            "_model_name": "FloatProgressModel",
            "_view_count": null,
            "_view_module": "@jupyter-widgets/controls",
            "_view_module_version": "1.5.0",
            "_view_name": "ProgressView",
            "bar_style": "success",
            "description": "",
            "description_tooltip": null,
            "layout": "IPY_MODEL_343514da07674fa882f2da2df10705f3",
            "max": 543432324,
            "min": 0,
            "orientation": "horizontal",
            "style": "IPY_MODEL_eebe8f1dca6e4307addad296f925a42d",
            "value": 543432324
          }
        },
        "3bbda9e2554b4f1188a07274f60cd5d1": {
          "model_module": "@jupyter-widgets/controls",
          "model_name": "HTMLModel",
          "model_module_version": "1.5.0",
          "state": {
            "_dom_classes": [],
            "_model_module": "@jupyter-widgets/controls",
            "_model_module_version": "1.5.0",
            "_model_name": "HTMLModel",
            "_view_count": null,
            "_view_module": "@jupyter-widgets/controls",
            "_view_module_version": "1.5.0",
            "_view_name": "HTMLView",
            "description": "",
            "description_tooltip": null,
            "layout": "IPY_MODEL_fcbee8daed104a33bb591bdde4d47454",
            "placeholder": "​",
            "style": "IPY_MODEL_69734fca1e7d4b7bac6f4bdb96c37611",
            "value": " 543M/543M [00:01&lt;00:00, 297MB/s]"
          }
        },
        "6eda7d484c84456a89bd9cae895166ea": {
          "model_module": "@jupyter-widgets/base",
          "model_name": "LayoutModel",
          "model_module_version": "1.2.0",
          "state": {
            "_model_module": "@jupyter-widgets/base",
            "_model_module_version": "1.2.0",
            "_model_name": "LayoutModel",
            "_view_count": null,
            "_view_module": "@jupyter-widgets/base",
            "_view_module_version": "1.2.0",
            "_view_name": "LayoutView",
            "align_content": null,
            "align_items": null,
            "align_self": null,
            "border": null,
            "bottom": null,
            "display": null,
            "flex": null,
            "flex_flow": null,
            "grid_area": null,
            "grid_auto_columns": null,
            "grid_auto_flow": null,
            "grid_auto_rows": null,
            "grid_column": null,
            "grid_gap": null,
            "grid_row": null,
            "grid_template_areas": null,
            "grid_template_columns": null,
            "grid_template_rows": null,
            "height": null,
            "justify_content": null,
            "justify_items": null,
            "left": null,
            "margin": null,
            "max_height": null,
            "max_width": null,
            "min_height": null,
            "min_width": null,
            "object_fit": null,
            "object_position": null,
            "order": null,
            "overflow": null,
            "overflow_x": null,
            "overflow_y": null,
            "padding": null,
            "right": null,
            "top": null,
            "visibility": null,
            "width": null
          }
        },
        "acd7e52eb12e493cbdf1d7836044ab6d": {
          "model_module": "@jupyter-widgets/base",
          "model_name": "LayoutModel",
          "model_module_version": "1.2.0",
          "state": {
            "_model_module": "@jupyter-widgets/base",
            "_model_module_version": "1.2.0",
            "_model_name": "LayoutModel",
            "_view_count": null,
            "_view_module": "@jupyter-widgets/base",
            "_view_module_version": "1.2.0",
            "_view_name": "LayoutView",
            "align_content": null,
            "align_items": null,
            "align_self": null,
            "border": null,
            "bottom": null,
            "display": null,
            "flex": null,
            "flex_flow": null,
            "grid_area": null,
            "grid_auto_columns": null,
            "grid_auto_flow": null,
            "grid_auto_rows": null,
            "grid_column": null,
            "grid_gap": null,
            "grid_row": null,
            "grid_template_areas": null,
            "grid_template_columns": null,
            "grid_template_rows": null,
            "height": null,
            "justify_content": null,
            "justify_items": null,
            "left": null,
            "margin": null,
            "max_height": null,
            "max_width": null,
            "min_height": null,
            "min_width": null,
            "object_fit": null,
            "object_position": null,
            "order": null,
            "overflow": null,
            "overflow_x": null,
            "overflow_y": null,
            "padding": null,
            "right": null,
            "top": null,
            "visibility": null,
            "width": null
          }
        },
        "ced2025a480342a9ba29e189e607bf68": {
          "model_module": "@jupyter-widgets/controls",
          "model_name": "DescriptionStyleModel",
          "model_module_version": "1.5.0",
          "state": {
            "_model_module": "@jupyter-widgets/controls",
            "_model_module_version": "1.5.0",
            "_model_name": "DescriptionStyleModel",
            "_view_count": null,
            "_view_module": "@jupyter-widgets/base",
            "_view_module_version": "1.2.0",
            "_view_name": "StyleView",
            "description_width": ""
          }
        },
        "343514da07674fa882f2da2df10705f3": {
          "model_module": "@jupyter-widgets/base",
          "model_name": "LayoutModel",
          "model_module_version": "1.2.0",
          "state": {
            "_model_module": "@jupyter-widgets/base",
            "_model_module_version": "1.2.0",
            "_model_name": "LayoutModel",
            "_view_count": null,
            "_view_module": "@jupyter-widgets/base",
            "_view_module_version": "1.2.0",
            "_view_name": "LayoutView",
            "align_content": null,
            "align_items": null,
            "align_self": null,
            "border": null,
            "bottom": null,
            "display": null,
            "flex": null,
            "flex_flow": null,
            "grid_area": null,
            "grid_auto_columns": null,
            "grid_auto_flow": null,
            "grid_auto_rows": null,
            "grid_column": null,
            "grid_gap": null,
            "grid_row": null,
            "grid_template_areas": null,
            "grid_template_columns": null,
            "grid_template_rows": null,
            "height": null,
            "justify_content": null,
            "justify_items": null,
            "left": null,
            "margin": null,
            "max_height": null,
            "max_width": null,
            "min_height": null,
            "min_width": null,
            "object_fit": null,
            "object_position": null,
            "order": null,
            "overflow": null,
            "overflow_x": null,
            "overflow_y": null,
            "padding": null,
            "right": null,
            "top": null,
            "visibility": null,
            "width": null
          }
        },
        "eebe8f1dca6e4307addad296f925a42d": {
          "model_module": "@jupyter-widgets/controls",
          "model_name": "ProgressStyleModel",
          "model_module_version": "1.5.0",
          "state": {
            "_model_module": "@jupyter-widgets/controls",
            "_model_module_version": "1.5.0",
            "_model_name": "ProgressStyleModel",
            "_view_count": null,
            "_view_module": "@jupyter-widgets/base",
            "_view_module_version": "1.2.0",
            "_view_name": "StyleView",
            "bar_color": null,
            "description_width": ""
          }
        },
        "fcbee8daed104a33bb591bdde4d47454": {
          "model_module": "@jupyter-widgets/base",
          "model_name": "LayoutModel",
          "model_module_version": "1.2.0",
          "state": {
            "_model_module": "@jupyter-widgets/base",
            "_model_module_version": "1.2.0",
            "_model_name": "LayoutModel",
            "_view_count": null,
            "_view_module": "@jupyter-widgets/base",
            "_view_module_version": "1.2.0",
            "_view_name": "LayoutView",
            "align_content": null,
            "align_items": null,
            "align_self": null,
            "border": null,
            "bottom": null,
            "display": null,
            "flex": null,
            "flex_flow": null,
            "grid_area": null,
            "grid_auto_columns": null,
            "grid_auto_flow": null,
            "grid_auto_rows": null,
            "grid_column": null,
            "grid_gap": null,
            "grid_row": null,
            "grid_template_areas": null,
            "grid_template_columns": null,
            "grid_template_rows": null,
            "height": null,
            "justify_content": null,
            "justify_items": null,
            "left": null,
            "margin": null,
            "max_height": null,
            "max_width": null,
            "min_height": null,
            "min_width": null,
            "object_fit": null,
            "object_position": null,
            "order": null,
            "overflow": null,
            "overflow_x": null,
            "overflow_y": null,
            "padding": null,
            "right": null,
            "top": null,
            "visibility": null,
            "width": null
          }
        },
        "69734fca1e7d4b7bac6f4bdb96c37611": {
          "model_module": "@jupyter-widgets/controls",
          "model_name": "DescriptionStyleModel",
          "model_module_version": "1.5.0",
          "state": {
            "_model_module": "@jupyter-widgets/controls",
            "_model_module_version": "1.5.0",
            "_model_name": "DescriptionStyleModel",
            "_view_count": null,
            "_view_module": "@jupyter-widgets/base",
            "_view_module_version": "1.2.0",
            "_view_name": "StyleView",
            "description_width": ""
          }
        },
        "5565af6896664c798db9d30fe0290095": {
          "model_module": "@jupyter-widgets/controls",
          "model_name": "HBoxModel",
          "model_module_version": "1.5.0",
          "state": {
            "_dom_classes": [],
            "_model_module": "@jupyter-widgets/controls",
            "_model_module_version": "1.5.0",
            "_model_name": "HBoxModel",
            "_view_count": null,
            "_view_module": "@jupyter-widgets/controls",
            "_view_module_version": "1.5.0",
            "_view_name": "HBoxView",
            "box_style": "",
            "children": [
              "IPY_MODEL_3a4b870c5f37415a99260daf7a09e774",
              "IPY_MODEL_1b90e74db94d4859a461f8bc4b1bf51d",
              "IPY_MODEL_3a19daf6f1014994add71a9fd2f3ebaf"
            ],
            "layout": "IPY_MODEL_a3764c5f3cf541278f277e076bf84313"
          }
        },
        "3a4b870c5f37415a99260daf7a09e774": {
          "model_module": "@jupyter-widgets/controls",
          "model_name": "HTMLModel",
          "model_module_version": "1.5.0",
          "state": {
            "_dom_classes": [],
            "_model_module": "@jupyter-widgets/controls",
            "_model_module_version": "1.5.0",
            "_model_name": "HTMLModel",
            "_view_count": null,
            "_view_module": "@jupyter-widgets/controls",
            "_view_module_version": "1.5.0",
            "_view_name": "HTMLView",
            "description": "",
            "description_tooltip": null,
            "layout": "IPY_MODEL_8c4c76a524c64d15a07aba9f4c927f81",
            "placeholder": "​",
            "style": "IPY_MODEL_846c6de498c847d3843b706827d1ec6b",
            "value": "tokenizer_config.json: 100%"
          }
        },
        "1b90e74db94d4859a461f8bc4b1bf51d": {
          "model_module": "@jupyter-widgets/controls",
          "model_name": "FloatProgressModel",
          "model_module_version": "1.5.0",
          "state": {
            "_dom_classes": [],
            "_model_module": "@jupyter-widgets/controls",
            "_model_module_version": "1.5.0",
            "_model_name": "FloatProgressModel",
            "_view_count": null,
            "_view_module": "@jupyter-widgets/controls",
            "_view_module_version": "1.5.0",
            "_view_name": "ProgressView",
            "bar_style": "success",
            "description": "",
            "description_tooltip": null,
            "layout": "IPY_MODEL_25ce4fe02df84370991c9f94f88f9149",
            "max": 381,
            "min": 0,
            "orientation": "horizontal",
            "style": "IPY_MODEL_adf2d64089244fb7afffb086f957a329",
            "value": 381
          }
        },
        "3a19daf6f1014994add71a9fd2f3ebaf": {
          "model_module": "@jupyter-widgets/controls",
          "model_name": "HTMLModel",
          "model_module_version": "1.5.0",
          "state": {
            "_dom_classes": [],
            "_model_module": "@jupyter-widgets/controls",
            "_model_module_version": "1.5.0",
            "_model_name": "HTMLModel",
            "_view_count": null,
            "_view_module": "@jupyter-widgets/controls",
            "_view_module_version": "1.5.0",
            "_view_name": "HTMLView",
            "description": "",
            "description_tooltip": null,
            "layout": "IPY_MODEL_b02929c000f044729293ef56f723a22b",
            "placeholder": "​",
            "style": "IPY_MODEL_fd57676a1a71460a8d8d80ee719466bf",
            "value": " 381/381 [00:00&lt;00:00, 26.9kB/s]"
          }
        },
        "a3764c5f3cf541278f277e076bf84313": {
          "model_module": "@jupyter-widgets/base",
          "model_name": "LayoutModel",
          "model_module_version": "1.2.0",
          "state": {
            "_model_module": "@jupyter-widgets/base",
            "_model_module_version": "1.2.0",
            "_model_name": "LayoutModel",
            "_view_count": null,
            "_view_module": "@jupyter-widgets/base",
            "_view_module_version": "1.2.0",
            "_view_name": "LayoutView",
            "align_content": null,
            "align_items": null,
            "align_self": null,
            "border": null,
            "bottom": null,
            "display": null,
            "flex": null,
            "flex_flow": null,
            "grid_area": null,
            "grid_auto_columns": null,
            "grid_auto_flow": null,
            "grid_auto_rows": null,
            "grid_column": null,
            "grid_gap": null,
            "grid_row": null,
            "grid_template_areas": null,
            "grid_template_columns": null,
            "grid_template_rows": null,
            "height": null,
            "justify_content": null,
            "justify_items": null,
            "left": null,
            "margin": null,
            "max_height": null,
            "max_width": null,
            "min_height": null,
            "min_width": null,
            "object_fit": null,
            "object_position": null,
            "order": null,
            "overflow": null,
            "overflow_x": null,
            "overflow_y": null,
            "padding": null,
            "right": null,
            "top": null,
            "visibility": null,
            "width": null
          }
        },
        "8c4c76a524c64d15a07aba9f4c927f81": {
          "model_module": "@jupyter-widgets/base",
          "model_name": "LayoutModel",
          "model_module_version": "1.2.0",
          "state": {
            "_model_module": "@jupyter-widgets/base",
            "_model_module_version": "1.2.0",
            "_model_name": "LayoutModel",
            "_view_count": null,
            "_view_module": "@jupyter-widgets/base",
            "_view_module_version": "1.2.0",
            "_view_name": "LayoutView",
            "align_content": null,
            "align_items": null,
            "align_self": null,
            "border": null,
            "bottom": null,
            "display": null,
            "flex": null,
            "flex_flow": null,
            "grid_area": null,
            "grid_auto_columns": null,
            "grid_auto_flow": null,
            "grid_auto_rows": null,
            "grid_column": null,
            "grid_gap": null,
            "grid_row": null,
            "grid_template_areas": null,
            "grid_template_columns": null,
            "grid_template_rows": null,
            "height": null,
            "justify_content": null,
            "justify_items": null,
            "left": null,
            "margin": null,
            "max_height": null,
            "max_width": null,
            "min_height": null,
            "min_width": null,
            "object_fit": null,
            "object_position": null,
            "order": null,
            "overflow": null,
            "overflow_x": null,
            "overflow_y": null,
            "padding": null,
            "right": null,
            "top": null,
            "visibility": null,
            "width": null
          }
        },
        "846c6de498c847d3843b706827d1ec6b": {
          "model_module": "@jupyter-widgets/controls",
          "model_name": "DescriptionStyleModel",
          "model_module_version": "1.5.0",
          "state": {
            "_model_module": "@jupyter-widgets/controls",
            "_model_module_version": "1.5.0",
            "_model_name": "DescriptionStyleModel",
            "_view_count": null,
            "_view_module": "@jupyter-widgets/base",
            "_view_module_version": "1.2.0",
            "_view_name": "StyleView",
            "description_width": ""
          }
        },
        "25ce4fe02df84370991c9f94f88f9149": {
          "model_module": "@jupyter-widgets/base",
          "model_name": "LayoutModel",
          "model_module_version": "1.2.0",
          "state": {
            "_model_module": "@jupyter-widgets/base",
            "_model_module_version": "1.2.0",
            "_model_name": "LayoutModel",
            "_view_count": null,
            "_view_module": "@jupyter-widgets/base",
            "_view_module_version": "1.2.0",
            "_view_name": "LayoutView",
            "align_content": null,
            "align_items": null,
            "align_self": null,
            "border": null,
            "bottom": null,
            "display": null,
            "flex": null,
            "flex_flow": null,
            "grid_area": null,
            "grid_auto_columns": null,
            "grid_auto_flow": null,
            "grid_auto_rows": null,
            "grid_column": null,
            "grid_gap": null,
            "grid_row": null,
            "grid_template_areas": null,
            "grid_template_columns": null,
            "grid_template_rows": null,
            "height": null,
            "justify_content": null,
            "justify_items": null,
            "left": null,
            "margin": null,
            "max_height": null,
            "max_width": null,
            "min_height": null,
            "min_width": null,
            "object_fit": null,
            "object_position": null,
            "order": null,
            "overflow": null,
            "overflow_x": null,
            "overflow_y": null,
            "padding": null,
            "right": null,
            "top": null,
            "visibility": null,
            "width": null
          }
        },
        "adf2d64089244fb7afffb086f957a329": {
          "model_module": "@jupyter-widgets/controls",
          "model_name": "ProgressStyleModel",
          "model_module_version": "1.5.0",
          "state": {
            "_model_module": "@jupyter-widgets/controls",
            "_model_module_version": "1.5.0",
            "_model_name": "ProgressStyleModel",
            "_view_count": null,
            "_view_module": "@jupyter-widgets/base",
            "_view_module_version": "1.2.0",
            "_view_name": "StyleView",
            "bar_color": null,
            "description_width": ""
          }
        },
        "b02929c000f044729293ef56f723a22b": {
          "model_module": "@jupyter-widgets/base",
          "model_name": "LayoutModel",
          "model_module_version": "1.2.0",
          "state": {
            "_model_module": "@jupyter-widgets/base",
            "_model_module_version": "1.2.0",
            "_model_name": "LayoutModel",
            "_view_count": null,
            "_view_module": "@jupyter-widgets/base",
            "_view_module_version": "1.2.0",
            "_view_name": "LayoutView",
            "align_content": null,
            "align_items": null,
            "align_self": null,
            "border": null,
            "bottom": null,
            "display": null,
            "flex": null,
            "flex_flow": null,
            "grid_area": null,
            "grid_auto_columns": null,
            "grid_auto_flow": null,
            "grid_auto_rows": null,
            "grid_column": null,
            "grid_gap": null,
            "grid_row": null,
            "grid_template_areas": null,
            "grid_template_columns": null,
            "grid_template_rows": null,
            "height": null,
            "justify_content": null,
            "justify_items": null,
            "left": null,
            "margin": null,
            "max_height": null,
            "max_width": null,
            "min_height": null,
            "min_width": null,
            "object_fit": null,
            "object_position": null,
            "order": null,
            "overflow": null,
            "overflow_x": null,
            "overflow_y": null,
            "padding": null,
            "right": null,
            "top": null,
            "visibility": null,
            "width": null
          }
        },
        "fd57676a1a71460a8d8d80ee719466bf": {
          "model_module": "@jupyter-widgets/controls",
          "model_name": "DescriptionStyleModel",
          "model_module_version": "1.5.0",
          "state": {
            "_model_module": "@jupyter-widgets/controls",
            "_model_module_version": "1.5.0",
            "_model_name": "DescriptionStyleModel",
            "_view_count": null,
            "_view_module": "@jupyter-widgets/base",
            "_view_module_version": "1.2.0",
            "_view_name": "StyleView",
            "description_width": ""
          }
        },
        "ed678ddd554648ae9e8d9c9b8c4fd871": {
          "model_module": "@jupyter-widgets/controls",
          "model_name": "HBoxModel",
          "model_module_version": "1.5.0",
          "state": {
            "_dom_classes": [],
            "_model_module": "@jupyter-widgets/controls",
            "_model_module_version": "1.5.0",
            "_model_name": "HBoxModel",
            "_view_count": null,
            "_view_module": "@jupyter-widgets/controls",
            "_view_module_version": "1.5.0",
            "_view_name": "HBoxView",
            "box_style": "",
            "children": [
              "IPY_MODEL_5db4c7d638b6453d9ee2c0efbcb87d40",
              "IPY_MODEL_45531f9026354265a9a348073a1f0c86",
              "IPY_MODEL_4088b786c8ea48c591af866caa577f34"
            ],
            "layout": "IPY_MODEL_607254260802407fb177a783bcd9c448"
          }
        },
        "5db4c7d638b6453d9ee2c0efbcb87d40": {
          "model_module": "@jupyter-widgets/controls",
          "model_name": "HTMLModel",
          "model_module_version": "1.5.0",
          "state": {
            "_dom_classes": [],
            "_model_module": "@jupyter-widgets/controls",
            "_model_module_version": "1.5.0",
            "_model_name": "HTMLModel",
            "_view_count": null,
            "_view_module": "@jupyter-widgets/controls",
            "_view_module_version": "1.5.0",
            "_view_name": "HTMLView",
            "description": "",
            "description_tooltip": null,
            "layout": "IPY_MODEL_776fc0625b4d4121b585e07ba8ee10f0",
            "placeholder": "​",
            "style": "IPY_MODEL_b75a3a29147f4a18957576905bf1c3f3",
            "value": "vocab.txt: 100%"
          }
        },
        "45531f9026354265a9a348073a1f0c86": {
          "model_module": "@jupyter-widgets/controls",
          "model_name": "FloatProgressModel",
          "model_module_version": "1.5.0",
          "state": {
            "_dom_classes": [],
            "_model_module": "@jupyter-widgets/controls",
            "_model_module_version": "1.5.0",
            "_model_name": "FloatProgressModel",
            "_view_count": null,
            "_view_module": "@jupyter-widgets/controls",
            "_view_module_version": "1.5.0",
            "_view_name": "ProgressView",
            "bar_style": "success",
            "description": "",
            "description_tooltip": null,
            "layout": "IPY_MODEL_697bd4962cbb45328b864fea9ec9de66",
            "max": 824793,
            "min": 0,
            "orientation": "horizontal",
            "style": "IPY_MODEL_8413cc06231342a890a0273f5376a505",
            "value": 824793
          }
        },
        "4088b786c8ea48c591af866caa577f34": {
          "model_module": "@jupyter-widgets/controls",
          "model_name": "HTMLModel",
          "model_module_version": "1.5.0",
          "state": {
            "_dom_classes": [],
            "_model_module": "@jupyter-widgets/controls",
            "_model_module_version": "1.5.0",
            "_model_name": "HTMLModel",
            "_view_count": null,
            "_view_module": "@jupyter-widgets/controls",
            "_view_module_version": "1.5.0",
            "_view_name": "HTMLView",
            "description": "",
            "description_tooltip": null,
            "layout": "IPY_MODEL_35156973e71a4e74a86a0fe7c37ec068",
            "placeholder": "​",
            "style": "IPY_MODEL_aa29503bd52d4927b1db9ba0cf9c5c1d",
            "value": " 825k/825k [00:00&lt;00:00, 29.4MB/s]"
          }
        },
        "607254260802407fb177a783bcd9c448": {
          "model_module": "@jupyter-widgets/base",
          "model_name": "LayoutModel",
          "model_module_version": "1.2.0",
          "state": {
            "_model_module": "@jupyter-widgets/base",
            "_model_module_version": "1.2.0",
            "_model_name": "LayoutModel",
            "_view_count": null,
            "_view_module": "@jupyter-widgets/base",
            "_view_module_version": "1.2.0",
            "_view_name": "LayoutView",
            "align_content": null,
            "align_items": null,
            "align_self": null,
            "border": null,
            "bottom": null,
            "display": null,
            "flex": null,
            "flex_flow": null,
            "grid_area": null,
            "grid_auto_columns": null,
            "grid_auto_flow": null,
            "grid_auto_rows": null,
            "grid_column": null,
            "grid_gap": null,
            "grid_row": null,
            "grid_template_areas": null,
            "grid_template_columns": null,
            "grid_template_rows": null,
            "height": null,
            "justify_content": null,
            "justify_items": null,
            "left": null,
            "margin": null,
            "max_height": null,
            "max_width": null,
            "min_height": null,
            "min_width": null,
            "object_fit": null,
            "object_position": null,
            "order": null,
            "overflow": null,
            "overflow_x": null,
            "overflow_y": null,
            "padding": null,
            "right": null,
            "top": null,
            "visibility": null,
            "width": null
          }
        },
        "776fc0625b4d4121b585e07ba8ee10f0": {
          "model_module": "@jupyter-widgets/base",
          "model_name": "LayoutModel",
          "model_module_version": "1.2.0",
          "state": {
            "_model_module": "@jupyter-widgets/base",
            "_model_module_version": "1.2.0",
            "_model_name": "LayoutModel",
            "_view_count": null,
            "_view_module": "@jupyter-widgets/base",
            "_view_module_version": "1.2.0",
            "_view_name": "LayoutView",
            "align_content": null,
            "align_items": null,
            "align_self": null,
            "border": null,
            "bottom": null,
            "display": null,
            "flex": null,
            "flex_flow": null,
            "grid_area": null,
            "grid_auto_columns": null,
            "grid_auto_flow": null,
            "grid_auto_rows": null,
            "grid_column": null,
            "grid_gap": null,
            "grid_row": null,
            "grid_template_areas": null,
            "grid_template_columns": null,
            "grid_template_rows": null,
            "height": null,
            "justify_content": null,
            "justify_items": null,
            "left": null,
            "margin": null,
            "max_height": null,
            "max_width": null,
            "min_height": null,
            "min_width": null,
            "object_fit": null,
            "object_position": null,
            "order": null,
            "overflow": null,
            "overflow_x": null,
            "overflow_y": null,
            "padding": null,
            "right": null,
            "top": null,
            "visibility": null,
            "width": null
          }
        },
        "b75a3a29147f4a18957576905bf1c3f3": {
          "model_module": "@jupyter-widgets/controls",
          "model_name": "DescriptionStyleModel",
          "model_module_version": "1.5.0",
          "state": {
            "_model_module": "@jupyter-widgets/controls",
            "_model_module_version": "1.5.0",
            "_model_name": "DescriptionStyleModel",
            "_view_count": null,
            "_view_module": "@jupyter-widgets/base",
            "_view_module_version": "1.2.0",
            "_view_name": "StyleView",
            "description_width": ""
          }
        },
        "697bd4962cbb45328b864fea9ec9de66": {
          "model_module": "@jupyter-widgets/base",
          "model_name": "LayoutModel",
          "model_module_version": "1.2.0",
          "state": {
            "_model_module": "@jupyter-widgets/base",
            "_model_module_version": "1.2.0",
            "_model_name": "LayoutModel",
            "_view_count": null,
            "_view_module": "@jupyter-widgets/base",
            "_view_module_version": "1.2.0",
            "_view_name": "LayoutView",
            "align_content": null,
            "align_items": null,
            "align_self": null,
            "border": null,
            "bottom": null,
            "display": null,
            "flex": null,
            "flex_flow": null,
            "grid_area": null,
            "grid_auto_columns": null,
            "grid_auto_flow": null,
            "grid_auto_rows": null,
            "grid_column": null,
            "grid_gap": null,
            "grid_row": null,
            "grid_template_areas": null,
            "grid_template_columns": null,
            "grid_template_rows": null,
            "height": null,
            "justify_content": null,
            "justify_items": null,
            "left": null,
            "margin": null,
            "max_height": null,
            "max_width": null,
            "min_height": null,
            "min_width": null,
            "object_fit": null,
            "object_position": null,
            "order": null,
            "overflow": null,
            "overflow_x": null,
            "overflow_y": null,
            "padding": null,
            "right": null,
            "top": null,
            "visibility": null,
            "width": null
          }
        },
        "8413cc06231342a890a0273f5376a505": {
          "model_module": "@jupyter-widgets/controls",
          "model_name": "ProgressStyleModel",
          "model_module_version": "1.5.0",
          "state": {
            "_model_module": "@jupyter-widgets/controls",
            "_model_module_version": "1.5.0",
            "_model_name": "ProgressStyleModel",
            "_view_count": null,
            "_view_module": "@jupyter-widgets/base",
            "_view_module_version": "1.2.0",
            "_view_name": "StyleView",
            "bar_color": null,
            "description_width": ""
          }
        },
        "35156973e71a4e74a86a0fe7c37ec068": {
          "model_module": "@jupyter-widgets/base",
          "model_name": "LayoutModel",
          "model_module_version": "1.2.0",
          "state": {
            "_model_module": "@jupyter-widgets/base",
            "_model_module_version": "1.2.0",
            "_model_name": "LayoutModel",
            "_view_count": null,
            "_view_module": "@jupyter-widgets/base",
            "_view_module_version": "1.2.0",
            "_view_name": "LayoutView",
            "align_content": null,
            "align_items": null,
            "align_self": null,
            "border": null,
            "bottom": null,
            "display": null,
            "flex": null,
            "flex_flow": null,
            "grid_area": null,
            "grid_auto_columns": null,
            "grid_auto_flow": null,
            "grid_auto_rows": null,
            "grid_column": null,
            "grid_gap": null,
            "grid_row": null,
            "grid_template_areas": null,
            "grid_template_columns": null,
            "grid_template_rows": null,
            "height": null,
            "justify_content": null,
            "justify_items": null,
            "left": null,
            "margin": null,
            "max_height": null,
            "max_width": null,
            "min_height": null,
            "min_width": null,
            "object_fit": null,
            "object_position": null,
            "order": null,
            "overflow": null,
            "overflow_x": null,
            "overflow_y": null,
            "padding": null,
            "right": null,
            "top": null,
            "visibility": null,
            "width": null
          }
        },
        "aa29503bd52d4927b1db9ba0cf9c5c1d": {
          "model_module": "@jupyter-widgets/controls",
          "model_name": "DescriptionStyleModel",
          "model_module_version": "1.5.0",
          "state": {
            "_model_module": "@jupyter-widgets/controls",
            "_model_module_version": "1.5.0",
            "_model_name": "DescriptionStyleModel",
            "_view_count": null,
            "_view_module": "@jupyter-widgets/base",
            "_view_module_version": "1.2.0",
            "_view_name": "StyleView",
            "description_width": ""
          }
        },
        "36c41df61ee14a1bbf7c13749bbacbfa": {
          "model_module": "@jupyter-widgets/controls",
          "model_name": "HBoxModel",
          "model_module_version": "1.5.0",
          "state": {
            "_dom_classes": [],
            "_model_module": "@jupyter-widgets/controls",
            "_model_module_version": "1.5.0",
            "_model_name": "HBoxModel",
            "_view_count": null,
            "_view_module": "@jupyter-widgets/controls",
            "_view_module_version": "1.5.0",
            "_view_name": "HBoxView",
            "box_style": "",
            "children": [
              "IPY_MODEL_268355568fba404d8aa3bd9603607f2e",
              "IPY_MODEL_87d505d5b7784403a79f5df6445f49a0",
              "IPY_MODEL_36a8c9e2dd3141eead843ce8753f12a1"
            ],
            "layout": "IPY_MODEL_1c157c0b92674cdfb23bbc1eaad262fa"
          }
        },
        "268355568fba404d8aa3bd9603607f2e": {
          "model_module": "@jupyter-widgets/controls",
          "model_name": "HTMLModel",
          "model_module_version": "1.5.0",
          "state": {
            "_dom_classes": [],
            "_model_module": "@jupyter-widgets/controls",
            "_model_module_version": "1.5.0",
            "_model_name": "HTMLModel",
            "_view_count": null,
            "_view_module": "@jupyter-widgets/controls",
            "_view_module_version": "1.5.0",
            "_view_name": "HTMLView",
            "description": "",
            "description_tooltip": null,
            "layout": "IPY_MODEL_7445578c43794cc78308f06f28a09017",
            "placeholder": "​",
            "style": "IPY_MODEL_07f8c8151a5949cd8975420c80cafb53",
            "value": "tokenizer.json: 100%"
          }
        },
        "87d505d5b7784403a79f5df6445f49a0": {
          "model_module": "@jupyter-widgets/controls",
          "model_name": "FloatProgressModel",
          "model_module_version": "1.5.0",
          "state": {
            "_dom_classes": [],
            "_model_module": "@jupyter-widgets/controls",
            "_model_module_version": "1.5.0",
            "_model_name": "FloatProgressModel",
            "_view_count": null,
            "_view_module": "@jupyter-widgets/controls",
            "_view_module_version": "1.5.0",
            "_view_name": "ProgressView",
            "bar_style": "success",
            "description": "",
            "description_tooltip": null,
            "layout": "IPY_MODEL_afe5327feea740b2885da71957138374",
            "max": 2642362,
            "min": 0,
            "orientation": "horizontal",
            "style": "IPY_MODEL_d290b5c4a9344b9d95a02d5c880da5db",
            "value": 2642362
          }
        },
        "36a8c9e2dd3141eead843ce8753f12a1": {
          "model_module": "@jupyter-widgets/controls",
          "model_name": "HTMLModel",
          "model_module_version": "1.5.0",
          "state": {
            "_dom_classes": [],
            "_model_module": "@jupyter-widgets/controls",
            "_model_module_version": "1.5.0",
            "_model_name": "HTMLModel",
            "_view_count": null,
            "_view_module": "@jupyter-widgets/controls",
            "_view_module_version": "1.5.0",
            "_view_name": "HTMLView",
            "description": "",
            "description_tooltip": null,
            "layout": "IPY_MODEL_620a07900e7b4fb29cb6f545f470ddd3",
            "placeholder": "​",
            "style": "IPY_MODEL_3fa96a1ad90f452ba44070039cab6433",
            "value": " 2.64M/2.64M [00:00&lt;00:00, 11.5MB/s]"
          }
        },
        "1c157c0b92674cdfb23bbc1eaad262fa": {
          "model_module": "@jupyter-widgets/base",
          "model_name": "LayoutModel",
          "model_module_version": "1.2.0",
          "state": {
            "_model_module": "@jupyter-widgets/base",
            "_model_module_version": "1.2.0",
            "_model_name": "LayoutModel",
            "_view_count": null,
            "_view_module": "@jupyter-widgets/base",
            "_view_module_version": "1.2.0",
            "_view_name": "LayoutView",
            "align_content": null,
            "align_items": null,
            "align_self": null,
            "border": null,
            "bottom": null,
            "display": null,
            "flex": null,
            "flex_flow": null,
            "grid_area": null,
            "grid_auto_columns": null,
            "grid_auto_flow": null,
            "grid_auto_rows": null,
            "grid_column": null,
            "grid_gap": null,
            "grid_row": null,
            "grid_template_areas": null,
            "grid_template_columns": null,
            "grid_template_rows": null,
            "height": null,
            "justify_content": null,
            "justify_items": null,
            "left": null,
            "margin": null,
            "max_height": null,
            "max_width": null,
            "min_height": null,
            "min_width": null,
            "object_fit": null,
            "object_position": null,
            "order": null,
            "overflow": null,
            "overflow_x": null,
            "overflow_y": null,
            "padding": null,
            "right": null,
            "top": null,
            "visibility": null,
            "width": null
          }
        },
        "7445578c43794cc78308f06f28a09017": {
          "model_module": "@jupyter-widgets/base",
          "model_name": "LayoutModel",
          "model_module_version": "1.2.0",
          "state": {
            "_model_module": "@jupyter-widgets/base",
            "_model_module_version": "1.2.0",
            "_model_name": "LayoutModel",
            "_view_count": null,
            "_view_module": "@jupyter-widgets/base",
            "_view_module_version": "1.2.0",
            "_view_name": "LayoutView",
            "align_content": null,
            "align_items": null,
            "align_self": null,
            "border": null,
            "bottom": null,
            "display": null,
            "flex": null,
            "flex_flow": null,
            "grid_area": null,
            "grid_auto_columns": null,
            "grid_auto_flow": null,
            "grid_auto_rows": null,
            "grid_column": null,
            "grid_gap": null,
            "grid_row": null,
            "grid_template_areas": null,
            "grid_template_columns": null,
            "grid_template_rows": null,
            "height": null,
            "justify_content": null,
            "justify_items": null,
            "left": null,
            "margin": null,
            "max_height": null,
            "max_width": null,
            "min_height": null,
            "min_width": null,
            "object_fit": null,
            "object_position": null,
            "order": null,
            "overflow": null,
            "overflow_x": null,
            "overflow_y": null,
            "padding": null,
            "right": null,
            "top": null,
            "visibility": null,
            "width": null
          }
        },
        "07f8c8151a5949cd8975420c80cafb53": {
          "model_module": "@jupyter-widgets/controls",
          "model_name": "DescriptionStyleModel",
          "model_module_version": "1.5.0",
          "state": {
            "_model_module": "@jupyter-widgets/controls",
            "_model_module_version": "1.5.0",
            "_model_name": "DescriptionStyleModel",
            "_view_count": null,
            "_view_module": "@jupyter-widgets/base",
            "_view_module_version": "1.2.0",
            "_view_name": "StyleView",
            "description_width": ""
          }
        },
        "afe5327feea740b2885da71957138374": {
          "model_module": "@jupyter-widgets/base",
          "model_name": "LayoutModel",
          "model_module_version": "1.2.0",
          "state": {
            "_model_module": "@jupyter-widgets/base",
            "_model_module_version": "1.2.0",
            "_model_name": "LayoutModel",
            "_view_count": null,
            "_view_module": "@jupyter-widgets/base",
            "_view_module_version": "1.2.0",
            "_view_name": "LayoutView",
            "align_content": null,
            "align_items": null,
            "align_self": null,
            "border": null,
            "bottom": null,
            "display": null,
            "flex": null,
            "flex_flow": null,
            "grid_area": null,
            "grid_auto_columns": null,
            "grid_auto_flow": null,
            "grid_auto_rows": null,
            "grid_column": null,
            "grid_gap": null,
            "grid_row": null,
            "grid_template_areas": null,
            "grid_template_columns": null,
            "grid_template_rows": null,
            "height": null,
            "justify_content": null,
            "justify_items": null,
            "left": null,
            "margin": null,
            "max_height": null,
            "max_width": null,
            "min_height": null,
            "min_width": null,
            "object_fit": null,
            "object_position": null,
            "order": null,
            "overflow": null,
            "overflow_x": null,
            "overflow_y": null,
            "padding": null,
            "right": null,
            "top": null,
            "visibility": null,
            "width": null
          }
        },
        "d290b5c4a9344b9d95a02d5c880da5db": {
          "model_module": "@jupyter-widgets/controls",
          "model_name": "ProgressStyleModel",
          "model_module_version": "1.5.0",
          "state": {
            "_model_module": "@jupyter-widgets/controls",
            "_model_module_version": "1.5.0",
            "_model_name": "ProgressStyleModel",
            "_view_count": null,
            "_view_module": "@jupyter-widgets/base",
            "_view_module_version": "1.2.0",
            "_view_name": "StyleView",
            "bar_color": null,
            "description_width": ""
          }
        },
        "620a07900e7b4fb29cb6f545f470ddd3": {
          "model_module": "@jupyter-widgets/base",
          "model_name": "LayoutModel",
          "model_module_version": "1.2.0",
          "state": {
            "_model_module": "@jupyter-widgets/base",
            "_model_module_version": "1.2.0",
            "_model_name": "LayoutModel",
            "_view_count": null,
            "_view_module": "@jupyter-widgets/base",
            "_view_module_version": "1.2.0",
            "_view_name": "LayoutView",
            "align_content": null,
            "align_items": null,
            "align_self": null,
            "border": null,
            "bottom": null,
            "display": null,
            "flex": null,
            "flex_flow": null,
            "grid_area": null,
            "grid_auto_columns": null,
            "grid_auto_flow": null,
            "grid_auto_rows": null,
            "grid_column": null,
            "grid_gap": null,
            "grid_row": null,
            "grid_template_areas": null,
            "grid_template_columns": null,
            "grid_template_rows": null,
            "height": null,
            "justify_content": null,
            "justify_items": null,
            "left": null,
            "margin": null,
            "max_height": null,
            "max_width": null,
            "min_height": null,
            "min_width": null,
            "object_fit": null,
            "object_position": null,
            "order": null,
            "overflow": null,
            "overflow_x": null,
            "overflow_y": null,
            "padding": null,
            "right": null,
            "top": null,
            "visibility": null,
            "width": null
          }
        },
        "3fa96a1ad90f452ba44070039cab6433": {
          "model_module": "@jupyter-widgets/controls",
          "model_name": "DescriptionStyleModel",
          "model_module_version": "1.5.0",
          "state": {
            "_model_module": "@jupyter-widgets/controls",
            "_model_module_version": "1.5.0",
            "_model_name": "DescriptionStyleModel",
            "_view_count": null,
            "_view_module": "@jupyter-widgets/base",
            "_view_module_version": "1.2.0",
            "_view_name": "StyleView",
            "description_width": ""
          }
        },
        "62b91e28b2524e09b5a2ed3e5ca9711f": {
          "model_module": "@jupyter-widgets/controls",
          "model_name": "HBoxModel",
          "model_module_version": "1.5.0",
          "state": {
            "_dom_classes": [],
            "_model_module": "@jupyter-widgets/controls",
            "_model_module_version": "1.5.0",
            "_model_name": "HBoxModel",
            "_view_count": null,
            "_view_module": "@jupyter-widgets/controls",
            "_view_module_version": "1.5.0",
            "_view_name": "HBoxView",
            "box_style": "",
            "children": [
              "IPY_MODEL_2241e37bd3bf46ae9af1b966f99851d1",
              "IPY_MODEL_5385f647915b49ea8a707e57a945b559",
              "IPY_MODEL_db950779a07b4aeea8fcf02d884fb542"
            ],
            "layout": "IPY_MODEL_cff573c873ef4eccba5a09ae97918d75"
          }
        },
        "2241e37bd3bf46ae9af1b966f99851d1": {
          "model_module": "@jupyter-widgets/controls",
          "model_name": "HTMLModel",
          "model_module_version": "1.5.0",
          "state": {
            "_dom_classes": [],
            "_model_module": "@jupyter-widgets/controls",
            "_model_module_version": "1.5.0",
            "_model_name": "HTMLModel",
            "_view_count": null,
            "_view_module": "@jupyter-widgets/controls",
            "_view_module_version": "1.5.0",
            "_view_name": "HTMLView",
            "description": "",
            "description_tooltip": null,
            "layout": "IPY_MODEL_08f1922d55fb43bda05d487d0b88f559",
            "placeholder": "​",
            "style": "IPY_MODEL_b0d5d420efad4fccb061eade0a1af061",
            "value": "special_tokens_map.json: 100%"
          }
        },
        "5385f647915b49ea8a707e57a945b559": {
          "model_module": "@jupyter-widgets/controls",
          "model_name": "FloatProgressModel",
          "model_module_version": "1.5.0",
          "state": {
            "_dom_classes": [],
            "_model_module": "@jupyter-widgets/controls",
            "_model_module_version": "1.5.0",
            "_model_name": "FloatProgressModel",
            "_view_count": null,
            "_view_module": "@jupyter-widgets/controls",
            "_view_module_version": "1.5.0",
            "_view_name": "ProgressView",
            "bar_style": "success",
            "description": "",
            "description_tooltip": null,
            "layout": "IPY_MODEL_aba85f09a63f4694a9080cb59f5e4059",
            "max": 112,
            "min": 0,
            "orientation": "horizontal",
            "style": "IPY_MODEL_336688da86214741811d86967619e905",
            "value": 112
          }
        },
        "db950779a07b4aeea8fcf02d884fb542": {
          "model_module": "@jupyter-widgets/controls",
          "model_name": "HTMLModel",
          "model_module_version": "1.5.0",
          "state": {
            "_dom_classes": [],
            "_model_module": "@jupyter-widgets/controls",
            "_model_module_version": "1.5.0",
            "_model_name": "HTMLModel",
            "_view_count": null,
            "_view_module": "@jupyter-widgets/controls",
            "_view_module_version": "1.5.0",
            "_view_name": "HTMLView",
            "description": "",
            "description_tooltip": null,
            "layout": "IPY_MODEL_40e97b28841b4fc884e11dce3248ebbe",
            "placeholder": "​",
            "style": "IPY_MODEL_90f70e070b3e4b159dcdf33806672a23",
            "value": " 112/112 [00:00&lt;00:00, 5.72kB/s]"
          }
        },
        "cff573c873ef4eccba5a09ae97918d75": {
          "model_module": "@jupyter-widgets/base",
          "model_name": "LayoutModel",
          "model_module_version": "1.2.0",
          "state": {
            "_model_module": "@jupyter-widgets/base",
            "_model_module_version": "1.2.0",
            "_model_name": "LayoutModel",
            "_view_count": null,
            "_view_module": "@jupyter-widgets/base",
            "_view_module_version": "1.2.0",
            "_view_name": "LayoutView",
            "align_content": null,
            "align_items": null,
            "align_self": null,
            "border": null,
            "bottom": null,
            "display": null,
            "flex": null,
            "flex_flow": null,
            "grid_area": null,
            "grid_auto_columns": null,
            "grid_auto_flow": null,
            "grid_auto_rows": null,
            "grid_column": null,
            "grid_gap": null,
            "grid_row": null,
            "grid_template_areas": null,
            "grid_template_columns": null,
            "grid_template_rows": null,
            "height": null,
            "justify_content": null,
            "justify_items": null,
            "left": null,
            "margin": null,
            "max_height": null,
            "max_width": null,
            "min_height": null,
            "min_width": null,
            "object_fit": null,
            "object_position": null,
            "order": null,
            "overflow": null,
            "overflow_x": null,
            "overflow_y": null,
            "padding": null,
            "right": null,
            "top": null,
            "visibility": null,
            "width": null
          }
        },
        "08f1922d55fb43bda05d487d0b88f559": {
          "model_module": "@jupyter-widgets/base",
          "model_name": "LayoutModel",
          "model_module_version": "1.2.0",
          "state": {
            "_model_module": "@jupyter-widgets/base",
            "_model_module_version": "1.2.0",
            "_model_name": "LayoutModel",
            "_view_count": null,
            "_view_module": "@jupyter-widgets/base",
            "_view_module_version": "1.2.0",
            "_view_name": "LayoutView",
            "align_content": null,
            "align_items": null,
            "align_self": null,
            "border": null,
            "bottom": null,
            "display": null,
            "flex": null,
            "flex_flow": null,
            "grid_area": null,
            "grid_auto_columns": null,
            "grid_auto_flow": null,
            "grid_auto_rows": null,
            "grid_column": null,
            "grid_gap": null,
            "grid_row": null,
            "grid_template_areas": null,
            "grid_template_columns": null,
            "grid_template_rows": null,
            "height": null,
            "justify_content": null,
            "justify_items": null,
            "left": null,
            "margin": null,
            "max_height": null,
            "max_width": null,
            "min_height": null,
            "min_width": null,
            "object_fit": null,
            "object_position": null,
            "order": null,
            "overflow": null,
            "overflow_x": null,
            "overflow_y": null,
            "padding": null,
            "right": null,
            "top": null,
            "visibility": null,
            "width": null
          }
        },
        "b0d5d420efad4fccb061eade0a1af061": {
          "model_module": "@jupyter-widgets/controls",
          "model_name": "DescriptionStyleModel",
          "model_module_version": "1.5.0",
          "state": {
            "_model_module": "@jupyter-widgets/controls",
            "_model_module_version": "1.5.0",
            "_model_name": "DescriptionStyleModel",
            "_view_count": null,
            "_view_module": "@jupyter-widgets/base",
            "_view_module_version": "1.2.0",
            "_view_name": "StyleView",
            "description_width": ""
          }
        },
        "aba85f09a63f4694a9080cb59f5e4059": {
          "model_module": "@jupyter-widgets/base",
          "model_name": "LayoutModel",
          "model_module_version": "1.2.0",
          "state": {
            "_model_module": "@jupyter-widgets/base",
            "_model_module_version": "1.2.0",
            "_model_name": "LayoutModel",
            "_view_count": null,
            "_view_module": "@jupyter-widgets/base",
            "_view_module_version": "1.2.0",
            "_view_name": "LayoutView",
            "align_content": null,
            "align_items": null,
            "align_self": null,
            "border": null,
            "bottom": null,
            "display": null,
            "flex": null,
            "flex_flow": null,
            "grid_area": null,
            "grid_auto_columns": null,
            "grid_auto_flow": null,
            "grid_auto_rows": null,
            "grid_column": null,
            "grid_gap": null,
            "grid_row": null,
            "grid_template_areas": null,
            "grid_template_columns": null,
            "grid_template_rows": null,
            "height": null,
            "justify_content": null,
            "justify_items": null,
            "left": null,
            "margin": null,
            "max_height": null,
            "max_width": null,
            "min_height": null,
            "min_width": null,
            "object_fit": null,
            "object_position": null,
            "order": null,
            "overflow": null,
            "overflow_x": null,
            "overflow_y": null,
            "padding": null,
            "right": null,
            "top": null,
            "visibility": null,
            "width": null
          }
        },
        "336688da86214741811d86967619e905": {
          "model_module": "@jupyter-widgets/controls",
          "model_name": "ProgressStyleModel",
          "model_module_version": "1.5.0",
          "state": {
            "_model_module": "@jupyter-widgets/controls",
            "_model_module_version": "1.5.0",
            "_model_name": "ProgressStyleModel",
            "_view_count": null,
            "_view_module": "@jupyter-widgets/base",
            "_view_module_version": "1.2.0",
            "_view_name": "StyleView",
            "bar_color": null,
            "description_width": ""
          }
        },
        "40e97b28841b4fc884e11dce3248ebbe": {
          "model_module": "@jupyter-widgets/base",
          "model_name": "LayoutModel",
          "model_module_version": "1.2.0",
          "state": {
            "_model_module": "@jupyter-widgets/base",
            "_model_module_version": "1.2.0",
            "_model_name": "LayoutModel",
            "_view_count": null,
            "_view_module": "@jupyter-widgets/base",
            "_view_module_version": "1.2.0",
            "_view_name": "LayoutView",
            "align_content": null,
            "align_items": null,
            "align_self": null,
            "border": null,
            "bottom": null,
            "display": null,
            "flex": null,
            "flex_flow": null,
            "grid_area": null,
            "grid_auto_columns": null,
            "grid_auto_flow": null,
            "grid_auto_rows": null,
            "grid_column": null,
            "grid_gap": null,
            "grid_row": null,
            "grid_template_areas": null,
            "grid_template_columns": null,
            "grid_template_rows": null,
            "height": null,
            "justify_content": null,
            "justify_items": null,
            "left": null,
            "margin": null,
            "max_height": null,
            "max_width": null,
            "min_height": null,
            "min_width": null,
            "object_fit": null,
            "object_position": null,
            "order": null,
            "overflow": null,
            "overflow_x": null,
            "overflow_y": null,
            "padding": null,
            "right": null,
            "top": null,
            "visibility": null,
            "width": null
          }
        },
        "90f70e070b3e4b159dcdf33806672a23": {
          "model_module": "@jupyter-widgets/controls",
          "model_name": "DescriptionStyleModel",
          "model_module_version": "1.5.0",
          "state": {
            "_model_module": "@jupyter-widgets/controls",
            "_model_module_version": "1.5.0",
            "_model_name": "DescriptionStyleModel",
            "_view_count": null,
            "_view_module": "@jupyter-widgets/base",
            "_view_module_version": "1.2.0",
            "_view_name": "StyleView",
            "description_width": ""
          }
        }
      }
    }
  },
  "nbformat": 4,
  "nbformat_minor": 5
}